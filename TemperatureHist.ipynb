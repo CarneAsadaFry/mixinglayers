{
 "cells": [
  {
   "cell_type": "code",
   "execution_count": 10,
   "metadata": {},
   "outputs": [],
   "source": [
    "%matplotlib notebook\n",
    "import numpy as np\n",
    "import yt\n",
    "import glob\n",
    "import matplotlib\n",
    "import matplotlib.pyplot as plt"
   ]
  },
  {
   "cell_type": "markdown",
   "metadata": {},
   "source": [
    "### Loading all of the Data sets"
   ]
  },
  {
   "cell_type": "code",
   "execution_count": 12,
   "metadata": {
    "collapsed": true,
    "jupyter": {
     "outputs_hidden": true
    }
   },
   "outputs": [
    {
     "name": "stdout",
     "output_type": "stream",
     "text": [
      "['../mixinglayers/data/pgen_v1\\\\mixing_layer.out1.00000.athdf', '../mixinglayers/data/pgen_v1\\\\mixing_layer.out1.00001.athdf', '../mixinglayers/data/pgen_v1\\\\mixing_layer.out1.00002.athdf', '../mixinglayers/data/pgen_v1\\\\mixing_layer.out1.00003.athdf', '../mixinglayers/data/pgen_v1\\\\mixing_layer.out1.00004.athdf', '../mixinglayers/data/pgen_v1\\\\mixing_layer.out1.00005.athdf', '../mixinglayers/data/pgen_v1\\\\mixing_layer.out1.00006.athdf', '../mixinglayers/data/pgen_v1\\\\mixing_layer.out1.00007.athdf', '../mixinglayers/data/pgen_v1\\\\mixing_layer.out1.00008.athdf', '../mixinglayers/data/pgen_v1\\\\mixing_layer.out1.00009.athdf', '../mixinglayers/data/pgen_v1\\\\mixing_layer.out1.00010.athdf', '../mixinglayers/data/pgen_v1\\\\mixing_layer.out1.00011.athdf', '../mixinglayers/data/pgen_v1\\\\mixing_layer.out1.00012.athdf', '../mixinglayers/data/pgen_v1\\\\mixing_layer.out1.00013.athdf', '../mixinglayers/data/pgen_v1\\\\mixing_layer.out1.00014.athdf', '../mixinglayers/data/pgen_v1\\\\mixing_layer.out1.00015.athdf', '../mixinglayers/data/pgen_v1\\\\mixing_layer.out1.00016.athdf', '../mixinglayers/data/pgen_v1\\\\mixing_layer.out1.00017.athdf', '../mixinglayers/data/pgen_v1\\\\mixing_layer.out1.00018.athdf', '../mixinglayers/data/pgen_v1\\\\mixing_layer.out1.00019.athdf', '../mixinglayers/data/pgen_v1\\\\mixing_layer.out1.00020.athdf', '../mixinglayers/data/pgen_v1\\\\mixing_layer.out1.00021.athdf', '../mixinglayers/data/pgen_v1\\\\mixing_layer.out1.00022.athdf', '../mixinglayers/data/pgen_v1\\\\mixing_layer.out1.00023.athdf', '../mixinglayers/data/pgen_v1\\\\mixing_layer.out1.00024.athdf', '../mixinglayers/data/pgen_v1\\\\mixing_layer.out1.00025.athdf', '../mixinglayers/data/pgen_v1\\\\mixing_layer.out1.00026.athdf', '../mixinglayers/data/pgen_v1\\\\mixing_layer.out1.00027.athdf', '../mixinglayers/data/pgen_v1\\\\mixing_layer.out1.00028.athdf', '../mixinglayers/data/pgen_v1\\\\mixing_layer.out1.00029.athdf', '../mixinglayers/data/pgen_v1\\\\mixing_layer.out1.00030.athdf', '../mixinglayers/data/pgen_v1\\\\mixing_layer.out1.00031.athdf', '../mixinglayers/data/pgen_v1\\\\mixing_layer.out1.00032.athdf', '../mixinglayers/data/pgen_v1\\\\mixing_layer.out1.00033.athdf', '../mixinglayers/data/pgen_v1\\\\mixing_layer.out1.00034.athdf', '../mixinglayers/data/pgen_v1\\\\mixing_layer.out1.00035.athdf', '../mixinglayers/data/pgen_v1\\\\mixing_layer.out1.00036.athdf', '../mixinglayers/data/pgen_v1\\\\mixing_layer.out1.00037.athdf', '../mixinglayers/data/pgen_v1\\\\mixing_layer.out1.00038.athdf', '../mixinglayers/data/pgen_v1\\\\mixing_layer.out1.00039.athdf', '../mixinglayers/data/pgen_v1\\\\mixing_layer.out1.00040.athdf', '../mixinglayers/data/pgen_v1\\\\mixing_layer.out1.00041.athdf', '../mixinglayers/data/pgen_v1\\\\mixing_layer.out1.00042.athdf', '../mixinglayers/data/pgen_v1\\\\mixing_layer.out1.00043.athdf', '../mixinglayers/data/pgen_v1\\\\mixing_layer.out1.00044.athdf', '../mixinglayers/data/pgen_v1\\\\mixing_layer.out1.00045.athdf', '../mixinglayers/data/pgen_v1\\\\mixing_layer.out1.00046.athdf', '../mixinglayers/data/pgen_v1\\\\mixing_layer.out1.00047.athdf', '../mixinglayers/data/pgen_v1\\\\mixing_layer.out1.00048.athdf', '../mixinglayers/data/pgen_v1\\\\mixing_layer.out1.00049.athdf', '../mixinglayers/data/pgen_v1\\\\mixing_layer.out1.00050.athdf', '../mixinglayers/data/pgen_v1\\\\mixing_layer.out1.00051.athdf', '../mixinglayers/data/pgen_v1\\\\mixing_layer.out1.00052.athdf', '../mixinglayers/data/pgen_v1\\\\mixing_layer.out1.00053.athdf', '../mixinglayers/data/pgen_v1\\\\mixing_layer.out1.00054.athdf', '../mixinglayers/data/pgen_v1\\\\mixing_layer.out1.00055.athdf', '../mixinglayers/data/pgen_v1\\\\mixing_layer.out1.00056.athdf', '../mixinglayers/data/pgen_v1\\\\mixing_layer.out1.00057.athdf', '../mixinglayers/data/pgen_v1\\\\mixing_layer.out1.00058.athdf', '../mixinglayers/data/pgen_v1\\\\mixing_layer.out1.00059.athdf', '../mixinglayers/data/pgen_v1\\\\mixing_layer.out1.00060.athdf', '../mixinglayers/data/pgen_v1\\\\mixing_layer.out1.00061.athdf', '../mixinglayers/data/pgen_v1\\\\mixing_layer.out1.00062.athdf', '../mixinglayers/data/pgen_v1\\\\mixing_layer.out1.00063.athdf', '../mixinglayers/data/pgen_v1\\\\mixing_layer.out1.00064.athdf', '../mixinglayers/data/pgen_v1\\\\mixing_layer.out1.00065.athdf', '../mixinglayers/data/pgen_v1\\\\mixing_layer.out1.00066.athdf', '../mixinglayers/data/pgen_v1\\\\mixing_layer.out1.00067.athdf', '../mixinglayers/data/pgen_v1\\\\mixing_layer.out1.00068.athdf', '../mixinglayers/data/pgen_v1\\\\mixing_layer.out1.00069.athdf', '../mixinglayers/data/pgen_v1\\\\mixing_layer.out1.00070.athdf', '../mixinglayers/data/pgen_v1\\\\mixing_layer.out1.00071.athdf', '../mixinglayers/data/pgen_v1\\\\mixing_layer.out1.00072.athdf', '../mixinglayers/data/pgen_v1\\\\mixing_layer.out1.00073.athdf', '../mixinglayers/data/pgen_v1\\\\mixing_layer.out1.00074.athdf', '../mixinglayers/data/pgen_v1\\\\mixing_layer.out1.00075.athdf', '../mixinglayers/data/pgen_v1\\\\mixing_layer.out1.00076.athdf', '../mixinglayers/data/pgen_v1\\\\mixing_layer.out1.00077.athdf', '../mixinglayers/data/pgen_v1\\\\mixing_layer.out1.00078.athdf', '../mixinglayers/data/pgen_v1\\\\mixing_layer.out1.00079.athdf', '../mixinglayers/data/pgen_v1\\\\mixing_layer.out1.00080.athdf', '../mixinglayers/data/pgen_v1\\\\mixing_layer.out1.00081.athdf', '../mixinglayers/data/pgen_v1\\\\mixing_layer.out1.00082.athdf', '../mixinglayers/data/pgen_v1\\\\mixing_layer.out1.00083.athdf', '../mixinglayers/data/pgen_v1\\\\mixing_layer.out1.00084.athdf', '../mixinglayers/data/pgen_v1\\\\mixing_layer.out1.00085.athdf', '../mixinglayers/data/pgen_v1\\\\mixing_layer.out1.00086.athdf', '../mixinglayers/data/pgen_v1\\\\mixing_layer.out1.00087.athdf', '../mixinglayers/data/pgen_v1\\\\mixing_layer.out1.00088.athdf', '../mixinglayers/data/pgen_v1\\\\mixing_layer.out1.00089.athdf', '../mixinglayers/data/pgen_v1\\\\mixing_layer.out1.00090.athdf', '../mixinglayers/data/pgen_v1\\\\mixing_layer.out1.00091.athdf', '../mixinglayers/data/pgen_v1\\\\mixing_layer.out1.00092.athdf', '../mixinglayers/data/pgen_v1\\\\mixing_layer.out1.00093.athdf', '../mixinglayers/data/pgen_v1\\\\mixing_layer.out1.00094.athdf', '../mixinglayers/data/pgen_v1\\\\mixing_layer.out1.00095.athdf', '../mixinglayers/data/pgen_v1\\\\mixing_layer.out1.00096.athdf', '../mixinglayers/data/pgen_v1\\\\mixing_layer.out1.00097.athdf', '../mixinglayers/data/pgen_v1\\\\mixing_layer.out1.00098.athdf', '../mixinglayers/data/pgen_v1\\\\mixing_layer.out1.00099.athdf', '../mixinglayers/data/pgen_v1\\\\mixing_layer.out1.00100.athdf', '../mixinglayers/data/pgen_v1\\\\mixing_layer.out1.00101.athdf', '../mixinglayers/data/pgen_v1\\\\mixing_layer.out1.00102.athdf', '../mixinglayers/data/pgen_v1\\\\mixing_layer.out1.00103.athdf', '../mixinglayers/data/pgen_v1\\\\mixing_layer.out1.00104.athdf', '../mixinglayers/data/pgen_v1\\\\mixing_layer.out1.00105.athdf', '../mixinglayers/data/pgen_v1\\\\mixing_layer.out1.00106.athdf', '../mixinglayers/data/pgen_v1\\\\mixing_layer.out1.00107.athdf', '../mixinglayers/data/pgen_v1\\\\mixing_layer.out1.00108.athdf', '../mixinglayers/data/pgen_v1\\\\mixing_layer.out1.00109.athdf', '../mixinglayers/data/pgen_v1\\\\mixing_layer.out1.00110.athdf', '../mixinglayers/data/pgen_v1\\\\mixing_layer.out1.00111.athdf', '../mixinglayers/data/pgen_v1\\\\mixing_layer.out1.00112.athdf', '../mixinglayers/data/pgen_v1\\\\mixing_layer.out1.00113.athdf', '../mixinglayers/data/pgen_v1\\\\mixing_layer.out1.00114.athdf', '../mixinglayers/data/pgen_v1\\\\mixing_layer.out1.00115.athdf', '../mixinglayers/data/pgen_v1\\\\mixing_layer.out1.00116.athdf', '../mixinglayers/data/pgen_v1\\\\mixing_layer.out1.00117.athdf', '../mixinglayers/data/pgen_v1\\\\mixing_layer.out1.00118.athdf', '../mixinglayers/data/pgen_v1\\\\mixing_layer.out1.00119.athdf', '../mixinglayers/data/pgen_v1\\\\mixing_layer.out1.00120.athdf', '../mixinglayers/data/pgen_v1\\\\mixing_layer.out1.00121.athdf', '../mixinglayers/data/pgen_v1\\\\mixing_layer.out1.00122.athdf', '../mixinglayers/data/pgen_v1\\\\mixing_layer.out1.00123.athdf', '../mixinglayers/data/pgen_v1\\\\mixing_layer.out1.00124.athdf', '../mixinglayers/data/pgen_v1\\\\mixing_layer.out1.00125.athdf', '../mixinglayers/data/pgen_v1\\\\mixing_layer.out1.00126.athdf', '../mixinglayers/data/pgen_v1\\\\mixing_layer.out1.00127.athdf', '../mixinglayers/data/pgen_v1\\\\mixing_layer.out1.00128.athdf', '../mixinglayers/data/pgen_v1\\\\mixing_layer.out1.00129.athdf', '../mixinglayers/data/pgen_v1\\\\mixing_layer.out1.00130.athdf', '../mixinglayers/data/pgen_v1\\\\mixing_layer.out1.00131.athdf', '../mixinglayers/data/pgen_v1\\\\mixing_layer.out1.00132.athdf', '../mixinglayers/data/pgen_v1\\\\mixing_layer.out1.00133.athdf', '../mixinglayers/data/pgen_v1\\\\mixing_layer.out1.00134.athdf', '../mixinglayers/data/pgen_v1\\\\mixing_layer.out1.00135.athdf', '../mixinglayers/data/pgen_v1\\\\mixing_layer.out1.00136.athdf', '../mixinglayers/data/pgen_v1\\\\mixing_layer.out1.00137.athdf', '../mixinglayers/data/pgen_v1\\\\mixing_layer.out1.00138.athdf', '../mixinglayers/data/pgen_v1\\\\mixing_layer.out1.00139.athdf', '../mixinglayers/data/pgen_v1\\\\mixing_layer.out1.00140.athdf', '../mixinglayers/data/pgen_v1\\\\mixing_layer.out1.00141.athdf', '../mixinglayers/data/pgen_v1\\\\mixing_layer.out1.00142.athdf', '../mixinglayers/data/pgen_v1\\\\mixing_layer.out1.00143.athdf', '../mixinglayers/data/pgen_v1\\\\mixing_layer.out1.00144.athdf', '../mixinglayers/data/pgen_v1\\\\mixing_layer.out1.00145.athdf', '../mixinglayers/data/pgen_v1\\\\mixing_layer.out1.00146.athdf', '../mixinglayers/data/pgen_v1\\\\mixing_layer.out1.00147.athdf', '../mixinglayers/data/pgen_v1\\\\mixing_layer.out1.00148.athdf', '../mixinglayers/data/pgen_v1\\\\mixing_layer.out1.00149.athdf', '../mixinglayers/data/pgen_v1\\\\mixing_layer.out1.00150.athdf', '../mixinglayers/data/pgen_v1\\\\mixing_layer.out1.00151.athdf', '../mixinglayers/data/pgen_v1\\\\mixing_layer.out1.00152.athdf', '../mixinglayers/data/pgen_v1\\\\mixing_layer.out1.00153.athdf', '../mixinglayers/data/pgen_v1\\\\mixing_layer.out1.00154.athdf', '../mixinglayers/data/pgen_v1\\\\mixing_layer.out1.00155.athdf', '../mixinglayers/data/pgen_v1\\\\mixing_layer.out1.00156.athdf', '../mixinglayers/data/pgen_v1\\\\mixing_layer.out1.00157.athdf', '../mixinglayers/data/pgen_v1\\\\mixing_layer.out1.00158.athdf', '../mixinglayers/data/pgen_v1\\\\mixing_layer.out1.00159.athdf', '../mixinglayers/data/pgen_v1\\\\mixing_layer.out1.00160.athdf', '../mixinglayers/data/pgen_v1\\\\mixing_layer.out1.00161.athdf', '../mixinglayers/data/pgen_v1\\\\mixing_layer.out1.00162.athdf', '../mixinglayers/data/pgen_v1\\\\mixing_layer.out1.00163.athdf', '../mixinglayers/data/pgen_v1\\\\mixing_layer.out1.00164.athdf', '../mixinglayers/data/pgen_v1\\\\mixing_layer.out1.00165.athdf', '../mixinglayers/data/pgen_v1\\\\mixing_layer.out1.00166.athdf', '../mixinglayers/data/pgen_v1\\\\mixing_layer.out1.00167.athdf', '../mixinglayers/data/pgen_v1\\\\mixing_layer.out1.00168.athdf', '../mixinglayers/data/pgen_v1\\\\mixing_layer.out1.00169.athdf', '../mixinglayers/data/pgen_v1\\\\mixing_layer.out1.00170.athdf', '../mixinglayers/data/pgen_v1\\\\mixing_layer.out1.00171.athdf', '../mixinglayers/data/pgen_v1\\\\mixing_layer.out1.00172.athdf', '../mixinglayers/data/pgen_v1\\\\mixing_layer.out1.00173.athdf', '../mixinglayers/data/pgen_v1\\\\mixing_layer.out1.00174.athdf', '../mixinglayers/data/pgen_v1\\\\mixing_layer.out1.00175.athdf', '../mixinglayers/data/pgen_v1\\\\mixing_layer.out1.00176.athdf', '../mixinglayers/data/pgen_v1\\\\mixing_layer.out1.00177.athdf', '../mixinglayers/data/pgen_v1\\\\mixing_layer.out1.00178.athdf', '../mixinglayers/data/pgen_v1\\\\mixing_layer.out1.00179.athdf', '../mixinglayers/data/pgen_v1\\\\mixing_layer.out1.00180.athdf', '../mixinglayers/data/pgen_v1\\\\mixing_layer.out1.00181.athdf', '../mixinglayers/data/pgen_v1\\\\mixing_layer.out1.00182.athdf', '../mixinglayers/data/pgen_v1\\\\mixing_layer.out1.00183.athdf', '../mixinglayers/data/pgen_v1\\\\mixing_layer.out1.00184.athdf', '../mixinglayers/data/pgen_v1\\\\mixing_layer.out1.00185.athdf', '../mixinglayers/data/pgen_v1\\\\mixing_layer.out1.00186.athdf', '../mixinglayers/data/pgen_v1\\\\mixing_layer.out1.00187.athdf', '../mixinglayers/data/pgen_v1\\\\mixing_layer.out1.00188.athdf', '../mixinglayers/data/pgen_v1\\\\mixing_layer.out1.00189.athdf', '../mixinglayers/data/pgen_v1\\\\mixing_layer.out1.00190.athdf', '../mixinglayers/data/pgen_v1\\\\mixing_layer.out1.00191.athdf', '../mixinglayers/data/pgen_v1\\\\mixing_layer.out1.00192.athdf', '../mixinglayers/data/pgen_v1\\\\mixing_layer.out1.00193.athdf', '../mixinglayers/data/pgen_v1\\\\mixing_layer.out1.00194.athdf', '../mixinglayers/data/pgen_v1\\\\mixing_layer.out1.00195.athdf', '../mixinglayers/data/pgen_v1\\\\mixing_layer.out1.00196.athdf', '../mixinglayers/data/pgen_v1\\\\mixing_layer.out1.00197.athdf', '../mixinglayers/data/pgen_v1\\\\mixing_layer.out1.00198.athdf', '../mixinglayers/data/pgen_v1\\\\mixing_layer.out1.00199.athdf', '../mixinglayers/data/pgen_v1\\\\mixing_layer.out1.00200.athdf', '../mixinglayers/data/pgen_v1\\\\mixing_layer.out1.00201.athdf', '../mixinglayers/data/pgen_v1\\\\mixing_layer.out1.00202.athdf', '../mixinglayers/data/pgen_v1\\\\mixing_layer.out1.00203.athdf', '../mixinglayers/data/pgen_v1\\\\mixing_layer.out1.00204.athdf', '../mixinglayers/data/pgen_v1\\\\mixing_layer.out1.00205.athdf', '../mixinglayers/data/pgen_v1\\\\mixing_layer.out1.00206.athdf', '../mixinglayers/data/pgen_v1\\\\mixing_layer.out1.00207.athdf', '../mixinglayers/data/pgen_v1\\\\mixing_layer.out1.00208.athdf', '../mixinglayers/data/pgen_v1\\\\mixing_layer.out1.00209.athdf', '../mixinglayers/data/pgen_v1\\\\mixing_layer.out1.00210.athdf', '../mixinglayers/data/pgen_v1\\\\mixing_layer.out1.00211.athdf', '../mixinglayers/data/pgen_v1\\\\mixing_layer.out1.00212.athdf', '../mixinglayers/data/pgen_v1\\\\mixing_layer.out1.00213.athdf', '../mixinglayers/data/pgen_v1\\\\mixing_layer.out1.00214.athdf', '../mixinglayers/data/pgen_v1\\\\mixing_layer.out1.00215.athdf', '../mixinglayers/data/pgen_v1\\\\mixing_layer.out1.00216.athdf', '../mixinglayers/data/pgen_v1\\\\mixing_layer.out1.00217.athdf', '../mixinglayers/data/pgen_v1\\\\mixing_layer.out1.00218.athdf', '../mixinglayers/data/pgen_v1\\\\mixing_layer.out1.00219.athdf', '../mixinglayers/data/pgen_v1\\\\mixing_layer.out1.00220.athdf', '../mixinglayers/data/pgen_v1\\\\mixing_layer.out1.00221.athdf', '../mixinglayers/data/pgen_v1\\\\mixing_layer.out1.00222.athdf', '../mixinglayers/data/pgen_v1\\\\mixing_layer.out1.00223.athdf', '../mixinglayers/data/pgen_v1\\\\mixing_layer.out1.00224.athdf', '../mixinglayers/data/pgen_v1\\\\mixing_layer.out1.00225.athdf', '../mixinglayers/data/pgen_v1\\\\mixing_layer.out1.00226.athdf', '../mixinglayers/data/pgen_v1\\\\mixing_layer.out1.00227.athdf', '../mixinglayers/data/pgen_v1\\\\mixing_layer.out1.00228.athdf', '../mixinglayers/data/pgen_v1\\\\mixing_layer.out1.00229.athdf', '../mixinglayers/data/pgen_v1\\\\mixing_layer.out1.00230.athdf', '../mixinglayers/data/pgen_v1\\\\mixing_layer.out1.00231.athdf', '../mixinglayers/data/pgen_v1\\\\mixing_layer.out1.00232.athdf', '../mixinglayers/data/pgen_v1\\\\mixing_layer.out1.00233.athdf', '../mixinglayers/data/pgen_v1\\\\mixing_layer.out1.00234.athdf', '../mixinglayers/data/pgen_v1\\\\mixing_layer.out1.00235.athdf', '../mixinglayers/data/pgen_v1\\\\mixing_layer.out1.00236.athdf', '../mixinglayers/data/pgen_v1\\\\mixing_layer.out1.00237.athdf', '../mixinglayers/data/pgen_v1\\\\mixing_layer.out1.00238.athdf', '../mixinglayers/data/pgen_v1\\\\mixing_layer.out1.00239.athdf', '../mixinglayers/data/pgen_v1\\\\mixing_layer.out1.00240.athdf', '../mixinglayers/data/pgen_v1\\\\mixing_layer.out1.00241.athdf', '../mixinglayers/data/pgen_v1\\\\mixing_layer.out1.00242.athdf', '../mixinglayers/data/pgen_v1\\\\mixing_layer.out1.00243.athdf', '../mixinglayers/data/pgen_v1\\\\mixing_layer.out1.00244.athdf', '../mixinglayers/data/pgen_v1\\\\mixing_layer.out1.00245.athdf', '../mixinglayers/data/pgen_v1\\\\mixing_layer.out1.00246.athdf', '../mixinglayers/data/pgen_v1\\\\mixing_layer.out1.00247.athdf', '../mixinglayers/data/pgen_v1\\\\mixing_layer.out1.00248.athdf', '../mixinglayers/data/pgen_v1\\\\mixing_layer.out1.00249.athdf', '../mixinglayers/data/pgen_v1\\\\mixing_layer.out1.00250.athdf', '../mixinglayers/data/pgen_v1\\\\mixing_layer.out1.00251.athdf', '../mixinglayers/data/pgen_v1\\\\mixing_layer.out1.00252.athdf', '../mixinglayers/data/pgen_v1\\\\mixing_layer.out1.00253.athdf', '../mixinglayers/data/pgen_v1\\\\mixing_layer.out1.00254.athdf', '../mixinglayers/data/pgen_v1\\\\mixing_layer.out1.00255.athdf', '../mixinglayers/data/pgen_v1\\\\mixing_layer.out1.00256.athdf', '../mixinglayers/data/pgen_v1\\\\mixing_layer.out1.00257.athdf', '../mixinglayers/data/pgen_v1\\\\mixing_layer.out1.00258.athdf', '../mixinglayers/data/pgen_v1\\\\mixing_layer.out1.00259.athdf', '../mixinglayers/data/pgen_v1\\\\mixing_layer.out1.00260.athdf', '../mixinglayers/data/pgen_v1\\\\mixing_layer.out1.00261.athdf', '../mixinglayers/data/pgen_v1\\\\mixing_layer.out1.00262.athdf', '../mixinglayers/data/pgen_v1\\\\mixing_layer.out1.00263.athdf', '../mixinglayers/data/pgen_v1\\\\mixing_layer.out1.00264.athdf', '../mixinglayers/data/pgen_v1\\\\mixing_layer.out1.00265.athdf', '../mixinglayers/data/pgen_v1\\\\mixing_layer.out1.00266.athdf', '../mixinglayers/data/pgen_v1\\\\mixing_layer.out1.00267.athdf', '../mixinglayers/data/pgen_v1\\\\mixing_layer.out1.00268.athdf', '../mixinglayers/data/pgen_v1\\\\mixing_layer.out1.00269.athdf', '../mixinglayers/data/pgen_v1\\\\mixing_layer.out1.00270.athdf', '../mixinglayers/data/pgen_v1\\\\mixing_layer.out1.00271.athdf', '../mixinglayers/data/pgen_v1\\\\mixing_layer.out1.00272.athdf', '../mixinglayers/data/pgen_v1\\\\mixing_layer.out1.00273.athdf', '../mixinglayers/data/pgen_v1\\\\mixing_layer.out1.00274.athdf', '../mixinglayers/data/pgen_v1\\\\mixing_layer.out1.00275.athdf', '../mixinglayers/data/pgen_v1\\\\mixing_layer.out1.00276.athdf', '../mixinglayers/data/pgen_v1\\\\mixing_layer.out1.00277.athdf', '../mixinglayers/data/pgen_v1\\\\mixing_layer.out1.00278.athdf', '../mixinglayers/data/pgen_v1\\\\mixing_layer.out1.00279.athdf', '../mixinglayers/data/pgen_v1\\\\mixing_layer.out1.00280.athdf', '../mixinglayers/data/pgen_v1\\\\mixing_layer.out1.00281.athdf', '../mixinglayers/data/pgen_v1\\\\mixing_layer.out1.00282.athdf', '../mixinglayers/data/pgen_v1\\\\mixing_layer.out1.00283.athdf', '../mixinglayers/data/pgen_v1\\\\mixing_layer.out1.00284.athdf', '../mixinglayers/data/pgen_v1\\\\mixing_layer.out1.00285.athdf', '../mixinglayers/data/pgen_v1\\\\mixing_layer.out1.00286.athdf', '../mixinglayers/data/pgen_v1\\\\mixing_layer.out1.00287.athdf', '../mixinglayers/data/pgen_v1\\\\mixing_layer.out1.00288.athdf', '../mixinglayers/data/pgen_v1\\\\mixing_layer.out1.00289.athdf', '../mixinglayers/data/pgen_v1\\\\mixing_layer.out1.00290.athdf', '../mixinglayers/data/pgen_v1\\\\mixing_layer.out1.00291.athdf', '../mixinglayers/data/pgen_v1\\\\mixing_layer.out1.00292.athdf', '../mixinglayers/data/pgen_v1\\\\mixing_layer.out1.00293.athdf', '../mixinglayers/data/pgen_v1\\\\mixing_layer.out1.00294.athdf', '../mixinglayers/data/pgen_v1\\\\mixing_layer.out1.00295.athdf', '../mixinglayers/data/pgen_v1\\\\mixing_layer.out1.00296.athdf', '../mixinglayers/data/pgen_v1\\\\mixing_layer.out1.00297.athdf', '../mixinglayers/data/pgen_v1\\\\mixing_layer.out1.00298.athdf', '../mixinglayers/data/pgen_v1\\\\mixing_layer.out1.00299.athdf', '../mixinglayers/data/pgen_v1\\\\mixing_layer.out1.00300.athdf', '../mixinglayers/data/pgen_v1\\\\mixing_layer.out1.00301.athdf', '../mixinglayers/data/pgen_v1\\\\mixing_layer.out1.00302.athdf', '../mixinglayers/data/pgen_v1\\\\mixing_layer.out1.00303.athdf', '../mixinglayers/data/pgen_v1\\\\mixing_layer.out1.00304.athdf', '../mixinglayers/data/pgen_v1\\\\mixing_layer.out1.00305.athdf', '../mixinglayers/data/pgen_v1\\\\mixing_layer.out1.00306.athdf', '../mixinglayers/data/pgen_v1\\\\mixing_layer.out1.00307.athdf', '../mixinglayers/data/pgen_v1\\\\mixing_layer.out1.00308.athdf', '../mixinglayers/data/pgen_v1\\\\mixing_layer.out1.00309.athdf', '../mixinglayers/data/pgen_v1\\\\mixing_layer.out1.00310.athdf', '../mixinglayers/data/pgen_v1\\\\mixing_layer.out1.00311.athdf', '../mixinglayers/data/pgen_v1\\\\mixing_layer.out1.00312.athdf', '../mixinglayers/data/pgen_v1\\\\mixing_layer.out1.00313.athdf', '../mixinglayers/data/pgen_v1\\\\mixing_layer.out1.00314.athdf', '../mixinglayers/data/pgen_v1\\\\mixing_layer.out1.00315.athdf', '../mixinglayers/data/pgen_v1\\\\mixing_layer.out1.00316.athdf', '../mixinglayers/data/pgen_v1\\\\mixing_layer.out1.00317.athdf', '../mixinglayers/data/pgen_v1\\\\mixing_layer.out1.00318.athdf', '../mixinglayers/data/pgen_v1\\\\mixing_layer.out1.00319.athdf', '../mixinglayers/data/pgen_v1\\\\mixing_layer.out1.00320.athdf', '../mixinglayers/data/pgen_v1\\\\mixing_layer.out1.00321.athdf', '../mixinglayers/data/pgen_v1\\\\mixing_layer.out1.00322.athdf', '../mixinglayers/data/pgen_v1\\\\mixing_layer.out1.00323.athdf', '../mixinglayers/data/pgen_v1\\\\mixing_layer.out1.00324.athdf', '../mixinglayers/data/pgen_v1\\\\mixing_layer.out1.00325.athdf', '../mixinglayers/data/pgen_v1\\\\mixing_layer.out1.00326.athdf', '../mixinglayers/data/pgen_v1\\\\mixing_layer.out1.00327.athdf', '../mixinglayers/data/pgen_v1\\\\mixing_layer.out1.00328.athdf', '../mixinglayers/data/pgen_v1\\\\mixing_layer.out1.00329.athdf', '../mixinglayers/data/pgen_v1\\\\mixing_layer.out1.00330.athdf', '../mixinglayers/data/pgen_v1\\\\mixing_layer.out1.00331.athdf', '../mixinglayers/data/pgen_v1\\\\mixing_layer.out1.00332.athdf', '../mixinglayers/data/pgen_v1\\\\mixing_layer.out1.00333.athdf', '../mixinglayers/data/pgen_v1\\\\mixing_layer.out1.00334.athdf', '../mixinglayers/data/pgen_v1\\\\mixing_layer.out1.00335.athdf', '../mixinglayers/data/pgen_v1\\\\mixing_layer.out1.00336.athdf', '../mixinglayers/data/pgen_v1\\\\mixing_layer.out1.00337.athdf', '../mixinglayers/data/pgen_v1\\\\mixing_layer.out1.00338.athdf', '../mixinglayers/data/pgen_v1\\\\mixing_layer.out1.00339.athdf', '../mixinglayers/data/pgen_v1\\\\mixing_layer.out1.00340.athdf', '../mixinglayers/data/pgen_v1\\\\mixing_layer.out1.00341.athdf', '../mixinglayers/data/pgen_v1\\\\mixing_layer.out1.00342.athdf', '../mixinglayers/data/pgen_v1\\\\mixing_layer.out1.00343.athdf', '../mixinglayers/data/pgen_v1\\\\mixing_layer.out1.00344.athdf', '../mixinglayers/data/pgen_v1\\\\mixing_layer.out1.00345.athdf', '../mixinglayers/data/pgen_v1\\\\mixing_layer.out1.00346.athdf', '../mixinglayers/data/pgen_v1\\\\mixing_layer.out1.00347.athdf', '../mixinglayers/data/pgen_v1\\\\mixing_layer.out1.00348.athdf', '../mixinglayers/data/pgen_v1\\\\mixing_layer.out1.00349.athdf', '../mixinglayers/data/pgen_v1\\\\mixing_layer.out1.00350.athdf', '../mixinglayers/data/pgen_v1\\\\mixing_layer.out1.00351.athdf', '../mixinglayers/data/pgen_v1\\\\mixing_layer.out1.00352.athdf', '../mixinglayers/data/pgen_v1\\\\mixing_layer.out1.00353.athdf', '../mixinglayers/data/pgen_v1\\\\mixing_layer.out1.00354.athdf', '../mixinglayers/data/pgen_v1\\\\mixing_layer.out1.00355.athdf', '../mixinglayers/data/pgen_v1\\\\mixing_layer.out1.00356.athdf', '../mixinglayers/data/pgen_v1\\\\mixing_layer.out1.00357.athdf', '../mixinglayers/data/pgen_v1\\\\mixing_layer.out1.00358.athdf', '../mixinglayers/data/pgen_v1\\\\mixing_layer.out1.00359.athdf', '../mixinglayers/data/pgen_v1\\\\mixing_layer.out1.00360.athdf', '../mixinglayers/data/pgen_v1\\\\mixing_layer.out1.00361.athdf', '../mixinglayers/data/pgen_v1\\\\mixing_layer.out1.00362.athdf', '../mixinglayers/data/pgen_v1\\\\mixing_layer.out1.00363.athdf', '../mixinglayers/data/pgen_v1\\\\mixing_layer.out1.00364.athdf', '../mixinglayers/data/pgen_v1\\\\mixing_layer.out1.00365.athdf', '../mixinglayers/data/pgen_v1\\\\mixing_layer.out1.00366.athdf', '../mixinglayers/data/pgen_v1\\\\mixing_layer.out1.00367.athdf', '../mixinglayers/data/pgen_v1\\\\mixing_layer.out1.00368.athdf', '../mixinglayers/data/pgen_v1\\\\mixing_layer.out1.00369.athdf', '../mixinglayers/data/pgen_v1\\\\mixing_layer.out1.00370.athdf', '../mixinglayers/data/pgen_v1\\\\mixing_layer.out1.00371.athdf', '../mixinglayers/data/pgen_v1\\\\mixing_layer.out1.00372.athdf', '../mixinglayers/data/pgen_v1\\\\mixing_layer.out1.00373.athdf', '../mixinglayers/data/pgen_v1\\\\mixing_layer.out1.00374.athdf', '../mixinglayers/data/pgen_v1\\\\mixing_layer.out1.00375.athdf', '../mixinglayers/data/pgen_v1\\\\mixing_layer.out1.00376.athdf', '../mixinglayers/data/pgen_v1\\\\mixing_layer.out1.00377.athdf', '../mixinglayers/data/pgen_v1\\\\mixing_layer.out1.00378.athdf', '../mixinglayers/data/pgen_v1\\\\mixing_layer.out1.00379.athdf', '../mixinglayers/data/pgen_v1\\\\mixing_layer.out1.00380.athdf', '../mixinglayers/data/pgen_v1\\\\mixing_layer.out1.00381.athdf', '../mixinglayers/data/pgen_v1\\\\mixing_layer.out1.00382.athdf', '../mixinglayers/data/pgen_v1\\\\mixing_layer.out1.00383.athdf', '../mixinglayers/data/pgen_v1\\\\mixing_layer.out1.00384.athdf', '../mixinglayers/data/pgen_v1\\\\mixing_layer.out1.00385.athdf', '../mixinglayers/data/pgen_v1\\\\mixing_layer.out1.00386.athdf', '../mixinglayers/data/pgen_v1\\\\mixing_layer.out1.00387.athdf', '../mixinglayers/data/pgen_v1\\\\mixing_layer.out1.00388.athdf', '../mixinglayers/data/pgen_v1\\\\mixing_layer.out1.00389.athdf', '../mixinglayers/data/pgen_v1\\\\mixing_layer.out1.00390.athdf', '../mixinglayers/data/pgen_v1\\\\mixing_layer.out1.00391.athdf', '../mixinglayers/data/pgen_v1\\\\mixing_layer.out1.00392.athdf', '../mixinglayers/data/pgen_v1\\\\mixing_layer.out1.00393.athdf', '../mixinglayers/data/pgen_v1\\\\mixing_layer.out1.00394.athdf', '../mixinglayers/data/pgen_v1\\\\mixing_layer.out1.00395.athdf', '../mixinglayers/data/pgen_v1\\\\mixing_layer.out1.00396.athdf', '../mixinglayers/data/pgen_v1\\\\mixing_layer.out1.00397.athdf', '../mixinglayers/data/pgen_v1\\\\mixing_layer.out1.00398.athdf', '../mixinglayers/data/pgen_v1\\\\mixing_layer.out1.00399.athdf', '../mixinglayers/data/pgen_v1\\\\mixing_layer.out1.00400.athdf', '../mixinglayers/data/pgen_v1\\\\mixing_layer.out1.00401.athdf', '../mixinglayers/data/pgen_v1\\\\mixing_layer.out1.00402.athdf', '../mixinglayers/data/pgen_v1\\\\mixing_layer.out1.00403.athdf', '../mixinglayers/data/pgen_v1\\\\mixing_layer.out1.00404.athdf', '../mixinglayers/data/pgen_v1\\\\mixing_layer.out1.00405.athdf', '../mixinglayers/data/pgen_v1\\\\mixing_layer.out1.00406.athdf', '../mixinglayers/data/pgen_v1\\\\mixing_layer.out1.00407.athdf', '../mixinglayers/data/pgen_v1\\\\mixing_layer.out1.00408.athdf', '../mixinglayers/data/pgen_v1\\\\mixing_layer.out1.00409.athdf', '../mixinglayers/data/pgen_v1\\\\mixing_layer.out1.00410.athdf', '../mixinglayers/data/pgen_v1\\\\mixing_layer.out1.00411.athdf', '../mixinglayers/data/pgen_v1\\\\mixing_layer.out1.00412.athdf', '../mixinglayers/data/pgen_v1\\\\mixing_layer.out1.00413.athdf', '../mixinglayers/data/pgen_v1\\\\mixing_layer.out1.00414.athdf', '../mixinglayers/data/pgen_v1\\\\mixing_layer.out1.00415.athdf', '../mixinglayers/data/pgen_v1\\\\mixing_layer.out1.00416.athdf', '../mixinglayers/data/pgen_v1\\\\mixing_layer.out1.00417.athdf', '../mixinglayers/data/pgen_v1\\\\mixing_layer.out1.00418.athdf', '../mixinglayers/data/pgen_v1\\\\mixing_layer.out1.00419.athdf', '../mixinglayers/data/pgen_v1\\\\mixing_layer.out1.00420.athdf', '../mixinglayers/data/pgen_v1\\\\mixing_layer.out1.00421.athdf', '../mixinglayers/data/pgen_v1\\\\mixing_layer.out1.00422.athdf', '../mixinglayers/data/pgen_v1\\\\mixing_layer.out1.00423.athdf', '../mixinglayers/data/pgen_v1\\\\mixing_layer.out1.00424.athdf', '../mixinglayers/data/pgen_v1\\\\mixing_layer.out1.00425.athdf', '../mixinglayers/data/pgen_v1\\\\mixing_layer.out1.00426.athdf', '../mixinglayers/data/pgen_v1\\\\mixing_layer.out1.00427.athdf', '../mixinglayers/data/pgen_v1\\\\mixing_layer.out1.00428.athdf', '../mixinglayers/data/pgen_v1\\\\mixing_layer.out1.00429.athdf', '../mixinglayers/data/pgen_v1\\\\mixing_layer.out1.00430.athdf', '../mixinglayers/data/pgen_v1\\\\mixing_layer.out1.00431.athdf', '../mixinglayers/data/pgen_v1\\\\mixing_layer.out1.00432.athdf', '../mixinglayers/data/pgen_v1\\\\mixing_layer.out1.00433.athdf', '../mixinglayers/data/pgen_v1\\\\mixing_layer.out1.00434.athdf', '../mixinglayers/data/pgen_v1\\\\mixing_layer.out1.00435.athdf', '../mixinglayers/data/pgen_v1\\\\mixing_layer.out1.00436.athdf', '../mixinglayers/data/pgen_v1\\\\mixing_layer.out1.00437.athdf', '../mixinglayers/data/pgen_v1\\\\mixing_layer.out1.00438.athdf', '../mixinglayers/data/pgen_v1\\\\mixing_layer.out1.00439.athdf', '../mixinglayers/data/pgen_v1\\\\mixing_layer.out1.00440.athdf', '../mixinglayers/data/pgen_v1\\\\mixing_layer.out1.00441.athdf', '../mixinglayers/data/pgen_v1\\\\mixing_layer.out1.00442.athdf', '../mixinglayers/data/pgen_v1\\\\mixing_layer.out1.00443.athdf', '../mixinglayers/data/pgen_v1\\\\mixing_layer.out1.00444.athdf', '../mixinglayers/data/pgen_v1\\\\mixing_layer.out1.00445.athdf', '../mixinglayers/data/pgen_v1\\\\mixing_layer.out1.00446.athdf', '../mixinglayers/data/pgen_v1\\\\mixing_layer.out1.00447.athdf', '../mixinglayers/data/pgen_v1\\\\mixing_layer.out1.00448.athdf', '../mixinglayers/data/pgen_v1\\\\mixing_layer.out1.00449.athdf', '../mixinglayers/data/pgen_v1\\\\mixing_layer.out1.00450.athdf', '../mixinglayers/data/pgen_v1\\\\mixing_layer.out1.00451.athdf', '../mixinglayers/data/pgen_v1\\\\mixing_layer.out1.00452.athdf', '../mixinglayers/data/pgen_v1\\\\mixing_layer.out1.00453.athdf', '../mixinglayers/data/pgen_v1\\\\mixing_layer.out1.00454.athdf', '../mixinglayers/data/pgen_v1\\\\mixing_layer.out1.00455.athdf', '../mixinglayers/data/pgen_v1\\\\mixing_layer.out1.00456.athdf', '../mixinglayers/data/pgen_v1\\\\mixing_layer.out1.00457.athdf', '../mixinglayers/data/pgen_v1\\\\mixing_layer.out1.00458.athdf', '../mixinglayers/data/pgen_v1\\\\mixing_layer.out1.00459.athdf', '../mixinglayers/data/pgen_v1\\\\mixing_layer.out1.00460.athdf', '../mixinglayers/data/pgen_v1\\\\mixing_layer.out1.00461.athdf', '../mixinglayers/data/pgen_v1\\\\mixing_layer.out1.00462.athdf', '../mixinglayers/data/pgen_v1\\\\mixing_layer.out1.00463.athdf', '../mixinglayers/data/pgen_v1\\\\mixing_layer.out1.00464.athdf', '../mixinglayers/data/pgen_v1\\\\mixing_layer.out1.00465.athdf', '../mixinglayers/data/pgen_v1\\\\mixing_layer.out1.00466.athdf', '../mixinglayers/data/pgen_v1\\\\mixing_layer.out1.00467.athdf', '../mixinglayers/data/pgen_v1\\\\mixing_layer.out1.00468.athdf', '../mixinglayers/data/pgen_v1\\\\mixing_layer.out1.00469.athdf', '../mixinglayers/data/pgen_v1\\\\mixing_layer.out1.00470.athdf', '../mixinglayers/data/pgen_v1\\\\mixing_layer.out1.00471.athdf', '../mixinglayers/data/pgen_v1\\\\mixing_layer.out1.00472.athdf', '../mixinglayers/data/pgen_v1\\\\mixing_layer.out1.00473.athdf', '../mixinglayers/data/pgen_v1\\\\mixing_layer.out1.00474.athdf', '../mixinglayers/data/pgen_v1\\\\mixing_layer.out1.00475.athdf', '../mixinglayers/data/pgen_v1\\\\mixing_layer.out1.00476.athdf', '../mixinglayers/data/pgen_v1\\\\mixing_layer.out1.00477.athdf', '../mixinglayers/data/pgen_v1\\\\mixing_layer.out1.00478.athdf', '../mixinglayers/data/pgen_v1\\\\mixing_layer.out1.00479.athdf', '../mixinglayers/data/pgen_v1\\\\mixing_layer.out1.00480.athdf', '../mixinglayers/data/pgen_v1\\\\mixing_layer.out1.00481.athdf', '../mixinglayers/data/pgen_v1\\\\mixing_layer.out1.00482.athdf', '../mixinglayers/data/pgen_v1\\\\mixing_layer.out1.00483.athdf', '../mixinglayers/data/pgen_v1\\\\mixing_layer.out1.00484.athdf', '../mixinglayers/data/pgen_v1\\\\mixing_layer.out1.00485.athdf', '../mixinglayers/data/pgen_v1\\\\mixing_layer.out1.00486.athdf', '../mixinglayers/data/pgen_v1\\\\mixing_layer.out1.00487.athdf', '../mixinglayers/data/pgen_v1\\\\mixing_layer.out1.00488.athdf', '../mixinglayers/data/pgen_v1\\\\mixing_layer.out1.00489.athdf', '../mixinglayers/data/pgen_v1\\\\mixing_layer.out1.00490.athdf', '../mixinglayers/data/pgen_v1\\\\mixing_layer.out1.00491.athdf', '../mixinglayers/data/pgen_v1\\\\mixing_layer.out1.00492.athdf', '../mixinglayers/data/pgen_v1\\\\mixing_layer.out1.00493.athdf', '../mixinglayers/data/pgen_v1\\\\mixing_layer.out1.00494.athdf', '../mixinglayers/data/pgen_v1\\\\mixing_layer.out1.00495.athdf', '../mixinglayers/data/pgen_v1\\\\mixing_layer.out1.00496.athdf', '../mixinglayers/data/pgen_v1\\\\mixing_layer.out1.00497.athdf', '../mixinglayers/data/pgen_v1\\\\mixing_layer.out1.00498.athdf', '../mixinglayers/data/pgen_v1\\\\mixing_layer.out1.00499.athdf', '../mixinglayers/data/pgen_v1\\\\mixing_layer.out1.00500.athdf', '../mixinglayers/data/pgen_v1\\\\mixing_layer.out1.00501.athdf', '../mixinglayers/data/pgen_v1\\\\mixing_layer.out1.00502.athdf', '../mixinglayers/data/pgen_v1\\\\mixing_layer.out1.00503.athdf', '../mixinglayers/data/pgen_v1\\\\mixing_layer.out1.00504.athdf', '../mixinglayers/data/pgen_v1\\\\mixing_layer.out1.00505.athdf', '../mixinglayers/data/pgen_v1\\\\mixing_layer.out1.00506.athdf', '../mixinglayers/data/pgen_v1\\\\mixing_layer.out1.00507.athdf', '../mixinglayers/data/pgen_v1\\\\mixing_layer.out1.00508.athdf', '../mixinglayers/data/pgen_v1\\\\mixing_layer.out1.00509.athdf', '../mixinglayers/data/pgen_v1\\\\mixing_layer.out1.00510.athdf', '../mixinglayers/data/pgen_v1\\\\mixing_layer.out1.00511.athdf', '../mixinglayers/data/pgen_v1\\\\mixing_layer.out1.00512.athdf', '../mixinglayers/data/pgen_v1\\\\mixing_layer.out1.00513.athdf', '../mixinglayers/data/pgen_v1\\\\mixing_layer.out1.00514.athdf', '../mixinglayers/data/pgen_v1\\\\mixing_layer.out1.00515.athdf', '../mixinglayers/data/pgen_v1\\\\mixing_layer.out1.00516.athdf', '../mixinglayers/data/pgen_v1\\\\mixing_layer.out1.00517.athdf', '../mixinglayers/data/pgen_v1\\\\mixing_layer.out1.00518.athdf', '../mixinglayers/data/pgen_v1\\\\mixing_layer.out1.00519.athdf', '../mixinglayers/data/pgen_v1\\\\mixing_layer.out1.00520.athdf', '../mixinglayers/data/pgen_v1\\\\mixing_layer.out1.00521.athdf', '../mixinglayers/data/pgen_v1\\\\mixing_layer.out1.00522.athdf', '../mixinglayers/data/pgen_v1\\\\mixing_layer.out1.00523.athdf', '../mixinglayers/data/pgen_v1\\\\mixing_layer.out1.00524.athdf', '../mixinglayers/data/pgen_v1\\\\mixing_layer.out1.00525.athdf', '../mixinglayers/data/pgen_v1\\\\mixing_layer.out1.00526.athdf', '../mixinglayers/data/pgen_v1\\\\mixing_layer.out1.00527.athdf', '../mixinglayers/data/pgen_v1\\\\mixing_layer.out1.00528.athdf', '../mixinglayers/data/pgen_v1\\\\mixing_layer.out1.00529.athdf', '../mixinglayers/data/pgen_v1\\\\mixing_layer.out1.00530.athdf', '../mixinglayers/data/pgen_v1\\\\mixing_layer.out1.00531.athdf', '../mixinglayers/data/pgen_v1\\\\mixing_layer.out1.00532.athdf', '../mixinglayers/data/pgen_v1\\\\mixing_layer.out1.00533.athdf', '../mixinglayers/data/pgen_v1\\\\mixing_layer.out1.00534.athdf', '../mixinglayers/data/pgen_v1\\\\mixing_layer.out1.00535.athdf', '../mixinglayers/data/pgen_v1\\\\mixing_layer.out1.00536.athdf', '../mixinglayers/data/pgen_v1\\\\mixing_layer.out1.00537.athdf', '../mixinglayers/data/pgen_v1\\\\mixing_layer.out1.00538.athdf', '../mixinglayers/data/pgen_v1\\\\mixing_layer.out1.00539.athdf', '../mixinglayers/data/pgen_v1\\\\mixing_layer.out1.00540.athdf', '../mixinglayers/data/pgen_v1\\\\mixing_layer.out1.00541.athdf', '../mixinglayers/data/pgen_v1\\\\mixing_layer.out1.00542.athdf', '../mixinglayers/data/pgen_v1\\\\mixing_layer.out1.00543.athdf', '../mixinglayers/data/pgen_v1\\\\mixing_layer.out1.00544.athdf', '../mixinglayers/data/pgen_v1\\\\mixing_layer.out1.00545.athdf', '../mixinglayers/data/pgen_v1\\\\mixing_layer.out1.00546.athdf', '../mixinglayers/data/pgen_v1\\\\mixing_layer.out1.00547.athdf', '../mixinglayers/data/pgen_v1\\\\mixing_layer.out1.00548.athdf', '../mixinglayers/data/pgen_v1\\\\mixing_layer.out1.00549.athdf', '../mixinglayers/data/pgen_v1\\\\mixing_layer.out1.00550.athdf', '../mixinglayers/data/pgen_v1\\\\mixing_layer.out1.00551.athdf', '../mixinglayers/data/pgen_v1\\\\mixing_layer.out1.00552.athdf', '../mixinglayers/data/pgen_v1\\\\mixing_layer.out1.00553.athdf', '../mixinglayers/data/pgen_v1\\\\mixing_layer.out1.00554.athdf', '../mixinglayers/data/pgen_v1\\\\mixing_layer.out1.00555.athdf', '../mixinglayers/data/pgen_v1\\\\mixing_layer.out1.00556.athdf', '../mixinglayers/data/pgen_v1\\\\mixing_layer.out1.00557.athdf', '../mixinglayers/data/pgen_v1\\\\mixing_layer.out1.00558.athdf', '../mixinglayers/data/pgen_v1\\\\mixing_layer.out1.00559.athdf', '../mixinglayers/data/pgen_v1\\\\mixing_layer.out1.00560.athdf', '../mixinglayers/data/pgen_v1\\\\mixing_layer.out1.00561.athdf', '../mixinglayers/data/pgen_v1\\\\mixing_layer.out1.00562.athdf', '../mixinglayers/data/pgen_v1\\\\mixing_layer.out1.00563.athdf', '../mixinglayers/data/pgen_v1\\\\mixing_layer.out1.00564.athdf', '../mixinglayers/data/pgen_v1\\\\mixing_layer.out1.00565.athdf', '../mixinglayers/data/pgen_v1\\\\mixing_layer.out1.00566.athdf', '../mixinglayers/data/pgen_v1\\\\mixing_layer.out1.00567.athdf', '../mixinglayers/data/pgen_v1\\\\mixing_layer.out1.00568.athdf', '../mixinglayers/data/pgen_v1\\\\mixing_layer.out1.00569.athdf', '../mixinglayers/data/pgen_v1\\\\mixing_layer.out1.00570.athdf', '../mixinglayers/data/pgen_v1\\\\mixing_layer.out1.00571.athdf', '../mixinglayers/data/pgen_v1\\\\mixing_layer.out1.00572.athdf', '../mixinglayers/data/pgen_v1\\\\mixing_layer.out1.00573.athdf', '../mixinglayers/data/pgen_v1\\\\mixing_layer.out1.00574.athdf', '../mixinglayers/data/pgen_v1\\\\mixing_layer.out1.00575.athdf', '../mixinglayers/data/pgen_v1\\\\mixing_layer.out1.00576.athdf', '../mixinglayers/data/pgen_v1\\\\mixing_layer.out1.00577.athdf', '../mixinglayers/data/pgen_v1\\\\mixing_layer.out1.00578.athdf', '../mixinglayers/data/pgen_v1\\\\mixing_layer.out1.00579.athdf', '../mixinglayers/data/pgen_v1\\\\mixing_layer.out1.00580.athdf', '../mixinglayers/data/pgen_v1\\\\mixing_layer.out1.00581.athdf', '../mixinglayers/data/pgen_v1\\\\mixing_layer.out1.00582.athdf', '../mixinglayers/data/pgen_v1\\\\mixing_layer.out1.00583.athdf', '../mixinglayers/data/pgen_v1\\\\mixing_layer.out1.00584.athdf', '../mixinglayers/data/pgen_v1\\\\mixing_layer.out1.00585.athdf', '../mixinglayers/data/pgen_v1\\\\mixing_layer.out1.00586.athdf', '../mixinglayers/data/pgen_v1\\\\mixing_layer.out1.00587.athdf', '../mixinglayers/data/pgen_v1\\\\mixing_layer.out1.00588.athdf', '../mixinglayers/data/pgen_v1\\\\mixing_layer.out1.00589.athdf', '../mixinglayers/data/pgen_v1\\\\mixing_layer.out1.00590.athdf', '../mixinglayers/data/pgen_v1\\\\mixing_layer.out1.00591.athdf', '../mixinglayers/data/pgen_v1\\\\mixing_layer.out1.00592.athdf', '../mixinglayers/data/pgen_v1\\\\mixing_layer.out1.00593.athdf', '../mixinglayers/data/pgen_v1\\\\mixing_layer.out1.00594.athdf', '../mixinglayers/data/pgen_v1\\\\mixing_layer.out1.00595.athdf', '../mixinglayers/data/pgen_v1\\\\mixing_layer.out1.00596.athdf', '../mixinglayers/data/pgen_v1\\\\mixing_layer.out1.00597.athdf', '../mixinglayers/data/pgen_v1\\\\mixing_layer.out1.00598.athdf', '../mixinglayers/data/pgen_v1\\\\mixing_layer.out1.00599.athdf', '../mixinglayers/data/pgen_v1\\\\mixing_layer.out1.00600.athdf', '../mixinglayers/data/pgen_v1\\\\mixing_layer.out1.00601.athdf', '../mixinglayers/data/pgen_v1\\\\mixing_layer.out1.00602.athdf', '../mixinglayers/data/pgen_v1\\\\mixing_layer.out1.00603.athdf', '../mixinglayers/data/pgen_v1\\\\mixing_layer.out1.00604.athdf', '../mixinglayers/data/pgen_v1\\\\mixing_layer.out1.00605.athdf', '../mixinglayers/data/pgen_v1\\\\mixing_layer.out1.00606.athdf', '../mixinglayers/data/pgen_v1\\\\mixing_layer.out1.00607.athdf', '../mixinglayers/data/pgen_v1\\\\mixing_layer.out1.00608.athdf', '../mixinglayers/data/pgen_v1\\\\mixing_layer.out1.00609.athdf', '../mixinglayers/data/pgen_v1\\\\mixing_layer.out1.00610.athdf', '../mixinglayers/data/pgen_v1\\\\mixing_layer.out1.00611.athdf', '../mixinglayers/data/pgen_v1\\\\mixing_layer.out1.00612.athdf', '../mixinglayers/data/pgen_v1\\\\mixing_layer.out1.00613.athdf', '../mixinglayers/data/pgen_v1\\\\mixing_layer.out1.00614.athdf', '../mixinglayers/data/pgen_v1\\\\mixing_layer.out1.00615.athdf', '../mixinglayers/data/pgen_v1\\\\mixing_layer.out1.00616.athdf', '../mixinglayers/data/pgen_v1\\\\mixing_layer.out1.00617.athdf', '../mixinglayers/data/pgen_v1\\\\mixing_layer.out1.00618.athdf', '../mixinglayers/data/pgen_v1\\\\mixing_layer.out1.00619.athdf', '../mixinglayers/data/pgen_v1\\\\mixing_layer.out1.00620.athdf', '../mixinglayers/data/pgen_v1\\\\mixing_layer.out1.00621.athdf', '../mixinglayers/data/pgen_v1\\\\mixing_layer.out1.00622.athdf', '../mixinglayers/data/pgen_v1\\\\mixing_layer.out1.00623.athdf', '../mixinglayers/data/pgen_v1\\\\mixing_layer.out1.00624.athdf', '../mixinglayers/data/pgen_v1\\\\mixing_layer.out1.00625.athdf', '../mixinglayers/data/pgen_v1\\\\mixing_layer.out1.00626.athdf', '../mixinglayers/data/pgen_v1\\\\mixing_layer.out1.00627.athdf', '../mixinglayers/data/pgen_v1\\\\mixing_layer.out1.00628.athdf', '../mixinglayers/data/pgen_v1\\\\mixing_layer.out1.00629.athdf', '../mixinglayers/data/pgen_v1\\\\mixing_layer.out1.00630.athdf', '../mixinglayers/data/pgen_v1\\\\mixing_layer.out1.00631.athdf', '../mixinglayers/data/pgen_v1\\\\mixing_layer.out1.00632.athdf', '../mixinglayers/data/pgen_v1\\\\mixing_layer.out1.00633.athdf', '../mixinglayers/data/pgen_v1\\\\mixing_layer.out1.00634.athdf', '../mixinglayers/data/pgen_v1\\\\mixing_layer.out1.00635.athdf', '../mixinglayers/data/pgen_v1\\\\mixing_layer.out1.00636.athdf', '../mixinglayers/data/pgen_v1\\\\mixing_layer.out1.00637.athdf', '../mixinglayers/data/pgen_v1\\\\mixing_layer.out1.00638.athdf', '../mixinglayers/data/pgen_v1\\\\mixing_layer.out1.00639.athdf', '../mixinglayers/data/pgen_v1\\\\mixing_layer.out1.00640.athdf', '../mixinglayers/data/pgen_v1\\\\mixing_layer.out1.00641.athdf', '../mixinglayers/data/pgen_v1\\\\mixing_layer.out1.00642.athdf', '../mixinglayers/data/pgen_v1\\\\mixing_layer.out1.00643.athdf', '../mixinglayers/data/pgen_v1\\\\mixing_layer.out1.00644.athdf', '../mixinglayers/data/pgen_v1\\\\mixing_layer.out1.00645.athdf', '../mixinglayers/data/pgen_v1\\\\mixing_layer.out1.00646.athdf', '../mixinglayers/data/pgen_v1\\\\mixing_layer.out1.00647.athdf', '../mixinglayers/data/pgen_v1\\\\mixing_layer.out1.00648.athdf', '../mixinglayers/data/pgen_v1\\\\mixing_layer.out1.00649.athdf', '../mixinglayers/data/pgen_v1\\\\mixing_layer.out1.00650.athdf', '../mixinglayers/data/pgen_v1\\\\mixing_layer.out1.00651.athdf', '../mixinglayers/data/pgen_v1\\\\mixing_layer.out1.00652.athdf', '../mixinglayers/data/pgen_v1\\\\mixing_layer.out1.00653.athdf', '../mixinglayers/data/pgen_v1\\\\mixing_layer.out1.00654.athdf', '../mixinglayers/data/pgen_v1\\\\mixing_layer.out1.00655.athdf', '../mixinglayers/data/pgen_v1\\\\mixing_layer.out1.00656.athdf', '../mixinglayers/data/pgen_v1\\\\mixing_layer.out1.00657.athdf', '../mixinglayers/data/pgen_v1\\\\mixing_layer.out1.00658.athdf', '../mixinglayers/data/pgen_v1\\\\mixing_layer.out1.00659.athdf', '../mixinglayers/data/pgen_v1\\\\mixing_layer.out1.00660.athdf', '../mixinglayers/data/pgen_v1\\\\mixing_layer.out1.00661.athdf', '../mixinglayers/data/pgen_v1\\\\mixing_layer.out1.00662.athdf', '../mixinglayers/data/pgen_v1\\\\mixing_layer.out1.00663.athdf', '../mixinglayers/data/pgen_v1\\\\mixing_layer.out1.00664.athdf', '../mixinglayers/data/pgen_v1\\\\mixing_layer.out1.00665.athdf', '../mixinglayers/data/pgen_v1\\\\mixing_layer.out1.00666.athdf', '../mixinglayers/data/pgen_v1\\\\mixing_layer.out1.00667.athdf', '../mixinglayers/data/pgen_v1\\\\mixing_layer.out1.00668.athdf', '../mixinglayers/data/pgen_v1\\\\mixing_layer.out1.00669.athdf', '../mixinglayers/data/pgen_v1\\\\mixing_layer.out1.00670.athdf', '../mixinglayers/data/pgen_v1\\\\mixing_layer.out1.00671.athdf', '../mixinglayers/data/pgen_v1\\\\mixing_layer.out1.00672.athdf', '../mixinglayers/data/pgen_v1\\\\mixing_layer.out1.00673.athdf', '../mixinglayers/data/pgen_v1\\\\mixing_layer.out1.00674.athdf', '../mixinglayers/data/pgen_v1\\\\mixing_layer.out1.00675.athdf', '../mixinglayers/data/pgen_v1\\\\mixing_layer.out1.00676.athdf', '../mixinglayers/data/pgen_v1\\\\mixing_layer.out1.00677.athdf', '../mixinglayers/data/pgen_v1\\\\mixing_layer.out1.00678.athdf', '../mixinglayers/data/pgen_v1\\\\mixing_layer.out1.00679.athdf', '../mixinglayers/data/pgen_v1\\\\mixing_layer.out1.00680.athdf', '../mixinglayers/data/pgen_v1\\\\mixing_layer.out1.00681.athdf', '../mixinglayers/data/pgen_v1\\\\mixing_layer.out1.00682.athdf', '../mixinglayers/data/pgen_v1\\\\mixing_layer.out1.00683.athdf', '../mixinglayers/data/pgen_v1\\\\mixing_layer.out1.00684.athdf', '../mixinglayers/data/pgen_v1\\\\mixing_layer.out1.00685.athdf', '../mixinglayers/data/pgen_v1\\\\mixing_layer.out1.00686.athdf', '../mixinglayers/data/pgen_v1\\\\mixing_layer.out1.00687.athdf', '../mixinglayers/data/pgen_v1\\\\mixing_layer.out1.00688.athdf', '../mixinglayers/data/pgen_v1\\\\mixing_layer.out1.00689.athdf', '../mixinglayers/data/pgen_v1\\\\mixing_layer.out1.00690.athdf', '../mixinglayers/data/pgen_v1\\\\mixing_layer.out1.00691.athdf', '../mixinglayers/data/pgen_v1\\\\mixing_layer.out1.00692.athdf', '../mixinglayers/data/pgen_v1\\\\mixing_layer.out1.00693.athdf', '../mixinglayers/data/pgen_v1\\\\mixing_layer.out1.00694.athdf', '../mixinglayers/data/pgen_v1\\\\mixing_layer.out1.00695.athdf', '../mixinglayers/data/pgen_v1\\\\mixing_layer.out1.00696.athdf', '../mixinglayers/data/pgen_v1\\\\mixing_layer.out1.00697.athdf', '../mixinglayers/data/pgen_v1\\\\mixing_layer.out1.00698.athdf', '../mixinglayers/data/pgen_v1\\\\mixing_layer.out1.00699.athdf', '../mixinglayers/data/pgen_v1\\\\mixing_layer.out1.00700.athdf', '../mixinglayers/data/pgen_v1\\\\mixing_layer.out1.00701.athdf', '../mixinglayers/data/pgen_v1\\\\mixing_layer.out1.00702.athdf', '../mixinglayers/data/pgen_v1\\\\mixing_layer.out1.00703.athdf', '../mixinglayers/data/pgen_v1\\\\mixing_layer.out1.00704.athdf', '../mixinglayers/data/pgen_v1\\\\mixing_layer.out1.00705.athdf', '../mixinglayers/data/pgen_v1\\\\mixing_layer.out1.00706.athdf', '../mixinglayers/data/pgen_v1\\\\mixing_layer.out1.00707.athdf', '../mixinglayers/data/pgen_v1\\\\mixing_layer.out1.00708.athdf', '../mixinglayers/data/pgen_v1\\\\mixing_layer.out1.00709.athdf', '../mixinglayers/data/pgen_v1\\\\mixing_layer.out1.00710.athdf', '../mixinglayers/data/pgen_v1\\\\mixing_layer.out1.00711.athdf', '../mixinglayers/data/pgen_v1\\\\mixing_layer.out1.00712.athdf', '../mixinglayers/data/pgen_v1\\\\mixing_layer.out1.00713.athdf', '../mixinglayers/data/pgen_v1\\\\mixing_layer.out1.00714.athdf', '../mixinglayers/data/pgen_v1\\\\mixing_layer.out1.00715.athdf', '../mixinglayers/data/pgen_v1\\\\mixing_layer.out1.00716.athdf', '../mixinglayers/data/pgen_v1\\\\mixing_layer.out1.00717.athdf', '../mixinglayers/data/pgen_v1\\\\mixing_layer.out1.00718.athdf', '../mixinglayers/data/pgen_v1\\\\mixing_layer.out1.00719.athdf', '../mixinglayers/data/pgen_v1\\\\mixing_layer.out1.00720.athdf', '../mixinglayers/data/pgen_v1\\\\mixing_layer.out1.00721.athdf', '../mixinglayers/data/pgen_v1\\\\mixing_layer.out1.00722.athdf', '../mixinglayers/data/pgen_v1\\\\mixing_layer.out1.00723.athdf', '../mixinglayers/data/pgen_v1\\\\mixing_layer.out1.00724.athdf', '../mixinglayers/data/pgen_v1\\\\mixing_layer.out1.00725.athdf', '../mixinglayers/data/pgen_v1\\\\mixing_layer.out1.00726.athdf', '../mixinglayers/data/pgen_v1\\\\mixing_layer.out1.00727.athdf', '../mixinglayers/data/pgen_v1\\\\mixing_layer.out1.00728.athdf', '../mixinglayers/data/pgen_v1\\\\mixing_layer.out1.00729.athdf', '../mixinglayers/data/pgen_v1\\\\mixing_layer.out1.00730.athdf', '../mixinglayers/data/pgen_v1\\\\mixing_layer.out1.00731.athdf', '../mixinglayers/data/pgen_v1\\\\mixing_layer.out1.00732.athdf', '../mixinglayers/data/pgen_v1\\\\mixing_layer.out1.00733.athdf', '../mixinglayers/data/pgen_v1\\\\mixing_layer.out1.00734.athdf', '../mixinglayers/data/pgen_v1\\\\mixing_layer.out1.00735.athdf', '../mixinglayers/data/pgen_v1\\\\mixing_layer.out1.00736.athdf', '../mixinglayers/data/pgen_v1\\\\mixing_layer.out1.00737.athdf', '../mixinglayers/data/pgen_v1\\\\mixing_layer.out1.00738.athdf', '../mixinglayers/data/pgen_v1\\\\mixing_layer.out1.00739.athdf', '../mixinglayers/data/pgen_v1\\\\mixing_layer.out1.00740.athdf', '../mixinglayers/data/pgen_v1\\\\mixing_layer.out1.00741.athdf', '../mixinglayers/data/pgen_v1\\\\mixing_layer.out1.00742.athdf', '../mixinglayers/data/pgen_v1\\\\mixing_layer.out1.00743.athdf', '../mixinglayers/data/pgen_v1\\\\mixing_layer.out1.00744.athdf', '../mixinglayers/data/pgen_v1\\\\mixing_layer.out1.00745.athdf', '../mixinglayers/data/pgen_v1\\\\mixing_layer.out1.00746.athdf', '../mixinglayers/data/pgen_v1\\\\mixing_layer.out1.00747.athdf', '../mixinglayers/data/pgen_v1\\\\mixing_layer.out1.00748.athdf', '../mixinglayers/data/pgen_v1\\\\mixing_layer.out1.00749.athdf', '../mixinglayers/data/pgen_v1\\\\mixing_layer.out1.00750.athdf', '../mixinglayers/data/pgen_v1\\\\mixing_layer.out1.00751.athdf', '../mixinglayers/data/pgen_v1\\\\mixing_layer.out1.00752.athdf', '../mixinglayers/data/pgen_v1\\\\mixing_layer.out1.00753.athdf', '../mixinglayers/data/pgen_v1\\\\mixing_layer.out1.00754.athdf', '../mixinglayers/data/pgen_v1\\\\mixing_layer.out1.00755.athdf', '../mixinglayers/data/pgen_v1\\\\mixing_layer.out1.00756.athdf', '../mixinglayers/data/pgen_v1\\\\mixing_layer.out1.00757.athdf', '../mixinglayers/data/pgen_v1\\\\mixing_layer.out1.00758.athdf', '../mixinglayers/data/pgen_v1\\\\mixing_layer.out1.00759.athdf', '../mixinglayers/data/pgen_v1\\\\mixing_layer.out1.00760.athdf', '../mixinglayers/data/pgen_v1\\\\mixing_layer.out1.00761.athdf', '../mixinglayers/data/pgen_v1\\\\mixing_layer.out1.00762.athdf', '../mixinglayers/data/pgen_v1\\\\mixing_layer.out1.00763.athdf', '../mixinglayers/data/pgen_v1\\\\mixing_layer.out1.00764.athdf', '../mixinglayers/data/pgen_v1\\\\mixing_layer.out1.00765.athdf', '../mixinglayers/data/pgen_v1\\\\mixing_layer.out1.00766.athdf', '../mixinglayers/data/pgen_v1\\\\mixing_layer.out1.00767.athdf', '../mixinglayers/data/pgen_v1\\\\mixing_layer.out1.00768.athdf', '../mixinglayers/data/pgen_v1\\\\mixing_layer.out1.00769.athdf', '../mixinglayers/data/pgen_v1\\\\mixing_layer.out1.00770.athdf', '../mixinglayers/data/pgen_v1\\\\mixing_layer.out1.00771.athdf', '../mixinglayers/data/pgen_v1\\\\mixing_layer.out1.00772.athdf', '../mixinglayers/data/pgen_v1\\\\mixing_layer.out1.00773.athdf', '../mixinglayers/data/pgen_v1\\\\mixing_layer.out1.00774.athdf', '../mixinglayers/data/pgen_v1\\\\mixing_layer.out1.00775.athdf', '../mixinglayers/data/pgen_v1\\\\mixing_layer.out1.00776.athdf', '../mixinglayers/data/pgen_v1\\\\mixing_layer.out1.00777.athdf', '../mixinglayers/data/pgen_v1\\\\mixing_layer.out1.00778.athdf', '../mixinglayers/data/pgen_v1\\\\mixing_layer.out1.00779.athdf', '../mixinglayers/data/pgen_v1\\\\mixing_layer.out1.00780.athdf', '../mixinglayers/data/pgen_v1\\\\mixing_layer.out1.00781.athdf', '../mixinglayers/data/pgen_v1\\\\mixing_layer.out1.00782.athdf', '../mixinglayers/data/pgen_v1\\\\mixing_layer.out1.00783.athdf', '../mixinglayers/data/pgen_v1\\\\mixing_layer.out1.00784.athdf', '../mixinglayers/data/pgen_v1\\\\mixing_layer.out1.00785.athdf', '../mixinglayers/data/pgen_v1\\\\mixing_layer.out1.00786.athdf', '../mixinglayers/data/pgen_v1\\\\mixing_layer.out1.00787.athdf', '../mixinglayers/data/pgen_v1\\\\mixing_layer.out1.00788.athdf', '../mixinglayers/data/pgen_v1\\\\mixing_layer.out1.00789.athdf', '../mixinglayers/data/pgen_v1\\\\mixing_layer.out1.00790.athdf', '../mixinglayers/data/pgen_v1\\\\mixing_layer.out1.00791.athdf', '../mixinglayers/data/pgen_v1\\\\mixing_layer.out1.00792.athdf', '../mixinglayers/data/pgen_v1\\\\mixing_layer.out1.00793.athdf', '../mixinglayers/data/pgen_v1\\\\mixing_layer.out1.00794.athdf', '../mixinglayers/data/pgen_v1\\\\mixing_layer.out1.00795.athdf', '../mixinglayers/data/pgen_v1\\\\mixing_layer.out1.00796.athdf', '../mixinglayers/data/pgen_v1\\\\mixing_layer.out1.00797.athdf', '../mixinglayers/data/pgen_v1\\\\mixing_layer.out1.00798.athdf', '../mixinglayers/data/pgen_v1\\\\mixing_layer.out1.00799.athdf', '../mixinglayers/data/pgen_v1\\\\mixing_layer.out1.00800.athdf', '../mixinglayers/data/pgen_v1\\\\mixing_layer.out1.00801.athdf', '../mixinglayers/data/pgen_v1\\\\mixing_layer.out1.00802.athdf', '../mixinglayers/data/pgen_v1\\\\mixing_layer.out1.00803.athdf', '../mixinglayers/data/pgen_v1\\\\mixing_layer.out1.00804.athdf', '../mixinglayers/data/pgen_v1\\\\mixing_layer.out1.00805.athdf', '../mixinglayers/data/pgen_v1\\\\mixing_layer.out1.00806.athdf', '../mixinglayers/data/pgen_v1\\\\mixing_layer.out1.00807.athdf', '../mixinglayers/data/pgen_v1\\\\mixing_layer.out1.00808.athdf', '../mixinglayers/data/pgen_v1\\\\mixing_layer.out1.00809.athdf', '../mixinglayers/data/pgen_v1\\\\mixing_layer.out1.00810.athdf', '../mixinglayers/data/pgen_v1\\\\mixing_layer.out1.00811.athdf', '../mixinglayers/data/pgen_v1\\\\mixing_layer.out1.00812.athdf', '../mixinglayers/data/pgen_v1\\\\mixing_layer.out1.00813.athdf', '../mixinglayers/data/pgen_v1\\\\mixing_layer.out1.00814.athdf', '../mixinglayers/data/pgen_v1\\\\mixing_layer.out1.00815.athdf', '../mixinglayers/data/pgen_v1\\\\mixing_layer.out1.00816.athdf', '../mixinglayers/data/pgen_v1\\\\mixing_layer.out1.00817.athdf', '../mixinglayers/data/pgen_v1\\\\mixing_layer.out1.00818.athdf', '../mixinglayers/data/pgen_v1\\\\mixing_layer.out1.00819.athdf', '../mixinglayers/data/pgen_v1\\\\mixing_layer.out1.00820.athdf', '../mixinglayers/data/pgen_v1\\\\mixing_layer.out1.00821.athdf', '../mixinglayers/data/pgen_v1\\\\mixing_layer.out1.00822.athdf', '../mixinglayers/data/pgen_v1\\\\mixing_layer.out1.00823.athdf', '../mixinglayers/data/pgen_v1\\\\mixing_layer.out1.00824.athdf', '../mixinglayers/data/pgen_v1\\\\mixing_layer.out1.00825.athdf', '../mixinglayers/data/pgen_v1\\\\mixing_layer.out1.00826.athdf', '../mixinglayers/data/pgen_v1\\\\mixing_layer.out1.00827.athdf', '../mixinglayers/data/pgen_v1\\\\mixing_layer.out1.00828.athdf', '../mixinglayers/data/pgen_v1\\\\mixing_layer.out1.00829.athdf', '../mixinglayers/data/pgen_v1\\\\mixing_layer.out1.00830.athdf', '../mixinglayers/data/pgen_v1\\\\mixing_layer.out1.00831.athdf', '../mixinglayers/data/pgen_v1\\\\mixing_layer.out1.00832.athdf', '../mixinglayers/data/pgen_v1\\\\mixing_layer.out1.00833.athdf', '../mixinglayers/data/pgen_v1\\\\mixing_layer.out1.00834.athdf', '../mixinglayers/data/pgen_v1\\\\mixing_layer.out1.00835.athdf', '../mixinglayers/data/pgen_v1\\\\mixing_layer.out1.00836.athdf', '../mixinglayers/data/pgen_v1\\\\mixing_layer.out1.00837.athdf']\n",
      "837\n"
     ]
    }
   ],
   "source": [
    "alldatafiles = glob.glob(\"../mixinglayers/data/pgen_v1/mixing_layer.out1.*.athdf\") \n",
    "alldatafiles.sort() #put files in order\n",
    "print(alldatafiles)\n",
    "print(len(alldatafiles)-1)"
   ]
  },
  {
   "cell_type": "code",
   "execution_count": 13,
   "metadata": {
    "collapsed": true,
    "jupyter": {
     "outputs_hidden": true
    }
   },
   "outputs": [
    {
     "name": "stderr",
     "output_type": "stream",
     "text": [
      "yt : [WARNING  ] 2020-03-09 02:01:25,529 Assuming 1.0 = 1.0 cm\n",
      "yt : [WARNING  ] 2020-03-09 02:01:25,553 Assuming 1.0 = 1.0 s\n",
      "yt : [WARNING  ] 2020-03-09 02:01:25,555 Assuming 1.0 = 1.0 g\n",
      "yt : [WARNING  ] 2020-03-09 02:01:25,555 Assuming 1.0 = 1.0 K\n",
      "yt : [INFO     ] 2020-03-09 02:01:25,851 Parameters: current_time              = 0.0\n",
      "yt : [INFO     ] 2020-03-09 02:01:25,851 Parameters: domain_dimensions         = [256 640   1]\n",
      "yt : [INFO     ] 2020-03-09 02:01:25,853 Parameters: domain_left_edge          = [-1.5450e+19 -3.8625e+19 -5.0000e-01]\n",
      "yt : [INFO     ] 2020-03-09 02:01:25,854 Parameters: domain_right_edge         = [1.5450e+19 3.8625e+19 5.0000e-01]\n",
      "yt : [INFO     ] 2020-03-09 02:01:25,855 Parameters: cosmological_simulation   = 0.0\n"
     ]
    },
    {
     "name": "stdout",
     "output_type": "stream",
     "text": [
      "mixing_layer.out1.00000\n"
     ]
    },
    {
     "name": "stderr",
     "output_type": "stream",
     "text": [
      "yt : [WARNING  ] 2020-03-09 02:01:25,880 Assuming 1.0 = 1.0 cm\n",
      "yt : [WARNING  ] 2020-03-09 02:01:25,881 Assuming 1.0 = 1.0 s\n",
      "yt : [WARNING  ] 2020-03-09 02:01:25,882 Assuming 1.0 = 1.0 g\n",
      "yt : [WARNING  ] 2020-03-09 02:01:25,883 Assuming 1.0 = 1.0 K\n",
      "yt : [INFO     ] 2020-03-09 02:01:25,896 Parameters: current_time              = 1886758656827.461\n",
      "yt : [INFO     ] 2020-03-09 02:01:25,896 Parameters: domain_dimensions         = [256 640   1]\n",
      "yt : [INFO     ] 2020-03-09 02:01:25,897 Parameters: domain_left_edge          = [-1.5450e+19 -3.8625e+19 -5.0000e-01]\n",
      "yt : [INFO     ] 2020-03-09 02:01:25,898 Parameters: domain_right_edge         = [1.5450e+19 3.8625e+19 5.0000e-01]\n",
      "yt : [INFO     ] 2020-03-09 02:01:25,898 Parameters: cosmological_simulation   = 0.0\n"
     ]
    },
    {
     "name": "stdout",
     "output_type": "stream",
     "text": [
      "mixing_layer.out1.00001\n"
     ]
    },
    {
     "name": "stderr",
     "output_type": "stream",
     "text": [
      "yt : [WARNING  ] 2020-03-09 02:01:25,925 Assuming 1.0 = 1.0 cm\n",
      "yt : [WARNING  ] 2020-03-09 02:01:25,926 Assuming 1.0 = 1.0 s\n",
      "yt : [WARNING  ] 2020-03-09 02:01:25,926 Assuming 1.0 = 1.0 g\n",
      "yt : [WARNING  ] 2020-03-09 02:01:25,927 Assuming 1.0 = 1.0 K\n",
      "yt : [INFO     ] 2020-03-09 02:01:25,939 Parameters: current_time              = 3770680823225.2266\n",
      "yt : [INFO     ] 2020-03-09 02:01:25,940 Parameters: domain_dimensions         = [256 640   1]\n",
      "yt : [INFO     ] 2020-03-09 02:01:25,941 Parameters: domain_left_edge          = [-1.5450e+19 -3.8625e+19 -5.0000e-01]\n",
      "yt : [INFO     ] 2020-03-09 02:01:25,941 Parameters: domain_right_edge         = [1.5450e+19 3.8625e+19 5.0000e-01]\n",
      "yt : [INFO     ] 2020-03-09 02:01:25,942 Parameters: cosmological_simulation   = 0.0\n"
     ]
    },
    {
     "name": "stdout",
     "output_type": "stream",
     "text": [
      "mixing_layer.out1.00002\n"
     ]
    },
    {
     "name": "stderr",
     "output_type": "stream",
     "text": [
      "yt : [WARNING  ] 2020-03-09 02:01:25,970 Assuming 1.0 = 1.0 cm\n",
      "yt : [WARNING  ] 2020-03-09 02:01:25,971 Assuming 1.0 = 1.0 s\n",
      "yt : [WARNING  ] 2020-03-09 02:01:25,972 Assuming 1.0 = 1.0 g\n",
      "yt : [WARNING  ] 2020-03-09 02:01:25,973 Assuming 1.0 = 1.0 K\n",
      "yt : [INFO     ] 2020-03-09 02:01:25,988 Parameters: current_time              = 5652708553812.482\n",
      "yt : [INFO     ] 2020-03-09 02:01:25,989 Parameters: domain_dimensions         = [256 640   1]\n",
      "yt : [INFO     ] 2020-03-09 02:01:25,990 Parameters: domain_left_edge          = [-1.5450e+19 -3.8625e+19 -5.0000e-01]\n",
      "yt : [INFO     ] 2020-03-09 02:01:25,991 Parameters: domain_right_edge         = [1.5450e+19 3.8625e+19 5.0000e-01]\n",
      "yt : [INFO     ] 2020-03-09 02:01:25,992 Parameters: cosmological_simulation   = 0.0\n"
     ]
    },
    {
     "name": "stdout",
     "output_type": "stream",
     "text": [
      "mixing_layer.out1.00003\n"
     ]
    },
    {
     "name": "stderr",
     "output_type": "stream",
     "text": [
      "yt : [WARNING  ] 2020-03-09 02:01:26,020 Assuming 1.0 = 1.0 cm\n",
      "yt : [WARNING  ] 2020-03-09 02:01:26,022 Assuming 1.0 = 1.0 s\n",
      "yt : [WARNING  ] 2020-03-09 02:01:26,022 Assuming 1.0 = 1.0 g\n",
      "yt : [WARNING  ] 2020-03-09 02:01:26,023 Assuming 1.0 = 1.0 K\n",
      "yt : [INFO     ] 2020-03-09 02:01:26,033 Parameters: current_time              = 7537116902323.984\n",
      "yt : [INFO     ] 2020-03-09 02:01:26,034 Parameters: domain_dimensions         = [256 640   1]\n",
      "yt : [INFO     ] 2020-03-09 02:01:26,036 Parameters: domain_left_edge          = [-1.5450e+19 -3.8625e+19 -5.0000e-01]\n",
      "yt : [INFO     ] 2020-03-09 02:01:26,037 Parameters: domain_right_edge         = [1.5450e+19 3.8625e+19 5.0000e-01]\n",
      "yt : [INFO     ] 2020-03-09 02:01:26,038 Parameters: cosmological_simulation   = 0.0\n"
     ]
    },
    {
     "name": "stdout",
     "output_type": "stream",
     "text": [
      "mixing_layer.out1.00004\n"
     ]
    },
    {
     "name": "stderr",
     "output_type": "stream",
     "text": [
      "yt : [WARNING  ] 2020-03-09 02:01:26,063 Assuming 1.0 = 1.0 cm\n",
      "yt : [WARNING  ] 2020-03-09 02:01:26,064 Assuming 1.0 = 1.0 s\n",
      "yt : [WARNING  ] 2020-03-09 02:01:26,066 Assuming 1.0 = 1.0 g\n",
      "yt : [WARNING  ] 2020-03-09 02:01:26,067 Assuming 1.0 = 1.0 K\n",
      "yt : [INFO     ] 2020-03-09 02:01:26,078 Parameters: current_time              = 9420174470578.734\n",
      "yt : [INFO     ] 2020-03-09 02:01:26,079 Parameters: domain_dimensions         = [256 640   1]\n",
      "yt : [INFO     ] 2020-03-09 02:01:26,079 Parameters: domain_left_edge          = [-1.5450e+19 -3.8625e+19 -5.0000e-01]\n",
      "yt : [INFO     ] 2020-03-09 02:01:26,080 Parameters: domain_right_edge         = [1.5450e+19 3.8625e+19 5.0000e-01]\n",
      "yt : [INFO     ] 2020-03-09 02:01:26,081 Parameters: cosmological_simulation   = 0.0\n"
     ]
    },
    {
     "name": "stdout",
     "output_type": "stream",
     "text": [
      "mixing_layer.out1.00005\n"
     ]
    },
    {
     "name": "stderr",
     "output_type": "stream",
     "text": [
      "yt : [WARNING  ] 2020-03-09 02:01:26,107 Assuming 1.0 = 1.0 cm\n",
      "yt : [WARNING  ] 2020-03-09 02:01:26,108 Assuming 1.0 = 1.0 s\n",
      "yt : [WARNING  ] 2020-03-09 02:01:26,108 Assuming 1.0 = 1.0 g\n",
      "yt : [WARNING  ] 2020-03-09 02:01:26,109 Assuming 1.0 = 1.0 K\n",
      "yt : [INFO     ] 2020-03-09 02:01:26,123 Parameters: current_time              = 11304910275489.574\n",
      "yt : [INFO     ] 2020-03-09 02:01:26,123 Parameters: domain_dimensions         = [256 640   1]\n",
      "yt : [INFO     ] 2020-03-09 02:01:26,124 Parameters: domain_left_edge          = [-1.5450e+19 -3.8625e+19 -5.0000e-01]\n",
      "yt : [INFO     ] 2020-03-09 02:01:26,126 Parameters: domain_right_edge         = [1.5450e+19 3.8625e+19 5.0000e-01]\n",
      "yt : [INFO     ] 2020-03-09 02:01:26,126 Parameters: cosmological_simulation   = 0.0\n"
     ]
    },
    {
     "name": "stdout",
     "output_type": "stream",
     "text": [
      "mixing_layer.out1.00006\n"
     ]
    },
    {
     "name": "stderr",
     "output_type": "stream",
     "text": [
      "yt : [WARNING  ] 2020-03-09 02:01:26,150 Assuming 1.0 = 1.0 cm\n",
      "yt : [WARNING  ] 2020-03-09 02:01:26,151 Assuming 1.0 = 1.0 s\n",
      "yt : [WARNING  ] 2020-03-09 02:01:26,153 Assuming 1.0 = 1.0 g\n",
      "yt : [WARNING  ] 2020-03-09 02:01:26,154 Assuming 1.0 = 1.0 K\n",
      "yt : [INFO     ] 2020-03-09 02:01:26,165 Parameters: current_time              = 13189149689953.78\n",
      "yt : [INFO     ] 2020-03-09 02:01:26,166 Parameters: domain_dimensions         = [256 640   1]\n",
      "yt : [INFO     ] 2020-03-09 02:01:26,167 Parameters: domain_left_edge          = [-1.5450e+19 -3.8625e+19 -5.0000e-01]\n",
      "yt : [INFO     ] 2020-03-09 02:01:26,168 Parameters: domain_right_edge         = [1.5450e+19 3.8625e+19 5.0000e-01]\n",
      "yt : [INFO     ] 2020-03-09 02:01:26,169 Parameters: cosmological_simulation   = 0.0\n"
     ]
    },
    {
     "name": "stdout",
     "output_type": "stream",
     "text": [
      "mixing_layer.out1.00007\n"
     ]
    },
    {
     "name": "stderr",
     "output_type": "stream",
     "text": [
      "yt : [WARNING  ] 2020-03-09 02:01:26,194 Assuming 1.0 = 1.0 cm\n",
      "yt : [WARNING  ] 2020-03-09 02:01:26,195 Assuming 1.0 = 1.0 s\n",
      "yt : [WARNING  ] 2020-03-09 02:01:26,196 Assuming 1.0 = 1.0 g\n",
      "yt : [WARNING  ] 2020-03-09 02:01:26,197 Assuming 1.0 = 1.0 K\n",
      "yt : [INFO     ] 2020-03-09 02:01:26,209 Parameters: current_time              = 15072913465445.361\n",
      "yt : [INFO     ] 2020-03-09 02:01:26,209 Parameters: domain_dimensions         = [256 640   1]\n",
      "yt : [INFO     ] 2020-03-09 02:01:26,210 Parameters: domain_left_edge          = [-1.5450e+19 -3.8625e+19 -5.0000e-01]\n",
      "yt : [INFO     ] 2020-03-09 02:01:26,211 Parameters: domain_right_edge         = [1.5450e+19 3.8625e+19 5.0000e-01]\n",
      "yt : [INFO     ] 2020-03-09 02:01:26,212 Parameters: cosmological_simulation   = 0.0\n"
     ]
    },
    {
     "name": "stdout",
     "output_type": "stream",
     "text": [
      "mixing_layer.out1.00008\n"
     ]
    },
    {
     "name": "stderr",
     "output_type": "stream",
     "text": [
      "yt : [WARNING  ] 2020-03-09 02:01:26,238 Assuming 1.0 = 1.0 cm\n",
      "yt : [WARNING  ] 2020-03-09 02:01:26,239 Assuming 1.0 = 1.0 s\n",
      "yt : [WARNING  ] 2020-03-09 02:01:26,240 Assuming 1.0 = 1.0 g\n",
      "yt : [WARNING  ] 2020-03-09 02:01:26,240 Assuming 1.0 = 1.0 K\n",
      "yt : [INFO     ] 2020-03-09 02:01:26,252 Parameters: current_time              = 16958977473305.531\n",
      "yt : [INFO     ] 2020-03-09 02:01:26,253 Parameters: domain_dimensions         = [256 640   1]\n",
      "yt : [INFO     ] 2020-03-09 02:01:26,254 Parameters: domain_left_edge          = [-1.5450e+19 -3.8625e+19 -5.0000e-01]\n",
      "yt : [INFO     ] 2020-03-09 02:01:26,255 Parameters: domain_right_edge         = [1.5450e+19 3.8625e+19 5.0000e-01]\n",
      "yt : [INFO     ] 2020-03-09 02:01:26,256 Parameters: cosmological_simulation   = 0.0\n"
     ]
    },
    {
     "name": "stdout",
     "output_type": "stream",
     "text": [
      "mixing_layer.out1.00009\n"
     ]
    },
    {
     "name": "stderr",
     "output_type": "stream",
     "text": [
      "yt : [WARNING  ] 2020-03-09 02:01:26,280 Assuming 1.0 = 1.0 cm\n",
      "yt : [WARNING  ] 2020-03-09 02:01:26,281 Assuming 1.0 = 1.0 s\n",
      "yt : [WARNING  ] 2020-03-09 02:01:26,282 Assuming 1.0 = 1.0 g\n",
      "yt : [WARNING  ] 2020-03-09 02:01:26,283 Assuming 1.0 = 1.0 K\n",
      "yt : [INFO     ] 2020-03-09 02:01:26,296 Parameters: current_time              = 18840900390154.22\n",
      "yt : [INFO     ] 2020-03-09 02:01:26,297 Parameters: domain_dimensions         = [256 640   1]\n",
      "yt : [INFO     ] 2020-03-09 02:01:26,297 Parameters: domain_left_edge          = [-1.5450e+19 -3.8625e+19 -5.0000e-01]\n",
      "yt : [INFO     ] 2020-03-09 02:01:26,298 Parameters: domain_right_edge         = [1.5450e+19 3.8625e+19 5.0000e-01]\n",
      "yt : [INFO     ] 2020-03-09 02:01:26,299 Parameters: cosmological_simulation   = 0.0\n"
     ]
    },
    {
     "name": "stdout",
     "output_type": "stream",
     "text": [
      "mixing_layer.out1.00010\n"
     ]
    },
    {
     "name": "stderr",
     "output_type": "stream",
     "text": [
      "yt : [WARNING  ] 2020-03-09 02:01:26,323 Assuming 1.0 = 1.0 cm\n",
      "yt : [WARNING  ] 2020-03-09 02:01:26,324 Assuming 1.0 = 1.0 s\n",
      "yt : [WARNING  ] 2020-03-09 02:01:26,325 Assuming 1.0 = 1.0 g\n",
      "yt : [WARNING  ] 2020-03-09 02:01:26,326 Assuming 1.0 = 1.0 K\n",
      "yt : [INFO     ] 2020-03-09 02:01:26,337 Parameters: current_time              = 20724878235628.957\n",
      "yt : [INFO     ] 2020-03-09 02:01:26,338 Parameters: domain_dimensions         = [256 640   1]\n",
      "yt : [INFO     ] 2020-03-09 02:01:26,340 Parameters: domain_left_edge          = [-1.5450e+19 -3.8625e+19 -5.0000e-01]\n",
      "yt : [INFO     ] 2020-03-09 02:01:26,341 Parameters: domain_right_edge         = [1.5450e+19 3.8625e+19 5.0000e-01]\n",
      "yt : [INFO     ] 2020-03-09 02:01:26,341 Parameters: cosmological_simulation   = 0.0\n"
     ]
    },
    {
     "name": "stdout",
     "output_type": "stream",
     "text": [
      "mixing_layer.out1.00011\n"
     ]
    },
    {
     "name": "stderr",
     "output_type": "stream",
     "text": [
      "yt : [WARNING  ] 2020-03-09 02:01:26,365 Assuming 1.0 = 1.0 cm\n",
      "yt : [WARNING  ] 2020-03-09 02:01:26,367 Assuming 1.0 = 1.0 s\n",
      "yt : [WARNING  ] 2020-03-09 02:01:26,369 Assuming 1.0 = 1.0 g\n",
      "yt : [WARNING  ] 2020-03-09 02:01:26,370 Assuming 1.0 = 1.0 K\n",
      "yt : [INFO     ] 2020-03-09 02:01:26,382 Parameters: current_time              = 22611078320657.973\n",
      "yt : [INFO     ] 2020-03-09 02:01:26,383 Parameters: domain_dimensions         = [256 640   1]\n",
      "yt : [INFO     ] 2020-03-09 02:01:26,385 Parameters: domain_left_edge          = [-1.5450e+19 -3.8625e+19 -5.0000e-01]\n",
      "yt : [INFO     ] 2020-03-09 02:01:26,386 Parameters: domain_right_edge         = [1.5450e+19 3.8625e+19 5.0000e-01]\n",
      "yt : [INFO     ] 2020-03-09 02:01:26,387 Parameters: cosmological_simulation   = 0.0\n"
     ]
    },
    {
     "name": "stdout",
     "output_type": "stream",
     "text": [
      "mixing_layer.out1.00012\n"
     ]
    },
    {
     "name": "stderr",
     "output_type": "stream",
     "text": [
      "yt : [WARNING  ] 2020-03-09 02:01:26,411 Assuming 1.0 = 1.0 cm\n",
      "yt : [WARNING  ] 2020-03-09 02:01:26,412 Assuming 1.0 = 1.0 s\n",
      "yt : [WARNING  ] 2020-03-09 02:01:26,413 Assuming 1.0 = 1.0 g\n",
      "yt : [WARNING  ] 2020-03-09 02:01:26,414 Assuming 1.0 = 1.0 K\n",
      "yt : [INFO     ] 2020-03-09 02:01:26,426 Parameters: current_time              = 24494687617783.02\n",
      "yt : [INFO     ] 2020-03-09 02:01:26,427 Parameters: domain_dimensions         = [256 640   1]\n",
      "yt : [INFO     ] 2020-03-09 02:01:26,427 Parameters: domain_left_edge          = [-1.5450e+19 -3.8625e+19 -5.0000e-01]\n",
      "yt : [INFO     ] 2020-03-09 02:01:26,428 Parameters: domain_right_edge         = [1.5450e+19 3.8625e+19 5.0000e-01]\n",
      "yt : [INFO     ] 2020-03-09 02:01:26,429 Parameters: cosmological_simulation   = 0.0\n"
     ]
    },
    {
     "name": "stdout",
     "output_type": "stream",
     "text": [
      "mixing_layer.out1.00013\n"
     ]
    },
    {
     "name": "stderr",
     "output_type": "stream",
     "text": [
      "yt : [WARNING  ] 2020-03-09 02:01:26,454 Assuming 1.0 = 1.0 cm\n",
      "yt : [WARNING  ] 2020-03-09 02:01:26,455 Assuming 1.0 = 1.0 s\n",
      "yt : [WARNING  ] 2020-03-09 02:01:26,456 Assuming 1.0 = 1.0 g\n",
      "yt : [WARNING  ] 2020-03-09 02:01:26,457 Assuming 1.0 = 1.0 K\n",
      "yt : [INFO     ] 2020-03-09 02:01:26,468 Parameters: current_time              = 26377022859791.043\n",
      "yt : [INFO     ] 2020-03-09 02:01:26,469 Parameters: domain_dimensions         = [256 640   1]\n",
      "yt : [INFO     ] 2020-03-09 02:01:26,470 Parameters: domain_left_edge          = [-1.5450e+19 -3.8625e+19 -5.0000e-01]\n",
      "yt : [INFO     ] 2020-03-09 02:01:26,471 Parameters: domain_right_edge         = [1.5450e+19 3.8625e+19 5.0000e-01]\n",
      "yt : [INFO     ] 2020-03-09 02:01:26,472 Parameters: cosmological_simulation   = 0.0\n"
     ]
    },
    {
     "name": "stdout",
     "output_type": "stream",
     "text": [
      "mixing_layer.out1.00014\n"
     ]
    },
    {
     "name": "stderr",
     "output_type": "stream",
     "text": [
      "yt : [WARNING  ] 2020-03-09 02:01:26,497 Assuming 1.0 = 1.0 cm\n",
      "yt : [WARNING  ] 2020-03-09 02:01:26,498 Assuming 1.0 = 1.0 s\n",
      "yt : [WARNING  ] 2020-03-09 02:01:26,499 Assuming 1.0 = 1.0 g\n",
      "yt : [WARNING  ] 2020-03-09 02:01:26,500 Assuming 1.0 = 1.0 K\n",
      "yt : [INFO     ] 2020-03-09 02:01:26,513 Parameters: current_time              = 28261595798174.24\n",
      "yt : [INFO     ] 2020-03-09 02:01:26,513 Parameters: domain_dimensions         = [256 640   1]\n",
      "yt : [INFO     ] 2020-03-09 02:01:26,514 Parameters: domain_left_edge          = [-1.5450e+19 -3.8625e+19 -5.0000e-01]\n",
      "yt : [INFO     ] 2020-03-09 02:01:26,515 Parameters: domain_right_edge         = [1.5450e+19 3.8625e+19 5.0000e-01]\n",
      "yt : [INFO     ] 2020-03-09 02:01:26,516 Parameters: cosmological_simulation   = 0.0\n"
     ]
    },
    {
     "name": "stdout",
     "output_type": "stream",
     "text": [
      "mixing_layer.out1.00015\n"
     ]
    },
    {
     "name": "stderr",
     "output_type": "stream",
     "text": [
      "yt : [WARNING  ] 2020-03-09 02:01:26,542 Assuming 1.0 = 1.0 cm\n",
      "yt : [WARNING  ] 2020-03-09 02:01:26,543 Assuming 1.0 = 1.0 s\n",
      "yt : [WARNING  ] 2020-03-09 02:01:26,544 Assuming 1.0 = 1.0 g\n",
      "yt : [WARNING  ] 2020-03-09 02:01:26,545 Assuming 1.0 = 1.0 K\n",
      "yt : [INFO     ] 2020-03-09 02:01:26,557 Parameters: current_time              = 30146661837870.53\n",
      "yt : [INFO     ] 2020-03-09 02:01:26,558 Parameters: domain_dimensions         = [256 640   1]\n",
      "yt : [INFO     ] 2020-03-09 02:01:26,559 Parameters: domain_left_edge          = [-1.5450e+19 -3.8625e+19 -5.0000e-01]\n",
      "yt : [INFO     ] 2020-03-09 02:01:26,559 Parameters: domain_right_edge         = [1.5450e+19 3.8625e+19 5.0000e-01]\n",
      "yt : [INFO     ] 2020-03-09 02:01:26,560 Parameters: cosmological_simulation   = 0.0\n"
     ]
    },
    {
     "name": "stdout",
     "output_type": "stream",
     "text": [
      "mixing_layer.out1.00016\n"
     ]
    },
    {
     "name": "stderr",
     "output_type": "stream",
     "text": [
      "yt : [WARNING  ] 2020-03-09 02:01:26,585 Assuming 1.0 = 1.0 cm\n",
      "yt : [WARNING  ] 2020-03-09 02:01:26,586 Assuming 1.0 = 1.0 s\n",
      "yt : [WARNING  ] 2020-03-09 02:01:26,587 Assuming 1.0 = 1.0 g\n",
      "yt : [WARNING  ] 2020-03-09 02:01:26,589 Assuming 1.0 = 1.0 K\n",
      "yt : [INFO     ] 2020-03-09 02:01:26,600 Parameters: current_time              = 32029379514374.0\n",
      "yt : [INFO     ] 2020-03-09 02:01:26,601 Parameters: domain_dimensions         = [256 640   1]\n",
      "yt : [INFO     ] 2020-03-09 02:01:26,603 Parameters: domain_left_edge          = [-1.5450e+19 -3.8625e+19 -5.0000e-01]\n",
      "yt : [INFO     ] 2020-03-09 02:01:26,604 Parameters: domain_right_edge         = [1.5450e+19 3.8625e+19 5.0000e-01]\n",
      "yt : [INFO     ] 2020-03-09 02:01:26,605 Parameters: cosmological_simulation   = 0.0\n"
     ]
    },
    {
     "name": "stdout",
     "output_type": "stream",
     "text": [
      "mixing_layer.out1.00017\n"
     ]
    },
    {
     "name": "stderr",
     "output_type": "stream",
     "text": [
      "yt : [WARNING  ] 2020-03-09 02:01:26,629 Assuming 1.0 = 1.0 cm\n",
      "yt : [WARNING  ] 2020-03-09 02:01:26,630 Assuming 1.0 = 1.0 s\n",
      "yt : [WARNING  ] 2020-03-09 02:01:26,631 Assuming 1.0 = 1.0 g\n",
      "yt : [WARNING  ] 2020-03-09 02:01:26,631 Assuming 1.0 = 1.0 K\n",
      "yt : [INFO     ] 2020-03-09 02:01:26,645 Parameters: current_time              = 33913795482663.344\n",
      "yt : [INFO     ] 2020-03-09 02:01:26,646 Parameters: domain_dimensions         = [256 640   1]\n",
      "yt : [INFO     ] 2020-03-09 02:01:26,647 Parameters: domain_left_edge          = [-1.5450e+19 -3.8625e+19 -5.0000e-01]\n",
      "yt : [INFO     ] 2020-03-09 02:01:26,647 Parameters: domain_right_edge         = [1.5450e+19 3.8625e+19 5.0000e-01]\n",
      "yt : [INFO     ] 2020-03-09 02:01:26,648 Parameters: cosmological_simulation   = 0.0\n"
     ]
    },
    {
     "name": "stdout",
     "output_type": "stream",
     "text": [
      "mixing_layer.out1.00018\n"
     ]
    },
    {
     "name": "stderr",
     "output_type": "stream",
     "text": [
      "yt : [WARNING  ] 2020-03-09 02:01:26,674 Assuming 1.0 = 1.0 cm\n",
      "yt : [WARNING  ] 2020-03-09 02:01:26,675 Assuming 1.0 = 1.0 s\n",
      "yt : [WARNING  ] 2020-03-09 02:01:26,676 Assuming 1.0 = 1.0 g\n",
      "yt : [WARNING  ] 2020-03-09 02:01:26,676 Assuming 1.0 = 1.0 K\n",
      "yt : [INFO     ] 2020-03-09 02:01:26,688 Parameters: current_time              = 35796479037246.74\n",
      "yt : [INFO     ] 2020-03-09 02:01:26,689 Parameters: domain_dimensions         = [256 640   1]\n",
      "yt : [INFO     ] 2020-03-09 02:01:26,690 Parameters: domain_left_edge          = [-1.5450e+19 -3.8625e+19 -5.0000e-01]\n",
      "yt : [INFO     ] 2020-03-09 02:01:26,691 Parameters: domain_right_edge         = [1.5450e+19 3.8625e+19 5.0000e-01]\n",
      "yt : [INFO     ] 2020-03-09 02:01:26,691 Parameters: cosmological_simulation   = 0.0\n"
     ]
    },
    {
     "name": "stdout",
     "output_type": "stream",
     "text": [
      "mixing_layer.out1.00019\n"
     ]
    },
    {
     "name": "stderr",
     "output_type": "stream",
     "text": [
      "yt : [WARNING  ] 2020-03-09 02:01:26,716 Assuming 1.0 = 1.0 cm\n",
      "yt : [WARNING  ] 2020-03-09 02:01:26,717 Assuming 1.0 = 1.0 s\n",
      "yt : [WARNING  ] 2020-03-09 02:01:26,718 Assuming 1.0 = 1.0 g\n",
      "yt : [WARNING  ] 2020-03-09 02:01:26,719 Assuming 1.0 = 1.0 K\n",
      "yt : [INFO     ] 2020-03-09 02:01:26,731 Parameters: current_time              = 37681210005945.96\n",
      "yt : [INFO     ] 2020-03-09 02:01:26,731 Parameters: domain_dimensions         = [256 640   1]\n",
      "yt : [INFO     ] 2020-03-09 02:01:26,732 Parameters: domain_left_edge          = [-1.5450e+19 -3.8625e+19 -5.0000e-01]\n",
      "yt : [INFO     ] 2020-03-09 02:01:26,734 Parameters: domain_right_edge         = [1.5450e+19 3.8625e+19 5.0000e-01]\n",
      "yt : [INFO     ] 2020-03-09 02:01:26,735 Parameters: cosmological_simulation   = 0.0\n"
     ]
    },
    {
     "name": "stdout",
     "output_type": "stream",
     "text": [
      "mixing_layer.out1.00020\n"
     ]
    },
    {
     "name": "stderr",
     "output_type": "stream",
     "text": [
      "yt : [WARNING  ] 2020-03-09 02:01:26,760 Assuming 1.0 = 1.0 cm\n",
      "yt : [WARNING  ] 2020-03-09 02:01:26,761 Assuming 1.0 = 1.0 s\n",
      "yt : [WARNING  ] 2020-03-09 02:01:26,762 Assuming 1.0 = 1.0 g\n",
      "yt : [WARNING  ] 2020-03-09 02:01:26,763 Assuming 1.0 = 1.0 K\n",
      "yt : [INFO     ] 2020-03-09 02:01:26,775 Parameters: current_time              = 39564797024691.64\n",
      "yt : [INFO     ] 2020-03-09 02:01:26,775 Parameters: domain_dimensions         = [256 640   1]\n",
      "yt : [INFO     ] 2020-03-09 02:01:26,776 Parameters: domain_left_edge          = [-1.5450e+19 -3.8625e+19 -5.0000e-01]\n",
      "yt : [INFO     ] 2020-03-09 02:01:26,777 Parameters: domain_right_edge         = [1.5450e+19 3.8625e+19 5.0000e-01]\n",
      "yt : [INFO     ] 2020-03-09 02:01:26,778 Parameters: cosmological_simulation   = 0.0\n"
     ]
    },
    {
     "name": "stdout",
     "output_type": "stream",
     "text": [
      "mixing_layer.out1.00021\n"
     ]
    },
    {
     "name": "stderr",
     "output_type": "stream",
     "text": [
      "yt : [WARNING  ] 2020-03-09 02:01:26,805 Assuming 1.0 = 1.0 cm\n",
      "yt : [WARNING  ] 2020-03-09 02:01:26,806 Assuming 1.0 = 1.0 s\n",
      "yt : [WARNING  ] 2020-03-09 02:01:26,807 Assuming 1.0 = 1.0 g\n",
      "yt : [WARNING  ] 2020-03-09 02:01:26,808 Assuming 1.0 = 1.0 K\n",
      "yt : [INFO     ] 2020-03-09 02:01:26,829 Parameters: current_time              = 41449327315424.61\n",
      "yt : [INFO     ] 2020-03-09 02:01:26,829 Parameters: domain_dimensions         = [256 640   1]\n",
      "yt : [INFO     ] 2020-03-09 02:01:26,830 Parameters: domain_left_edge          = [-1.5450e+19 -3.8625e+19 -5.0000e-01]\n",
      "yt : [INFO     ] 2020-03-09 02:01:26,831 Parameters: domain_right_edge         = [1.5450e+19 3.8625e+19 5.0000e-01]\n",
      "yt : [INFO     ] 2020-03-09 02:01:26,832 Parameters: cosmological_simulation   = 0.0\n"
     ]
    },
    {
     "name": "stdout",
     "output_type": "stream",
     "text": [
      "mixing_layer.out1.00022\n"
     ]
    },
    {
     "name": "stderr",
     "output_type": "stream",
     "text": [
      "yt : [WARNING  ] 2020-03-09 02:01:26,857 Assuming 1.0 = 1.0 cm\n",
      "yt : [WARNING  ] 2020-03-09 02:01:26,858 Assuming 1.0 = 1.0 s\n",
      "yt : [WARNING  ] 2020-03-09 02:01:26,859 Assuming 1.0 = 1.0 g\n",
      "yt : [WARNING  ] 2020-03-09 02:01:26,859 Assuming 1.0 = 1.0 K\n",
      "yt : [INFO     ] 2020-03-09 02:01:26,871 Parameters: current_time              = 43333414999769.79\n",
      "yt : [INFO     ] 2020-03-09 02:01:26,872 Parameters: domain_dimensions         = [256 640   1]\n",
      "yt : [INFO     ] 2020-03-09 02:01:26,872 Parameters: domain_left_edge          = [-1.5450e+19 -3.8625e+19 -5.0000e-01]\n",
      "yt : [INFO     ] 2020-03-09 02:01:26,873 Parameters: domain_right_edge         = [1.5450e+19 3.8625e+19 5.0000e-01]\n",
      "yt : [INFO     ] 2020-03-09 02:01:26,874 Parameters: cosmological_simulation   = 0.0\n"
     ]
    },
    {
     "name": "stdout",
     "output_type": "stream",
     "text": [
      "mixing_layer.out1.00023\n"
     ]
    },
    {
     "name": "stderr",
     "output_type": "stream",
     "text": [
      "yt : [WARNING  ] 2020-03-09 02:01:26,900 Assuming 1.0 = 1.0 cm\n",
      "yt : [WARNING  ] 2020-03-09 02:01:26,901 Assuming 1.0 = 1.0 s\n",
      "yt : [WARNING  ] 2020-03-09 02:01:26,902 Assuming 1.0 = 1.0 g\n",
      "yt : [WARNING  ] 2020-03-09 02:01:26,903 Assuming 1.0 = 1.0 K\n",
      "yt : [INFO     ] 2020-03-09 02:01:26,915 Parameters: current_time              = 45217227848601.59\n",
      "yt : [INFO     ] 2020-03-09 02:01:26,915 Parameters: domain_dimensions         = [256 640   1]\n",
      "yt : [INFO     ] 2020-03-09 02:01:26,916 Parameters: domain_left_edge          = [-1.5450e+19 -3.8625e+19 -5.0000e-01]\n",
      "yt : [INFO     ] 2020-03-09 02:01:26,917 Parameters: domain_right_edge         = [1.5450e+19 3.8625e+19 5.0000e-01]\n",
      "yt : [INFO     ] 2020-03-09 02:01:26,918 Parameters: cosmological_simulation   = 0.0\n"
     ]
    },
    {
     "name": "stdout",
     "output_type": "stream",
     "text": [
      "mixing_layer.out1.00024\n"
     ]
    },
    {
     "name": "stderr",
     "output_type": "stream",
     "text": [
      "yt : [WARNING  ] 2020-03-09 02:01:26,943 Assuming 1.0 = 1.0 cm\n",
      "yt : [WARNING  ] 2020-03-09 02:01:26,944 Assuming 1.0 = 1.0 s\n",
      "yt : [WARNING  ] 2020-03-09 02:01:26,945 Assuming 1.0 = 1.0 g\n",
      "yt : [WARNING  ] 2020-03-09 02:01:26,946 Assuming 1.0 = 1.0 K\n",
      "yt : [INFO     ] 2020-03-09 02:01:26,958 Parameters: current_time              = 47102767127011.99\n",
      "yt : [INFO     ] 2020-03-09 02:01:26,959 Parameters: domain_dimensions         = [256 640   1]\n",
      "yt : [INFO     ] 2020-03-09 02:01:26,960 Parameters: domain_left_edge          = [-1.5450e+19 -3.8625e+19 -5.0000e-01]\n",
      "yt : [INFO     ] 2020-03-09 02:01:26,960 Parameters: domain_right_edge         = [1.5450e+19 3.8625e+19 5.0000e-01]\n",
      "yt : [INFO     ] 2020-03-09 02:01:26,961 Parameters: cosmological_simulation   = 0.0\n"
     ]
    },
    {
     "name": "stdout",
     "output_type": "stream",
     "text": [
      "mixing_layer.out1.00025\n"
     ]
    },
    {
     "name": "stderr",
     "output_type": "stream",
     "text": [
      "yt : [WARNING  ] 2020-03-09 02:01:26,987 Assuming 1.0 = 1.0 cm\n",
      "yt : [WARNING  ] 2020-03-09 02:01:26,988 Assuming 1.0 = 1.0 s\n",
      "yt : [WARNING  ] 2020-03-09 02:01:26,989 Assuming 1.0 = 1.0 g\n",
      "yt : [WARNING  ] 2020-03-09 02:01:26,990 Assuming 1.0 = 1.0 K\n",
      "yt : [INFO     ] 2020-03-09 02:01:27,002 Parameters: current_time              = 48986146724669.08\n",
      "yt : [INFO     ] 2020-03-09 02:01:27,003 Parameters: domain_dimensions         = [256 640   1]\n",
      "yt : [INFO     ] 2020-03-09 02:01:27,004 Parameters: domain_left_edge          = [-1.5450e+19 -3.8625e+19 -5.0000e-01]\n",
      "yt : [INFO     ] 2020-03-09 02:01:27,005 Parameters: domain_right_edge         = [1.5450e+19 3.8625e+19 5.0000e-01]\n",
      "yt : [INFO     ] 2020-03-09 02:01:27,006 Parameters: cosmological_simulation   = 0.0\n"
     ]
    },
    {
     "name": "stdout",
     "output_type": "stream",
     "text": [
      "mixing_layer.out1.00026\n"
     ]
    },
    {
     "name": "stderr",
     "output_type": "stream",
     "text": [
      "yt : [WARNING  ] 2020-03-09 02:01:27,039 Assuming 1.0 = 1.0 cm\n",
      "yt : [WARNING  ] 2020-03-09 02:01:27,040 Assuming 1.0 = 1.0 s\n",
      "yt : [WARNING  ] 2020-03-09 02:01:27,041 Assuming 1.0 = 1.0 g\n",
      "yt : [WARNING  ] 2020-03-09 02:01:27,043 Assuming 1.0 = 1.0 K\n",
      "yt : [INFO     ] 2020-03-09 02:01:27,059 Parameters: current_time              = 50869254233804.03\n",
      "yt : [INFO     ] 2020-03-09 02:01:27,060 Parameters: domain_dimensions         = [256 640   1]\n",
      "yt : [INFO     ] 2020-03-09 02:01:27,061 Parameters: domain_left_edge          = [-1.5450e+19 -3.8625e+19 -5.0000e-01]\n",
      "yt : [INFO     ] 2020-03-09 02:01:27,062 Parameters: domain_right_edge         = [1.5450e+19 3.8625e+19 5.0000e-01]\n",
      "yt : [INFO     ] 2020-03-09 02:01:27,063 Parameters: cosmological_simulation   = 0.0\n"
     ]
    },
    {
     "name": "stdout",
     "output_type": "stream",
     "text": [
      "mixing_layer.out1.00027\n"
     ]
    },
    {
     "name": "stderr",
     "output_type": "stream",
     "text": [
      "yt : [WARNING  ] 2020-03-09 02:01:27,093 Assuming 1.0 = 1.0 cm\n",
      "yt : [WARNING  ] 2020-03-09 02:01:27,094 Assuming 1.0 = 1.0 s\n",
      "yt : [WARNING  ] 2020-03-09 02:01:27,095 Assuming 1.0 = 1.0 g\n",
      "yt : [WARNING  ] 2020-03-09 02:01:27,096 Assuming 1.0 = 1.0 K\n",
      "yt : [INFO     ] 2020-03-09 02:01:27,111 Parameters: current_time              = 52753621982464.914\n",
      "yt : [INFO     ] 2020-03-09 02:01:27,111 Parameters: domain_dimensions         = [256 640   1]\n",
      "yt : [INFO     ] 2020-03-09 02:01:27,112 Parameters: domain_left_edge          = [-1.5450e+19 -3.8625e+19 -5.0000e-01]\n",
      "yt : [INFO     ] 2020-03-09 02:01:27,113 Parameters: domain_right_edge         = [1.5450e+19 3.8625e+19 5.0000e-01]\n",
      "yt : [INFO     ] 2020-03-09 02:01:27,113 Parameters: cosmological_simulation   = 0.0\n"
     ]
    },
    {
     "name": "stdout",
     "output_type": "stream",
     "text": [
      "mixing_layer.out1.00028\n"
     ]
    },
    {
     "name": "stderr",
     "output_type": "stream",
     "text": [
      "yt : [WARNING  ] 2020-03-09 02:01:27,141 Assuming 1.0 = 1.0 cm\n",
      "yt : [WARNING  ] 2020-03-09 02:01:27,142 Assuming 1.0 = 1.0 s\n",
      "yt : [WARNING  ] 2020-03-09 02:01:27,143 Assuming 1.0 = 1.0 g\n",
      "yt : [WARNING  ] 2020-03-09 02:01:27,144 Assuming 1.0 = 1.0 K\n",
      "yt : [INFO     ] 2020-03-09 02:01:27,157 Parameters: current_time              = 54637438067414.75\n",
      "yt : [INFO     ] 2020-03-09 02:01:27,158 Parameters: domain_dimensions         = [256 640   1]\n",
      "yt : [INFO     ] 2020-03-09 02:01:27,159 Parameters: domain_left_edge          = [-1.5450e+19 -3.8625e+19 -5.0000e-01]\n",
      "yt : [INFO     ] 2020-03-09 02:01:27,160 Parameters: domain_right_edge         = [1.5450e+19 3.8625e+19 5.0000e-01]\n",
      "yt : [INFO     ] 2020-03-09 02:01:27,161 Parameters: cosmological_simulation   = 0.0\n"
     ]
    },
    {
     "name": "stdout",
     "output_type": "stream",
     "text": [
      "mixing_layer.out1.00029\n"
     ]
    },
    {
     "name": "stderr",
     "output_type": "stream",
     "text": [
      "yt : [WARNING  ] 2020-03-09 02:01:27,189 Assuming 1.0 = 1.0 cm\n",
      "yt : [WARNING  ] 2020-03-09 02:01:27,190 Assuming 1.0 = 1.0 s\n",
      "yt : [WARNING  ] 2020-03-09 02:01:27,191 Assuming 1.0 = 1.0 g\n",
      "yt : [WARNING  ] 2020-03-09 02:01:27,192 Assuming 1.0 = 1.0 K\n",
      "yt : [INFO     ] 2020-03-09 02:01:27,208 Parameters: current_time              = 56521076787810.42\n",
      "yt : [INFO     ] 2020-03-09 02:01:27,209 Parameters: domain_dimensions         = [256 640   1]\n",
      "yt : [INFO     ] 2020-03-09 02:01:27,210 Parameters: domain_left_edge          = [-1.5450e+19 -3.8625e+19 -5.0000e-01]\n",
      "yt : [INFO     ] 2020-03-09 02:01:27,211 Parameters: domain_right_edge         = [1.5450e+19 3.8625e+19 5.0000e-01]\n",
      "yt : [INFO     ] 2020-03-09 02:01:27,212 Parameters: cosmological_simulation   = 0.0\n"
     ]
    },
    {
     "name": "stdout",
     "output_type": "stream",
     "text": [
      "mixing_layer.out1.00030\n"
     ]
    },
    {
     "name": "stderr",
     "output_type": "stream",
     "text": [
      "yt : [WARNING  ] 2020-03-09 02:01:27,243 Assuming 1.0 = 1.0 cm\n",
      "yt : [WARNING  ] 2020-03-09 02:01:27,244 Assuming 1.0 = 1.0 s\n",
      "yt : [WARNING  ] 2020-03-09 02:01:27,246 Assuming 1.0 = 1.0 g\n",
      "yt : [WARNING  ] 2020-03-09 02:01:27,247 Assuming 1.0 = 1.0 K\n",
      "yt : [INFO     ] 2020-03-09 02:01:27,261 Parameters: current_time              = 58406642457996.16\n",
      "yt : [INFO     ] 2020-03-09 02:01:27,262 Parameters: domain_dimensions         = [256 640   1]\n",
      "yt : [INFO     ] 2020-03-09 02:01:27,263 Parameters: domain_left_edge          = [-1.5450e+19 -3.8625e+19 -5.0000e-01]\n",
      "yt : [INFO     ] 2020-03-09 02:01:27,264 Parameters: domain_right_edge         = [1.5450e+19 3.8625e+19 5.0000e-01]\n",
      "yt : [INFO     ] 2020-03-09 02:01:27,265 Parameters: cosmological_simulation   = 0.0\n"
     ]
    },
    {
     "name": "stdout",
     "output_type": "stream",
     "text": [
      "mixing_layer.out1.00031\n"
     ]
    },
    {
     "name": "stderr",
     "output_type": "stream",
     "text": [
      "yt : [WARNING  ] 2020-03-09 02:01:27,294 Assuming 1.0 = 1.0 cm\n",
      "yt : [WARNING  ] 2020-03-09 02:01:27,295 Assuming 1.0 = 1.0 s\n",
      "yt : [WARNING  ] 2020-03-09 02:01:27,296 Assuming 1.0 = 1.0 g\n",
      "yt : [WARNING  ] 2020-03-09 02:01:27,297 Assuming 1.0 = 1.0 K\n",
      "yt : [INFO     ] 2020-03-09 02:01:27,310 Parameters: current_time              = 60288174488931.91\n",
      "yt : [INFO     ] 2020-03-09 02:01:27,311 Parameters: domain_dimensions         = [256 640   1]\n",
      "yt : [INFO     ] 2020-03-09 02:01:27,311 Parameters: domain_left_edge          = [-1.5450e+19 -3.8625e+19 -5.0000e-01]\n",
      "yt : [INFO     ] 2020-03-09 02:01:27,312 Parameters: domain_right_edge         = [1.5450e+19 3.8625e+19 5.0000e-01]\n",
      "yt : [INFO     ] 2020-03-09 02:01:27,313 Parameters: cosmological_simulation   = 0.0\n"
     ]
    },
    {
     "name": "stdout",
     "output_type": "stream",
     "text": [
      "mixing_layer.out1.00032\n"
     ]
    },
    {
     "name": "stderr",
     "output_type": "stream",
     "text": [
      "yt : [WARNING  ] 2020-03-09 02:01:27,339 Assuming 1.0 = 1.0 cm\n",
      "yt : [WARNING  ] 2020-03-09 02:01:27,340 Assuming 1.0 = 1.0 s\n",
      "yt : [WARNING  ] 2020-03-09 02:01:27,341 Assuming 1.0 = 1.0 g\n",
      "yt : [WARNING  ] 2020-03-09 02:01:27,342 Assuming 1.0 = 1.0 K\n",
      "yt : [INFO     ] 2020-03-09 02:01:27,355 Parameters: current_time              = 62172990624424.016\n",
      "yt : [INFO     ] 2020-03-09 02:01:27,356 Parameters: domain_dimensions         = [256 640   1]\n",
      "yt : [INFO     ] 2020-03-09 02:01:27,356 Parameters: domain_left_edge          = [-1.5450e+19 -3.8625e+19 -5.0000e-01]\n",
      "yt : [INFO     ] 2020-03-09 02:01:27,357 Parameters: domain_right_edge         = [1.5450e+19 3.8625e+19 5.0000e-01]\n",
      "yt : [INFO     ] 2020-03-09 02:01:27,358 Parameters: cosmological_simulation   = 0.0\n"
     ]
    },
    {
     "name": "stdout",
     "output_type": "stream",
     "text": [
      "mixing_layer.out1.00033\n"
     ]
    },
    {
     "name": "stderr",
     "output_type": "stream",
     "text": [
      "yt : [WARNING  ] 2020-03-09 02:01:27,383 Assuming 1.0 = 1.0 cm\n",
      "yt : [WARNING  ] 2020-03-09 02:01:27,384 Assuming 1.0 = 1.0 s\n",
      "yt : [WARNING  ] 2020-03-09 02:01:27,385 Assuming 1.0 = 1.0 g\n",
      "yt : [WARNING  ] 2020-03-09 02:01:27,386 Assuming 1.0 = 1.0 K\n",
      "yt : [INFO     ] 2020-03-09 02:01:27,397 Parameters: current_time              = 64058140010413.26\n",
      "yt : [INFO     ] 2020-03-09 02:01:27,398 Parameters: domain_dimensions         = [256 640   1]\n",
      "yt : [INFO     ] 2020-03-09 02:01:27,399 Parameters: domain_left_edge          = [-1.5450e+19 -3.8625e+19 -5.0000e-01]\n",
      "yt : [INFO     ] 2020-03-09 02:01:27,400 Parameters: domain_right_edge         = [1.5450e+19 3.8625e+19 5.0000e-01]\n",
      "yt : [INFO     ] 2020-03-09 02:01:27,401 Parameters: cosmological_simulation   = 0.0\n"
     ]
    },
    {
     "name": "stdout",
     "output_type": "stream",
     "text": [
      "mixing_layer.out1.00034\n"
     ]
    },
    {
     "name": "stderr",
     "output_type": "stream",
     "text": [
      "yt : [WARNING  ] 2020-03-09 02:01:27,428 Assuming 1.0 = 1.0 cm\n",
      "yt : [WARNING  ] 2020-03-09 02:01:27,430 Assuming 1.0 = 1.0 s\n",
      "yt : [WARNING  ] 2020-03-09 02:01:27,431 Assuming 1.0 = 1.0 g\n",
      "yt : [WARNING  ] 2020-03-09 02:01:27,432 Assuming 1.0 = 1.0 K\n",
      "yt : [INFO     ] 2020-03-09 02:01:27,445 Parameters: current_time              = 65941302403829.016\n",
      "yt : [INFO     ] 2020-03-09 02:01:27,445 Parameters: domain_dimensions         = [256 640   1]\n",
      "yt : [INFO     ] 2020-03-09 02:01:27,446 Parameters: domain_left_edge          = [-1.5450e+19 -3.8625e+19 -5.0000e-01]\n",
      "yt : [INFO     ] 2020-03-09 02:01:27,447 Parameters: domain_right_edge         = [1.5450e+19 3.8625e+19 5.0000e-01]\n",
      "yt : [INFO     ] 2020-03-09 02:01:27,447 Parameters: cosmological_simulation   = 0.0\n"
     ]
    },
    {
     "name": "stdout",
     "output_type": "stream",
     "text": [
      "mixing_layer.out1.00035\n"
     ]
    },
    {
     "name": "stderr",
     "output_type": "stream",
     "text": [
      "yt : [WARNING  ] 2020-03-09 02:01:27,474 Assuming 1.0 = 1.0 cm\n",
      "yt : [WARNING  ] 2020-03-09 02:01:27,475 Assuming 1.0 = 1.0 s\n",
      "yt : [WARNING  ] 2020-03-09 02:01:27,476 Assuming 1.0 = 1.0 g\n",
      "yt : [WARNING  ] 2020-03-09 02:01:27,477 Assuming 1.0 = 1.0 K\n",
      "yt : [INFO     ] 2020-03-09 02:01:27,489 Parameters: current_time              = 67826268180902.46\n",
      "yt : [INFO     ] 2020-03-09 02:01:27,491 Parameters: domain_dimensions         = [256 640   1]\n",
      "yt : [INFO     ] 2020-03-09 02:01:27,492 Parameters: domain_left_edge          = [-1.5450e+19 -3.8625e+19 -5.0000e-01]\n",
      "yt : [INFO     ] 2020-03-09 02:01:27,493 Parameters: domain_right_edge         = [1.5450e+19 3.8625e+19 5.0000e-01]\n",
      "yt : [INFO     ] 2020-03-09 02:01:27,494 Parameters: cosmological_simulation   = 0.0\n"
     ]
    },
    {
     "name": "stdout",
     "output_type": "stream",
     "text": [
      "mixing_layer.out1.00036\n"
     ]
    },
    {
     "name": "stderr",
     "output_type": "stream",
     "text": [
      "yt : [WARNING  ] 2020-03-09 02:01:27,518 Assuming 1.0 = 1.0 cm\n",
      "yt : [WARNING  ] 2020-03-09 02:01:27,519 Assuming 1.0 = 1.0 s\n",
      "yt : [WARNING  ] 2020-03-09 02:01:27,520 Assuming 1.0 = 1.0 g\n",
      "yt : [WARNING  ] 2020-03-09 02:01:27,521 Assuming 1.0 = 1.0 K\n",
      "yt : [INFO     ] 2020-03-09 02:01:27,533 Parameters: current_time              = 69708641848354.01\n",
      "yt : [INFO     ] 2020-03-09 02:01:27,534 Parameters: domain_dimensions         = [256 640   1]\n",
      "yt : [INFO     ] 2020-03-09 02:01:27,536 Parameters: domain_left_edge          = [-1.5450e+19 -3.8625e+19 -5.0000e-01]\n",
      "yt : [INFO     ] 2020-03-09 02:01:27,537 Parameters: domain_right_edge         = [1.5450e+19 3.8625e+19 5.0000e-01]\n",
      "yt : [INFO     ] 2020-03-09 02:01:27,538 Parameters: cosmological_simulation   = 0.0\n"
     ]
    },
    {
     "name": "stdout",
     "output_type": "stream",
     "text": [
      "mixing_layer.out1.00037\n"
     ]
    },
    {
     "name": "stderr",
     "output_type": "stream",
     "text": [
      "yt : [WARNING  ] 2020-03-09 02:01:27,562 Assuming 1.0 = 1.0 cm\n",
      "yt : [WARNING  ] 2020-03-09 02:01:27,563 Assuming 1.0 = 1.0 s\n",
      "yt : [WARNING  ] 2020-03-09 02:01:27,564 Assuming 1.0 = 1.0 g\n",
      "yt : [WARNING  ] 2020-03-09 02:01:27,565 Assuming 1.0 = 1.0 K\n",
      "yt : [INFO     ] 2020-03-09 02:01:27,579 Parameters: current_time              = 71592401269000.66\n",
      "yt : [INFO     ] 2020-03-09 02:01:27,581 Parameters: domain_dimensions         = [256 640   1]\n",
      "yt : [INFO     ] 2020-03-09 02:01:27,582 Parameters: domain_left_edge          = [-1.5450e+19 -3.8625e+19 -5.0000e-01]\n",
      "yt : [INFO     ] 2020-03-09 02:01:27,583 Parameters: domain_right_edge         = [1.5450e+19 3.8625e+19 5.0000e-01]\n",
      "yt : [INFO     ] 2020-03-09 02:01:27,584 Parameters: cosmological_simulation   = 0.0\n"
     ]
    },
    {
     "name": "stdout",
     "output_type": "stream",
     "text": [
      "mixing_layer.out1.00038\n"
     ]
    },
    {
     "name": "stderr",
     "output_type": "stream",
     "text": [
      "yt : [WARNING  ] 2020-03-09 02:01:27,609 Assuming 1.0 = 1.0 cm\n",
      "yt : [WARNING  ] 2020-03-09 02:01:27,610 Assuming 1.0 = 1.0 s\n",
      "yt : [WARNING  ] 2020-03-09 02:01:27,611 Assuming 1.0 = 1.0 g\n",
      "yt : [WARNING  ] 2020-03-09 02:01:27,612 Assuming 1.0 = 1.0 K\n",
      "yt : [INFO     ] 2020-03-09 02:01:27,625 Parameters: current_time              = 73477064278246.72\n",
      "yt : [INFO     ] 2020-03-09 02:01:27,626 Parameters: domain_dimensions         = [256 640   1]\n",
      "yt : [INFO     ] 2020-03-09 02:01:27,627 Parameters: domain_left_edge          = [-1.5450e+19 -3.8625e+19 -5.0000e-01]\n",
      "yt : [INFO     ] 2020-03-09 02:01:27,628 Parameters: domain_right_edge         = [1.5450e+19 3.8625e+19 5.0000e-01]\n",
      "yt : [INFO     ] 2020-03-09 02:01:27,629 Parameters: cosmological_simulation   = 0.0\n"
     ]
    },
    {
     "name": "stdout",
     "output_type": "stream",
     "text": [
      "mixing_layer.out1.00039\n"
     ]
    },
    {
     "name": "stderr",
     "output_type": "stream",
     "text": [
      "yt : [WARNING  ] 2020-03-09 02:01:27,653 Assuming 1.0 = 1.0 cm\n",
      "yt : [WARNING  ] 2020-03-09 02:01:27,654 Assuming 1.0 = 1.0 s\n",
      "yt : [WARNING  ] 2020-03-09 02:01:27,655 Assuming 1.0 = 1.0 g\n",
      "yt : [WARNING  ] 2020-03-09 02:01:27,656 Assuming 1.0 = 1.0 K\n",
      "yt : [INFO     ] 2020-03-09 02:01:27,667 Parameters: current_time              = 75362025080993.47\n",
      "yt : [INFO     ] 2020-03-09 02:01:27,668 Parameters: domain_dimensions         = [256 640   1]\n",
      "yt : [INFO     ] 2020-03-09 02:01:27,669 Parameters: domain_left_edge          = [-1.5450e+19 -3.8625e+19 -5.0000e-01]\n",
      "yt : [INFO     ] 2020-03-09 02:01:27,670 Parameters: domain_right_edge         = [1.5450e+19 3.8625e+19 5.0000e-01]\n",
      "yt : [INFO     ] 2020-03-09 02:01:27,671 Parameters: cosmological_simulation   = 0.0\n"
     ]
    },
    {
     "name": "stdout",
     "output_type": "stream",
     "text": [
      "mixing_layer.out1.00040\n"
     ]
    },
    {
     "name": "stderr",
     "output_type": "stream",
     "text": [
      "yt : [WARNING  ] 2020-03-09 02:01:27,696 Assuming 1.0 = 1.0 cm\n",
      "yt : [WARNING  ] 2020-03-09 02:01:27,698 Assuming 1.0 = 1.0 s\n",
      "yt : [WARNING  ] 2020-03-09 02:01:27,700 Assuming 1.0 = 1.0 g\n",
      "yt : [WARNING  ] 2020-03-09 02:01:27,701 Assuming 1.0 = 1.0 K\n",
      "yt : [INFO     ] 2020-03-09 02:01:27,713 Parameters: current_time              = 77245916014754.69\n",
      "yt : [INFO     ] 2020-03-09 02:01:27,714 Parameters: domain_dimensions         = [256 640   1]\n",
      "yt : [INFO     ] 2020-03-09 02:01:27,715 Parameters: domain_left_edge          = [-1.5450e+19 -3.8625e+19 -5.0000e-01]\n",
      "yt : [INFO     ] 2020-03-09 02:01:27,716 Parameters: domain_right_edge         = [1.5450e+19 3.8625e+19 5.0000e-01]\n",
      "yt : [INFO     ] 2020-03-09 02:01:27,717 Parameters: cosmological_simulation   = 0.0\n"
     ]
    },
    {
     "name": "stdout",
     "output_type": "stream",
     "text": [
      "mixing_layer.out1.00041\n"
     ]
    },
    {
     "name": "stderr",
     "output_type": "stream",
     "text": [
      "yt : [WARNING  ] 2020-03-09 02:01:27,743 Assuming 1.0 = 1.0 cm\n",
      "yt : [WARNING  ] 2020-03-09 02:01:27,744 Assuming 1.0 = 1.0 s\n",
      "yt : [WARNING  ] 2020-03-09 02:01:27,745 Assuming 1.0 = 1.0 g\n",
      "yt : [WARNING  ] 2020-03-09 02:01:27,745 Assuming 1.0 = 1.0 K\n",
      "yt : [INFO     ] 2020-03-09 02:01:27,758 Parameters: current_time              = 79128266876131.78\n",
      "yt : [INFO     ] 2020-03-09 02:01:27,758 Parameters: domain_dimensions         = [256 640   1]\n",
      "yt : [INFO     ] 2020-03-09 02:01:27,759 Parameters: domain_left_edge          = [-1.5450e+19 -3.8625e+19 -5.0000e-01]\n",
      "yt : [INFO     ] 2020-03-09 02:01:27,760 Parameters: domain_right_edge         = [1.5450e+19 3.8625e+19 5.0000e-01]\n",
      "yt : [INFO     ] 2020-03-09 02:01:27,762 Parameters: cosmological_simulation   = 0.0\n"
     ]
    },
    {
     "name": "stdout",
     "output_type": "stream",
     "text": [
      "mixing_layer.out1.00042\n"
     ]
    },
    {
     "name": "stderr",
     "output_type": "stream",
     "text": [
      "yt : [WARNING  ] 2020-03-09 02:01:27,786 Assuming 1.0 = 1.0 cm\n",
      "yt : [WARNING  ] 2020-03-09 02:01:27,787 Assuming 1.0 = 1.0 s\n",
      "yt : [WARNING  ] 2020-03-09 02:01:27,788 Assuming 1.0 = 1.0 g\n",
      "yt : [WARNING  ] 2020-03-09 02:01:27,789 Assuming 1.0 = 1.0 K\n",
      "yt : [INFO     ] 2020-03-09 02:01:27,800 Parameters: current_time              = 81013166409107.53\n",
      "yt : [INFO     ] 2020-03-09 02:01:27,801 Parameters: domain_dimensions         = [256 640   1]\n",
      "yt : [INFO     ] 2020-03-09 02:01:27,802 Parameters: domain_left_edge          = [-1.5450e+19 -3.8625e+19 -5.0000e-01]\n",
      "yt : [INFO     ] 2020-03-09 02:01:27,804 Parameters: domain_right_edge         = [1.5450e+19 3.8625e+19 5.0000e-01]\n",
      "yt : [INFO     ] 2020-03-09 02:01:27,805 Parameters: cosmological_simulation   = 0.0\n"
     ]
    },
    {
     "name": "stdout",
     "output_type": "stream",
     "text": [
      "mixing_layer.out1.00043\n"
     ]
    },
    {
     "name": "stderr",
     "output_type": "stream",
     "text": [
      "yt : [WARNING  ] 2020-03-09 02:01:27,830 Assuming 1.0 = 1.0 cm\n",
      "yt : [WARNING  ] 2020-03-09 02:01:27,830 Assuming 1.0 = 1.0 s\n",
      "yt : [WARNING  ] 2020-03-09 02:01:27,831 Assuming 1.0 = 1.0 g\n",
      "yt : [WARNING  ] 2020-03-09 02:01:27,832 Assuming 1.0 = 1.0 K\n",
      "yt : [INFO     ] 2020-03-09 02:01:27,844 Parameters: current_time              = 82896658988527.45\n",
      "yt : [INFO     ] 2020-03-09 02:01:27,844 Parameters: domain_dimensions         = [256 640   1]\n",
      "yt : [INFO     ] 2020-03-09 02:01:27,845 Parameters: domain_left_edge          = [-1.5450e+19 -3.8625e+19 -5.0000e-01]\n",
      "yt : [INFO     ] 2020-03-09 02:01:27,847 Parameters: domain_right_edge         = [1.5450e+19 3.8625e+19 5.0000e-01]\n",
      "yt : [INFO     ] 2020-03-09 02:01:27,848 Parameters: cosmological_simulation   = 0.0\n"
     ]
    },
    {
     "name": "stdout",
     "output_type": "stream",
     "text": [
      "mixing_layer.out1.00044\n"
     ]
    },
    {
     "name": "stderr",
     "output_type": "stream",
     "text": [
      "yt : [WARNING  ] 2020-03-09 02:01:27,873 Assuming 1.0 = 1.0 cm\n",
      "yt : [WARNING  ] 2020-03-09 02:01:27,874 Assuming 1.0 = 1.0 s\n",
      "yt : [WARNING  ] 2020-03-09 02:01:27,875 Assuming 1.0 = 1.0 g\n",
      "yt : [WARNING  ] 2020-03-09 02:01:27,876 Assuming 1.0 = 1.0 K\n",
      "yt : [INFO     ] 2020-03-09 02:01:27,888 Parameters: current_time              = 84782006838404.77\n",
      "yt : [INFO     ] 2020-03-09 02:01:27,889 Parameters: domain_dimensions         = [256 640   1]\n",
      "yt : [INFO     ] 2020-03-09 02:01:27,890 Parameters: domain_left_edge          = [-1.5450e+19 -3.8625e+19 -5.0000e-01]\n",
      "yt : [INFO     ] 2020-03-09 02:01:27,891 Parameters: domain_right_edge         = [1.5450e+19 3.8625e+19 5.0000e-01]\n",
      "yt : [INFO     ] 2020-03-09 02:01:27,892 Parameters: cosmological_simulation   = 0.0\n"
     ]
    },
    {
     "name": "stdout",
     "output_type": "stream",
     "text": [
      "mixing_layer.out1.00045\n"
     ]
    },
    {
     "name": "stderr",
     "output_type": "stream",
     "text": [
      "yt : [WARNING  ] 2020-03-09 02:01:27,916 Assuming 1.0 = 1.0 cm\n",
      "yt : [WARNING  ] 2020-03-09 02:01:27,918 Assuming 1.0 = 1.0 s\n",
      "yt : [WARNING  ] 2020-03-09 02:01:27,919 Assuming 1.0 = 1.0 g\n",
      "yt : [WARNING  ] 2020-03-09 02:01:27,920 Assuming 1.0 = 1.0 K\n",
      "yt : [INFO     ] 2020-03-09 02:01:27,931 Parameters: current_time              = 86666693098953.75\n",
      "yt : [INFO     ] 2020-03-09 02:01:27,932 Parameters: domain_dimensions         = [256 640   1]\n",
      "yt : [INFO     ] 2020-03-09 02:01:27,933 Parameters: domain_left_edge          = [-1.5450e+19 -3.8625e+19 -5.0000e-01]\n",
      "yt : [INFO     ] 2020-03-09 02:01:27,934 Parameters: domain_right_edge         = [1.5450e+19 3.8625e+19 5.0000e-01]\n",
      "yt : [INFO     ] 2020-03-09 02:01:27,935 Parameters: cosmological_simulation   = 0.0\n"
     ]
    },
    {
     "name": "stdout",
     "output_type": "stream",
     "text": [
      "mixing_layer.out1.00046\n"
     ]
    },
    {
     "name": "stderr",
     "output_type": "stream",
     "text": [
      "yt : [WARNING  ] 2020-03-09 02:01:27,964 Assuming 1.0 = 1.0 cm\n",
      "yt : [WARNING  ] 2020-03-09 02:01:27,965 Assuming 1.0 = 1.0 s\n",
      "yt : [WARNING  ] 2020-03-09 02:01:27,967 Assuming 1.0 = 1.0 g\n",
      "yt : [WARNING  ] 2020-03-09 02:01:27,968 Assuming 1.0 = 1.0 K\n",
      "yt : [INFO     ] 2020-03-09 02:01:27,980 Parameters: current_time              = 88550415044853.89\n",
      "yt : [INFO     ] 2020-03-09 02:01:27,980 Parameters: domain_dimensions         = [256 640   1]\n",
      "yt : [INFO     ] 2020-03-09 02:01:27,981 Parameters: domain_left_edge          = [-1.5450e+19 -3.8625e+19 -5.0000e-01]\n",
      "yt : [INFO     ] 2020-03-09 02:01:27,982 Parameters: domain_right_edge         = [1.5450e+19 3.8625e+19 5.0000e-01]\n",
      "yt : [INFO     ] 2020-03-09 02:01:27,983 Parameters: cosmological_simulation   = 0.0\n"
     ]
    },
    {
     "name": "stdout",
     "output_type": "stream",
     "text": [
      "mixing_layer.out1.00047\n"
     ]
    },
    {
     "name": "stderr",
     "output_type": "stream",
     "text": [
      "yt : [WARNING  ] 2020-03-09 02:01:28,009 Assuming 1.0 = 1.0 cm\n",
      "yt : [WARNING  ] 2020-03-09 02:01:28,010 Assuming 1.0 = 1.0 s\n",
      "yt : [WARNING  ] 2020-03-09 02:01:28,011 Assuming 1.0 = 1.0 g\n",
      "yt : [WARNING  ] 2020-03-09 02:01:28,012 Assuming 1.0 = 1.0 K\n",
      "yt : [INFO     ] 2020-03-09 02:01:28,023 Parameters: current_time              = 90433440632668.1\n",
      "yt : [INFO     ] 2020-03-09 02:01:28,024 Parameters: domain_dimensions         = [256 640   1]\n",
      "yt : [INFO     ] 2020-03-09 02:01:28,024 Parameters: domain_left_edge          = [-1.5450e+19 -3.8625e+19 -5.0000e-01]\n",
      "yt : [INFO     ] 2020-03-09 02:01:28,025 Parameters: domain_right_edge         = [1.5450e+19 3.8625e+19 5.0000e-01]\n",
      "yt : [INFO     ] 2020-03-09 02:01:28,026 Parameters: cosmological_simulation   = 0.0\n"
     ]
    },
    {
     "name": "stdout",
     "output_type": "stream",
     "text": [
      "mixing_layer.out1.00048\n"
     ]
    },
    {
     "name": "stderr",
     "output_type": "stream",
     "text": [
      "yt : [WARNING  ] 2020-03-09 02:01:28,051 Assuming 1.0 = 1.0 cm\n",
      "yt : [WARNING  ] 2020-03-09 02:01:28,052 Assuming 1.0 = 1.0 s\n",
      "yt : [WARNING  ] 2020-03-09 02:01:28,053 Assuming 1.0 = 1.0 g\n",
      "yt : [WARNING  ] 2020-03-09 02:01:28,054 Assuming 1.0 = 1.0 K\n",
      "yt : [INFO     ] 2020-03-09 02:01:28,067 Parameters: current_time              = 92317090425588.38\n",
      "yt : [INFO     ] 2020-03-09 02:01:28,067 Parameters: domain_dimensions         = [256 640   1]\n",
      "yt : [INFO     ] 2020-03-09 02:01:28,068 Parameters: domain_left_edge          = [-1.5450e+19 -3.8625e+19 -5.0000e-01]\n",
      "yt : [INFO     ] 2020-03-09 02:01:28,069 Parameters: domain_right_edge         = [1.5450e+19 3.8625e+19 5.0000e-01]\n",
      "yt : [INFO     ] 2020-03-09 02:01:28,070 Parameters: cosmological_simulation   = 0.0\n"
     ]
    },
    {
     "name": "stdout",
     "output_type": "stream",
     "text": [
      "mixing_layer.out1.00049\n"
     ]
    },
    {
     "name": "stderr",
     "output_type": "stream",
     "text": [
      "yt : [WARNING  ] 2020-03-09 02:01:28,100 Assuming 1.0 = 1.0 cm\n",
      "yt : [WARNING  ] 2020-03-09 02:01:28,101 Assuming 1.0 = 1.0 s\n",
      "yt : [WARNING  ] 2020-03-09 02:01:28,102 Assuming 1.0 = 1.0 g\n",
      "yt : [WARNING  ] 2020-03-09 02:01:28,103 Assuming 1.0 = 1.0 K\n",
      "yt : [INFO     ] 2020-03-09 02:01:28,116 Parameters: current_time              = 94200557836630.45\n",
      "yt : [INFO     ] 2020-03-09 02:01:28,117 Parameters: domain_dimensions         = [256 640   1]\n",
      "yt : [INFO     ] 2020-03-09 02:01:28,118 Parameters: domain_left_edge          = [-1.5450e+19 -3.8625e+19 -5.0000e-01]\n",
      "yt : [INFO     ] 2020-03-09 02:01:28,119 Parameters: domain_right_edge         = [1.5450e+19 3.8625e+19 5.0000e-01]\n",
      "yt : [INFO     ] 2020-03-09 02:01:28,120 Parameters: cosmological_simulation   = 0.0\n"
     ]
    },
    {
     "name": "stdout",
     "output_type": "stream",
     "text": [
      "mixing_layer.out1.00050\n"
     ]
    },
    {
     "name": "stderr",
     "output_type": "stream",
     "text": [
      "yt : [WARNING  ] 2020-03-09 02:01:28,147 Assuming 1.0 = 1.0 cm\n",
      "yt : [WARNING  ] 2020-03-09 02:01:28,149 Assuming 1.0 = 1.0 s\n",
      "yt : [WARNING  ] 2020-03-09 02:01:28,150 Assuming 1.0 = 1.0 g\n",
      "yt : [WARNING  ] 2020-03-09 02:01:28,151 Assuming 1.0 = 1.0 K\n",
      "yt : [INFO     ] 2020-03-09 02:01:28,163 Parameters: current_time              = 96086659493196.81\n",
      "yt : [INFO     ] 2020-03-09 02:01:28,164 Parameters: domain_dimensions         = [256 640   1]\n",
      "yt : [INFO     ] 2020-03-09 02:01:28,165 Parameters: domain_left_edge          = [-1.5450e+19 -3.8625e+19 -5.0000e-01]\n",
      "yt : [INFO     ] 2020-03-09 02:01:28,167 Parameters: domain_right_edge         = [1.5450e+19 3.8625e+19 5.0000e-01]\n",
      "yt : [INFO     ] 2020-03-09 02:01:28,168 Parameters: cosmological_simulation   = 0.0\n"
     ]
    },
    {
     "name": "stdout",
     "output_type": "stream",
     "text": [
      "mixing_layer.out1.00051\n"
     ]
    },
    {
     "name": "stderr",
     "output_type": "stream",
     "text": [
      "yt : [WARNING  ] 2020-03-09 02:01:28,194 Assuming 1.0 = 1.0 cm\n",
      "yt : [WARNING  ] 2020-03-09 02:01:28,195 Assuming 1.0 = 1.0 s\n",
      "yt : [WARNING  ] 2020-03-09 02:01:28,195 Assuming 1.0 = 1.0 g\n",
      "yt : [WARNING  ] 2020-03-09 02:01:28,196 Assuming 1.0 = 1.0 K\n",
      "yt : [INFO     ] 2020-03-09 02:01:28,210 Parameters: current_time              = 97968639446592.58\n",
      "yt : [INFO     ] 2020-03-09 02:01:28,211 Parameters: domain_dimensions         = [256 640   1]\n",
      "yt : [INFO     ] 2020-03-09 02:01:28,212 Parameters: domain_left_edge          = [-1.5450e+19 -3.8625e+19 -5.0000e-01]\n",
      "yt : [INFO     ] 2020-03-09 02:01:28,213 Parameters: domain_right_edge         = [1.5450e+19 3.8625e+19 5.0000e-01]\n",
      "yt : [INFO     ] 2020-03-09 02:01:28,213 Parameters: cosmological_simulation   = 0.0\n"
     ]
    },
    {
     "name": "stdout",
     "output_type": "stream",
     "text": [
      "mixing_layer.out1.00052\n"
     ]
    },
    {
     "name": "stderr",
     "output_type": "stream",
     "text": [
      "yt : [WARNING  ] 2020-03-09 02:01:28,240 Assuming 1.0 = 1.0 cm\n",
      "yt : [WARNING  ] 2020-03-09 02:01:28,242 Assuming 1.0 = 1.0 s\n",
      "yt : [WARNING  ] 2020-03-09 02:01:28,242 Assuming 1.0 = 1.0 g\n",
      "yt : [WARNING  ] 2020-03-09 02:01:28,243 Assuming 1.0 = 1.0 K\n",
      "yt : [INFO     ] 2020-03-09 02:01:28,256 Parameters: current_time              = 99852126458469.48\n",
      "yt : [INFO     ] 2020-03-09 02:01:28,258 Parameters: domain_dimensions         = [256 640   1]\n",
      "yt : [INFO     ] 2020-03-09 02:01:28,258 Parameters: domain_left_edge          = [-1.5450e+19 -3.8625e+19 -5.0000e-01]\n",
      "yt : [INFO     ] 2020-03-09 02:01:28,259 Parameters: domain_right_edge         = [1.5450e+19 3.8625e+19 5.0000e-01]\n",
      "yt : [INFO     ] 2020-03-09 02:01:28,260 Parameters: cosmological_simulation   = 0.0\n"
     ]
    },
    {
     "name": "stdout",
     "output_type": "stream",
     "text": [
      "mixing_layer.out1.00053\n"
     ]
    },
    {
     "name": "stderr",
     "output_type": "stream",
     "text": [
      "yt : [WARNING  ] 2020-03-09 02:01:28,285 Assuming 1.0 = 1.0 cm\n",
      "yt : [WARNING  ] 2020-03-09 02:01:28,286 Assuming 1.0 = 1.0 s\n",
      "yt : [WARNING  ] 2020-03-09 02:01:28,287 Assuming 1.0 = 1.0 g\n",
      "yt : [WARNING  ] 2020-03-09 02:01:28,288 Assuming 1.0 = 1.0 K\n",
      "yt : [INFO     ] 2020-03-09 02:01:28,299 Parameters: current_time              = 101738320525540.89\n",
      "yt : [INFO     ] 2020-03-09 02:01:28,300 Parameters: domain_dimensions         = [256 640   1]\n",
      "yt : [INFO     ] 2020-03-09 02:01:28,301 Parameters: domain_left_edge          = [-1.5450e+19 -3.8625e+19 -5.0000e-01]\n",
      "yt : [INFO     ] 2020-03-09 02:01:28,302 Parameters: domain_right_edge         = [1.5450e+19 3.8625e+19 5.0000e-01]\n",
      "yt : [INFO     ] 2020-03-09 02:01:28,303 Parameters: cosmological_simulation   = 0.0\n"
     ]
    },
    {
     "name": "stdout",
     "output_type": "stream",
     "text": [
      "mixing_layer.out1.00054\n"
     ]
    },
    {
     "name": "stderr",
     "output_type": "stream",
     "text": [
      "yt : [WARNING  ] 2020-03-09 02:01:28,337 Assuming 1.0 = 1.0 cm\n",
      "yt : [WARNING  ] 2020-03-09 02:01:28,338 Assuming 1.0 = 1.0 s\n",
      "yt : [WARNING  ] 2020-03-09 02:01:28,339 Assuming 1.0 = 1.0 g\n",
      "yt : [WARNING  ] 2020-03-09 02:01:28,340 Assuming 1.0 = 1.0 K\n",
      "yt : [INFO     ] 2020-03-09 02:01:28,352 Parameters: current_time              = 103622540683774.05\n",
      "yt : [INFO     ] 2020-03-09 02:01:28,353 Parameters: domain_dimensions         = [256 640   1]\n",
      "yt : [INFO     ] 2020-03-09 02:01:28,354 Parameters: domain_left_edge          = [-1.5450e+19 -3.8625e+19 -5.0000e-01]\n",
      "yt : [INFO     ] 2020-03-09 02:01:28,355 Parameters: domain_right_edge         = [1.5450e+19 3.8625e+19 5.0000e-01]\n",
      "yt : [INFO     ] 2020-03-09 02:01:28,356 Parameters: cosmological_simulation   = 0.0\n"
     ]
    },
    {
     "name": "stdout",
     "output_type": "stream",
     "text": [
      "mixing_layer.out1.00055\n"
     ]
    },
    {
     "name": "stderr",
     "output_type": "stream",
     "text": [
      "yt : [WARNING  ] 2020-03-09 02:01:28,383 Assuming 1.0 = 1.0 cm\n",
      "yt : [WARNING  ] 2020-03-09 02:01:28,384 Assuming 1.0 = 1.0 s\n",
      "yt : [WARNING  ] 2020-03-09 02:01:28,384 Assuming 1.0 = 1.0 g\n",
      "yt : [WARNING  ] 2020-03-09 02:01:28,385 Assuming 1.0 = 1.0 K\n",
      "yt : [INFO     ] 2020-03-09 02:01:28,397 Parameters: current_time              = 105506451203530.47\n",
      "yt : [INFO     ] 2020-03-09 02:01:28,397 Parameters: domain_dimensions         = [256 640   1]\n",
      "yt : [INFO     ] 2020-03-09 02:01:28,398 Parameters: domain_left_edge          = [-1.5450e+19 -3.8625e+19 -5.0000e-01]\n",
      "yt : [INFO     ] 2020-03-09 02:01:28,399 Parameters: domain_right_edge         = [1.5450e+19 3.8625e+19 5.0000e-01]\n",
      "yt : [INFO     ] 2020-03-09 02:01:28,400 Parameters: cosmological_simulation   = 0.0\n"
     ]
    },
    {
     "name": "stdout",
     "output_type": "stream",
     "text": [
      "mixing_layer.out1.00056\n"
     ]
    },
    {
     "name": "stderr",
     "output_type": "stream",
     "text": [
      "yt : [WARNING  ] 2020-03-09 02:01:28,426 Assuming 1.0 = 1.0 cm\n",
      "yt : [WARNING  ] 2020-03-09 02:01:28,428 Assuming 1.0 = 1.0 s\n",
      "yt : [WARNING  ] 2020-03-09 02:01:28,429 Assuming 1.0 = 1.0 g\n",
      "yt : [WARNING  ] 2020-03-09 02:01:28,430 Assuming 1.0 = 1.0 K\n",
      "yt : [INFO     ] 2020-03-09 02:01:28,442 Parameters: current_time              = 107388169110689.77\n",
      "yt : [INFO     ] 2020-03-09 02:01:28,443 Parameters: domain_dimensions         = [256 640   1]\n",
      "yt : [INFO     ] 2020-03-09 02:01:28,444 Parameters: domain_left_edge          = [-1.5450e+19 -3.8625e+19 -5.0000e-01]\n",
      "yt : [INFO     ] 2020-03-09 02:01:28,444 Parameters: domain_right_edge         = [1.5450e+19 3.8625e+19 5.0000e-01]\n",
      "yt : [INFO     ] 2020-03-09 02:01:28,445 Parameters: cosmological_simulation   = 0.0\n"
     ]
    },
    {
     "name": "stdout",
     "output_type": "stream",
     "text": [
      "mixing_layer.out1.00057\n"
     ]
    },
    {
     "name": "stderr",
     "output_type": "stream",
     "text": [
      "yt : [WARNING  ] 2020-03-09 02:01:28,470 Assuming 1.0 = 1.0 cm\n",
      "yt : [WARNING  ] 2020-03-09 02:01:28,471 Assuming 1.0 = 1.0 s\n",
      "yt : [WARNING  ] 2020-03-09 02:01:28,472 Assuming 1.0 = 1.0 g\n",
      "yt : [WARNING  ] 2020-03-09 02:01:28,473 Assuming 1.0 = 1.0 K\n",
      "yt : [INFO     ] 2020-03-09 02:01:28,485 Parameters: current_time              = 109272243106525.66\n",
      "yt : [INFO     ] 2020-03-09 02:01:28,485 Parameters: domain_dimensions         = [256 640   1]\n",
      "yt : [INFO     ] 2020-03-09 02:01:28,486 Parameters: domain_left_edge          = [-1.5450e+19 -3.8625e+19 -5.0000e-01]\n",
      "yt : [INFO     ] 2020-03-09 02:01:28,487 Parameters: domain_right_edge         = [1.5450e+19 3.8625e+19 5.0000e-01]\n",
      "yt : [INFO     ] 2020-03-09 02:01:28,488 Parameters: cosmological_simulation   = 0.0\n"
     ]
    },
    {
     "name": "stdout",
     "output_type": "stream",
     "text": [
      "mixing_layer.out1.00058\n"
     ]
    },
    {
     "name": "stderr",
     "output_type": "stream",
     "text": [
      "yt : [WARNING  ] 2020-03-09 02:01:28,513 Assuming 1.0 = 1.0 cm\n",
      "yt : [WARNING  ] 2020-03-09 02:01:28,514 Assuming 1.0 = 1.0 s\n",
      "yt : [WARNING  ] 2020-03-09 02:01:28,515 Assuming 1.0 = 1.0 g\n",
      "yt : [WARNING  ] 2020-03-09 02:01:28,516 Assuming 1.0 = 1.0 K\n",
      "yt : [INFO     ] 2020-03-09 02:01:28,527 Parameters: current_time              = 111157318855229.3\n",
      "yt : [INFO     ] 2020-03-09 02:01:28,528 Parameters: domain_dimensions         = [256 640   1]\n",
      "yt : [INFO     ] 2020-03-09 02:01:28,529 Parameters: domain_left_edge          = [-1.5450e+19 -3.8625e+19 -5.0000e-01]\n",
      "yt : [INFO     ] 2020-03-09 02:01:28,530 Parameters: domain_right_edge         = [1.5450e+19 3.8625e+19 5.0000e-01]\n",
      "yt : [INFO     ] 2020-03-09 02:01:28,531 Parameters: cosmological_simulation   = 0.0\n"
     ]
    },
    {
     "name": "stdout",
     "output_type": "stream",
     "text": [
      "mixing_layer.out1.00059\n"
     ]
    },
    {
     "name": "stderr",
     "output_type": "stream",
     "text": [
      "yt : [WARNING  ] 2020-03-09 02:01:28,558 Assuming 1.0 = 1.0 cm\n",
      "yt : [WARNING  ] 2020-03-09 02:01:28,559 Assuming 1.0 = 1.0 s\n",
      "yt : [WARNING  ] 2020-03-09 02:01:28,560 Assuming 1.0 = 1.0 g\n",
      "yt : [WARNING  ] 2020-03-09 02:01:28,561 Assuming 1.0 = 1.0 K\n",
      "yt : [INFO     ] 2020-03-09 02:01:28,572 Parameters: current_time              = 113041837630107.8\n",
      "yt : [INFO     ] 2020-03-09 02:01:28,573 Parameters: domain_dimensions         = [256 640   1]\n",
      "yt : [INFO     ] 2020-03-09 02:01:28,574 Parameters: domain_left_edge          = [-1.5450e+19 -3.8625e+19 -5.0000e-01]\n",
      "yt : [INFO     ] 2020-03-09 02:01:28,575 Parameters: domain_right_edge         = [1.5450e+19 3.8625e+19 5.0000e-01]\n",
      "yt : [INFO     ] 2020-03-09 02:01:28,576 Parameters: cosmological_simulation   = 0.0\n"
     ]
    },
    {
     "name": "stdout",
     "output_type": "stream",
     "text": [
      "mixing_layer.out1.00060\n"
     ]
    },
    {
     "name": "stderr",
     "output_type": "stream",
     "text": [
      "yt : [WARNING  ] 2020-03-09 02:01:28,602 Assuming 1.0 = 1.0 cm\n",
      "yt : [WARNING  ] 2020-03-09 02:01:28,603 Assuming 1.0 = 1.0 s\n",
      "yt : [WARNING  ] 2020-03-09 02:01:28,604 Assuming 1.0 = 1.0 g\n",
      "yt : [WARNING  ] 2020-03-09 02:01:28,605 Assuming 1.0 = 1.0 K\n",
      "yt : [INFO     ] 2020-03-09 02:01:28,620 Parameters: current_time              = 114926765784548.88\n",
      "yt : [INFO     ] 2020-03-09 02:01:28,621 Parameters: domain_dimensions         = [256 640   1]\n",
      "yt : [INFO     ] 2020-03-09 02:01:28,621 Parameters: domain_left_edge          = [-1.5450e+19 -3.8625e+19 -5.0000e-01]\n",
      "yt : [INFO     ] 2020-03-09 02:01:28,622 Parameters: domain_right_edge         = [1.5450e+19 3.8625e+19 5.0000e-01]\n",
      "yt : [INFO     ] 2020-03-09 02:01:28,623 Parameters: cosmological_simulation   = 0.0\n"
     ]
    },
    {
     "name": "stdout",
     "output_type": "stream",
     "text": [
      "mixing_layer.out1.00061\n"
     ]
    },
    {
     "name": "stderr",
     "output_type": "stream",
     "text": [
      "yt : [WARNING  ] 2020-03-09 02:01:28,649 Assuming 1.0 = 1.0 cm\n",
      "yt : [WARNING  ] 2020-03-09 02:01:28,650 Assuming 1.0 = 1.0 s\n",
      "yt : [WARNING  ] 2020-03-09 02:01:28,651 Assuming 1.0 = 1.0 g\n",
      "yt : [WARNING  ] 2020-03-09 02:01:28,652 Assuming 1.0 = 1.0 K\n",
      "yt : [INFO     ] 2020-03-09 02:01:28,664 Parameters: current_time              = 116810636898758.78\n",
      "yt : [INFO     ] 2020-03-09 02:01:28,665 Parameters: domain_dimensions         = [256 640   1]\n",
      "yt : [INFO     ] 2020-03-09 02:01:28,666 Parameters: domain_left_edge          = [-1.5450e+19 -3.8625e+19 -5.0000e-01]\n",
      "yt : [INFO     ] 2020-03-09 02:01:28,667 Parameters: domain_right_edge         = [1.5450e+19 3.8625e+19 5.0000e-01]\n",
      "yt : [INFO     ] 2020-03-09 02:01:28,668 Parameters: cosmological_simulation   = 0.0\n"
     ]
    },
    {
     "name": "stdout",
     "output_type": "stream",
     "text": [
      "mixing_layer.out1.00062\n"
     ]
    },
    {
     "name": "stderr",
     "output_type": "stream",
     "text": [
      "yt : [WARNING  ] 2020-03-09 02:01:28,694 Assuming 1.0 = 1.0 cm\n",
      "yt : [WARNING  ] 2020-03-09 02:01:28,695 Assuming 1.0 = 1.0 s\n",
      "yt : [WARNING  ] 2020-03-09 02:01:28,696 Assuming 1.0 = 1.0 g\n",
      "yt : [WARNING  ] 2020-03-09 02:01:28,696 Assuming 1.0 = 1.0 K\n",
      "yt : [INFO     ] 2020-03-09 02:01:28,708 Parameters: current_time              = 118692563186399.1\n",
      "yt : [INFO     ] 2020-03-09 02:01:28,709 Parameters: domain_dimensions         = [256 640   1]\n",
      "yt : [INFO     ] 2020-03-09 02:01:28,710 Parameters: domain_left_edge          = [-1.5450e+19 -3.8625e+19 -5.0000e-01]\n",
      "yt : [INFO     ] 2020-03-09 02:01:28,710 Parameters: domain_right_edge         = [1.5450e+19 3.8625e+19 5.0000e-01]\n",
      "yt : [INFO     ] 2020-03-09 02:01:28,711 Parameters: cosmological_simulation   = 0.0\n"
     ]
    },
    {
     "name": "stdout",
     "output_type": "stream",
     "text": [
      "mixing_layer.out1.00063\n"
     ]
    },
    {
     "name": "stderr",
     "output_type": "stream",
     "text": [
      "yt : [WARNING  ] 2020-03-09 02:01:28,739 Assuming 1.0 = 1.0 cm\n",
      "yt : [WARNING  ] 2020-03-09 02:01:28,740 Assuming 1.0 = 1.0 s\n",
      "yt : [WARNING  ] 2020-03-09 02:01:28,741 Assuming 1.0 = 1.0 g\n",
      "yt : [WARNING  ] 2020-03-09 02:01:28,742 Assuming 1.0 = 1.0 K\n",
      "yt : [INFO     ] 2020-03-09 02:01:28,753 Parameters: current_time              = 120577069015712.83\n",
      "yt : [INFO     ] 2020-03-09 02:01:28,754 Parameters: domain_dimensions         = [256 640   1]\n",
      "yt : [INFO     ] 2020-03-09 02:01:28,756 Parameters: domain_left_edge          = [-1.5450e+19 -3.8625e+19 -5.0000e-01]\n",
      "yt : [INFO     ] 2020-03-09 02:01:28,757 Parameters: domain_right_edge         = [1.5450e+19 3.8625e+19 5.0000e-01]\n",
      "yt : [INFO     ] 2020-03-09 02:01:28,758 Parameters: cosmological_simulation   = 0.0\n"
     ]
    },
    {
     "name": "stdout",
     "output_type": "stream",
     "text": [
      "mixing_layer.out1.00064\n"
     ]
    },
    {
     "name": "stderr",
     "output_type": "stream",
     "text": [
      "yt : [WARNING  ] 2020-03-09 02:01:28,783 Assuming 1.0 = 1.0 cm\n",
      "yt : [WARNING  ] 2020-03-09 02:01:28,785 Assuming 1.0 = 1.0 s\n",
      "yt : [WARNING  ] 2020-03-09 02:01:28,786 Assuming 1.0 = 1.0 g\n",
      "yt : [WARNING  ] 2020-03-09 02:01:28,787 Assuming 1.0 = 1.0 K\n",
      "yt : [INFO     ] 2020-03-09 02:01:28,801 Parameters: current_time              = 122460656145489.84\n",
      "yt : [INFO     ] 2020-03-09 02:01:28,802 Parameters: domain_dimensions         = [256 640   1]\n",
      "yt : [INFO     ] 2020-03-09 02:01:28,803 Parameters: domain_left_edge          = [-1.5450e+19 -3.8625e+19 -5.0000e-01]\n",
      "yt : [INFO     ] 2020-03-09 02:01:28,804 Parameters: domain_right_edge         = [1.5450e+19 3.8625e+19 5.0000e-01]\n",
      "yt : [INFO     ] 2020-03-09 02:01:28,805 Parameters: cosmological_simulation   = 0.0\n"
     ]
    },
    {
     "name": "stdout",
     "output_type": "stream",
     "text": [
      "mixing_layer.out1.00065\n"
     ]
    },
    {
     "name": "stderr",
     "output_type": "stream",
     "text": [
      "yt : [WARNING  ] 2020-03-09 02:01:28,833 Assuming 1.0 = 1.0 cm\n",
      "yt : [WARNING  ] 2020-03-09 02:01:28,834 Assuming 1.0 = 1.0 s\n",
      "yt : [WARNING  ] 2020-03-09 02:01:28,835 Assuming 1.0 = 1.0 g\n",
      "yt : [WARNING  ] 2020-03-09 02:01:28,836 Assuming 1.0 = 1.0 K\n",
      "yt : [INFO     ] 2020-03-09 02:01:28,850 Parameters: current_time              = 124347036038083.36\n",
      "yt : [INFO     ] 2020-03-09 02:01:28,851 Parameters: domain_dimensions         = [256 640   1]\n",
      "yt : [INFO     ] 2020-03-09 02:01:28,851 Parameters: domain_left_edge          = [-1.5450e+19 -3.8625e+19 -5.0000e-01]\n",
      "yt : [INFO     ] 2020-03-09 02:01:28,852 Parameters: domain_right_edge         = [1.5450e+19 3.8625e+19 5.0000e-01]\n",
      "yt : [INFO     ] 2020-03-09 02:01:28,853 Parameters: cosmological_simulation   = 0.0\n"
     ]
    },
    {
     "name": "stdout",
     "output_type": "stream",
     "text": [
      "mixing_layer.out1.00066\n"
     ]
    },
    {
     "name": "stderr",
     "output_type": "stream",
     "text": [
      "yt : [WARNING  ] 2020-03-09 02:01:28,882 Assuming 1.0 = 1.0 cm\n",
      "yt : [WARNING  ] 2020-03-09 02:01:28,883 Assuming 1.0 = 1.0 s\n",
      "yt : [WARNING  ] 2020-03-09 02:01:28,884 Assuming 1.0 = 1.0 g\n",
      "yt : [WARNING  ] 2020-03-09 02:01:28,885 Assuming 1.0 = 1.0 K\n",
      "yt : [INFO     ] 2020-03-09 02:01:28,896 Parameters: current_time              = 126230954431090.61\n",
      "yt : [INFO     ] 2020-03-09 02:01:28,897 Parameters: domain_dimensions         = [256 640   1]\n",
      "yt : [INFO     ] 2020-03-09 02:01:28,897 Parameters: domain_left_edge          = [-1.5450e+19 -3.8625e+19 -5.0000e-01]\n",
      "yt : [INFO     ] 2020-03-09 02:01:28,898 Parameters: domain_right_edge         = [1.5450e+19 3.8625e+19 5.0000e-01]\n",
      "yt : [INFO     ] 2020-03-09 02:01:28,899 Parameters: cosmological_simulation   = 0.0\n"
     ]
    },
    {
     "name": "stdout",
     "output_type": "stream",
     "text": [
      "mixing_layer.out1.00067\n"
     ]
    },
    {
     "name": "stderr",
     "output_type": "stream",
     "text": [
      "yt : [WARNING  ] 2020-03-09 02:01:28,925 Assuming 1.0 = 1.0 cm\n",
      "yt : [WARNING  ] 2020-03-09 02:01:28,926 Assuming 1.0 = 1.0 s\n",
      "yt : [WARNING  ] 2020-03-09 02:01:28,926 Assuming 1.0 = 1.0 g\n",
      "yt : [WARNING  ] 2020-03-09 02:01:28,927 Assuming 1.0 = 1.0 K\n",
      "yt : [INFO     ] 2020-03-09 02:01:28,939 Parameters: current_time              = 128114177803057.34\n",
      "yt : [INFO     ] 2020-03-09 02:01:28,940 Parameters: domain_dimensions         = [256 640   1]\n",
      "yt : [INFO     ] 2020-03-09 02:01:28,941 Parameters: domain_left_edge          = [-1.5450e+19 -3.8625e+19 -5.0000e-01]\n",
      "yt : [INFO     ] 2020-03-09 02:01:28,942 Parameters: domain_right_edge         = [1.5450e+19 3.8625e+19 5.0000e-01]\n",
      "yt : [INFO     ] 2020-03-09 02:01:28,943 Parameters: cosmological_simulation   = 0.0\n"
     ]
    },
    {
     "name": "stdout",
     "output_type": "stream",
     "text": [
      "mixing_layer.out1.00068\n"
     ]
    },
    {
     "name": "stderr",
     "output_type": "stream",
     "text": [
      "yt : [WARNING  ] 2020-03-09 02:01:28,967 Assuming 1.0 = 1.0 cm\n",
      "yt : [WARNING  ] 2020-03-09 02:01:28,968 Assuming 1.0 = 1.0 s\n",
      "yt : [WARNING  ] 2020-03-09 02:01:28,969 Assuming 1.0 = 1.0 g\n",
      "yt : [WARNING  ] 2020-03-09 02:01:28,970 Assuming 1.0 = 1.0 K\n",
      "yt : [INFO     ] 2020-03-09 02:01:28,983 Parameters: current_time              = 129997990531802.34\n",
      "yt : [INFO     ] 2020-03-09 02:01:28,984 Parameters: domain_dimensions         = [256 640   1]\n",
      "yt : [INFO     ] 2020-03-09 02:01:28,986 Parameters: domain_left_edge          = [-1.5450e+19 -3.8625e+19 -5.0000e-01]\n",
      "yt : [INFO     ] 2020-03-09 02:01:28,986 Parameters: domain_right_edge         = [1.5450e+19 3.8625e+19 5.0000e-01]\n",
      "yt : [INFO     ] 2020-03-09 02:01:28,987 Parameters: cosmological_simulation   = 0.0\n"
     ]
    },
    {
     "name": "stdout",
     "output_type": "stream",
     "text": [
      "mixing_layer.out1.00069\n"
     ]
    },
    {
     "name": "stderr",
     "output_type": "stream",
     "text": [
      "yt : [WARNING  ] 2020-03-09 02:01:29,012 Assuming 1.0 = 1.0 cm\n",
      "yt : [WARNING  ] 2020-03-09 02:01:29,013 Assuming 1.0 = 1.0 s\n",
      "yt : [WARNING  ] 2020-03-09 02:01:29,014 Assuming 1.0 = 1.0 g\n",
      "yt : [WARNING  ] 2020-03-09 02:01:29,015 Assuming 1.0 = 1.0 K\n",
      "yt : [INFO     ] 2020-03-09 02:01:29,030 Parameters: current_time              = 131882908547831.69\n",
      "yt : [INFO     ] 2020-03-09 02:01:29,030 Parameters: domain_dimensions         = [256 640   1]\n",
      "yt : [INFO     ] 2020-03-09 02:01:29,031 Parameters: domain_left_edge          = [-1.5450e+19 -3.8625e+19 -5.0000e-01]\n",
      "yt : [INFO     ] 2020-03-09 02:01:29,032 Parameters: domain_right_edge         = [1.5450e+19 3.8625e+19 5.0000e-01]\n",
      "yt : [INFO     ] 2020-03-09 02:01:29,033 Parameters: cosmological_simulation   = 0.0\n"
     ]
    },
    {
     "name": "stdout",
     "output_type": "stream",
     "text": [
      "mixing_layer.out1.00070\n"
     ]
    },
    {
     "name": "stderr",
     "output_type": "stream",
     "text": [
      "yt : [WARNING  ] 2020-03-09 02:01:29,060 Assuming 1.0 = 1.0 cm\n",
      "yt : [WARNING  ] 2020-03-09 02:01:29,061 Assuming 1.0 = 1.0 s\n",
      "yt : [WARNING  ] 2020-03-09 02:01:29,062 Assuming 1.0 = 1.0 g\n",
      "yt : [WARNING  ] 2020-03-09 02:01:29,063 Assuming 1.0 = 1.0 K\n",
      "yt : [INFO     ] 2020-03-09 02:01:29,074 Parameters: current_time              = 133765863631731.22\n",
      "yt : [INFO     ] 2020-03-09 02:01:29,075 Parameters: domain_dimensions         = [256 640   1]\n",
      "yt : [INFO     ] 2020-03-09 02:01:29,076 Parameters: domain_left_edge          = [-1.5450e+19 -3.8625e+19 -5.0000e-01]\n",
      "yt : [INFO     ] 2020-03-09 02:01:29,077 Parameters: domain_right_edge         = [1.5450e+19 3.8625e+19 5.0000e-01]\n",
      "yt : [INFO     ] 2020-03-09 02:01:29,078 Parameters: cosmological_simulation   = 0.0\n"
     ]
    },
    {
     "name": "stdout",
     "output_type": "stream",
     "text": [
      "mixing_layer.out1.00071\n"
     ]
    },
    {
     "name": "stderr",
     "output_type": "stream",
     "text": [
      "yt : [WARNING  ] 2020-03-09 02:01:29,103 Assuming 1.0 = 1.0 cm\n",
      "yt : [WARNING  ] 2020-03-09 02:01:29,104 Assuming 1.0 = 1.0 s\n",
      "yt : [WARNING  ] 2020-03-09 02:01:29,105 Assuming 1.0 = 1.0 g\n",
      "yt : [WARNING  ] 2020-03-09 02:01:29,106 Assuming 1.0 = 1.0 K\n",
      "yt : [INFO     ] 2020-03-09 02:01:29,119 Parameters: current_time              = 135649887649281.03\n",
      "yt : [INFO     ] 2020-03-09 02:01:29,120 Parameters: domain_dimensions         = [256 640   1]\n",
      "yt : [INFO     ] 2020-03-09 02:01:29,120 Parameters: domain_left_edge          = [-1.5450e+19 -3.8625e+19 -5.0000e-01]\n",
      "yt : [INFO     ] 2020-03-09 02:01:29,122 Parameters: domain_right_edge         = [1.5450e+19 3.8625e+19 5.0000e-01]\n",
      "yt : [INFO     ] 2020-03-09 02:01:29,123 Parameters: cosmological_simulation   = 0.0\n"
     ]
    },
    {
     "name": "stdout",
     "output_type": "stream",
     "text": [
      "mixing_layer.out1.00072\n"
     ]
    },
    {
     "name": "stderr",
     "output_type": "stream",
     "text": [
      "yt : [WARNING  ] 2020-03-09 02:01:29,150 Assuming 1.0 = 1.0 cm\n",
      "yt : [WARNING  ] 2020-03-09 02:01:29,152 Assuming 1.0 = 1.0 s\n",
      "yt : [WARNING  ] 2020-03-09 02:01:29,153 Assuming 1.0 = 1.0 g\n",
      "yt : [WARNING  ] 2020-03-09 02:01:29,154 Assuming 1.0 = 1.0 K\n",
      "yt : [INFO     ] 2020-03-09 02:01:29,167 Parameters: current_time              = 137532857876177.0\n",
      "yt : [INFO     ] 2020-03-09 02:01:29,168 Parameters: domain_dimensions         = [256 640   1]\n",
      "yt : [INFO     ] 2020-03-09 02:01:29,168 Parameters: domain_left_edge          = [-1.5450e+19 -3.8625e+19 -5.0000e-01]\n",
      "yt : [INFO     ] 2020-03-09 02:01:29,169 Parameters: domain_right_edge         = [1.5450e+19 3.8625e+19 5.0000e-01]\n",
      "yt : [INFO     ] 2020-03-09 02:01:29,170 Parameters: cosmological_simulation   = 0.0\n"
     ]
    },
    {
     "name": "stdout",
     "output_type": "stream",
     "text": [
      "mixing_layer.out1.00073\n"
     ]
    },
    {
     "name": "stderr",
     "output_type": "stream",
     "text": [
      "yt : [WARNING  ] 2020-03-09 02:01:29,196 Assuming 1.0 = 1.0 cm\n",
      "yt : [WARNING  ] 2020-03-09 02:01:29,197 Assuming 1.0 = 1.0 s\n",
      "yt : [WARNING  ] 2020-03-09 02:01:29,198 Assuming 1.0 = 1.0 g\n",
      "yt : [WARNING  ] 2020-03-09 02:01:29,199 Assuming 1.0 = 1.0 K\n",
      "yt : [INFO     ] 2020-03-09 02:01:29,211 Parameters: current_time              = 139416745247003.4\n",
      "yt : [INFO     ] 2020-03-09 02:01:29,211 Parameters: domain_dimensions         = [256 640   1]\n",
      "yt : [INFO     ] 2020-03-09 02:01:29,212 Parameters: domain_left_edge          = [-1.5450e+19 -3.8625e+19 -5.0000e-01]\n",
      "yt : [INFO     ] 2020-03-09 02:01:29,213 Parameters: domain_right_edge         = [1.5450e+19 3.8625e+19 5.0000e-01]\n",
      "yt : [INFO     ] 2020-03-09 02:01:29,214 Parameters: cosmological_simulation   = 0.0\n"
     ]
    },
    {
     "name": "stdout",
     "output_type": "stream",
     "text": [
      "mixing_layer.out1.00074\n"
     ]
    },
    {
     "name": "stderr",
     "output_type": "stream",
     "text": [
      "yt : [WARNING  ] 2020-03-09 02:01:29,241 Assuming 1.0 = 1.0 cm\n",
      "yt : [WARNING  ] 2020-03-09 02:01:29,242 Assuming 1.0 = 1.0 s\n",
      "yt : [WARNING  ] 2020-03-09 02:01:29,242 Assuming 1.0 = 1.0 g\n",
      "yt : [WARNING  ] 2020-03-09 02:01:29,243 Assuming 1.0 = 1.0 K\n",
      "yt : [INFO     ] 2020-03-09 02:01:29,255 Parameters: current_time              = 141302666602687.47\n",
      "yt : [INFO     ] 2020-03-09 02:01:29,256 Parameters: domain_dimensions         = [256 640   1]\n",
      "yt : [INFO     ] 2020-03-09 02:01:29,257 Parameters: domain_left_edge          = [-1.5450e+19 -3.8625e+19 -5.0000e-01]\n",
      "yt : [INFO     ] 2020-03-09 02:01:29,258 Parameters: domain_right_edge         = [1.5450e+19 3.8625e+19 5.0000e-01]\n",
      "yt : [INFO     ] 2020-03-09 02:01:29,259 Parameters: cosmological_simulation   = 0.0\n"
     ]
    },
    {
     "name": "stdout",
     "output_type": "stream",
     "text": [
      "mixing_layer.out1.00075\n"
     ]
    },
    {
     "name": "stderr",
     "output_type": "stream",
     "text": [
      "yt : [WARNING  ] 2020-03-09 02:01:29,287 Assuming 1.0 = 1.0 cm\n",
      "yt : [WARNING  ] 2020-03-09 02:01:29,288 Assuming 1.0 = 1.0 s\n",
      "yt : [WARNING  ] 2020-03-09 02:01:29,289 Assuming 1.0 = 1.0 g\n",
      "yt : [WARNING  ] 2020-03-09 02:01:29,290 Assuming 1.0 = 1.0 K\n",
      "yt : [INFO     ] 2020-03-09 02:01:29,301 Parameters: current_time              = 143185326601049.94\n",
      "yt : [INFO     ] 2020-03-09 02:01:29,302 Parameters: domain_dimensions         = [256 640   1]\n",
      "yt : [INFO     ] 2020-03-09 02:01:29,303 Parameters: domain_left_edge          = [-1.5450e+19 -3.8625e+19 -5.0000e-01]\n",
      "yt : [INFO     ] 2020-03-09 02:01:29,304 Parameters: domain_right_edge         = [1.5450e+19 3.8625e+19 5.0000e-01]\n",
      "yt : [INFO     ] 2020-03-09 02:01:29,305 Parameters: cosmological_simulation   = 0.0\n"
     ]
    },
    {
     "name": "stdout",
     "output_type": "stream",
     "text": [
      "mixing_layer.out1.00076\n"
     ]
    },
    {
     "name": "stderr",
     "output_type": "stream",
     "text": [
      "yt : [WARNING  ] 2020-03-09 02:01:29,334 Assuming 1.0 = 1.0 cm\n",
      "yt : [WARNING  ] 2020-03-09 02:01:29,335 Assuming 1.0 = 1.0 s\n",
      "yt : [WARNING  ] 2020-03-09 02:01:29,336 Assuming 1.0 = 1.0 g\n",
      "yt : [WARNING  ] 2020-03-09 02:01:29,337 Assuming 1.0 = 1.0 K\n",
      "yt : [INFO     ] 2020-03-09 02:01:29,351 Parameters: current_time              = 145069913306984.66\n",
      "yt : [INFO     ] 2020-03-09 02:01:29,352 Parameters: domain_dimensions         = [256 640   1]\n",
      "yt : [INFO     ] 2020-03-09 02:01:29,353 Parameters: domain_left_edge          = [-1.5450e+19 -3.8625e+19 -5.0000e-01]\n",
      "yt : [INFO     ] 2020-03-09 02:01:29,354 Parameters: domain_right_edge         = [1.5450e+19 3.8625e+19 5.0000e-01]\n",
      "yt : [INFO     ] 2020-03-09 02:01:29,355 Parameters: cosmological_simulation   = 0.0\n"
     ]
    },
    {
     "name": "stdout",
     "output_type": "stream",
     "text": [
      "mixing_layer.out1.00077\n"
     ]
    },
    {
     "name": "stderr",
     "output_type": "stream",
     "text": [
      "yt : [WARNING  ] 2020-03-09 02:01:29,383 Assuming 1.0 = 1.0 cm\n",
      "yt : [WARNING  ] 2020-03-09 02:01:29,384 Assuming 1.0 = 1.0 s\n",
      "yt : [WARNING  ] 2020-03-09 02:01:29,385 Assuming 1.0 = 1.0 g\n",
      "yt : [WARNING  ] 2020-03-09 02:01:29,386 Assuming 1.0 = 1.0 K\n",
      "yt : [INFO     ] 2020-03-09 02:01:29,399 Parameters: current_time              = 146952210908384.78\n",
      "yt : [INFO     ] 2020-03-09 02:01:29,400 Parameters: domain_dimensions         = [256 640   1]\n",
      "yt : [INFO     ] 2020-03-09 02:01:29,401 Parameters: domain_left_edge          = [-1.5450e+19 -3.8625e+19 -5.0000e-01]\n",
      "yt : [INFO     ] 2020-03-09 02:01:29,403 Parameters: domain_right_edge         = [1.5450e+19 3.8625e+19 5.0000e-01]\n",
      "yt : [INFO     ] 2020-03-09 02:01:29,404 Parameters: cosmological_simulation   = 0.0\n"
     ]
    },
    {
     "name": "stdout",
     "output_type": "stream",
     "text": [
      "mixing_layer.out1.00078\n"
     ]
    },
    {
     "name": "stderr",
     "output_type": "stream",
     "text": [
      "yt : [WARNING  ] 2020-03-09 02:01:29,436 Assuming 1.0 = 1.0 cm\n",
      "yt : [WARNING  ] 2020-03-09 02:01:29,437 Assuming 1.0 = 1.0 s\n",
      "yt : [WARNING  ] 2020-03-09 02:01:29,438 Assuming 1.0 = 1.0 g\n",
      "yt : [WARNING  ] 2020-03-09 02:01:29,439 Assuming 1.0 = 1.0 K\n",
      "yt : [INFO     ] 2020-03-09 02:01:29,454 Parameters: current_time              = 148837480333946.06\n",
      "yt : [INFO     ] 2020-03-09 02:01:29,455 Parameters: domain_dimensions         = [256 640   1]\n",
      "yt : [INFO     ] 2020-03-09 02:01:29,456 Parameters: domain_left_edge          = [-1.5450e+19 -3.8625e+19 -5.0000e-01]\n",
      "yt : [INFO     ] 2020-03-09 02:01:29,457 Parameters: domain_right_edge         = [1.5450e+19 3.8625e+19 5.0000e-01]\n",
      "yt : [INFO     ] 2020-03-09 02:01:29,457 Parameters: cosmological_simulation   = 0.0\n"
     ]
    },
    {
     "name": "stdout",
     "output_type": "stream",
     "text": [
      "mixing_layer.out1.00079\n"
     ]
    },
    {
     "name": "stderr",
     "output_type": "stream",
     "text": [
      "yt : [WARNING  ] 2020-03-09 02:01:29,489 Assuming 1.0 = 1.0 cm\n",
      "yt : [WARNING  ] 2020-03-09 02:01:29,490 Assuming 1.0 = 1.0 s\n",
      "yt : [WARNING  ] 2020-03-09 02:01:29,491 Assuming 1.0 = 1.0 g\n",
      "yt : [WARNING  ] 2020-03-09 02:01:29,493 Assuming 1.0 = 1.0 K\n",
      "yt : [INFO     ] 2020-03-09 02:01:29,507 Parameters: current_time              = 150721661165434.44\n",
      "yt : [INFO     ] 2020-03-09 02:01:29,509 Parameters: domain_dimensions         = [256 640   1]\n",
      "yt : [INFO     ] 2020-03-09 02:01:29,510 Parameters: domain_left_edge          = [-1.5450e+19 -3.8625e+19 -5.0000e-01]\n",
      "yt : [INFO     ] 2020-03-09 02:01:29,511 Parameters: domain_right_edge         = [1.5450e+19 3.8625e+19 5.0000e-01]\n",
      "yt : [INFO     ] 2020-03-09 02:01:29,512 Parameters: cosmological_simulation   = 0.0\n"
     ]
    },
    {
     "name": "stdout",
     "output_type": "stream",
     "text": [
      "mixing_layer.out1.00080\n"
     ]
    },
    {
     "name": "stderr",
     "output_type": "stream",
     "text": [
      "yt : [WARNING  ] 2020-03-09 02:01:29,540 Assuming 1.0 = 1.0 cm\n",
      "yt : [WARNING  ] 2020-03-09 02:01:29,541 Assuming 1.0 = 1.0 s\n",
      "yt : [WARNING  ] 2020-03-09 02:01:29,542 Assuming 1.0 = 1.0 g\n",
      "yt : [WARNING  ] 2020-03-09 02:01:29,543 Assuming 1.0 = 1.0 K\n",
      "yt : [INFO     ] 2020-03-09 02:01:29,558 Parameters: current_time              = 152604352555573.12\n",
      "yt : [INFO     ] 2020-03-09 02:01:29,559 Parameters: domain_dimensions         = [256 640   1]\n",
      "yt : [INFO     ] 2020-03-09 02:01:29,560 Parameters: domain_left_edge          = [-1.5450e+19 -3.8625e+19 -5.0000e-01]\n",
      "yt : [INFO     ] 2020-03-09 02:01:29,561 Parameters: domain_right_edge         = [1.5450e+19 3.8625e+19 5.0000e-01]\n",
      "yt : [INFO     ] 2020-03-09 02:01:29,563 Parameters: cosmological_simulation   = 0.0\n"
     ]
    },
    {
     "name": "stdout",
     "output_type": "stream",
     "text": [
      "mixing_layer.out1.00081\n"
     ]
    },
    {
     "name": "stderr",
     "output_type": "stream",
     "text": [
      "yt : [WARNING  ] 2020-03-09 02:01:29,594 Assuming 1.0 = 1.0 cm\n",
      "yt : [WARNING  ] 2020-03-09 02:01:29,595 Assuming 1.0 = 1.0 s\n",
      "yt : [WARNING  ] 2020-03-09 02:01:29,596 Assuming 1.0 = 1.0 g\n",
      "yt : [WARNING  ] 2020-03-09 02:01:29,597 Assuming 1.0 = 1.0 K\n",
      "yt : [INFO     ] 2020-03-09 02:01:29,609 Parameters: current_time              = 154489726101103.38\n",
      "yt : [INFO     ] 2020-03-09 02:01:29,610 Parameters: domain_dimensions         = [256 640   1]\n",
      "yt : [INFO     ] 2020-03-09 02:01:29,611 Parameters: domain_left_edge          = [-1.5450e+19 -3.8625e+19 -5.0000e-01]\n",
      "yt : [INFO     ] 2020-03-09 02:01:29,612 Parameters: domain_right_edge         = [1.5450e+19 3.8625e+19 5.0000e-01]\n",
      "yt : [INFO     ] 2020-03-09 02:01:29,613 Parameters: cosmological_simulation   = 0.0\n"
     ]
    },
    {
     "name": "stdout",
     "output_type": "stream",
     "text": [
      "mixing_layer.out1.00082\n"
     ]
    },
    {
     "name": "stderr",
     "output_type": "stream",
     "text": [
      "yt : [WARNING  ] 2020-03-09 02:01:29,640 Assuming 1.0 = 1.0 cm\n",
      "yt : [WARNING  ] 2020-03-09 02:01:29,641 Assuming 1.0 = 1.0 s\n",
      "yt : [WARNING  ] 2020-03-09 02:01:29,643 Assuming 1.0 = 1.0 g\n",
      "yt : [WARNING  ] 2020-03-09 02:01:29,644 Assuming 1.0 = 1.0 K\n",
      "yt : [INFO     ] 2020-03-09 02:01:29,657 Parameters: current_time              = 156373524816266.8\n",
      "yt : [INFO     ] 2020-03-09 02:01:29,658 Parameters: domain_dimensions         = [256 640   1]\n",
      "yt : [INFO     ] 2020-03-09 02:01:29,659 Parameters: domain_left_edge          = [-1.5450e+19 -3.8625e+19 -5.0000e-01]\n",
      "yt : [INFO     ] 2020-03-09 02:01:29,660 Parameters: domain_right_edge         = [1.5450e+19 3.8625e+19 5.0000e-01]\n",
      "yt : [INFO     ] 2020-03-09 02:01:29,660 Parameters: cosmological_simulation   = 0.0\n"
     ]
    },
    {
     "name": "stdout",
     "output_type": "stream",
     "text": [
      "mixing_layer.out1.00083\n"
     ]
    },
    {
     "name": "stderr",
     "output_type": "stream",
     "text": [
      "yt : [WARNING  ] 2020-03-09 02:01:29,686 Assuming 1.0 = 1.0 cm\n",
      "yt : [WARNING  ] 2020-03-09 02:01:29,687 Assuming 1.0 = 1.0 s\n",
      "yt : [WARNING  ] 2020-03-09 02:01:29,688 Assuming 1.0 = 1.0 g\n",
      "yt : [WARNING  ] 2020-03-09 02:01:29,689 Assuming 1.0 = 1.0 K\n",
      "yt : [INFO     ] 2020-03-09 02:01:29,700 Parameters: current_time              = 158257191949910.06\n",
      "yt : [INFO     ] 2020-03-09 02:01:29,701 Parameters: domain_dimensions         = [256 640   1]\n",
      "yt : [INFO     ] 2020-03-09 02:01:29,702 Parameters: domain_left_edge          = [-1.5450e+19 -3.8625e+19 -5.0000e-01]\n",
      "yt : [INFO     ] 2020-03-09 02:01:29,703 Parameters: domain_right_edge         = [1.5450e+19 3.8625e+19 5.0000e-01]\n",
      "yt : [INFO     ] 2020-03-09 02:01:29,703 Parameters: cosmological_simulation   = 0.0\n"
     ]
    },
    {
     "name": "stdout",
     "output_type": "stream",
     "text": [
      "mixing_layer.out1.00084\n"
     ]
    },
    {
     "name": "stderr",
     "output_type": "stream",
     "text": [
      "yt : [WARNING  ] 2020-03-09 02:01:29,730 Assuming 1.0 = 1.0 cm\n",
      "yt : [WARNING  ] 2020-03-09 02:01:29,732 Assuming 1.0 = 1.0 s\n",
      "yt : [WARNING  ] 2020-03-09 02:01:29,733 Assuming 1.0 = 1.0 g\n",
      "yt : [WARNING  ] 2020-03-09 02:01:29,734 Assuming 1.0 = 1.0 K\n",
      "yt : [INFO     ] 2020-03-09 02:01:29,745 Parameters: current_time              = 160140041503505.44\n",
      "yt : [INFO     ] 2020-03-09 02:01:29,746 Parameters: domain_dimensions         = [256 640   1]\n",
      "yt : [INFO     ] 2020-03-09 02:01:29,746 Parameters: domain_left_edge          = [-1.5450e+19 -3.8625e+19 -5.0000e-01]\n",
      "yt : [INFO     ] 2020-03-09 02:01:29,748 Parameters: domain_right_edge         = [1.5450e+19 3.8625e+19 5.0000e-01]\n",
      "yt : [INFO     ] 2020-03-09 02:01:29,750 Parameters: cosmological_simulation   = 0.0\n"
     ]
    },
    {
     "name": "stdout",
     "output_type": "stream",
     "text": [
      "mixing_layer.out1.00085\n"
     ]
    },
    {
     "name": "stderr",
     "output_type": "stream",
     "text": [
      "yt : [WARNING  ] 2020-03-09 02:01:29,775 Assuming 1.0 = 1.0 cm\n",
      "yt : [WARNING  ] 2020-03-09 02:01:29,776 Assuming 1.0 = 1.0 s\n",
      "yt : [WARNING  ] 2020-03-09 02:01:29,777 Assuming 1.0 = 1.0 g\n",
      "yt : [WARNING  ] 2020-03-09 02:01:29,777 Assuming 1.0 = 1.0 K\n",
      "yt : [INFO     ] 2020-03-09 02:01:29,789 Parameters: current_time              = 162025307283870.03\n",
      "yt : [INFO     ] 2020-03-09 02:01:29,790 Parameters: domain_dimensions         = [256 640   1]\n",
      "yt : [INFO     ] 2020-03-09 02:01:29,791 Parameters: domain_left_edge          = [-1.5450e+19 -3.8625e+19 -5.0000e-01]\n",
      "yt : [INFO     ] 2020-03-09 02:01:29,792 Parameters: domain_right_edge         = [1.5450e+19 3.8625e+19 5.0000e-01]\n",
      "yt : [INFO     ] 2020-03-09 02:01:29,793 Parameters: cosmological_simulation   = 0.0\n"
     ]
    },
    {
     "name": "stdout",
     "output_type": "stream",
     "text": [
      "mixing_layer.out1.00086\n"
     ]
    },
    {
     "name": "stderr",
     "output_type": "stream",
     "text": [
      "yt : [WARNING  ] 2020-03-09 02:01:29,819 Assuming 1.0 = 1.0 cm\n",
      "yt : [WARNING  ] 2020-03-09 02:01:29,820 Assuming 1.0 = 1.0 s\n",
      "yt : [WARNING  ] 2020-03-09 02:01:29,821 Assuming 1.0 = 1.0 g\n",
      "yt : [WARNING  ] 2020-03-09 02:01:29,822 Assuming 1.0 = 1.0 K\n",
      "yt : [INFO     ] 2020-03-09 02:01:29,837 Parameters: current_time              = 163908126224347.16\n",
      "yt : [INFO     ] 2020-03-09 02:01:29,838 Parameters: domain_dimensions         = [256 640   1]\n",
      "yt : [INFO     ] 2020-03-09 02:01:29,838 Parameters: domain_left_edge          = [-1.5450e+19 -3.8625e+19 -5.0000e-01]\n",
      "yt : [INFO     ] 2020-03-09 02:01:29,839 Parameters: domain_right_edge         = [1.5450e+19 3.8625e+19 5.0000e-01]\n",
      "yt : [INFO     ] 2020-03-09 02:01:29,840 Parameters: cosmological_simulation   = 0.0\n"
     ]
    },
    {
     "name": "stdout",
     "output_type": "stream",
     "text": [
      "mixing_layer.out1.00087\n"
     ]
    },
    {
     "name": "stderr",
     "output_type": "stream",
     "text": [
      "yt : [WARNING  ] 2020-03-09 02:01:29,866 Assuming 1.0 = 1.0 cm\n",
      "yt : [WARNING  ] 2020-03-09 02:01:29,867 Assuming 1.0 = 1.0 s\n",
      "yt : [WARNING  ] 2020-03-09 02:01:29,868 Assuming 1.0 = 1.0 g\n",
      "yt : [WARNING  ] 2020-03-09 02:01:29,869 Assuming 1.0 = 1.0 K\n",
      "yt : [INFO     ] 2020-03-09 02:01:29,880 Parameters: current_time              = 165792007206339.6\n",
      "yt : [INFO     ] 2020-03-09 02:01:29,880 Parameters: domain_dimensions         = [256 640   1]\n",
      "yt : [INFO     ] 2020-03-09 02:01:29,881 Parameters: domain_left_edge          = [-1.5450e+19 -3.8625e+19 -5.0000e-01]\n",
      "yt : [INFO     ] 2020-03-09 02:01:29,882 Parameters: domain_right_edge         = [1.5450e+19 3.8625e+19 5.0000e-01]\n",
      "yt : [INFO     ] 2020-03-09 02:01:29,883 Parameters: cosmological_simulation   = 0.0\n"
     ]
    },
    {
     "name": "stdout",
     "output_type": "stream",
     "text": [
      "mixing_layer.out1.00088\n"
     ]
    },
    {
     "name": "stderr",
     "output_type": "stream",
     "text": [
      "yt : [WARNING  ] 2020-03-09 02:01:29,908 Assuming 1.0 = 1.0 cm\n",
      "yt : [WARNING  ] 2020-03-09 02:01:29,909 Assuming 1.0 = 1.0 s\n",
      "yt : [WARNING  ] 2020-03-09 02:01:29,910 Assuming 1.0 = 1.0 g\n",
      "yt : [WARNING  ] 2020-03-09 02:01:29,911 Assuming 1.0 = 1.0 K\n",
      "yt : [INFO     ] 2020-03-09 02:01:29,924 Parameters: current_time              = 167676710355360.75\n",
      "yt : [INFO     ] 2020-03-09 02:01:29,925 Parameters: domain_dimensions         = [256 640   1]\n",
      "yt : [INFO     ] 2020-03-09 02:01:29,926 Parameters: domain_left_edge          = [-1.5450e+19 -3.8625e+19 -5.0000e-01]\n",
      "yt : [INFO     ] 2020-03-09 02:01:29,927 Parameters: domain_right_edge         = [1.5450e+19 3.8625e+19 5.0000e-01]\n",
      "yt : [INFO     ] 2020-03-09 02:01:29,928 Parameters: cosmological_simulation   = 0.0\n"
     ]
    },
    {
     "name": "stdout",
     "output_type": "stream",
     "text": [
      "mixing_layer.out1.00089\n"
     ]
    },
    {
     "name": "stderr",
     "output_type": "stream",
     "text": [
      "yt : [WARNING  ] 2020-03-09 02:01:29,951 Assuming 1.0 = 1.0 cm\n",
      "yt : [WARNING  ] 2020-03-09 02:01:29,953 Assuming 1.0 = 1.0 s\n",
      "yt : [WARNING  ] 2020-03-09 02:01:29,953 Assuming 1.0 = 1.0 g\n",
      "yt : [WARNING  ] 2020-03-09 02:01:29,955 Assuming 1.0 = 1.0 K\n",
      "yt : [INFO     ] 2020-03-09 02:01:29,966 Parameters: current_time              = 169561487993053.66\n",
      "yt : [INFO     ] 2020-03-09 02:01:29,967 Parameters: domain_dimensions         = [256 640   1]\n",
      "yt : [INFO     ] 2020-03-09 02:01:29,968 Parameters: domain_left_edge          = [-1.5450e+19 -3.8625e+19 -5.0000e-01]\n",
      "yt : [INFO     ] 2020-03-09 02:01:29,969 Parameters: domain_right_edge         = [1.5450e+19 3.8625e+19 5.0000e-01]\n",
      "yt : [INFO     ] 2020-03-09 02:01:29,970 Parameters: cosmological_simulation   = 0.0\n"
     ]
    },
    {
     "name": "stdout",
     "output_type": "stream",
     "text": [
      "mixing_layer.out1.00090\n"
     ]
    },
    {
     "name": "stderr",
     "output_type": "stream",
     "text": [
      "yt : [WARNING  ] 2020-03-09 02:01:29,996 Assuming 1.0 = 1.0 cm\n",
      "yt : [WARNING  ] 2020-03-09 02:01:29,998 Assuming 1.0 = 1.0 s\n",
      "yt : [WARNING  ] 2020-03-09 02:01:29,999 Assuming 1.0 = 1.0 g\n",
      "yt : [WARNING  ] 2020-03-09 02:01:30,000 Assuming 1.0 = 1.0 K\n",
      "yt : [INFO     ] 2020-03-09 02:01:30,013 Parameters: current_time              = 171445815642868.94\n",
      "yt : [INFO     ] 2020-03-09 02:01:30,014 Parameters: domain_dimensions         = [256 640   1]\n",
      "yt : [INFO     ] 2020-03-09 02:01:30,015 Parameters: domain_left_edge          = [-1.5450e+19 -3.8625e+19 -5.0000e-01]\n",
      "yt : [INFO     ] 2020-03-09 02:01:30,016 Parameters: domain_right_edge         = [1.5450e+19 3.8625e+19 5.0000e-01]\n",
      "yt : [INFO     ] 2020-03-09 02:01:30,017 Parameters: cosmological_simulation   = 0.0\n"
     ]
    },
    {
     "name": "stdout",
     "output_type": "stream",
     "text": [
      "mixing_layer.out1.00091\n"
     ]
    },
    {
     "name": "stderr",
     "output_type": "stream",
     "text": [
      "yt : [WARNING  ] 2020-03-09 02:01:30,040 Assuming 1.0 = 1.0 cm\n",
      "yt : [WARNING  ] 2020-03-09 02:01:30,042 Assuming 1.0 = 1.0 s\n",
      "yt : [WARNING  ] 2020-03-09 02:01:30,043 Assuming 1.0 = 1.0 g\n",
      "yt : [WARNING  ] 2020-03-09 02:01:30,043 Assuming 1.0 = 1.0 K\n",
      "yt : [INFO     ] 2020-03-09 02:01:30,056 Parameters: current_time              = 173329705228153.8\n",
      "yt : [INFO     ] 2020-03-09 02:01:30,057 Parameters: domain_dimensions         = [256 640   1]\n",
      "yt : [INFO     ] 2020-03-09 02:01:30,058 Parameters: domain_left_edge          = [-1.5450e+19 -3.8625e+19 -5.0000e-01]\n",
      "yt : [INFO     ] 2020-03-09 02:01:30,059 Parameters: domain_right_edge         = [1.5450e+19 3.8625e+19 5.0000e-01]\n",
      "yt : [INFO     ] 2020-03-09 02:01:30,059 Parameters: cosmological_simulation   = 0.0\n"
     ]
    },
    {
     "name": "stdout",
     "output_type": "stream",
     "text": [
      "mixing_layer.out1.00092\n"
     ]
    },
    {
     "name": "stderr",
     "output_type": "stream",
     "text": [
      "yt : [WARNING  ] 2020-03-09 02:01:30,083 Assuming 1.0 = 1.0 cm\n",
      "yt : [WARNING  ] 2020-03-09 02:01:30,084 Assuming 1.0 = 1.0 s\n",
      "yt : [WARNING  ] 2020-03-09 02:01:30,084 Assuming 1.0 = 1.0 g\n",
      "yt : [WARNING  ] 2020-03-09 02:01:30,085 Assuming 1.0 = 1.0 K\n",
      "yt : [INFO     ] 2020-03-09 02:01:30,096 Parameters: current_time              = 175214703389882.03\n",
      "yt : [INFO     ] 2020-03-09 02:01:30,097 Parameters: domain_dimensions         = [256 640   1]\n",
      "yt : [INFO     ] 2020-03-09 02:01:30,098 Parameters: domain_left_edge          = [-1.5450e+19 -3.8625e+19 -5.0000e-01]\n",
      "yt : [INFO     ] 2020-03-09 02:01:30,099 Parameters: domain_right_edge         = [1.5450e+19 3.8625e+19 5.0000e-01]\n",
      "yt : [INFO     ] 2020-03-09 02:01:30,099 Parameters: cosmological_simulation   = 0.0\n"
     ]
    },
    {
     "name": "stdout",
     "output_type": "stream",
     "text": [
      "mixing_layer.out1.00093\n"
     ]
    },
    {
     "name": "stderr",
     "output_type": "stream",
     "text": [
      "yt : [WARNING  ] 2020-03-09 02:01:30,123 Assuming 1.0 = 1.0 cm\n",
      "yt : [WARNING  ] 2020-03-09 02:01:30,124 Assuming 1.0 = 1.0 s\n",
      "yt : [WARNING  ] 2020-03-09 02:01:30,125 Assuming 1.0 = 1.0 g\n",
      "yt : [WARNING  ] 2020-03-09 02:01:30,126 Assuming 1.0 = 1.0 K\n",
      "yt : [INFO     ] 2020-03-09 02:01:30,136 Parameters: current_time              = 177097923218402.22\n",
      "yt : [INFO     ] 2020-03-09 02:01:30,138 Parameters: domain_dimensions         = [256 640   1]\n",
      "yt : [INFO     ] 2020-03-09 02:01:30,139 Parameters: domain_left_edge          = [-1.5450e+19 -3.8625e+19 -5.0000e-01]\n",
      "yt : [INFO     ] 2020-03-09 02:01:30,139 Parameters: domain_right_edge         = [1.5450e+19 3.8625e+19 5.0000e-01]\n",
      "yt : [INFO     ] 2020-03-09 02:01:30,140 Parameters: cosmological_simulation   = 0.0\n"
     ]
    },
    {
     "name": "stdout",
     "output_type": "stream",
     "text": [
      "mixing_layer.out1.00094\n"
     ]
    },
    {
     "name": "stderr",
     "output_type": "stream",
     "text": [
      "yt : [WARNING  ] 2020-03-09 02:01:30,163 Assuming 1.0 = 1.0 cm\n",
      "yt : [WARNING  ] 2020-03-09 02:01:30,164 Assuming 1.0 = 1.0 s\n",
      "yt : [WARNING  ] 2020-03-09 02:01:30,165 Assuming 1.0 = 1.0 g\n",
      "yt : [WARNING  ] 2020-03-09 02:01:30,166 Assuming 1.0 = 1.0 K\n",
      "yt : [INFO     ] 2020-03-09 02:01:30,179 Parameters: current_time              = 178981423576137.88\n",
      "yt : [INFO     ] 2020-03-09 02:01:30,180 Parameters: domain_dimensions         = [256 640   1]\n",
      "yt : [INFO     ] 2020-03-09 02:01:30,180 Parameters: domain_left_edge          = [-1.5450e+19 -3.8625e+19 -5.0000e-01]\n",
      "yt : [INFO     ] 2020-03-09 02:01:30,181 Parameters: domain_right_edge         = [1.5450e+19 3.8625e+19 5.0000e-01]\n",
      "yt : [INFO     ] 2020-03-09 02:01:30,182 Parameters: cosmological_simulation   = 0.0\n"
     ]
    },
    {
     "name": "stdout",
     "output_type": "stream",
     "text": [
      "mixing_layer.out1.00095\n"
     ]
    },
    {
     "name": "stderr",
     "output_type": "stream",
     "text": [
      "yt : [WARNING  ] 2020-03-09 02:01:30,207 Assuming 1.0 = 1.0 cm\n",
      "yt : [WARNING  ] 2020-03-09 02:01:30,208 Assuming 1.0 = 1.0 s\n",
      "yt : [WARNING  ] 2020-03-09 02:01:30,209 Assuming 1.0 = 1.0 g\n",
      "yt : [WARNING  ] 2020-03-09 02:01:30,210 Assuming 1.0 = 1.0 K\n",
      "yt : [INFO     ] 2020-03-09 02:01:30,221 Parameters: current_time              = 180866832275773.72\n",
      "yt : [INFO     ] 2020-03-09 02:01:30,222 Parameters: domain_dimensions         = [256 640   1]\n",
      "yt : [INFO     ] 2020-03-09 02:01:30,223 Parameters: domain_left_edge          = [-1.5450e+19 -3.8625e+19 -5.0000e-01]\n",
      "yt : [INFO     ] 2020-03-09 02:01:30,224 Parameters: domain_right_edge         = [1.5450e+19 3.8625e+19 5.0000e-01]\n",
      "yt : [INFO     ] 2020-03-09 02:01:30,225 Parameters: cosmological_simulation   = 0.0\n"
     ]
    },
    {
     "name": "stdout",
     "output_type": "stream",
     "text": [
      "mixing_layer.out1.00096\n"
     ]
    },
    {
     "name": "stderr",
     "output_type": "stream",
     "text": [
      "yt : [WARNING  ] 2020-03-09 02:01:30,247 Assuming 1.0 = 1.0 cm\n",
      "yt : [WARNING  ] 2020-03-09 02:01:30,249 Assuming 1.0 = 1.0 s\n",
      "yt : [WARNING  ] 2020-03-09 02:01:30,249 Assuming 1.0 = 1.0 g\n",
      "yt : [WARNING  ] 2020-03-09 02:01:30,250 Assuming 1.0 = 1.0 K\n",
      "yt : [INFO     ] 2020-03-09 02:01:30,268 Parameters: current_time              = 182748643190018.53\n",
      "yt : [INFO     ] 2020-03-09 02:01:30,269 Parameters: domain_dimensions         = [256 640   1]\n",
      "yt : [INFO     ] 2020-03-09 02:01:30,270 Parameters: domain_left_edge          = [-1.5450e+19 -3.8625e+19 -5.0000e-01]\n",
      "yt : [INFO     ] 2020-03-09 02:01:30,271 Parameters: domain_right_edge         = [1.5450e+19 3.8625e+19 5.0000e-01]\n",
      "yt : [INFO     ] 2020-03-09 02:01:30,272 Parameters: cosmological_simulation   = 0.0\n"
     ]
    },
    {
     "name": "stdout",
     "output_type": "stream",
     "text": [
      "mixing_layer.out1.00097\n"
     ]
    },
    {
     "name": "stderr",
     "output_type": "stream",
     "text": [
      "yt : [WARNING  ] 2020-03-09 02:01:30,304 Assuming 1.0 = 1.0 cm\n",
      "yt : [WARNING  ] 2020-03-09 02:01:30,306 Assuming 1.0 = 1.0 s\n",
      "yt : [WARNING  ] 2020-03-09 02:01:30,307 Assuming 1.0 = 1.0 g\n",
      "yt : [WARNING  ] 2020-03-09 02:01:30,308 Assuming 1.0 = 1.0 K\n",
      "yt : [INFO     ] 2020-03-09 02:01:30,325 Parameters: current_time              = 184634295894839.44\n",
      "yt : [INFO     ] 2020-03-09 02:01:30,326 Parameters: domain_dimensions         = [256 640   1]\n",
      "yt : [INFO     ] 2020-03-09 02:01:30,327 Parameters: domain_left_edge          = [-1.5450e+19 -3.8625e+19 -5.0000e-01]\n",
      "yt : [INFO     ] 2020-03-09 02:01:30,327 Parameters: domain_right_edge         = [1.5450e+19 3.8625e+19 5.0000e-01]\n",
      "yt : [INFO     ] 2020-03-09 02:01:30,328 Parameters: cosmological_simulation   = 0.0\n"
     ]
    },
    {
     "name": "stdout",
     "output_type": "stream",
     "text": [
      "mixing_layer.out1.00098\n"
     ]
    },
    {
     "name": "stderr",
     "output_type": "stream",
     "text": [
      "yt : [WARNING  ] 2020-03-09 02:01:30,361 Assuming 1.0 = 1.0 cm\n",
      "yt : [WARNING  ] 2020-03-09 02:01:30,362 Assuming 1.0 = 1.0 s\n",
      "yt : [WARNING  ] 2020-03-09 02:01:30,363 Assuming 1.0 = 1.0 g\n",
      "yt : [WARNING  ] 2020-03-09 02:01:30,364 Assuming 1.0 = 1.0 K\n",
      "yt : [INFO     ] 2020-03-09 02:01:30,377 Parameters: current_time              = 186517196596426.12\n",
      "yt : [INFO     ] 2020-03-09 02:01:30,378 Parameters: domain_dimensions         = [256 640   1]\n",
      "yt : [INFO     ] 2020-03-09 02:01:30,379 Parameters: domain_left_edge          = [-1.5450e+19 -3.8625e+19 -5.0000e-01]\n",
      "yt : [INFO     ] 2020-03-09 02:01:30,380 Parameters: domain_right_edge         = [1.5450e+19 3.8625e+19 5.0000e-01]\n",
      "yt : [INFO     ] 2020-03-09 02:01:30,381 Parameters: cosmological_simulation   = 0.0\n"
     ]
    },
    {
     "name": "stdout",
     "output_type": "stream",
     "text": [
      "mixing_layer.out1.00099\n"
     ]
    },
    {
     "name": "stderr",
     "output_type": "stream",
     "text": [
      "yt : [WARNING  ] 2020-03-09 02:01:30,406 Assuming 1.0 = 1.0 cm\n",
      "yt : [WARNING  ] 2020-03-09 02:01:30,408 Assuming 1.0 = 1.0 s\n",
      "yt : [WARNING  ] 2020-03-09 02:01:30,409 Assuming 1.0 = 1.0 g\n",
      "yt : [WARNING  ] 2020-03-09 02:01:30,410 Assuming 1.0 = 1.0 K\n",
      "yt : [INFO     ] 2020-03-09 02:01:30,421 Parameters: current_time              = 188401893686074.7\n",
      "yt : [INFO     ] 2020-03-09 02:01:30,422 Parameters: domain_dimensions         = [256 640   1]\n",
      "yt : [INFO     ] 2020-03-09 02:01:30,423 Parameters: domain_left_edge          = [-1.5450e+19 -3.8625e+19 -5.0000e-01]\n",
      "yt : [INFO     ] 2020-03-09 02:01:30,424 Parameters: domain_right_edge         = [1.5450e+19 3.8625e+19 5.0000e-01]\n",
      "yt : [INFO     ] 2020-03-09 02:01:30,425 Parameters: cosmological_simulation   = 0.0\n"
     ]
    },
    {
     "name": "stdout",
     "output_type": "stream",
     "text": [
      "mixing_layer.out1.00100\n"
     ]
    },
    {
     "name": "stderr",
     "output_type": "stream",
     "text": [
      "yt : [WARNING  ] 2020-03-09 02:01:30,459 Assuming 1.0 = 1.0 cm\n",
      "yt : [WARNING  ] 2020-03-09 02:01:30,461 Assuming 1.0 = 1.0 s\n",
      "yt : [WARNING  ] 2020-03-09 02:01:30,462 Assuming 1.0 = 1.0 g\n",
      "yt : [WARNING  ] 2020-03-09 02:01:30,463 Assuming 1.0 = 1.0 K\n",
      "yt : [INFO     ] 2020-03-09 02:01:30,479 Parameters: current_time              = 190286527844715.47\n",
      "yt : [INFO     ] 2020-03-09 02:01:30,480 Parameters: domain_dimensions         = [256 640   1]\n",
      "yt : [INFO     ] 2020-03-09 02:01:30,481 Parameters: domain_left_edge          = [-1.5450e+19 -3.8625e+19 -5.0000e-01]\n",
      "yt : [INFO     ] 2020-03-09 02:01:30,482 Parameters: domain_right_edge         = [1.5450e+19 3.8625e+19 5.0000e-01]\n",
      "yt : [INFO     ] 2020-03-09 02:01:30,483 Parameters: cosmological_simulation   = 0.0\n"
     ]
    },
    {
     "name": "stdout",
     "output_type": "stream",
     "text": [
      "mixing_layer.out1.00101\n"
     ]
    },
    {
     "name": "stderr",
     "output_type": "stream",
     "text": [
      "yt : [WARNING  ] 2020-03-09 02:01:30,511 Assuming 1.0 = 1.0 cm\n",
      "yt : [WARNING  ] 2020-03-09 02:01:30,512 Assuming 1.0 = 1.0 s\n",
      "yt : [WARNING  ] 2020-03-09 02:01:30,513 Assuming 1.0 = 1.0 g\n",
      "yt : [WARNING  ] 2020-03-09 02:01:30,515 Assuming 1.0 = 1.0 K\n",
      "yt : [INFO     ] 2020-03-09 02:01:30,528 Parameters: current_time              = 192168755596894.72\n",
      "yt : [INFO     ] 2020-03-09 02:01:30,529 Parameters: domain_dimensions         = [256 640   1]\n",
      "yt : [INFO     ] 2020-03-09 02:01:30,530 Parameters: domain_left_edge          = [-1.5450e+19 -3.8625e+19 -5.0000e-01]\n",
      "yt : [INFO     ] 2020-03-09 02:01:30,531 Parameters: domain_right_edge         = [1.5450e+19 3.8625e+19 5.0000e-01]\n",
      "yt : [INFO     ] 2020-03-09 02:01:30,533 Parameters: cosmological_simulation   = 0.0\n"
     ]
    },
    {
     "name": "stdout",
     "output_type": "stream",
     "text": [
      "mixing_layer.out1.00102\n"
     ]
    },
    {
     "name": "stderr",
     "output_type": "stream",
     "text": [
      "yt : [WARNING  ] 2020-03-09 02:01:30,562 Assuming 1.0 = 1.0 cm\n",
      "yt : [WARNING  ] 2020-03-09 02:01:30,563 Assuming 1.0 = 1.0 s\n",
      "yt : [WARNING  ] 2020-03-09 02:01:30,564 Assuming 1.0 = 1.0 g\n",
      "yt : [WARNING  ] 2020-03-09 02:01:30,565 Assuming 1.0 = 1.0 K\n",
      "yt : [INFO     ] 2020-03-09 02:01:30,576 Parameters: current_time              = 194053678511422.94\n",
      "yt : [INFO     ] 2020-03-09 02:01:30,577 Parameters: domain_dimensions         = [256 640   1]\n",
      "yt : [INFO     ] 2020-03-09 02:01:30,578 Parameters: domain_left_edge          = [-1.5450e+19 -3.8625e+19 -5.0000e-01]\n",
      "yt : [INFO     ] 2020-03-09 02:01:30,579 Parameters: domain_right_edge         = [1.5450e+19 3.8625e+19 5.0000e-01]\n",
      "yt : [INFO     ] 2020-03-09 02:01:30,580 Parameters: cosmological_simulation   = 0.0\n"
     ]
    },
    {
     "name": "stdout",
     "output_type": "stream",
     "text": [
      "mixing_layer.out1.00103\n"
     ]
    },
    {
     "name": "stderr",
     "output_type": "stream",
     "text": [
      "yt : [WARNING  ] 2020-03-09 02:01:30,607 Assuming 1.0 = 1.0 cm\n",
      "yt : [WARNING  ] 2020-03-09 02:01:30,609 Assuming 1.0 = 1.0 s\n",
      "yt : [WARNING  ] 2020-03-09 02:01:30,610 Assuming 1.0 = 1.0 g\n",
      "yt : [WARNING  ] 2020-03-09 02:01:30,610 Assuming 1.0 = 1.0 K\n",
      "yt : [INFO     ] 2020-03-09 02:01:30,623 Parameters: current_time              = 195936563515437.1\n",
      "yt : [INFO     ] 2020-03-09 02:01:30,624 Parameters: domain_dimensions         = [256 640   1]\n",
      "yt : [INFO     ] 2020-03-09 02:01:30,624 Parameters: domain_left_edge          = [-1.5450e+19 -3.8625e+19 -5.0000e-01]\n",
      "yt : [INFO     ] 2020-03-09 02:01:30,625 Parameters: domain_right_edge         = [1.5450e+19 3.8625e+19 5.0000e-01]\n",
      "yt : [INFO     ] 2020-03-09 02:01:30,626 Parameters: cosmological_simulation   = 0.0\n"
     ]
    },
    {
     "name": "stdout",
     "output_type": "stream",
     "text": [
      "mixing_layer.out1.00104\n"
     ]
    },
    {
     "name": "stderr",
     "output_type": "stream",
     "text": [
      "yt : [WARNING  ] 2020-03-09 02:01:30,654 Assuming 1.0 = 1.0 cm\n",
      "yt : [WARNING  ] 2020-03-09 02:01:30,655 Assuming 1.0 = 1.0 s\n",
      "yt : [WARNING  ] 2020-03-09 02:01:30,656 Assuming 1.0 = 1.0 g\n",
      "yt : [WARNING  ] 2020-03-09 02:01:30,657 Assuming 1.0 = 1.0 K\n",
      "yt : [INFO     ] 2020-03-09 02:01:30,669 Parameters: current_time              = 197821432811630.8\n",
      "yt : [INFO     ] 2020-03-09 02:01:30,670 Parameters: domain_dimensions         = [256 640   1]\n",
      "yt : [INFO     ] 2020-03-09 02:01:30,671 Parameters: domain_left_edge          = [-1.5450e+19 -3.8625e+19 -5.0000e-01]\n",
      "yt : [INFO     ] 2020-03-09 02:01:30,672 Parameters: domain_right_edge         = [1.5450e+19 3.8625e+19 5.0000e-01]\n",
      "yt : [INFO     ] 2020-03-09 02:01:30,672 Parameters: cosmological_simulation   = 0.0\n"
     ]
    },
    {
     "name": "stdout",
     "output_type": "stream",
     "text": [
      "mixing_layer.out1.00105\n"
     ]
    },
    {
     "name": "stderr",
     "output_type": "stream",
     "text": [
      "yt : [WARNING  ] 2020-03-09 02:01:30,697 Assuming 1.0 = 1.0 cm\n",
      "yt : [WARNING  ] 2020-03-09 02:01:30,698 Assuming 1.0 = 1.0 s\n",
      "yt : [WARNING  ] 2020-03-09 02:01:30,699 Assuming 1.0 = 1.0 g\n",
      "yt : [WARNING  ] 2020-03-09 02:01:30,701 Assuming 1.0 = 1.0 K\n",
      "yt : [INFO     ] 2020-03-09 02:01:30,712 Parameters: current_time              = 199704026285563.66\n",
      "yt : [INFO     ] 2020-03-09 02:01:30,713 Parameters: domain_dimensions         = [256 640   1]\n",
      "yt : [INFO     ] 2020-03-09 02:01:30,713 Parameters: domain_left_edge          = [-1.5450e+19 -3.8625e+19 -5.0000e-01]\n",
      "yt : [INFO     ] 2020-03-09 02:01:30,714 Parameters: domain_right_edge         = [1.5450e+19 3.8625e+19 5.0000e-01]\n",
      "yt : [INFO     ] 2020-03-09 02:01:30,715 Parameters: cosmological_simulation   = 0.0\n"
     ]
    },
    {
     "name": "stdout",
     "output_type": "stream",
     "text": [
      "mixing_layer.out1.00106\n"
     ]
    },
    {
     "name": "stderr",
     "output_type": "stream",
     "text": [
      "yt : [WARNING  ] 2020-03-09 02:01:30,741 Assuming 1.0 = 1.0 cm\n",
      "yt : [WARNING  ] 2020-03-09 02:01:30,742 Assuming 1.0 = 1.0 s\n",
      "yt : [WARNING  ] 2020-03-09 02:01:30,743 Assuming 1.0 = 1.0 g\n",
      "yt : [WARNING  ] 2020-03-09 02:01:30,743 Assuming 1.0 = 1.0 K\n",
      "yt : [INFO     ] 2020-03-09 02:01:30,755 Parameters: current_time              = 201589281708913.7\n",
      "yt : [INFO     ] 2020-03-09 02:01:30,756 Parameters: domain_dimensions         = [256 640   1]\n",
      "yt : [INFO     ] 2020-03-09 02:01:30,757 Parameters: domain_left_edge          = [-1.5450e+19 -3.8625e+19 -5.0000e-01]\n",
      "yt : [INFO     ] 2020-03-09 02:01:30,758 Parameters: domain_right_edge         = [1.5450e+19 3.8625e+19 5.0000e-01]\n",
      "yt : [INFO     ] 2020-03-09 02:01:30,759 Parameters: cosmological_simulation   = 0.0\n"
     ]
    },
    {
     "name": "stdout",
     "output_type": "stream",
     "text": [
      "mixing_layer.out1.00107\n"
     ]
    },
    {
     "name": "stderr",
     "output_type": "stream",
     "text": [
      "yt : [WARNING  ] 2020-03-09 02:01:30,791 Assuming 1.0 = 1.0 cm\n",
      "yt : [WARNING  ] 2020-03-09 02:01:30,792 Assuming 1.0 = 1.0 s\n",
      "yt : [WARNING  ] 2020-03-09 02:01:30,793 Assuming 1.0 = 1.0 g\n",
      "yt : [WARNING  ] 2020-03-09 02:01:30,795 Assuming 1.0 = 1.0 K\n",
      "yt : [INFO     ] 2020-03-09 02:01:30,813 Parameters: current_time              = 203472440483274.34\n",
      "yt : [INFO     ] 2020-03-09 02:01:30,814 Parameters: domain_dimensions         = [256 640   1]\n",
      "yt : [INFO     ] 2020-03-09 02:01:30,815 Parameters: domain_left_edge          = [-1.5450e+19 -3.8625e+19 -5.0000e-01]\n",
      "yt : [INFO     ] 2020-03-09 02:01:30,816 Parameters: domain_right_edge         = [1.5450e+19 3.8625e+19 5.0000e-01]\n",
      "yt : [INFO     ] 2020-03-09 02:01:30,819 Parameters: cosmological_simulation   = 0.0\n"
     ]
    },
    {
     "name": "stdout",
     "output_type": "stream",
     "text": [
      "mixing_layer.out1.00108\n"
     ]
    },
    {
     "name": "stderr",
     "output_type": "stream",
     "text": [
      "yt : [WARNING  ] 2020-03-09 02:01:30,849 Assuming 1.0 = 1.0 cm\n",
      "yt : [WARNING  ] 2020-03-09 02:01:30,850 Assuming 1.0 = 1.0 s\n",
      "yt : [WARNING  ] 2020-03-09 02:01:30,850 Assuming 1.0 = 1.0 g\n",
      "yt : [WARNING  ] 2020-03-09 02:01:30,851 Assuming 1.0 = 1.0 K\n",
      "yt : [INFO     ] 2020-03-09 02:01:30,863 Parameters: current_time              = 205356191851210.1\n",
      "yt : [INFO     ] 2020-03-09 02:01:30,864 Parameters: domain_dimensions         = [256 640   1]\n",
      "yt : [INFO     ] 2020-03-09 02:01:30,864 Parameters: domain_left_edge          = [-1.5450e+19 -3.8625e+19 -5.0000e-01]\n",
      "yt : [INFO     ] 2020-03-09 02:01:30,866 Parameters: domain_right_edge         = [1.5450e+19 3.8625e+19 5.0000e-01]\n",
      "yt : [INFO     ] 2020-03-09 02:01:30,866 Parameters: cosmological_simulation   = 0.0\n"
     ]
    },
    {
     "name": "stdout",
     "output_type": "stream",
     "text": [
      "mixing_layer.out1.00109\n"
     ]
    },
    {
     "name": "stderr",
     "output_type": "stream",
     "text": [
      "yt : [WARNING  ] 2020-03-09 02:01:30,894 Assuming 1.0 = 1.0 cm\n",
      "yt : [WARNING  ] 2020-03-09 02:01:30,895 Assuming 1.0 = 1.0 s\n",
      "yt : [WARNING  ] 2020-03-09 02:01:30,897 Assuming 1.0 = 1.0 g\n",
      "yt : [WARNING  ] 2020-03-09 02:01:30,898 Assuming 1.0 = 1.0 K\n",
      "yt : [INFO     ] 2020-03-09 02:01:30,910 Parameters: current_time              = 207241823722895.16\n",
      "yt : [INFO     ] 2020-03-09 02:01:30,910 Parameters: domain_dimensions         = [256 640   1]\n",
      "yt : [INFO     ] 2020-03-09 02:01:30,911 Parameters: domain_left_edge          = [-1.5450e+19 -3.8625e+19 -5.0000e-01]\n",
      "yt : [INFO     ] 2020-03-09 02:01:30,912 Parameters: domain_right_edge         = [1.5450e+19 3.8625e+19 5.0000e-01]\n",
      "yt : [INFO     ] 2020-03-09 02:01:30,913 Parameters: cosmological_simulation   = 0.0\n"
     ]
    },
    {
     "name": "stdout",
     "output_type": "stream",
     "text": [
      "mixing_layer.out1.00110\n"
     ]
    },
    {
     "name": "stderr",
     "output_type": "stream",
     "text": [
      "yt : [WARNING  ] 2020-03-09 02:01:30,940 Assuming 1.0 = 1.0 cm\n",
      "yt : [WARNING  ] 2020-03-09 02:01:30,941 Assuming 1.0 = 1.0 s\n",
      "yt : [WARNING  ] 2020-03-09 02:01:30,942 Assuming 1.0 = 1.0 g\n",
      "yt : [WARNING  ] 2020-03-09 02:01:30,943 Assuming 1.0 = 1.0 K\n",
      "yt : [INFO     ] 2020-03-09 02:01:30,956 Parameters: current_time              = 209126016369902.34\n",
      "yt : [INFO     ] 2020-03-09 02:01:30,956 Parameters: domain_dimensions         = [256 640   1]\n",
      "yt : [INFO     ] 2020-03-09 02:01:30,957 Parameters: domain_left_edge          = [-1.5450e+19 -3.8625e+19 -5.0000e-01]\n",
      "yt : [INFO     ] 2020-03-09 02:01:30,958 Parameters: domain_right_edge         = [1.5450e+19 3.8625e+19 5.0000e-01]\n",
      "yt : [INFO     ] 2020-03-09 02:01:30,959 Parameters: cosmological_simulation   = 0.0\n"
     ]
    },
    {
     "name": "stdout",
     "output_type": "stream",
     "text": [
      "mixing_layer.out1.00111\n"
     ]
    },
    {
     "name": "stderr",
     "output_type": "stream",
     "text": [
      "yt : [WARNING  ] 2020-03-09 02:01:30,987 Assuming 1.0 = 1.0 cm\n",
      "yt : [WARNING  ] 2020-03-09 02:01:30,988 Assuming 1.0 = 1.0 s\n",
      "yt : [WARNING  ] 2020-03-09 02:01:30,989 Assuming 1.0 = 1.0 g\n",
      "yt : [WARNING  ] 2020-03-09 02:01:30,990 Assuming 1.0 = 1.0 K\n",
      "yt : [INFO     ] 2020-03-09 02:01:31,002 Parameters: current_time              = 211009465019926.56\n",
      "yt : [INFO     ] 2020-03-09 02:01:31,002 Parameters: domain_dimensions         = [256 640   1]\n",
      "yt : [INFO     ] 2020-03-09 02:01:31,003 Parameters: domain_left_edge          = [-1.5450e+19 -3.8625e+19 -5.0000e-01]\n",
      "yt : [INFO     ] 2020-03-09 02:01:31,004 Parameters: domain_right_edge         = [1.5450e+19 3.8625e+19 5.0000e-01]\n",
      "yt : [INFO     ] 2020-03-09 02:01:31,005 Parameters: cosmological_simulation   = 0.0\n"
     ]
    },
    {
     "name": "stdout",
     "output_type": "stream",
     "text": [
      "mixing_layer.out1.00112\n"
     ]
    },
    {
     "name": "stderr",
     "output_type": "stream",
     "text": [
      "yt : [WARNING  ] 2020-03-09 02:01:31,033 Assuming 1.0 = 1.0 cm\n",
      "yt : [WARNING  ] 2020-03-09 02:01:31,034 Assuming 1.0 = 1.0 s\n",
      "yt : [WARNING  ] 2020-03-09 02:01:31,034 Assuming 1.0 = 1.0 g\n",
      "yt : [WARNING  ] 2020-03-09 02:01:31,036 Assuming 1.0 = 1.0 K\n",
      "yt : [INFO     ] 2020-03-09 02:01:31,047 Parameters: current_time              = 212892679131638.0\n",
      "yt : [INFO     ] 2020-03-09 02:01:31,048 Parameters: domain_dimensions         = [256 640   1]\n",
      "yt : [INFO     ] 2020-03-09 02:01:31,049 Parameters: domain_left_edge          = [-1.5450e+19 -3.8625e+19 -5.0000e-01]\n",
      "yt : [INFO     ] 2020-03-09 02:01:31,050 Parameters: domain_right_edge         = [1.5450e+19 3.8625e+19 5.0000e-01]\n",
      "yt : [INFO     ] 2020-03-09 02:01:31,051 Parameters: cosmological_simulation   = 0.0\n"
     ]
    },
    {
     "name": "stdout",
     "output_type": "stream",
     "text": [
      "mixing_layer.out1.00113\n"
     ]
    },
    {
     "name": "stderr",
     "output_type": "stream",
     "text": [
      "yt : [WARNING  ] 2020-03-09 02:01:31,077 Assuming 1.0 = 1.0 cm\n",
      "yt : [WARNING  ] 2020-03-09 02:01:31,079 Assuming 1.0 = 1.0 s\n",
      "yt : [WARNING  ] 2020-03-09 02:01:31,080 Assuming 1.0 = 1.0 g\n",
      "yt : [WARNING  ] 2020-03-09 02:01:31,081 Assuming 1.0 = 1.0 K\n",
      "yt : [INFO     ] 2020-03-09 02:01:31,093 Parameters: current_time              = 214778470154826.6\n",
      "yt : [INFO     ] 2020-03-09 02:01:31,094 Parameters: domain_dimensions         = [256 640   1]\n",
      "yt : [INFO     ] 2020-03-09 02:01:31,095 Parameters: domain_left_edge          = [-1.5450e+19 -3.8625e+19 -5.0000e-01]\n",
      "yt : [INFO     ] 2020-03-09 02:01:31,096 Parameters: domain_right_edge         = [1.5450e+19 3.8625e+19 5.0000e-01]\n",
      "yt : [INFO     ] 2020-03-09 02:01:31,097 Parameters: cosmological_simulation   = 0.0\n"
     ]
    },
    {
     "name": "stdout",
     "output_type": "stream",
     "text": [
      "mixing_layer.out1.00114\n"
     ]
    },
    {
     "name": "stderr",
     "output_type": "stream",
     "text": [
      "yt : [WARNING  ] 2020-03-09 02:01:31,123 Assuming 1.0 = 1.0 cm\n",
      "yt : [WARNING  ] 2020-03-09 02:01:31,124 Assuming 1.0 = 1.0 s\n",
      "yt : [WARNING  ] 2020-03-09 02:01:31,125 Assuming 1.0 = 1.0 g\n",
      "yt : [WARNING  ] 2020-03-09 02:01:31,127 Assuming 1.0 = 1.0 K\n",
      "yt : [INFO     ] 2020-03-09 02:01:31,138 Parameters: current_time              = 216662298121129.84\n",
      "yt : [INFO     ] 2020-03-09 02:01:31,139 Parameters: domain_dimensions         = [256 640   1]\n",
      "yt : [INFO     ] 2020-03-09 02:01:31,140 Parameters: domain_left_edge          = [-1.5450e+19 -3.8625e+19 -5.0000e-01]\n",
      "yt : [INFO     ] 2020-03-09 02:01:31,141 Parameters: domain_right_edge         = [1.5450e+19 3.8625e+19 5.0000e-01]\n",
      "yt : [INFO     ] 2020-03-09 02:01:31,142 Parameters: cosmological_simulation   = 0.0\n"
     ]
    },
    {
     "name": "stdout",
     "output_type": "stream",
     "text": [
      "mixing_layer.out1.00115\n"
     ]
    },
    {
     "name": "stderr",
     "output_type": "stream",
     "text": [
      "yt : [WARNING  ] 2020-03-09 02:01:31,168 Assuming 1.0 = 1.0 cm\n",
      "yt : [WARNING  ] 2020-03-09 02:01:31,168 Assuming 1.0 = 1.0 s\n",
      "yt : [WARNING  ] 2020-03-09 02:01:31,169 Assuming 1.0 = 1.0 g\n",
      "yt : [WARNING  ] 2020-03-09 02:01:31,169 Assuming 1.0 = 1.0 K\n",
      "yt : [INFO     ] 2020-03-09 02:01:31,182 Parameters: current_time              = 218546365292603.3\n",
      "yt : [INFO     ] 2020-03-09 02:01:31,183 Parameters: domain_dimensions         = [256 640   1]\n",
      "yt : [INFO     ] 2020-03-09 02:01:31,184 Parameters: domain_left_edge          = [-1.5450e+19 -3.8625e+19 -5.0000e-01]\n",
      "yt : [INFO     ] 2020-03-09 02:01:31,185 Parameters: domain_right_edge         = [1.5450e+19 3.8625e+19 5.0000e-01]\n",
      "yt : [INFO     ] 2020-03-09 02:01:31,186 Parameters: cosmological_simulation   = 0.0\n"
     ]
    },
    {
     "name": "stdout",
     "output_type": "stream",
     "text": [
      "mixing_layer.out1.00116\n"
     ]
    },
    {
     "name": "stderr",
     "output_type": "stream",
     "text": [
      "yt : [WARNING  ] 2020-03-09 02:01:31,214 Assuming 1.0 = 1.0 cm\n",
      "yt : [WARNING  ] 2020-03-09 02:01:31,215 Assuming 1.0 = 1.0 s\n",
      "yt : [WARNING  ] 2020-03-09 02:01:31,217 Assuming 1.0 = 1.0 g\n",
      "yt : [WARNING  ] 2020-03-09 02:01:31,218 Assuming 1.0 = 1.0 K\n",
      "yt : [INFO     ] 2020-03-09 02:01:31,232 Parameters: current_time              = 220430852983794.47\n",
      "yt : [INFO     ] 2020-03-09 02:01:31,233 Parameters: domain_dimensions         = [256 640   1]\n",
      "yt : [INFO     ] 2020-03-09 02:01:31,234 Parameters: domain_left_edge          = [-1.5450e+19 -3.8625e+19 -5.0000e-01]\n",
      "yt : [INFO     ] 2020-03-09 02:01:31,235 Parameters: domain_right_edge         = [1.5450e+19 3.8625e+19 5.0000e-01]\n",
      "yt : [INFO     ] 2020-03-09 02:01:31,236 Parameters: cosmological_simulation   = 0.0\n"
     ]
    },
    {
     "name": "stdout",
     "output_type": "stream",
     "text": [
      "mixing_layer.out1.00117\n"
     ]
    },
    {
     "name": "stderr",
     "output_type": "stream",
     "text": [
      "yt : [WARNING  ] 2020-03-09 02:01:31,264 Assuming 1.0 = 1.0 cm\n",
      "yt : [WARNING  ] 2020-03-09 02:01:31,265 Assuming 1.0 = 1.0 s\n",
      "yt : [WARNING  ] 2020-03-09 02:01:31,267 Assuming 1.0 = 1.0 g\n",
      "yt : [WARNING  ] 2020-03-09 02:01:31,268 Assuming 1.0 = 1.0 K\n",
      "yt : [INFO     ] 2020-03-09 02:01:31,279 Parameters: current_time              = 222312718665734.78\n",
      "yt : [INFO     ] 2020-03-09 02:01:31,280 Parameters: domain_dimensions         = [256 640   1]\n",
      "yt : [INFO     ] 2020-03-09 02:01:31,280 Parameters: domain_left_edge          = [-1.5450e+19 -3.8625e+19 -5.0000e-01]\n",
      "yt : [INFO     ] 2020-03-09 02:01:31,281 Parameters: domain_right_edge         = [1.5450e+19 3.8625e+19 5.0000e-01]\n",
      "yt : [INFO     ] 2020-03-09 02:01:31,282 Parameters: cosmological_simulation   = 0.0\n"
     ]
    },
    {
     "name": "stdout",
     "output_type": "stream",
     "text": [
      "mixing_layer.out1.00118\n"
     ]
    },
    {
     "name": "stderr",
     "output_type": "stream",
     "text": [
      "yt : [WARNING  ] 2020-03-09 02:01:31,311 Assuming 1.0 = 1.0 cm\n",
      "yt : [WARNING  ] 2020-03-09 02:01:31,321 Assuming 1.0 = 1.0 s\n",
      "yt : [WARNING  ] 2020-03-09 02:01:31,322 Assuming 1.0 = 1.0 g\n",
      "yt : [WARNING  ] 2020-03-09 02:01:31,323 Assuming 1.0 = 1.0 K\n",
      "yt : [INFO     ] 2020-03-09 02:01:31,335 Parameters: current_time              = 224196987226335.84\n",
      "yt : [INFO     ] 2020-03-09 02:01:31,335 Parameters: domain_dimensions         = [256 640   1]\n",
      "yt : [INFO     ] 2020-03-09 02:01:31,336 Parameters: domain_left_edge          = [-1.5450e+19 -3.8625e+19 -5.0000e-01]\n",
      "yt : [INFO     ] 2020-03-09 02:01:31,339 Parameters: domain_right_edge         = [1.5450e+19 3.8625e+19 5.0000e-01]\n",
      "yt : [INFO     ] 2020-03-09 02:01:31,340 Parameters: cosmological_simulation   = 0.0\n"
     ]
    },
    {
     "name": "stdout",
     "output_type": "stream",
     "text": [
      "mixing_layer.out1.00119\n"
     ]
    },
    {
     "name": "stderr",
     "output_type": "stream",
     "text": [
      "yt : [WARNING  ] 2020-03-09 02:01:31,367 Assuming 1.0 = 1.0 cm\n",
      "yt : [WARNING  ] 2020-03-09 02:01:31,368 Assuming 1.0 = 1.0 s\n",
      "yt : [WARNING  ] 2020-03-09 02:01:31,369 Assuming 1.0 = 1.0 g\n",
      "yt : [WARNING  ] 2020-03-09 02:01:31,369 Assuming 1.0 = 1.0 K\n",
      "yt : [INFO     ] 2020-03-09 02:01:31,385 Parameters: current_time              = 226082584231398.84\n",
      "yt : [INFO     ] 2020-03-09 02:01:31,386 Parameters: domain_dimensions         = [256 640   1]\n",
      "yt : [INFO     ] 2020-03-09 02:01:31,386 Parameters: domain_left_edge          = [-1.5450e+19 -3.8625e+19 -5.0000e-01]\n",
      "yt : [INFO     ] 2020-03-09 02:01:31,387 Parameters: domain_right_edge         = [1.5450e+19 3.8625e+19 5.0000e-01]\n",
      "yt : [INFO     ] 2020-03-09 02:01:31,388 Parameters: cosmological_simulation   = 0.0\n"
     ]
    },
    {
     "name": "stdout",
     "output_type": "stream",
     "text": [
      "mixing_layer.out1.00120\n"
     ]
    },
    {
     "name": "stderr",
     "output_type": "stream",
     "text": [
      "yt : [WARNING  ] 2020-03-09 02:01:31,417 Assuming 1.0 = 1.0 cm\n",
      "yt : [WARNING  ] 2020-03-09 02:01:31,418 Assuming 1.0 = 1.0 s\n",
      "yt : [WARNING  ] 2020-03-09 02:01:31,419 Assuming 1.0 = 1.0 g\n",
      "yt : [WARNING  ] 2020-03-09 02:01:31,420 Assuming 1.0 = 1.0 K\n",
      "yt : [INFO     ] 2020-03-09 02:01:31,431 Parameters: current_time              = 227964939736562.62\n",
      "yt : [INFO     ] 2020-03-09 02:01:31,431 Parameters: domain_dimensions         = [256 640   1]\n",
      "yt : [INFO     ] 2020-03-09 02:01:31,432 Parameters: domain_left_edge          = [-1.5450e+19 -3.8625e+19 -5.0000e-01]\n",
      "yt : [INFO     ] 2020-03-09 02:01:31,433 Parameters: domain_right_edge         = [1.5450e+19 3.8625e+19 5.0000e-01]\n",
      "yt : [INFO     ] 2020-03-09 02:01:31,434 Parameters: cosmological_simulation   = 0.0\n"
     ]
    },
    {
     "name": "stdout",
     "output_type": "stream",
     "text": [
      "mixing_layer.out1.00121\n"
     ]
    },
    {
     "name": "stderr",
     "output_type": "stream",
     "text": [
      "yt : [WARNING  ] 2020-03-09 02:01:31,462 Assuming 1.0 = 1.0 cm\n",
      "yt : [WARNING  ] 2020-03-09 02:01:31,463 Assuming 1.0 = 1.0 s\n",
      "yt : [WARNING  ] 2020-03-09 02:01:31,464 Assuming 1.0 = 1.0 g\n",
      "yt : [WARNING  ] 2020-03-09 02:01:31,465 Assuming 1.0 = 1.0 K\n",
      "yt : [INFO     ] 2020-03-09 02:01:31,479 Parameters: current_time              = 229848083667605.97\n",
      "yt : [INFO     ] 2020-03-09 02:01:31,480 Parameters: domain_dimensions         = [256 640   1]\n",
      "yt : [INFO     ] 2020-03-09 02:01:31,480 Parameters: domain_left_edge          = [-1.5450e+19 -3.8625e+19 -5.0000e-01]\n",
      "yt : [INFO     ] 2020-03-09 02:01:31,482 Parameters: domain_right_edge         = [1.5450e+19 3.8625e+19 5.0000e-01]\n",
      "yt : [INFO     ] 2020-03-09 02:01:31,483 Parameters: cosmological_simulation   = 0.0\n"
     ]
    },
    {
     "name": "stdout",
     "output_type": "stream",
     "text": [
      "mixing_layer.out1.00122\n"
     ]
    },
    {
     "name": "stderr",
     "output_type": "stream",
     "text": [
      "yt : [WARNING  ] 2020-03-09 02:01:31,513 Assuming 1.0 = 1.0 cm\n",
      "yt : [WARNING  ] 2020-03-09 02:01:31,514 Assuming 1.0 = 1.0 s\n",
      "yt : [WARNING  ] 2020-03-09 02:01:31,515 Assuming 1.0 = 1.0 g\n",
      "yt : [WARNING  ] 2020-03-09 02:01:31,516 Assuming 1.0 = 1.0 K\n",
      "yt : [INFO     ] 2020-03-09 02:01:31,528 Parameters: current_time              = 231733705371466.1\n",
      "yt : [INFO     ] 2020-03-09 02:01:31,530 Parameters: domain_dimensions         = [256 640   1]\n",
      "yt : [INFO     ] 2020-03-09 02:01:31,531 Parameters: domain_left_edge          = [-1.5450e+19 -3.8625e+19 -5.0000e-01]\n",
      "yt : [INFO     ] 2020-03-09 02:01:31,532 Parameters: domain_right_edge         = [1.5450e+19 3.8625e+19 5.0000e-01]\n",
      "yt : [INFO     ] 2020-03-09 02:01:31,533 Parameters: cosmological_simulation   = 0.0\n"
     ]
    },
    {
     "name": "stdout",
     "output_type": "stream",
     "text": [
      "mixing_layer.out1.00123\n"
     ]
    },
    {
     "name": "stderr",
     "output_type": "stream",
     "text": [
      "yt : [WARNING  ] 2020-03-09 02:01:31,562 Assuming 1.0 = 1.0 cm\n",
      "yt : [WARNING  ] 2020-03-09 02:01:31,564 Assuming 1.0 = 1.0 s\n",
      "yt : [WARNING  ] 2020-03-09 02:01:31,565 Assuming 1.0 = 1.0 g\n",
      "yt : [WARNING  ] 2020-03-09 02:01:31,566 Assuming 1.0 = 1.0 K\n",
      "yt : [INFO     ] 2020-03-09 02:01:31,578 Parameters: current_time              = 233616532708568.72\n",
      "yt : [INFO     ] 2020-03-09 02:01:31,579 Parameters: domain_dimensions         = [256 640   1]\n",
      "yt : [INFO     ] 2020-03-09 02:01:31,580 Parameters: domain_left_edge          = [-1.5450e+19 -3.8625e+19 -5.0000e-01]\n",
      "yt : [INFO     ] 2020-03-09 02:01:31,581 Parameters: domain_right_edge         = [1.5450e+19 3.8625e+19 5.0000e-01]\n",
      "yt : [INFO     ] 2020-03-09 02:01:31,583 Parameters: cosmological_simulation   = 0.0\n"
     ]
    },
    {
     "name": "stdout",
     "output_type": "stream",
     "text": [
      "mixing_layer.out1.00124\n"
     ]
    },
    {
     "name": "stderr",
     "output_type": "stream",
     "text": [
      "yt : [WARNING  ] 2020-03-09 02:01:31,617 Assuming 1.0 = 1.0 cm\n",
      "yt : [WARNING  ] 2020-03-09 02:01:31,619 Assuming 1.0 = 1.0 s\n",
      "yt : [WARNING  ] 2020-03-09 02:01:31,621 Assuming 1.0 = 1.0 g\n",
      "yt : [WARNING  ] 2020-03-09 02:01:31,622 Assuming 1.0 = 1.0 K\n",
      "yt : [INFO     ] 2020-03-09 02:01:31,636 Parameters: current_time              = 235502228496998.2\n",
      "yt : [INFO     ] 2020-03-09 02:01:31,637 Parameters: domain_dimensions         = [256 640   1]\n",
      "yt : [INFO     ] 2020-03-09 02:01:31,638 Parameters: domain_left_edge          = [-1.5450e+19 -3.8625e+19 -5.0000e-01]\n",
      "yt : [INFO     ] 2020-03-09 02:01:31,639 Parameters: domain_right_edge         = [1.5450e+19 3.8625e+19 5.0000e-01]\n",
      "yt : [INFO     ] 2020-03-09 02:01:31,640 Parameters: cosmological_simulation   = 0.0\n"
     ]
    },
    {
     "name": "stdout",
     "output_type": "stream",
     "text": [
      "mixing_layer.out1.00125\n"
     ]
    },
    {
     "name": "stderr",
     "output_type": "stream",
     "text": [
      "yt : [WARNING  ] 2020-03-09 02:01:31,674 Assuming 1.0 = 1.0 cm\n",
      "yt : [WARNING  ] 2020-03-09 02:01:31,675 Assuming 1.0 = 1.0 s\n",
      "yt : [WARNING  ] 2020-03-09 02:01:31,676 Assuming 1.0 = 1.0 g\n",
      "yt : [WARNING  ] 2020-03-09 02:01:31,678 Assuming 1.0 = 1.0 K\n",
      "yt : [INFO     ] 2020-03-09 02:01:31,694 Parameters: current_time              = 237386370615762.62\n",
      "yt : [INFO     ] 2020-03-09 02:01:31,695 Parameters: domain_dimensions         = [256 640   1]\n",
      "yt : [INFO     ] 2020-03-09 02:01:31,696 Parameters: domain_left_edge          = [-1.5450e+19 -3.8625e+19 -5.0000e-01]\n",
      "yt : [INFO     ] 2020-03-09 02:01:31,697 Parameters: domain_right_edge         = [1.5450e+19 3.8625e+19 5.0000e-01]\n",
      "yt : [INFO     ] 2020-03-09 02:01:31,698 Parameters: cosmological_simulation   = 0.0\n"
     ]
    },
    {
     "name": "stdout",
     "output_type": "stream",
     "text": [
      "mixing_layer.out1.00126\n"
     ]
    },
    {
     "name": "stderr",
     "output_type": "stream",
     "text": [
      "yt : [WARNING  ] 2020-03-09 02:01:31,733 Assuming 1.0 = 1.0 cm\n",
      "yt : [WARNING  ] 2020-03-09 02:01:31,735 Assuming 1.0 = 1.0 s\n",
      "yt : [WARNING  ] 2020-03-09 02:01:31,736 Assuming 1.0 = 1.0 g\n",
      "yt : [WARNING  ] 2020-03-09 02:01:31,737 Assuming 1.0 = 1.0 K\n",
      "yt : [INFO     ] 2020-03-09 02:01:31,749 Parameters: current_time              = 239270486097076.03\n",
      "yt : [INFO     ] 2020-03-09 02:01:31,750 Parameters: domain_dimensions         = [256 640   1]\n",
      "yt : [INFO     ] 2020-03-09 02:01:31,751 Parameters: domain_left_edge          = [-1.5450e+19 -3.8625e+19 -5.0000e-01]\n",
      "yt : [INFO     ] 2020-03-09 02:01:31,752 Parameters: domain_right_edge         = [1.5450e+19 3.8625e+19 5.0000e-01]\n",
      "yt : [INFO     ] 2020-03-09 02:01:31,753 Parameters: cosmological_simulation   = 0.0\n"
     ]
    },
    {
     "name": "stdout",
     "output_type": "stream",
     "text": [
      "mixing_layer.out1.00127\n"
     ]
    },
    {
     "name": "stderr",
     "output_type": "stream",
     "text": [
      "yt : [WARNING  ] 2020-03-09 02:01:31,784 Assuming 1.0 = 1.0 cm\n",
      "yt : [WARNING  ] 2020-03-09 02:01:31,785 Assuming 1.0 = 1.0 s\n",
      "yt : [WARNING  ] 2020-03-09 02:01:31,786 Assuming 1.0 = 1.0 g\n",
      "yt : [WARNING  ] 2020-03-09 02:01:31,787 Assuming 1.0 = 1.0 K\n",
      "yt : [INFO     ] 2020-03-09 02:01:31,799 Parameters: current_time              = 241153117566633.22\n",
      "yt : [INFO     ] 2020-03-09 02:01:31,800 Parameters: domain_dimensions         = [256 640   1]\n",
      "yt : [INFO     ] 2020-03-09 02:01:31,801 Parameters: domain_left_edge          = [-1.5450e+19 -3.8625e+19 -5.0000e-01]\n",
      "yt : [INFO     ] 2020-03-09 02:01:31,802 Parameters: domain_right_edge         = [1.5450e+19 3.8625e+19 5.0000e-01]\n",
      "yt : [INFO     ] 2020-03-09 02:01:31,803 Parameters: cosmological_simulation   = 0.0\n"
     ]
    },
    {
     "name": "stdout",
     "output_type": "stream",
     "text": [
      "mixing_layer.out1.00128\n"
     ]
    },
    {
     "name": "stderr",
     "output_type": "stream",
     "text": [
      "yt : [WARNING  ] 2020-03-09 02:01:31,837 Assuming 1.0 = 1.0 cm\n",
      "yt : [WARNING  ] 2020-03-09 02:01:31,839 Assuming 1.0 = 1.0 s\n",
      "yt : [WARNING  ] 2020-03-09 02:01:31,840 Assuming 1.0 = 1.0 g\n",
      "yt : [WARNING  ] 2020-03-09 02:01:31,841 Assuming 1.0 = 1.0 K\n",
      "yt : [INFO     ] 2020-03-09 02:01:31,854 Parameters: current_time              = 243038684016250.97\n",
      "yt : [INFO     ] 2020-03-09 02:01:31,855 Parameters: domain_dimensions         = [256 640   1]\n",
      "yt : [INFO     ] 2020-03-09 02:01:31,856 Parameters: domain_left_edge          = [-1.5450e+19 -3.8625e+19 -5.0000e-01]\n",
      "yt : [INFO     ] 2020-03-09 02:01:31,857 Parameters: domain_right_edge         = [1.5450e+19 3.8625e+19 5.0000e-01]\n",
      "yt : [INFO     ] 2020-03-09 02:01:31,859 Parameters: cosmological_simulation   = 0.0\n"
     ]
    },
    {
     "name": "stdout",
     "output_type": "stream",
     "text": [
      "mixing_layer.out1.00129\n"
     ]
    },
    {
     "name": "stderr",
     "output_type": "stream",
     "text": [
      "yt : [WARNING  ] 2020-03-09 02:01:31,888 Assuming 1.0 = 1.0 cm\n",
      "yt : [WARNING  ] 2020-03-09 02:01:31,889 Assuming 1.0 = 1.0 s\n",
      "yt : [WARNING  ] 2020-03-09 02:01:31,890 Assuming 1.0 = 1.0 g\n",
      "yt : [WARNING  ] 2020-03-09 02:01:31,892 Assuming 1.0 = 1.0 K\n",
      "yt : [INFO     ] 2020-03-09 02:01:31,906 Parameters: current_time              = 244920616474286.22\n",
      "yt : [INFO     ] 2020-03-09 02:01:31,907 Parameters: domain_dimensions         = [256 640   1]\n",
      "yt : [INFO     ] 2020-03-09 02:01:31,907 Parameters: domain_left_edge          = [-1.5450e+19 -3.8625e+19 -5.0000e-01]\n",
      "yt : [INFO     ] 2020-03-09 02:01:31,908 Parameters: domain_right_edge         = [1.5450e+19 3.8625e+19 5.0000e-01]\n",
      "yt : [INFO     ] 2020-03-09 02:01:31,909 Parameters: cosmological_simulation   = 0.0\n"
     ]
    },
    {
     "name": "stdout",
     "output_type": "stream",
     "text": [
      "mixing_layer.out1.00130\n"
     ]
    },
    {
     "name": "stderr",
     "output_type": "stream",
     "text": [
      "yt : [WARNING  ] 2020-03-09 02:01:31,936 Assuming 1.0 = 1.0 cm\n",
      "yt : [WARNING  ] 2020-03-09 02:01:31,938 Assuming 1.0 = 1.0 s\n",
      "yt : [WARNING  ] 2020-03-09 02:01:31,938 Assuming 1.0 = 1.0 g\n",
      "yt : [WARNING  ] 2020-03-09 02:01:31,939 Assuming 1.0 = 1.0 K\n",
      "yt : [INFO     ] 2020-03-09 02:01:31,952 Parameters: current_time              = 246804571790667.34\n",
      "yt : [INFO     ] 2020-03-09 02:01:31,953 Parameters: domain_dimensions         = [256 640   1]\n",
      "yt : [INFO     ] 2020-03-09 02:01:31,954 Parameters: domain_left_edge          = [-1.5450e+19 -3.8625e+19 -5.0000e-01]\n",
      "yt : [INFO     ] 2020-03-09 02:01:31,954 Parameters: domain_right_edge         = [1.5450e+19 3.8625e+19 5.0000e-01]\n",
      "yt : [INFO     ] 2020-03-09 02:01:31,955 Parameters: cosmological_simulation   = 0.0\n"
     ]
    },
    {
     "name": "stdout",
     "output_type": "stream",
     "text": [
      "mixing_layer.out1.00131\n"
     ]
    },
    {
     "name": "stderr",
     "output_type": "stream",
     "text": [
      "yt : [WARNING  ] 2020-03-09 02:01:31,984 Assuming 1.0 = 1.0 cm\n",
      "yt : [WARNING  ] 2020-03-09 02:01:31,985 Assuming 1.0 = 1.0 s\n",
      "yt : [WARNING  ] 2020-03-09 02:01:31,986 Assuming 1.0 = 1.0 g\n",
      "yt : [WARNING  ] 2020-03-09 02:01:31,987 Assuming 1.0 = 1.0 K\n",
      "yt : [INFO     ] 2020-03-09 02:01:31,999 Parameters: current_time              = 248689494720480.38\n",
      "yt : [INFO     ] 2020-03-09 02:01:32,000 Parameters: domain_dimensions         = [256 640   1]\n",
      "yt : [INFO     ] 2020-03-09 02:01:32,001 Parameters: domain_left_edge          = [-1.5450e+19 -3.8625e+19 -5.0000e-01]\n",
      "yt : [INFO     ] 2020-03-09 02:01:32,002 Parameters: domain_right_edge         = [1.5450e+19 3.8625e+19 5.0000e-01]\n",
      "yt : [INFO     ] 2020-03-09 02:01:32,003 Parameters: cosmological_simulation   = 0.0\n"
     ]
    },
    {
     "name": "stdout",
     "output_type": "stream",
     "text": [
      "mixing_layer.out1.00132\n"
     ]
    },
    {
     "name": "stderr",
     "output_type": "stream",
     "text": [
      "yt : [WARNING  ] 2020-03-09 02:01:32,030 Assuming 1.0 = 1.0 cm\n",
      "yt : [WARNING  ] 2020-03-09 02:01:32,031 Assuming 1.0 = 1.0 s\n",
      "yt : [WARNING  ] 2020-03-09 02:01:32,032 Assuming 1.0 = 1.0 g\n",
      "yt : [WARNING  ] 2020-03-09 02:01:32,033 Assuming 1.0 = 1.0 K\n",
      "yt : [INFO     ] 2020-03-09 02:01:32,048 Parameters: current_time              = 250572424378232.8\n",
      "yt : [INFO     ] 2020-03-09 02:01:32,048 Parameters: domain_dimensions         = [256 640   1]\n",
      "yt : [INFO     ] 2020-03-09 02:01:32,049 Parameters: domain_left_edge          = [-1.5450e+19 -3.8625e+19 -5.0000e-01]\n",
      "yt : [INFO     ] 2020-03-09 02:01:32,051 Parameters: domain_right_edge         = [1.5450e+19 3.8625e+19 5.0000e-01]\n",
      "yt : [INFO     ] 2020-03-09 02:01:32,052 Parameters: cosmological_simulation   = 0.0\n"
     ]
    },
    {
     "name": "stdout",
     "output_type": "stream",
     "text": [
      "mixing_layer.out1.00133\n"
     ]
    },
    {
     "name": "stderr",
     "output_type": "stream",
     "text": [
      "yt : [WARNING  ] 2020-03-09 02:01:32,079 Assuming 1.0 = 1.0 cm\n",
      "yt : [WARNING  ] 2020-03-09 02:01:32,081 Assuming 1.0 = 1.0 s\n",
      "yt : [WARNING  ] 2020-03-09 02:01:32,082 Assuming 1.0 = 1.0 g\n",
      "yt : [WARNING  ] 2020-03-09 02:01:32,083 Assuming 1.0 = 1.0 K\n",
      "yt : [INFO     ] 2020-03-09 02:01:32,097 Parameters: current_time              = 252458396660943.4\n",
      "yt : [INFO     ] 2020-03-09 02:01:32,097 Parameters: domain_dimensions         = [256 640   1]\n",
      "yt : [INFO     ] 2020-03-09 02:01:32,098 Parameters: domain_left_edge          = [-1.5450e+19 -3.8625e+19 -5.0000e-01]\n",
      "yt : [INFO     ] 2020-03-09 02:01:32,099 Parameters: domain_right_edge         = [1.5450e+19 3.8625e+19 5.0000e-01]\n",
      "yt : [INFO     ] 2020-03-09 02:01:32,100 Parameters: cosmological_simulation   = 0.0\n"
     ]
    },
    {
     "name": "stdout",
     "output_type": "stream",
     "text": [
      "mixing_layer.out1.00134\n"
     ]
    },
    {
     "name": "stderr",
     "output_type": "stream",
     "text": [
      "yt : [WARNING  ] 2020-03-09 02:01:32,127 Assuming 1.0 = 1.0 cm\n",
      "yt : [WARNING  ] 2020-03-09 02:01:32,128 Assuming 1.0 = 1.0 s\n",
      "yt : [WARNING  ] 2020-03-09 02:01:32,128 Assuming 1.0 = 1.0 g\n",
      "yt : [WARNING  ] 2020-03-09 02:01:32,129 Assuming 1.0 = 1.0 K\n",
      "yt : [INFO     ] 2020-03-09 02:01:32,140 Parameters: current_time              = 254342743127925.94\n",
      "yt : [INFO     ] 2020-03-09 02:01:32,141 Parameters: domain_dimensions         = [256 640   1]\n",
      "yt : [INFO     ] 2020-03-09 02:01:32,142 Parameters: domain_left_edge          = [-1.5450e+19 -3.8625e+19 -5.0000e-01]\n",
      "yt : [INFO     ] 2020-03-09 02:01:32,144 Parameters: domain_right_edge         = [1.5450e+19 3.8625e+19 5.0000e-01]\n",
      "yt : [INFO     ] 2020-03-09 02:01:32,145 Parameters: cosmological_simulation   = 0.0\n"
     ]
    },
    {
     "name": "stdout",
     "output_type": "stream",
     "text": [
      "mixing_layer.out1.00135\n"
     ]
    },
    {
     "name": "stderr",
     "output_type": "stream",
     "text": [
      "yt : [WARNING  ] 2020-03-09 02:01:32,172 Assuming 1.0 = 1.0 cm\n",
      "yt : [WARNING  ] 2020-03-09 02:01:32,173 Assuming 1.0 = 1.0 s\n",
      "yt : [WARNING  ] 2020-03-09 02:01:32,174 Assuming 1.0 = 1.0 g\n",
      "yt : [WARNING  ] 2020-03-09 02:01:32,175 Assuming 1.0 = 1.0 K\n",
      "yt : [INFO     ] 2020-03-09 02:01:32,187 Parameters: current_time              = 256226407872638.34\n",
      "yt : [INFO     ] 2020-03-09 02:01:32,188 Parameters: domain_dimensions         = [256 640   1]\n",
      "yt : [INFO     ] 2020-03-09 02:01:32,189 Parameters: domain_left_edge          = [-1.5450e+19 -3.8625e+19 -5.0000e-01]\n",
      "yt : [INFO     ] 2020-03-09 02:01:32,191 Parameters: domain_right_edge         = [1.5450e+19 3.8625e+19 5.0000e-01]\n",
      "yt : [INFO     ] 2020-03-09 02:01:32,192 Parameters: cosmological_simulation   = 0.0\n"
     ]
    },
    {
     "name": "stdout",
     "output_type": "stream",
     "text": [
      "mixing_layer.out1.00136\n"
     ]
    },
    {
     "name": "stderr",
     "output_type": "stream",
     "text": [
      "yt : [WARNING  ] 2020-03-09 02:01:32,221 Assuming 1.0 = 1.0 cm\n",
      "yt : [WARNING  ] 2020-03-09 02:01:32,222 Assuming 1.0 = 1.0 s\n",
      "yt : [WARNING  ] 2020-03-09 02:01:32,223 Assuming 1.0 = 1.0 g\n",
      "yt : [WARNING  ] 2020-03-09 02:01:32,224 Assuming 1.0 = 1.0 K\n",
      "yt : [INFO     ] 2020-03-09 02:01:32,236 Parameters: current_time              = 258110049973671.22\n",
      "yt : [INFO     ] 2020-03-09 02:01:32,237 Parameters: domain_dimensions         = [256 640   1]\n",
      "yt : [INFO     ] 2020-03-09 02:01:32,238 Parameters: domain_left_edge          = [-1.5450e+19 -3.8625e+19 -5.0000e-01]\n",
      "yt : [INFO     ] 2020-03-09 02:01:32,239 Parameters: domain_right_edge         = [1.5450e+19 3.8625e+19 5.0000e-01]\n",
      "yt : [INFO     ] 2020-03-09 02:01:32,240 Parameters: cosmological_simulation   = 0.0\n"
     ]
    },
    {
     "name": "stdout",
     "output_type": "stream",
     "text": [
      "mixing_layer.out1.00137\n"
     ]
    },
    {
     "name": "stderr",
     "output_type": "stream",
     "text": [
      "yt : [WARNING  ] 2020-03-09 02:01:32,270 Assuming 1.0 = 1.0 cm\n",
      "yt : [WARNING  ] 2020-03-09 02:01:32,271 Assuming 1.0 = 1.0 s\n",
      "yt : [WARNING  ] 2020-03-09 02:01:32,272 Assuming 1.0 = 1.0 g\n",
      "yt : [WARNING  ] 2020-03-09 02:01:32,273 Assuming 1.0 = 1.0 K\n",
      "yt : [INFO     ] 2020-03-09 02:01:32,288 Parameters: current_time              = 259993125016612.4\n",
      "yt : [INFO     ] 2020-03-09 02:01:32,289 Parameters: domain_dimensions         = [256 640   1]\n",
      "yt : [INFO     ] 2020-03-09 02:01:32,290 Parameters: domain_left_edge          = [-1.5450e+19 -3.8625e+19 -5.0000e-01]\n",
      "yt : [INFO     ] 2020-03-09 02:01:32,290 Parameters: domain_right_edge         = [1.5450e+19 3.8625e+19 5.0000e-01]\n",
      "yt : [INFO     ] 2020-03-09 02:01:32,291 Parameters: cosmological_simulation   = 0.0\n"
     ]
    },
    {
     "name": "stdout",
     "output_type": "stream",
     "text": [
      "mixing_layer.out1.00138\n"
     ]
    },
    {
     "name": "stderr",
     "output_type": "stream",
     "text": [
      "yt : [WARNING  ] 2020-03-09 02:01:32,320 Assuming 1.0 = 1.0 cm\n",
      "yt : [WARNING  ] 2020-03-09 02:01:32,321 Assuming 1.0 = 1.0 s\n",
      "yt : [WARNING  ] 2020-03-09 02:01:32,322 Assuming 1.0 = 1.0 g\n",
      "yt : [WARNING  ] 2020-03-09 02:01:32,323 Assuming 1.0 = 1.0 K\n",
      "yt : [INFO     ] 2020-03-09 02:01:32,334 Parameters: current_time              = 261877637459053.03\n",
      "yt : [INFO     ] 2020-03-09 02:01:32,335 Parameters: domain_dimensions         = [256 640   1]\n",
      "yt : [INFO     ] 2020-03-09 02:01:32,336 Parameters: domain_left_edge          = [-1.5450e+19 -3.8625e+19 -5.0000e-01]\n",
      "yt : [INFO     ] 2020-03-09 02:01:32,337 Parameters: domain_right_edge         = [1.5450e+19 3.8625e+19 5.0000e-01]\n",
      "yt : [INFO     ] 2020-03-09 02:01:32,338 Parameters: cosmological_simulation   = 0.0\n"
     ]
    },
    {
     "name": "stdout",
     "output_type": "stream",
     "text": [
      "mixing_layer.out1.00139\n"
     ]
    },
    {
     "name": "stderr",
     "output_type": "stream",
     "text": [
      "yt : [WARNING  ] 2020-03-09 02:01:32,366 Assuming 1.0 = 1.0 cm\n",
      "yt : [WARNING  ] 2020-03-09 02:01:32,367 Assuming 1.0 = 1.0 s\n",
      "yt : [WARNING  ] 2020-03-09 02:01:32,368 Assuming 1.0 = 1.0 g\n",
      "yt : [WARNING  ] 2020-03-09 02:01:32,368 Assuming 1.0 = 1.0 K\n",
      "yt : [INFO     ] 2020-03-09 02:01:32,381 Parameters: current_time              = 263762446482472.1\n",
      "yt : [INFO     ] 2020-03-09 02:01:32,382 Parameters: domain_dimensions         = [256 640   1]\n",
      "yt : [INFO     ] 2020-03-09 02:01:32,383 Parameters: domain_left_edge          = [-1.5450e+19 -3.8625e+19 -5.0000e-01]\n",
      "yt : [INFO     ] 2020-03-09 02:01:32,384 Parameters: domain_right_edge         = [1.5450e+19 3.8625e+19 5.0000e-01]\n",
      "yt : [INFO     ] 2020-03-09 02:01:32,385 Parameters: cosmological_simulation   = 0.0\n"
     ]
    },
    {
     "name": "stdout",
     "output_type": "stream",
     "text": [
      "mixing_layer.out1.00140\n"
     ]
    },
    {
     "name": "stderr",
     "output_type": "stream",
     "text": [
      "yt : [WARNING  ] 2020-03-09 02:01:32,412 Assuming 1.0 = 1.0 cm\n",
      "yt : [WARNING  ] 2020-03-09 02:01:32,413 Assuming 1.0 = 1.0 s\n",
      "yt : [WARNING  ] 2020-03-09 02:01:32,414 Assuming 1.0 = 1.0 g\n",
      "yt : [WARNING  ] 2020-03-09 02:01:32,415 Assuming 1.0 = 1.0 K\n",
      "yt : [INFO     ] 2020-03-09 02:01:32,426 Parameters: current_time              = 265646502627075.6\n",
      "yt : [INFO     ] 2020-03-09 02:01:32,427 Parameters: domain_dimensions         = [256 640   1]\n",
      "yt : [INFO     ] 2020-03-09 02:01:32,428 Parameters: domain_left_edge          = [-1.5450e+19 -3.8625e+19 -5.0000e-01]\n",
      "yt : [INFO     ] 2020-03-09 02:01:32,430 Parameters: domain_right_edge         = [1.5450e+19 3.8625e+19 5.0000e-01]\n",
      "yt : [INFO     ] 2020-03-09 02:01:32,431 Parameters: cosmological_simulation   = 0.0\n"
     ]
    },
    {
     "name": "stdout",
     "output_type": "stream",
     "text": [
      "mixing_layer.out1.00141\n"
     ]
    },
    {
     "name": "stderr",
     "output_type": "stream",
     "text": [
      "yt : [WARNING  ] 2020-03-09 02:01:32,457 Assuming 1.0 = 1.0 cm\n",
      "yt : [WARNING  ] 2020-03-09 02:01:32,458 Assuming 1.0 = 1.0 s\n",
      "yt : [WARNING  ] 2020-03-09 02:01:32,459 Assuming 1.0 = 1.0 g\n",
      "yt : [WARNING  ] 2020-03-09 02:01:32,460 Assuming 1.0 = 1.0 K\n",
      "yt : [INFO     ] 2020-03-09 02:01:32,473 Parameters: current_time              = 267528879267530.8\n",
      "yt : [INFO     ] 2020-03-09 02:01:32,474 Parameters: domain_dimensions         = [256 640   1]\n",
      "yt : [INFO     ] 2020-03-09 02:01:32,475 Parameters: domain_left_edge          = [-1.5450e+19 -3.8625e+19 -5.0000e-01]\n",
      "yt : [INFO     ] 2020-03-09 02:01:32,476 Parameters: domain_right_edge         = [1.5450e+19 3.8625e+19 5.0000e-01]\n",
      "yt : [INFO     ] 2020-03-09 02:01:32,477 Parameters: cosmological_simulation   = 0.0\n"
     ]
    },
    {
     "name": "stdout",
     "output_type": "stream",
     "text": [
      "mixing_layer.out1.00142\n"
     ]
    },
    {
     "name": "stderr",
     "output_type": "stream",
     "text": [
      "yt : [WARNING  ] 2020-03-09 02:01:32,505 Assuming 1.0 = 1.0 cm\n",
      "yt : [WARNING  ] 2020-03-09 02:01:32,506 Assuming 1.0 = 1.0 s\n",
      "yt : [WARNING  ] 2020-03-09 02:01:32,507 Assuming 1.0 = 1.0 g\n",
      "yt : [WARNING  ] 2020-03-09 02:01:32,509 Assuming 1.0 = 1.0 K\n",
      "yt : [INFO     ] 2020-03-09 02:01:32,521 Parameters: current_time              = 269412954233220.72\n",
      "yt : [INFO     ] 2020-03-09 02:01:32,522 Parameters: domain_dimensions         = [256 640   1]\n",
      "yt : [INFO     ] 2020-03-09 02:01:32,523 Parameters: domain_left_edge          = [-1.5450e+19 -3.8625e+19 -5.0000e-01]\n",
      "yt : [INFO     ] 2020-03-09 02:01:32,524 Parameters: domain_right_edge         = [1.5450e+19 3.8625e+19 5.0000e-01]\n",
      "yt : [INFO     ] 2020-03-09 02:01:32,525 Parameters: cosmological_simulation   = 0.0\n"
     ]
    },
    {
     "name": "stdout",
     "output_type": "stream",
     "text": [
      "mixing_layer.out1.00143\n"
     ]
    },
    {
     "name": "stderr",
     "output_type": "stream",
     "text": [
      "yt : [WARNING  ] 2020-03-09 02:01:32,554 Assuming 1.0 = 1.0 cm\n",
      "yt : [WARNING  ] 2020-03-09 02:01:32,555 Assuming 1.0 = 1.0 s\n",
      "yt : [WARNING  ] 2020-03-09 02:01:32,556 Assuming 1.0 = 1.0 g\n",
      "yt : [WARNING  ] 2020-03-09 02:01:32,557 Assuming 1.0 = 1.0 K\n",
      "yt : [INFO     ] 2020-03-09 02:01:32,568 Parameters: current_time              = 271297570136255.78\n",
      "yt : [INFO     ] 2020-03-09 02:01:32,569 Parameters: domain_dimensions         = [256 640   1]\n",
      "yt : [INFO     ] 2020-03-09 02:01:32,570 Parameters: domain_left_edge          = [-1.5450e+19 -3.8625e+19 -5.0000e-01]\n",
      "yt : [INFO     ] 2020-03-09 02:01:32,571 Parameters: domain_right_edge         = [1.5450e+19 3.8625e+19 5.0000e-01]\n",
      "yt : [INFO     ] 2020-03-09 02:01:32,571 Parameters: cosmological_simulation   = 0.0\n"
     ]
    },
    {
     "name": "stdout",
     "output_type": "stream",
     "text": [
      "mixing_layer.out1.00144\n"
     ]
    },
    {
     "name": "stderr",
     "output_type": "stream",
     "text": [
      "yt : [WARNING  ] 2020-03-09 02:01:32,600 Assuming 1.0 = 1.0 cm\n",
      "yt : [WARNING  ] 2020-03-09 02:01:32,601 Assuming 1.0 = 1.0 s\n",
      "yt : [WARNING  ] 2020-03-09 02:01:32,602 Assuming 1.0 = 1.0 g\n",
      "yt : [WARNING  ] 2020-03-09 02:01:32,603 Assuming 1.0 = 1.0 K\n",
      "yt : [INFO     ] 2020-03-09 02:01:32,616 Parameters: current_time              = 273181073882240.34\n",
      "yt : [INFO     ] 2020-03-09 02:01:32,617 Parameters: domain_dimensions         = [256 640   1]\n",
      "yt : [INFO     ] 2020-03-09 02:01:32,617 Parameters: domain_left_edge          = [-1.5450e+19 -3.8625e+19 -5.0000e-01]\n",
      "yt : [INFO     ] 2020-03-09 02:01:32,618 Parameters: domain_right_edge         = [1.5450e+19 3.8625e+19 5.0000e-01]\n",
      "yt : [INFO     ] 2020-03-09 02:01:32,619 Parameters: cosmological_simulation   = 0.0\n"
     ]
    },
    {
     "name": "stdout",
     "output_type": "stream",
     "text": [
      "mixing_layer.out1.00145\n"
     ]
    },
    {
     "name": "stderr",
     "output_type": "stream",
     "text": [
      "yt : [WARNING  ] 2020-03-09 02:01:32,647 Assuming 1.0 = 1.0 cm\n",
      "yt : [WARNING  ] 2020-03-09 02:01:32,648 Assuming 1.0 = 1.0 s\n",
      "yt : [WARNING  ] 2020-03-09 02:01:32,648 Assuming 1.0 = 1.0 g\n",
      "yt : [WARNING  ] 2020-03-09 02:01:32,648 Assuming 1.0 = 1.0 K\n",
      "yt : [INFO     ] 2020-03-09 02:01:32,660 Parameters: current_time              = 275066203517330.06\n",
      "yt : [INFO     ] 2020-03-09 02:01:32,661 Parameters: domain_dimensions         = [256 640   1]\n",
      "yt : [INFO     ] 2020-03-09 02:01:32,662 Parameters: domain_left_edge          = [-1.5450e+19 -3.8625e+19 -5.0000e-01]\n",
      "yt : [INFO     ] 2020-03-09 02:01:32,663 Parameters: domain_right_edge         = [1.5450e+19 3.8625e+19 5.0000e-01]\n",
      "yt : [INFO     ] 2020-03-09 02:01:32,664 Parameters: cosmological_simulation   = 0.0\n"
     ]
    },
    {
     "name": "stdout",
     "output_type": "stream",
     "text": [
      "mixing_layer.out1.00146\n"
     ]
    },
    {
     "name": "stderr",
     "output_type": "stream",
     "text": [
      "yt : [WARNING  ] 2020-03-09 02:01:32,691 Assuming 1.0 = 1.0 cm\n",
      "yt : [WARNING  ] 2020-03-09 02:01:32,692 Assuming 1.0 = 1.0 s\n",
      "yt : [WARNING  ] 2020-03-09 02:01:32,693 Assuming 1.0 = 1.0 g\n",
      "yt : [WARNING  ] 2020-03-09 02:01:32,693 Assuming 1.0 = 1.0 K\n",
      "yt : [INFO     ] 2020-03-09 02:01:32,705 Parameters: current_time              = 276950264310043.3\n",
      "yt : [INFO     ] 2020-03-09 02:01:32,706 Parameters: domain_dimensions         = [256 640   1]\n",
      "yt : [INFO     ] 2020-03-09 02:01:32,707 Parameters: domain_left_edge          = [-1.5450e+19 -3.8625e+19 -5.0000e-01]\n",
      "yt : [INFO     ] 2020-03-09 02:01:32,708 Parameters: domain_right_edge         = [1.5450e+19 3.8625e+19 5.0000e-01]\n",
      "yt : [INFO     ] 2020-03-09 02:01:32,710 Parameters: cosmological_simulation   = 0.0\n"
     ]
    },
    {
     "name": "stdout",
     "output_type": "stream",
     "text": [
      "mixing_layer.out1.00147\n"
     ]
    },
    {
     "name": "stderr",
     "output_type": "stream",
     "text": [
      "yt : [WARNING  ] 2020-03-09 02:01:32,741 Assuming 1.0 = 1.0 cm\n",
      "yt : [WARNING  ] 2020-03-09 02:01:32,742 Assuming 1.0 = 1.0 s\n",
      "yt : [WARNING  ] 2020-03-09 02:01:32,743 Assuming 1.0 = 1.0 g\n",
      "yt : [WARNING  ] 2020-03-09 02:01:32,744 Assuming 1.0 = 1.0 K\n",
      "yt : [INFO     ] 2020-03-09 02:01:32,756 Parameters: current_time              = 278833158645229.88\n",
      "yt : [INFO     ] 2020-03-09 02:01:32,757 Parameters: domain_dimensions         = [256 640   1]\n",
      "yt : [INFO     ] 2020-03-09 02:01:32,758 Parameters: domain_left_edge          = [-1.5450e+19 -3.8625e+19 -5.0000e-01]\n",
      "yt : [INFO     ] 2020-03-09 02:01:32,759 Parameters: domain_right_edge         = [1.5450e+19 3.8625e+19 5.0000e-01]\n",
      "yt : [INFO     ] 2020-03-09 02:01:32,760 Parameters: cosmological_simulation   = 0.0\n"
     ]
    },
    {
     "name": "stdout",
     "output_type": "stream",
     "text": [
      "mixing_layer.out1.00148\n"
     ]
    },
    {
     "name": "stderr",
     "output_type": "stream",
     "text": [
      "yt : [WARNING  ] 2020-03-09 02:01:32,794 Assuming 1.0 = 1.0 cm\n",
      "yt : [WARNING  ] 2020-03-09 02:01:32,795 Assuming 1.0 = 1.0 s\n",
      "yt : [WARNING  ] 2020-03-09 02:01:32,797 Assuming 1.0 = 1.0 g\n",
      "yt : [WARNING  ] 2020-03-09 02:01:32,798 Assuming 1.0 = 1.0 K\n",
      "yt : [INFO     ] 2020-03-09 02:01:32,833 Parameters: current_time              = 280716202398379.56\n",
      "yt : [INFO     ] 2020-03-09 02:01:32,839 Parameters: domain_dimensions         = [256 640   1]\n",
      "yt : [INFO     ] 2020-03-09 02:01:32,841 Parameters: domain_left_edge          = [-1.5450e+19 -3.8625e+19 -5.0000e-01]\n",
      "yt : [INFO     ] 2020-03-09 02:01:32,843 Parameters: domain_right_edge         = [1.5450e+19 3.8625e+19 5.0000e-01]\n",
      "yt : [INFO     ] 2020-03-09 02:01:32,844 Parameters: cosmological_simulation   = 0.0\n"
     ]
    },
    {
     "name": "stdout",
     "output_type": "stream",
     "text": [
      "mixing_layer.out1.00149\n"
     ]
    },
    {
     "name": "stderr",
     "output_type": "stream",
     "text": [
      "yt : [WARNING  ] 2020-03-09 02:01:32,872 Assuming 1.0 = 1.0 cm\n",
      "yt : [WARNING  ] 2020-03-09 02:01:32,874 Assuming 1.0 = 1.0 s\n",
      "yt : [WARNING  ] 2020-03-09 02:01:32,875 Assuming 1.0 = 1.0 g\n",
      "yt : [WARNING  ] 2020-03-09 02:01:32,876 Assuming 1.0 = 1.0 K\n",
      "yt : [INFO     ] 2020-03-09 02:01:32,889 Parameters: current_time              = 282601216905111.6\n",
      "yt : [INFO     ] 2020-03-09 02:01:32,890 Parameters: domain_dimensions         = [256 640   1]\n",
      "yt : [INFO     ] 2020-03-09 02:01:32,891 Parameters: domain_left_edge          = [-1.5450e+19 -3.8625e+19 -5.0000e-01]\n",
      "yt : [INFO     ] 2020-03-09 02:01:32,892 Parameters: domain_right_edge         = [1.5450e+19 3.8625e+19 5.0000e-01]\n",
      "yt : [INFO     ] 2020-03-09 02:01:32,893 Parameters: cosmological_simulation   = 0.0\n"
     ]
    },
    {
     "name": "stdout",
     "output_type": "stream",
     "text": [
      "mixing_layer.out1.00150\n"
     ]
    },
    {
     "name": "stderr",
     "output_type": "stream",
     "text": [
      "yt : [WARNING  ] 2020-03-09 02:01:32,927 Assuming 1.0 = 1.0 cm\n",
      "yt : [WARNING  ] 2020-03-09 02:01:32,928 Assuming 1.0 = 1.0 s\n",
      "yt : [WARNING  ] 2020-03-09 02:01:32,929 Assuming 1.0 = 1.0 g\n",
      "yt : [WARNING  ] 2020-03-09 02:01:32,930 Assuming 1.0 = 1.0 K\n",
      "yt : [INFO     ] 2020-03-09 02:01:32,942 Parameters: current_time              = 284485904415125.5\n",
      "yt : [INFO     ] 2020-03-09 02:01:32,943 Parameters: domain_dimensions         = [256 640   1]\n",
      "yt : [INFO     ] 2020-03-09 02:01:32,944 Parameters: domain_left_edge          = [-1.5450e+19 -3.8625e+19 -5.0000e-01]\n",
      "yt : [INFO     ] 2020-03-09 02:01:32,945 Parameters: domain_right_edge         = [1.5450e+19 3.8625e+19 5.0000e-01]\n",
      "yt : [INFO     ] 2020-03-09 02:01:32,946 Parameters: cosmological_simulation   = 0.0\n"
     ]
    },
    {
     "name": "stdout",
     "output_type": "stream",
     "text": [
      "mixing_layer.out1.00151\n"
     ]
    },
    {
     "name": "stderr",
     "output_type": "stream",
     "text": [
      "yt : [WARNING  ] 2020-03-09 02:01:32,974 Assuming 1.0 = 1.0 cm\n",
      "yt : [WARNING  ] 2020-03-09 02:01:32,975 Assuming 1.0 = 1.0 s\n",
      "yt : [WARNING  ] 2020-03-09 02:01:32,976 Assuming 1.0 = 1.0 g\n",
      "yt : [WARNING  ] 2020-03-09 02:01:32,977 Assuming 1.0 = 1.0 K\n",
      "yt : [INFO     ] 2020-03-09 02:01:32,989 Parameters: current_time              = 286368885758196.3\n",
      "yt : [INFO     ] 2020-03-09 02:01:32,990 Parameters: domain_dimensions         = [256 640   1]\n",
      "yt : [INFO     ] 2020-03-09 02:01:32,990 Parameters: domain_left_edge          = [-1.5450e+19 -3.8625e+19 -5.0000e-01]\n",
      "yt : [INFO     ] 2020-03-09 02:01:32,991 Parameters: domain_right_edge         = [1.5450e+19 3.8625e+19 5.0000e-01]\n",
      "yt : [INFO     ] 2020-03-09 02:01:32,992 Parameters: cosmological_simulation   = 0.0\n"
     ]
    },
    {
     "name": "stdout",
     "output_type": "stream",
     "text": [
      "mixing_layer.out1.00152\n"
     ]
    },
    {
     "name": "stderr",
     "output_type": "stream",
     "text": [
      "yt : [WARNING  ] 2020-03-09 02:01:33,018 Assuming 1.0 = 1.0 cm\n",
      "yt : [WARNING  ] 2020-03-09 02:01:33,019 Assuming 1.0 = 1.0 s\n",
      "yt : [WARNING  ] 2020-03-09 02:01:33,021 Assuming 1.0 = 1.0 g\n",
      "yt : [WARNING  ] 2020-03-09 02:01:33,021 Assuming 1.0 = 1.0 K\n",
      "yt : [INFO     ] 2020-03-09 02:01:33,034 Parameters: current_time              = 288254049009505.1\n",
      "yt : [INFO     ] 2020-03-09 02:01:33,035 Parameters: domain_dimensions         = [256 640   1]\n",
      "yt : [INFO     ] 2020-03-09 02:01:33,036 Parameters: domain_left_edge          = [-1.5450e+19 -3.8625e+19 -5.0000e-01]\n",
      "yt : [INFO     ] 2020-03-09 02:01:33,037 Parameters: domain_right_edge         = [1.5450e+19 3.8625e+19 5.0000e-01]\n",
      "yt : [INFO     ] 2020-03-09 02:01:33,037 Parameters: cosmological_simulation   = 0.0\n"
     ]
    },
    {
     "name": "stdout",
     "output_type": "stream",
     "text": [
      "mixing_layer.out1.00153\n"
     ]
    },
    {
     "name": "stderr",
     "output_type": "stream",
     "text": [
      "yt : [WARNING  ] 2020-03-09 02:01:33,066 Assuming 1.0 = 1.0 cm\n",
      "yt : [WARNING  ] 2020-03-09 02:01:33,067 Assuming 1.0 = 1.0 s\n",
      "yt : [WARNING  ] 2020-03-09 02:01:33,068 Assuming 1.0 = 1.0 g\n",
      "yt : [WARNING  ] 2020-03-09 02:01:33,068 Assuming 1.0 = 1.0 K\n",
      "yt : [INFO     ] 2020-03-09 02:01:33,079 Parameters: current_time              = 290138030087255.2\n",
      "yt : [INFO     ] 2020-03-09 02:01:33,080 Parameters: domain_dimensions         = [256 640   1]\n",
      "yt : [INFO     ] 2020-03-09 02:01:33,081 Parameters: domain_left_edge          = [-1.5450e+19 -3.8625e+19 -5.0000e-01]\n",
      "yt : [INFO     ] 2020-03-09 02:01:33,082 Parameters: domain_right_edge         = [1.5450e+19 3.8625e+19 5.0000e-01]\n",
      "yt : [INFO     ] 2020-03-09 02:01:33,083 Parameters: cosmological_simulation   = 0.0\n"
     ]
    },
    {
     "name": "stdout",
     "output_type": "stream",
     "text": [
      "mixing_layer.out1.00154\n"
     ]
    },
    {
     "name": "stderr",
     "output_type": "stream",
     "text": [
      "yt : [WARNING  ] 2020-03-09 02:01:33,111 Assuming 1.0 = 1.0 cm\n",
      "yt : [WARNING  ] 2020-03-09 02:01:33,112 Assuming 1.0 = 1.0 s\n",
      "yt : [WARNING  ] 2020-03-09 02:01:33,113 Assuming 1.0 = 1.0 g\n",
      "yt : [WARNING  ] 2020-03-09 02:01:33,114 Assuming 1.0 = 1.0 K\n",
      "yt : [INFO     ] 2020-03-09 02:01:33,127 Parameters: current_time              = 292022691225082.9\n",
      "yt : [INFO     ] 2020-03-09 02:01:33,128 Parameters: domain_dimensions         = [256 640   1]\n",
      "yt : [INFO     ] 2020-03-09 02:01:33,129 Parameters: domain_left_edge          = [-1.5450e+19 -3.8625e+19 -5.0000e-01]\n",
      "yt : [INFO     ] 2020-03-09 02:01:33,130 Parameters: domain_right_edge         = [1.5450e+19 3.8625e+19 5.0000e-01]\n",
      "yt : [INFO     ] 2020-03-09 02:01:33,131 Parameters: cosmological_simulation   = 0.0\n"
     ]
    },
    {
     "name": "stdout",
     "output_type": "stream",
     "text": [
      "mixing_layer.out1.00155\n"
     ]
    },
    {
     "name": "stderr",
     "output_type": "stream",
     "text": [
      "yt : [WARNING  ] 2020-03-09 02:01:33,160 Assuming 1.0 = 1.0 cm\n",
      "yt : [WARNING  ] 2020-03-09 02:01:33,161 Assuming 1.0 = 1.0 s\n",
      "yt : [WARNING  ] 2020-03-09 02:01:33,162 Assuming 1.0 = 1.0 g\n",
      "yt : [WARNING  ] 2020-03-09 02:01:33,163 Assuming 1.0 = 1.0 K\n",
      "yt : [INFO     ] 2020-03-09 02:01:33,174 Parameters: current_time              = 293906067381219.56\n",
      "yt : [INFO     ] 2020-03-09 02:01:33,175 Parameters: domain_dimensions         = [256 640   1]\n",
      "yt : [INFO     ] 2020-03-09 02:01:33,176 Parameters: domain_left_edge          = [-1.5450e+19 -3.8625e+19 -5.0000e-01]\n",
      "yt : [INFO     ] 2020-03-09 02:01:33,177 Parameters: domain_right_edge         = [1.5450e+19 3.8625e+19 5.0000e-01]\n",
      "yt : [INFO     ] 2020-03-09 02:01:33,178 Parameters: cosmological_simulation   = 0.0\n"
     ]
    },
    {
     "name": "stdout",
     "output_type": "stream",
     "text": [
      "mixing_layer.out1.00156\n"
     ]
    },
    {
     "name": "stderr",
     "output_type": "stream",
     "text": [
      "yt : [WARNING  ] 2020-03-09 02:01:33,207 Assuming 1.0 = 1.0 cm\n",
      "yt : [WARNING  ] 2020-03-09 02:01:33,208 Assuming 1.0 = 1.0 s\n",
      "yt : [WARNING  ] 2020-03-09 02:01:33,209 Assuming 1.0 = 1.0 g\n",
      "yt : [WARNING  ] 2020-03-09 02:01:33,210 Assuming 1.0 = 1.0 K\n",
      "yt : [INFO     ] 2020-03-09 02:01:33,221 Parameters: current_time              = 295789051908288.2\n",
      "yt : [INFO     ] 2020-03-09 02:01:33,222 Parameters: domain_dimensions         = [256 640   1]\n",
      "yt : [INFO     ] 2020-03-09 02:01:33,223 Parameters: domain_left_edge          = [-1.5450e+19 -3.8625e+19 -5.0000e-01]\n",
      "yt : [INFO     ] 2020-03-09 02:01:33,224 Parameters: domain_right_edge         = [1.5450e+19 3.8625e+19 5.0000e-01]\n",
      "yt : [INFO     ] 2020-03-09 02:01:33,226 Parameters: cosmological_simulation   = 0.0\n"
     ]
    },
    {
     "name": "stdout",
     "output_type": "stream",
     "text": [
      "mixing_layer.out1.00157\n"
     ]
    },
    {
     "name": "stderr",
     "output_type": "stream",
     "text": [
      "yt : [WARNING  ] 2020-03-09 02:01:33,253 Assuming 1.0 = 1.0 cm\n",
      "yt : [WARNING  ] 2020-03-09 02:01:33,254 Assuming 1.0 = 1.0 s\n",
      "yt : [WARNING  ] 2020-03-09 02:01:33,255 Assuming 1.0 = 1.0 g\n",
      "yt : [WARNING  ] 2020-03-09 02:01:33,256 Assuming 1.0 = 1.0 K\n",
      "yt : [INFO     ] 2020-03-09 02:01:33,270 Parameters: current_time              = 297673270971746.7\n",
      "yt : [INFO     ] 2020-03-09 02:01:33,271 Parameters: domain_dimensions         = [256 640   1]\n",
      "yt : [INFO     ] 2020-03-09 02:01:33,272 Parameters: domain_left_edge          = [-1.5450e+19 -3.8625e+19 -5.0000e-01]\n",
      "yt : [INFO     ] 2020-03-09 02:01:33,273 Parameters: domain_right_edge         = [1.5450e+19 3.8625e+19 5.0000e-01]\n",
      "yt : [INFO     ] 2020-03-09 02:01:33,274 Parameters: cosmological_simulation   = 0.0\n"
     ]
    },
    {
     "name": "stdout",
     "output_type": "stream",
     "text": [
      "mixing_layer.out1.00158\n"
     ]
    },
    {
     "name": "stderr",
     "output_type": "stream",
     "text": [
      "yt : [WARNING  ] 2020-03-09 02:01:33,303 Assuming 1.0 = 1.0 cm\n",
      "yt : [WARNING  ] 2020-03-09 02:01:33,304 Assuming 1.0 = 1.0 s\n",
      "yt : [WARNING  ] 2020-03-09 02:01:33,305 Assuming 1.0 = 1.0 g\n",
      "yt : [WARNING  ] 2020-03-09 02:01:33,307 Assuming 1.0 = 1.0 K\n",
      "yt : [INFO     ] 2020-03-09 02:01:33,323 Parameters: current_time              = 299557800417194.4\n",
      "yt : [INFO     ] 2020-03-09 02:01:33,323 Parameters: domain_dimensions         = [256 640   1]\n",
      "yt : [INFO     ] 2020-03-09 02:01:33,324 Parameters: domain_left_edge          = [-1.5450e+19 -3.8625e+19 -5.0000e-01]\n",
      "yt : [INFO     ] 2020-03-09 02:01:33,325 Parameters: domain_right_edge         = [1.5450e+19 3.8625e+19 5.0000e-01]\n",
      "yt : [INFO     ] 2020-03-09 02:01:33,326 Parameters: cosmological_simulation   = 0.0\n"
     ]
    },
    {
     "name": "stdout",
     "output_type": "stream",
     "text": [
      "mixing_layer.out1.00159\n"
     ]
    },
    {
     "name": "stderr",
     "output_type": "stream",
     "text": [
      "yt : [WARNING  ] 2020-03-09 02:01:33,356 Assuming 1.0 = 1.0 cm\n",
      "yt : [WARNING  ] 2020-03-09 02:01:33,357 Assuming 1.0 = 1.0 s\n",
      "yt : [WARNING  ] 2020-03-09 02:01:33,358 Assuming 1.0 = 1.0 g\n",
      "yt : [WARNING  ] 2020-03-09 02:01:33,359 Assuming 1.0 = 1.0 K\n",
      "yt : [INFO     ] 2020-03-09 02:01:33,371 Parameters: current_time              = 301440220944679.3\n",
      "yt : [INFO     ] 2020-03-09 02:01:33,371 Parameters: domain_dimensions         = [256 640   1]\n",
      "yt : [INFO     ] 2020-03-09 02:01:33,372 Parameters: domain_left_edge          = [-1.5450e+19 -3.8625e+19 -5.0000e-01]\n",
      "yt : [INFO     ] 2020-03-09 02:01:33,373 Parameters: domain_right_edge         = [1.5450e+19 3.8625e+19 5.0000e-01]\n",
      "yt : [INFO     ] 2020-03-09 02:01:33,374 Parameters: cosmological_simulation   = 0.0\n"
     ]
    },
    {
     "name": "stdout",
     "output_type": "stream",
     "text": [
      "mixing_layer.out1.00160\n"
     ]
    },
    {
     "name": "stderr",
     "output_type": "stream",
     "text": [
      "yt : [WARNING  ] 2020-03-09 02:01:33,403 Assuming 1.0 = 1.0 cm\n",
      "yt : [WARNING  ] 2020-03-09 02:01:33,405 Assuming 1.0 = 1.0 s\n",
      "yt : [WARNING  ] 2020-03-09 02:01:33,406 Assuming 1.0 = 1.0 g\n",
      "yt : [WARNING  ] 2020-03-09 02:01:33,407 Assuming 1.0 = 1.0 K\n",
      "yt : [INFO     ] 2020-03-09 02:01:33,419 Parameters: current_time              = 303325237349197.9\n",
      "yt : [INFO     ] 2020-03-09 02:01:33,420 Parameters: domain_dimensions         = [256 640   1]\n",
      "yt : [INFO     ] 2020-03-09 02:01:33,420 Parameters: domain_left_edge          = [-1.5450e+19 -3.8625e+19 -5.0000e-01]\n",
      "yt : [INFO     ] 2020-03-09 02:01:33,421 Parameters: domain_right_edge         = [1.5450e+19 3.8625e+19 5.0000e-01]\n",
      "yt : [INFO     ] 2020-03-09 02:01:33,422 Parameters: cosmological_simulation   = 0.0\n"
     ]
    },
    {
     "name": "stdout",
     "output_type": "stream",
     "text": [
      "mixing_layer.out1.00161\n"
     ]
    },
    {
     "name": "stderr",
     "output_type": "stream",
     "text": [
      "yt : [WARNING  ] 2020-03-09 02:01:33,451 Assuming 1.0 = 1.0 cm\n",
      "yt : [WARNING  ] 2020-03-09 02:01:33,452 Assuming 1.0 = 1.0 s\n",
      "yt : [WARNING  ] 2020-03-09 02:01:33,454 Assuming 1.0 = 1.0 g\n",
      "yt : [WARNING  ] 2020-03-09 02:01:33,455 Assuming 1.0 = 1.0 K\n",
      "yt : [INFO     ] 2020-03-09 02:01:33,466 Parameters: current_time              = 305210597284596.8\n",
      "yt : [INFO     ] 2020-03-09 02:01:33,467 Parameters: domain_dimensions         = [256 640   1]\n",
      "yt : [INFO     ] 2020-03-09 02:01:33,468 Parameters: domain_left_edge          = [-1.5450e+19 -3.8625e+19 -5.0000e-01]\n",
      "yt : [INFO     ] 2020-03-09 02:01:33,469 Parameters: domain_right_edge         = [1.5450e+19 3.8625e+19 5.0000e-01]\n",
      "yt : [INFO     ] 2020-03-09 02:01:33,470 Parameters: cosmological_simulation   = 0.0\n"
     ]
    },
    {
     "name": "stdout",
     "output_type": "stream",
     "text": [
      "mixing_layer.out1.00162\n"
     ]
    },
    {
     "name": "stderr",
     "output_type": "stream",
     "text": [
      "yt : [WARNING  ] 2020-03-09 02:01:33,497 Assuming 1.0 = 1.0 cm\n",
      "yt : [WARNING  ] 2020-03-09 02:01:33,498 Assuming 1.0 = 1.0 s\n",
      "yt : [WARNING  ] 2020-03-09 02:01:33,499 Assuming 1.0 = 1.0 g\n",
      "yt : [WARNING  ] 2020-03-09 02:01:33,501 Assuming 1.0 = 1.0 K\n",
      "yt : [INFO     ] 2020-03-09 02:01:33,513 Parameters: current_time              = 307093523297273.94\n",
      "yt : [INFO     ] 2020-03-09 02:01:33,514 Parameters: domain_dimensions         = [256 640   1]\n",
      "yt : [INFO     ] 2020-03-09 02:01:33,515 Parameters: domain_left_edge          = [-1.5450e+19 -3.8625e+19 -5.0000e-01]\n",
      "yt : [INFO     ] 2020-03-09 02:01:33,516 Parameters: domain_right_edge         = [1.5450e+19 3.8625e+19 5.0000e-01]\n",
      "yt : [INFO     ] 2020-03-09 02:01:33,517 Parameters: cosmological_simulation   = 0.0\n"
     ]
    },
    {
     "name": "stdout",
     "output_type": "stream",
     "text": [
      "mixing_layer.out1.00163\n"
     ]
    },
    {
     "name": "stderr",
     "output_type": "stream",
     "text": [
      "yt : [WARNING  ] 2020-03-09 02:01:33,544 Assuming 1.0 = 1.0 cm\n",
      "yt : [WARNING  ] 2020-03-09 02:01:33,545 Assuming 1.0 = 1.0 s\n",
      "yt : [WARNING  ] 2020-03-09 02:01:33,546 Assuming 1.0 = 1.0 g\n",
      "yt : [WARNING  ] 2020-03-09 02:01:33,547 Assuming 1.0 = 1.0 K\n",
      "yt : [INFO     ] 2020-03-09 02:01:33,559 Parameters: current_time              = 308976847218940.56\n",
      "yt : [INFO     ] 2020-03-09 02:01:33,560 Parameters: domain_dimensions         = [256 640   1]\n",
      "yt : [INFO     ] 2020-03-09 02:01:33,561 Parameters: domain_left_edge          = [-1.5450e+19 -3.8625e+19 -5.0000e-01]\n",
      "yt : [INFO     ] 2020-03-09 02:01:33,562 Parameters: domain_right_edge         = [1.5450e+19 3.8625e+19 5.0000e-01]\n",
      "yt : [INFO     ] 2020-03-09 02:01:33,563 Parameters: cosmological_simulation   = 0.0\n"
     ]
    },
    {
     "name": "stdout",
     "output_type": "stream",
     "text": [
      "mixing_layer.out1.00164\n"
     ]
    },
    {
     "name": "stderr",
     "output_type": "stream",
     "text": [
      "yt : [WARNING  ] 2020-03-09 02:01:33,589 Assuming 1.0 = 1.0 cm\n",
      "yt : [WARNING  ] 2020-03-09 02:01:33,591 Assuming 1.0 = 1.0 s\n",
      "yt : [WARNING  ] 2020-03-09 02:01:33,592 Assuming 1.0 = 1.0 g\n",
      "yt : [WARNING  ] 2020-03-09 02:01:33,593 Assuming 1.0 = 1.0 K\n",
      "yt : [INFO     ] 2020-03-09 02:01:33,605 Parameters: current_time              = 310861119908052.7\n",
      "yt : [INFO     ] 2020-03-09 02:01:33,606 Parameters: domain_dimensions         = [256 640   1]\n",
      "yt : [INFO     ] 2020-03-09 02:01:33,607 Parameters: domain_left_edge          = [-1.5450e+19 -3.8625e+19 -5.0000e-01]\n",
      "yt : [INFO     ] 2020-03-09 02:01:33,608 Parameters: domain_right_edge         = [1.5450e+19 3.8625e+19 5.0000e-01]\n",
      "yt : [INFO     ] 2020-03-09 02:01:33,609 Parameters: cosmological_simulation   = 0.0\n"
     ]
    },
    {
     "name": "stdout",
     "output_type": "stream",
     "text": [
      "mixing_layer.out1.00165\n"
     ]
    },
    {
     "name": "stderr",
     "output_type": "stream",
     "text": [
      "yt : [WARNING  ] 2020-03-09 02:01:33,637 Assuming 1.0 = 1.0 cm\n",
      "yt : [WARNING  ] 2020-03-09 02:01:33,638 Assuming 1.0 = 1.0 s\n",
      "yt : [WARNING  ] 2020-03-09 02:01:33,639 Assuming 1.0 = 1.0 g\n",
      "yt : [WARNING  ] 2020-03-09 02:01:33,640 Assuming 1.0 = 1.0 K\n",
      "yt : [INFO     ] 2020-03-09 02:01:33,652 Parameters: current_time              = 312744043524640.0\n",
      "yt : [INFO     ] 2020-03-09 02:01:33,653 Parameters: domain_dimensions         = [256 640   1]\n",
      "yt : [INFO     ] 2020-03-09 02:01:33,654 Parameters: domain_left_edge          = [-1.5450e+19 -3.8625e+19 -5.0000e-01]\n",
      "yt : [INFO     ] 2020-03-09 02:01:33,655 Parameters: domain_right_edge         = [1.5450e+19 3.8625e+19 5.0000e-01]\n",
      "yt : [INFO     ] 2020-03-09 02:01:33,656 Parameters: cosmological_simulation   = 0.0\n"
     ]
    },
    {
     "name": "stdout",
     "output_type": "stream",
     "text": [
      "mixing_layer.out1.00166\n"
     ]
    },
    {
     "name": "stderr",
     "output_type": "stream",
     "text": [
      "yt : [WARNING  ] 2020-03-09 02:01:33,683 Assuming 1.0 = 1.0 cm\n",
      "yt : [WARNING  ] 2020-03-09 02:01:33,684 Assuming 1.0 = 1.0 s\n",
      "yt : [WARNING  ] 2020-03-09 02:01:33,685 Assuming 1.0 = 1.0 g\n",
      "yt : [WARNING  ] 2020-03-09 02:01:33,686 Assuming 1.0 = 1.0 K\n",
      "yt : [INFO     ] 2020-03-09 02:01:33,697 Parameters: current_time              = 314628181158337.0\n",
      "yt : [INFO     ] 2020-03-09 02:01:33,698 Parameters: domain_dimensions         = [256 640   1]\n",
      "yt : [INFO     ] 2020-03-09 02:01:33,699 Parameters: domain_left_edge          = [-1.5450e+19 -3.8625e+19 -5.0000e-01]\n",
      "yt : [INFO     ] 2020-03-09 02:01:33,700 Parameters: domain_right_edge         = [1.5450e+19 3.8625e+19 5.0000e-01]\n",
      "yt : [INFO     ] 2020-03-09 02:01:33,702 Parameters: cosmological_simulation   = 0.0\n"
     ]
    },
    {
     "name": "stdout",
     "output_type": "stream",
     "text": [
      "mixing_layer.out1.00167\n"
     ]
    },
    {
     "name": "stderr",
     "output_type": "stream",
     "text": [
      "yt : [WARNING  ] 2020-03-09 02:01:33,729 Assuming 1.0 = 1.0 cm\n",
      "yt : [WARNING  ] 2020-03-09 02:01:33,730 Assuming 1.0 = 1.0 s\n",
      "yt : [WARNING  ] 2020-03-09 02:01:33,731 Assuming 1.0 = 1.0 g\n",
      "yt : [WARNING  ] 2020-03-09 02:01:33,732 Assuming 1.0 = 1.0 K\n",
      "yt : [INFO     ] 2020-03-09 02:01:33,743 Parameters: current_time              = 316514509980710.94\n",
      "yt : [INFO     ] 2020-03-09 02:01:33,744 Parameters: domain_dimensions         = [256 640   1]\n",
      "yt : [INFO     ] 2020-03-09 02:01:33,744 Parameters: domain_left_edge          = [-1.5450e+19 -3.8625e+19 -5.0000e-01]\n",
      "yt : [INFO     ] 2020-03-09 02:01:33,745 Parameters: domain_right_edge         = [1.5450e+19 3.8625e+19 5.0000e-01]\n",
      "yt : [INFO     ] 2020-03-09 02:01:33,746 Parameters: cosmological_simulation   = 0.0\n"
     ]
    },
    {
     "name": "stdout",
     "output_type": "stream",
     "text": [
      "mixing_layer.out1.00168\n"
     ]
    },
    {
     "name": "stderr",
     "output_type": "stream",
     "text": [
      "yt : [WARNING  ] 2020-03-09 02:01:33,774 Assuming 1.0 = 1.0 cm\n",
      "yt : [WARNING  ] 2020-03-09 02:01:33,775 Assuming 1.0 = 1.0 s\n",
      "yt : [WARNING  ] 2020-03-09 02:01:33,776 Assuming 1.0 = 1.0 g\n",
      "yt : [WARNING  ] 2020-03-09 02:01:33,777 Assuming 1.0 = 1.0 K\n",
      "yt : [INFO     ] 2020-03-09 02:01:33,789 Parameters: current_time              = 318396977928212.94\n",
      "yt : [INFO     ] 2020-03-09 02:01:33,790 Parameters: domain_dimensions         = [256 640   1]\n",
      "yt : [INFO     ] 2020-03-09 02:01:33,790 Parameters: domain_left_edge          = [-1.5450e+19 -3.8625e+19 -5.0000e-01]\n",
      "yt : [INFO     ] 2020-03-09 02:01:33,791 Parameters: domain_right_edge         = [1.5450e+19 3.8625e+19 5.0000e-01]\n",
      "yt : [INFO     ] 2020-03-09 02:01:33,792 Parameters: cosmological_simulation   = 0.0\n"
     ]
    },
    {
     "name": "stdout",
     "output_type": "stream",
     "text": [
      "mixing_layer.out1.00169\n"
     ]
    },
    {
     "name": "stderr",
     "output_type": "stream",
     "text": [
      "yt : [WARNING  ] 2020-03-09 02:01:33,821 Assuming 1.0 = 1.0 cm\n",
      "yt : [WARNING  ] 2020-03-09 02:01:33,822 Assuming 1.0 = 1.0 s\n",
      "yt : [WARNING  ] 2020-03-09 02:01:33,823 Assuming 1.0 = 1.0 g\n",
      "yt : [WARNING  ] 2020-03-09 02:01:33,824 Assuming 1.0 = 1.0 K\n",
      "yt : [INFO     ] 2020-03-09 02:01:33,836 Parameters: current_time              = 320281762829106.06\n",
      "yt : [INFO     ] 2020-03-09 02:01:33,836 Parameters: domain_dimensions         = [256 640   1]\n",
      "yt : [INFO     ] 2020-03-09 02:01:33,837 Parameters: domain_left_edge          = [-1.5450e+19 -3.8625e+19 -5.0000e-01]\n",
      "yt : [INFO     ] 2020-03-09 02:01:33,838 Parameters: domain_right_edge         = [1.5450e+19 3.8625e+19 5.0000e-01]\n",
      "yt : [INFO     ] 2020-03-09 02:01:33,839 Parameters: cosmological_simulation   = 0.0\n"
     ]
    },
    {
     "name": "stdout",
     "output_type": "stream",
     "text": [
      "mixing_layer.out1.00170\n"
     ]
    },
    {
     "name": "stderr",
     "output_type": "stream",
     "text": [
      "yt : [WARNING  ] 2020-03-09 02:01:33,869 Assuming 1.0 = 1.0 cm\n",
      "yt : [WARNING  ] 2020-03-09 02:01:33,870 Assuming 1.0 = 1.0 s\n",
      "yt : [WARNING  ] 2020-03-09 02:01:33,872 Assuming 1.0 = 1.0 g\n",
      "yt : [WARNING  ] 2020-03-09 02:01:33,873 Assuming 1.0 = 1.0 K\n",
      "yt : [INFO     ] 2020-03-09 02:01:33,887 Parameters: current_time              = 322164529175911.56\n",
      "yt : [INFO     ] 2020-03-09 02:01:33,888 Parameters: domain_dimensions         = [256 640   1]\n",
      "yt : [INFO     ] 2020-03-09 02:01:33,889 Parameters: domain_left_edge          = [-1.5450e+19 -3.8625e+19 -5.0000e-01]\n",
      "yt : [INFO     ] 2020-03-09 02:01:33,889 Parameters: domain_right_edge         = [1.5450e+19 3.8625e+19 5.0000e-01]\n",
      "yt : [INFO     ] 2020-03-09 02:01:33,891 Parameters: cosmological_simulation   = 0.0\n"
     ]
    },
    {
     "name": "stdout",
     "output_type": "stream",
     "text": [
      "mixing_layer.out1.00171\n"
     ]
    },
    {
     "name": "stderr",
     "output_type": "stream",
     "text": [
      "yt : [WARNING  ] 2020-03-09 02:01:33,922 Assuming 1.0 = 1.0 cm\n",
      "yt : [WARNING  ] 2020-03-09 02:01:33,923 Assuming 1.0 = 1.0 s\n",
      "yt : [WARNING  ] 2020-03-09 02:01:33,924 Assuming 1.0 = 1.0 g\n",
      "yt : [WARNING  ] 2020-03-09 02:01:33,925 Assuming 1.0 = 1.0 K\n",
      "yt : [INFO     ] 2020-03-09 02:01:33,937 Parameters: current_time              = 324048257894064.0\n",
      "yt : [INFO     ] 2020-03-09 02:01:33,938 Parameters: domain_dimensions         = [256 640   1]\n",
      "yt : [INFO     ] 2020-03-09 02:01:33,939 Parameters: domain_left_edge          = [-1.5450e+19 -3.8625e+19 -5.0000e-01]\n",
      "yt : [INFO     ] 2020-03-09 02:01:33,940 Parameters: domain_right_edge         = [1.5450e+19 3.8625e+19 5.0000e-01]\n",
      "yt : [INFO     ] 2020-03-09 02:01:33,941 Parameters: cosmological_simulation   = 0.0\n"
     ]
    },
    {
     "name": "stdout",
     "output_type": "stream",
     "text": [
      "mixing_layer.out1.00172\n"
     ]
    },
    {
     "name": "stderr",
     "output_type": "stream",
     "text": [
      "yt : [WARNING  ] 2020-03-09 02:01:33,979 Assuming 1.0 = 1.0 cm\n",
      "yt : [WARNING  ] 2020-03-09 02:01:33,980 Assuming 1.0 = 1.0 s\n",
      "yt : [WARNING  ] 2020-03-09 02:01:33,981 Assuming 1.0 = 1.0 g\n",
      "yt : [WARNING  ] 2020-03-09 02:01:33,983 Assuming 1.0 = 1.0 K\n",
      "yt : [INFO     ] 2020-03-09 02:01:33,996 Parameters: current_time              = 325932274400733.7\n",
      "yt : [INFO     ] 2020-03-09 02:01:33,997 Parameters: domain_dimensions         = [256 640   1]\n",
      "yt : [INFO     ] 2020-03-09 02:01:33,998 Parameters: domain_left_edge          = [-1.5450e+19 -3.8625e+19 -5.0000e-01]\n",
      "yt : [INFO     ] 2020-03-09 02:01:34,000 Parameters: domain_right_edge         = [1.5450e+19 3.8625e+19 5.0000e-01]\n",
      "yt : [INFO     ] 2020-03-09 02:01:34,001 Parameters: cosmological_simulation   = 0.0\n"
     ]
    },
    {
     "name": "stdout",
     "output_type": "stream",
     "text": [
      "mixing_layer.out1.00173\n"
     ]
    },
    {
     "name": "stderr",
     "output_type": "stream",
     "text": [
      "yt : [WARNING  ] 2020-03-09 02:01:34,032 Assuming 1.0 = 1.0 cm\n",
      "yt : [WARNING  ] 2020-03-09 02:01:34,034 Assuming 1.0 = 1.0 s\n",
      "yt : [WARNING  ] 2020-03-09 02:01:34,035 Assuming 1.0 = 1.0 g\n",
      "yt : [WARNING  ] 2020-03-09 02:01:34,036 Assuming 1.0 = 1.0 K\n",
      "yt : [INFO     ] 2020-03-09 02:01:34,049 Parameters: current_time              = 327818335902897.4\n",
      "yt : [INFO     ] 2020-03-09 02:01:34,050 Parameters: domain_dimensions         = [256 640   1]\n",
      "yt : [INFO     ] 2020-03-09 02:01:34,051 Parameters: domain_left_edge          = [-1.5450e+19 -3.8625e+19 -5.0000e-01]\n",
      "yt : [INFO     ] 2020-03-09 02:01:34,052 Parameters: domain_right_edge         = [1.5450e+19 3.8625e+19 5.0000e-01]\n",
      "yt : [INFO     ] 2020-03-09 02:01:34,053 Parameters: cosmological_simulation   = 0.0\n"
     ]
    },
    {
     "name": "stdout",
     "output_type": "stream",
     "text": [
      "mixing_layer.out1.00174\n"
     ]
    },
    {
     "name": "stderr",
     "output_type": "stream",
     "text": [
      "yt : [WARNING  ] 2020-03-09 02:01:34,085 Assuming 1.0 = 1.0 cm\n",
      "yt : [WARNING  ] 2020-03-09 02:01:34,087 Assuming 1.0 = 1.0 s\n",
      "yt : [WARNING  ] 2020-03-09 02:01:34,088 Assuming 1.0 = 1.0 g\n",
      "yt : [WARNING  ] 2020-03-09 02:01:34,089 Assuming 1.0 = 1.0 K\n",
      "yt : [INFO     ] 2020-03-09 02:01:34,103 Parameters: current_time              = 329701956302508.9\n",
      "yt : [INFO     ] 2020-03-09 02:01:34,104 Parameters: domain_dimensions         = [256 640   1]\n",
      "yt : [INFO     ] 2020-03-09 02:01:34,105 Parameters: domain_left_edge          = [-1.5450e+19 -3.8625e+19 -5.0000e-01]\n",
      "yt : [INFO     ] 2020-03-09 02:01:34,106 Parameters: domain_right_edge         = [1.5450e+19 3.8625e+19 5.0000e-01]\n",
      "yt : [INFO     ] 2020-03-09 02:01:34,107 Parameters: cosmological_simulation   = 0.0\n"
     ]
    },
    {
     "name": "stdout",
     "output_type": "stream",
     "text": [
      "mixing_layer.out1.00175\n"
     ]
    },
    {
     "name": "stderr",
     "output_type": "stream",
     "text": [
      "yt : [WARNING  ] 2020-03-09 02:01:34,138 Assuming 1.0 = 1.0 cm\n",
      "yt : [WARNING  ] 2020-03-09 02:01:34,139 Assuming 1.0 = 1.0 s\n",
      "yt : [WARNING  ] 2020-03-09 02:01:34,140 Assuming 1.0 = 1.0 g\n",
      "yt : [WARNING  ] 2020-03-09 02:01:34,141 Assuming 1.0 = 1.0 K\n",
      "yt : [INFO     ] 2020-03-09 02:01:34,152 Parameters: current_time              = 331586755251577.7\n",
      "yt : [INFO     ] 2020-03-09 02:01:34,153 Parameters: domain_dimensions         = [256 640   1]\n",
      "yt : [INFO     ] 2020-03-09 02:01:34,154 Parameters: domain_left_edge          = [-1.5450e+19 -3.8625e+19 -5.0000e-01]\n",
      "yt : [INFO     ] 2020-03-09 02:01:34,156 Parameters: domain_right_edge         = [1.5450e+19 3.8625e+19 5.0000e-01]\n",
      "yt : [INFO     ] 2020-03-09 02:01:34,157 Parameters: cosmological_simulation   = 0.0\n"
     ]
    },
    {
     "name": "stdout",
     "output_type": "stream",
     "text": [
      "mixing_layer.out1.00176\n"
     ]
    },
    {
     "name": "stderr",
     "output_type": "stream",
     "text": [
      "yt : [WARNING  ] 2020-03-09 02:01:34,191 Assuming 1.0 = 1.0 cm\n",
      "yt : [WARNING  ] 2020-03-09 02:01:34,193 Assuming 1.0 = 1.0 s\n",
      "yt : [WARNING  ] 2020-03-09 02:01:34,194 Assuming 1.0 = 1.0 g\n",
      "yt : [WARNING  ] 2020-03-09 02:01:34,196 Assuming 1.0 = 1.0 K\n",
      "yt : [INFO     ] 2020-03-09 02:01:34,209 Parameters: current_time              = 333470441733259.0\n",
      "yt : [INFO     ] 2020-03-09 02:01:34,210 Parameters: domain_dimensions         = [256 640   1]\n",
      "yt : [INFO     ] 2020-03-09 02:01:34,211 Parameters: domain_left_edge          = [-1.5450e+19 -3.8625e+19 -5.0000e-01]\n",
      "yt : [INFO     ] 2020-03-09 02:01:34,212 Parameters: domain_right_edge         = [1.5450e+19 3.8625e+19 5.0000e-01]\n",
      "yt : [INFO     ] 2020-03-09 02:01:34,213 Parameters: cosmological_simulation   = 0.0\n"
     ]
    },
    {
     "name": "stdout",
     "output_type": "stream",
     "text": [
      "mixing_layer.out1.00177\n"
     ]
    },
    {
     "name": "stderr",
     "output_type": "stream",
     "text": [
      "yt : [WARNING  ] 2020-03-09 02:01:34,243 Assuming 1.0 = 1.0 cm\n",
      "yt : [WARNING  ] 2020-03-09 02:01:34,244 Assuming 1.0 = 1.0 s\n",
      "yt : [WARNING  ] 2020-03-09 02:01:34,245 Assuming 1.0 = 1.0 g\n",
      "yt : [WARNING  ] 2020-03-09 02:01:34,246 Assuming 1.0 = 1.0 K\n",
      "yt : [INFO     ] 2020-03-09 02:01:34,259 Parameters: current_time              = 335354581696399.3\n",
      "yt : [INFO     ] 2020-03-09 02:01:34,260 Parameters: domain_dimensions         = [256 640   1]\n",
      "yt : [INFO     ] 2020-03-09 02:01:34,261 Parameters: domain_left_edge          = [-1.5450e+19 -3.8625e+19 -5.0000e-01]\n",
      "yt : [INFO     ] 2020-03-09 02:01:34,262 Parameters: domain_right_edge         = [1.5450e+19 3.8625e+19 5.0000e-01]\n",
      "yt : [INFO     ] 2020-03-09 02:01:34,263 Parameters: cosmological_simulation   = 0.0\n"
     ]
    },
    {
     "name": "stdout",
     "output_type": "stream",
     "text": [
      "mixing_layer.out1.00178\n"
     ]
    },
    {
     "name": "stderr",
     "output_type": "stream",
     "text": [
      "yt : [WARNING  ] 2020-03-09 02:01:34,291 Assuming 1.0 = 1.0 cm\n",
      "yt : [WARNING  ] 2020-03-09 02:01:34,292 Assuming 1.0 = 1.0 s\n",
      "yt : [WARNING  ] 2020-03-09 02:01:34,293 Assuming 1.0 = 1.0 g\n",
      "yt : [WARNING  ] 2020-03-09 02:01:34,294 Assuming 1.0 = 1.0 K\n",
      "yt : [INFO     ] 2020-03-09 02:01:34,307 Parameters: current_time              = 337238650177876.4\n",
      "yt : [INFO     ] 2020-03-09 02:01:34,307 Parameters: domain_dimensions         = [256 640   1]\n",
      "yt : [INFO     ] 2020-03-09 02:01:34,308 Parameters: domain_left_edge          = [-1.5450e+19 -3.8625e+19 -5.0000e-01]\n",
      "yt : [INFO     ] 2020-03-09 02:01:34,309 Parameters: domain_right_edge         = [1.5450e+19 3.8625e+19 5.0000e-01]\n",
      "yt : [INFO     ] 2020-03-09 02:01:34,310 Parameters: cosmological_simulation   = 0.0\n"
     ]
    },
    {
     "name": "stdout",
     "output_type": "stream",
     "text": [
      "mixing_layer.out1.00179\n"
     ]
    },
    {
     "name": "stderr",
     "output_type": "stream",
     "text": [
      "yt : [WARNING  ] 2020-03-09 02:01:34,339 Assuming 1.0 = 1.0 cm\n",
      "yt : [WARNING  ] 2020-03-09 02:01:34,340 Assuming 1.0 = 1.0 s\n",
      "yt : [WARNING  ] 2020-03-09 02:01:34,341 Assuming 1.0 = 1.0 g\n",
      "yt : [WARNING  ] 2020-03-09 02:01:34,342 Assuming 1.0 = 1.0 K\n",
      "yt : [INFO     ] 2020-03-09 02:01:34,355 Parameters: current_time              = 339120821513699.8\n",
      "yt : [INFO     ] 2020-03-09 02:01:34,357 Parameters: domain_dimensions         = [256 640   1]\n",
      "yt : [INFO     ] 2020-03-09 02:01:34,357 Parameters: domain_left_edge          = [-1.5450e+19 -3.8625e+19 -5.0000e-01]\n",
      "yt : [INFO     ] 2020-03-09 02:01:34,358 Parameters: domain_right_edge         = [1.5450e+19 3.8625e+19 5.0000e-01]\n",
      "yt : [INFO     ] 2020-03-09 02:01:34,360 Parameters: cosmological_simulation   = 0.0\n"
     ]
    },
    {
     "name": "stdout",
     "output_type": "stream",
     "text": [
      "mixing_layer.out1.00180\n"
     ]
    },
    {
     "name": "stderr",
     "output_type": "stream",
     "text": [
      "yt : [WARNING  ] 2020-03-09 02:01:34,392 Assuming 1.0 = 1.0 cm\n",
      "yt : [WARNING  ] 2020-03-09 02:01:34,393 Assuming 1.0 = 1.0 s\n",
      "yt : [WARNING  ] 2020-03-09 02:01:34,394 Assuming 1.0 = 1.0 g\n",
      "yt : [WARNING  ] 2020-03-09 02:01:34,395 Assuming 1.0 = 1.0 K\n",
      "yt : [INFO     ] 2020-03-09 02:01:34,408 Parameters: current_time              = 341004837123885.9\n",
      "yt : [INFO     ] 2020-03-09 02:01:34,409 Parameters: domain_dimensions         = [256 640   1]\n",
      "yt : [INFO     ] 2020-03-09 02:01:34,410 Parameters: domain_left_edge          = [-1.5450e+19 -3.8625e+19 -5.0000e-01]\n",
      "yt : [INFO     ] 2020-03-09 02:01:34,410 Parameters: domain_right_edge         = [1.5450e+19 3.8625e+19 5.0000e-01]\n",
      "yt : [INFO     ] 2020-03-09 02:01:34,412 Parameters: cosmological_simulation   = 0.0\n"
     ]
    },
    {
     "name": "stdout",
     "output_type": "stream",
     "text": [
      "mixing_layer.out1.00181\n"
     ]
    },
    {
     "name": "stderr",
     "output_type": "stream",
     "text": [
      "yt : [WARNING  ] 2020-03-09 02:01:34,439 Assuming 1.0 = 1.0 cm\n",
      "yt : [WARNING  ] 2020-03-09 02:01:34,441 Assuming 1.0 = 1.0 s\n",
      "yt : [WARNING  ] 2020-03-09 02:01:34,441 Assuming 1.0 = 1.0 g\n",
      "yt : [WARNING  ] 2020-03-09 02:01:34,442 Assuming 1.0 = 1.0 K\n",
      "yt : [INFO     ] 2020-03-09 02:01:34,455 Parameters: current_time              = 342890556474279.3\n",
      "yt : [INFO     ] 2020-03-09 02:01:34,456 Parameters: domain_dimensions         = [256 640   1]\n",
      "yt : [INFO     ] 2020-03-09 02:01:34,456 Parameters: domain_left_edge          = [-1.5450e+19 -3.8625e+19 -5.0000e-01]\n",
      "yt : [INFO     ] 2020-03-09 02:01:34,457 Parameters: domain_right_edge         = [1.5450e+19 3.8625e+19 5.0000e-01]\n",
      "yt : [INFO     ] 2020-03-09 02:01:34,458 Parameters: cosmological_simulation   = 0.0\n"
     ]
    },
    {
     "name": "stdout",
     "output_type": "stream",
     "text": [
      "mixing_layer.out1.00182\n"
     ]
    },
    {
     "name": "stderr",
     "output_type": "stream",
     "text": [
      "yt : [WARNING  ] 2020-03-09 02:01:34,487 Assuming 1.0 = 1.0 cm\n",
      "yt : [WARNING  ] 2020-03-09 02:01:34,488 Assuming 1.0 = 1.0 s\n",
      "yt : [WARNING  ] 2020-03-09 02:01:34,489 Assuming 1.0 = 1.0 g\n",
      "yt : [WARNING  ] 2020-03-09 02:01:34,490 Assuming 1.0 = 1.0 K\n",
      "yt : [INFO     ] 2020-03-09 02:01:34,503 Parameters: current_time              = 344774662315801.44\n",
      "yt : [INFO     ] 2020-03-09 02:01:34,504 Parameters: domain_dimensions         = [256 640   1]\n",
      "yt : [INFO     ] 2020-03-09 02:01:34,504 Parameters: domain_left_edge          = [-1.5450e+19 -3.8625e+19 -5.0000e-01]\n",
      "yt : [INFO     ] 2020-03-09 02:01:34,505 Parameters: domain_right_edge         = [1.5450e+19 3.8625e+19 5.0000e-01]\n",
      "yt : [INFO     ] 2020-03-09 02:01:34,505 Parameters: cosmological_simulation   = 0.0\n"
     ]
    },
    {
     "name": "stdout",
     "output_type": "stream",
     "text": [
      "mixing_layer.out1.00183\n"
     ]
    },
    {
     "name": "stderr",
     "output_type": "stream",
     "text": [
      "yt : [WARNING  ] 2020-03-09 02:01:34,533 Assuming 1.0 = 1.0 cm\n",
      "yt : [WARNING  ] 2020-03-09 02:01:34,534 Assuming 1.0 = 1.0 s\n",
      "yt : [WARNING  ] 2020-03-09 02:01:34,535 Assuming 1.0 = 1.0 g\n",
      "yt : [WARNING  ] 2020-03-09 02:01:34,536 Assuming 1.0 = 1.0 K\n",
      "yt : [INFO     ] 2020-03-09 02:01:34,547 Parameters: current_time              = 346658687648131.56\n",
      "yt : [INFO     ] 2020-03-09 02:01:34,548 Parameters: domain_dimensions         = [256 640   1]\n",
      "yt : [INFO     ] 2020-03-09 02:01:34,549 Parameters: domain_left_edge          = [-1.5450e+19 -3.8625e+19 -5.0000e-01]\n",
      "yt : [INFO     ] 2020-03-09 02:01:34,550 Parameters: domain_right_edge         = [1.5450e+19 3.8625e+19 5.0000e-01]\n",
      "yt : [INFO     ] 2020-03-09 02:01:34,551 Parameters: cosmological_simulation   = 0.0\n"
     ]
    },
    {
     "name": "stdout",
     "output_type": "stream",
     "text": [
      "mixing_layer.out1.00184\n"
     ]
    },
    {
     "name": "stderr",
     "output_type": "stream",
     "text": [
      "yt : [WARNING  ] 2020-03-09 02:01:34,580 Assuming 1.0 = 1.0 cm\n",
      "yt : [WARNING  ] 2020-03-09 02:01:34,581 Assuming 1.0 = 1.0 s\n",
      "yt : [WARNING  ] 2020-03-09 02:01:34,582 Assuming 1.0 = 1.0 g\n",
      "yt : [WARNING  ] 2020-03-09 02:01:34,583 Assuming 1.0 = 1.0 K\n",
      "yt : [INFO     ] 2020-03-09 02:01:34,596 Parameters: current_time              = 348540017047116.44\n",
      "yt : [INFO     ] 2020-03-09 02:01:34,597 Parameters: domain_dimensions         = [256 640   1]\n",
      "yt : [INFO     ] 2020-03-09 02:01:34,598 Parameters: domain_left_edge          = [-1.5450e+19 -3.8625e+19 -5.0000e-01]\n",
      "yt : [INFO     ] 2020-03-09 02:01:34,599 Parameters: domain_right_edge         = [1.5450e+19 3.8625e+19 5.0000e-01]\n",
      "yt : [INFO     ] 2020-03-09 02:01:34,600 Parameters: cosmological_simulation   = 0.0\n"
     ]
    },
    {
     "name": "stdout",
     "output_type": "stream",
     "text": [
      "mixing_layer.out1.00185\n"
     ]
    },
    {
     "name": "stderr",
     "output_type": "stream",
     "text": [
      "yt : [WARNING  ] 2020-03-09 02:01:34,629 Assuming 1.0 = 1.0 cm\n",
      "yt : [WARNING  ] 2020-03-09 02:01:34,630 Assuming 1.0 = 1.0 s\n",
      "yt : [WARNING  ] 2020-03-09 02:01:34,630 Assuming 1.0 = 1.0 g\n",
      "yt : [WARNING  ] 2020-03-09 02:01:34,631 Assuming 1.0 = 1.0 K\n",
      "yt : [INFO     ] 2020-03-09 02:01:34,645 Parameters: current_time              = 350425065012756.4\n",
      "yt : [INFO     ] 2020-03-09 02:01:34,646 Parameters: domain_dimensions         = [256 640   1]\n",
      "yt : [INFO     ] 2020-03-09 02:01:34,647 Parameters: domain_left_edge          = [-1.5450e+19 -3.8625e+19 -5.0000e-01]\n",
      "yt : [INFO     ] 2020-03-09 02:01:34,647 Parameters: domain_right_edge         = [1.5450e+19 3.8625e+19 5.0000e-01]\n",
      "yt : [INFO     ] 2020-03-09 02:01:34,649 Parameters: cosmological_simulation   = 0.0\n"
     ]
    },
    {
     "name": "stdout",
     "output_type": "stream",
     "text": [
      "mixing_layer.out1.00186\n"
     ]
    },
    {
     "name": "stderr",
     "output_type": "stream",
     "text": [
      "yt : [WARNING  ] 2020-03-09 02:01:34,677 Assuming 1.0 = 1.0 cm\n",
      "yt : [WARNING  ] 2020-03-09 02:01:34,678 Assuming 1.0 = 1.0 s\n",
      "yt : [WARNING  ] 2020-03-09 02:01:34,679 Assuming 1.0 = 1.0 g\n",
      "yt : [WARNING  ] 2020-03-09 02:01:34,680 Assuming 1.0 = 1.0 K\n",
      "yt : [INFO     ] 2020-03-09 02:01:34,692 Parameters: current_time              = 352308843522863.56\n",
      "yt : [INFO     ] 2020-03-09 02:01:34,693 Parameters: domain_dimensions         = [256 640   1]\n",
      "yt : [INFO     ] 2020-03-09 02:01:34,693 Parameters: domain_left_edge          = [-1.5450e+19 -3.8625e+19 -5.0000e-01]\n",
      "yt : [INFO     ] 2020-03-09 02:01:34,695 Parameters: domain_right_edge         = [1.5450e+19 3.8625e+19 5.0000e-01]\n",
      "yt : [INFO     ] 2020-03-09 02:01:34,696 Parameters: cosmological_simulation   = 0.0\n"
     ]
    },
    {
     "name": "stdout",
     "output_type": "stream",
     "text": [
      "mixing_layer.out1.00187\n"
     ]
    },
    {
     "name": "stderr",
     "output_type": "stream",
     "text": [
      "yt : [WARNING  ] 2020-03-09 02:01:34,724 Assuming 1.0 = 1.0 cm\n",
      "yt : [WARNING  ] 2020-03-09 02:01:34,725 Assuming 1.0 = 1.0 s\n",
      "yt : [WARNING  ] 2020-03-09 02:01:34,726 Assuming 1.0 = 1.0 g\n",
      "yt : [WARNING  ] 2020-03-09 02:01:34,727 Assuming 1.0 = 1.0 K\n",
      "yt : [INFO     ] 2020-03-09 02:01:34,739 Parameters: current_time              = 354192704248975.0\n",
      "yt : [INFO     ] 2020-03-09 02:01:34,740 Parameters: domain_dimensions         = [256 640   1]\n",
      "yt : [INFO     ] 2020-03-09 02:01:34,740 Parameters: domain_left_edge          = [-1.5450e+19 -3.8625e+19 -5.0000e-01]\n",
      "yt : [INFO     ] 2020-03-09 02:01:34,741 Parameters: domain_right_edge         = [1.5450e+19 3.8625e+19 5.0000e-01]\n",
      "yt : [INFO     ] 2020-03-09 02:01:34,742 Parameters: cosmological_simulation   = 0.0\n"
     ]
    },
    {
     "name": "stdout",
     "output_type": "stream",
     "text": [
      "mixing_layer.out1.00188\n"
     ]
    },
    {
     "name": "stderr",
     "output_type": "stream",
     "text": [
      "yt : [WARNING  ] 2020-03-09 02:01:34,772 Assuming 1.0 = 1.0 cm\n",
      "yt : [WARNING  ] 2020-03-09 02:01:34,773 Assuming 1.0 = 1.0 s\n",
      "yt : [WARNING  ] 2020-03-09 02:01:34,774 Assuming 1.0 = 1.0 g\n",
      "yt : [WARNING  ] 2020-03-09 02:01:34,774 Assuming 1.0 = 1.0 K\n",
      "yt : [INFO     ] 2020-03-09 02:01:34,788 Parameters: current_time              = 356076956829987.6\n",
      "yt : [INFO     ] 2020-03-09 02:01:34,789 Parameters: domain_dimensions         = [256 640   1]\n",
      "yt : [INFO     ] 2020-03-09 02:01:34,790 Parameters: domain_left_edge          = [-1.5450e+19 -3.8625e+19 -5.0000e-01]\n",
      "yt : [INFO     ] 2020-03-09 02:01:34,791 Parameters: domain_right_edge         = [1.5450e+19 3.8625e+19 5.0000e-01]\n",
      "yt : [INFO     ] 2020-03-09 02:01:34,792 Parameters: cosmological_simulation   = 0.0\n"
     ]
    },
    {
     "name": "stdout",
     "output_type": "stream",
     "text": [
      "mixing_layer.out1.00189\n"
     ]
    },
    {
     "name": "stderr",
     "output_type": "stream",
     "text": [
      "yt : [WARNING  ] 2020-03-09 02:01:34,827 Assuming 1.0 = 1.0 cm\n",
      "yt : [WARNING  ] 2020-03-09 02:01:34,828 Assuming 1.0 = 1.0 s\n",
      "yt : [WARNING  ] 2020-03-09 02:01:34,829 Assuming 1.0 = 1.0 g\n",
      "yt : [WARNING  ] 2020-03-09 02:01:34,830 Assuming 1.0 = 1.0 K\n",
      "yt : [INFO     ] 2020-03-09 02:01:34,842 Parameters: current_time              = 357961551478553.0\n",
      "yt : [INFO     ] 2020-03-09 02:01:34,843 Parameters: domain_dimensions         = [256 640   1]\n",
      "yt : [INFO     ] 2020-03-09 02:01:34,844 Parameters: domain_left_edge          = [-1.5450e+19 -3.8625e+19 -5.0000e-01]\n",
      "yt : [INFO     ] 2020-03-09 02:01:34,846 Parameters: domain_right_edge         = [1.5450e+19 3.8625e+19 5.0000e-01]\n",
      "yt : [INFO     ] 2020-03-09 02:01:34,846 Parameters: cosmological_simulation   = 0.0\n"
     ]
    },
    {
     "name": "stdout",
     "output_type": "stream",
     "text": [
      "mixing_layer.out1.00190\n"
     ]
    },
    {
     "name": "stderr",
     "output_type": "stream",
     "text": [
      "yt : [WARNING  ] 2020-03-09 02:01:34,875 Assuming 1.0 = 1.0 cm\n",
      "yt : [WARNING  ] 2020-03-09 02:01:34,876 Assuming 1.0 = 1.0 s\n",
      "yt : [WARNING  ] 2020-03-09 02:01:34,877 Assuming 1.0 = 1.0 g\n",
      "yt : [WARNING  ] 2020-03-09 02:01:34,877 Assuming 1.0 = 1.0 K\n",
      "yt : [INFO     ] 2020-03-09 02:01:34,891 Parameters: current_time              = 359845025099159.94\n",
      "yt : [INFO     ] 2020-03-09 02:01:34,892 Parameters: domain_dimensions         = [256 640   1]\n",
      "yt : [INFO     ] 2020-03-09 02:01:34,893 Parameters: domain_left_edge          = [-1.5450e+19 -3.8625e+19 -5.0000e-01]\n",
      "yt : [INFO     ] 2020-03-09 02:01:34,894 Parameters: domain_right_edge         = [1.5450e+19 3.8625e+19 5.0000e-01]\n",
      "yt : [INFO     ] 2020-03-09 02:01:34,895 Parameters: cosmological_simulation   = 0.0\n"
     ]
    },
    {
     "name": "stdout",
     "output_type": "stream",
     "text": [
      "mixing_layer.out1.00191\n"
     ]
    },
    {
     "name": "stderr",
     "output_type": "stream",
     "text": [
      "yt : [WARNING  ] 2020-03-09 02:01:34,924 Assuming 1.0 = 1.0 cm\n",
      "yt : [WARNING  ] 2020-03-09 02:01:34,925 Assuming 1.0 = 1.0 s\n",
      "yt : [WARNING  ] 2020-03-09 02:01:34,926 Assuming 1.0 = 1.0 g\n",
      "yt : [WARNING  ] 2020-03-09 02:01:34,927 Assuming 1.0 = 1.0 K\n",
      "yt : [INFO     ] 2020-03-09 02:01:34,939 Parameters: current_time              = 361728599822577.25\n",
      "yt : [INFO     ] 2020-03-09 02:01:34,940 Parameters: domain_dimensions         = [256 640   1]\n",
      "yt : [INFO     ] 2020-03-09 02:01:34,941 Parameters: domain_left_edge          = [-1.5450e+19 -3.8625e+19 -5.0000e-01]\n",
      "yt : [INFO     ] 2020-03-09 02:01:34,942 Parameters: domain_right_edge         = [1.5450e+19 3.8625e+19 5.0000e-01]\n",
      "yt : [INFO     ] 2020-03-09 02:01:34,942 Parameters: cosmological_simulation   = 0.0\n"
     ]
    },
    {
     "name": "stdout",
     "output_type": "stream",
     "text": [
      "mixing_layer.out1.00192\n"
     ]
    },
    {
     "name": "stderr",
     "output_type": "stream",
     "text": [
      "yt : [WARNING  ] 2020-03-09 02:01:34,971 Assuming 1.0 = 1.0 cm\n",
      "yt : [WARNING  ] 2020-03-09 02:01:34,972 Assuming 1.0 = 1.0 s\n",
      "yt : [WARNING  ] 2020-03-09 02:01:34,973 Assuming 1.0 = 1.0 g\n",
      "yt : [WARNING  ] 2020-03-09 02:01:34,973 Assuming 1.0 = 1.0 K\n",
      "yt : [INFO     ] 2020-03-09 02:01:34,986 Parameters: current_time              = 363612668438178.6\n",
      "yt : [INFO     ] 2020-03-09 02:01:34,987 Parameters: domain_dimensions         = [256 640   1]\n",
      "yt : [INFO     ] 2020-03-09 02:01:34,988 Parameters: domain_left_edge          = [-1.5450e+19 -3.8625e+19 -5.0000e-01]\n",
      "yt : [INFO     ] 2020-03-09 02:01:34,989 Parameters: domain_right_edge         = [1.5450e+19 3.8625e+19 5.0000e-01]\n",
      "yt : [INFO     ] 2020-03-09 02:01:34,989 Parameters: cosmological_simulation   = 0.0\n"
     ]
    },
    {
     "name": "stdout",
     "output_type": "stream",
     "text": [
      "mixing_layer.out1.00193\n"
     ]
    },
    {
     "name": "stderr",
     "output_type": "stream",
     "text": [
      "yt : [WARNING  ] 2020-03-09 02:01:35,019 Assuming 1.0 = 1.0 cm\n",
      "yt : [WARNING  ] 2020-03-09 02:01:35,020 Assuming 1.0 = 1.0 s\n",
      "yt : [WARNING  ] 2020-03-09 02:01:35,021 Assuming 1.0 = 1.0 g\n",
      "yt : [WARNING  ] 2020-03-09 02:01:35,022 Assuming 1.0 = 1.0 K\n",
      "yt : [INFO     ] 2020-03-09 02:01:35,033 Parameters: current_time              = 365498548972703.3\n",
      "yt : [INFO     ] 2020-03-09 02:01:35,034 Parameters: domain_dimensions         = [256 640   1]\n",
      "yt : [INFO     ] 2020-03-09 02:01:35,035 Parameters: domain_left_edge          = [-1.5450e+19 -3.8625e+19 -5.0000e-01]\n",
      "yt : [INFO     ] 2020-03-09 02:01:35,036 Parameters: domain_right_edge         = [1.5450e+19 3.8625e+19 5.0000e-01]\n",
      "yt : [INFO     ] 2020-03-09 02:01:35,037 Parameters: cosmological_simulation   = 0.0\n"
     ]
    },
    {
     "name": "stdout",
     "output_type": "stream",
     "text": [
      "mixing_layer.out1.00194\n"
     ]
    },
    {
     "name": "stderr",
     "output_type": "stream",
     "text": [
      "yt : [WARNING  ] 2020-03-09 02:01:35,066 Assuming 1.0 = 1.0 cm\n",
      "yt : [WARNING  ] 2020-03-09 02:01:35,068 Assuming 1.0 = 1.0 s\n",
      "yt : [WARNING  ] 2020-03-09 02:01:35,068 Assuming 1.0 = 1.0 g\n",
      "yt : [WARNING  ] 2020-03-09 02:01:35,070 Assuming 1.0 = 1.0 K\n",
      "yt : [INFO     ] 2020-03-09 02:01:35,081 Parameters: current_time              = 367382518548304.0\n",
      "yt : [INFO     ] 2020-03-09 02:01:35,082 Parameters: domain_dimensions         = [256 640   1]\n",
      "yt : [INFO     ] 2020-03-09 02:01:35,083 Parameters: domain_left_edge          = [-1.5450e+19 -3.8625e+19 -5.0000e-01]\n",
      "yt : [INFO     ] 2020-03-09 02:01:35,084 Parameters: domain_right_edge         = [1.5450e+19 3.8625e+19 5.0000e-01]\n",
      "yt : [INFO     ] 2020-03-09 02:01:35,085 Parameters: cosmological_simulation   = 0.0\n"
     ]
    },
    {
     "name": "stdout",
     "output_type": "stream",
     "text": [
      "mixing_layer.out1.00195\n"
     ]
    },
    {
     "name": "stderr",
     "output_type": "stream",
     "text": [
      "yt : [WARNING  ] 2020-03-09 02:01:35,112 Assuming 1.0 = 1.0 cm\n",
      "yt : [WARNING  ] 2020-03-09 02:01:35,113 Assuming 1.0 = 1.0 s\n",
      "yt : [WARNING  ] 2020-03-09 02:01:35,114 Assuming 1.0 = 1.0 g\n",
      "yt : [WARNING  ] 2020-03-09 02:01:35,114 Assuming 1.0 = 1.0 K\n",
      "yt : [INFO     ] 2020-03-09 02:01:35,128 Parameters: current_time              = 369266091133340.4\n",
      "yt : [INFO     ] 2020-03-09 02:01:35,129 Parameters: domain_dimensions         = [256 640   1]\n",
      "yt : [INFO     ] 2020-03-09 02:01:35,130 Parameters: domain_left_edge          = [-1.5450e+19 -3.8625e+19 -5.0000e-01]\n",
      "yt : [INFO     ] 2020-03-09 02:01:35,131 Parameters: domain_right_edge         = [1.5450e+19 3.8625e+19 5.0000e-01]\n",
      "yt : [INFO     ] 2020-03-09 02:01:35,132 Parameters: cosmological_simulation   = 0.0\n"
     ]
    },
    {
     "name": "stdout",
     "output_type": "stream",
     "text": [
      "mixing_layer.out1.00196\n"
     ]
    },
    {
     "name": "stderr",
     "output_type": "stream",
     "text": [
      "yt : [WARNING  ] 2020-03-09 02:01:35,160 Assuming 1.0 = 1.0 cm\n",
      "yt : [WARNING  ] 2020-03-09 02:01:35,162 Assuming 1.0 = 1.0 s\n",
      "yt : [WARNING  ] 2020-03-09 02:01:35,163 Assuming 1.0 = 1.0 g\n",
      "yt : [WARNING  ] 2020-03-09 02:01:35,164 Assuming 1.0 = 1.0 K\n",
      "yt : [INFO     ] 2020-03-09 02:01:35,175 Parameters: current_time              = 371149136476474.75\n",
      "yt : [INFO     ] 2020-03-09 02:01:35,176 Parameters: domain_dimensions         = [256 640   1]\n",
      "yt : [INFO     ] 2020-03-09 02:01:35,177 Parameters: domain_left_edge          = [-1.5450e+19 -3.8625e+19 -5.0000e-01]\n",
      "yt : [INFO     ] 2020-03-09 02:01:35,178 Parameters: domain_right_edge         = [1.5450e+19 3.8625e+19 5.0000e-01]\n",
      "yt : [INFO     ] 2020-03-09 02:01:35,179 Parameters: cosmological_simulation   = 0.0\n"
     ]
    },
    {
     "name": "stdout",
     "output_type": "stream",
     "text": [
      "mixing_layer.out1.00197\n"
     ]
    },
    {
     "name": "stderr",
     "output_type": "stream",
     "text": [
      "yt : [WARNING  ] 2020-03-09 02:01:35,210 Assuming 1.0 = 1.0 cm\n",
      "yt : [WARNING  ] 2020-03-09 02:01:35,211 Assuming 1.0 = 1.0 s\n",
      "yt : [WARNING  ] 2020-03-09 02:01:35,212 Assuming 1.0 = 1.0 g\n",
      "yt : [WARNING  ] 2020-03-09 02:01:35,214 Assuming 1.0 = 1.0 K\n",
      "yt : [INFO     ] 2020-03-09 02:01:35,226 Parameters: current_time              = 373033312993202.44\n",
      "yt : [INFO     ] 2020-03-09 02:01:35,227 Parameters: domain_dimensions         = [256 640   1]\n",
      "yt : [INFO     ] 2020-03-09 02:01:35,228 Parameters: domain_left_edge          = [-1.5450e+19 -3.8625e+19 -5.0000e-01]\n",
      "yt : [INFO     ] 2020-03-09 02:01:35,229 Parameters: domain_right_edge         = [1.5450e+19 3.8625e+19 5.0000e-01]\n",
      "yt : [INFO     ] 2020-03-09 02:01:35,230 Parameters: cosmological_simulation   = 0.0\n"
     ]
    },
    {
     "name": "stdout",
     "output_type": "stream",
     "text": [
      "mixing_layer.out1.00198\n"
     ]
    },
    {
     "name": "stderr",
     "output_type": "stream",
     "text": [
      "yt : [WARNING  ] 2020-03-09 02:01:35,261 Assuming 1.0 = 1.0 cm\n",
      "yt : [WARNING  ] 2020-03-09 02:01:35,262 Assuming 1.0 = 1.0 s\n",
      "yt : [WARNING  ] 2020-03-09 02:01:35,263 Assuming 1.0 = 1.0 g\n",
      "yt : [WARNING  ] 2020-03-09 02:01:35,263 Assuming 1.0 = 1.0 K\n",
      "yt : [INFO     ] 2020-03-09 02:01:35,276 Parameters: current_time              = 374916153278972.1\n",
      "yt : [INFO     ] 2020-03-09 02:01:35,277 Parameters: domain_dimensions         = [256 640   1]\n",
      "yt : [INFO     ] 2020-03-09 02:01:35,277 Parameters: domain_left_edge          = [-1.5450e+19 -3.8625e+19 -5.0000e-01]\n",
      "yt : [INFO     ] 2020-03-09 02:01:35,279 Parameters: domain_right_edge         = [1.5450e+19 3.8625e+19 5.0000e-01]\n",
      "yt : [INFO     ] 2020-03-09 02:01:35,280 Parameters: cosmological_simulation   = 0.0\n"
     ]
    },
    {
     "name": "stdout",
     "output_type": "stream",
     "text": [
      "mixing_layer.out1.00199\n"
     ]
    },
    {
     "name": "stderr",
     "output_type": "stream",
     "text": [
      "yt : [WARNING  ] 2020-03-09 02:01:35,310 Assuming 1.0 = 1.0 cm\n",
      "yt : [WARNING  ] 2020-03-09 02:01:35,311 Assuming 1.0 = 1.0 s\n",
      "yt : [WARNING  ] 2020-03-09 02:01:35,312 Assuming 1.0 = 1.0 g\n",
      "yt : [WARNING  ] 2020-03-09 02:01:35,312 Assuming 1.0 = 1.0 K\n",
      "yt : [INFO     ] 2020-03-09 02:01:35,325 Parameters: current_time              = 376801212447760.6\n",
      "yt : [INFO     ] 2020-03-09 02:01:35,327 Parameters: domain_dimensions         = [256 640   1]\n",
      "yt : [INFO     ] 2020-03-09 02:01:35,328 Parameters: domain_left_edge          = [-1.5450e+19 -3.8625e+19 -5.0000e-01]\n",
      "yt : [INFO     ] 2020-03-09 02:01:35,329 Parameters: domain_right_edge         = [1.5450e+19 3.8625e+19 5.0000e-01]\n",
      "yt : [INFO     ] 2020-03-09 02:01:35,330 Parameters: cosmological_simulation   = 0.0\n"
     ]
    },
    {
     "name": "stdout",
     "output_type": "stream",
     "text": [
      "mixing_layer.out1.00200\n"
     ]
    },
    {
     "name": "stderr",
     "output_type": "stream",
     "text": [
      "yt : [WARNING  ] 2020-03-09 02:01:35,359 Assuming 1.0 = 1.0 cm\n",
      "yt : [WARNING  ] 2020-03-09 02:01:35,360 Assuming 1.0 = 1.0 s\n",
      "yt : [WARNING  ] 2020-03-09 02:01:35,361 Assuming 1.0 = 1.0 g\n",
      "yt : [WARNING  ] 2020-03-09 02:01:35,362 Assuming 1.0 = 1.0 K\n",
      "yt : [INFO     ] 2020-03-09 02:01:35,374 Parameters: current_time              = 378684928529723.0\n",
      "yt : [INFO     ] 2020-03-09 02:01:35,375 Parameters: domain_dimensions         = [256 640   1]\n",
      "yt : [INFO     ] 2020-03-09 02:01:35,376 Parameters: domain_left_edge          = [-1.5450e+19 -3.8625e+19 -5.0000e-01]\n",
      "yt : [INFO     ] 2020-03-09 02:01:35,377 Parameters: domain_right_edge         = [1.5450e+19 3.8625e+19 5.0000e-01]\n",
      "yt : [INFO     ] 2020-03-09 02:01:35,378 Parameters: cosmological_simulation   = 0.0\n"
     ]
    },
    {
     "name": "stdout",
     "output_type": "stream",
     "text": [
      "mixing_layer.out1.00201\n"
     ]
    },
    {
     "name": "stderr",
     "output_type": "stream",
     "text": [
      "yt : [WARNING  ] 2020-03-09 02:01:35,409 Assuming 1.0 = 1.0 cm\n",
      "yt : [WARNING  ] 2020-03-09 02:01:35,410 Assuming 1.0 = 1.0 s\n",
      "yt : [WARNING  ] 2020-03-09 02:01:35,411 Assuming 1.0 = 1.0 g\n",
      "yt : [WARNING  ] 2020-03-09 02:01:35,412 Assuming 1.0 = 1.0 K\n",
      "yt : [INFO     ] 2020-03-09 02:01:35,425 Parameters: current_time              = 380569405569335.9\n",
      "yt : [INFO     ] 2020-03-09 02:01:35,426 Parameters: domain_dimensions         = [256 640   1]\n",
      "yt : [INFO     ] 2020-03-09 02:01:35,427 Parameters: domain_left_edge          = [-1.5450e+19 -3.8625e+19 -5.0000e-01]\n",
      "yt : [INFO     ] 2020-03-09 02:01:35,428 Parameters: domain_right_edge         = [1.5450e+19 3.8625e+19 5.0000e-01]\n",
      "yt : [INFO     ] 2020-03-09 02:01:35,429 Parameters: cosmological_simulation   = 0.0\n"
     ]
    },
    {
     "name": "stdout",
     "output_type": "stream",
     "text": [
      "mixing_layer.out1.00202\n"
     ]
    },
    {
     "name": "stderr",
     "output_type": "stream",
     "text": [
      "yt : [WARNING  ] 2020-03-09 02:01:35,461 Assuming 1.0 = 1.0 cm\n",
      "yt : [WARNING  ] 2020-03-09 02:01:35,462 Assuming 1.0 = 1.0 s\n",
      "yt : [WARNING  ] 2020-03-09 02:01:35,463 Assuming 1.0 = 1.0 g\n",
      "yt : [WARNING  ] 2020-03-09 02:01:35,464 Assuming 1.0 = 1.0 K\n",
      "yt : [INFO     ] 2020-03-09 02:01:35,478 Parameters: current_time              = 382453477740698.5\n",
      "yt : [INFO     ] 2020-03-09 02:01:35,479 Parameters: domain_dimensions         = [256 640   1]\n",
      "yt : [INFO     ] 2020-03-09 02:01:35,480 Parameters: domain_left_edge          = [-1.5450e+19 -3.8625e+19 -5.0000e-01]\n",
      "yt : [INFO     ] 2020-03-09 02:01:35,482 Parameters: domain_right_edge         = [1.5450e+19 3.8625e+19 5.0000e-01]\n",
      "yt : [INFO     ] 2020-03-09 02:01:35,483 Parameters: cosmological_simulation   = 0.0\n"
     ]
    },
    {
     "name": "stdout",
     "output_type": "stream",
     "text": [
      "mixing_layer.out1.00203\n"
     ]
    },
    {
     "name": "stderr",
     "output_type": "stream",
     "text": [
      "yt : [WARNING  ] 2020-03-09 02:01:35,514 Assuming 1.0 = 1.0 cm\n",
      "yt : [WARNING  ] 2020-03-09 02:01:35,515 Assuming 1.0 = 1.0 s\n",
      "yt : [WARNING  ] 2020-03-09 02:01:35,517 Assuming 1.0 = 1.0 g\n",
      "yt : [WARNING  ] 2020-03-09 02:01:35,518 Assuming 1.0 = 1.0 K\n",
      "yt : [INFO     ] 2020-03-09 02:01:35,529 Parameters: current_time              = 384338216222504.94\n",
      "yt : [INFO     ] 2020-03-09 02:01:35,530 Parameters: domain_dimensions         = [256 640   1]\n",
      "yt : [INFO     ] 2020-03-09 02:01:35,530 Parameters: domain_left_edge          = [-1.5450e+19 -3.8625e+19 -5.0000e-01]\n",
      "yt : [INFO     ] 2020-03-09 02:01:35,532 Parameters: domain_right_edge         = [1.5450e+19 3.8625e+19 5.0000e-01]\n",
      "yt : [INFO     ] 2020-03-09 02:01:35,533 Parameters: cosmological_simulation   = 0.0\n"
     ]
    },
    {
     "name": "stdout",
     "output_type": "stream",
     "text": [
      "mixing_layer.out1.00204\n"
     ]
    },
    {
     "name": "stderr",
     "output_type": "stream",
     "text": [
      "yt : [WARNING  ] 2020-03-09 02:01:35,563 Assuming 1.0 = 1.0 cm\n",
      "yt : [WARNING  ] 2020-03-09 02:01:35,564 Assuming 1.0 = 1.0 s\n",
      "yt : [WARNING  ] 2020-03-09 02:01:35,566 Assuming 1.0 = 1.0 g\n",
      "yt : [WARNING  ] 2020-03-09 02:01:35,567 Assuming 1.0 = 1.0 K\n",
      "yt : [INFO     ] 2020-03-09 02:01:35,578 Parameters: current_time              = 386222033842277.4\n",
      "yt : [INFO     ] 2020-03-09 02:01:35,578 Parameters: domain_dimensions         = [256 640   1]\n",
      "yt : [INFO     ] 2020-03-09 02:01:35,579 Parameters: domain_left_edge          = [-1.5450e+19 -3.8625e+19 -5.0000e-01]\n",
      "yt : [INFO     ] 2020-03-09 02:01:35,580 Parameters: domain_right_edge         = [1.5450e+19 3.8625e+19 5.0000e-01]\n",
      "yt : [INFO     ] 2020-03-09 02:01:35,581 Parameters: cosmological_simulation   = 0.0\n"
     ]
    },
    {
     "name": "stdout",
     "output_type": "stream",
     "text": [
      "mixing_layer.out1.00205\n"
     ]
    },
    {
     "name": "stderr",
     "output_type": "stream",
     "text": [
      "yt : [WARNING  ] 2020-03-09 02:01:35,610 Assuming 1.0 = 1.0 cm\n",
      "yt : [WARNING  ] 2020-03-09 02:01:35,611 Assuming 1.0 = 1.0 s\n",
      "yt : [WARNING  ] 2020-03-09 02:01:35,612 Assuming 1.0 = 1.0 g\n",
      "yt : [WARNING  ] 2020-03-09 02:01:35,613 Assuming 1.0 = 1.0 K\n",
      "yt : [INFO     ] 2020-03-09 02:01:35,626 Parameters: current_time              = 388105376828968.3\n",
      "yt : [INFO     ] 2020-03-09 02:01:35,627 Parameters: domain_dimensions         = [256 640   1]\n",
      "yt : [INFO     ] 2020-03-09 02:01:35,629 Parameters: domain_left_edge          = [-1.5450e+19 -3.8625e+19 -5.0000e-01]\n",
      "yt : [INFO     ] 2020-03-09 02:01:35,630 Parameters: domain_right_edge         = [1.5450e+19 3.8625e+19 5.0000e-01]\n",
      "yt : [INFO     ] 2020-03-09 02:01:35,631 Parameters: cosmological_simulation   = 0.0\n"
     ]
    },
    {
     "name": "stdout",
     "output_type": "stream",
     "text": [
      "mixing_layer.out1.00206\n"
     ]
    },
    {
     "name": "stderr",
     "output_type": "stream",
     "text": [
      "yt : [WARNING  ] 2020-03-09 02:01:35,661 Assuming 1.0 = 1.0 cm\n",
      "yt : [WARNING  ] 2020-03-09 02:01:35,662 Assuming 1.0 = 1.0 s\n",
      "yt : [WARNING  ] 2020-03-09 02:01:35,663 Assuming 1.0 = 1.0 g\n",
      "yt : [WARNING  ] 2020-03-09 02:01:35,664 Assuming 1.0 = 1.0 K\n",
      "yt : [INFO     ] 2020-03-09 02:01:35,678 Parameters: current_time              = 389989803153809.7\n",
      "yt : [INFO     ] 2020-03-09 02:01:35,680 Parameters: domain_dimensions         = [256 640   1]\n",
      "yt : [INFO     ] 2020-03-09 02:01:35,680 Parameters: domain_left_edge          = [-1.5450e+19 -3.8625e+19 -5.0000e-01]\n",
      "yt : [INFO     ] 2020-03-09 02:01:35,681 Parameters: domain_right_edge         = [1.5450e+19 3.8625e+19 5.0000e-01]\n",
      "yt : [INFO     ] 2020-03-09 02:01:35,682 Parameters: cosmological_simulation   = 0.0\n"
     ]
    },
    {
     "name": "stdout",
     "output_type": "stream",
     "text": [
      "mixing_layer.out1.00207\n"
     ]
    },
    {
     "name": "stderr",
     "output_type": "stream",
     "text": [
      "yt : [WARNING  ] 2020-03-09 02:01:35,711 Assuming 1.0 = 1.0 cm\n",
      "yt : [WARNING  ] 2020-03-09 02:01:35,712 Assuming 1.0 = 1.0 s\n",
      "yt : [WARNING  ] 2020-03-09 02:01:35,713 Assuming 1.0 = 1.0 g\n",
      "yt : [WARNING  ] 2020-03-09 02:01:35,714 Assuming 1.0 = 1.0 K\n",
      "yt : [INFO     ] 2020-03-09 02:01:35,727 Parameters: current_time              = 391873907364833.8\n",
      "yt : [INFO     ] 2020-03-09 02:01:35,728 Parameters: domain_dimensions         = [256 640   1]\n",
      "yt : [INFO     ] 2020-03-09 02:01:35,728 Parameters: domain_left_edge          = [-1.5450e+19 -3.8625e+19 -5.0000e-01]\n",
      "yt : [INFO     ] 2020-03-09 02:01:35,730 Parameters: domain_right_edge         = [1.5450e+19 3.8625e+19 5.0000e-01]\n",
      "yt : [INFO     ] 2020-03-09 02:01:35,731 Parameters: cosmological_simulation   = 0.0\n"
     ]
    },
    {
     "name": "stdout",
     "output_type": "stream",
     "text": [
      "mixing_layer.out1.00208\n"
     ]
    },
    {
     "name": "stderr",
     "output_type": "stream",
     "text": [
      "yt : [WARNING  ] 2020-03-09 02:01:35,759 Assuming 1.0 = 1.0 cm\n",
      "yt : [WARNING  ] 2020-03-09 02:01:35,761 Assuming 1.0 = 1.0 s\n",
      "yt : [WARNING  ] 2020-03-09 02:01:35,761 Assuming 1.0 = 1.0 g\n",
      "yt : [WARNING  ] 2020-03-09 02:01:35,762 Assuming 1.0 = 1.0 K\n",
      "yt : [INFO     ] 2020-03-09 02:01:35,775 Parameters: current_time              = 393757973194545.44\n",
      "yt : [INFO     ] 2020-03-09 02:01:35,776 Parameters: domain_dimensions         = [256 640   1]\n",
      "yt : [INFO     ] 2020-03-09 02:01:35,777 Parameters: domain_left_edge          = [-1.5450e+19 -3.8625e+19 -5.0000e-01]\n",
      "yt : [INFO     ] 2020-03-09 02:01:35,778 Parameters: domain_right_edge         = [1.5450e+19 3.8625e+19 5.0000e-01]\n",
      "yt : [INFO     ] 2020-03-09 02:01:35,779 Parameters: cosmological_simulation   = 0.0\n"
     ]
    },
    {
     "name": "stdout",
     "output_type": "stream",
     "text": [
      "mixing_layer.out1.00209\n"
     ]
    },
    {
     "name": "stderr",
     "output_type": "stream",
     "text": [
      "yt : [WARNING  ] 2020-03-09 02:01:35,813 Assuming 1.0 = 1.0 cm\n",
      "yt : [WARNING  ] 2020-03-09 02:01:35,815 Assuming 1.0 = 1.0 s\n",
      "yt : [WARNING  ] 2020-03-09 02:01:35,816 Assuming 1.0 = 1.0 g\n",
      "yt : [WARNING  ] 2020-03-09 02:01:35,817 Assuming 1.0 = 1.0 K\n",
      "yt : [INFO     ] 2020-03-09 02:01:35,830 Parameters: current_time              = 395641387680435.75\n",
      "yt : [INFO     ] 2020-03-09 02:01:35,830 Parameters: domain_dimensions         = [256 640   1]\n",
      "yt : [INFO     ] 2020-03-09 02:01:35,831 Parameters: domain_left_edge          = [-1.5450e+19 -3.8625e+19 -5.0000e-01]\n",
      "yt : [INFO     ] 2020-03-09 02:01:35,832 Parameters: domain_right_edge         = [1.5450e+19 3.8625e+19 5.0000e-01]\n",
      "yt : [INFO     ] 2020-03-09 02:01:35,833 Parameters: cosmological_simulation   = 0.0\n"
     ]
    },
    {
     "name": "stdout",
     "output_type": "stream",
     "text": [
      "mixing_layer.out1.00210\n"
     ]
    },
    {
     "name": "stderr",
     "output_type": "stream",
     "text": [
      "yt : [WARNING  ] 2020-03-09 02:01:35,861 Assuming 1.0 = 1.0 cm\n",
      "yt : [WARNING  ] 2020-03-09 02:01:35,863 Assuming 1.0 = 1.0 s\n",
      "yt : [WARNING  ] 2020-03-09 02:01:35,863 Assuming 1.0 = 1.0 g\n",
      "yt : [WARNING  ] 2020-03-09 02:01:35,864 Assuming 1.0 = 1.0 K\n",
      "yt : [INFO     ] 2020-03-09 02:01:35,891 Parameters: current_time              = 397526453443438.8\n",
      "yt : [INFO     ] 2020-03-09 02:01:35,892 Parameters: domain_dimensions         = [256 640   1]\n",
      "yt : [INFO     ] 2020-03-09 02:01:35,894 Parameters: domain_left_edge          = [-1.5450e+19 -3.8625e+19 -5.0000e-01]\n",
      "yt : [INFO     ] 2020-03-09 02:01:35,895 Parameters: domain_right_edge         = [1.5450e+19 3.8625e+19 5.0000e-01]\n",
      "yt : [INFO     ] 2020-03-09 02:01:35,896 Parameters: cosmological_simulation   = 0.0\n"
     ]
    },
    {
     "name": "stdout",
     "output_type": "stream",
     "text": [
      "mixing_layer.out1.00211\n"
     ]
    },
    {
     "name": "stderr",
     "output_type": "stream",
     "text": [
      "yt : [WARNING  ] 2020-03-09 02:01:35,924 Assuming 1.0 = 1.0 cm\n",
      "yt : [WARNING  ] 2020-03-09 02:01:35,925 Assuming 1.0 = 1.0 s\n",
      "yt : [WARNING  ] 2020-03-09 02:01:35,926 Assuming 1.0 = 1.0 g\n",
      "yt : [WARNING  ] 2020-03-09 02:01:35,927 Assuming 1.0 = 1.0 K\n",
      "yt : [INFO     ] 2020-03-09 02:01:35,938 Parameters: current_time              = 399408783362880.1\n",
      "yt : [INFO     ] 2020-03-09 02:01:35,939 Parameters: domain_dimensions         = [256 640   1]\n",
      "yt : [INFO     ] 2020-03-09 02:01:35,940 Parameters: domain_left_edge          = [-1.5450e+19 -3.8625e+19 -5.0000e-01]\n",
      "yt : [INFO     ] 2020-03-09 02:01:35,941 Parameters: domain_right_edge         = [1.5450e+19 3.8625e+19 5.0000e-01]\n",
      "yt : [INFO     ] 2020-03-09 02:01:35,942 Parameters: cosmological_simulation   = 0.0\n"
     ]
    },
    {
     "name": "stdout",
     "output_type": "stream",
     "text": [
      "mixing_layer.out1.00212\n"
     ]
    },
    {
     "name": "stderr",
     "output_type": "stream",
     "text": [
      "yt : [WARNING  ] 2020-03-09 02:01:35,972 Assuming 1.0 = 1.0 cm\n",
      "yt : [WARNING  ] 2020-03-09 02:01:35,973 Assuming 1.0 = 1.0 s\n",
      "yt : [WARNING  ] 2020-03-09 02:01:35,974 Assuming 1.0 = 1.0 g\n",
      "yt : [WARNING  ] 2020-03-09 02:01:35,975 Assuming 1.0 = 1.0 K\n",
      "yt : [INFO     ] 2020-03-09 02:01:35,987 Parameters: current_time              = 401293368331276.0\n",
      "yt : [INFO     ] 2020-03-09 02:01:35,988 Parameters: domain_dimensions         = [256 640   1]\n",
      "yt : [INFO     ] 2020-03-09 02:01:35,989 Parameters: domain_left_edge          = [-1.5450e+19 -3.8625e+19 -5.0000e-01]\n",
      "yt : [INFO     ] 2020-03-09 02:01:35,990 Parameters: domain_right_edge         = [1.5450e+19 3.8625e+19 5.0000e-01]\n",
      "yt : [INFO     ] 2020-03-09 02:01:35,991 Parameters: cosmological_simulation   = 0.0\n"
     ]
    },
    {
     "name": "stdout",
     "output_type": "stream",
     "text": [
      "mixing_layer.out1.00213\n"
     ]
    },
    {
     "name": "stderr",
     "output_type": "stream",
     "text": [
      "yt : [WARNING  ] 2020-03-09 02:01:36,024 Assuming 1.0 = 1.0 cm\n",
      "yt : [WARNING  ] 2020-03-09 02:01:36,025 Assuming 1.0 = 1.0 s\n",
      "yt : [WARNING  ] 2020-03-09 02:01:36,026 Assuming 1.0 = 1.0 g\n",
      "yt : [WARNING  ] 2020-03-09 02:01:36,027 Assuming 1.0 = 1.0 K\n",
      "yt : [INFO     ] 2020-03-09 02:01:36,039 Parameters: current_time              = 403178210489765.9\n",
      "yt : [INFO     ] 2020-03-09 02:01:36,040 Parameters: domain_dimensions         = [256 640   1]\n",
      "yt : [INFO     ] 2020-03-09 02:01:36,040 Parameters: domain_left_edge          = [-1.5450e+19 -3.8625e+19 -5.0000e-01]\n",
      "yt : [INFO     ] 2020-03-09 02:01:36,041 Parameters: domain_right_edge         = [1.5450e+19 3.8625e+19 5.0000e-01]\n",
      "yt : [INFO     ] 2020-03-09 02:01:36,042 Parameters: cosmological_simulation   = 0.0\n"
     ]
    },
    {
     "name": "stdout",
     "output_type": "stream",
     "text": [
      "mixing_layer.out1.00214\n"
     ]
    },
    {
     "name": "stderr",
     "output_type": "stream",
     "text": [
      "yt : [WARNING  ] 2020-03-09 02:01:36,071 Assuming 1.0 = 1.0 cm\n",
      "yt : [WARNING  ] 2020-03-09 02:01:36,072 Assuming 1.0 = 1.0 s\n",
      "yt : [WARNING  ] 2020-03-09 02:01:36,073 Assuming 1.0 = 1.0 g\n",
      "yt : [WARNING  ] 2020-03-09 02:01:36,074 Assuming 1.0 = 1.0 K\n",
      "yt : [INFO     ] 2020-03-09 02:01:36,089 Parameters: current_time              = 405060807412100.9\n",
      "yt : [INFO     ] 2020-03-09 02:01:36,090 Parameters: domain_dimensions         = [256 640   1]\n",
      "yt : [INFO     ] 2020-03-09 02:01:36,091 Parameters: domain_left_edge          = [-1.5450e+19 -3.8625e+19 -5.0000e-01]\n",
      "yt : [INFO     ] 2020-03-09 02:01:36,092 Parameters: domain_right_edge         = [1.5450e+19 3.8625e+19 5.0000e-01]\n",
      "yt : [INFO     ] 2020-03-09 02:01:36,093 Parameters: cosmological_simulation   = 0.0\n"
     ]
    },
    {
     "name": "stdout",
     "output_type": "stream",
     "text": [
      "mixing_layer.out1.00215\n"
     ]
    },
    {
     "name": "stderr",
     "output_type": "stream",
     "text": [
      "yt : [WARNING  ] 2020-03-09 02:01:36,121 Assuming 1.0 = 1.0 cm\n",
      "yt : [WARNING  ] 2020-03-09 02:01:36,122 Assuming 1.0 = 1.0 s\n",
      "yt : [WARNING  ] 2020-03-09 02:01:36,123 Assuming 1.0 = 1.0 g\n",
      "yt : [WARNING  ] 2020-03-09 02:01:36,124 Assuming 1.0 = 1.0 K\n",
      "yt : [INFO     ] 2020-03-09 02:01:36,136 Parameters: current_time              = 406946581895175.44\n",
      "yt : [INFO     ] 2020-03-09 02:01:36,137 Parameters: domain_dimensions         = [256 640   1]\n",
      "yt : [INFO     ] 2020-03-09 02:01:36,138 Parameters: domain_left_edge          = [-1.5450e+19 -3.8625e+19 -5.0000e-01]\n",
      "yt : [INFO     ] 2020-03-09 02:01:36,139 Parameters: domain_right_edge         = [1.5450e+19 3.8625e+19 5.0000e-01]\n",
      "yt : [INFO     ] 2020-03-09 02:01:36,140 Parameters: cosmological_simulation   = 0.0\n"
     ]
    },
    {
     "name": "stdout",
     "output_type": "stream",
     "text": [
      "mixing_layer.out1.00216\n"
     ]
    },
    {
     "name": "stderr",
     "output_type": "stream",
     "text": [
      "yt : [WARNING  ] 2020-03-09 02:01:36,170 Assuming 1.0 = 1.0 cm\n",
      "yt : [WARNING  ] 2020-03-09 02:01:36,171 Assuming 1.0 = 1.0 s\n",
      "yt : [WARNING  ] 2020-03-09 02:01:36,172 Assuming 1.0 = 1.0 g\n",
      "yt : [WARNING  ] 2020-03-09 02:01:36,173 Assuming 1.0 = 1.0 K\n",
      "yt : [INFO     ] 2020-03-09 02:01:36,185 Parameters: current_time              = 408828730279752.25\n",
      "yt : [INFO     ] 2020-03-09 02:01:36,186 Parameters: domain_dimensions         = [256 640   1]\n",
      "yt : [INFO     ] 2020-03-09 02:01:36,187 Parameters: domain_left_edge          = [-1.5450e+19 -3.8625e+19 -5.0000e-01]\n",
      "yt : [INFO     ] 2020-03-09 02:01:36,188 Parameters: domain_right_edge         = [1.5450e+19 3.8625e+19 5.0000e-01]\n",
      "yt : [INFO     ] 2020-03-09 02:01:36,189 Parameters: cosmological_simulation   = 0.0\n"
     ]
    },
    {
     "name": "stdout",
     "output_type": "stream",
     "text": [
      "mixing_layer.out1.00217\n"
     ]
    },
    {
     "name": "stderr",
     "output_type": "stream",
     "text": [
      "yt : [WARNING  ] 2020-03-09 02:01:36,234 Assuming 1.0 = 1.0 cm\n",
      "yt : [WARNING  ] 2020-03-09 02:01:36,235 Assuming 1.0 = 1.0 s\n",
      "yt : [WARNING  ] 2020-03-09 02:01:36,237 Assuming 1.0 = 1.0 g\n",
      "yt : [WARNING  ] 2020-03-09 02:01:36,238 Assuming 1.0 = 1.0 K\n",
      "yt : [INFO     ] 2020-03-09 02:01:36,250 Parameters: current_time              = 410712030631109.2\n",
      "yt : [INFO     ] 2020-03-09 02:01:36,251 Parameters: domain_dimensions         = [256 640   1]\n",
      "yt : [INFO     ] 2020-03-09 02:01:36,252 Parameters: domain_left_edge          = [-1.5450e+19 -3.8625e+19 -5.0000e-01]\n",
      "yt : [INFO     ] 2020-03-09 02:01:36,253 Parameters: domain_right_edge         = [1.5450e+19 3.8625e+19 5.0000e-01]\n",
      "yt : [INFO     ] 2020-03-09 02:01:36,254 Parameters: cosmological_simulation   = 0.0\n"
     ]
    },
    {
     "name": "stdout",
     "output_type": "stream",
     "text": [
      "mixing_layer.out1.00218\n"
     ]
    },
    {
     "name": "stderr",
     "output_type": "stream",
     "text": [
      "yt : [WARNING  ] 2020-03-09 02:01:36,287 Assuming 1.0 = 1.0 cm\n",
      "yt : [WARNING  ] 2020-03-09 02:01:36,288 Assuming 1.0 = 1.0 s\n",
      "yt : [WARNING  ] 2020-03-09 02:01:36,290 Assuming 1.0 = 1.0 g\n",
      "yt : [WARNING  ] 2020-03-09 02:01:36,291 Assuming 1.0 = 1.0 K\n",
      "yt : [INFO     ] 2020-03-09 02:01:36,306 Parameters: current_time              = 412597629222771.9\n",
      "yt : [INFO     ] 2020-03-09 02:01:36,307 Parameters: domain_dimensions         = [256 640   1]\n",
      "yt : [INFO     ] 2020-03-09 02:01:36,308 Parameters: domain_left_edge          = [-1.5450e+19 -3.8625e+19 -5.0000e-01]\n",
      "yt : [INFO     ] 2020-03-09 02:01:36,309 Parameters: domain_right_edge         = [1.5450e+19 3.8625e+19 5.0000e-01]\n",
      "yt : [INFO     ] 2020-03-09 02:01:36,310 Parameters: cosmological_simulation   = 0.0\n"
     ]
    },
    {
     "name": "stdout",
     "output_type": "stream",
     "text": [
      "mixing_layer.out1.00219\n"
     ]
    },
    {
     "name": "stderr",
     "output_type": "stream",
     "text": [
      "yt : [WARNING  ] 2020-03-09 02:01:36,346 Assuming 1.0 = 1.0 cm\n",
      "yt : [WARNING  ] 2020-03-09 02:01:36,348 Assuming 1.0 = 1.0 s\n",
      "yt : [WARNING  ] 2020-03-09 02:01:36,349 Assuming 1.0 = 1.0 g\n",
      "yt : [WARNING  ] 2020-03-09 02:01:36,350 Assuming 1.0 = 1.0 K\n",
      "yt : [INFO     ] 2020-03-09 02:01:36,366 Parameters: current_time              = 414480109159966.44\n",
      "yt : [INFO     ] 2020-03-09 02:01:36,367 Parameters: domain_dimensions         = [256 640   1]\n",
      "yt : [INFO     ] 2020-03-09 02:01:36,368 Parameters: domain_left_edge          = [-1.5450e+19 -3.8625e+19 -5.0000e-01]\n",
      "yt : [INFO     ] 2020-03-09 02:01:36,369 Parameters: domain_right_edge         = [1.5450e+19 3.8625e+19 5.0000e-01]\n",
      "yt : [INFO     ] 2020-03-09 02:01:36,369 Parameters: cosmological_simulation   = 0.0\n"
     ]
    },
    {
     "name": "stdout",
     "output_type": "stream",
     "text": [
      "mixing_layer.out1.00220\n"
     ]
    },
    {
     "name": "stderr",
     "output_type": "stream",
     "text": [
      "yt : [WARNING  ] 2020-03-09 02:01:36,405 Assuming 1.0 = 1.0 cm\n",
      "yt : [WARNING  ] 2020-03-09 02:01:36,407 Assuming 1.0 = 1.0 s\n",
      "yt : [WARNING  ] 2020-03-09 02:01:36,408 Assuming 1.0 = 1.0 g\n",
      "yt : [WARNING  ] 2020-03-09 02:01:36,410 Assuming 1.0 = 1.0 K\n",
      "yt : [INFO     ] 2020-03-09 02:01:36,426 Parameters: current_time              = 416366403707558.44\n",
      "yt : [INFO     ] 2020-03-09 02:01:36,427 Parameters: domain_dimensions         = [256 640   1]\n",
      "yt : [INFO     ] 2020-03-09 02:01:36,429 Parameters: domain_left_edge          = [-1.5450e+19 -3.8625e+19 -5.0000e-01]\n",
      "yt : [INFO     ] 2020-03-09 02:01:36,430 Parameters: domain_right_edge         = [1.5450e+19 3.8625e+19 5.0000e-01]\n",
      "yt : [INFO     ] 2020-03-09 02:01:36,431 Parameters: cosmological_simulation   = 0.0\n"
     ]
    },
    {
     "name": "stdout",
     "output_type": "stream",
     "text": [
      "mixing_layer.out1.00221\n"
     ]
    },
    {
     "name": "stderr",
     "output_type": "stream",
     "text": [
      "yt : [WARNING  ] 2020-03-09 02:01:36,468 Assuming 1.0 = 1.0 cm\n",
      "yt : [WARNING  ] 2020-03-09 02:01:36,469 Assuming 1.0 = 1.0 s\n",
      "yt : [WARNING  ] 2020-03-09 02:01:36,471 Assuming 1.0 = 1.0 g\n",
      "yt : [WARNING  ] 2020-03-09 02:01:36,473 Assuming 1.0 = 1.0 K\n",
      "yt : [INFO     ] 2020-03-09 02:01:36,492 Parameters: current_time              = 418249315530661.8\n",
      "yt : [INFO     ] 2020-03-09 02:01:36,493 Parameters: domain_dimensions         = [256 640   1]\n",
      "yt : [INFO     ] 2020-03-09 02:01:36,493 Parameters: domain_left_edge          = [-1.5450e+19 -3.8625e+19 -5.0000e-01]\n",
      "yt : [INFO     ] 2020-03-09 02:01:36,494 Parameters: domain_right_edge         = [1.5450e+19 3.8625e+19 5.0000e-01]\n",
      "yt : [INFO     ] 2020-03-09 02:01:36,496 Parameters: cosmological_simulation   = 0.0\n"
     ]
    },
    {
     "name": "stdout",
     "output_type": "stream",
     "text": [
      "mixing_layer.out1.00222\n"
     ]
    },
    {
     "name": "stderr",
     "output_type": "stream",
     "text": [
      "yt : [WARNING  ] 2020-03-09 02:01:36,526 Assuming 1.0 = 1.0 cm\n",
      "yt : [WARNING  ] 2020-03-09 02:01:36,527 Assuming 1.0 = 1.0 s\n",
      "yt : [WARNING  ] 2020-03-09 02:01:36,528 Assuming 1.0 = 1.0 g\n",
      "yt : [WARNING  ] 2020-03-09 02:01:36,530 Assuming 1.0 = 1.0 K\n",
      "yt : [INFO     ] 2020-03-09 02:01:36,543 Parameters: current_time              = 420132974933698.56\n",
      "yt : [INFO     ] 2020-03-09 02:01:36,545 Parameters: domain_dimensions         = [256 640   1]\n",
      "yt : [INFO     ] 2020-03-09 02:01:36,545 Parameters: domain_left_edge          = [-1.5450e+19 -3.8625e+19 -5.0000e-01]\n",
      "yt : [INFO     ] 2020-03-09 02:01:36,546 Parameters: domain_right_edge         = [1.5450e+19 3.8625e+19 5.0000e-01]\n",
      "yt : [INFO     ] 2020-03-09 02:01:36,547 Parameters: cosmological_simulation   = 0.0\n"
     ]
    },
    {
     "name": "stdout",
     "output_type": "stream",
     "text": [
      "mixing_layer.out1.00223\n"
     ]
    },
    {
     "name": "stderr",
     "output_type": "stream",
     "text": [
      "yt : [WARNING  ] 2020-03-09 02:01:36,576 Assuming 1.0 = 1.0 cm\n",
      "yt : [WARNING  ] 2020-03-09 02:01:36,578 Assuming 1.0 = 1.0 s\n",
      "yt : [WARNING  ] 2020-03-09 02:01:36,578 Assuming 1.0 = 1.0 g\n",
      "yt : [WARNING  ] 2020-03-09 02:01:36,579 Assuming 1.0 = 1.0 K\n",
      "yt : [INFO     ] 2020-03-09 02:01:36,591 Parameters: current_time              = 422016216652404.9\n",
      "yt : [INFO     ] 2020-03-09 02:01:36,592 Parameters: domain_dimensions         = [256 640   1]\n",
      "yt : [INFO     ] 2020-03-09 02:01:36,593 Parameters: domain_left_edge          = [-1.5450e+19 -3.8625e+19 -5.0000e-01]\n",
      "yt : [INFO     ] 2020-03-09 02:01:36,594 Parameters: domain_right_edge         = [1.5450e+19 3.8625e+19 5.0000e-01]\n",
      "yt : [INFO     ] 2020-03-09 02:01:36,595 Parameters: cosmological_simulation   = 0.0\n"
     ]
    },
    {
     "name": "stdout",
     "output_type": "stream",
     "text": [
      "mixing_layer.out1.00224\n"
     ]
    },
    {
     "name": "stderr",
     "output_type": "stream",
     "text": [
      "yt : [WARNING  ] 2020-03-09 02:01:36,625 Assuming 1.0 = 1.0 cm\n",
      "yt : [WARNING  ] 2020-03-09 02:01:36,627 Assuming 1.0 = 1.0 s\n",
      "yt : [WARNING  ] 2020-03-09 02:01:36,627 Assuming 1.0 = 1.0 g\n",
      "yt : [WARNING  ] 2020-03-09 02:01:36,628 Assuming 1.0 = 1.0 K\n",
      "yt : [INFO     ] 2020-03-09 02:01:36,640 Parameters: current_time              = 423900746748339.9\n",
      "yt : [INFO     ] 2020-03-09 02:01:36,641 Parameters: domain_dimensions         = [256 640   1]\n",
      "yt : [INFO     ] 2020-03-09 02:01:36,642 Parameters: domain_left_edge          = [-1.5450e+19 -3.8625e+19 -5.0000e-01]\n",
      "yt : [INFO     ] 2020-03-09 02:01:36,644 Parameters: domain_right_edge         = [1.5450e+19 3.8625e+19 5.0000e-01]\n",
      "yt : [INFO     ] 2020-03-09 02:01:36,644 Parameters: cosmological_simulation   = 0.0\n"
     ]
    },
    {
     "name": "stdout",
     "output_type": "stream",
     "text": [
      "mixing_layer.out1.00225\n"
     ]
    },
    {
     "name": "stderr",
     "output_type": "stream",
     "text": [
      "yt : [WARNING  ] 2020-03-09 02:01:36,674 Assuming 1.0 = 1.0 cm\n",
      "yt : [WARNING  ] 2020-03-09 02:01:36,675 Assuming 1.0 = 1.0 s\n",
      "yt : [WARNING  ] 2020-03-09 02:01:36,676 Assuming 1.0 = 1.0 g\n",
      "yt : [WARNING  ] 2020-03-09 02:01:36,677 Assuming 1.0 = 1.0 K\n",
      "yt : [INFO     ] 2020-03-09 02:01:36,690 Parameters: current_time              = 425785045672896.44\n",
      "yt : [INFO     ] 2020-03-09 02:01:36,691 Parameters: domain_dimensions         = [256 640   1]\n",
      "yt : [INFO     ] 2020-03-09 02:01:36,692 Parameters: domain_left_edge          = [-1.5450e+19 -3.8625e+19 -5.0000e-01]\n",
      "yt : [INFO     ] 2020-03-09 02:01:36,694 Parameters: domain_right_edge         = [1.5450e+19 3.8625e+19 5.0000e-01]\n",
      "yt : [INFO     ] 2020-03-09 02:01:36,695 Parameters: cosmological_simulation   = 0.0\n"
     ]
    },
    {
     "name": "stdout",
     "output_type": "stream",
     "text": [
      "mixing_layer.out1.00226\n"
     ]
    },
    {
     "name": "stderr",
     "output_type": "stream",
     "text": [
      "yt : [WARNING  ] 2020-03-09 02:01:36,722 Assuming 1.0 = 1.0 cm\n",
      "yt : [WARNING  ] 2020-03-09 02:01:36,723 Assuming 1.0 = 1.0 s\n",
      "yt : [WARNING  ] 2020-03-09 02:01:36,723 Assuming 1.0 = 1.0 g\n",
      "yt : [WARNING  ] 2020-03-09 02:01:36,724 Assuming 1.0 = 1.0 K\n",
      "yt : [INFO     ] 2020-03-09 02:01:36,737 Parameters: current_time              = 427669992999263.3\n",
      "yt : [INFO     ] 2020-03-09 02:01:36,738 Parameters: domain_dimensions         = [256 640   1]\n",
      "yt : [INFO     ] 2020-03-09 02:01:36,739 Parameters: domain_left_edge          = [-1.5450e+19 -3.8625e+19 -5.0000e-01]\n",
      "yt : [INFO     ] 2020-03-09 02:01:36,740 Parameters: domain_right_edge         = [1.5450e+19 3.8625e+19 5.0000e-01]\n",
      "yt : [INFO     ] 2020-03-09 02:01:36,741 Parameters: cosmological_simulation   = 0.0\n"
     ]
    },
    {
     "name": "stdout",
     "output_type": "stream",
     "text": [
      "mixing_layer.out1.00227\n"
     ]
    },
    {
     "name": "stderr",
     "output_type": "stream",
     "text": [
      "yt : [WARNING  ] 2020-03-09 02:01:36,769 Assuming 1.0 = 1.0 cm\n",
      "yt : [WARNING  ] 2020-03-09 02:01:36,770 Assuming 1.0 = 1.0 s\n",
      "yt : [WARNING  ] 2020-03-09 02:01:36,771 Assuming 1.0 = 1.0 g\n",
      "yt : [WARNING  ] 2020-03-09 02:01:36,772 Assuming 1.0 = 1.0 K\n",
      "yt : [INFO     ] 2020-03-09 02:01:36,784 Parameters: current_time              = 429552481564600.0\n",
      "yt : [INFO     ] 2020-03-09 02:01:36,785 Parameters: domain_dimensions         = [256 640   1]\n",
      "yt : [INFO     ] 2020-03-09 02:01:36,787 Parameters: domain_left_edge          = [-1.5450e+19 -3.8625e+19 -5.0000e-01]\n",
      "yt : [INFO     ] 2020-03-09 02:01:36,788 Parameters: domain_right_edge         = [1.5450e+19 3.8625e+19 5.0000e-01]\n",
      "yt : [INFO     ] 2020-03-09 02:01:36,790 Parameters: cosmological_simulation   = 0.0\n"
     ]
    },
    {
     "name": "stdout",
     "output_type": "stream",
     "text": [
      "mixing_layer.out1.00228\n"
     ]
    },
    {
     "name": "stderr",
     "output_type": "stream",
     "text": [
      "yt : [WARNING  ] 2020-03-09 02:01:36,824 Assuming 1.0 = 1.0 cm\n",
      "yt : [WARNING  ] 2020-03-09 02:01:36,826 Assuming 1.0 = 1.0 s\n",
      "yt : [WARNING  ] 2020-03-09 02:01:36,827 Assuming 1.0 = 1.0 g\n",
      "yt : [WARNING  ] 2020-03-09 02:01:36,829 Assuming 1.0 = 1.0 K\n",
      "yt : [INFO     ] 2020-03-09 02:01:36,842 Parameters: current_time              = 431436799525222.7\n",
      "yt : [INFO     ] 2020-03-09 02:01:36,842 Parameters: domain_dimensions         = [256 640   1]\n",
      "yt : [INFO     ] 2020-03-09 02:01:36,843 Parameters: domain_left_edge          = [-1.5450e+19 -3.8625e+19 -5.0000e-01]\n",
      "yt : [INFO     ] 2020-03-09 02:01:36,844 Parameters: domain_right_edge         = [1.5450e+19 3.8625e+19 5.0000e-01]\n",
      "yt : [INFO     ] 2020-03-09 02:01:36,845 Parameters: cosmological_simulation   = 0.0\n"
     ]
    },
    {
     "name": "stdout",
     "output_type": "stream",
     "text": [
      "mixing_layer.out1.00229\n"
     ]
    },
    {
     "name": "stderr",
     "output_type": "stream",
     "text": [
      "yt : [WARNING  ] 2020-03-09 02:01:36,874 Assuming 1.0 = 1.0 cm\n",
      "yt : [WARNING  ] 2020-03-09 02:01:36,875 Assuming 1.0 = 1.0 s\n",
      "yt : [WARNING  ] 2020-03-09 02:01:36,876 Assuming 1.0 = 1.0 g\n",
      "yt : [WARNING  ] 2020-03-09 02:01:36,877 Assuming 1.0 = 1.0 K\n",
      "yt : [INFO     ] 2020-03-09 02:01:36,891 Parameters: current_time              = 433322803227391.94\n",
      "yt : [INFO     ] 2020-03-09 02:01:36,892 Parameters: domain_dimensions         = [256 640   1]\n",
      "yt : [INFO     ] 2020-03-09 02:01:36,893 Parameters: domain_left_edge          = [-1.5450e+19 -3.8625e+19 -5.0000e-01]\n",
      "yt : [INFO     ] 2020-03-09 02:01:36,894 Parameters: domain_right_edge         = [1.5450e+19 3.8625e+19 5.0000e-01]\n",
      "yt : [INFO     ] 2020-03-09 02:01:36,894 Parameters: cosmological_simulation   = 0.0\n"
     ]
    },
    {
     "name": "stdout",
     "output_type": "stream",
     "text": [
      "mixing_layer.out1.00230\n"
     ]
    },
    {
     "name": "stderr",
     "output_type": "stream",
     "text": [
      "yt : [WARNING  ] 2020-03-09 02:01:36,923 Assuming 1.0 = 1.0 cm\n",
      "yt : [WARNING  ] 2020-03-09 02:01:36,924 Assuming 1.0 = 1.0 s\n",
      "yt : [WARNING  ] 2020-03-09 02:01:36,925 Assuming 1.0 = 1.0 g\n",
      "yt : [WARNING  ] 2020-03-09 02:01:36,926 Assuming 1.0 = 1.0 K\n",
      "yt : [INFO     ] 2020-03-09 02:01:36,938 Parameters: current_time              = 435205947949690.4\n",
      "yt : [INFO     ] 2020-03-09 02:01:36,939 Parameters: domain_dimensions         = [256 640   1]\n",
      "yt : [INFO     ] 2020-03-09 02:01:36,940 Parameters: domain_left_edge          = [-1.5450e+19 -3.8625e+19 -5.0000e-01]\n",
      "yt : [INFO     ] 2020-03-09 02:01:36,941 Parameters: domain_right_edge         = [1.5450e+19 3.8625e+19 5.0000e-01]\n",
      "yt : [INFO     ] 2020-03-09 02:01:36,941 Parameters: cosmological_simulation   = 0.0\n"
     ]
    },
    {
     "name": "stdout",
     "output_type": "stream",
     "text": [
      "mixing_layer.out1.00231\n"
     ]
    },
    {
     "name": "stderr",
     "output_type": "stream",
     "text": [
      "yt : [WARNING  ] 2020-03-09 02:01:36,970 Assuming 1.0 = 1.0 cm\n",
      "yt : [WARNING  ] 2020-03-09 02:01:36,971 Assuming 1.0 = 1.0 s\n",
      "yt : [WARNING  ] 2020-03-09 02:01:36,973 Assuming 1.0 = 1.0 g\n",
      "yt : [WARNING  ] 2020-03-09 02:01:36,974 Assuming 1.0 = 1.0 K\n",
      "yt : [INFO     ] 2020-03-09 02:01:36,988 Parameters: current_time              = 437090267548733.9\n",
      "yt : [INFO     ] 2020-03-09 02:01:36,988 Parameters: domain_dimensions         = [256 640   1]\n",
      "yt : [INFO     ] 2020-03-09 02:01:36,989 Parameters: domain_left_edge          = [-1.5450e+19 -3.8625e+19 -5.0000e-01]\n",
      "yt : [INFO     ] 2020-03-09 02:01:36,990 Parameters: domain_right_edge         = [1.5450e+19 3.8625e+19 5.0000e-01]\n",
      "yt : [INFO     ] 2020-03-09 02:01:36,991 Parameters: cosmological_simulation   = 0.0\n"
     ]
    },
    {
     "name": "stdout",
     "output_type": "stream",
     "text": [
      "mixing_layer.out1.00232\n"
     ]
    },
    {
     "name": "stderr",
     "output_type": "stream",
     "text": [
      "yt : [WARNING  ] 2020-03-09 02:01:37,020 Assuming 1.0 = 1.0 cm\n",
      "yt : [WARNING  ] 2020-03-09 02:01:37,021 Assuming 1.0 = 1.0 s\n",
      "yt : [WARNING  ] 2020-03-09 02:01:37,022 Assuming 1.0 = 1.0 g\n",
      "yt : [WARNING  ] 2020-03-09 02:01:37,023 Assuming 1.0 = 1.0 K\n",
      "yt : [INFO     ] 2020-03-09 02:01:37,035 Parameters: current_time              = 438972999525011.56\n",
      "yt : [INFO     ] 2020-03-09 02:01:37,036 Parameters: domain_dimensions         = [256 640   1]\n",
      "yt : [INFO     ] 2020-03-09 02:01:37,037 Parameters: domain_left_edge          = [-1.5450e+19 -3.8625e+19 -5.0000e-01]\n",
      "yt : [INFO     ] 2020-03-09 02:01:37,038 Parameters: domain_right_edge         = [1.5450e+19 3.8625e+19 5.0000e-01]\n",
      "yt : [INFO     ] 2020-03-09 02:01:37,039 Parameters: cosmological_simulation   = 0.0\n"
     ]
    },
    {
     "name": "stdout",
     "output_type": "stream",
     "text": [
      "mixing_layer.out1.00233\n"
     ]
    },
    {
     "name": "stderr",
     "output_type": "stream",
     "text": [
      "yt : [WARNING  ] 2020-03-09 02:01:37,067 Assuming 1.0 = 1.0 cm\n",
      "yt : [WARNING  ] 2020-03-09 02:01:37,068 Assuming 1.0 = 1.0 s\n",
      "yt : [WARNING  ] 2020-03-09 02:01:37,069 Assuming 1.0 = 1.0 g\n",
      "yt : [WARNING  ] 2020-03-09 02:01:37,070 Assuming 1.0 = 1.0 K\n",
      "yt : [INFO     ] 2020-03-09 02:01:37,083 Parameters: current_time              = 440856564373808.3\n",
      "yt : [INFO     ] 2020-03-09 02:01:37,084 Parameters: domain_dimensions         = [256 640   1]\n",
      "yt : [INFO     ] 2020-03-09 02:01:37,085 Parameters: domain_left_edge          = [-1.5450e+19 -3.8625e+19 -5.0000e-01]\n",
      "yt : [INFO     ] 2020-03-09 02:01:37,086 Parameters: domain_right_edge         = [1.5450e+19 3.8625e+19 5.0000e-01]\n",
      "yt : [INFO     ] 2020-03-09 02:01:37,088 Parameters: cosmological_simulation   = 0.0\n"
     ]
    },
    {
     "name": "stdout",
     "output_type": "stream",
     "text": [
      "mixing_layer.out1.00234\n"
     ]
    },
    {
     "name": "stderr",
     "output_type": "stream",
     "text": [
      "yt : [WARNING  ] 2020-03-09 02:01:37,116 Assuming 1.0 = 1.0 cm\n",
      "yt : [WARNING  ] 2020-03-09 02:01:37,118 Assuming 1.0 = 1.0 s\n",
      "yt : [WARNING  ] 2020-03-09 02:01:37,119 Assuming 1.0 = 1.0 g\n",
      "yt : [WARNING  ] 2020-03-09 02:01:37,120 Assuming 1.0 = 1.0 K\n",
      "yt : [INFO     ] 2020-03-09 02:01:37,134 Parameters: current_time              = 442741981665087.44\n",
      "yt : [INFO     ] 2020-03-09 02:01:37,135 Parameters: domain_dimensions         = [256 640   1]\n",
      "yt : [INFO     ] 2020-03-09 02:01:37,137 Parameters: domain_left_edge          = [-1.5450e+19 -3.8625e+19 -5.0000e-01]\n",
      "yt : [INFO     ] 2020-03-09 02:01:37,138 Parameters: domain_right_edge         = [1.5450e+19 3.8625e+19 5.0000e-01]\n",
      "yt : [INFO     ] 2020-03-09 02:01:37,139 Parameters: cosmological_simulation   = 0.0\n"
     ]
    },
    {
     "name": "stdout",
     "output_type": "stream",
     "text": [
      "mixing_layer.out1.00235\n"
     ]
    },
    {
     "name": "stderr",
     "output_type": "stream",
     "text": [
      "yt : [WARNING  ] 2020-03-09 02:01:37,168 Assuming 1.0 = 1.0 cm\n",
      "yt : [WARNING  ] 2020-03-09 02:01:37,169 Assuming 1.0 = 1.0 s\n",
      "yt : [WARNING  ] 2020-03-09 02:01:37,171 Assuming 1.0 = 1.0 g\n",
      "yt : [WARNING  ] 2020-03-09 02:01:37,172 Assuming 1.0 = 1.0 K\n",
      "yt : [INFO     ] 2020-03-09 02:01:37,184 Parameters: current_time              = 444625846067686.6\n",
      "yt : [INFO     ] 2020-03-09 02:01:37,184 Parameters: domain_dimensions         = [256 640   1]\n",
      "yt : [INFO     ] 2020-03-09 02:01:37,186 Parameters: domain_left_edge          = [-1.5450e+19 -3.8625e+19 -5.0000e-01]\n",
      "yt : [INFO     ] 2020-03-09 02:01:37,187 Parameters: domain_right_edge         = [1.5450e+19 3.8625e+19 5.0000e-01]\n",
      "yt : [INFO     ] 2020-03-09 02:01:37,188 Parameters: cosmological_simulation   = 0.0\n"
     ]
    },
    {
     "name": "stdout",
     "output_type": "stream",
     "text": [
      "mixing_layer.out1.00236\n"
     ]
    },
    {
     "name": "stderr",
     "output_type": "stream",
     "text": [
      "yt : [WARNING  ] 2020-03-09 02:01:37,216 Assuming 1.0 = 1.0 cm\n",
      "yt : [WARNING  ] 2020-03-09 02:01:37,217 Assuming 1.0 = 1.0 s\n",
      "yt : [WARNING  ] 2020-03-09 02:01:37,218 Assuming 1.0 = 1.0 g\n",
      "yt : [WARNING  ] 2020-03-09 02:01:37,219 Assuming 1.0 = 1.0 K\n",
      "yt : [INFO     ] 2020-03-09 02:01:37,231 Parameters: current_time              = 446508186772242.94\n",
      "yt : [INFO     ] 2020-03-09 02:01:37,232 Parameters: domain_dimensions         = [256 640   1]\n",
      "yt : [INFO     ] 2020-03-09 02:01:37,232 Parameters: domain_left_edge          = [-1.5450e+19 -3.8625e+19 -5.0000e-01]\n",
      "yt : [INFO     ] 2020-03-09 02:01:37,234 Parameters: domain_right_edge         = [1.5450e+19 3.8625e+19 5.0000e-01]\n",
      "yt : [INFO     ] 2020-03-09 02:01:37,235 Parameters: cosmological_simulation   = 0.0\n"
     ]
    },
    {
     "name": "stdout",
     "output_type": "stream",
     "text": [
      "mixing_layer.out1.00237\n"
     ]
    },
    {
     "name": "stderr",
     "output_type": "stream",
     "text": [
      "yt : [WARNING  ] 2020-03-09 02:01:37,263 Assuming 1.0 = 1.0 cm\n",
      "yt : [WARNING  ] 2020-03-09 02:01:37,264 Assuming 1.0 = 1.0 s\n",
      "yt : [WARNING  ] 2020-03-09 02:01:37,265 Assuming 1.0 = 1.0 g\n",
      "yt : [WARNING  ] 2020-03-09 02:01:37,267 Assuming 1.0 = 1.0 K\n",
      "yt : [INFO     ] 2020-03-09 02:01:37,281 Parameters: current_time              = 448392434250022.4\n",
      "yt : [INFO     ] 2020-03-09 02:01:37,282 Parameters: domain_dimensions         = [256 640   1]\n",
      "yt : [INFO     ] 2020-03-09 02:01:37,282 Parameters: domain_left_edge          = [-1.5450e+19 -3.8625e+19 -5.0000e-01]\n",
      "yt : [INFO     ] 2020-03-09 02:01:37,284 Parameters: domain_right_edge         = [1.5450e+19 3.8625e+19 5.0000e-01]\n",
      "yt : [INFO     ] 2020-03-09 02:01:37,285 Parameters: cosmological_simulation   = 0.0\n"
     ]
    },
    {
     "name": "stdout",
     "output_type": "stream",
     "text": [
      "mixing_layer.out1.00238\n"
     ]
    },
    {
     "name": "stderr",
     "output_type": "stream",
     "text": [
      "yt : [WARNING  ] 2020-03-09 02:01:37,312 Assuming 1.0 = 1.0 cm\n",
      "yt : [WARNING  ] 2020-03-09 02:01:37,313 Assuming 1.0 = 1.0 s\n",
      "yt : [WARNING  ] 2020-03-09 02:01:37,314 Assuming 1.0 = 1.0 g\n",
      "yt : [WARNING  ] 2020-03-09 02:01:37,315 Assuming 1.0 = 1.0 K\n",
      "yt : [INFO     ] 2020-03-09 02:01:37,327 Parameters: current_time              = 450278445715194.0\n",
      "yt : [INFO     ] 2020-03-09 02:01:37,328 Parameters: domain_dimensions         = [256 640   1]\n",
      "yt : [INFO     ] 2020-03-09 02:01:37,329 Parameters: domain_left_edge          = [-1.5450e+19 -3.8625e+19 -5.0000e-01]\n",
      "yt : [INFO     ] 2020-03-09 02:01:37,330 Parameters: domain_right_edge         = [1.5450e+19 3.8625e+19 5.0000e-01]\n",
      "yt : [INFO     ] 2020-03-09 02:01:37,331 Parameters: cosmological_simulation   = 0.0\n"
     ]
    },
    {
     "name": "stdout",
     "output_type": "stream",
     "text": [
      "mixing_layer.out1.00239\n"
     ]
    },
    {
     "name": "stderr",
     "output_type": "stream",
     "text": [
      "yt : [WARNING  ] 2020-03-09 02:01:37,363 Assuming 1.0 = 1.0 cm\n",
      "yt : [WARNING  ] 2020-03-09 02:01:37,364 Assuming 1.0 = 1.0 s\n",
      "yt : [WARNING  ] 2020-03-09 02:01:37,365 Assuming 1.0 = 1.0 g\n",
      "yt : [WARNING  ] 2020-03-09 02:01:37,367 Assuming 1.0 = 1.0 K\n",
      "yt : [INFO     ] 2020-03-09 02:01:37,378 Parameters: current_time              = 452162721410578.75\n",
      "yt : [INFO     ] 2020-03-09 02:01:37,380 Parameters: domain_dimensions         = [256 640   1]\n",
      "yt : [INFO     ] 2020-03-09 02:01:37,381 Parameters: domain_left_edge          = [-1.5450e+19 -3.8625e+19 -5.0000e-01]\n",
      "yt : [INFO     ] 2020-03-09 02:01:37,382 Parameters: domain_right_edge         = [1.5450e+19 3.8625e+19 5.0000e-01]\n",
      "yt : [INFO     ] 2020-03-09 02:01:37,384 Parameters: cosmological_simulation   = 0.0\n"
     ]
    },
    {
     "name": "stdout",
     "output_type": "stream",
     "text": [
      "mixing_layer.out1.00240\n"
     ]
    },
    {
     "name": "stderr",
     "output_type": "stream",
     "text": [
      "yt : [WARNING  ] 2020-03-09 02:01:37,415 Assuming 1.0 = 1.0 cm\n",
      "yt : [WARNING  ] 2020-03-09 02:01:37,417 Assuming 1.0 = 1.0 s\n",
      "yt : [WARNING  ] 2020-03-09 02:01:37,418 Assuming 1.0 = 1.0 g\n",
      "yt : [WARNING  ] 2020-03-09 02:01:37,418 Assuming 1.0 = 1.0 K\n",
      "yt : [INFO     ] 2020-03-09 02:01:37,434 Parameters: current_time              = 454046062101044.2\n",
      "yt : [INFO     ] 2020-03-09 02:01:37,435 Parameters: domain_dimensions         = [256 640   1]\n",
      "yt : [INFO     ] 2020-03-09 02:01:37,436 Parameters: domain_left_edge          = [-1.5450e+19 -3.8625e+19 -5.0000e-01]\n",
      "yt : [INFO     ] 2020-03-09 02:01:37,437 Parameters: domain_right_edge         = [1.5450e+19 3.8625e+19 5.0000e-01]\n",
      "yt : [INFO     ] 2020-03-09 02:01:37,438 Parameters: cosmological_simulation   = 0.0\n"
     ]
    },
    {
     "name": "stdout",
     "output_type": "stream",
     "text": [
      "mixing_layer.out1.00241\n"
     ]
    },
    {
     "name": "stderr",
     "output_type": "stream",
     "text": [
      "yt : [WARNING  ] 2020-03-09 02:01:37,473 Assuming 1.0 = 1.0 cm\n",
      "yt : [WARNING  ] 2020-03-09 02:01:37,474 Assuming 1.0 = 1.0 s\n",
      "yt : [WARNING  ] 2020-03-09 02:01:37,476 Assuming 1.0 = 1.0 g\n",
      "yt : [WARNING  ] 2020-03-09 02:01:37,477 Assuming 1.0 = 1.0 K\n",
      "yt : [INFO     ] 2020-03-09 02:01:37,489 Parameters: current_time              = 455928847886004.5\n",
      "yt : [INFO     ] 2020-03-09 02:01:37,490 Parameters: domain_dimensions         = [256 640   1]\n",
      "yt : [INFO     ] 2020-03-09 02:01:37,491 Parameters: domain_left_edge          = [-1.5450e+19 -3.8625e+19 -5.0000e-01]\n",
      "yt : [INFO     ] 2020-03-09 02:01:37,493 Parameters: domain_right_edge         = [1.5450e+19 3.8625e+19 5.0000e-01]\n",
      "yt : [INFO     ] 2020-03-09 02:01:37,494 Parameters: cosmological_simulation   = 0.0\n"
     ]
    },
    {
     "name": "stdout",
     "output_type": "stream",
     "text": [
      "mixing_layer.out1.00242\n"
     ]
    },
    {
     "name": "stderr",
     "output_type": "stream",
     "text": [
      "yt : [WARNING  ] 2020-03-09 02:01:37,524 Assuming 1.0 = 1.0 cm\n",
      "yt : [WARNING  ] 2020-03-09 02:01:37,526 Assuming 1.0 = 1.0 s\n",
      "yt : [WARNING  ] 2020-03-09 02:01:37,527 Assuming 1.0 = 1.0 g\n",
      "yt : [WARNING  ] 2020-03-09 02:01:37,528 Assuming 1.0 = 1.0 K\n",
      "yt : [INFO     ] 2020-03-09 02:01:37,542 Parameters: current_time              = 457814734521797.2\n",
      "yt : [INFO     ] 2020-03-09 02:01:37,542 Parameters: domain_dimensions         = [256 640   1]\n",
      "yt : [INFO     ] 2020-03-09 02:01:37,543 Parameters: domain_left_edge          = [-1.5450e+19 -3.8625e+19 -5.0000e-01]\n",
      "yt : [INFO     ] 2020-03-09 02:01:37,544 Parameters: domain_right_edge         = [1.5450e+19 3.8625e+19 5.0000e-01]\n",
      "yt : [INFO     ] 2020-03-09 02:01:37,545 Parameters: cosmological_simulation   = 0.0\n"
     ]
    },
    {
     "name": "stdout",
     "output_type": "stream",
     "text": [
      "mixing_layer.out1.00243\n"
     ]
    },
    {
     "name": "stderr",
     "output_type": "stream",
     "text": [
      "yt : [WARNING  ] 2020-03-09 02:01:37,574 Assuming 1.0 = 1.0 cm\n",
      "yt : [WARNING  ] 2020-03-09 02:01:37,575 Assuming 1.0 = 1.0 s\n",
      "yt : [WARNING  ] 2020-03-09 02:01:37,576 Assuming 1.0 = 1.0 g\n",
      "yt : [WARNING  ] 2020-03-09 02:01:37,577 Assuming 1.0 = 1.0 K\n",
      "yt : [INFO     ] 2020-03-09 02:01:37,589 Parameters: current_time              = 459698612553380.06\n",
      "yt : [INFO     ] 2020-03-09 02:01:37,590 Parameters: domain_dimensions         = [256 640   1]\n",
      "yt : [INFO     ] 2020-03-09 02:01:37,591 Parameters: domain_left_edge          = [-1.5450e+19 -3.8625e+19 -5.0000e-01]\n",
      "yt : [INFO     ] 2020-03-09 02:01:37,593 Parameters: domain_right_edge         = [1.5450e+19 3.8625e+19 5.0000e-01]\n",
      "yt : [INFO     ] 2020-03-09 02:01:37,593 Parameters: cosmological_simulation   = 0.0\n"
     ]
    },
    {
     "name": "stdout",
     "output_type": "stream",
     "text": [
      "mixing_layer.out1.00244\n"
     ]
    },
    {
     "name": "stderr",
     "output_type": "stream",
     "text": [
      "yt : [WARNING  ] 2020-03-09 02:01:37,623 Assuming 1.0 = 1.0 cm\n",
      "yt : [WARNING  ] 2020-03-09 02:01:37,624 Assuming 1.0 = 1.0 s\n",
      "yt : [WARNING  ] 2020-03-09 02:01:37,625 Assuming 1.0 = 1.0 g\n",
      "yt : [WARNING  ] 2020-03-09 02:01:37,626 Assuming 1.0 = 1.0 K\n",
      "yt : [INFO     ] 2020-03-09 02:01:37,638 Parameters: current_time              = 461581599575621.06\n",
      "yt : [INFO     ] 2020-03-09 02:01:37,639 Parameters: domain_dimensions         = [256 640   1]\n",
      "yt : [INFO     ] 2020-03-09 02:01:37,640 Parameters: domain_left_edge          = [-1.5450e+19 -3.8625e+19 -5.0000e-01]\n",
      "yt : [INFO     ] 2020-03-09 02:01:37,640 Parameters: domain_right_edge         = [1.5450e+19 3.8625e+19 5.0000e-01]\n",
      "yt : [INFO     ] 2020-03-09 02:01:37,641 Parameters: cosmological_simulation   = 0.0\n"
     ]
    },
    {
     "name": "stdout",
     "output_type": "stream",
     "text": [
      "mixing_layer.out1.00245\n"
     ]
    },
    {
     "name": "stderr",
     "output_type": "stream",
     "text": [
      "yt : [WARNING  ] 2020-03-09 02:01:37,671 Assuming 1.0 = 1.0 cm\n",
      "yt : [WARNING  ] 2020-03-09 02:01:37,672 Assuming 1.0 = 1.0 s\n",
      "yt : [WARNING  ] 2020-03-09 02:01:37,673 Assuming 1.0 = 1.0 g\n",
      "yt : [WARNING  ] 2020-03-09 02:01:37,673 Assuming 1.0 = 1.0 K\n",
      "yt : [INFO     ] 2020-03-09 02:01:37,685 Parameters: current_time              = 463465348883539.8\n",
      "yt : [INFO     ] 2020-03-09 02:01:37,686 Parameters: domain_dimensions         = [256 640   1]\n",
      "yt : [INFO     ] 2020-03-09 02:01:37,687 Parameters: domain_left_edge          = [-1.5450e+19 -3.8625e+19 -5.0000e-01]\n",
      "yt : [INFO     ] 2020-03-09 02:01:37,688 Parameters: domain_right_edge         = [1.5450e+19 3.8625e+19 5.0000e-01]\n",
      "yt : [INFO     ] 2020-03-09 02:01:37,690 Parameters: cosmological_simulation   = 0.0\n"
     ]
    },
    {
     "name": "stdout",
     "output_type": "stream",
     "text": [
      "mixing_layer.out1.00246\n"
     ]
    },
    {
     "name": "stderr",
     "output_type": "stream",
     "text": [
      "yt : [WARNING  ] 2020-03-09 02:01:37,721 Assuming 1.0 = 1.0 cm\n",
      "yt : [WARNING  ] 2020-03-09 02:01:37,723 Assuming 1.0 = 1.0 s\n",
      "yt : [WARNING  ] 2020-03-09 02:01:37,724 Assuming 1.0 = 1.0 g\n",
      "yt : [WARNING  ] 2020-03-09 02:01:37,725 Assuming 1.0 = 1.0 K\n",
      "yt : [INFO     ] 2020-03-09 02:01:37,739 Parameters: current_time              = 465348583339552.7\n",
      "yt : [INFO     ] 2020-03-09 02:01:37,740 Parameters: domain_dimensions         = [256 640   1]\n",
      "yt : [INFO     ] 2020-03-09 02:01:37,741 Parameters: domain_left_edge          = [-1.5450e+19 -3.8625e+19 -5.0000e-01]\n",
      "yt : [INFO     ] 2020-03-09 02:01:37,741 Parameters: domain_right_edge         = [1.5450e+19 3.8625e+19 5.0000e-01]\n",
      "yt : [INFO     ] 2020-03-09 02:01:37,742 Parameters: cosmological_simulation   = 0.0\n"
     ]
    },
    {
     "name": "stdout",
     "output_type": "stream",
     "text": [
      "mixing_layer.out1.00247\n"
     ]
    },
    {
     "name": "stderr",
     "output_type": "stream",
     "text": [
      "yt : [WARNING  ] 2020-03-09 02:01:37,772 Assuming 1.0 = 1.0 cm\n",
      "yt : [WARNING  ] 2020-03-09 02:01:37,773 Assuming 1.0 = 1.0 s\n",
      "yt : [WARNING  ] 2020-03-09 02:01:37,774 Assuming 1.0 = 1.0 g\n",
      "yt : [WARNING  ] 2020-03-09 02:01:37,775 Assuming 1.0 = 1.0 K\n",
      "yt : [INFO     ] 2020-03-09 02:01:37,788 Parameters: current_time              = 467232507803343.56\n",
      "yt : [INFO     ] 2020-03-09 02:01:37,789 Parameters: domain_dimensions         = [256 640   1]\n",
      "yt : [INFO     ] 2020-03-09 02:01:37,790 Parameters: domain_left_edge          = [-1.5450e+19 -3.8625e+19 -5.0000e-01]\n",
      "yt : [INFO     ] 2020-03-09 02:01:37,790 Parameters: domain_right_edge         = [1.5450e+19 3.8625e+19 5.0000e-01]\n",
      "yt : [INFO     ] 2020-03-09 02:01:37,791 Parameters: cosmological_simulation   = 0.0\n"
     ]
    },
    {
     "name": "stdout",
     "output_type": "stream",
     "text": [
      "mixing_layer.out1.00248\n"
     ]
    },
    {
     "name": "stderr",
     "output_type": "stream",
     "text": [
      "yt : [WARNING  ] 2020-03-09 02:01:37,819 Assuming 1.0 = 1.0 cm\n",
      "yt : [WARNING  ] 2020-03-09 02:01:37,821 Assuming 1.0 = 1.0 s\n",
      "yt : [WARNING  ] 2020-03-09 02:01:37,822 Assuming 1.0 = 1.0 g\n",
      "yt : [WARNING  ] 2020-03-09 02:01:37,823 Assuming 1.0 = 1.0 K\n",
      "yt : [INFO     ] 2020-03-09 02:01:37,836 Parameters: current_time              = 469116694967909.25\n",
      "yt : [INFO     ] 2020-03-09 02:01:37,837 Parameters: domain_dimensions         = [256 640   1]\n",
      "yt : [INFO     ] 2020-03-09 02:01:37,838 Parameters: domain_left_edge          = [-1.5450e+19 -3.8625e+19 -5.0000e-01]\n",
      "yt : [INFO     ] 2020-03-09 02:01:37,839 Parameters: domain_right_edge         = [1.5450e+19 3.8625e+19 5.0000e-01]\n",
      "yt : [INFO     ] 2020-03-09 02:01:37,840 Parameters: cosmological_simulation   = 0.0\n"
     ]
    },
    {
     "name": "stdout",
     "output_type": "stream",
     "text": [
      "mixing_layer.out1.00249\n"
     ]
    },
    {
     "name": "stderr",
     "output_type": "stream",
     "text": [
      "yt : [WARNING  ] 2020-03-09 02:01:37,870 Assuming 1.0 = 1.0 cm\n",
      "yt : [WARNING  ] 2020-03-09 02:01:37,871 Assuming 1.0 = 1.0 s\n",
      "yt : [WARNING  ] 2020-03-09 02:01:37,872 Assuming 1.0 = 1.0 g\n",
      "yt : [WARNING  ] 2020-03-09 02:01:37,873 Assuming 1.0 = 1.0 K\n",
      "yt : [INFO     ] 2020-03-09 02:01:37,884 Parameters: current_time              = 471001583506353.8\n",
      "yt : [INFO     ] 2020-03-09 02:01:37,885 Parameters: domain_dimensions         = [256 640   1]\n",
      "yt : [INFO     ] 2020-03-09 02:01:37,886 Parameters: domain_left_edge          = [-1.5450e+19 -3.8625e+19 -5.0000e-01]\n",
      "yt : [INFO     ] 2020-03-09 02:01:37,887 Parameters: domain_right_edge         = [1.5450e+19 3.8625e+19 5.0000e-01]\n",
      "yt : [INFO     ] 2020-03-09 02:01:37,888 Parameters: cosmological_simulation   = 0.0\n"
     ]
    },
    {
     "name": "stdout",
     "output_type": "stream",
     "text": [
      "mixing_layer.out1.00250\n"
     ]
    },
    {
     "name": "stderr",
     "output_type": "stream",
     "text": [
      "yt : [WARNING  ] 2020-03-09 02:01:37,917 Assuming 1.0 = 1.0 cm\n",
      "yt : [WARNING  ] 2020-03-09 02:01:37,918 Assuming 1.0 = 1.0 s\n",
      "yt : [WARNING  ] 2020-03-09 02:01:37,919 Assuming 1.0 = 1.0 g\n",
      "yt : [WARNING  ] 2020-03-09 02:01:37,920 Assuming 1.0 = 1.0 K\n",
      "yt : [INFO     ] 2020-03-09 02:01:37,931 Parameters: current_time              = 472885069638248.1\n",
      "yt : [INFO     ] 2020-03-09 02:01:37,932 Parameters: domain_dimensions         = [256 640   1]\n",
      "yt : [INFO     ] 2020-03-09 02:01:37,933 Parameters: domain_left_edge          = [-1.5450e+19 -3.8625e+19 -5.0000e-01]\n",
      "yt : [INFO     ] 2020-03-09 02:01:37,934 Parameters: domain_right_edge         = [1.5450e+19 3.8625e+19 5.0000e-01]\n",
      "yt : [INFO     ] 2020-03-09 02:01:37,935 Parameters: cosmological_simulation   = 0.0\n"
     ]
    },
    {
     "name": "stdout",
     "output_type": "stream",
     "text": [
      "mixing_layer.out1.00251\n"
     ]
    },
    {
     "name": "stderr",
     "output_type": "stream",
     "text": [
      "yt : [WARNING  ] 2020-03-09 02:01:37,964 Assuming 1.0 = 1.0 cm\n",
      "yt : [WARNING  ] 2020-03-09 02:01:37,965 Assuming 1.0 = 1.0 s\n",
      "yt : [WARNING  ] 2020-03-09 02:01:37,967 Assuming 1.0 = 1.0 g\n",
      "yt : [WARNING  ] 2020-03-09 02:01:37,968 Assuming 1.0 = 1.0 K\n",
      "yt : [INFO     ] 2020-03-09 02:01:37,980 Parameters: current_time              = 474768448848237.3\n",
      "yt : [INFO     ] 2020-03-09 02:01:37,980 Parameters: domain_dimensions         = [256 640   1]\n",
      "yt : [INFO     ] 2020-03-09 02:01:37,981 Parameters: domain_left_edge          = [-1.5450e+19 -3.8625e+19 -5.0000e-01]\n",
      "yt : [INFO     ] 2020-03-09 02:01:37,982 Parameters: domain_right_edge         = [1.5450e+19 3.8625e+19 5.0000e-01]\n",
      "yt : [INFO     ] 2020-03-09 02:01:37,983 Parameters: cosmological_simulation   = 0.0\n"
     ]
    },
    {
     "name": "stdout",
     "output_type": "stream",
     "text": [
      "mixing_layer.out1.00252\n"
     ]
    },
    {
     "name": "stderr",
     "output_type": "stream",
     "text": [
      "yt : [WARNING  ] 2020-03-09 02:01:38,012 Assuming 1.0 = 1.0 cm\n",
      "yt : [WARNING  ] 2020-03-09 02:01:38,013 Assuming 1.0 = 1.0 s\n",
      "yt : [WARNING  ] 2020-03-09 02:01:38,015 Assuming 1.0 = 1.0 g\n",
      "yt : [WARNING  ] 2020-03-09 02:01:38,016 Assuming 1.0 = 1.0 K\n",
      "yt : [INFO     ] 2020-03-09 02:01:38,027 Parameters: current_time              = 476652031449022.1\n",
      "yt : [INFO     ] 2020-03-09 02:01:38,029 Parameters: domain_dimensions         = [256 640   1]\n",
      "yt : [INFO     ] 2020-03-09 02:01:38,029 Parameters: domain_left_edge          = [-1.5450e+19 -3.8625e+19 -5.0000e-01]\n",
      "yt : [INFO     ] 2020-03-09 02:01:38,030 Parameters: domain_right_edge         = [1.5450e+19 3.8625e+19 5.0000e-01]\n",
      "yt : [INFO     ] 2020-03-09 02:01:38,032 Parameters: cosmological_simulation   = 0.0\n"
     ]
    },
    {
     "name": "stdout",
     "output_type": "stream",
     "text": [
      "mixing_layer.out1.00253\n"
     ]
    },
    {
     "name": "stderr",
     "output_type": "stream",
     "text": [
      "yt : [WARNING  ] 2020-03-09 02:01:38,062 Assuming 1.0 = 1.0 cm\n",
      "yt : [WARNING  ] 2020-03-09 02:01:38,063 Assuming 1.0 = 1.0 s\n",
      "yt : [WARNING  ] 2020-03-09 02:01:38,064 Assuming 1.0 = 1.0 g\n",
      "yt : [WARNING  ] 2020-03-09 02:01:38,066 Assuming 1.0 = 1.0 K\n",
      "yt : [INFO     ] 2020-03-09 02:01:38,077 Parameters: current_time              = 478536563280637.0\n",
      "yt : [INFO     ] 2020-03-09 02:01:38,078 Parameters: domain_dimensions         = [256 640   1]\n",
      "yt : [INFO     ] 2020-03-09 02:01:38,079 Parameters: domain_left_edge          = [-1.5450e+19 -3.8625e+19 -5.0000e-01]\n",
      "yt : [INFO     ] 2020-03-09 02:01:38,080 Parameters: domain_right_edge         = [1.5450e+19 3.8625e+19 5.0000e-01]\n",
      "yt : [INFO     ] 2020-03-09 02:01:38,081 Parameters: cosmological_simulation   = 0.0\n"
     ]
    },
    {
     "name": "stdout",
     "output_type": "stream",
     "text": [
      "mixing_layer.out1.00254\n"
     ]
    },
    {
     "name": "stderr",
     "output_type": "stream",
     "text": [
      "yt : [WARNING  ] 2020-03-09 02:01:38,112 Assuming 1.0 = 1.0 cm\n",
      "yt : [WARNING  ] 2020-03-09 02:01:38,114 Assuming 1.0 = 1.0 s\n",
      "yt : [WARNING  ] 2020-03-09 02:01:38,115 Assuming 1.0 = 1.0 g\n",
      "yt : [WARNING  ] 2020-03-09 02:01:38,118 Assuming 1.0 = 1.0 K\n",
      "yt : [INFO     ] 2020-03-09 02:01:38,133 Parameters: current_time              = 480420203144605.94\n",
      "yt : [INFO     ] 2020-03-09 02:01:38,134 Parameters: domain_dimensions         = [256 640   1]\n",
      "yt : [INFO     ] 2020-03-09 02:01:38,135 Parameters: domain_left_edge          = [-1.5450e+19 -3.8625e+19 -5.0000e-01]\n",
      "yt : [INFO     ] 2020-03-09 02:01:38,136 Parameters: domain_right_edge         = [1.5450e+19 3.8625e+19 5.0000e-01]\n",
      "yt : [INFO     ] 2020-03-09 02:01:38,137 Parameters: cosmological_simulation   = 0.0\n"
     ]
    },
    {
     "name": "stdout",
     "output_type": "stream",
     "text": [
      "mixing_layer.out1.00255\n"
     ]
    },
    {
     "name": "stderr",
     "output_type": "stream",
     "text": [
      "yt : [WARNING  ] 2020-03-09 02:01:38,164 Assuming 1.0 = 1.0 cm\n",
      "yt : [WARNING  ] 2020-03-09 02:01:38,166 Assuming 1.0 = 1.0 s\n",
      "yt : [WARNING  ] 2020-03-09 02:01:38,167 Assuming 1.0 = 1.0 g\n",
      "yt : [WARNING  ] 2020-03-09 02:01:38,168 Assuming 1.0 = 1.0 K\n",
      "yt : [INFO     ] 2020-03-09 02:01:38,181 Parameters: current_time              = 482304921263455.25\n",
      "yt : [INFO     ] 2020-03-09 02:01:38,182 Parameters: domain_dimensions         = [256 640   1]\n",
      "yt : [INFO     ] 2020-03-09 02:01:38,183 Parameters: domain_left_edge          = [-1.5450e+19 -3.8625e+19 -5.0000e-01]\n",
      "yt : [INFO     ] 2020-03-09 02:01:38,185 Parameters: domain_right_edge         = [1.5450e+19 3.8625e+19 5.0000e-01]\n",
      "yt : [INFO     ] 2020-03-09 02:01:38,186 Parameters: cosmological_simulation   = 0.0\n"
     ]
    },
    {
     "name": "stdout",
     "output_type": "stream",
     "text": [
      "mixing_layer.out1.00256\n"
     ]
    },
    {
     "name": "stderr",
     "output_type": "stream",
     "text": [
      "yt : [WARNING  ] 2020-03-09 02:01:38,215 Assuming 1.0 = 1.0 cm\n",
      "yt : [WARNING  ] 2020-03-09 02:01:38,216 Assuming 1.0 = 1.0 s\n",
      "yt : [WARNING  ] 2020-03-09 02:01:38,217 Assuming 1.0 = 1.0 g\n",
      "yt : [WARNING  ] 2020-03-09 02:01:38,218 Assuming 1.0 = 1.0 K\n",
      "yt : [INFO     ] 2020-03-09 02:01:38,231 Parameters: current_time              = 484190534266649.25\n",
      "yt : [INFO     ] 2020-03-09 02:01:38,232 Parameters: domain_dimensions         = [256 640   1]\n",
      "yt : [INFO     ] 2020-03-09 02:01:38,233 Parameters: domain_left_edge          = [-1.5450e+19 -3.8625e+19 -5.0000e-01]\n",
      "yt : [INFO     ] 2020-03-09 02:01:38,235 Parameters: domain_right_edge         = [1.5450e+19 3.8625e+19 5.0000e-01]\n",
      "yt : [INFO     ] 2020-03-09 02:01:38,236 Parameters: cosmological_simulation   = 0.0\n"
     ]
    },
    {
     "name": "stdout",
     "output_type": "stream",
     "text": [
      "mixing_layer.out1.00257\n"
     ]
    },
    {
     "name": "stderr",
     "output_type": "stream",
     "text": [
      "yt : [WARNING  ] 2020-03-09 02:01:38,264 Assuming 1.0 = 1.0 cm\n",
      "yt : [WARNING  ] 2020-03-09 02:01:38,265 Assuming 1.0 = 1.0 s\n",
      "yt : [WARNING  ] 2020-03-09 02:01:38,266 Assuming 1.0 = 1.0 g\n",
      "yt : [WARNING  ] 2020-03-09 02:01:38,267 Assuming 1.0 = 1.0 K\n",
      "yt : [INFO     ] 2020-03-09 02:01:38,281 Parameters: current_time              = 486073176325555.7\n",
      "yt : [INFO     ] 2020-03-09 02:01:38,282 Parameters: domain_dimensions         = [256 640   1]\n",
      "yt : [INFO     ] 2020-03-09 02:01:38,283 Parameters: domain_left_edge          = [-1.5450e+19 -3.8625e+19 -5.0000e-01]\n",
      "yt : [INFO     ] 2020-03-09 02:01:38,284 Parameters: domain_right_edge         = [1.5450e+19 3.8625e+19 5.0000e-01]\n",
      "yt : [INFO     ] 2020-03-09 02:01:38,285 Parameters: cosmological_simulation   = 0.0\n"
     ]
    },
    {
     "name": "stdout",
     "output_type": "stream",
     "text": [
      "mixing_layer.out1.00258\n"
     ]
    },
    {
     "name": "stderr",
     "output_type": "stream",
     "text": [
      "yt : [WARNING  ] 2020-03-09 02:01:38,314 Assuming 1.0 = 1.0 cm\n",
      "yt : [WARNING  ] 2020-03-09 02:01:38,315 Assuming 1.0 = 1.0 s\n",
      "yt : [WARNING  ] 2020-03-09 02:01:38,316 Assuming 1.0 = 1.0 g\n",
      "yt : [WARNING  ] 2020-03-09 02:01:38,317 Assuming 1.0 = 1.0 K\n",
      "yt : [INFO     ] 2020-03-09 02:01:38,328 Parameters: current_time              = 487958479954636.25\n",
      "yt : [INFO     ] 2020-03-09 02:01:38,329 Parameters: domain_dimensions         = [256 640   1]\n",
      "yt : [INFO     ] 2020-03-09 02:01:38,330 Parameters: domain_left_edge          = [-1.5450e+19 -3.8625e+19 -5.0000e-01]\n",
      "yt : [INFO     ] 2020-03-09 02:01:38,331 Parameters: domain_right_edge         = [1.5450e+19 3.8625e+19 5.0000e-01]\n",
      "yt : [INFO     ] 2020-03-09 02:01:38,332 Parameters: cosmological_simulation   = 0.0\n"
     ]
    },
    {
     "name": "stdout",
     "output_type": "stream",
     "text": [
      "mixing_layer.out1.00259\n"
     ]
    },
    {
     "name": "stderr",
     "output_type": "stream",
     "text": [
      "yt : [WARNING  ] 2020-03-09 02:01:38,362 Assuming 1.0 = 1.0 cm\n",
      "yt : [WARNING  ] 2020-03-09 02:01:38,362 Assuming 1.0 = 1.0 s\n",
      "yt : [WARNING  ] 2020-03-09 02:01:38,363 Assuming 1.0 = 1.0 g\n",
      "yt : [WARNING  ] 2020-03-09 02:01:38,364 Assuming 1.0 = 1.0 K\n",
      "yt : [INFO     ] 2020-03-09 02:01:38,377 Parameters: current_time              = 489842438780140.7\n",
      "yt : [INFO     ] 2020-03-09 02:01:38,377 Parameters: domain_dimensions         = [256 640   1]\n",
      "yt : [INFO     ] 2020-03-09 02:01:38,378 Parameters: domain_left_edge          = [-1.5450e+19 -3.8625e+19 -5.0000e-01]\n",
      "yt : [INFO     ] 2020-03-09 02:01:38,380 Parameters: domain_right_edge         = [1.5450e+19 3.8625e+19 5.0000e-01]\n",
      "yt : [INFO     ] 2020-03-09 02:01:38,381 Parameters: cosmological_simulation   = 0.0\n"
     ]
    },
    {
     "name": "stdout",
     "output_type": "stream",
     "text": [
      "mixing_layer.out1.00260\n"
     ]
    },
    {
     "name": "stderr",
     "output_type": "stream",
     "text": [
      "yt : [WARNING  ] 2020-03-09 02:01:38,410 Assuming 1.0 = 1.0 cm\n",
      "yt : [WARNING  ] 2020-03-09 02:01:38,411 Assuming 1.0 = 1.0 s\n",
      "yt : [WARNING  ] 2020-03-09 02:01:38,412 Assuming 1.0 = 1.0 g\n",
      "yt : [WARNING  ] 2020-03-09 02:01:38,412 Assuming 1.0 = 1.0 K\n",
      "yt : [INFO     ] 2020-03-09 02:01:38,427 Parameters: current_time              = 491724817379585.25\n",
      "yt : [INFO     ] 2020-03-09 02:01:38,427 Parameters: domain_dimensions         = [256 640   1]\n",
      "yt : [INFO     ] 2020-03-09 02:01:38,428 Parameters: domain_left_edge          = [-1.5450e+19 -3.8625e+19 -5.0000e-01]\n",
      "yt : [INFO     ] 2020-03-09 02:01:38,429 Parameters: domain_right_edge         = [1.5450e+19 3.8625e+19 5.0000e-01]\n",
      "yt : [INFO     ] 2020-03-09 02:01:38,430 Parameters: cosmological_simulation   = 0.0\n"
     ]
    },
    {
     "name": "stdout",
     "output_type": "stream",
     "text": [
      "mixing_layer.out1.00261\n"
     ]
    },
    {
     "name": "stderr",
     "output_type": "stream",
     "text": [
      "yt : [WARNING  ] 2020-03-09 02:01:38,461 Assuming 1.0 = 1.0 cm\n",
      "yt : [WARNING  ] 2020-03-09 02:01:38,462 Assuming 1.0 = 1.0 s\n",
      "yt : [WARNING  ] 2020-03-09 02:01:38,463 Assuming 1.0 = 1.0 g\n",
      "yt : [WARNING  ] 2020-03-09 02:01:38,464 Assuming 1.0 = 1.0 K\n",
      "yt : [INFO     ] 2020-03-09 02:01:38,477 Parameters: current_time              = 493608889860517.75\n",
      "yt : [INFO     ] 2020-03-09 02:01:38,477 Parameters: domain_dimensions         = [256 640   1]\n",
      "yt : [INFO     ] 2020-03-09 02:01:38,478 Parameters: domain_left_edge          = [-1.5450e+19 -3.8625e+19 -5.0000e-01]\n",
      "yt : [INFO     ] 2020-03-09 02:01:38,479 Parameters: domain_right_edge         = [1.5450e+19 3.8625e+19 5.0000e-01]\n",
      "yt : [INFO     ] 2020-03-09 02:01:38,480 Parameters: cosmological_simulation   = 0.0\n"
     ]
    },
    {
     "name": "stdout",
     "output_type": "stream",
     "text": [
      "mixing_layer.out1.00262\n"
     ]
    },
    {
     "name": "stderr",
     "output_type": "stream",
     "text": [
      "yt : [WARNING  ] 2020-03-09 02:01:38,511 Assuming 1.0 = 1.0 cm\n",
      "yt : [WARNING  ] 2020-03-09 02:01:38,512 Assuming 1.0 = 1.0 s\n",
      "yt : [WARNING  ] 2020-03-09 02:01:38,513 Assuming 1.0 = 1.0 g\n",
      "yt : [WARNING  ] 2020-03-09 02:01:38,514 Assuming 1.0 = 1.0 K\n",
      "yt : [INFO     ] 2020-03-09 02:01:38,527 Parameters: current_time              = 495492032783487.1\n",
      "yt : [INFO     ] 2020-03-09 02:01:38,528 Parameters: domain_dimensions         = [256 640   1]\n",
      "yt : [INFO     ] 2020-03-09 02:01:38,530 Parameters: domain_left_edge          = [-1.5450e+19 -3.8625e+19 -5.0000e-01]\n",
      "yt : [INFO     ] 2020-03-09 02:01:38,532 Parameters: domain_right_edge         = [1.5450e+19 3.8625e+19 5.0000e-01]\n",
      "yt : [INFO     ] 2020-03-09 02:01:38,533 Parameters: cosmological_simulation   = 0.0\n"
     ]
    },
    {
     "name": "stdout",
     "output_type": "stream",
     "text": [
      "mixing_layer.out1.00263\n"
     ]
    },
    {
     "name": "stderr",
     "output_type": "stream",
     "text": [
      "yt : [WARNING  ] 2020-03-09 02:01:38,566 Assuming 1.0 = 1.0 cm\n",
      "yt : [WARNING  ] 2020-03-09 02:01:38,567 Assuming 1.0 = 1.0 s\n",
      "yt : [WARNING  ] 2020-03-09 02:01:38,568 Assuming 1.0 = 1.0 g\n",
      "yt : [WARNING  ] 2020-03-09 02:01:38,569 Assuming 1.0 = 1.0 K\n",
      "yt : [INFO     ] 2020-03-09 02:01:38,586 Parameters: current_time              = 497378493924443.8\n",
      "yt : [INFO     ] 2020-03-09 02:01:38,587 Parameters: domain_dimensions         = [256 640   1]\n",
      "yt : [INFO     ] 2020-03-09 02:01:38,588 Parameters: domain_left_edge          = [-1.5450e+19 -3.8625e+19 -5.0000e-01]\n",
      "yt : [INFO     ] 2020-03-09 02:01:38,589 Parameters: domain_right_edge         = [1.5450e+19 3.8625e+19 5.0000e-01]\n",
      "yt : [INFO     ] 2020-03-09 02:01:38,590 Parameters: cosmological_simulation   = 0.0\n"
     ]
    },
    {
     "name": "stdout",
     "output_type": "stream",
     "text": [
      "mixing_layer.out1.00264\n"
     ]
    },
    {
     "name": "stderr",
     "output_type": "stream",
     "text": [
      "yt : [WARNING  ] 2020-03-09 02:01:38,634 Assuming 1.0 = 1.0 cm\n",
      "yt : [WARNING  ] 2020-03-09 02:01:38,635 Assuming 1.0 = 1.0 s\n",
      "yt : [WARNING  ] 2020-03-09 02:01:38,636 Assuming 1.0 = 1.0 g\n",
      "yt : [WARNING  ] 2020-03-09 02:01:38,637 Assuming 1.0 = 1.0 K\n",
      "yt : [INFO     ] 2020-03-09 02:01:38,650 Parameters: current_time              = 499260670277603.4\n",
      "yt : [INFO     ] 2020-03-09 02:01:38,651 Parameters: domain_dimensions         = [256 640   1]\n",
      "yt : [INFO     ] 2020-03-09 02:01:38,652 Parameters: domain_left_edge          = [-1.5450e+19 -3.8625e+19 -5.0000e-01]\n",
      "yt : [INFO     ] 2020-03-09 02:01:38,653 Parameters: domain_right_edge         = [1.5450e+19 3.8625e+19 5.0000e-01]\n",
      "yt : [INFO     ] 2020-03-09 02:01:38,654 Parameters: cosmological_simulation   = 0.0\n"
     ]
    },
    {
     "name": "stdout",
     "output_type": "stream",
     "text": [
      "mixing_layer.out1.00265\n"
     ]
    },
    {
     "name": "stderr",
     "output_type": "stream",
     "text": [
      "yt : [WARNING  ] 2020-03-09 02:01:38,691 Assuming 1.0 = 1.0 cm\n",
      "yt : [WARNING  ] 2020-03-09 02:01:38,692 Assuming 1.0 = 1.0 s\n",
      "yt : [WARNING  ] 2020-03-09 02:01:38,693 Assuming 1.0 = 1.0 g\n",
      "yt : [WARNING  ] 2020-03-09 02:01:38,694 Assuming 1.0 = 1.0 K\n",
      "yt : [INFO     ] 2020-03-09 02:01:38,706 Parameters: current_time              = 501145249721099.06\n",
      "yt : [INFO     ] 2020-03-09 02:01:38,706 Parameters: domain_dimensions         = [256 640   1]\n",
      "yt : [INFO     ] 2020-03-09 02:01:38,707 Parameters: domain_left_edge          = [-1.5450e+19 -3.8625e+19 -5.0000e-01]\n",
      "yt : [INFO     ] 2020-03-09 02:01:38,708 Parameters: domain_right_edge         = [1.5450e+19 3.8625e+19 5.0000e-01]\n",
      "yt : [INFO     ] 2020-03-09 02:01:38,709 Parameters: cosmological_simulation   = 0.0\n"
     ]
    },
    {
     "name": "stdout",
     "output_type": "stream",
     "text": [
      "mixing_layer.out1.00266\n"
     ]
    },
    {
     "name": "stderr",
     "output_type": "stream",
     "text": [
      "yt : [WARNING  ] 2020-03-09 02:01:38,740 Assuming 1.0 = 1.0 cm\n",
      "yt : [WARNING  ] 2020-03-09 02:01:38,741 Assuming 1.0 = 1.0 s\n",
      "yt : [WARNING  ] 2020-03-09 02:01:38,743 Assuming 1.0 = 1.0 g\n",
      "yt : [WARNING  ] 2020-03-09 02:01:38,743 Assuming 1.0 = 1.0 K\n",
      "yt : [INFO     ] 2020-03-09 02:01:38,756 Parameters: current_time              = 503029723569269.25\n",
      "yt : [INFO     ] 2020-03-09 02:01:38,757 Parameters: domain_dimensions         = [256 640   1]\n",
      "yt : [INFO     ] 2020-03-09 02:01:38,758 Parameters: domain_left_edge          = [-1.5450e+19 -3.8625e+19 -5.0000e-01]\n",
      "yt : [INFO     ] 2020-03-09 02:01:38,759 Parameters: domain_right_edge         = [1.5450e+19 3.8625e+19 5.0000e-01]\n",
      "yt : [INFO     ] 2020-03-09 02:01:38,760 Parameters: cosmological_simulation   = 0.0\n"
     ]
    },
    {
     "name": "stdout",
     "output_type": "stream",
     "text": [
      "mixing_layer.out1.00267\n"
     ]
    },
    {
     "name": "stderr",
     "output_type": "stream",
     "text": [
      "yt : [WARNING  ] 2020-03-09 02:01:38,792 Assuming 1.0 = 1.0 cm\n",
      "yt : [WARNING  ] 2020-03-09 02:01:38,793 Assuming 1.0 = 1.0 s\n",
      "yt : [WARNING  ] 2020-03-09 02:01:38,795 Assuming 1.0 = 1.0 g\n",
      "yt : [WARNING  ] 2020-03-09 02:01:38,796 Assuming 1.0 = 1.0 K\n",
      "yt : [INFO     ] 2020-03-09 02:01:38,809 Parameters: current_time              = 504912188781739.6\n",
      "yt : [INFO     ] 2020-03-09 02:01:38,810 Parameters: domain_dimensions         = [256 640   1]\n",
      "yt : [INFO     ] 2020-03-09 02:01:38,811 Parameters: domain_left_edge          = [-1.5450e+19 -3.8625e+19 -5.0000e-01]\n",
      "yt : [INFO     ] 2020-03-09 02:01:38,812 Parameters: domain_right_edge         = [1.5450e+19 3.8625e+19 5.0000e-01]\n",
      "yt : [INFO     ] 2020-03-09 02:01:38,813 Parameters: cosmological_simulation   = 0.0\n"
     ]
    },
    {
     "name": "stdout",
     "output_type": "stream",
     "text": [
      "mixing_layer.out1.00268\n"
     ]
    },
    {
     "name": "stderr",
     "output_type": "stream",
     "text": [
      "yt : [WARNING  ] 2020-03-09 02:01:38,844 Assuming 1.0 = 1.0 cm\n",
      "yt : [WARNING  ] 2020-03-09 02:01:38,845 Assuming 1.0 = 1.0 s\n",
      "yt : [WARNING  ] 2020-03-09 02:01:38,845 Assuming 1.0 = 1.0 g\n",
      "yt : [WARNING  ] 2020-03-09 02:01:38,846 Assuming 1.0 = 1.0 K\n",
      "yt : [INFO     ] 2020-03-09 02:01:38,858 Parameters: current_time              = 506796306670827.75\n",
      "yt : [INFO     ] 2020-03-09 02:01:38,859 Parameters: domain_dimensions         = [256 640   1]\n",
      "yt : [INFO     ] 2020-03-09 02:01:38,860 Parameters: domain_left_edge          = [-1.5450e+19 -3.8625e+19 -5.0000e-01]\n",
      "yt : [INFO     ] 2020-03-09 02:01:38,860 Parameters: domain_right_edge         = [1.5450e+19 3.8625e+19 5.0000e-01]\n",
      "yt : [INFO     ] 2020-03-09 02:01:38,861 Parameters: cosmological_simulation   = 0.0\n"
     ]
    },
    {
     "name": "stdout",
     "output_type": "stream",
     "text": [
      "mixing_layer.out1.00269\n"
     ]
    },
    {
     "name": "stderr",
     "output_type": "stream",
     "text": [
      "yt : [WARNING  ] 2020-03-09 02:01:38,890 Assuming 1.0 = 1.0 cm\n",
      "yt : [WARNING  ] 2020-03-09 02:01:38,892 Assuming 1.0 = 1.0 s\n",
      "yt : [WARNING  ] 2020-03-09 02:01:38,892 Assuming 1.0 = 1.0 g\n",
      "yt : [WARNING  ] 2020-03-09 02:01:38,893 Assuming 1.0 = 1.0 K\n",
      "yt : [INFO     ] 2020-03-09 02:01:38,907 Parameters: current_time              = 508682036548235.0\n",
      "yt : [INFO     ] 2020-03-09 02:01:38,908 Parameters: domain_dimensions         = [256 640   1]\n",
      "yt : [INFO     ] 2020-03-09 02:01:38,909 Parameters: domain_left_edge          = [-1.5450e+19 -3.8625e+19 -5.0000e-01]\n",
      "yt : [INFO     ] 2020-03-09 02:01:38,910 Parameters: domain_right_edge         = [1.5450e+19 3.8625e+19 5.0000e-01]\n",
      "yt : [INFO     ] 2020-03-09 02:01:38,911 Parameters: cosmological_simulation   = 0.0\n"
     ]
    },
    {
     "name": "stdout",
     "output_type": "stream",
     "text": [
      "mixing_layer.out1.00270\n"
     ]
    },
    {
     "name": "stderr",
     "output_type": "stream",
     "text": [
      "yt : [WARNING  ] 2020-03-09 02:01:38,940 Assuming 1.0 = 1.0 cm\n",
      "yt : [WARNING  ] 2020-03-09 02:01:38,941 Assuming 1.0 = 1.0 s\n",
      "yt : [WARNING  ] 2020-03-09 02:01:38,943 Assuming 1.0 = 1.0 g\n",
      "yt : [WARNING  ] 2020-03-09 02:01:38,944 Assuming 1.0 = 1.0 K\n",
      "yt : [INFO     ] 2020-03-09 02:01:38,957 Parameters: current_time              = 510564333778503.56\n",
      "yt : [INFO     ] 2020-03-09 02:01:38,957 Parameters: domain_dimensions         = [256 640   1]\n",
      "yt : [INFO     ] 2020-03-09 02:01:38,958 Parameters: domain_left_edge          = [-1.5450e+19 -3.8625e+19 -5.0000e-01]\n",
      "yt : [INFO     ] 2020-03-09 02:01:38,959 Parameters: domain_right_edge         = [1.5450e+19 3.8625e+19 5.0000e-01]\n",
      "yt : [INFO     ] 2020-03-09 02:01:38,960 Parameters: cosmological_simulation   = 0.0\n"
     ]
    },
    {
     "name": "stdout",
     "output_type": "stream",
     "text": [
      "mixing_layer.out1.00271\n"
     ]
    },
    {
     "name": "stderr",
     "output_type": "stream",
     "text": [
      "yt : [WARNING  ] 2020-03-09 02:01:38,989 Assuming 1.0 = 1.0 cm\n",
      "yt : [WARNING  ] 2020-03-09 02:01:38,991 Assuming 1.0 = 1.0 s\n",
      "yt : [WARNING  ] 2020-03-09 02:01:38,991 Assuming 1.0 = 1.0 g\n",
      "yt : [WARNING  ] 2020-03-09 02:01:38,992 Assuming 1.0 = 1.0 K\n",
      "yt : [INFO     ] 2020-03-09 02:01:39,004 Parameters: current_time              = 512450113377460.2\n",
      "yt : [INFO     ] 2020-03-09 02:01:39,005 Parameters: domain_dimensions         = [256 640   1]\n",
      "yt : [INFO     ] 2020-03-09 02:01:39,006 Parameters: domain_left_edge          = [-1.5450e+19 -3.8625e+19 -5.0000e-01]\n",
      "yt : [INFO     ] 2020-03-09 02:01:39,007 Parameters: domain_right_edge         = [1.5450e+19 3.8625e+19 5.0000e-01]\n",
      "yt : [INFO     ] 2020-03-09 02:01:39,008 Parameters: cosmological_simulation   = 0.0\n"
     ]
    },
    {
     "name": "stdout",
     "output_type": "stream",
     "text": [
      "mixing_layer.out1.00272\n"
     ]
    },
    {
     "name": "stderr",
     "output_type": "stream",
     "text": [
      "yt : [WARNING  ] 2020-03-09 02:01:39,037 Assuming 1.0 = 1.0 cm\n",
      "yt : [WARNING  ] 2020-03-09 02:01:39,038 Assuming 1.0 = 1.0 s\n",
      "yt : [WARNING  ] 2020-03-09 02:01:39,039 Assuming 1.0 = 1.0 g\n",
      "yt : [WARNING  ] 2020-03-09 02:01:39,040 Assuming 1.0 = 1.0 K\n",
      "yt : [INFO     ] 2020-03-09 02:01:39,052 Parameters: current_time              = 514334551511181.3\n",
      "yt : [INFO     ] 2020-03-09 02:01:39,052 Parameters: domain_dimensions         = [256 640   1]\n",
      "yt : [INFO     ] 2020-03-09 02:01:39,053 Parameters: domain_left_edge          = [-1.5450e+19 -3.8625e+19 -5.0000e-01]\n",
      "yt : [INFO     ] 2020-03-09 02:01:39,054 Parameters: domain_right_edge         = [1.5450e+19 3.8625e+19 5.0000e-01]\n",
      "yt : [INFO     ] 2020-03-09 02:01:39,055 Parameters: cosmological_simulation   = 0.0\n"
     ]
    },
    {
     "name": "stdout",
     "output_type": "stream",
     "text": [
      "mixing_layer.out1.00273\n"
     ]
    },
    {
     "name": "stderr",
     "output_type": "stream",
     "text": [
      "yt : [WARNING  ] 2020-03-09 02:01:39,084 Assuming 1.0 = 1.0 cm\n",
      "yt : [WARNING  ] 2020-03-09 02:01:39,085 Assuming 1.0 = 1.0 s\n",
      "yt : [WARNING  ] 2020-03-09 02:01:39,086 Assuming 1.0 = 1.0 g\n",
      "yt : [WARNING  ] 2020-03-09 02:01:39,087 Assuming 1.0 = 1.0 K\n",
      "yt : [INFO     ] 2020-03-09 02:01:39,098 Parameters: current_time              = 516218491824817.06\n",
      "yt : [INFO     ] 2020-03-09 02:01:39,100 Parameters: domain_dimensions         = [256 640   1]\n",
      "yt : [INFO     ] 2020-03-09 02:01:39,100 Parameters: domain_left_edge          = [-1.5450e+19 -3.8625e+19 -5.0000e-01]\n",
      "yt : [INFO     ] 2020-03-09 02:01:39,100 Parameters: domain_right_edge         = [1.5450e+19 3.8625e+19 5.0000e-01]\n",
      "yt : [INFO     ] 2020-03-09 02:01:39,101 Parameters: cosmological_simulation   = 0.0\n"
     ]
    },
    {
     "name": "stdout",
     "output_type": "stream",
     "text": [
      "mixing_layer.out1.00274\n"
     ]
    },
    {
     "name": "stderr",
     "output_type": "stream",
     "text": [
      "yt : [WARNING  ] 2020-03-09 02:01:39,132 Assuming 1.0 = 1.0 cm\n",
      "yt : [WARNING  ] 2020-03-09 02:01:39,133 Assuming 1.0 = 1.0 s\n",
      "yt : [WARNING  ] 2020-03-09 02:01:39,134 Assuming 1.0 = 1.0 g\n",
      "yt : [WARNING  ] 2020-03-09 02:01:39,135 Assuming 1.0 = 1.0 K\n",
      "yt : [INFO     ] 2020-03-09 02:01:39,146 Parameters: current_time              = 518101995651889.4\n",
      "yt : [INFO     ] 2020-03-09 02:01:39,148 Parameters: domain_dimensions         = [256 640   1]\n",
      "yt : [INFO     ] 2020-03-09 02:01:39,149 Parameters: domain_left_edge          = [-1.5450e+19 -3.8625e+19 -5.0000e-01]\n",
      "yt : [INFO     ] 2020-03-09 02:01:39,151 Parameters: domain_right_edge         = [1.5450e+19 3.8625e+19 5.0000e-01]\n",
      "yt : [INFO     ] 2020-03-09 02:01:39,152 Parameters: cosmological_simulation   = 0.0\n"
     ]
    },
    {
     "name": "stdout",
     "output_type": "stream",
     "text": [
      "mixing_layer.out1.00275\n"
     ]
    },
    {
     "name": "stderr",
     "output_type": "stream",
     "text": [
      "yt : [WARNING  ] 2020-03-09 02:01:39,182 Assuming 1.0 = 1.0 cm\n",
      "yt : [WARNING  ] 2020-03-09 02:01:39,183 Assuming 1.0 = 1.0 s\n",
      "yt : [WARNING  ] 2020-03-09 02:01:39,184 Assuming 1.0 = 1.0 g\n",
      "yt : [WARNING  ] 2020-03-09 02:01:39,186 Assuming 1.0 = 1.0 K\n",
      "yt : [INFO     ] 2020-03-09 02:01:39,199 Parameters: current_time              = 519984132568419.3\n",
      "yt : [INFO     ] 2020-03-09 02:01:39,200 Parameters: domain_dimensions         = [256 640   1]\n",
      "yt : [INFO     ] 2020-03-09 02:01:39,201 Parameters: domain_left_edge          = [-1.5450e+19 -3.8625e+19 -5.0000e-01]\n",
      "yt : [INFO     ] 2020-03-09 02:01:39,202 Parameters: domain_right_edge         = [1.5450e+19 3.8625e+19 5.0000e-01]\n",
      "yt : [INFO     ] 2020-03-09 02:01:39,203 Parameters: cosmological_simulation   = 0.0\n"
     ]
    },
    {
     "name": "stdout",
     "output_type": "stream",
     "text": [
      "mixing_layer.out1.00276\n"
     ]
    },
    {
     "name": "stderr",
     "output_type": "stream",
     "text": [
      "yt : [WARNING  ] 2020-03-09 02:01:39,237 Assuming 1.0 = 1.0 cm\n",
      "yt : [WARNING  ] 2020-03-09 02:01:39,238 Assuming 1.0 = 1.0 s\n",
      "yt : [WARNING  ] 2020-03-09 02:01:39,239 Assuming 1.0 = 1.0 g\n",
      "yt : [WARNING  ] 2020-03-09 02:01:39,241 Assuming 1.0 = 1.0 K\n",
      "yt : [INFO     ] 2020-03-09 02:01:39,254 Parameters: current_time              = 521870466659685.25\n",
      "yt : [INFO     ] 2020-03-09 02:01:39,255 Parameters: domain_dimensions         = [256 640   1]\n",
      "yt : [INFO     ] 2020-03-09 02:01:39,256 Parameters: domain_left_edge          = [-1.5450e+19 -3.8625e+19 -5.0000e-01]\n",
      "yt : [INFO     ] 2020-03-09 02:01:39,256 Parameters: domain_right_edge         = [1.5450e+19 3.8625e+19 5.0000e-01]\n",
      "yt : [INFO     ] 2020-03-09 02:01:39,257 Parameters: cosmological_simulation   = 0.0\n"
     ]
    },
    {
     "name": "stdout",
     "output_type": "stream",
     "text": [
      "mixing_layer.out1.00277\n"
     ]
    },
    {
     "name": "stderr",
     "output_type": "stream",
     "text": [
      "yt : [WARNING  ] 2020-03-09 02:01:39,289 Assuming 1.0 = 1.0 cm\n",
      "yt : [WARNING  ] 2020-03-09 02:01:39,290 Assuming 1.0 = 1.0 s\n",
      "yt : [WARNING  ] 2020-03-09 02:01:39,291 Assuming 1.0 = 1.0 g\n",
      "yt : [WARNING  ] 2020-03-09 02:01:39,292 Assuming 1.0 = 1.0 K\n",
      "yt : [INFO     ] 2020-03-09 02:01:39,303 Parameters: current_time              = 523753326528612.0\n",
      "yt : [INFO     ] 2020-03-09 02:01:39,304 Parameters: domain_dimensions         = [256 640   1]\n",
      "yt : [INFO     ] 2020-03-09 02:01:39,305 Parameters: domain_left_edge          = [-1.5450e+19 -3.8625e+19 -5.0000e-01]\n",
      "yt : [INFO     ] 2020-03-09 02:01:39,306 Parameters: domain_right_edge         = [1.5450e+19 3.8625e+19 5.0000e-01]\n",
      "yt : [INFO     ] 2020-03-09 02:01:39,307 Parameters: cosmological_simulation   = 0.0\n"
     ]
    },
    {
     "name": "stdout",
     "output_type": "stream",
     "text": [
      "mixing_layer.out1.00278\n"
     ]
    },
    {
     "name": "stderr",
     "output_type": "stream",
     "text": [
      "yt : [WARNING  ] 2020-03-09 02:01:39,336 Assuming 1.0 = 1.0 cm\n",
      "yt : [WARNING  ] 2020-03-09 02:01:39,337 Assuming 1.0 = 1.0 s\n",
      "yt : [WARNING  ] 2020-03-09 02:01:39,339 Assuming 1.0 = 1.0 g\n",
      "yt : [WARNING  ] 2020-03-09 02:01:39,339 Assuming 1.0 = 1.0 K\n",
      "yt : [INFO     ] 2020-03-09 02:01:39,351 Parameters: current_time              = 525636510543455.94\n",
      "yt : [INFO     ] 2020-03-09 02:01:39,352 Parameters: domain_dimensions         = [256 640   1]\n",
      "yt : [INFO     ] 2020-03-09 02:01:39,352 Parameters: domain_left_edge          = [-1.5450e+19 -3.8625e+19 -5.0000e-01]\n",
      "yt : [INFO     ] 2020-03-09 02:01:39,354 Parameters: domain_right_edge         = [1.5450e+19 3.8625e+19 5.0000e-01]\n",
      "yt : [INFO     ] 2020-03-09 02:01:39,354 Parameters: cosmological_simulation   = 0.0\n"
     ]
    },
    {
     "name": "stdout",
     "output_type": "stream",
     "text": [
      "mixing_layer.out1.00279\n"
     ]
    },
    {
     "name": "stderr",
     "output_type": "stream",
     "text": [
      "yt : [WARNING  ] 2020-03-09 02:01:39,390 Assuming 1.0 = 1.0 cm\n",
      "yt : [WARNING  ] 2020-03-09 02:01:39,391 Assuming 1.0 = 1.0 s\n",
      "yt : [WARNING  ] 2020-03-09 02:01:39,392 Assuming 1.0 = 1.0 g\n",
      "yt : [WARNING  ] 2020-03-09 02:01:39,393 Assuming 1.0 = 1.0 K\n",
      "yt : [INFO     ] 2020-03-09 02:01:39,405 Parameters: current_time              = 527522223123222.75\n",
      "yt : [INFO     ] 2020-03-09 02:01:39,406 Parameters: domain_dimensions         = [256 640   1]\n",
      "yt : [INFO     ] 2020-03-09 02:01:39,406 Parameters: domain_left_edge          = [-1.5450e+19 -3.8625e+19 -5.0000e-01]\n",
      "yt : [INFO     ] 2020-03-09 02:01:39,407 Parameters: domain_right_edge         = [1.5450e+19 3.8625e+19 5.0000e-01]\n",
      "yt : [INFO     ] 2020-03-09 02:01:39,408 Parameters: cosmological_simulation   = 0.0\n"
     ]
    },
    {
     "name": "stdout",
     "output_type": "stream",
     "text": [
      "mixing_layer.out1.00280\n"
     ]
    },
    {
     "name": "stderr",
     "output_type": "stream",
     "text": [
      "yt : [WARNING  ] 2020-03-09 02:01:39,438 Assuming 1.0 = 1.0 cm\n",
      "yt : [WARNING  ] 2020-03-09 02:01:39,439 Assuming 1.0 = 1.0 s\n",
      "yt : [WARNING  ] 2020-03-09 02:01:39,440 Assuming 1.0 = 1.0 g\n",
      "yt : [WARNING  ] 2020-03-09 02:01:39,441 Assuming 1.0 = 1.0 K\n",
      "yt : [INFO     ] 2020-03-09 02:01:39,454 Parameters: current_time              = 529404112139477.2\n",
      "yt : [INFO     ] 2020-03-09 02:01:39,455 Parameters: domain_dimensions         = [256 640   1]\n",
      "yt : [INFO     ] 2020-03-09 02:01:39,456 Parameters: domain_left_edge          = [-1.5450e+19 -3.8625e+19 -5.0000e-01]\n",
      "yt : [INFO     ] 2020-03-09 02:01:39,457 Parameters: domain_right_edge         = [1.5450e+19 3.8625e+19 5.0000e-01]\n",
      "yt : [INFO     ] 2020-03-09 02:01:39,458 Parameters: cosmological_simulation   = 0.0\n"
     ]
    },
    {
     "name": "stdout",
     "output_type": "stream",
     "text": [
      "mixing_layer.out1.00281\n"
     ]
    },
    {
     "name": "stderr",
     "output_type": "stream",
     "text": [
      "yt : [WARNING  ] 2020-03-09 02:01:39,487 Assuming 1.0 = 1.0 cm\n",
      "yt : [WARNING  ] 2020-03-09 02:01:39,488 Assuming 1.0 = 1.0 s\n",
      "yt : [WARNING  ] 2020-03-09 02:01:39,489 Assuming 1.0 = 1.0 g\n",
      "yt : [WARNING  ] 2020-03-09 02:01:39,490 Assuming 1.0 = 1.0 K\n",
      "yt : [INFO     ] 2020-03-09 02:01:39,502 Parameters: current_time              = 531288178445853.8\n",
      "yt : [INFO     ] 2020-03-09 02:01:39,502 Parameters: domain_dimensions         = [256 640   1]\n",
      "yt : [INFO     ] 2020-03-09 02:01:39,503 Parameters: domain_left_edge          = [-1.5450e+19 -3.8625e+19 -5.0000e-01]\n",
      "yt : [INFO     ] 2020-03-09 02:01:39,504 Parameters: domain_right_edge         = [1.5450e+19 3.8625e+19 5.0000e-01]\n",
      "yt : [INFO     ] 2020-03-09 02:01:39,505 Parameters: cosmological_simulation   = 0.0\n"
     ]
    },
    {
     "name": "stdout",
     "output_type": "stream",
     "text": [
      "mixing_layer.out1.00282\n"
     ]
    },
    {
     "name": "stderr",
     "output_type": "stream",
     "text": [
      "yt : [WARNING  ] 2020-03-09 02:01:39,536 Assuming 1.0 = 1.0 cm\n",
      "yt : [WARNING  ] 2020-03-09 02:01:39,537 Assuming 1.0 = 1.0 s\n",
      "yt : [WARNING  ] 2020-03-09 02:01:39,538 Assuming 1.0 = 1.0 g\n",
      "yt : [WARNING  ] 2020-03-09 02:01:39,539 Assuming 1.0 = 1.0 K\n",
      "yt : [INFO     ] 2020-03-09 02:01:39,550 Parameters: current_time              = 533172859263851.1\n",
      "yt : [INFO     ] 2020-03-09 02:01:39,551 Parameters: domain_dimensions         = [256 640   1]\n",
      "yt : [INFO     ] 2020-03-09 02:01:39,552 Parameters: domain_left_edge          = [-1.5450e+19 -3.8625e+19 -5.0000e-01]\n",
      "yt : [INFO     ] 2020-03-09 02:01:39,553 Parameters: domain_right_edge         = [1.5450e+19 3.8625e+19 5.0000e-01]\n",
      "yt : [INFO     ] 2020-03-09 02:01:39,553 Parameters: cosmological_simulation   = 0.0\n"
     ]
    },
    {
     "name": "stdout",
     "output_type": "stream",
     "text": [
      "mixing_layer.out1.00283\n"
     ]
    },
    {
     "name": "stderr",
     "output_type": "stream",
     "text": [
      "yt : [WARNING  ] 2020-03-09 02:01:39,583 Assuming 1.0 = 1.0 cm\n",
      "yt : [WARNING  ] 2020-03-09 02:01:39,584 Assuming 1.0 = 1.0 s\n",
      "yt : [WARNING  ] 2020-03-09 02:01:39,585 Assuming 1.0 = 1.0 g\n",
      "yt : [WARNING  ] 2020-03-09 02:01:39,586 Assuming 1.0 = 1.0 K\n",
      "yt : [INFO     ] 2020-03-09 02:01:39,599 Parameters: current_time              = 535058824173718.4\n",
      "yt : [INFO     ] 2020-03-09 02:01:39,600 Parameters: domain_dimensions         = [256 640   1]\n",
      "yt : [INFO     ] 2020-03-09 02:01:39,601 Parameters: domain_left_edge          = [-1.5450e+19 -3.8625e+19 -5.0000e-01]\n",
      "yt : [INFO     ] 2020-03-09 02:01:39,602 Parameters: domain_right_edge         = [1.5450e+19 3.8625e+19 5.0000e-01]\n",
      "yt : [INFO     ] 2020-03-09 02:01:39,603 Parameters: cosmological_simulation   = 0.0\n"
     ]
    },
    {
     "name": "stdout",
     "output_type": "stream",
     "text": [
      "mixing_layer.out1.00284\n"
     ]
    },
    {
     "name": "stderr",
     "output_type": "stream",
     "text": [
      "yt : [WARNING  ] 2020-03-09 02:01:39,639 Assuming 1.0 = 1.0 cm\n",
      "yt : [WARNING  ] 2020-03-09 02:01:39,640 Assuming 1.0 = 1.0 s\n",
      "yt : [WARNING  ] 2020-03-09 02:01:39,641 Assuming 1.0 = 1.0 g\n",
      "yt : [WARNING  ] 2020-03-09 02:01:39,642 Assuming 1.0 = 1.0 K\n",
      "yt : [INFO     ] 2020-03-09 02:01:39,652 Parameters: current_time              = 536940899954465.0\n",
      "yt : [INFO     ] 2020-03-09 02:01:39,653 Parameters: domain_dimensions         = [256 640   1]\n",
      "yt : [INFO     ] 2020-03-09 02:01:39,654 Parameters: domain_left_edge          = [-1.5450e+19 -3.8625e+19 -5.0000e-01]\n",
      "yt : [INFO     ] 2020-03-09 02:01:39,655 Parameters: domain_right_edge         = [1.5450e+19 3.8625e+19 5.0000e-01]\n",
      "yt : [INFO     ] 2020-03-09 02:01:39,657 Parameters: cosmological_simulation   = 0.0\n"
     ]
    },
    {
     "name": "stdout",
     "output_type": "stream",
     "text": [
      "mixing_layer.out1.00285\n"
     ]
    },
    {
     "name": "stderr",
     "output_type": "stream",
     "text": [
      "yt : [WARNING  ] 2020-03-09 02:01:39,686 Assuming 1.0 = 1.0 cm\n",
      "yt : [WARNING  ] 2020-03-09 02:01:39,687 Assuming 1.0 = 1.0 s\n",
      "yt : [WARNING  ] 2020-03-09 02:01:39,688 Assuming 1.0 = 1.0 g\n",
      "yt : [WARNING  ] 2020-03-09 02:01:39,689 Assuming 1.0 = 1.0 K\n",
      "yt : [INFO     ] 2020-03-09 02:01:39,701 Parameters: current_time              = 538825306987376.5\n",
      "yt : [INFO     ] 2020-03-09 02:01:39,702 Parameters: domain_dimensions         = [256 640   1]\n",
      "yt : [INFO     ] 2020-03-09 02:01:39,703 Parameters: domain_left_edge          = [-1.5450e+19 -3.8625e+19 -5.0000e-01]\n",
      "yt : [INFO     ] 2020-03-09 02:01:39,704 Parameters: domain_right_edge         = [1.5450e+19 3.8625e+19 5.0000e-01]\n",
      "yt : [INFO     ] 2020-03-09 02:01:39,705 Parameters: cosmological_simulation   = 0.0\n"
     ]
    },
    {
     "name": "stdout",
     "output_type": "stream",
     "text": [
      "mixing_layer.out1.00286\n"
     ]
    },
    {
     "name": "stderr",
     "output_type": "stream",
     "text": [
      "yt : [WARNING  ] 2020-03-09 02:01:39,733 Assuming 1.0 = 1.0 cm\n",
      "yt : [WARNING  ] 2020-03-09 02:01:39,735 Assuming 1.0 = 1.0 s\n",
      "yt : [WARNING  ] 2020-03-09 02:01:39,736 Assuming 1.0 = 1.0 g\n",
      "yt : [WARNING  ] 2020-03-09 02:01:39,737 Assuming 1.0 = 1.0 K\n",
      "yt : [INFO     ] 2020-03-09 02:01:39,748 Parameters: current_time              = 540708426806169.4\n",
      "yt : [INFO     ] 2020-03-09 02:01:39,749 Parameters: domain_dimensions         = [256 640   1]\n",
      "yt : [INFO     ] 2020-03-09 02:01:39,750 Parameters: domain_left_edge          = [-1.5450e+19 -3.8625e+19 -5.0000e-01]\n",
      "yt : [INFO     ] 2020-03-09 02:01:39,751 Parameters: domain_right_edge         = [1.5450e+19 3.8625e+19 5.0000e-01]\n",
      "yt : [INFO     ] 2020-03-09 02:01:39,753 Parameters: cosmological_simulation   = 0.0\n"
     ]
    },
    {
     "name": "stdout",
     "output_type": "stream",
     "text": [
      "mixing_layer.out1.00287\n"
     ]
    },
    {
     "name": "stderr",
     "output_type": "stream",
     "text": [
      "yt : [WARNING  ] 2020-03-09 02:01:39,781 Assuming 1.0 = 1.0 cm\n",
      "yt : [WARNING  ] 2020-03-09 02:01:39,782 Assuming 1.0 = 1.0 s\n",
      "yt : [WARNING  ] 2020-03-09 02:01:39,783 Assuming 1.0 = 1.0 g\n",
      "yt : [WARNING  ] 2020-03-09 02:01:39,784 Assuming 1.0 = 1.0 K\n",
      "yt : [INFO     ] 2020-03-09 02:01:39,796 Parameters: current_time              = 542594066839580.7\n",
      "yt : [INFO     ] 2020-03-09 02:01:39,797 Parameters: domain_dimensions         = [256 640   1]\n",
      "yt : [INFO     ] 2020-03-09 02:01:39,798 Parameters: domain_left_edge          = [-1.5450e+19 -3.8625e+19 -5.0000e-01]\n",
      "yt : [INFO     ] 2020-03-09 02:01:39,799 Parameters: domain_right_edge         = [1.5450e+19 3.8625e+19 5.0000e-01]\n",
      "yt : [INFO     ] 2020-03-09 02:01:39,800 Parameters: cosmological_simulation   = 0.0\n"
     ]
    },
    {
     "name": "stdout",
     "output_type": "stream",
     "text": [
      "mixing_layer.out1.00288\n"
     ]
    },
    {
     "name": "stderr",
     "output_type": "stream",
     "text": [
      "yt : [WARNING  ] 2020-03-09 02:01:39,831 Assuming 1.0 = 1.0 cm\n",
      "yt : [WARNING  ] 2020-03-09 02:01:39,833 Assuming 1.0 = 1.0 s\n",
      "yt : [WARNING  ] 2020-03-09 02:01:39,834 Assuming 1.0 = 1.0 g\n",
      "yt : [WARNING  ] 2020-03-09 02:01:39,834 Assuming 1.0 = 1.0 K\n",
      "yt : [INFO     ] 2020-03-09 02:01:39,849 Parameters: current_time              = 544476293473789.06\n",
      "yt : [INFO     ] 2020-03-09 02:01:39,849 Parameters: domain_dimensions         = [256 640   1]\n",
      "yt : [INFO     ] 2020-03-09 02:01:39,851 Parameters: domain_left_edge          = [-1.5450e+19 -3.8625e+19 -5.0000e-01]\n",
      "yt : [INFO     ] 2020-03-09 02:01:39,852 Parameters: domain_right_edge         = [1.5450e+19 3.8625e+19 5.0000e-01]\n",
      "yt : [INFO     ] 2020-03-09 02:01:39,852 Parameters: cosmological_simulation   = 0.0\n"
     ]
    },
    {
     "name": "stdout",
     "output_type": "stream",
     "text": [
      "mixing_layer.out1.00289\n"
     ]
    },
    {
     "name": "stderr",
     "output_type": "stream",
     "text": [
      "yt : [WARNING  ] 2020-03-09 02:01:39,883 Assuming 1.0 = 1.0 cm\n",
      "yt : [WARNING  ] 2020-03-09 02:01:39,884 Assuming 1.0 = 1.0 s\n",
      "yt : [WARNING  ] 2020-03-09 02:01:39,885 Assuming 1.0 = 1.0 g\n",
      "yt : [WARNING  ] 2020-03-09 02:01:39,886 Assuming 1.0 = 1.0 K\n",
      "yt : [INFO     ] 2020-03-09 02:01:39,899 Parameters: current_time              = 546361373975948.75\n",
      "yt : [INFO     ] 2020-03-09 02:01:39,900 Parameters: domain_dimensions         = [256 640   1]\n",
      "yt : [INFO     ] 2020-03-09 02:01:39,901 Parameters: domain_left_edge          = [-1.5450e+19 -3.8625e+19 -5.0000e-01]\n",
      "yt : [INFO     ] 2020-03-09 02:01:39,901 Parameters: domain_right_edge         = [1.5450e+19 3.8625e+19 5.0000e-01]\n",
      "yt : [INFO     ] 2020-03-09 02:01:39,902 Parameters: cosmological_simulation   = 0.0\n"
     ]
    },
    {
     "name": "stdout",
     "output_type": "stream",
     "text": [
      "mixing_layer.out1.00290\n"
     ]
    },
    {
     "name": "stderr",
     "output_type": "stream",
     "text": [
      "yt : [WARNING  ] 2020-03-09 02:01:39,933 Assuming 1.0 = 1.0 cm\n",
      "yt : [WARNING  ] 2020-03-09 02:01:39,934 Assuming 1.0 = 1.0 s\n",
      "yt : [WARNING  ] 2020-03-09 02:01:39,935 Assuming 1.0 = 1.0 g\n",
      "yt : [WARNING  ] 2020-03-09 02:01:39,936 Assuming 1.0 = 1.0 K\n",
      "yt : [INFO     ] 2020-03-09 02:01:39,948 Parameters: current_time              = 548245826375495.44\n",
      "yt : [INFO     ] 2020-03-09 02:01:39,949 Parameters: domain_dimensions         = [256 640   1]\n",
      "yt : [INFO     ] 2020-03-09 02:01:39,949 Parameters: domain_left_edge          = [-1.5450e+19 -3.8625e+19 -5.0000e-01]\n",
      "yt : [INFO     ] 2020-03-09 02:01:39,949 Parameters: domain_right_edge         = [1.5450e+19 3.8625e+19 5.0000e-01]\n",
      "yt : [INFO     ] 2020-03-09 02:01:39,950 Parameters: cosmological_simulation   = 0.0\n"
     ]
    },
    {
     "name": "stdout",
     "output_type": "stream",
     "text": [
      "mixing_layer.out1.00291\n"
     ]
    },
    {
     "name": "stderr",
     "output_type": "stream",
     "text": [
      "yt : [WARNING  ] 2020-03-09 02:01:39,981 Assuming 1.0 = 1.0 cm\n",
      "yt : [WARNING  ] 2020-03-09 02:01:39,982 Assuming 1.0 = 1.0 s\n",
      "yt : [WARNING  ] 2020-03-09 02:01:39,983 Assuming 1.0 = 1.0 g\n",
      "yt : [WARNING  ] 2020-03-09 02:01:39,984 Assuming 1.0 = 1.0 K\n",
      "yt : [INFO     ] 2020-03-09 02:01:39,996 Parameters: current_time              = 550130458823388.94\n",
      "yt : [INFO     ] 2020-03-09 02:01:39,997 Parameters: domain_dimensions         = [256 640   1]\n",
      "yt : [INFO     ] 2020-03-09 02:01:39,998 Parameters: domain_left_edge          = [-1.5450e+19 -3.8625e+19 -5.0000e-01]\n",
      "yt : [INFO     ] 2020-03-09 02:01:39,998 Parameters: domain_right_edge         = [1.5450e+19 3.8625e+19 5.0000e-01]\n",
      "yt : [INFO     ] 2020-03-09 02:01:39,999 Parameters: cosmological_simulation   = 0.0\n"
     ]
    },
    {
     "name": "stdout",
     "output_type": "stream",
     "text": [
      "mixing_layer.out1.00292\n"
     ]
    },
    {
     "name": "stderr",
     "output_type": "stream",
     "text": [
      "yt : [WARNING  ] 2020-03-09 02:01:40,030 Assuming 1.0 = 1.0 cm\n",
      "yt : [WARNING  ] 2020-03-09 02:01:40,032 Assuming 1.0 = 1.0 s\n",
      "yt : [WARNING  ] 2020-03-09 02:01:40,033 Assuming 1.0 = 1.0 g\n",
      "yt : [WARNING  ] 2020-03-09 02:01:40,034 Assuming 1.0 = 1.0 K\n",
      "yt : [INFO     ] 2020-03-09 02:01:40,048 Parameters: current_time              = 552012478063459.2\n",
      "yt : [INFO     ] 2020-03-09 02:01:40,048 Parameters: domain_dimensions         = [256 640   1]\n",
      "yt : [INFO     ] 2020-03-09 02:01:40,050 Parameters: domain_left_edge          = [-1.5450e+19 -3.8625e+19 -5.0000e-01]\n",
      "yt : [INFO     ] 2020-03-09 02:01:40,050 Parameters: domain_right_edge         = [1.5450e+19 3.8625e+19 5.0000e-01]\n",
      "yt : [INFO     ] 2020-03-09 02:01:40,052 Parameters: cosmological_simulation   = 0.0\n"
     ]
    },
    {
     "name": "stdout",
     "output_type": "stream",
     "text": [
      "mixing_layer.out1.00293\n"
     ]
    },
    {
     "name": "stderr",
     "output_type": "stream",
     "text": [
      "yt : [WARNING  ] 2020-03-09 02:01:40,083 Assuming 1.0 = 1.0 cm\n",
      "yt : [WARNING  ] 2020-03-09 02:01:40,084 Assuming 1.0 = 1.0 s\n",
      "yt : [WARNING  ] 2020-03-09 02:01:40,085 Assuming 1.0 = 1.0 g\n",
      "yt : [WARNING  ] 2020-03-09 02:01:40,086 Assuming 1.0 = 1.0 K\n",
      "yt : [INFO     ] 2020-03-09 02:01:40,097 Parameters: current_time              = 553896771264944.5\n",
      "yt : [INFO     ] 2020-03-09 02:01:40,098 Parameters: domain_dimensions         = [256 640   1]\n",
      "yt : [INFO     ] 2020-03-09 02:01:40,100 Parameters: domain_left_edge          = [-1.5450e+19 -3.8625e+19 -5.0000e-01]\n",
      "yt : [INFO     ] 2020-03-09 02:01:40,101 Parameters: domain_right_edge         = [1.5450e+19 3.8625e+19 5.0000e-01]\n",
      "yt : [INFO     ] 2020-03-09 02:01:40,101 Parameters: cosmological_simulation   = 0.0\n"
     ]
    },
    {
     "name": "stdout",
     "output_type": "stream",
     "text": [
      "mixing_layer.out1.00294\n"
     ]
    },
    {
     "name": "stderr",
     "output_type": "stream",
     "text": [
      "yt : [WARNING  ] 2020-03-09 02:01:40,131 Assuming 1.0 = 1.0 cm\n",
      "yt : [WARNING  ] 2020-03-09 02:01:40,133 Assuming 1.0 = 1.0 s\n",
      "yt : [WARNING  ] 2020-03-09 02:01:40,134 Assuming 1.0 = 1.0 g\n",
      "yt : [WARNING  ] 2020-03-09 02:01:40,134 Assuming 1.0 = 1.0 K\n",
      "yt : [INFO     ] 2020-03-09 02:01:40,146 Parameters: current_time              = 555782303213290.2\n",
      "yt : [INFO     ] 2020-03-09 02:01:40,147 Parameters: domain_dimensions         = [256 640   1]\n",
      "yt : [INFO     ] 2020-03-09 02:01:40,147 Parameters: domain_left_edge          = [-1.5450e+19 -3.8625e+19 -5.0000e-01]\n",
      "yt : [INFO     ] 2020-03-09 02:01:40,148 Parameters: domain_right_edge         = [1.5450e+19 3.8625e+19 5.0000e-01]\n",
      "yt : [INFO     ] 2020-03-09 02:01:40,149 Parameters: cosmological_simulation   = 0.0\n"
     ]
    },
    {
     "name": "stdout",
     "output_type": "stream",
     "text": [
      "mixing_layer.out1.00295\n"
     ]
    },
    {
     "name": "stderr",
     "output_type": "stream",
     "text": [
      "yt : [WARNING  ] 2020-03-09 02:01:40,179 Assuming 1.0 = 1.0 cm\n",
      "yt : [WARNING  ] 2020-03-09 02:01:40,181 Assuming 1.0 = 1.0 s\n",
      "yt : [WARNING  ] 2020-03-09 02:01:40,181 Assuming 1.0 = 1.0 g\n",
      "yt : [WARNING  ] 2020-03-09 02:01:40,182 Assuming 1.0 = 1.0 K\n",
      "yt : [INFO     ] 2020-03-09 02:01:40,195 Parameters: current_time              = 557664584179075.2\n",
      "yt : [INFO     ] 2020-03-09 02:01:40,196 Parameters: domain_dimensions         = [256 640   1]\n",
      "yt : [INFO     ] 2020-03-09 02:01:40,196 Parameters: domain_left_edge          = [-1.5450e+19 -3.8625e+19 -5.0000e-01]\n",
      "yt : [INFO     ] 2020-03-09 02:01:40,197 Parameters: domain_right_edge         = [1.5450e+19 3.8625e+19 5.0000e-01]\n",
      "yt : [INFO     ] 2020-03-09 02:01:40,198 Parameters: cosmological_simulation   = 0.0\n"
     ]
    },
    {
     "name": "stdout",
     "output_type": "stream",
     "text": [
      "mixing_layer.out1.00296\n"
     ]
    },
    {
     "name": "stderr",
     "output_type": "stream",
     "text": [
      "yt : [WARNING  ] 2020-03-09 02:01:40,228 Assuming 1.0 = 1.0 cm\n",
      "yt : [WARNING  ] 2020-03-09 02:01:40,229 Assuming 1.0 = 1.0 s\n",
      "yt : [WARNING  ] 2020-03-09 02:01:40,230 Assuming 1.0 = 1.0 g\n",
      "yt : [WARNING  ] 2020-03-09 02:01:40,231 Assuming 1.0 = 1.0 K\n",
      "yt : [INFO     ] 2020-03-09 02:01:40,243 Parameters: current_time              = 559548062489587.44\n",
      "yt : [INFO     ] 2020-03-09 02:01:40,244 Parameters: domain_dimensions         = [256 640   1]\n",
      "yt : [INFO     ] 2020-03-09 02:01:40,245 Parameters: domain_left_edge          = [-1.5450e+19 -3.8625e+19 -5.0000e-01]\n",
      "yt : [INFO     ] 2020-03-09 02:01:40,246 Parameters: domain_right_edge         = [1.5450e+19 3.8625e+19 5.0000e-01]\n",
      "yt : [INFO     ] 2020-03-09 02:01:40,247 Parameters: cosmological_simulation   = 0.0\n"
     ]
    },
    {
     "name": "stdout",
     "output_type": "stream",
     "text": [
      "mixing_layer.out1.00297\n"
     ]
    },
    {
     "name": "stderr",
     "output_type": "stream",
     "text": [
      "yt : [WARNING  ] 2020-03-09 02:01:40,284 Assuming 1.0 = 1.0 cm\n",
      "yt : [WARNING  ] 2020-03-09 02:01:40,286 Assuming 1.0 = 1.0 s\n",
      "yt : [WARNING  ] 2020-03-09 02:01:40,287 Assuming 1.0 = 1.0 g\n",
      "yt : [WARNING  ] 2020-03-09 02:01:40,288 Assuming 1.0 = 1.0 K\n",
      "yt : [INFO     ] 2020-03-09 02:01:40,302 Parameters: current_time              = 561433101257480.4\n",
      "yt : [INFO     ] 2020-03-09 02:01:40,303 Parameters: domain_dimensions         = [256 640   1]\n",
      "yt : [INFO     ] 2020-03-09 02:01:40,304 Parameters: domain_left_edge          = [-1.5450e+19 -3.8625e+19 -5.0000e-01]\n",
      "yt : [INFO     ] 2020-03-09 02:01:40,305 Parameters: domain_right_edge         = [1.5450e+19 3.8625e+19 5.0000e-01]\n",
      "yt : [INFO     ] 2020-03-09 02:01:40,306 Parameters: cosmological_simulation   = 0.0\n"
     ]
    },
    {
     "name": "stdout",
     "output_type": "stream",
     "text": [
      "mixing_layer.out1.00298\n"
     ]
    },
    {
     "name": "stderr",
     "output_type": "stream",
     "text": [
      "yt : [WARNING  ] 2020-03-09 02:01:40,333 Assuming 1.0 = 1.0 cm\n",
      "yt : [WARNING  ] 2020-03-09 02:01:40,334 Assuming 1.0 = 1.0 s\n",
      "yt : [WARNING  ] 2020-03-09 02:01:40,335 Assuming 1.0 = 1.0 g\n",
      "yt : [WARNING  ] 2020-03-09 02:01:40,336 Assuming 1.0 = 1.0 K\n",
      "yt : [INFO     ] 2020-03-09 02:01:40,347 Parameters: current_time              = 563316116766880.5\n",
      "yt : [INFO     ] 2020-03-09 02:01:40,348 Parameters: domain_dimensions         = [256 640   1]\n",
      "yt : [INFO     ] 2020-03-09 02:01:40,348 Parameters: domain_left_edge          = [-1.5450e+19 -3.8625e+19 -5.0000e-01]\n",
      "yt : [INFO     ] 2020-03-09 02:01:40,349 Parameters: domain_right_edge         = [1.5450e+19 3.8625e+19 5.0000e-01]\n",
      "yt : [INFO     ] 2020-03-09 02:01:40,350 Parameters: cosmological_simulation   = 0.0\n"
     ]
    },
    {
     "name": "stdout",
     "output_type": "stream",
     "text": [
      "mixing_layer.out1.00299\n"
     ]
    },
    {
     "name": "stderr",
     "output_type": "stream",
     "text": [
      "yt : [WARNING  ] 2020-03-09 02:01:40,377 Assuming 1.0 = 1.0 cm\n",
      "yt : [WARNING  ] 2020-03-09 02:01:40,378 Assuming 1.0 = 1.0 s\n",
      "yt : [WARNING  ] 2020-03-09 02:01:40,378 Assuming 1.0 = 1.0 g\n",
      "yt : [WARNING  ] 2020-03-09 02:01:40,379 Assuming 1.0 = 1.0 K\n",
      "yt : [INFO     ] 2020-03-09 02:01:40,390 Parameters: current_time              = 565200222296701.1\n",
      "yt : [INFO     ] 2020-03-09 02:01:40,391 Parameters: domain_dimensions         = [256 640   1]\n",
      "yt : [INFO     ] 2020-03-09 02:01:40,391 Parameters: domain_left_edge          = [-1.5450e+19 -3.8625e+19 -5.0000e-01]\n",
      "yt : [INFO     ] 2020-03-09 02:01:40,392 Parameters: domain_right_edge         = [1.5450e+19 3.8625e+19 5.0000e-01]\n",
      "yt : [INFO     ] 2020-03-09 02:01:40,393 Parameters: cosmological_simulation   = 0.0\n"
     ]
    },
    {
     "name": "stdout",
     "output_type": "stream",
     "text": [
      "mixing_layer.out1.00300\n"
     ]
    },
    {
     "name": "stderr",
     "output_type": "stream",
     "text": [
      "yt : [WARNING  ] 2020-03-09 02:01:40,420 Assuming 1.0 = 1.0 cm\n",
      "yt : [WARNING  ] 2020-03-09 02:01:40,421 Assuming 1.0 = 1.0 s\n",
      "yt : [WARNING  ] 2020-03-09 02:01:40,422 Assuming 1.0 = 1.0 g\n",
      "yt : [WARNING  ] 2020-03-09 02:01:40,423 Assuming 1.0 = 1.0 K\n",
      "yt : [INFO     ] 2020-03-09 02:01:40,433 Parameters: current_time              = 567084016073746.1\n",
      "yt : [INFO     ] 2020-03-09 02:01:40,434 Parameters: domain_dimensions         = [256 640   1]\n",
      "yt : [INFO     ] 2020-03-09 02:01:40,435 Parameters: domain_left_edge          = [-1.5450e+19 -3.8625e+19 -5.0000e-01]\n",
      "yt : [INFO     ] 2020-03-09 02:01:40,436 Parameters: domain_right_edge         = [1.5450e+19 3.8625e+19 5.0000e-01]\n",
      "yt : [INFO     ] 2020-03-09 02:01:40,436 Parameters: cosmological_simulation   = 0.0\n"
     ]
    },
    {
     "name": "stdout",
     "output_type": "stream",
     "text": [
      "mixing_layer.out1.00301\n"
     ]
    },
    {
     "name": "stderr",
     "output_type": "stream",
     "text": [
      "yt : [WARNING  ] 2020-03-09 02:01:40,464 Assuming 1.0 = 1.0 cm\n",
      "yt : [WARNING  ] 2020-03-09 02:01:40,465 Assuming 1.0 = 1.0 s\n",
      "yt : [WARNING  ] 2020-03-09 02:01:40,466 Assuming 1.0 = 1.0 g\n",
      "yt : [WARNING  ] 2020-03-09 02:01:40,467 Assuming 1.0 = 1.0 K\n",
      "yt : [INFO     ] 2020-03-09 02:01:40,477 Parameters: current_time              = 568968609243691.1\n",
      "yt : [INFO     ] 2020-03-09 02:01:40,478 Parameters: domain_dimensions         = [256 640   1]\n",
      "yt : [INFO     ] 2020-03-09 02:01:40,479 Parameters: domain_left_edge          = [-1.5450e+19 -3.8625e+19 -5.0000e-01]\n",
      "yt : [INFO     ] 2020-03-09 02:01:40,481 Parameters: domain_right_edge         = [1.5450e+19 3.8625e+19 5.0000e-01]\n",
      "yt : [INFO     ] 2020-03-09 02:01:40,482 Parameters: cosmological_simulation   = 0.0\n"
     ]
    },
    {
     "name": "stdout",
     "output_type": "stream",
     "text": [
      "mixing_layer.out1.00302\n"
     ]
    },
    {
     "name": "stderr",
     "output_type": "stream",
     "text": [
      "yt : [WARNING  ] 2020-03-09 02:01:40,509 Assuming 1.0 = 1.0 cm\n",
      "yt : [WARNING  ] 2020-03-09 02:01:40,510 Assuming 1.0 = 1.0 s\n",
      "yt : [WARNING  ] 2020-03-09 02:01:40,510 Assuming 1.0 = 1.0 g\n",
      "yt : [WARNING  ] 2020-03-09 02:01:40,512 Assuming 1.0 = 1.0 K\n",
      "yt : [INFO     ] 2020-03-09 02:01:40,522 Parameters: current_time              = 570853513554299.0\n",
      "yt : [INFO     ] 2020-03-09 02:01:40,523 Parameters: domain_dimensions         = [256 640   1]\n",
      "yt : [INFO     ] 2020-03-09 02:01:40,524 Parameters: domain_left_edge          = [-1.5450e+19 -3.8625e+19 -5.0000e-01]\n",
      "yt : [INFO     ] 2020-03-09 02:01:40,525 Parameters: domain_right_edge         = [1.5450e+19 3.8625e+19 5.0000e-01]\n",
      "yt : [INFO     ] 2020-03-09 02:01:40,526 Parameters: cosmological_simulation   = 0.0\n"
     ]
    },
    {
     "name": "stdout",
     "output_type": "stream",
     "text": [
      "mixing_layer.out1.00303\n"
     ]
    },
    {
     "name": "stderr",
     "output_type": "stream",
     "text": [
      "yt : [WARNING  ] 2020-03-09 02:01:40,552 Assuming 1.0 = 1.0 cm\n",
      "yt : [WARNING  ] 2020-03-09 02:01:40,553 Assuming 1.0 = 1.0 s\n",
      "yt : [WARNING  ] 2020-03-09 02:01:40,554 Assuming 1.0 = 1.0 g\n",
      "yt : [WARNING  ] 2020-03-09 02:01:40,555 Assuming 1.0 = 1.0 K\n",
      "yt : [INFO     ] 2020-03-09 02:01:40,566 Parameters: current_time              = 572736608627271.0\n",
      "yt : [INFO     ] 2020-03-09 02:01:40,567 Parameters: domain_dimensions         = [256 640   1]\n",
      "yt : [INFO     ] 2020-03-09 02:01:40,568 Parameters: domain_left_edge          = [-1.5450e+19 -3.8625e+19 -5.0000e-01]\n",
      "yt : [INFO     ] 2020-03-09 02:01:40,569 Parameters: domain_right_edge         = [1.5450e+19 3.8625e+19 5.0000e-01]\n",
      "yt : [INFO     ] 2020-03-09 02:01:40,569 Parameters: cosmological_simulation   = 0.0\n"
     ]
    },
    {
     "name": "stdout",
     "output_type": "stream",
     "text": [
      "mixing_layer.out1.00304\n"
     ]
    },
    {
     "name": "stderr",
     "output_type": "stream",
     "text": [
      "yt : [WARNING  ] 2020-03-09 02:01:40,597 Assuming 1.0 = 1.0 cm\n",
      "yt : [WARNING  ] 2020-03-09 02:01:40,598 Assuming 1.0 = 1.0 s\n",
      "yt : [WARNING  ] 2020-03-09 02:01:40,599 Assuming 1.0 = 1.0 g\n",
      "yt : [WARNING  ] 2020-03-09 02:01:40,600 Assuming 1.0 = 1.0 K\n",
      "yt : [INFO     ] 2020-03-09 02:01:40,610 Parameters: current_time              = 574622719804726.8\n",
      "yt : [INFO     ] 2020-03-09 02:01:40,611 Parameters: domain_dimensions         = [256 640   1]\n",
      "yt : [INFO     ] 2020-03-09 02:01:40,612 Parameters: domain_left_edge          = [-1.5450e+19 -3.8625e+19 -5.0000e-01]\n",
      "yt : [INFO     ] 2020-03-09 02:01:40,613 Parameters: domain_right_edge         = [1.5450e+19 3.8625e+19 5.0000e-01]\n",
      "yt : [INFO     ] 2020-03-09 02:01:40,613 Parameters: cosmological_simulation   = 0.0\n"
     ]
    },
    {
     "name": "stdout",
     "output_type": "stream",
     "text": [
      "mixing_layer.out1.00305\n"
     ]
    },
    {
     "name": "stderr",
     "output_type": "stream",
     "text": [
      "yt : [WARNING  ] 2020-03-09 02:01:40,642 Assuming 1.0 = 1.0 cm\n",
      "yt : [WARNING  ] 2020-03-09 02:01:40,643 Assuming 1.0 = 1.0 s\n",
      "yt : [WARNING  ] 2020-03-09 02:01:40,644 Assuming 1.0 = 1.0 g\n",
      "yt : [WARNING  ] 2020-03-09 02:01:40,644 Assuming 1.0 = 1.0 K\n",
      "yt : [INFO     ] 2020-03-09 02:01:40,656 Parameters: current_time              = 576504794730054.8\n",
      "yt : [INFO     ] 2020-03-09 02:01:40,657 Parameters: domain_dimensions         = [256 640   1]\n",
      "yt : [INFO     ] 2020-03-09 02:01:40,658 Parameters: domain_left_edge          = [-1.5450e+19 -3.8625e+19 -5.0000e-01]\n",
      "yt : [INFO     ] 2020-03-09 02:01:40,659 Parameters: domain_right_edge         = [1.5450e+19 3.8625e+19 5.0000e-01]\n",
      "yt : [INFO     ] 2020-03-09 02:01:40,660 Parameters: cosmological_simulation   = 0.0\n"
     ]
    },
    {
     "name": "stdout",
     "output_type": "stream",
     "text": [
      "mixing_layer.out1.00306\n"
     ]
    },
    {
     "name": "stderr",
     "output_type": "stream",
     "text": [
      "yt : [WARNING  ] 2020-03-09 02:01:40,687 Assuming 1.0 = 1.0 cm\n",
      "yt : [WARNING  ] 2020-03-09 02:01:40,688 Assuming 1.0 = 1.0 s\n",
      "yt : [WARNING  ] 2020-03-09 02:01:40,688 Assuming 1.0 = 1.0 g\n",
      "yt : [WARNING  ] 2020-03-09 02:01:40,689 Assuming 1.0 = 1.0 K\n",
      "yt : [INFO     ] 2020-03-09 02:01:40,700 Parameters: current_time              = 578390214961982.8\n",
      "yt : [INFO     ] 2020-03-09 02:01:40,701 Parameters: domain_dimensions         = [256 640   1]\n",
      "yt : [INFO     ] 2020-03-09 02:01:40,702 Parameters: domain_left_edge          = [-1.5450e+19 -3.8625e+19 -5.0000e-01]\n",
      "yt : [INFO     ] 2020-03-09 02:01:40,703 Parameters: domain_right_edge         = [1.5450e+19 3.8625e+19 5.0000e-01]\n",
      "yt : [INFO     ] 2020-03-09 02:01:40,704 Parameters: cosmological_simulation   = 0.0\n"
     ]
    },
    {
     "name": "stdout",
     "output_type": "stream",
     "text": [
      "mixing_layer.out1.00307\n"
     ]
    },
    {
     "name": "stderr",
     "output_type": "stream",
     "text": [
      "yt : [WARNING  ] 2020-03-09 02:01:40,737 Assuming 1.0 = 1.0 cm\n",
      "yt : [WARNING  ] 2020-03-09 02:01:40,738 Assuming 1.0 = 1.0 s\n",
      "yt : [WARNING  ] 2020-03-09 02:01:40,739 Assuming 1.0 = 1.0 g\n",
      "yt : [WARNING  ] 2020-03-09 02:01:40,739 Assuming 1.0 = 1.0 K\n",
      "yt : [INFO     ] 2020-03-09 02:01:40,751 Parameters: current_time              = 580274002746206.8\n",
      "yt : [INFO     ] 2020-03-09 02:01:40,752 Parameters: domain_dimensions         = [256 640   1]\n",
      "yt : [INFO     ] 2020-03-09 02:01:40,753 Parameters: domain_left_edge          = [-1.5450e+19 -3.8625e+19 -5.0000e-01]\n",
      "yt : [INFO     ] 2020-03-09 02:01:40,754 Parameters: domain_right_edge         = [1.5450e+19 3.8625e+19 5.0000e-01]\n",
      "yt : [INFO     ] 2020-03-09 02:01:40,755 Parameters: cosmological_simulation   = 0.0\n"
     ]
    },
    {
     "name": "stdout",
     "output_type": "stream",
     "text": [
      "mixing_layer.out1.00308\n"
     ]
    },
    {
     "name": "stderr",
     "output_type": "stream",
     "text": [
      "yt : [WARNING  ] 2020-03-09 02:01:40,794 Assuming 1.0 = 1.0 cm\n",
      "yt : [WARNING  ] 2020-03-09 02:01:40,795 Assuming 1.0 = 1.0 s\n",
      "yt : [WARNING  ] 2020-03-09 02:01:40,797 Assuming 1.0 = 1.0 g\n",
      "yt : [WARNING  ] 2020-03-09 02:01:40,798 Assuming 1.0 = 1.0 K\n",
      "yt : [INFO     ] 2020-03-09 02:01:40,818 Parameters: current_time              = 582156584142592.4\n",
      "yt : [INFO     ] 2020-03-09 02:01:40,819 Parameters: domain_dimensions         = [256 640   1]\n",
      "yt : [INFO     ] 2020-03-09 02:01:40,820 Parameters: domain_left_edge          = [-1.5450e+19 -3.8625e+19 -5.0000e-01]\n",
      "yt : [INFO     ] 2020-03-09 02:01:40,822 Parameters: domain_right_edge         = [1.5450e+19 3.8625e+19 5.0000e-01]\n",
      "yt : [INFO     ] 2020-03-09 02:01:40,823 Parameters: cosmological_simulation   = 0.0\n"
     ]
    },
    {
     "name": "stdout",
     "output_type": "stream",
     "text": [
      "mixing_layer.out1.00309\n"
     ]
    },
    {
     "name": "stderr",
     "output_type": "stream",
     "text": [
      "yt : [WARNING  ] 2020-03-09 02:01:40,861 Assuming 1.0 = 1.0 cm\n",
      "yt : [WARNING  ] 2020-03-09 02:01:40,862 Assuming 1.0 = 1.0 s\n",
      "yt : [WARNING  ] 2020-03-09 02:01:40,863 Assuming 1.0 = 1.0 g\n",
      "yt : [WARNING  ] 2020-03-09 02:01:40,864 Assuming 1.0 = 1.0 K\n",
      "yt : [INFO     ] 2020-03-09 02:01:40,880 Parameters: current_time              = 584041353858298.1\n",
      "yt : [INFO     ] 2020-03-09 02:01:40,881 Parameters: domain_dimensions         = [256 640   1]\n",
      "yt : [INFO     ] 2020-03-09 02:01:40,882 Parameters: domain_left_edge          = [-1.5450e+19 -3.8625e+19 -5.0000e-01]\n",
      "yt : [INFO     ] 2020-03-09 02:01:40,883 Parameters: domain_right_edge         = [1.5450e+19 3.8625e+19 5.0000e-01]\n",
      "yt : [INFO     ] 2020-03-09 02:01:40,884 Parameters: cosmological_simulation   = 0.0\n"
     ]
    },
    {
     "name": "stdout",
     "output_type": "stream",
     "text": [
      "mixing_layer.out1.00310\n"
     ]
    },
    {
     "name": "stderr",
     "output_type": "stream",
     "text": [
      "yt : [WARNING  ] 2020-03-09 02:01:40,916 Assuming 1.0 = 1.0 cm\n",
      "yt : [WARNING  ] 2020-03-09 02:01:40,917 Assuming 1.0 = 1.0 s\n",
      "yt : [WARNING  ] 2020-03-09 02:01:40,918 Assuming 1.0 = 1.0 g\n",
      "yt : [WARNING  ] 2020-03-09 02:01:40,920 Assuming 1.0 = 1.0 K\n",
      "yt : [INFO     ] 2020-03-09 02:01:40,933 Parameters: current_time              = 585926497229919.4\n",
      "yt : [INFO     ] 2020-03-09 02:01:40,934 Parameters: domain_dimensions         = [256 640   1]\n",
      "yt : [INFO     ] 2020-03-09 02:01:40,935 Parameters: domain_left_edge          = [-1.5450e+19 -3.8625e+19 -5.0000e-01]\n",
      "yt : [INFO     ] 2020-03-09 02:01:40,936 Parameters: domain_right_edge         = [1.5450e+19 3.8625e+19 5.0000e-01]\n",
      "yt : [INFO     ] 2020-03-09 02:01:40,938 Parameters: cosmological_simulation   = 0.0\n"
     ]
    },
    {
     "name": "stdout",
     "output_type": "stream",
     "text": [
      "mixing_layer.out1.00311\n"
     ]
    },
    {
     "name": "stderr",
     "output_type": "stream",
     "text": [
      "yt : [WARNING  ] 2020-03-09 02:01:40,972 Assuming 1.0 = 1.0 cm\n",
      "yt : [WARNING  ] 2020-03-09 02:01:40,974 Assuming 1.0 = 1.0 s\n",
      "yt : [WARNING  ] 2020-03-09 02:01:40,975 Assuming 1.0 = 1.0 g\n",
      "yt : [WARNING  ] 2020-03-09 02:01:40,976 Assuming 1.0 = 1.0 K\n",
      "yt : [INFO     ] 2020-03-09 02:01:40,989 Parameters: current_time              = 587808433605188.2\n",
      "yt : [INFO     ] 2020-03-09 02:01:40,990 Parameters: domain_dimensions         = [256 640   1]\n",
      "yt : [INFO     ] 2020-03-09 02:01:40,991 Parameters: domain_left_edge          = [-1.5450e+19 -3.8625e+19 -5.0000e-01]\n",
      "yt : [INFO     ] 2020-03-09 02:01:40,992 Parameters: domain_right_edge         = [1.5450e+19 3.8625e+19 5.0000e-01]\n",
      "yt : [INFO     ] 2020-03-09 02:01:40,993 Parameters: cosmological_simulation   = 0.0\n"
     ]
    },
    {
     "name": "stdout",
     "output_type": "stream",
     "text": [
      "mixing_layer.out1.00312\n"
     ]
    },
    {
     "name": "stderr",
     "output_type": "stream",
     "text": [
      "yt : [WARNING  ] 2020-03-09 02:01:41,028 Assuming 1.0 = 1.0 cm\n",
      "yt : [WARNING  ] 2020-03-09 02:01:41,030 Assuming 1.0 = 1.0 s\n",
      "yt : [WARNING  ] 2020-03-09 02:01:41,031 Assuming 1.0 = 1.0 g\n",
      "yt : [WARNING  ] 2020-03-09 02:01:41,032 Assuming 1.0 = 1.0 K\n",
      "yt : [INFO     ] 2020-03-09 02:01:41,046 Parameters: current_time              = 589693923818840.6\n",
      "yt : [INFO     ] 2020-03-09 02:01:41,047 Parameters: domain_dimensions         = [256 640   1]\n",
      "yt : [INFO     ] 2020-03-09 02:01:41,048 Parameters: domain_left_edge          = [-1.5450e+19 -3.8625e+19 -5.0000e-01]\n",
      "yt : [INFO     ] 2020-03-09 02:01:41,049 Parameters: domain_right_edge         = [1.5450e+19 3.8625e+19 5.0000e-01]\n",
      "yt : [INFO     ] 2020-03-09 02:01:41,050 Parameters: cosmological_simulation   = 0.0\n"
     ]
    },
    {
     "name": "stdout",
     "output_type": "stream",
     "text": [
      "mixing_layer.out1.00313\n"
     ]
    },
    {
     "name": "stderr",
     "output_type": "stream",
     "text": [
      "yt : [WARNING  ] 2020-03-09 02:01:41,079 Assuming 1.0 = 1.0 cm\n",
      "yt : [WARNING  ] 2020-03-09 02:01:41,081 Assuming 1.0 = 1.0 s\n",
      "yt : [WARNING  ] 2020-03-09 02:01:41,082 Assuming 1.0 = 1.0 g\n",
      "yt : [WARNING  ] 2020-03-09 02:01:41,084 Assuming 1.0 = 1.0 K\n",
      "yt : [INFO     ] 2020-03-09 02:01:41,095 Parameters: current_time              = 591576533301759.2\n",
      "yt : [INFO     ] 2020-03-09 02:01:41,096 Parameters: domain_dimensions         = [256 640   1]\n",
      "yt : [INFO     ] 2020-03-09 02:01:41,096 Parameters: domain_left_edge          = [-1.5450e+19 -3.8625e+19 -5.0000e-01]\n",
      "yt : [INFO     ] 2020-03-09 02:01:41,097 Parameters: domain_right_edge         = [1.5450e+19 3.8625e+19 5.0000e-01]\n",
      "yt : [INFO     ] 2020-03-09 02:01:41,098 Parameters: cosmological_simulation   = 0.0\n"
     ]
    },
    {
     "name": "stdout",
     "output_type": "stream",
     "text": [
      "mixing_layer.out1.00314\n"
     ]
    },
    {
     "name": "stderr",
     "output_type": "stream",
     "text": [
      "yt : [WARNING  ] 2020-03-09 02:01:41,128 Assuming 1.0 = 1.0 cm\n",
      "yt : [WARNING  ] 2020-03-09 02:01:41,130 Assuming 1.0 = 1.0 s\n",
      "yt : [WARNING  ] 2020-03-09 02:01:41,131 Assuming 1.0 = 1.0 g\n",
      "yt : [WARNING  ] 2020-03-09 02:01:41,132 Assuming 1.0 = 1.0 K\n",
      "yt : [INFO     ] 2020-03-09 02:01:41,144 Parameters: current_time              = 593460762091596.9\n",
      "yt : [INFO     ] 2020-03-09 02:01:41,145 Parameters: domain_dimensions         = [256 640   1]\n",
      "yt : [INFO     ] 2020-03-09 02:01:41,146 Parameters: domain_left_edge          = [-1.5450e+19 -3.8625e+19 -5.0000e-01]\n",
      "yt : [INFO     ] 2020-03-09 02:01:41,147 Parameters: domain_right_edge         = [1.5450e+19 3.8625e+19 5.0000e-01]\n",
      "yt : [INFO     ] 2020-03-09 02:01:41,148 Parameters: cosmological_simulation   = 0.0\n"
     ]
    },
    {
     "name": "stdout",
     "output_type": "stream",
     "text": [
      "mixing_layer.out1.00315\n"
     ]
    },
    {
     "name": "stderr",
     "output_type": "stream",
     "text": [
      "yt : [WARNING  ] 2020-03-09 02:01:41,183 Assuming 1.0 = 1.0 cm\n",
      "yt : [WARNING  ] 2020-03-09 02:01:41,184 Assuming 1.0 = 1.0 s\n",
      "yt : [WARNING  ] 2020-03-09 02:01:41,185 Assuming 1.0 = 1.0 g\n",
      "yt : [WARNING  ] 2020-03-09 02:01:41,186 Assuming 1.0 = 1.0 K\n",
      "yt : [INFO     ] 2020-03-09 02:01:41,198 Parameters: current_time              = 595345842277645.6\n",
      "yt : [INFO     ] 2020-03-09 02:01:41,199 Parameters: domain_dimensions         = [256 640   1]\n",
      "yt : [INFO     ] 2020-03-09 02:01:41,200 Parameters: domain_left_edge          = [-1.5450e+19 -3.8625e+19 -5.0000e-01]\n",
      "yt : [INFO     ] 2020-03-09 02:01:41,201 Parameters: domain_right_edge         = [1.5450e+19 3.8625e+19 5.0000e-01]\n",
      "yt : [INFO     ] 2020-03-09 02:01:41,201 Parameters: cosmological_simulation   = 0.0\n"
     ]
    },
    {
     "name": "stdout",
     "output_type": "stream",
     "text": [
      "mixing_layer.out1.00316\n"
     ]
    },
    {
     "name": "stderr",
     "output_type": "stream",
     "text": [
      "yt : [WARNING  ] 2020-03-09 02:01:41,239 Assuming 1.0 = 1.0 cm\n",
      "yt : [WARNING  ] 2020-03-09 02:01:41,241 Assuming 1.0 = 1.0 s\n",
      "yt : [WARNING  ] 2020-03-09 02:01:41,242 Assuming 1.0 = 1.0 g\n",
      "yt : [WARNING  ] 2020-03-09 02:01:41,243 Assuming 1.0 = 1.0 K\n",
      "yt : [INFO     ] 2020-03-09 02:01:41,257 Parameters: current_time              = 597229475200586.9\n",
      "yt : [INFO     ] 2020-03-09 02:01:41,258 Parameters: domain_dimensions         = [256 640   1]\n",
      "yt : [INFO     ] 2020-03-09 02:01:41,258 Parameters: domain_left_edge          = [-1.5450e+19 -3.8625e+19 -5.0000e-01]\n",
      "yt : [INFO     ] 2020-03-09 02:01:41,259 Parameters: domain_right_edge         = [1.5450e+19 3.8625e+19 5.0000e-01]\n",
      "yt : [INFO     ] 2020-03-09 02:01:41,260 Parameters: cosmological_simulation   = 0.0\n"
     ]
    },
    {
     "name": "stdout",
     "output_type": "stream",
     "text": [
      "mixing_layer.out1.00317\n"
     ]
    },
    {
     "name": "stderr",
     "output_type": "stream",
     "text": [
      "yt : [WARNING  ] 2020-03-09 02:01:41,292 Assuming 1.0 = 1.0 cm\n",
      "yt : [WARNING  ] 2020-03-09 02:01:41,293 Assuming 1.0 = 1.0 s\n",
      "yt : [WARNING  ] 2020-03-09 02:01:41,294 Assuming 1.0 = 1.0 g\n",
      "yt : [WARNING  ] 2020-03-09 02:01:41,295 Assuming 1.0 = 1.0 K\n",
      "yt : [INFO     ] 2020-03-09 02:01:41,307 Parameters: current_time              = 599112761200609.1\n",
      "yt : [INFO     ] 2020-03-09 02:01:41,307 Parameters: domain_dimensions         = [256 640   1]\n",
      "yt : [INFO     ] 2020-03-09 02:01:41,308 Parameters: domain_left_edge          = [-1.5450e+19 -3.8625e+19 -5.0000e-01]\n",
      "yt : [INFO     ] 2020-03-09 02:01:41,309 Parameters: domain_right_edge         = [1.5450e+19 3.8625e+19 5.0000e-01]\n",
      "yt : [INFO     ] 2020-03-09 02:01:41,311 Parameters: cosmological_simulation   = 0.0\n"
     ]
    },
    {
     "name": "stdout",
     "output_type": "stream",
     "text": [
      "mixing_layer.out1.00318\n"
     ]
    },
    {
     "name": "stderr",
     "output_type": "stream",
     "text": [
      "yt : [WARNING  ] 2020-03-09 02:01:41,342 Assuming 1.0 = 1.0 cm\n",
      "yt : [WARNING  ] 2020-03-09 02:01:41,343 Assuming 1.0 = 1.0 s\n",
      "yt : [WARNING  ] 2020-03-09 02:01:41,344 Assuming 1.0 = 1.0 g\n",
      "yt : [WARNING  ] 2020-03-09 02:01:41,345 Assuming 1.0 = 1.0 K\n",
      "yt : [INFO     ] 2020-03-09 02:01:41,358 Parameters: current_time              = 600998151447783.5\n",
      "yt : [INFO     ] 2020-03-09 02:01:41,358 Parameters: domain_dimensions         = [256 640   1]\n",
      "yt : [INFO     ] 2020-03-09 02:01:41,359 Parameters: domain_left_edge          = [-1.5450e+19 -3.8625e+19 -5.0000e-01]\n",
      "yt : [INFO     ] 2020-03-09 02:01:41,360 Parameters: domain_right_edge         = [1.5450e+19 3.8625e+19 5.0000e-01]\n",
      "yt : [INFO     ] 2020-03-09 02:01:41,361 Parameters: cosmological_simulation   = 0.0\n"
     ]
    },
    {
     "name": "stdout",
     "output_type": "stream",
     "text": [
      "mixing_layer.out1.00319\n"
     ]
    },
    {
     "name": "stderr",
     "output_type": "stream",
     "text": [
      "yt : [WARNING  ] 2020-03-09 02:01:41,392 Assuming 1.0 = 1.0 cm\n",
      "yt : [WARNING  ] 2020-03-09 02:01:41,393 Assuming 1.0 = 1.0 s\n",
      "yt : [WARNING  ] 2020-03-09 02:01:41,394 Assuming 1.0 = 1.0 g\n",
      "yt : [WARNING  ] 2020-03-09 02:01:41,395 Assuming 1.0 = 1.0 K\n",
      "yt : [INFO     ] 2020-03-09 02:01:41,408 Parameters: current_time              = 602882105565739.4\n",
      "yt : [INFO     ] 2020-03-09 02:01:41,409 Parameters: domain_dimensions         = [256 640   1]\n",
      "yt : [INFO     ] 2020-03-09 02:01:41,409 Parameters: domain_left_edge          = [-1.5450e+19 -3.8625e+19 -5.0000e-01]\n",
      "yt : [INFO     ] 2020-03-09 02:01:41,410 Parameters: domain_right_edge         = [1.5450e+19 3.8625e+19 5.0000e-01]\n",
      "yt : [INFO     ] 2020-03-09 02:01:41,411 Parameters: cosmological_simulation   = 0.0\n"
     ]
    },
    {
     "name": "stdout",
     "output_type": "stream",
     "text": [
      "mixing_layer.out1.00320\n"
     ]
    },
    {
     "name": "stderr",
     "output_type": "stream",
     "text": [
      "yt : [WARNING  ] 2020-03-09 02:01:41,441 Assuming 1.0 = 1.0 cm\n",
      "yt : [WARNING  ] 2020-03-09 02:01:41,441 Assuming 1.0 = 1.0 s\n",
      "yt : [WARNING  ] 2020-03-09 02:01:41,442 Assuming 1.0 = 1.0 g\n",
      "yt : [WARNING  ] 2020-03-09 02:01:41,443 Assuming 1.0 = 1.0 K\n",
      "yt : [INFO     ] 2020-03-09 02:01:41,455 Parameters: current_time              = 604764567871425.1\n",
      "yt : [INFO     ] 2020-03-09 02:01:41,456 Parameters: domain_dimensions         = [256 640   1]\n",
      "yt : [INFO     ] 2020-03-09 02:01:41,457 Parameters: domain_left_edge          = [-1.5450e+19 -3.8625e+19 -5.0000e-01]\n",
      "yt : [INFO     ] 2020-03-09 02:01:41,458 Parameters: domain_right_edge         = [1.5450e+19 3.8625e+19 5.0000e-01]\n",
      "yt : [INFO     ] 2020-03-09 02:01:41,459 Parameters: cosmological_simulation   = 0.0\n"
     ]
    },
    {
     "name": "stdout",
     "output_type": "stream",
     "text": [
      "mixing_layer.out1.00321\n"
     ]
    },
    {
     "name": "stderr",
     "output_type": "stream",
     "text": [
      "yt : [WARNING  ] 2020-03-09 02:01:41,489 Assuming 1.0 = 1.0 cm\n",
      "yt : [WARNING  ] 2020-03-09 02:01:41,491 Assuming 1.0 = 1.0 s\n",
      "yt : [WARNING  ] 2020-03-09 02:01:41,492 Assuming 1.0 = 1.0 g\n",
      "yt : [WARNING  ] 2020-03-09 02:01:41,493 Assuming 1.0 = 1.0 K\n",
      "yt : [INFO     ] 2020-03-09 02:01:41,504 Parameters: current_time              = 606649225616327.0\n",
      "yt : [INFO     ] 2020-03-09 02:01:41,505 Parameters: domain_dimensions         = [256 640   1]\n",
      "yt : [INFO     ] 2020-03-09 02:01:41,506 Parameters: domain_left_edge          = [-1.5450e+19 -3.8625e+19 -5.0000e-01]\n",
      "yt : [INFO     ] 2020-03-09 02:01:41,507 Parameters: domain_right_edge         = [1.5450e+19 3.8625e+19 5.0000e-01]\n",
      "yt : [INFO     ] 2020-03-09 02:01:41,508 Parameters: cosmological_simulation   = 0.0\n"
     ]
    },
    {
     "name": "stdout",
     "output_type": "stream",
     "text": [
      "mixing_layer.out1.00322\n"
     ]
    },
    {
     "name": "stderr",
     "output_type": "stream",
     "text": [
      "yt : [WARNING  ] 2020-03-09 02:01:41,534 Assuming 1.0 = 1.0 cm\n",
      "yt : [WARNING  ] 2020-03-09 02:01:41,536 Assuming 1.0 = 1.0 s\n",
      "yt : [WARNING  ] 2020-03-09 02:01:41,537 Assuming 1.0 = 1.0 g\n",
      "yt : [WARNING  ] 2020-03-09 02:01:41,538 Assuming 1.0 = 1.0 K\n",
      "yt : [INFO     ] 2020-03-09 02:01:41,551 Parameters: current_time              = 608532142254446.5\n",
      "yt : [INFO     ] 2020-03-09 02:01:41,552 Parameters: domain_dimensions         = [256 640   1]\n",
      "yt : [INFO     ] 2020-03-09 02:01:41,553 Parameters: domain_left_edge          = [-1.5450e+19 -3.8625e+19 -5.0000e-01]\n",
      "yt : [INFO     ] 2020-03-09 02:01:41,553 Parameters: domain_right_edge         = [1.5450e+19 3.8625e+19 5.0000e-01]\n",
      "yt : [INFO     ] 2020-03-09 02:01:41,554 Parameters: cosmological_simulation   = 0.0\n"
     ]
    },
    {
     "name": "stdout",
     "output_type": "stream",
     "text": [
      "mixing_layer.out1.00323\n"
     ]
    },
    {
     "name": "stderr",
     "output_type": "stream",
     "text": [
      "yt : [WARNING  ] 2020-03-09 02:01:41,581 Assuming 1.0 = 1.0 cm\n",
      "yt : [WARNING  ] 2020-03-09 02:01:41,582 Assuming 1.0 = 1.0 s\n",
      "yt : [WARNING  ] 2020-03-09 02:01:41,583 Assuming 1.0 = 1.0 g\n",
      "yt : [WARNING  ] 2020-03-09 02:01:41,584 Assuming 1.0 = 1.0 K\n",
      "yt : [INFO     ] 2020-03-09 02:01:41,596 Parameters: current_time              = 610416569120273.4\n",
      "yt : [INFO     ] 2020-03-09 02:01:41,596 Parameters: domain_dimensions         = [256 640   1]\n",
      "yt : [INFO     ] 2020-03-09 02:01:41,597 Parameters: domain_left_edge          = [-1.5450e+19 -3.8625e+19 -5.0000e-01]\n",
      "yt : [INFO     ] 2020-03-09 02:01:41,598 Parameters: domain_right_edge         = [1.5450e+19 3.8625e+19 5.0000e-01]\n",
      "yt : [INFO     ] 2020-03-09 02:01:41,599 Parameters: cosmological_simulation   = 0.0\n"
     ]
    },
    {
     "name": "stdout",
     "output_type": "stream",
     "text": [
      "mixing_layer.out1.00324\n"
     ]
    },
    {
     "name": "stderr",
     "output_type": "stream",
     "text": [
      "yt : [WARNING  ] 2020-03-09 02:01:41,626 Assuming 1.0 = 1.0 cm\n",
      "yt : [WARNING  ] 2020-03-09 02:01:41,627 Assuming 1.0 = 1.0 s\n",
      "yt : [WARNING  ] 2020-03-09 02:01:41,628 Assuming 1.0 = 1.0 g\n",
      "yt : [WARNING  ] 2020-03-09 02:01:41,629 Assuming 1.0 = 1.0 K\n",
      "yt : [INFO     ] 2020-03-09 02:01:41,640 Parameters: current_time              = 612300851873945.6\n",
      "yt : [INFO     ] 2020-03-09 02:01:41,641 Parameters: domain_dimensions         = [256 640   1]\n",
      "yt : [INFO     ] 2020-03-09 02:01:41,642 Parameters: domain_left_edge          = [-1.5450e+19 -3.8625e+19 -5.0000e-01]\n",
      "yt : [INFO     ] 2020-03-09 02:01:41,643 Parameters: domain_right_edge         = [1.5450e+19 3.8625e+19 5.0000e-01]\n",
      "yt : [INFO     ] 2020-03-09 02:01:41,644 Parameters: cosmological_simulation   = 0.0\n"
     ]
    },
    {
     "name": "stdout",
     "output_type": "stream",
     "text": [
      "mixing_layer.out1.00325\n"
     ]
    },
    {
     "name": "stderr",
     "output_type": "stream",
     "text": [
      "yt : [WARNING  ] 2020-03-09 02:01:41,669 Assuming 1.0 = 1.0 cm\n",
      "yt : [WARNING  ] 2020-03-09 02:01:41,670 Assuming 1.0 = 1.0 s\n",
      "yt : [WARNING  ] 2020-03-09 02:01:41,671 Assuming 1.0 = 1.0 g\n",
      "yt : [WARNING  ] 2020-03-09 02:01:41,672 Assuming 1.0 = 1.0 K\n",
      "yt : [INFO     ] 2020-03-09 02:01:41,687 Parameters: current_time              = 614185712898484.4\n",
      "yt : [INFO     ] 2020-03-09 02:01:41,688 Parameters: domain_dimensions         = [256 640   1]\n",
      "yt : [INFO     ] 2020-03-09 02:01:41,689 Parameters: domain_left_edge          = [-1.5450e+19 -3.8625e+19 -5.0000e-01]\n",
      "yt : [INFO     ] 2020-03-09 02:01:41,690 Parameters: domain_right_edge         = [1.5450e+19 3.8625e+19 5.0000e-01]\n",
      "yt : [INFO     ] 2020-03-09 02:01:41,691 Parameters: cosmological_simulation   = 0.0\n"
     ]
    },
    {
     "name": "stdout",
     "output_type": "stream",
     "text": [
      "mixing_layer.out1.00326\n"
     ]
    },
    {
     "name": "stderr",
     "output_type": "stream",
     "text": [
      "yt : [WARNING  ] 2020-03-09 02:01:41,720 Assuming 1.0 = 1.0 cm\n",
      "yt : [WARNING  ] 2020-03-09 02:01:41,721 Assuming 1.0 = 1.0 s\n",
      "yt : [WARNING  ] 2020-03-09 02:01:41,722 Assuming 1.0 = 1.0 g\n",
      "yt : [WARNING  ] 2020-03-09 02:01:41,724 Assuming 1.0 = 1.0 K\n",
      "yt : [INFO     ] 2020-03-09 02:01:41,736 Parameters: current_time              = 616068130868224.9\n",
      "yt : [INFO     ] 2020-03-09 02:01:41,736 Parameters: domain_dimensions         = [256 640   1]\n",
      "yt : [INFO     ] 2020-03-09 02:01:41,737 Parameters: domain_left_edge          = [-1.5450e+19 -3.8625e+19 -5.0000e-01]\n",
      "yt : [INFO     ] 2020-03-09 02:01:41,738 Parameters: domain_right_edge         = [1.5450e+19 3.8625e+19 5.0000e-01]\n",
      "yt : [INFO     ] 2020-03-09 02:01:41,739 Parameters: cosmological_simulation   = 0.0\n"
     ]
    },
    {
     "name": "stdout",
     "output_type": "stream",
     "text": [
      "mixing_layer.out1.00327\n"
     ]
    },
    {
     "name": "stderr",
     "output_type": "stream",
     "text": [
      "yt : [WARNING  ] 2020-03-09 02:01:41,765 Assuming 1.0 = 1.0 cm\n",
      "yt : [WARNING  ] 2020-03-09 02:01:41,766 Assuming 1.0 = 1.0 s\n",
      "yt : [WARNING  ] 2020-03-09 02:01:41,767 Assuming 1.0 = 1.0 g\n",
      "yt : [WARNING  ] 2020-03-09 02:01:41,768 Assuming 1.0 = 1.0 K\n",
      "yt : [INFO     ] 2020-03-09 02:01:41,779 Parameters: current_time              = 617953406698712.2\n",
      "yt : [INFO     ] 2020-03-09 02:01:41,780 Parameters: domain_dimensions         = [256 640   1]\n",
      "yt : [INFO     ] 2020-03-09 02:01:41,781 Parameters: domain_left_edge          = [-1.5450e+19 -3.8625e+19 -5.0000e-01]\n",
      "yt : [INFO     ] 2020-03-09 02:01:41,782 Parameters: domain_right_edge         = [1.5450e+19 3.8625e+19 5.0000e-01]\n",
      "yt : [INFO     ] 2020-03-09 02:01:41,783 Parameters: cosmological_simulation   = 0.0\n"
     ]
    },
    {
     "name": "stdout",
     "output_type": "stream",
     "text": [
      "mixing_layer.out1.00328\n"
     ]
    },
    {
     "name": "stderr",
     "output_type": "stream",
     "text": [
      "yt : [WARNING  ] 2020-03-09 02:01:41,808 Assuming 1.0 = 1.0 cm\n",
      "yt : [WARNING  ] 2020-03-09 02:01:41,809 Assuming 1.0 = 1.0 s\n",
      "yt : [WARNING  ] 2020-03-09 02:01:41,809 Assuming 1.0 = 1.0 g\n",
      "yt : [WARNING  ] 2020-03-09 02:01:41,810 Assuming 1.0 = 1.0 K\n",
      "yt : [INFO     ] 2020-03-09 02:01:41,822 Parameters: current_time              = 619837378192907.4\n",
      "yt : [INFO     ] 2020-03-09 02:01:41,824 Parameters: domain_dimensions         = [256 640   1]\n",
      "yt : [INFO     ] 2020-03-09 02:01:41,824 Parameters: domain_left_edge          = [-1.5450e+19 -3.8625e+19 -5.0000e-01]\n",
      "yt : [INFO     ] 2020-03-09 02:01:41,825 Parameters: domain_right_edge         = [1.5450e+19 3.8625e+19 5.0000e-01]\n",
      "yt : [INFO     ] 2020-03-09 02:01:41,826 Parameters: cosmological_simulation   = 0.0\n"
     ]
    },
    {
     "name": "stdout",
     "output_type": "stream",
     "text": [
      "mixing_layer.out1.00329\n"
     ]
    },
    {
     "name": "stderr",
     "output_type": "stream",
     "text": [
      "yt : [WARNING  ] 2020-03-09 02:01:41,850 Assuming 1.0 = 1.0 cm\n",
      "yt : [WARNING  ] 2020-03-09 02:01:41,851 Assuming 1.0 = 1.0 s\n",
      "yt : [WARNING  ] 2020-03-09 02:01:41,852 Assuming 1.0 = 1.0 g\n",
      "yt : [WARNING  ] 2020-03-09 02:01:41,853 Assuming 1.0 = 1.0 K\n",
      "yt : [INFO     ] 2020-03-09 02:01:41,867 Parameters: current_time              = 621721115898456.2\n",
      "yt : [INFO     ] 2020-03-09 02:01:41,868 Parameters: domain_dimensions         = [256 640   1]\n",
      "yt : [INFO     ] 2020-03-09 02:01:41,869 Parameters: domain_left_edge          = [-1.5450e+19 -3.8625e+19 -5.0000e-01]\n",
      "yt : [INFO     ] 2020-03-09 02:01:41,870 Parameters: domain_right_edge         = [1.5450e+19 3.8625e+19 5.0000e-01]\n",
      "yt : [INFO     ] 2020-03-09 02:01:41,871 Parameters: cosmological_simulation   = 0.0\n"
     ]
    },
    {
     "name": "stdout",
     "output_type": "stream",
     "text": [
      "mixing_layer.out1.00330\n"
     ]
    },
    {
     "name": "stderr",
     "output_type": "stream",
     "text": [
      "yt : [WARNING  ] 2020-03-09 02:01:41,896 Assuming 1.0 = 1.0 cm\n",
      "yt : [WARNING  ] 2020-03-09 02:01:41,897 Assuming 1.0 = 1.0 s\n",
      "yt : [WARNING  ] 2020-03-09 02:01:41,898 Assuming 1.0 = 1.0 g\n",
      "yt : [WARNING  ] 2020-03-09 02:01:41,899 Assuming 1.0 = 1.0 K\n",
      "yt : [INFO     ] 2020-03-09 02:01:41,911 Parameters: current_time              = 623606434097498.1\n",
      "yt : [INFO     ] 2020-03-09 02:01:41,911 Parameters: domain_dimensions         = [256 640   1]\n",
      "yt : [INFO     ] 2020-03-09 02:01:41,912 Parameters: domain_left_edge          = [-1.5450e+19 -3.8625e+19 -5.0000e-01]\n",
      "yt : [INFO     ] 2020-03-09 02:01:41,913 Parameters: domain_right_edge         = [1.5450e+19 3.8625e+19 5.0000e-01]\n",
      "yt : [INFO     ] 2020-03-09 02:01:41,914 Parameters: cosmological_simulation   = 0.0\n"
     ]
    },
    {
     "name": "stdout",
     "output_type": "stream",
     "text": [
      "mixing_layer.out1.00331\n"
     ]
    },
    {
     "name": "stderr",
     "output_type": "stream",
     "text": [
      "yt : [WARNING  ] 2020-03-09 02:01:41,939 Assuming 1.0 = 1.0 cm\n",
      "yt : [WARNING  ] 2020-03-09 02:01:41,941 Assuming 1.0 = 1.0 s\n",
      "yt : [WARNING  ] 2020-03-09 02:01:41,941 Assuming 1.0 = 1.0 g\n",
      "yt : [WARNING  ] 2020-03-09 02:01:41,942 Assuming 1.0 = 1.0 K\n",
      "yt : [INFO     ] 2020-03-09 02:01:41,955 Parameters: current_time              = 625489767342211.5\n",
      "yt : [INFO     ] 2020-03-09 02:01:41,955 Parameters: domain_dimensions         = [256 640   1]\n",
      "yt : [INFO     ] 2020-03-09 02:01:41,956 Parameters: domain_left_edge          = [-1.5450e+19 -3.8625e+19 -5.0000e-01]\n",
      "yt : [INFO     ] 2020-03-09 02:01:41,957 Parameters: domain_right_edge         = [1.5450e+19 3.8625e+19 5.0000e-01]\n",
      "yt : [INFO     ] 2020-03-09 02:01:41,958 Parameters: cosmological_simulation   = 0.0\n"
     ]
    },
    {
     "name": "stdout",
     "output_type": "stream",
     "text": [
      "mixing_layer.out1.00332\n"
     ]
    },
    {
     "name": "stderr",
     "output_type": "stream",
     "text": [
      "yt : [WARNING  ] 2020-03-09 02:01:41,983 Assuming 1.0 = 1.0 cm\n",
      "yt : [WARNING  ] 2020-03-09 02:01:41,985 Assuming 1.0 = 1.0 s\n",
      "yt : [WARNING  ] 2020-03-09 02:01:41,986 Assuming 1.0 = 1.0 g\n",
      "yt : [WARNING  ] 2020-03-09 02:01:41,986 Assuming 1.0 = 1.0 K\n",
      "yt : [INFO     ] 2020-03-09 02:01:42,000 Parameters: current_time              = 627372764504581.2\n",
      "yt : [INFO     ] 2020-03-09 02:01:42,000 Parameters: domain_dimensions         = [256 640   1]\n",
      "yt : [INFO     ] 2020-03-09 02:01:42,001 Parameters: domain_left_edge          = [-1.5450e+19 -3.8625e+19 -5.0000e-01]\n",
      "yt : [INFO     ] 2020-03-09 02:01:42,002 Parameters: domain_right_edge         = [1.5450e+19 3.8625e+19 5.0000e-01]\n",
      "yt : [INFO     ] 2020-03-09 02:01:42,003 Parameters: cosmological_simulation   = 0.0\n"
     ]
    },
    {
     "name": "stdout",
     "output_type": "stream",
     "text": [
      "mixing_layer.out1.00333\n"
     ]
    },
    {
     "name": "stderr",
     "output_type": "stream",
     "text": [
      "yt : [WARNING  ] 2020-03-09 02:01:42,027 Assuming 1.0 = 1.0 cm\n",
      "yt : [WARNING  ] 2020-03-09 02:01:42,028 Assuming 1.0 = 1.0 s\n",
      "yt : [WARNING  ] 2020-03-09 02:01:42,029 Assuming 1.0 = 1.0 g\n",
      "yt : [WARNING  ] 2020-03-09 02:01:42,030 Assuming 1.0 = 1.0 K\n",
      "yt : [INFO     ] 2020-03-09 02:01:42,041 Parameters: current_time              = 629256507479700.9\n",
      "yt : [INFO     ] 2020-03-09 02:01:42,042 Parameters: domain_dimensions         = [256 640   1]\n",
      "yt : [INFO     ] 2020-03-09 02:01:42,043 Parameters: domain_left_edge          = [-1.5450e+19 -3.8625e+19 -5.0000e-01]\n",
      "yt : [INFO     ] 2020-03-09 02:01:42,044 Parameters: domain_right_edge         = [1.5450e+19 3.8625e+19 5.0000e-01]\n",
      "yt : [INFO     ] 2020-03-09 02:01:42,045 Parameters: cosmological_simulation   = 0.0\n"
     ]
    },
    {
     "name": "stdout",
     "output_type": "stream",
     "text": [
      "mixing_layer.out1.00334\n"
     ]
    },
    {
     "name": "stderr",
     "output_type": "stream",
     "text": [
      "yt : [WARNING  ] 2020-03-09 02:01:42,070 Assuming 1.0 = 1.0 cm\n",
      "yt : [WARNING  ] 2020-03-09 02:01:42,071 Assuming 1.0 = 1.0 s\n",
      "yt : [WARNING  ] 2020-03-09 02:01:42,072 Assuming 1.0 = 1.0 g\n",
      "yt : [WARNING  ] 2020-03-09 02:01:42,073 Assuming 1.0 = 1.0 K\n",
      "yt : [INFO     ] 2020-03-09 02:01:42,084 Parameters: current_time              = 631140638844485.5\n",
      "yt : [INFO     ] 2020-03-09 02:01:42,085 Parameters: domain_dimensions         = [256 640   1]\n",
      "yt : [INFO     ] 2020-03-09 02:01:42,086 Parameters: domain_left_edge          = [-1.5450e+19 -3.8625e+19 -5.0000e-01]\n",
      "yt : [INFO     ] 2020-03-09 02:01:42,087 Parameters: domain_right_edge         = [1.5450e+19 3.8625e+19 5.0000e-01]\n",
      "yt : [INFO     ] 2020-03-09 02:01:42,088 Parameters: cosmological_simulation   = 0.0\n"
     ]
    },
    {
     "name": "stdout",
     "output_type": "stream",
     "text": [
      "mixing_layer.out1.00335\n"
     ]
    },
    {
     "name": "stderr",
     "output_type": "stream",
     "text": [
      "yt : [WARNING  ] 2020-03-09 02:01:42,113 Assuming 1.0 = 1.0 cm\n",
      "yt : [WARNING  ] 2020-03-09 02:01:42,114 Assuming 1.0 = 1.0 s\n",
      "yt : [WARNING  ] 2020-03-09 02:01:42,115 Assuming 1.0 = 1.0 g\n",
      "yt : [WARNING  ] 2020-03-09 02:01:42,116 Assuming 1.0 = 1.0 K\n",
      "yt : [INFO     ] 2020-03-09 02:01:42,128 Parameters: current_time              = 633026313950001.6\n",
      "yt : [INFO     ] 2020-03-09 02:01:42,129 Parameters: domain_dimensions         = [256 640   1]\n",
      "yt : [INFO     ] 2020-03-09 02:01:42,130 Parameters: domain_left_edge          = [-1.5450e+19 -3.8625e+19 -5.0000e-01]\n",
      "yt : [INFO     ] 2020-03-09 02:01:42,131 Parameters: domain_right_edge         = [1.5450e+19 3.8625e+19 5.0000e-01]\n",
      "yt : [INFO     ] 2020-03-09 02:01:42,131 Parameters: cosmological_simulation   = 0.0\n"
     ]
    },
    {
     "name": "stdout",
     "output_type": "stream",
     "text": [
      "mixing_layer.out1.00336\n"
     ]
    },
    {
     "name": "stderr",
     "output_type": "stream",
     "text": [
      "yt : [WARNING  ] 2020-03-09 02:01:42,158 Assuming 1.0 = 1.0 cm\n",
      "yt : [WARNING  ] 2020-03-09 02:01:42,159 Assuming 1.0 = 1.0 s\n",
      "yt : [WARNING  ] 2020-03-09 02:01:42,160 Assuming 1.0 = 1.0 g\n",
      "yt : [WARNING  ] 2020-03-09 02:01:42,161 Assuming 1.0 = 1.0 K\n",
      "yt : [INFO     ] 2020-03-09 02:01:42,173 Parameters: current_time              = 634909969827403.0\n",
      "yt : [INFO     ] 2020-03-09 02:01:42,174 Parameters: domain_dimensions         = [256 640   1]\n",
      "yt : [INFO     ] 2020-03-09 02:01:42,175 Parameters: domain_left_edge          = [-1.5450e+19 -3.8625e+19 -5.0000e-01]\n",
      "yt : [INFO     ] 2020-03-09 02:01:42,176 Parameters: domain_right_edge         = [1.5450e+19 3.8625e+19 5.0000e-01]\n",
      "yt : [INFO     ] 2020-03-09 02:01:42,177 Parameters: cosmological_simulation   = 0.0\n"
     ]
    },
    {
     "name": "stdout",
     "output_type": "stream",
     "text": [
      "mixing_layer.out1.00337\n"
     ]
    },
    {
     "name": "stderr",
     "output_type": "stream",
     "text": [
      "yt : [WARNING  ] 2020-03-09 02:01:42,207 Assuming 1.0 = 1.0 cm\n",
      "yt : [WARNING  ] 2020-03-09 02:01:42,208 Assuming 1.0 = 1.0 s\n",
      "yt : [WARNING  ] 2020-03-09 02:01:42,209 Assuming 1.0 = 1.0 g\n",
      "yt : [WARNING  ] 2020-03-09 02:01:42,210 Assuming 1.0 = 1.0 K\n",
      "yt : [INFO     ] 2020-03-09 02:01:42,221 Parameters: current_time              = 636794218359459.0\n",
      "yt : [INFO     ] 2020-03-09 02:01:42,223 Parameters: domain_dimensions         = [256 640   1]\n",
      "yt : [INFO     ] 2020-03-09 02:01:42,224 Parameters: domain_left_edge          = [-1.5450e+19 -3.8625e+19 -5.0000e-01]\n",
      "yt : [INFO     ] 2020-03-09 02:01:42,225 Parameters: domain_right_edge         = [1.5450e+19 3.8625e+19 5.0000e-01]\n",
      "yt : [INFO     ] 2020-03-09 02:01:42,226 Parameters: cosmological_simulation   = 0.0\n"
     ]
    },
    {
     "name": "stdout",
     "output_type": "stream",
     "text": [
      "mixing_layer.out1.00338\n"
     ]
    },
    {
     "name": "stderr",
     "output_type": "stream",
     "text": [
      "yt : [WARNING  ] 2020-03-09 02:01:42,252 Assuming 1.0 = 1.0 cm\n",
      "yt : [WARNING  ] 2020-03-09 02:01:42,253 Assuming 1.0 = 1.0 s\n",
      "yt : [WARNING  ] 2020-03-09 02:01:42,254 Assuming 1.0 = 1.0 g\n",
      "yt : [WARNING  ] 2020-03-09 02:01:42,255 Assuming 1.0 = 1.0 K\n",
      "yt : [INFO     ] 2020-03-09 02:01:42,265 Parameters: current_time              = 638677796819201.1\n",
      "yt : [INFO     ] 2020-03-09 02:01:42,266 Parameters: domain_dimensions         = [256 640   1]\n",
      "yt : [INFO     ] 2020-03-09 02:01:42,267 Parameters: domain_left_edge          = [-1.5450e+19 -3.8625e+19 -5.0000e-01]\n",
      "yt : [INFO     ] 2020-03-09 02:01:42,268 Parameters: domain_right_edge         = [1.5450e+19 3.8625e+19 5.0000e-01]\n",
      "yt : [INFO     ] 2020-03-09 02:01:42,269 Parameters: cosmological_simulation   = 0.0\n"
     ]
    },
    {
     "name": "stdout",
     "output_type": "stream",
     "text": [
      "mixing_layer.out1.00339\n"
     ]
    },
    {
     "name": "stderr",
     "output_type": "stream",
     "text": [
      "yt : [WARNING  ] 2020-03-09 02:01:42,294 Assuming 1.0 = 1.0 cm\n",
      "yt : [WARNING  ] 2020-03-09 02:01:42,296 Assuming 1.0 = 1.0 s\n",
      "yt : [WARNING  ] 2020-03-09 02:01:42,297 Assuming 1.0 = 1.0 g\n",
      "yt : [WARNING  ] 2020-03-09 02:01:42,298 Assuming 1.0 = 1.0 K\n",
      "yt : [INFO     ] 2020-03-09 02:01:42,311 Parameters: current_time              = 640560101379941.2\n",
      "yt : [INFO     ] 2020-03-09 02:01:42,311 Parameters: domain_dimensions         = [256 640   1]\n",
      "yt : [INFO     ] 2020-03-09 02:01:42,312 Parameters: domain_left_edge          = [-1.5450e+19 -3.8625e+19 -5.0000e-01]\n",
      "yt : [INFO     ] 2020-03-09 02:01:42,313 Parameters: domain_right_edge         = [1.5450e+19 3.8625e+19 5.0000e-01]\n",
      "yt : [INFO     ] 2020-03-09 02:01:42,314 Parameters: cosmological_simulation   = 0.0\n"
     ]
    },
    {
     "name": "stdout",
     "output_type": "stream",
     "text": [
      "mixing_layer.out1.00340\n"
     ]
    },
    {
     "name": "stderr",
     "output_type": "stream",
     "text": [
      "yt : [WARNING  ] 2020-03-09 02:01:42,340 Assuming 1.0 = 1.0 cm\n",
      "yt : [WARNING  ] 2020-03-09 02:01:42,341 Assuming 1.0 = 1.0 s\n",
      "yt : [WARNING  ] 2020-03-09 02:01:42,342 Assuming 1.0 = 1.0 g\n",
      "yt : [WARNING  ] 2020-03-09 02:01:42,343 Assuming 1.0 = 1.0 K\n",
      "yt : [INFO     ] 2020-03-09 02:01:42,355 Parameters: current_time              = 642444714029712.5\n",
      "yt : [INFO     ] 2020-03-09 02:01:42,356 Parameters: domain_dimensions         = [256 640   1]\n",
      "yt : [INFO     ] 2020-03-09 02:01:42,357 Parameters: domain_left_edge          = [-1.5450e+19 -3.8625e+19 -5.0000e-01]\n",
      "yt : [INFO     ] 2020-03-09 02:01:42,358 Parameters: domain_right_edge         = [1.5450e+19 3.8625e+19 5.0000e-01]\n",
      "yt : [INFO     ] 2020-03-09 02:01:42,359 Parameters: cosmological_simulation   = 0.0\n"
     ]
    },
    {
     "name": "stdout",
     "output_type": "stream",
     "text": [
      "mixing_layer.out1.00341\n"
     ]
    },
    {
     "name": "stderr",
     "output_type": "stream",
     "text": [
      "yt : [WARNING  ] 2020-03-09 02:01:42,384 Assuming 1.0 = 1.0 cm\n",
      "yt : [WARNING  ] 2020-03-09 02:01:42,385 Assuming 1.0 = 1.0 s\n",
      "yt : [WARNING  ] 2020-03-09 02:01:42,386 Assuming 1.0 = 1.0 g\n",
      "yt : [WARNING  ] 2020-03-09 02:01:42,387 Assuming 1.0 = 1.0 K\n",
      "yt : [INFO     ] 2020-03-09 02:01:42,399 Parameters: current_time              = 644328529214316.5\n",
      "yt : [INFO     ] 2020-03-09 02:01:42,400 Parameters: domain_dimensions         = [256 640   1]\n",
      "yt : [INFO     ] 2020-03-09 02:01:42,401 Parameters: domain_left_edge          = [-1.5450e+19 -3.8625e+19 -5.0000e-01]\n",
      "yt : [INFO     ] 2020-03-09 02:01:42,402 Parameters: domain_right_edge         = [1.5450e+19 3.8625e+19 5.0000e-01]\n",
      "yt : [INFO     ] 2020-03-09 02:01:42,403 Parameters: cosmological_simulation   = 0.0\n"
     ]
    },
    {
     "name": "stdout",
     "output_type": "stream",
     "text": [
      "mixing_layer.out1.00342\n"
     ]
    },
    {
     "name": "stderr",
     "output_type": "stream",
     "text": [
      "yt : [WARNING  ] 2020-03-09 02:01:42,430 Assuming 1.0 = 1.0 cm\n",
      "yt : [WARNING  ] 2020-03-09 02:01:42,431 Assuming 1.0 = 1.0 s\n",
      "yt : [WARNING  ] 2020-03-09 02:01:42,432 Assuming 1.0 = 1.0 g\n",
      "yt : [WARNING  ] 2020-03-09 02:01:42,433 Assuming 1.0 = 1.0 K\n",
      "yt : [INFO     ] 2020-03-09 02:01:42,445 Parameters: current_time              = 646213716230834.5\n",
      "yt : [INFO     ] 2020-03-09 02:01:42,446 Parameters: domain_dimensions         = [256 640   1]\n",
      "yt : [INFO     ] 2020-03-09 02:01:42,446 Parameters: domain_left_edge          = [-1.5450e+19 -3.8625e+19 -5.0000e-01]\n",
      "yt : [INFO     ] 2020-03-09 02:01:42,447 Parameters: domain_right_edge         = [1.5450e+19 3.8625e+19 5.0000e-01]\n",
      "yt : [INFO     ] 2020-03-09 02:01:42,447 Parameters: cosmological_simulation   = 0.0\n"
     ]
    },
    {
     "name": "stdout",
     "output_type": "stream",
     "text": [
      "mixing_layer.out1.00343\n"
     ]
    },
    {
     "name": "stderr",
     "output_type": "stream",
     "text": [
      "yt : [WARNING  ] 2020-03-09 02:01:42,472 Assuming 1.0 = 1.0 cm\n",
      "yt : [WARNING  ] 2020-03-09 02:01:42,473 Assuming 1.0 = 1.0 s\n",
      "yt : [WARNING  ] 2020-03-09 02:01:42,474 Assuming 1.0 = 1.0 g\n",
      "yt : [WARNING  ] 2020-03-09 02:01:42,475 Assuming 1.0 = 1.0 K\n",
      "yt : [INFO     ] 2020-03-09 02:01:42,487 Parameters: current_time              = 648096354614552.1\n",
      "yt : [INFO     ] 2020-03-09 02:01:42,487 Parameters: domain_dimensions         = [256 640   1]\n",
      "yt : [INFO     ] 2020-03-09 02:01:42,488 Parameters: domain_left_edge          = [-1.5450e+19 -3.8625e+19 -5.0000e-01]\n",
      "yt : [INFO     ] 2020-03-09 02:01:42,490 Parameters: domain_right_edge         = [1.5450e+19 3.8625e+19 5.0000e-01]\n",
      "yt : [INFO     ] 2020-03-09 02:01:42,491 Parameters: cosmological_simulation   = 0.0\n"
     ]
    },
    {
     "name": "stdout",
     "output_type": "stream",
     "text": [
      "mixing_layer.out1.00344\n"
     ]
    },
    {
     "name": "stderr",
     "output_type": "stream",
     "text": [
      "yt : [WARNING  ] 2020-03-09 02:01:42,516 Assuming 1.0 = 1.0 cm\n",
      "yt : [WARNING  ] 2020-03-09 02:01:42,518 Assuming 1.0 = 1.0 s\n",
      "yt : [WARNING  ] 2020-03-09 02:01:42,519 Assuming 1.0 = 1.0 g\n",
      "yt : [WARNING  ] 2020-03-09 02:01:42,521 Assuming 1.0 = 1.0 K\n",
      "yt : [INFO     ] 2020-03-09 02:01:42,533 Parameters: current_time              = 649982447743694.4\n",
      "yt : [INFO     ] 2020-03-09 02:01:42,534 Parameters: domain_dimensions         = [256 640   1]\n",
      "yt : [INFO     ] 2020-03-09 02:01:42,535 Parameters: domain_left_edge          = [-1.5450e+19 -3.8625e+19 -5.0000e-01]\n",
      "yt : [INFO     ] 2020-03-09 02:01:42,536 Parameters: domain_right_edge         = [1.5450e+19 3.8625e+19 5.0000e-01]\n",
      "yt : [INFO     ] 2020-03-09 02:01:42,537 Parameters: cosmological_simulation   = 0.0\n"
     ]
    },
    {
     "name": "stdout",
     "output_type": "stream",
     "text": [
      "mixing_layer.out1.00345\n"
     ]
    },
    {
     "name": "stderr",
     "output_type": "stream",
     "text": [
      "yt : [WARNING  ] 2020-03-09 02:01:42,562 Assuming 1.0 = 1.0 cm\n",
      "yt : [WARNING  ] 2020-03-09 02:01:42,563 Assuming 1.0 = 1.0 s\n",
      "yt : [WARNING  ] 2020-03-09 02:01:42,564 Assuming 1.0 = 1.0 g\n",
      "yt : [WARNING  ] 2020-03-09 02:01:42,565 Assuming 1.0 = 1.0 K\n",
      "yt : [INFO     ] 2020-03-09 02:01:42,578 Parameters: current_time              = 651864994272869.5\n",
      "yt : [INFO     ] 2020-03-09 02:01:42,579 Parameters: domain_dimensions         = [256 640   1]\n",
      "yt : [INFO     ] 2020-03-09 02:01:42,579 Parameters: domain_left_edge          = [-1.5450e+19 -3.8625e+19 -5.0000e-01]\n",
      "yt : [INFO     ] 2020-03-09 02:01:42,580 Parameters: domain_right_edge         = [1.5450e+19 3.8625e+19 5.0000e-01]\n",
      "yt : [INFO     ] 2020-03-09 02:01:42,581 Parameters: cosmological_simulation   = 0.0\n"
     ]
    },
    {
     "name": "stdout",
     "output_type": "stream",
     "text": [
      "mixing_layer.out1.00346\n"
     ]
    },
    {
     "name": "stderr",
     "output_type": "stream",
     "text": [
      "yt : [WARNING  ] 2020-03-09 02:01:42,605 Assuming 1.0 = 1.0 cm\n",
      "yt : [WARNING  ] 2020-03-09 02:01:42,606 Assuming 1.0 = 1.0 s\n",
      "yt : [WARNING  ] 2020-03-09 02:01:42,607 Assuming 1.0 = 1.0 g\n",
      "yt : [WARNING  ] 2020-03-09 02:01:42,608 Assuming 1.0 = 1.0 K\n",
      "yt : [INFO     ] 2020-03-09 02:01:42,620 Parameters: current_time              = 653749015086035.2\n",
      "yt : [INFO     ] 2020-03-09 02:01:42,622 Parameters: domain_dimensions         = [256 640   1]\n",
      "yt : [INFO     ] 2020-03-09 02:01:42,622 Parameters: domain_left_edge          = [-1.5450e+19 -3.8625e+19 -5.0000e-01]\n",
      "yt : [INFO     ] 2020-03-09 02:01:42,623 Parameters: domain_right_edge         = [1.5450e+19 3.8625e+19 5.0000e-01]\n",
      "yt : [INFO     ] 2020-03-09 02:01:42,624 Parameters: cosmological_simulation   = 0.0\n"
     ]
    },
    {
     "name": "stdout",
     "output_type": "stream",
     "text": [
      "mixing_layer.out1.00347\n"
     ]
    },
    {
     "name": "stderr",
     "output_type": "stream",
     "text": [
      "yt : [WARNING  ] 2020-03-09 02:01:42,651 Assuming 1.0 = 1.0 cm\n",
      "yt : [WARNING  ] 2020-03-09 02:01:42,652 Assuming 1.0 = 1.0 s\n",
      "yt : [WARNING  ] 2020-03-09 02:01:42,653 Assuming 1.0 = 1.0 g\n",
      "yt : [WARNING  ] 2020-03-09 02:01:42,653 Assuming 1.0 = 1.0 K\n",
      "yt : [INFO     ] 2020-03-09 02:01:42,665 Parameters: current_time              = 655634238597500.8\n",
      "yt : [INFO     ] 2020-03-09 02:01:42,666 Parameters: domain_dimensions         = [256 640   1]\n",
      "yt : [INFO     ] 2020-03-09 02:01:42,667 Parameters: domain_left_edge          = [-1.5450e+19 -3.8625e+19 -5.0000e-01]\n",
      "yt : [INFO     ] 2020-03-09 02:01:42,668 Parameters: domain_right_edge         = [1.5450e+19 3.8625e+19 5.0000e-01]\n",
      "yt : [INFO     ] 2020-03-09 02:01:42,669 Parameters: cosmological_simulation   = 0.0\n"
     ]
    },
    {
     "name": "stdout",
     "output_type": "stream",
     "text": [
      "mixing_layer.out1.00348\n"
     ]
    },
    {
     "name": "stderr",
     "output_type": "stream",
     "text": [
      "yt : [WARNING  ] 2020-03-09 02:01:42,695 Assuming 1.0 = 1.0 cm\n",
      "yt : [WARNING  ] 2020-03-09 02:01:42,696 Assuming 1.0 = 1.0 s\n",
      "yt : [WARNING  ] 2020-03-09 02:01:42,696 Assuming 1.0 = 1.0 g\n",
      "yt : [WARNING  ] 2020-03-09 02:01:42,697 Assuming 1.0 = 1.0 K\n",
      "yt : [INFO     ] 2020-03-09 02:01:42,709 Parameters: current_time              = 657516439326698.4\n",
      "yt : [INFO     ] 2020-03-09 02:01:42,710 Parameters: domain_dimensions         = [256 640   1]\n",
      "yt : [INFO     ] 2020-03-09 02:01:42,711 Parameters: domain_left_edge          = [-1.5450e+19 -3.8625e+19 -5.0000e-01]\n",
      "yt : [INFO     ] 2020-03-09 02:01:42,711 Parameters: domain_right_edge         = [1.5450e+19 3.8625e+19 5.0000e-01]\n",
      "yt : [INFO     ] 2020-03-09 02:01:42,712 Parameters: cosmological_simulation   = 0.0\n"
     ]
    },
    {
     "name": "stdout",
     "output_type": "stream",
     "text": [
      "mixing_layer.out1.00349\n"
     ]
    },
    {
     "name": "stderr",
     "output_type": "stream",
     "text": [
      "yt : [WARNING  ] 2020-03-09 02:01:42,739 Assuming 1.0 = 1.0 cm\n",
      "yt : [WARNING  ] 2020-03-09 02:01:42,741 Assuming 1.0 = 1.0 s\n",
      "yt : [WARNING  ] 2020-03-09 02:01:42,742 Assuming 1.0 = 1.0 g\n",
      "yt : [WARNING  ] 2020-03-09 02:01:42,743 Assuming 1.0 = 1.0 K\n",
      "yt : [INFO     ] 2020-03-09 02:01:42,758 Parameters: current_time              = 659400071625840.4\n",
      "yt : [INFO     ] 2020-03-09 02:01:42,759 Parameters: domain_dimensions         = [256 640   1]\n",
      "yt : [INFO     ] 2020-03-09 02:01:42,760 Parameters: domain_left_edge          = [-1.5450e+19 -3.8625e+19 -5.0000e-01]\n",
      "yt : [INFO     ] 2020-03-09 02:01:42,761 Parameters: domain_right_edge         = [1.5450e+19 3.8625e+19 5.0000e-01]\n",
      "yt : [INFO     ] 2020-03-09 02:01:42,762 Parameters: cosmological_simulation   = 0.0\n"
     ]
    },
    {
     "name": "stdout",
     "output_type": "stream",
     "text": [
      "mixing_layer.out1.00350\n"
     ]
    },
    {
     "name": "stderr",
     "output_type": "stream",
     "text": [
      "yt : [WARNING  ] 2020-03-09 02:01:42,794 Assuming 1.0 = 1.0 cm\n",
      "yt : [WARNING  ] 2020-03-09 02:01:42,795 Assuming 1.0 = 1.0 s\n",
      "yt : [WARNING  ] 2020-03-09 02:01:42,796 Assuming 1.0 = 1.0 g\n",
      "yt : [WARNING  ] 2020-03-09 02:01:42,797 Assuming 1.0 = 1.0 K\n",
      "yt : [INFO     ] 2020-03-09 02:01:42,807 Parameters: current_time              = 661284664304671.9\n",
      "yt : [INFO     ] 2020-03-09 02:01:42,808 Parameters: domain_dimensions         = [256 640   1]\n",
      "yt : [INFO     ] 2020-03-09 02:01:42,809 Parameters: domain_left_edge          = [-1.5450e+19 -3.8625e+19 -5.0000e-01]\n",
      "yt : [INFO     ] 2020-03-09 02:01:42,810 Parameters: domain_right_edge         = [1.5450e+19 3.8625e+19 5.0000e-01]\n",
      "yt : [INFO     ] 2020-03-09 02:01:42,811 Parameters: cosmological_simulation   = 0.0\n"
     ]
    },
    {
     "name": "stdout",
     "output_type": "stream",
     "text": [
      "mixing_layer.out1.00351\n"
     ]
    },
    {
     "name": "stderr",
     "output_type": "stream",
     "text": [
      "yt : [WARNING  ] 2020-03-09 02:01:42,840 Assuming 1.0 = 1.0 cm\n",
      "yt : [WARNING  ] 2020-03-09 02:01:42,841 Assuming 1.0 = 1.0 s\n",
      "yt : [WARNING  ] 2020-03-09 02:01:42,842 Assuming 1.0 = 1.0 g\n",
      "yt : [WARNING  ] 2020-03-09 02:01:42,843 Assuming 1.0 = 1.0 K\n",
      "yt : [INFO     ] 2020-03-09 02:01:42,854 Parameters: current_time              = 663168072316081.4\n",
      "yt : [INFO     ] 2020-03-09 02:01:42,855 Parameters: domain_dimensions         = [256 640   1]\n",
      "yt : [INFO     ] 2020-03-09 02:01:42,856 Parameters: domain_left_edge          = [-1.5450e+19 -3.8625e+19 -5.0000e-01]\n",
      "yt : [INFO     ] 2020-03-09 02:01:42,857 Parameters: domain_right_edge         = [1.5450e+19 3.8625e+19 5.0000e-01]\n",
      "yt : [INFO     ] 2020-03-09 02:01:42,858 Parameters: cosmological_simulation   = 0.0\n"
     ]
    },
    {
     "name": "stdout",
     "output_type": "stream",
     "text": [
      "mixing_layer.out1.00352\n"
     ]
    },
    {
     "name": "stderr",
     "output_type": "stream",
     "text": [
      "yt : [WARNING  ] 2020-03-09 02:01:42,884 Assuming 1.0 = 1.0 cm\n",
      "yt : [WARNING  ] 2020-03-09 02:01:42,885 Assuming 1.0 = 1.0 s\n",
      "yt : [WARNING  ] 2020-03-09 02:01:42,887 Assuming 1.0 = 1.0 g\n",
      "yt : [WARNING  ] 2020-03-09 02:01:42,888 Assuming 1.0 = 1.0 K\n",
      "yt : [INFO     ] 2020-03-09 02:01:42,900 Parameters: current_time              = 665053422828174.4\n",
      "yt : [INFO     ] 2020-03-09 02:01:42,901 Parameters: domain_dimensions         = [256 640   1]\n",
      "yt : [INFO     ] 2020-03-09 02:01:42,902 Parameters: domain_left_edge          = [-1.5450e+19 -3.8625e+19 -5.0000e-01]\n",
      "yt : [INFO     ] 2020-03-09 02:01:42,903 Parameters: domain_right_edge         = [1.5450e+19 3.8625e+19 5.0000e-01]\n",
      "yt : [INFO     ] 2020-03-09 02:01:42,903 Parameters: cosmological_simulation   = 0.0\n"
     ]
    },
    {
     "name": "stdout",
     "output_type": "stream",
     "text": [
      "mixing_layer.out1.00353\n"
     ]
    },
    {
     "name": "stderr",
     "output_type": "stream",
     "text": [
      "yt : [WARNING  ] 2020-03-09 02:01:42,929 Assuming 1.0 = 1.0 cm\n",
      "yt : [WARNING  ] 2020-03-09 02:01:42,930 Assuming 1.0 = 1.0 s\n",
      "yt : [WARNING  ] 2020-03-09 02:01:42,931 Assuming 1.0 = 1.0 g\n",
      "yt : [WARNING  ] 2020-03-09 02:01:42,932 Assuming 1.0 = 1.0 K\n",
      "yt : [INFO     ] 2020-03-09 02:01:42,944 Parameters: current_time              = 666937930363962.0\n",
      "yt : [INFO     ] 2020-03-09 02:01:42,945 Parameters: domain_dimensions         = [256 640   1]\n",
      "yt : [INFO     ] 2020-03-09 02:01:42,946 Parameters: domain_left_edge          = [-1.5450e+19 -3.8625e+19 -5.0000e-01]\n",
      "yt : [INFO     ] 2020-03-09 02:01:42,947 Parameters: domain_right_edge         = [1.5450e+19 3.8625e+19 5.0000e-01]\n",
      "yt : [INFO     ] 2020-03-09 02:01:42,948 Parameters: cosmological_simulation   = 0.0\n"
     ]
    },
    {
     "name": "stdout",
     "output_type": "stream",
     "text": [
      "mixing_layer.out1.00354\n"
     ]
    },
    {
     "name": "stderr",
     "output_type": "stream",
     "text": [
      "yt : [WARNING  ] 2020-03-09 02:01:42,979 Assuming 1.0 = 1.0 cm\n",
      "yt : [WARNING  ] 2020-03-09 02:01:42,980 Assuming 1.0 = 1.0 s\n",
      "yt : [WARNING  ] 2020-03-09 02:01:42,981 Assuming 1.0 = 1.0 g\n",
      "yt : [WARNING  ] 2020-03-09 02:01:42,981 Assuming 1.0 = 1.0 K\n",
      "yt : [INFO     ] 2020-03-09 02:01:42,996 Parameters: current_time              = 668820637582663.9\n",
      "yt : [INFO     ] 2020-03-09 02:01:42,997 Parameters: domain_dimensions         = [256 640   1]\n",
      "yt : [INFO     ] 2020-03-09 02:01:42,997 Parameters: domain_left_edge          = [-1.5450e+19 -3.8625e+19 -5.0000e-01]\n",
      "yt : [INFO     ] 2020-03-09 02:01:42,999 Parameters: domain_right_edge         = [1.5450e+19 3.8625e+19 5.0000e-01]\n",
      "yt : [INFO     ] 2020-03-09 02:01:43,000 Parameters: cosmological_simulation   = 0.0\n"
     ]
    },
    {
     "name": "stdout",
     "output_type": "stream",
     "text": [
      "mixing_layer.out1.00355\n"
     ]
    },
    {
     "name": "stderr",
     "output_type": "stream",
     "text": [
      "yt : [WARNING  ] 2020-03-09 02:01:43,033 Assuming 1.0 = 1.0 cm\n",
      "yt : [WARNING  ] 2020-03-09 02:01:43,034 Assuming 1.0 = 1.0 s\n",
      "yt : [WARNING  ] 2020-03-09 02:01:43,035 Assuming 1.0 = 1.0 g\n",
      "yt : [WARNING  ] 2020-03-09 02:01:43,036 Assuming 1.0 = 1.0 K\n",
      "yt : [INFO     ] 2020-03-09 02:01:43,048 Parameters: current_time              = 670704844256604.0\n",
      "yt : [INFO     ] 2020-03-09 02:01:43,049 Parameters: domain_dimensions         = [256 640   1]\n",
      "yt : [INFO     ] 2020-03-09 02:01:43,050 Parameters: domain_left_edge          = [-1.5450e+19 -3.8625e+19 -5.0000e-01]\n",
      "yt : [INFO     ] 2020-03-09 02:01:43,052 Parameters: domain_right_edge         = [1.5450e+19 3.8625e+19 5.0000e-01]\n",
      "yt : [INFO     ] 2020-03-09 02:01:43,053 Parameters: cosmological_simulation   = 0.0\n"
     ]
    },
    {
     "name": "stdout",
     "output_type": "stream",
     "text": [
      "mixing_layer.out1.00356\n"
     ]
    },
    {
     "name": "stderr",
     "output_type": "stream",
     "text": [
      "yt : [WARNING  ] 2020-03-09 02:01:43,080 Assuming 1.0 = 1.0 cm\n",
      "yt : [WARNING  ] 2020-03-09 02:01:43,082 Assuming 1.0 = 1.0 s\n",
      "yt : [WARNING  ] 2020-03-09 02:01:43,083 Assuming 1.0 = 1.0 g\n",
      "yt : [WARNING  ] 2020-03-09 02:01:43,085 Assuming 1.0 = 1.0 K\n",
      "yt : [INFO     ] 2020-03-09 02:01:43,096 Parameters: current_time              = 672588651929349.9\n",
      "yt : [INFO     ] 2020-03-09 02:01:43,097 Parameters: domain_dimensions         = [256 640   1]\n",
      "yt : [INFO     ] 2020-03-09 02:01:43,098 Parameters: domain_left_edge          = [-1.5450e+19 -3.8625e+19 -5.0000e-01]\n",
      "yt : [INFO     ] 2020-03-09 02:01:43,099 Parameters: domain_right_edge         = [1.5450e+19 3.8625e+19 5.0000e-01]\n",
      "yt : [INFO     ] 2020-03-09 02:01:43,100 Parameters: cosmological_simulation   = 0.0\n"
     ]
    },
    {
     "name": "stdout",
     "output_type": "stream",
     "text": [
      "mixing_layer.out1.00357\n"
     ]
    },
    {
     "name": "stderr",
     "output_type": "stream",
     "text": [
      "yt : [WARNING  ] 2020-03-09 02:01:43,127 Assuming 1.0 = 1.0 cm\n",
      "yt : [WARNING  ] 2020-03-09 02:01:43,129 Assuming 1.0 = 1.0 s\n",
      "yt : [WARNING  ] 2020-03-09 02:01:43,130 Assuming 1.0 = 1.0 g\n",
      "yt : [WARNING  ] 2020-03-09 02:01:43,131 Assuming 1.0 = 1.0 K\n",
      "yt : [INFO     ] 2020-03-09 02:01:43,145 Parameters: current_time              = 674474024500124.8\n",
      "yt : [INFO     ] 2020-03-09 02:01:43,147 Parameters: domain_dimensions         = [256 640   1]\n",
      "yt : [INFO     ] 2020-03-09 02:01:43,148 Parameters: domain_left_edge          = [-1.5450e+19 -3.8625e+19 -5.0000e-01]\n",
      "yt : [INFO     ] 2020-03-09 02:01:43,149 Parameters: domain_right_edge         = [1.5450e+19 3.8625e+19 5.0000e-01]\n",
      "yt : [INFO     ] 2020-03-09 02:01:43,150 Parameters: cosmological_simulation   = 0.0\n"
     ]
    },
    {
     "name": "stdout",
     "output_type": "stream",
     "text": [
      "mixing_layer.out1.00358\n"
     ]
    },
    {
     "name": "stderr",
     "output_type": "stream",
     "text": [
      "yt : [WARNING  ] 2020-03-09 02:01:43,181 Assuming 1.0 = 1.0 cm\n",
      "yt : [WARNING  ] 2020-03-09 02:01:43,183 Assuming 1.0 = 1.0 s\n",
      "yt : [WARNING  ] 2020-03-09 02:01:43,184 Assuming 1.0 = 1.0 g\n",
      "yt : [WARNING  ] 2020-03-09 02:01:43,186 Assuming 1.0 = 1.0 K\n",
      "yt : [INFO     ] 2020-03-09 02:01:43,205 Parameters: current_time              = 676357950196331.0\n",
      "yt : [INFO     ] 2020-03-09 02:01:43,206 Parameters: domain_dimensions         = [256 640   1]\n",
      "yt : [INFO     ] 2020-03-09 02:01:43,207 Parameters: domain_left_edge          = [-1.5450e+19 -3.8625e+19 -5.0000e-01]\n",
      "yt : [INFO     ] 2020-03-09 02:01:43,208 Parameters: domain_right_edge         = [1.5450e+19 3.8625e+19 5.0000e-01]\n",
      "yt : [INFO     ] 2020-03-09 02:01:43,209 Parameters: cosmological_simulation   = 0.0\n"
     ]
    },
    {
     "name": "stdout",
     "output_type": "stream",
     "text": [
      "mixing_layer.out1.00359\n"
     ]
    },
    {
     "name": "stderr",
     "output_type": "stream",
     "text": [
      "yt : [WARNING  ] 2020-03-09 02:01:43,239 Assuming 1.0 = 1.0 cm\n",
      "yt : [WARNING  ] 2020-03-09 02:01:43,241 Assuming 1.0 = 1.0 s\n",
      "yt : [WARNING  ] 2020-03-09 02:01:43,242 Assuming 1.0 = 1.0 g\n",
      "yt : [WARNING  ] 2020-03-09 02:01:43,243 Assuming 1.0 = 1.0 K\n",
      "yt : [INFO     ] 2020-03-09 02:01:43,257 Parameters: current_time              = 678240521147886.4\n",
      "yt : [INFO     ] 2020-03-09 02:01:43,258 Parameters: domain_dimensions         = [256 640   1]\n",
      "yt : [INFO     ] 2020-03-09 02:01:43,259 Parameters: domain_left_edge          = [-1.5450e+19 -3.8625e+19 -5.0000e-01]\n",
      "yt : [INFO     ] 2020-03-09 02:01:43,260 Parameters: domain_right_edge         = [1.5450e+19 3.8625e+19 5.0000e-01]\n",
      "yt : [INFO     ] 2020-03-09 02:01:43,261 Parameters: cosmological_simulation   = 0.0\n"
     ]
    },
    {
     "name": "stdout",
     "output_type": "stream",
     "text": [
      "mixing_layer.out1.00360\n"
     ]
    },
    {
     "name": "stderr",
     "output_type": "stream",
     "text": [
      "yt : [WARNING  ] 2020-03-09 02:01:43,290 Assuming 1.0 = 1.0 cm\n",
      "yt : [WARNING  ] 2020-03-09 02:01:43,291 Assuming 1.0 = 1.0 s\n",
      "yt : [WARNING  ] 2020-03-09 02:01:43,292 Assuming 1.0 = 1.0 g\n",
      "yt : [WARNING  ] 2020-03-09 02:01:43,293 Assuming 1.0 = 1.0 K\n",
      "yt : [INFO     ] 2020-03-09 02:01:43,304 Parameters: current_time              = 680124501208154.0\n",
      "yt : [INFO     ] 2020-03-09 02:01:43,305 Parameters: domain_dimensions         = [256 640   1]\n",
      "yt : [INFO     ] 2020-03-09 02:01:43,306 Parameters: domain_left_edge          = [-1.5450e+19 -3.8625e+19 -5.0000e-01]\n",
      "yt : [INFO     ] 2020-03-09 02:01:43,307 Parameters: domain_right_edge         = [1.5450e+19 3.8625e+19 5.0000e-01]\n",
      "yt : [INFO     ] 2020-03-09 02:01:43,309 Parameters: cosmological_simulation   = 0.0\n"
     ]
    },
    {
     "name": "stdout",
     "output_type": "stream",
     "text": [
      "mixing_layer.out1.00361\n"
     ]
    },
    {
     "name": "stderr",
     "output_type": "stream",
     "text": [
      "yt : [WARNING  ] 2020-03-09 02:01:43,339 Assuming 1.0 = 1.0 cm\n",
      "yt : [WARNING  ] 2020-03-09 02:01:43,340 Assuming 1.0 = 1.0 s\n",
      "yt : [WARNING  ] 2020-03-09 02:01:43,341 Assuming 1.0 = 1.0 g\n",
      "yt : [WARNING  ] 2020-03-09 02:01:43,342 Assuming 1.0 = 1.0 K\n",
      "yt : [INFO     ] 2020-03-09 02:01:43,357 Parameters: current_time              = 682009316033811.1\n",
      "yt : [INFO     ] 2020-03-09 02:01:43,357 Parameters: domain_dimensions         = [256 640   1]\n",
      "yt : [INFO     ] 2020-03-09 02:01:43,358 Parameters: domain_left_edge          = [-1.5450e+19 -3.8625e+19 -5.0000e-01]\n",
      "yt : [INFO     ] 2020-03-09 02:01:43,359 Parameters: domain_right_edge         = [1.5450e+19 3.8625e+19 5.0000e-01]\n",
      "yt : [INFO     ] 2020-03-09 02:01:43,360 Parameters: cosmological_simulation   = 0.0\n"
     ]
    },
    {
     "name": "stdout",
     "output_type": "stream",
     "text": [
      "mixing_layer.out1.00362\n"
     ]
    },
    {
     "name": "stderr",
     "output_type": "stream",
     "text": [
      "yt : [WARNING  ] 2020-03-09 02:01:43,390 Assuming 1.0 = 1.0 cm\n",
      "yt : [WARNING  ] 2020-03-09 02:01:43,391 Assuming 1.0 = 1.0 s\n",
      "yt : [WARNING  ] 2020-03-09 02:01:43,392 Assuming 1.0 = 1.0 g\n",
      "yt : [WARNING  ] 2020-03-09 02:01:43,392 Assuming 1.0 = 1.0 K\n",
      "yt : [INFO     ] 2020-03-09 02:01:43,404 Parameters: current_time              = 683893535015179.1\n",
      "yt : [INFO     ] 2020-03-09 02:01:43,405 Parameters: domain_dimensions         = [256 640   1]\n",
      "yt : [INFO     ] 2020-03-09 02:01:43,406 Parameters: domain_left_edge          = [-1.5450e+19 -3.8625e+19 -5.0000e-01]\n",
      "yt : [INFO     ] 2020-03-09 02:01:43,407 Parameters: domain_right_edge         = [1.5450e+19 3.8625e+19 5.0000e-01]\n",
      "yt : [INFO     ] 2020-03-09 02:01:43,408 Parameters: cosmological_simulation   = 0.0\n"
     ]
    },
    {
     "name": "stdout",
     "output_type": "stream",
     "text": [
      "mixing_layer.out1.00363\n"
     ]
    },
    {
     "name": "stderr",
     "output_type": "stream",
     "text": [
      "yt : [WARNING  ] 2020-03-09 02:01:43,434 Assuming 1.0 = 1.0 cm\n",
      "yt : [WARNING  ] 2020-03-09 02:01:43,436 Assuming 1.0 = 1.0 s\n",
      "yt : [WARNING  ] 2020-03-09 02:01:43,437 Assuming 1.0 = 1.0 g\n",
      "yt : [WARNING  ] 2020-03-09 02:01:43,438 Assuming 1.0 = 1.0 K\n",
      "yt : [INFO     ] 2020-03-09 02:01:43,450 Parameters: current_time              = 685778902977073.2\n",
      "yt : [INFO     ] 2020-03-09 02:01:43,451 Parameters: domain_dimensions         = [256 640   1]\n",
      "yt : [INFO     ] 2020-03-09 02:01:43,452 Parameters: domain_left_edge          = [-1.5450e+19 -3.8625e+19 -5.0000e-01]\n",
      "yt : [INFO     ] 2020-03-09 02:01:43,453 Parameters: domain_right_edge         = [1.5450e+19 3.8625e+19 5.0000e-01]\n",
      "yt : [INFO     ] 2020-03-09 02:01:43,453 Parameters: cosmological_simulation   = 0.0\n"
     ]
    },
    {
     "name": "stdout",
     "output_type": "stream",
     "text": [
      "mixing_layer.out1.00364\n"
     ]
    },
    {
     "name": "stderr",
     "output_type": "stream",
     "text": [
      "yt : [WARNING  ] 2020-03-09 02:01:43,480 Assuming 1.0 = 1.0 cm\n",
      "yt : [WARNING  ] 2020-03-09 02:01:43,482 Assuming 1.0 = 1.0 s\n",
      "yt : [WARNING  ] 2020-03-09 02:01:43,483 Assuming 1.0 = 1.0 g\n",
      "yt : [WARNING  ] 2020-03-09 02:01:43,485 Assuming 1.0 = 1.0 K\n",
      "yt : [INFO     ] 2020-03-09 02:01:43,497 Parameters: current_time              = 687660893774381.8\n",
      "yt : [INFO     ] 2020-03-09 02:01:43,498 Parameters: domain_dimensions         = [256 640   1]\n",
      "yt : [INFO     ] 2020-03-09 02:01:43,499 Parameters: domain_left_edge          = [-1.5450e+19 -3.8625e+19 -5.0000e-01]\n",
      "yt : [INFO     ] 2020-03-09 02:01:43,500 Parameters: domain_right_edge         = [1.5450e+19 3.8625e+19 5.0000e-01]\n",
      "yt : [INFO     ] 2020-03-09 02:01:43,501 Parameters: cosmological_simulation   = 0.0\n"
     ]
    },
    {
     "name": "stdout",
     "output_type": "stream",
     "text": [
      "mixing_layer.out1.00365\n"
     ]
    },
    {
     "name": "stderr",
     "output_type": "stream",
     "text": [
      "yt : [WARNING  ] 2020-03-09 02:01:43,527 Assuming 1.0 = 1.0 cm\n",
      "yt : [WARNING  ] 2020-03-09 02:01:43,529 Assuming 1.0 = 1.0 s\n",
      "yt : [WARNING  ] 2020-03-09 02:01:43,530 Assuming 1.0 = 1.0 g\n",
      "yt : [WARNING  ] 2020-03-09 02:01:43,532 Assuming 1.0 = 1.0 K\n",
      "yt : [INFO     ] 2020-03-09 02:01:43,542 Parameters: current_time              = 689544618921213.5\n",
      "yt : [INFO     ] 2020-03-09 02:01:43,543 Parameters: domain_dimensions         = [256 640   1]\n",
      "yt : [INFO     ] 2020-03-09 02:01:43,544 Parameters: domain_left_edge          = [-1.5450e+19 -3.8625e+19 -5.0000e-01]\n",
      "yt : [INFO     ] 2020-03-09 02:01:43,545 Parameters: domain_right_edge         = [1.5450e+19 3.8625e+19 5.0000e-01]\n",
      "yt : [INFO     ] 2020-03-09 02:01:43,546 Parameters: cosmological_simulation   = 0.0\n"
     ]
    },
    {
     "name": "stdout",
     "output_type": "stream",
     "text": [
      "mixing_layer.out1.00366\n"
     ]
    },
    {
     "name": "stderr",
     "output_type": "stream",
     "text": [
      "yt : [WARNING  ] 2020-03-09 02:01:43,574 Assuming 1.0 = 1.0 cm\n",
      "yt : [WARNING  ] 2020-03-09 02:01:43,576 Assuming 1.0 = 1.0 s\n",
      "yt : [WARNING  ] 2020-03-09 02:01:43,576 Assuming 1.0 = 1.0 g\n",
      "yt : [WARNING  ] 2020-03-09 02:01:43,577 Assuming 1.0 = 1.0 K\n",
      "yt : [INFO     ] 2020-03-09 02:01:43,589 Parameters: current_time              = 691428431824434.5\n",
      "yt : [INFO     ] 2020-03-09 02:01:43,590 Parameters: domain_dimensions         = [256 640   1]\n",
      "yt : [INFO     ] 2020-03-09 02:01:43,590 Parameters: domain_left_edge          = [-1.5450e+19 -3.8625e+19 -5.0000e-01]\n",
      "yt : [INFO     ] 2020-03-09 02:01:43,591 Parameters: domain_right_edge         = [1.5450e+19 3.8625e+19 5.0000e-01]\n",
      "yt : [INFO     ] 2020-03-09 02:01:43,592 Parameters: cosmological_simulation   = 0.0\n"
     ]
    },
    {
     "name": "stdout",
     "output_type": "stream",
     "text": [
      "mixing_layer.out1.00367\n"
     ]
    },
    {
     "name": "stderr",
     "output_type": "stream",
     "text": [
      "yt : [WARNING  ] 2020-03-09 02:01:43,619 Assuming 1.0 = 1.0 cm\n",
      "yt : [WARNING  ] 2020-03-09 02:01:43,620 Assuming 1.0 = 1.0 s\n",
      "yt : [WARNING  ] 2020-03-09 02:01:43,620 Assuming 1.0 = 1.0 g\n",
      "yt : [WARNING  ] 2020-03-09 02:01:43,621 Assuming 1.0 = 1.0 K\n",
      "yt : [INFO     ] 2020-03-09 02:01:43,633 Parameters: current_time              = 693312408374292.1\n",
      "yt : [INFO     ] 2020-03-09 02:01:43,634 Parameters: domain_dimensions         = [256 640   1]\n",
      "yt : [INFO     ] 2020-03-09 02:01:43,635 Parameters: domain_left_edge          = [-1.5450e+19 -3.8625e+19 -5.0000e-01]\n",
      "yt : [INFO     ] 2020-03-09 02:01:43,636 Parameters: domain_right_edge         = [1.5450e+19 3.8625e+19 5.0000e-01]\n",
      "yt : [INFO     ] 2020-03-09 02:01:43,637 Parameters: cosmological_simulation   = 0.0\n"
     ]
    },
    {
     "name": "stdout",
     "output_type": "stream",
     "text": [
      "mixing_layer.out1.00368\n"
     ]
    },
    {
     "name": "stderr",
     "output_type": "stream",
     "text": [
      "yt : [WARNING  ] 2020-03-09 02:01:43,663 Assuming 1.0 = 1.0 cm\n",
      "yt : [WARNING  ] 2020-03-09 02:01:43,664 Assuming 1.0 = 1.0 s\n",
      "yt : [WARNING  ] 2020-03-09 02:01:43,665 Assuming 1.0 = 1.0 g\n",
      "yt : [WARNING  ] 2020-03-09 02:01:43,665 Assuming 1.0 = 1.0 K\n",
      "yt : [INFO     ] 2020-03-09 02:01:43,677 Parameters: current_time              = 695198709018395.1\n",
      "yt : [INFO     ] 2020-03-09 02:01:43,678 Parameters: domain_dimensions         = [256 640   1]\n",
      "yt : [INFO     ] 2020-03-09 02:01:43,679 Parameters: domain_left_edge          = [-1.5450e+19 -3.8625e+19 -5.0000e-01]\n",
      "yt : [INFO     ] 2020-03-09 02:01:43,680 Parameters: domain_right_edge         = [1.5450e+19 3.8625e+19 5.0000e-01]\n",
      "yt : [INFO     ] 2020-03-09 02:01:43,681 Parameters: cosmological_simulation   = 0.0\n"
     ]
    },
    {
     "name": "stdout",
     "output_type": "stream",
     "text": [
      "mixing_layer.out1.00369\n"
     ]
    },
    {
     "name": "stderr",
     "output_type": "stream",
     "text": [
      "yt : [WARNING  ] 2020-03-09 02:01:43,708 Assuming 1.0 = 1.0 cm\n",
      "yt : [WARNING  ] 2020-03-09 02:01:43,709 Assuming 1.0 = 1.0 s\n",
      "yt : [WARNING  ] 2020-03-09 02:01:43,710 Assuming 1.0 = 1.0 g\n",
      "yt : [WARNING  ] 2020-03-09 02:01:43,711 Assuming 1.0 = 1.0 K\n",
      "yt : [INFO     ] 2020-03-09 02:01:43,724 Parameters: current_time              = 697080817419682.2\n",
      "yt : [INFO     ] 2020-03-09 02:01:43,725 Parameters: domain_dimensions         = [256 640   1]\n",
      "yt : [INFO     ] 2020-03-09 02:01:43,726 Parameters: domain_left_edge          = [-1.5450e+19 -3.8625e+19 -5.0000e-01]\n",
      "yt : [INFO     ] 2020-03-09 02:01:43,727 Parameters: domain_right_edge         = [1.5450e+19 3.8625e+19 5.0000e-01]\n",
      "yt : [INFO     ] 2020-03-09 02:01:43,729 Parameters: cosmological_simulation   = 0.0\n"
     ]
    },
    {
     "name": "stdout",
     "output_type": "stream",
     "text": [
      "mixing_layer.out1.00370\n"
     ]
    },
    {
     "name": "stderr",
     "output_type": "stream",
     "text": [
      "yt : [WARNING  ] 2020-03-09 02:01:43,756 Assuming 1.0 = 1.0 cm\n",
      "yt : [WARNING  ] 2020-03-09 02:01:43,757 Assuming 1.0 = 1.0 s\n",
      "yt : [WARNING  ] 2020-03-09 02:01:43,758 Assuming 1.0 = 1.0 g\n",
      "yt : [WARNING  ] 2020-03-09 02:01:43,759 Assuming 1.0 = 1.0 K\n",
      "yt : [INFO     ] 2020-03-09 02:01:43,771 Parameters: current_time              = 698964156725393.2\n",
      "yt : [INFO     ] 2020-03-09 02:01:43,772 Parameters: domain_dimensions         = [256 640   1]\n",
      "yt : [INFO     ] 2020-03-09 02:01:43,773 Parameters: domain_left_edge          = [-1.5450e+19 -3.8625e+19 -5.0000e-01]\n",
      "yt : [INFO     ] 2020-03-09 02:01:43,775 Parameters: domain_right_edge         = [1.5450e+19 3.8625e+19 5.0000e-01]\n",
      "yt : [INFO     ] 2020-03-09 02:01:43,776 Parameters: cosmological_simulation   = 0.0\n"
     ]
    },
    {
     "name": "stdout",
     "output_type": "stream",
     "text": [
      "mixing_layer.out1.00371\n"
     ]
    },
    {
     "name": "stderr",
     "output_type": "stream",
     "text": [
      "yt : [WARNING  ] 2020-03-09 02:01:43,807 Assuming 1.0 = 1.0 cm\n",
      "yt : [WARNING  ] 2020-03-09 02:01:43,808 Assuming 1.0 = 1.0 s\n",
      "yt : [WARNING  ] 2020-03-09 02:01:43,809 Assuming 1.0 = 1.0 g\n",
      "yt : [WARNING  ] 2020-03-09 02:01:43,811 Assuming 1.0 = 1.0 K\n",
      "yt : [INFO     ] 2020-03-09 02:01:43,825 Parameters: current_time              = 700850564127872.5\n",
      "yt : [INFO     ] 2020-03-09 02:01:43,825 Parameters: domain_dimensions         = [256 640   1]\n",
      "yt : [INFO     ] 2020-03-09 02:01:43,826 Parameters: domain_left_edge          = [-1.5450e+19 -3.8625e+19 -5.0000e-01]\n",
      "yt : [INFO     ] 2020-03-09 02:01:43,827 Parameters: domain_right_edge         = [1.5450e+19 3.8625e+19 5.0000e-01]\n",
      "yt : [INFO     ] 2020-03-09 02:01:43,828 Parameters: cosmological_simulation   = 0.0\n"
     ]
    },
    {
     "name": "stdout",
     "output_type": "stream",
     "text": [
      "mixing_layer.out1.00372\n"
     ]
    },
    {
     "name": "stderr",
     "output_type": "stream",
     "text": [
      "yt : [WARNING  ] 2020-03-09 02:01:43,855 Assuming 1.0 = 1.0 cm\n",
      "yt : [WARNING  ] 2020-03-09 02:01:43,856 Assuming 1.0 = 1.0 s\n",
      "yt : [WARNING  ] 2020-03-09 02:01:43,857 Assuming 1.0 = 1.0 g\n",
      "yt : [WARNING  ] 2020-03-09 02:01:43,858 Assuming 1.0 = 1.0 K\n",
      "yt : [INFO     ] 2020-03-09 02:01:43,871 Parameters: current_time              = 702733281678889.6\n",
      "yt : [INFO     ] 2020-03-09 02:01:43,872 Parameters: domain_dimensions         = [256 640   1]\n",
      "yt : [INFO     ] 2020-03-09 02:01:43,873 Parameters: domain_left_edge          = [-1.5450e+19 -3.8625e+19 -5.0000e-01]\n",
      "yt : [INFO     ] 2020-03-09 02:01:43,874 Parameters: domain_right_edge         = [1.5450e+19 3.8625e+19 5.0000e-01]\n",
      "yt : [INFO     ] 2020-03-09 02:01:43,875 Parameters: cosmological_simulation   = 0.0\n"
     ]
    },
    {
     "name": "stdout",
     "output_type": "stream",
     "text": [
      "mixing_layer.out1.00373\n"
     ]
    },
    {
     "name": "stderr",
     "output_type": "stream",
     "text": [
      "yt : [WARNING  ] 2020-03-09 02:01:43,902 Assuming 1.0 = 1.0 cm\n",
      "yt : [WARNING  ] 2020-03-09 02:01:43,903 Assuming 1.0 = 1.0 s\n",
      "yt : [WARNING  ] 2020-03-09 02:01:43,904 Assuming 1.0 = 1.0 g\n",
      "yt : [WARNING  ] 2020-03-09 02:01:43,905 Assuming 1.0 = 1.0 K\n",
      "yt : [INFO     ] 2020-03-09 02:01:43,917 Parameters: current_time              = 704618426269629.5\n",
      "yt : [INFO     ] 2020-03-09 02:01:43,918 Parameters: domain_dimensions         = [256 640   1]\n",
      "yt : [INFO     ] 2020-03-09 02:01:43,919 Parameters: domain_left_edge          = [-1.5450e+19 -3.8625e+19 -5.0000e-01]\n",
      "yt : [INFO     ] 2020-03-09 02:01:43,920 Parameters: domain_right_edge         = [1.5450e+19 3.8625e+19 5.0000e-01]\n",
      "yt : [INFO     ] 2020-03-09 02:01:43,922 Parameters: cosmological_simulation   = 0.0\n"
     ]
    },
    {
     "name": "stdout",
     "output_type": "stream",
     "text": [
      "mixing_layer.out1.00374\n"
     ]
    },
    {
     "name": "stderr",
     "output_type": "stream",
     "text": [
      "yt : [WARNING  ] 2020-03-09 02:01:43,949 Assuming 1.0 = 1.0 cm\n",
      "yt : [WARNING  ] 2020-03-09 02:01:43,950 Assuming 1.0 = 1.0 s\n",
      "yt : [WARNING  ] 2020-03-09 02:01:43,951 Assuming 1.0 = 1.0 g\n",
      "yt : [WARNING  ] 2020-03-09 02:01:43,952 Assuming 1.0 = 1.0 K\n",
      "yt : [INFO     ] 2020-03-09 02:01:43,963 Parameters: current_time              = 706501125896819.6\n",
      "yt : [INFO     ] 2020-03-09 02:01:43,964 Parameters: domain_dimensions         = [256 640   1]\n",
      "yt : [INFO     ] 2020-03-09 02:01:43,965 Parameters: domain_left_edge          = [-1.5450e+19 -3.8625e+19 -5.0000e-01]\n",
      "yt : [INFO     ] 2020-03-09 02:01:43,966 Parameters: domain_right_edge         = [1.5450e+19 3.8625e+19 5.0000e-01]\n",
      "yt : [INFO     ] 2020-03-09 02:01:43,967 Parameters: cosmological_simulation   = 0.0\n"
     ]
    },
    {
     "name": "stdout",
     "output_type": "stream",
     "text": [
      "mixing_layer.out1.00375\n"
     ]
    },
    {
     "name": "stderr",
     "output_type": "stream",
     "text": [
      "yt : [WARNING  ] 2020-03-09 02:01:43,994 Assuming 1.0 = 1.0 cm\n",
      "yt : [WARNING  ] 2020-03-09 02:01:43,995 Assuming 1.0 = 1.0 s\n",
      "yt : [WARNING  ] 2020-03-09 02:01:43,996 Assuming 1.0 = 1.0 g\n",
      "yt : [WARNING  ] 2020-03-09 02:01:43,997 Assuming 1.0 = 1.0 K\n",
      "yt : [INFO     ] 2020-03-09 02:01:44,009 Parameters: current_time              = 708386170840999.2\n",
      "yt : [INFO     ] 2020-03-09 02:01:44,010 Parameters: domain_dimensions         = [256 640   1]\n",
      "yt : [INFO     ] 2020-03-09 02:01:44,011 Parameters: domain_left_edge          = [-1.5450e+19 -3.8625e+19 -5.0000e-01]\n",
      "yt : [INFO     ] 2020-03-09 02:01:44,011 Parameters: domain_right_edge         = [1.5450e+19 3.8625e+19 5.0000e-01]\n",
      "yt : [INFO     ] 2020-03-09 02:01:44,012 Parameters: cosmological_simulation   = 0.0\n"
     ]
    },
    {
     "name": "stdout",
     "output_type": "stream",
     "text": [
      "mixing_layer.out1.00376\n"
     ]
    },
    {
     "name": "stderr",
     "output_type": "stream",
     "text": [
      "yt : [WARNING  ] 2020-03-09 02:01:44,039 Assuming 1.0 = 1.0 cm\n",
      "yt : [WARNING  ] 2020-03-09 02:01:44,040 Assuming 1.0 = 1.0 s\n",
      "yt : [WARNING  ] 2020-03-09 02:01:44,041 Assuming 1.0 = 1.0 g\n",
      "yt : [WARNING  ] 2020-03-09 02:01:44,042 Assuming 1.0 = 1.0 K\n",
      "yt : [INFO     ] 2020-03-09 02:01:44,055 Parameters: current_time              = 710268788578739.5\n",
      "yt : [INFO     ] 2020-03-09 02:01:44,056 Parameters: domain_dimensions         = [256 640   1]\n",
      "yt : [INFO     ] 2020-03-09 02:01:44,057 Parameters: domain_left_edge          = [-1.5450e+19 -3.8625e+19 -5.0000e-01]\n",
      "yt : [INFO     ] 2020-03-09 02:01:44,058 Parameters: domain_right_edge         = [1.5450e+19 3.8625e+19 5.0000e-01]\n",
      "yt : [INFO     ] 2020-03-09 02:01:44,059 Parameters: cosmological_simulation   = 0.0\n"
     ]
    },
    {
     "name": "stdout",
     "output_type": "stream",
     "text": [
      "mixing_layer.out1.00377\n"
     ]
    },
    {
     "name": "stderr",
     "output_type": "stream",
     "text": [
      "yt : [WARNING  ] 2020-03-09 02:01:44,086 Assuming 1.0 = 1.0 cm\n",
      "yt : [WARNING  ] 2020-03-09 02:01:44,088 Assuming 1.0 = 1.0 s\n",
      "yt : [WARNING  ] 2020-03-09 02:01:44,089 Assuming 1.0 = 1.0 g\n",
      "yt : [WARNING  ] 2020-03-09 02:01:44,090 Assuming 1.0 = 1.0 K\n",
      "yt : [INFO     ] 2020-03-09 02:01:44,102 Parameters: current_time              = 712153720036962.9\n",
      "yt : [INFO     ] 2020-03-09 02:01:44,103 Parameters: domain_dimensions         = [256 640   1]\n",
      "yt : [INFO     ] 2020-03-09 02:01:44,104 Parameters: domain_left_edge          = [-1.5450e+19 -3.8625e+19 -5.0000e-01]\n",
      "yt : [INFO     ] 2020-03-09 02:01:44,106 Parameters: domain_right_edge         = [1.5450e+19 3.8625e+19 5.0000e-01]\n",
      "yt : [INFO     ] 2020-03-09 02:01:44,107 Parameters: cosmological_simulation   = 0.0\n"
     ]
    },
    {
     "name": "stdout",
     "output_type": "stream",
     "text": [
      "mixing_layer.out1.00378\n"
     ]
    },
    {
     "name": "stderr",
     "output_type": "stream",
     "text": [
      "yt : [WARNING  ] 2020-03-09 02:01:44,135 Assuming 1.0 = 1.0 cm\n",
      "yt : [WARNING  ] 2020-03-09 02:01:44,136 Assuming 1.0 = 1.0 s\n",
      "yt : [WARNING  ] 2020-03-09 02:01:44,136 Assuming 1.0 = 1.0 g\n",
      "yt : [WARNING  ] 2020-03-09 02:01:44,137 Assuming 1.0 = 1.0 K\n",
      "yt : [INFO     ] 2020-03-09 02:01:44,149 Parameters: current_time              = 714038116313221.1\n",
      "yt : [INFO     ] 2020-03-09 02:01:44,150 Parameters: domain_dimensions         = [256 640   1]\n",
      "yt : [INFO     ] 2020-03-09 02:01:44,151 Parameters: domain_left_edge          = [-1.5450e+19 -3.8625e+19 -5.0000e-01]\n",
      "yt : [INFO     ] 2020-03-09 02:01:44,152 Parameters: domain_right_edge         = [1.5450e+19 3.8625e+19 5.0000e-01]\n",
      "yt : [INFO     ] 2020-03-09 02:01:44,153 Parameters: cosmological_simulation   = 0.0\n"
     ]
    },
    {
     "name": "stdout",
     "output_type": "stream",
     "text": [
      "mixing_layer.out1.00379\n"
     ]
    },
    {
     "name": "stderr",
     "output_type": "stream",
     "text": [
      "yt : [WARNING  ] 2020-03-09 02:01:44,179 Assuming 1.0 = 1.0 cm\n",
      "yt : [WARNING  ] 2020-03-09 02:01:44,180 Assuming 1.0 = 1.0 s\n",
      "yt : [WARNING  ] 2020-03-09 02:01:44,181 Assuming 1.0 = 1.0 g\n",
      "yt : [WARNING  ] 2020-03-09 02:01:44,182 Assuming 1.0 = 1.0 K\n",
      "yt : [INFO     ] 2020-03-09 02:01:44,195 Parameters: current_time              = 715922074842740.2\n",
      "yt : [INFO     ] 2020-03-09 02:01:44,196 Parameters: domain_dimensions         = [256 640   1]\n",
      "yt : [INFO     ] 2020-03-09 02:01:44,197 Parameters: domain_left_edge          = [-1.5450e+19 -3.8625e+19 -5.0000e-01]\n",
      "yt : [INFO     ] 2020-03-09 02:01:44,199 Parameters: domain_right_edge         = [1.5450e+19 3.8625e+19 5.0000e-01]\n",
      "yt : [INFO     ] 2020-03-09 02:01:44,200 Parameters: cosmological_simulation   = 0.0\n"
     ]
    },
    {
     "name": "stdout",
     "output_type": "stream",
     "text": [
      "mixing_layer.out1.00380\n"
     ]
    },
    {
     "name": "stderr",
     "output_type": "stream",
     "text": [
      "yt : [WARNING  ] 2020-03-09 02:01:44,226 Assuming 1.0 = 1.0 cm\n",
      "yt : [WARNING  ] 2020-03-09 02:01:44,227 Assuming 1.0 = 1.0 s\n",
      "yt : [WARNING  ] 2020-03-09 02:01:44,228 Assuming 1.0 = 1.0 g\n",
      "yt : [WARNING  ] 2020-03-09 02:01:44,229 Assuming 1.0 = 1.0 K\n",
      "yt : [INFO     ] 2020-03-09 02:01:44,243 Parameters: current_time              = 717804402838921.8\n",
      "yt : [INFO     ] 2020-03-09 02:01:44,244 Parameters: domain_dimensions         = [256 640   1]\n",
      "yt : [INFO     ] 2020-03-09 02:01:44,245 Parameters: domain_left_edge          = [-1.5450e+19 -3.8625e+19 -5.0000e-01]\n",
      "yt : [INFO     ] 2020-03-09 02:01:44,246 Parameters: domain_right_edge         = [1.5450e+19 3.8625e+19 5.0000e-01]\n",
      "yt : [INFO     ] 2020-03-09 02:01:44,247 Parameters: cosmological_simulation   = 0.0\n"
     ]
    },
    {
     "name": "stdout",
     "output_type": "stream",
     "text": [
      "mixing_layer.out1.00381\n"
     ]
    },
    {
     "name": "stderr",
     "output_type": "stream",
     "text": [
      "yt : [WARNING  ] 2020-03-09 02:01:44,272 Assuming 1.0 = 1.0 cm\n",
      "yt : [WARNING  ] 2020-03-09 02:01:44,274 Assuming 1.0 = 1.0 s\n",
      "yt : [WARNING  ] 2020-03-09 02:01:44,275 Assuming 1.0 = 1.0 g\n",
      "yt : [WARNING  ] 2020-03-09 02:01:44,276 Assuming 1.0 = 1.0 K\n",
      "yt : [INFO     ] 2020-03-09 02:01:44,291 Parameters: current_time              = 719688845999186.1\n",
      "yt : [INFO     ] 2020-03-09 02:01:44,292 Parameters: domain_dimensions         = [256 640   1]\n",
      "yt : [INFO     ] 2020-03-09 02:01:44,293 Parameters: domain_left_edge          = [-1.5450e+19 -3.8625e+19 -5.0000e-01]\n",
      "yt : [INFO     ] 2020-03-09 02:01:44,295 Parameters: domain_right_edge         = [1.5450e+19 3.8625e+19 5.0000e-01]\n",
      "yt : [INFO     ] 2020-03-09 02:01:44,296 Parameters: cosmological_simulation   = 0.0\n"
     ]
    },
    {
     "name": "stdout",
     "output_type": "stream",
     "text": [
      "mixing_layer.out1.00382\n"
     ]
    },
    {
     "name": "stderr",
     "output_type": "stream",
     "text": [
      "yt : [WARNING  ] 2020-03-09 02:01:44,327 Assuming 1.0 = 1.0 cm\n",
      "yt : [WARNING  ] 2020-03-09 02:01:44,328 Assuming 1.0 = 1.0 s\n",
      "yt : [WARNING  ] 2020-03-09 02:01:44,329 Assuming 1.0 = 1.0 g\n",
      "yt : [WARNING  ] 2020-03-09 02:01:44,330 Assuming 1.0 = 1.0 K\n",
      "yt : [INFO     ] 2020-03-09 02:01:44,342 Parameters: current_time              = 721574444866445.6\n",
      "yt : [INFO     ] 2020-03-09 02:01:44,343 Parameters: domain_dimensions         = [256 640   1]\n",
      "yt : [INFO     ] 2020-03-09 02:01:44,344 Parameters: domain_left_edge          = [-1.5450e+19 -3.8625e+19 -5.0000e-01]\n",
      "yt : [INFO     ] 2020-03-09 02:01:44,345 Parameters: domain_right_edge         = [1.5450e+19 3.8625e+19 5.0000e-01]\n",
      "yt : [INFO     ] 2020-03-09 02:01:44,346 Parameters: cosmological_simulation   = 0.0\n"
     ]
    },
    {
     "name": "stdout",
     "output_type": "stream",
     "text": [
      "mixing_layer.out1.00383\n"
     ]
    },
    {
     "name": "stderr",
     "output_type": "stream",
     "text": [
      "yt : [WARNING  ] 2020-03-09 02:01:44,372 Assuming 1.0 = 1.0 cm\n",
      "yt : [WARNING  ] 2020-03-09 02:01:44,374 Assuming 1.0 = 1.0 s\n",
      "yt : [WARNING  ] 2020-03-09 02:01:44,375 Assuming 1.0 = 1.0 g\n",
      "yt : [WARNING  ] 2020-03-09 02:01:44,376 Assuming 1.0 = 1.0 K\n",
      "yt : [INFO     ] 2020-03-09 02:01:44,387 Parameters: current_time              = 723457059988435.0\n",
      "yt : [INFO     ] 2020-03-09 02:01:44,388 Parameters: domain_dimensions         = [256 640   1]\n",
      "yt : [INFO     ] 2020-03-09 02:01:44,389 Parameters: domain_left_edge          = [-1.5450e+19 -3.8625e+19 -5.0000e-01]\n",
      "yt : [INFO     ] 2020-03-09 02:01:44,390 Parameters: domain_right_edge         = [1.5450e+19 3.8625e+19 5.0000e-01]\n",
      "yt : [INFO     ] 2020-03-09 02:01:44,391 Parameters: cosmological_simulation   = 0.0\n"
     ]
    },
    {
     "name": "stdout",
     "output_type": "stream",
     "text": [
      "mixing_layer.out1.00384\n"
     ]
    },
    {
     "name": "stderr",
     "output_type": "stream",
     "text": [
      "yt : [WARNING  ] 2020-03-09 02:01:44,417 Assuming 1.0 = 1.0 cm\n",
      "yt : [WARNING  ] 2020-03-09 02:01:44,418 Assuming 1.0 = 1.0 s\n",
      "yt : [WARNING  ] 2020-03-09 02:01:44,419 Assuming 1.0 = 1.0 g\n",
      "yt : [WARNING  ] 2020-03-09 02:01:44,420 Assuming 1.0 = 1.0 K\n",
      "yt : [INFO     ] 2020-03-09 02:01:44,432 Parameters: current_time              = 725341282765751.4\n",
      "yt : [INFO     ] 2020-03-09 02:01:44,433 Parameters: domain_dimensions         = [256 640   1]\n",
      "yt : [INFO     ] 2020-03-09 02:01:44,434 Parameters: domain_left_edge          = [-1.5450e+19 -3.8625e+19 -5.0000e-01]\n",
      "yt : [INFO     ] 2020-03-09 02:01:44,435 Parameters: domain_right_edge         = [1.5450e+19 3.8625e+19 5.0000e-01]\n",
      "yt : [INFO     ] 2020-03-09 02:01:44,436 Parameters: cosmological_simulation   = 0.0\n"
     ]
    },
    {
     "name": "stdout",
     "output_type": "stream",
     "text": [
      "mixing_layer.out1.00385\n"
     ]
    },
    {
     "name": "stderr",
     "output_type": "stream",
     "text": [
      "yt : [WARNING  ] 2020-03-09 02:01:44,464 Assuming 1.0 = 1.0 cm\n",
      "yt : [WARNING  ] 2020-03-09 02:01:44,465 Assuming 1.0 = 1.0 s\n",
      "yt : [WARNING  ] 2020-03-09 02:01:44,466 Assuming 1.0 = 1.0 g\n",
      "yt : [WARNING  ] 2020-03-09 02:01:44,467 Assuming 1.0 = 1.0 K\n",
      "yt : [INFO     ] 2020-03-09 02:01:44,478 Parameters: current_time              = 727225969870479.1\n",
      "yt : [INFO     ] 2020-03-09 02:01:44,479 Parameters: domain_dimensions         = [256 640   1]\n",
      "yt : [INFO     ] 2020-03-09 02:01:44,480 Parameters: domain_left_edge          = [-1.5450e+19 -3.8625e+19 -5.0000e-01]\n",
      "yt : [INFO     ] 2020-03-09 02:01:44,481 Parameters: domain_right_edge         = [1.5450e+19 3.8625e+19 5.0000e-01]\n",
      "yt : [INFO     ] 2020-03-09 02:01:44,482 Parameters: cosmological_simulation   = 0.0\n"
     ]
    },
    {
     "name": "stdout",
     "output_type": "stream",
     "text": [
      "mixing_layer.out1.00386\n"
     ]
    },
    {
     "name": "stderr",
     "output_type": "stream",
     "text": [
      "yt : [WARNING  ] 2020-03-09 02:01:44,508 Assuming 1.0 = 1.0 cm\n",
      "yt : [WARNING  ] 2020-03-09 02:01:44,509 Assuming 1.0 = 1.0 s\n",
      "yt : [WARNING  ] 2020-03-09 02:01:44,510 Assuming 1.0 = 1.0 g\n",
      "yt : [WARNING  ] 2020-03-09 02:01:44,511 Assuming 1.0 = 1.0 K\n",
      "yt : [INFO     ] 2020-03-09 02:01:44,525 Parameters: current_time              = 729108637197802.2\n",
      "yt : [INFO     ] 2020-03-09 02:01:44,526 Parameters: domain_dimensions         = [256 640   1]\n",
      "yt : [INFO     ] 2020-03-09 02:01:44,527 Parameters: domain_left_edge          = [-1.5450e+19 -3.8625e+19 -5.0000e-01]\n",
      "yt : [INFO     ] 2020-03-09 02:01:44,528 Parameters: domain_right_edge         = [1.5450e+19 3.8625e+19 5.0000e-01]\n",
      "yt : [INFO     ] 2020-03-09 02:01:44,529 Parameters: cosmological_simulation   = 0.0\n"
     ]
    },
    {
     "name": "stdout",
     "output_type": "stream",
     "text": [
      "mixing_layer.out1.00387\n"
     ]
    },
    {
     "name": "stderr",
     "output_type": "stream",
     "text": [
      "yt : [WARNING  ] 2020-03-09 02:01:44,555 Assuming 1.0 = 1.0 cm\n",
      "yt : [WARNING  ] 2020-03-09 02:01:44,557 Assuming 1.0 = 1.0 s\n",
      "yt : [WARNING  ] 2020-03-09 02:01:44,558 Assuming 1.0 = 1.0 g\n",
      "yt : [WARNING  ] 2020-03-09 02:01:44,559 Assuming 1.0 = 1.0 K\n",
      "yt : [INFO     ] 2020-03-09 02:01:44,572 Parameters: current_time              = 730994670650747.0\n",
      "yt : [INFO     ] 2020-03-09 02:01:44,573 Parameters: domain_dimensions         = [256 640   1]\n",
      "yt : [INFO     ] 2020-03-09 02:01:44,574 Parameters: domain_left_edge          = [-1.5450e+19 -3.8625e+19 -5.0000e-01]\n",
      "yt : [INFO     ] 2020-03-09 02:01:44,574 Parameters: domain_right_edge         = [1.5450e+19 3.8625e+19 5.0000e-01]\n",
      "yt : [INFO     ] 2020-03-09 02:01:44,575 Parameters: cosmological_simulation   = 0.0\n"
     ]
    },
    {
     "name": "stdout",
     "output_type": "stream",
     "text": [
      "mixing_layer.out1.00388\n"
     ]
    },
    {
     "name": "stderr",
     "output_type": "stream",
     "text": [
      "yt : [WARNING  ] 2020-03-09 02:01:44,601 Assuming 1.0 = 1.0 cm\n",
      "yt : [WARNING  ] 2020-03-09 02:01:44,602 Assuming 1.0 = 1.0 s\n",
      "yt : [WARNING  ] 2020-03-09 02:01:44,603 Assuming 1.0 = 1.0 g\n",
      "yt : [WARNING  ] 2020-03-09 02:01:44,604 Assuming 1.0 = 1.0 K\n",
      "yt : [INFO     ] 2020-03-09 02:01:44,618 Parameters: current_time              = 732877197077485.5\n",
      "yt : [INFO     ] 2020-03-09 02:01:44,619 Parameters: domain_dimensions         = [256 640   1]\n",
      "yt : [INFO     ] 2020-03-09 02:01:44,619 Parameters: domain_left_edge          = [-1.5450e+19 -3.8625e+19 -5.0000e-01]\n",
      "yt : [INFO     ] 2020-03-09 02:01:44,621 Parameters: domain_right_edge         = [1.5450e+19 3.8625e+19 5.0000e-01]\n",
      "yt : [INFO     ] 2020-03-09 02:01:44,621 Parameters: cosmological_simulation   = 0.0\n"
     ]
    },
    {
     "name": "stdout",
     "output_type": "stream",
     "text": [
      "mixing_layer.out1.00389\n"
     ]
    },
    {
     "name": "stderr",
     "output_type": "stream",
     "text": [
      "yt : [WARNING  ] 2020-03-09 02:01:44,647 Assuming 1.0 = 1.0 cm\n",
      "yt : [WARNING  ] 2020-03-09 02:01:44,648 Assuming 1.0 = 1.0 s\n",
      "yt : [WARNING  ] 2020-03-09 02:01:44,650 Assuming 1.0 = 1.0 g\n",
      "yt : [WARNING  ] 2020-03-09 02:01:44,650 Assuming 1.0 = 1.0 K\n",
      "yt : [INFO     ] 2020-03-09 02:01:44,662 Parameters: current_time              = 734761167558011.1\n",
      "yt : [INFO     ] 2020-03-09 02:01:44,663 Parameters: domain_dimensions         = [256 640   1]\n",
      "yt : [INFO     ] 2020-03-09 02:01:44,663 Parameters: domain_left_edge          = [-1.5450e+19 -3.8625e+19 -5.0000e-01]\n",
      "yt : [INFO     ] 2020-03-09 02:01:44,664 Parameters: domain_right_edge         = [1.5450e+19 3.8625e+19 5.0000e-01]\n",
      "yt : [INFO     ] 2020-03-09 02:01:44,665 Parameters: cosmological_simulation   = 0.0\n"
     ]
    },
    {
     "name": "stdout",
     "output_type": "stream",
     "text": [
      "mixing_layer.out1.00390\n"
     ]
    },
    {
     "name": "stderr",
     "output_type": "stream",
     "text": [
      "yt : [WARNING  ] 2020-03-09 02:01:44,691 Assuming 1.0 = 1.0 cm\n",
      "yt : [WARNING  ] 2020-03-09 02:01:44,692 Assuming 1.0 = 1.0 s\n",
      "yt : [WARNING  ] 2020-03-09 02:01:44,693 Assuming 1.0 = 1.0 g\n",
      "yt : [WARNING  ] 2020-03-09 02:01:44,694 Assuming 1.0 = 1.0 K\n",
      "yt : [INFO     ] 2020-03-09 02:01:44,706 Parameters: current_time              = 736645349151028.4\n",
      "yt : [INFO     ] 2020-03-09 02:01:44,706 Parameters: domain_dimensions         = [256 640   1]\n",
      "yt : [INFO     ] 2020-03-09 02:01:44,707 Parameters: domain_left_edge          = [-1.5450e+19 -3.8625e+19 -5.0000e-01]\n",
      "yt : [INFO     ] 2020-03-09 02:01:44,708 Parameters: domain_right_edge         = [1.5450e+19 3.8625e+19 5.0000e-01]\n",
      "yt : [INFO     ] 2020-03-09 02:01:44,709 Parameters: cosmological_simulation   = 0.0\n"
     ]
    },
    {
     "name": "stdout",
     "output_type": "stream",
     "text": [
      "mixing_layer.out1.00391\n"
     ]
    },
    {
     "name": "stderr",
     "output_type": "stream",
     "text": [
      "yt : [WARNING  ] 2020-03-09 02:01:44,736 Assuming 1.0 = 1.0 cm\n",
      "yt : [WARNING  ] 2020-03-09 02:01:44,737 Assuming 1.0 = 1.0 s\n",
      "yt : [WARNING  ] 2020-03-09 02:01:44,738 Assuming 1.0 = 1.0 g\n",
      "yt : [WARNING  ] 2020-03-09 02:01:44,739 Assuming 1.0 = 1.0 K\n",
      "yt : [INFO     ] 2020-03-09 02:01:44,751 Parameters: current_time              = 738529035795728.4\n",
      "yt : [INFO     ] 2020-03-09 02:01:44,752 Parameters: domain_dimensions         = [256 640   1]\n",
      "yt : [INFO     ] 2020-03-09 02:01:44,753 Parameters: domain_left_edge          = [-1.5450e+19 -3.8625e+19 -5.0000e-01]\n",
      "yt : [INFO     ] 2020-03-09 02:01:44,753 Parameters: domain_right_edge         = [1.5450e+19 3.8625e+19 5.0000e-01]\n",
      "yt : [INFO     ] 2020-03-09 02:01:44,754 Parameters: cosmological_simulation   = 0.0\n"
     ]
    },
    {
     "name": "stdout",
     "output_type": "stream",
     "text": [
      "mixing_layer.out1.00392\n"
     ]
    },
    {
     "name": "stderr",
     "output_type": "stream",
     "text": [
      "yt : [WARNING  ] 2020-03-09 02:01:44,782 Assuming 1.0 = 1.0 cm\n",
      "yt : [WARNING  ] 2020-03-09 02:01:44,783 Assuming 1.0 = 1.0 s\n",
      "yt : [WARNING  ] 2020-03-09 02:01:44,785 Assuming 1.0 = 1.0 g\n",
      "yt : [WARNING  ] 2020-03-09 02:01:44,786 Assuming 1.0 = 1.0 K\n",
      "yt : [INFO     ] 2020-03-09 02:01:44,798 Parameters: current_time              = 740412915439864.8\n",
      "yt : [INFO     ] 2020-03-09 02:01:44,799 Parameters: domain_dimensions         = [256 640   1]\n",
      "yt : [INFO     ] 2020-03-09 02:01:44,800 Parameters: domain_left_edge          = [-1.5450e+19 -3.8625e+19 -5.0000e-01]\n",
      "yt : [INFO     ] 2020-03-09 02:01:44,801 Parameters: domain_right_edge         = [1.5450e+19 3.8625e+19 5.0000e-01]\n",
      "yt : [INFO     ] 2020-03-09 02:01:44,802 Parameters: cosmological_simulation   = 0.0\n"
     ]
    },
    {
     "name": "stdout",
     "output_type": "stream",
     "text": [
      "mixing_layer.out1.00393\n"
     ]
    },
    {
     "name": "stderr",
     "output_type": "stream",
     "text": [
      "yt : [WARNING  ] 2020-03-09 02:01:44,829 Assuming 1.0 = 1.0 cm\n",
      "yt : [WARNING  ] 2020-03-09 02:01:44,830 Assuming 1.0 = 1.0 s\n",
      "yt : [WARNING  ] 2020-03-09 02:01:44,831 Assuming 1.0 = 1.0 g\n",
      "yt : [WARNING  ] 2020-03-09 02:01:44,832 Assuming 1.0 = 1.0 K\n",
      "yt : [INFO     ] 2020-03-09 02:01:44,849 Parameters: current_time              = 742297993284737.5\n",
      "yt : [INFO     ] 2020-03-09 02:01:44,851 Parameters: domain_dimensions         = [256 640   1]\n",
      "yt : [INFO     ] 2020-03-09 02:01:44,851 Parameters: domain_left_edge          = [-1.5450e+19 -3.8625e+19 -5.0000e-01]\n",
      "yt : [INFO     ] 2020-03-09 02:01:44,853 Parameters: domain_right_edge         = [1.5450e+19 3.8625e+19 5.0000e-01]\n",
      "yt : [INFO     ] 2020-03-09 02:01:44,854 Parameters: cosmological_simulation   = 0.0\n"
     ]
    },
    {
     "name": "stdout",
     "output_type": "stream",
     "text": [
      "mixing_layer.out1.00394\n"
     ]
    },
    {
     "name": "stderr",
     "output_type": "stream",
     "text": [
      "yt : [WARNING  ] 2020-03-09 02:01:44,882 Assuming 1.0 = 1.0 cm\n",
      "yt : [WARNING  ] 2020-03-09 02:01:44,883 Assuming 1.0 = 1.0 s\n",
      "yt : [WARNING  ] 2020-03-09 02:01:44,884 Assuming 1.0 = 1.0 g\n",
      "yt : [WARNING  ] 2020-03-09 02:01:44,885 Assuming 1.0 = 1.0 K\n",
      "yt : [INFO     ] 2020-03-09 02:01:44,896 Parameters: current_time              = 744180754380236.8\n",
      "yt : [INFO     ] 2020-03-09 02:01:44,897 Parameters: domain_dimensions         = [256 640   1]\n",
      "yt : [INFO     ] 2020-03-09 02:01:44,898 Parameters: domain_left_edge          = [-1.5450e+19 -3.8625e+19 -5.0000e-01]\n",
      "yt : [INFO     ] 2020-03-09 02:01:44,899 Parameters: domain_right_edge         = [1.5450e+19 3.8625e+19 5.0000e-01]\n",
      "yt : [INFO     ] 2020-03-09 02:01:44,900 Parameters: cosmological_simulation   = 0.0\n"
     ]
    },
    {
     "name": "stdout",
     "output_type": "stream",
     "text": [
      "mixing_layer.out1.00395\n"
     ]
    },
    {
     "name": "stderr",
     "output_type": "stream",
     "text": [
      "yt : [WARNING  ] 2020-03-09 02:01:44,926 Assuming 1.0 = 1.0 cm\n",
      "yt : [WARNING  ] 2020-03-09 02:01:44,927 Assuming 1.0 = 1.0 s\n",
      "yt : [WARNING  ] 2020-03-09 02:01:44,928 Assuming 1.0 = 1.0 g\n",
      "yt : [WARNING  ] 2020-03-09 02:01:44,929 Assuming 1.0 = 1.0 K\n",
      "yt : [INFO     ] 2020-03-09 02:01:44,942 Parameters: current_time              = 746066771115777.2\n",
      "yt : [INFO     ] 2020-03-09 02:01:44,943 Parameters: domain_dimensions         = [256 640   1]\n",
      "yt : [INFO     ] 2020-03-09 02:01:44,944 Parameters: domain_left_edge          = [-1.5450e+19 -3.8625e+19 -5.0000e-01]\n",
      "yt : [INFO     ] 2020-03-09 02:01:44,944 Parameters: domain_right_edge         = [1.5450e+19 3.8625e+19 5.0000e-01]\n",
      "yt : [INFO     ] 2020-03-09 02:01:44,945 Parameters: cosmological_simulation   = 0.0\n"
     ]
    },
    {
     "name": "stdout",
     "output_type": "stream",
     "text": [
      "mixing_layer.out1.00396\n"
     ]
    },
    {
     "name": "stderr",
     "output_type": "stream",
     "text": [
      "yt : [WARNING  ] 2020-03-09 02:01:44,971 Assuming 1.0 = 1.0 cm\n",
      "yt : [WARNING  ] 2020-03-09 02:01:44,973 Assuming 1.0 = 1.0 s\n",
      "yt : [WARNING  ] 2020-03-09 02:01:44,974 Assuming 1.0 = 1.0 g\n",
      "yt : [WARNING  ] 2020-03-09 02:01:44,975 Assuming 1.0 = 1.0 K\n",
      "yt : [INFO     ] 2020-03-09 02:01:44,988 Parameters: current_time              = 747948257224263.2\n",
      "yt : [INFO     ] 2020-03-09 02:01:44,989 Parameters: domain_dimensions         = [256 640   1]\n",
      "yt : [INFO     ] 2020-03-09 02:01:44,990 Parameters: domain_left_edge          = [-1.5450e+19 -3.8625e+19 -5.0000e-01]\n",
      "yt : [INFO     ] 2020-03-09 02:01:44,991 Parameters: domain_right_edge         = [1.5450e+19 3.8625e+19 5.0000e-01]\n",
      "yt : [INFO     ] 2020-03-09 02:01:44,991 Parameters: cosmological_simulation   = 0.0\n"
     ]
    },
    {
     "name": "stdout",
     "output_type": "stream",
     "text": [
      "mixing_layer.out1.00397\n"
     ]
    },
    {
     "name": "stderr",
     "output_type": "stream",
     "text": [
      "yt : [WARNING  ] 2020-03-09 02:01:45,018 Assuming 1.0 = 1.0 cm\n",
      "yt : [WARNING  ] 2020-03-09 02:01:45,019 Assuming 1.0 = 1.0 s\n",
      "yt : [WARNING  ] 2020-03-09 02:01:45,020 Assuming 1.0 = 1.0 g\n",
      "yt : [WARNING  ] 2020-03-09 02:01:45,020 Assuming 1.0 = 1.0 K\n",
      "yt : [INFO     ] 2020-03-09 02:01:45,033 Parameters: current_time              = 749832537334783.0\n",
      "yt : [INFO     ] 2020-03-09 02:01:45,033 Parameters: domain_dimensions         = [256 640   1]\n",
      "yt : [INFO     ] 2020-03-09 02:01:45,034 Parameters: domain_left_edge          = [-1.5450e+19 -3.8625e+19 -5.0000e-01]\n",
      "yt : [INFO     ] 2020-03-09 02:01:45,035 Parameters: domain_right_edge         = [1.5450e+19 3.8625e+19 5.0000e-01]\n",
      "yt : [INFO     ] 2020-03-09 02:01:45,036 Parameters: cosmological_simulation   = 0.0\n"
     ]
    },
    {
     "name": "stdout",
     "output_type": "stream",
     "text": [
      "mixing_layer.out1.00398\n"
     ]
    },
    {
     "name": "stderr",
     "output_type": "stream",
     "text": [
      "yt : [WARNING  ] 2020-03-09 02:01:45,062 Assuming 1.0 = 1.0 cm\n",
      "yt : [WARNING  ] 2020-03-09 02:01:45,064 Assuming 1.0 = 1.0 s\n",
      "yt : [WARNING  ] 2020-03-09 02:01:45,065 Assuming 1.0 = 1.0 g\n",
      "yt : [WARNING  ] 2020-03-09 02:01:45,066 Assuming 1.0 = 1.0 K\n",
      "yt : [INFO     ] 2020-03-09 02:01:45,077 Parameters: current_time              = 751718427749292.9\n",
      "yt : [INFO     ] 2020-03-09 02:01:45,078 Parameters: domain_dimensions         = [256 640   1]\n",
      "yt : [INFO     ] 2020-03-09 02:01:45,079 Parameters: domain_left_edge          = [-1.5450e+19 -3.8625e+19 -5.0000e-01]\n",
      "yt : [INFO     ] 2020-03-09 02:01:45,080 Parameters: domain_right_edge         = [1.5450e+19 3.8625e+19 5.0000e-01]\n",
      "yt : [INFO     ] 2020-03-09 02:01:45,080 Parameters: cosmological_simulation   = 0.0\n"
     ]
    },
    {
     "name": "stdout",
     "output_type": "stream",
     "text": [
      "mixing_layer.out1.00399\n"
     ]
    },
    {
     "name": "stderr",
     "output_type": "stream",
     "text": [
      "yt : [WARNING  ] 2020-03-09 02:01:45,107 Assuming 1.0 = 1.0 cm\n",
      "yt : [WARNING  ] 2020-03-09 02:01:45,109 Assuming 1.0 = 1.0 s\n",
      "yt : [WARNING  ] 2020-03-09 02:01:45,110 Assuming 1.0 = 1.0 g\n",
      "yt : [WARNING  ] 2020-03-09 02:01:45,110 Assuming 1.0 = 1.0 K\n",
      "yt : [INFO     ] 2020-03-09 02:01:45,122 Parameters: current_time              = 753601723304677.4\n",
      "yt : [INFO     ] 2020-03-09 02:01:45,124 Parameters: domain_dimensions         = [256 640   1]\n",
      "yt : [INFO     ] 2020-03-09 02:01:45,125 Parameters: domain_left_edge          = [-1.5450e+19 -3.8625e+19 -5.0000e-01]\n",
      "yt : [INFO     ] 2020-03-09 02:01:45,126 Parameters: domain_right_edge         = [1.5450e+19 3.8625e+19 5.0000e-01]\n",
      "yt : [INFO     ] 2020-03-09 02:01:45,127 Parameters: cosmological_simulation   = 0.0\n"
     ]
    },
    {
     "name": "stdout",
     "output_type": "stream",
     "text": [
      "mixing_layer.out1.00400\n"
     ]
    },
    {
     "name": "stderr",
     "output_type": "stream",
     "text": [
      "yt : [WARNING  ] 2020-03-09 02:01:45,154 Assuming 1.0 = 1.0 cm\n",
      "yt : [WARNING  ] 2020-03-09 02:01:45,155 Assuming 1.0 = 1.0 s\n",
      "yt : [WARNING  ] 2020-03-09 02:01:45,157 Assuming 1.0 = 1.0 g\n",
      "yt : [WARNING  ] 2020-03-09 02:01:45,158 Assuming 1.0 = 1.0 K\n",
      "yt : [INFO     ] 2020-03-09 02:01:45,172 Parameters: current_time              = 755486529054405.0\n",
      "yt : [INFO     ] 2020-03-09 02:01:45,173 Parameters: domain_dimensions         = [256 640   1]\n",
      "yt : [INFO     ] 2020-03-09 02:01:45,174 Parameters: domain_left_edge          = [-1.5450e+19 -3.8625e+19 -5.0000e-01]\n",
      "yt : [INFO     ] 2020-03-09 02:01:45,174 Parameters: domain_right_edge         = [1.5450e+19 3.8625e+19 5.0000e-01]\n",
      "yt : [INFO     ] 2020-03-09 02:01:45,175 Parameters: cosmological_simulation   = 0.0\n"
     ]
    },
    {
     "name": "stdout",
     "output_type": "stream",
     "text": [
      "mixing_layer.out1.00401\n"
     ]
    },
    {
     "name": "stderr",
     "output_type": "stream",
     "text": [
      "yt : [WARNING  ] 2020-03-09 02:01:45,202 Assuming 1.0 = 1.0 cm\n",
      "yt : [WARNING  ] 2020-03-09 02:01:45,203 Assuming 1.0 = 1.0 s\n",
      "yt : [WARNING  ] 2020-03-09 02:01:45,205 Assuming 1.0 = 1.0 g\n",
      "yt : [WARNING  ] 2020-03-09 02:01:45,206 Assuming 1.0 = 1.0 K\n",
      "yt : [INFO     ] 2020-03-09 02:01:45,219 Parameters: current_time              = 757369327523156.9\n",
      "yt : [INFO     ] 2020-03-09 02:01:45,219 Parameters: domain_dimensions         = [256 640   1]\n",
      "yt : [INFO     ] 2020-03-09 02:01:45,220 Parameters: domain_left_edge          = [-1.5450e+19 -3.8625e+19 -5.0000e-01]\n",
      "yt : [INFO     ] 2020-03-09 02:01:45,221 Parameters: domain_right_edge         = [1.5450e+19 3.8625e+19 5.0000e-01]\n",
      "yt : [INFO     ] 2020-03-09 02:01:45,222 Parameters: cosmological_simulation   = 0.0\n"
     ]
    },
    {
     "name": "stdout",
     "output_type": "stream",
     "text": [
      "mixing_layer.out1.00402\n"
     ]
    },
    {
     "name": "stderr",
     "output_type": "stream",
     "text": [
      "yt : [WARNING  ] 2020-03-09 02:01:45,247 Assuming 1.0 = 1.0 cm\n",
      "yt : [WARNING  ] 2020-03-09 02:01:45,248 Assuming 1.0 = 1.0 s\n",
      "yt : [WARNING  ] 2020-03-09 02:01:45,250 Assuming 1.0 = 1.0 g\n",
      "yt : [WARNING  ] 2020-03-09 02:01:45,251 Assuming 1.0 = 1.0 K\n",
      "yt : [INFO     ] 2020-03-09 02:01:45,263 Parameters: current_time              = 759253755469528.4\n",
      "yt : [INFO     ] 2020-03-09 02:01:45,264 Parameters: domain_dimensions         = [256 640   1]\n",
      "yt : [INFO     ] 2020-03-09 02:01:45,265 Parameters: domain_left_edge          = [-1.5450e+19 -3.8625e+19 -5.0000e-01]\n",
      "yt : [INFO     ] 2020-03-09 02:01:45,267 Parameters: domain_right_edge         = [1.5450e+19 3.8625e+19 5.0000e-01]\n",
      "yt : [INFO     ] 2020-03-09 02:01:45,268 Parameters: cosmological_simulation   = 0.0\n"
     ]
    },
    {
     "name": "stdout",
     "output_type": "stream",
     "text": [
      "mixing_layer.out1.00403\n"
     ]
    },
    {
     "name": "stderr",
     "output_type": "stream",
     "text": [
      "yt : [WARNING  ] 2020-03-09 02:01:45,294 Assuming 1.0 = 1.0 cm\n",
      "yt : [WARNING  ] 2020-03-09 02:01:45,295 Assuming 1.0 = 1.0 s\n",
      "yt : [WARNING  ] 2020-03-09 02:01:45,297 Assuming 1.0 = 1.0 g\n",
      "yt : [WARNING  ] 2020-03-09 02:01:45,298 Assuming 1.0 = 1.0 K\n",
      "yt : [INFO     ] 2020-03-09 02:01:45,309 Parameters: current_time              = 761136882166075.2\n",
      "yt : [INFO     ] 2020-03-09 02:01:45,310 Parameters: domain_dimensions         = [256 640   1]\n",
      "yt : [INFO     ] 2020-03-09 02:01:45,311 Parameters: domain_left_edge          = [-1.5450e+19 -3.8625e+19 -5.0000e-01]\n",
      "yt : [INFO     ] 2020-03-09 02:01:45,312 Parameters: domain_right_edge         = [1.5450e+19 3.8625e+19 5.0000e-01]\n",
      "yt : [INFO     ] 2020-03-09 02:01:45,312 Parameters: cosmological_simulation   = 0.0\n"
     ]
    },
    {
     "name": "stdout",
     "output_type": "stream",
     "text": [
      "mixing_layer.out1.00404\n"
     ]
    },
    {
     "name": "stderr",
     "output_type": "stream",
     "text": [
      "yt : [WARNING  ] 2020-03-09 02:01:45,338 Assuming 1.0 = 1.0 cm\n",
      "yt : [WARNING  ] 2020-03-09 02:01:45,339 Assuming 1.0 = 1.0 s\n",
      "yt : [WARNING  ] 2020-03-09 02:01:45,340 Assuming 1.0 = 1.0 g\n",
      "yt : [WARNING  ] 2020-03-09 02:01:45,341 Assuming 1.0 = 1.0 K\n",
      "yt : [INFO     ] 2020-03-09 02:01:45,355 Parameters: current_time              = 763020040810187.2\n",
      "yt : [INFO     ] 2020-03-09 02:01:45,356 Parameters: domain_dimensions         = [256 640   1]\n",
      "yt : [INFO     ] 2020-03-09 02:01:45,356 Parameters: domain_left_edge          = [-1.5450e+19 -3.8625e+19 -5.0000e-01]\n",
      "yt : [INFO     ] 2020-03-09 02:01:45,357 Parameters: domain_right_edge         = [1.5450e+19 3.8625e+19 5.0000e-01]\n",
      "yt : [INFO     ] 2020-03-09 02:01:45,358 Parameters: cosmological_simulation   = 0.0\n"
     ]
    },
    {
     "name": "stdout",
     "output_type": "stream",
     "text": [
      "mixing_layer.out1.00405\n"
     ]
    },
    {
     "name": "stderr",
     "output_type": "stream",
     "text": [
      "yt : [WARNING  ] 2020-03-09 02:01:45,386 Assuming 1.0 = 1.0 cm\n",
      "yt : [WARNING  ] 2020-03-09 02:01:45,387 Assuming 1.0 = 1.0 s\n",
      "yt : [WARNING  ] 2020-03-09 02:01:45,388 Assuming 1.0 = 1.0 g\n",
      "yt : [WARNING  ] 2020-03-09 02:01:45,389 Assuming 1.0 = 1.0 K\n",
      "yt : [INFO     ] 2020-03-09 02:01:45,400 Parameters: current_time              = 764904754428071.2\n",
      "yt : [INFO     ] 2020-03-09 02:01:45,401 Parameters: domain_dimensions         = [256 640   1]\n",
      "yt : [INFO     ] 2020-03-09 02:01:45,402 Parameters: domain_left_edge          = [-1.5450e+19 -3.8625e+19 -5.0000e-01]\n",
      "yt : [INFO     ] 2020-03-09 02:01:45,403 Parameters: domain_right_edge         = [1.5450e+19 3.8625e+19 5.0000e-01]\n",
      "yt : [INFO     ] 2020-03-09 02:01:45,404 Parameters: cosmological_simulation   = 0.0\n"
     ]
    },
    {
     "name": "stdout",
     "output_type": "stream",
     "text": [
      "mixing_layer.out1.00406\n"
     ]
    },
    {
     "name": "stderr",
     "output_type": "stream",
     "text": [
      "yt : [WARNING  ] 2020-03-09 02:01:45,437 Assuming 1.0 = 1.0 cm\n",
      "yt : [WARNING  ] 2020-03-09 02:01:45,438 Assuming 1.0 = 1.0 s\n",
      "yt : [WARNING  ] 2020-03-09 02:01:45,439 Assuming 1.0 = 1.0 g\n",
      "yt : [WARNING  ] 2020-03-09 02:01:45,439 Assuming 1.0 = 1.0 K\n",
      "yt : [INFO     ] 2020-03-09 02:01:45,453 Parameters: current_time              = 766789995671579.0\n",
      "yt : [INFO     ] 2020-03-09 02:01:45,454 Parameters: domain_dimensions         = [256 640   1]\n",
      "yt : [INFO     ] 2020-03-09 02:01:45,458 Parameters: domain_left_edge          = [-1.5450e+19 -3.8625e+19 -5.0000e-01]\n",
      "yt : [INFO     ] 2020-03-09 02:01:45,459 Parameters: domain_right_edge         = [1.5450e+19 3.8625e+19 5.0000e-01]\n",
      "yt : [INFO     ] 2020-03-09 02:01:45,460 Parameters: cosmological_simulation   = 0.0\n"
     ]
    },
    {
     "name": "stdout",
     "output_type": "stream",
     "text": [
      "mixing_layer.out1.00407\n"
     ]
    },
    {
     "name": "stderr",
     "output_type": "stream",
     "text": [
      "yt : [WARNING  ] 2020-03-09 02:01:45,494 Assuming 1.0 = 1.0 cm\n",
      "yt : [WARNING  ] 2020-03-09 02:01:45,496 Assuming 1.0 = 1.0 s\n",
      "yt : [WARNING  ] 2020-03-09 02:01:45,497 Assuming 1.0 = 1.0 g\n",
      "yt : [WARNING  ] 2020-03-09 02:01:45,498 Assuming 1.0 = 1.0 K\n",
      "yt : [INFO     ] 2020-03-09 02:01:45,512 Parameters: current_time              = 768673495752730.2\n",
      "yt : [INFO     ] 2020-03-09 02:01:45,513 Parameters: domain_dimensions         = [256 640   1]\n",
      "yt : [INFO     ] 2020-03-09 02:01:45,514 Parameters: domain_left_edge          = [-1.5450e+19 -3.8625e+19 -5.0000e-01]\n",
      "yt : [INFO     ] 2020-03-09 02:01:45,515 Parameters: domain_right_edge         = [1.5450e+19 3.8625e+19 5.0000e-01]\n",
      "yt : [INFO     ] 2020-03-09 02:01:45,516 Parameters: cosmological_simulation   = 0.0\n"
     ]
    },
    {
     "name": "stdout",
     "output_type": "stream",
     "text": [
      "mixing_layer.out1.00408\n"
     ]
    },
    {
     "name": "stderr",
     "output_type": "stream",
     "text": [
      "yt : [WARNING  ] 2020-03-09 02:01:45,545 Assuming 1.0 = 1.0 cm\n",
      "yt : [WARNING  ] 2020-03-09 02:01:45,546 Assuming 1.0 = 1.0 s\n",
      "yt : [WARNING  ] 2020-03-09 02:01:45,547 Assuming 1.0 = 1.0 g\n",
      "yt : [WARNING  ] 2020-03-09 02:01:45,548 Assuming 1.0 = 1.0 K\n",
      "yt : [INFO     ] 2020-03-09 02:01:45,560 Parameters: current_time              = 770556324477266.2\n",
      "yt : [INFO     ] 2020-03-09 02:01:45,560 Parameters: domain_dimensions         = [256 640   1]\n",
      "yt : [INFO     ] 2020-03-09 02:01:45,561 Parameters: domain_left_edge          = [-1.5450e+19 -3.8625e+19 -5.0000e-01]\n",
      "yt : [INFO     ] 2020-03-09 02:01:45,562 Parameters: domain_right_edge         = [1.5450e+19 3.8625e+19 5.0000e-01]\n",
      "yt : [INFO     ] 2020-03-09 02:01:45,563 Parameters: cosmological_simulation   = 0.0\n"
     ]
    },
    {
     "name": "stdout",
     "output_type": "stream",
     "text": [
      "mixing_layer.out1.00409\n"
     ]
    },
    {
     "name": "stderr",
     "output_type": "stream",
     "text": [
      "yt : [WARNING  ] 2020-03-09 02:01:45,591 Assuming 1.0 = 1.0 cm\n",
      "yt : [WARNING  ] 2020-03-09 02:01:45,593 Assuming 1.0 = 1.0 s\n",
      "yt : [WARNING  ] 2020-03-09 02:01:45,594 Assuming 1.0 = 1.0 g\n",
      "yt : [WARNING  ] 2020-03-09 02:01:45,596 Assuming 1.0 = 1.0 K\n",
      "yt : [INFO     ] 2020-03-09 02:01:45,612 Parameters: current_time              = 772442204710022.0\n",
      "yt : [INFO     ] 2020-03-09 02:01:45,613 Parameters: domain_dimensions         = [256 640   1]\n",
      "yt : [INFO     ] 2020-03-09 02:01:45,614 Parameters: domain_left_edge          = [-1.5450e+19 -3.8625e+19 -5.0000e-01]\n",
      "yt : [INFO     ] 2020-03-09 02:01:45,615 Parameters: domain_right_edge         = [1.5450e+19 3.8625e+19 5.0000e-01]\n",
      "yt : [INFO     ] 2020-03-09 02:01:45,617 Parameters: cosmological_simulation   = 0.0\n"
     ]
    },
    {
     "name": "stdout",
     "output_type": "stream",
     "text": [
      "mixing_layer.out1.00410\n"
     ]
    },
    {
     "name": "stderr",
     "output_type": "stream",
     "text": [
      "yt : [WARNING  ] 2020-03-09 02:01:45,645 Assuming 1.0 = 1.0 cm\n",
      "yt : [WARNING  ] 2020-03-09 02:01:45,646 Assuming 1.0 = 1.0 s\n",
      "yt : [WARNING  ] 2020-03-09 02:01:45,647 Assuming 1.0 = 1.0 g\n",
      "yt : [WARNING  ] 2020-03-09 02:01:45,648 Assuming 1.0 = 1.0 K\n",
      "yt : [INFO     ] 2020-03-09 02:01:45,661 Parameters: current_time              = 774324855919591.5\n",
      "yt : [INFO     ] 2020-03-09 02:01:45,662 Parameters: domain_dimensions         = [256 640   1]\n",
      "yt : [INFO     ] 2020-03-09 02:01:45,663 Parameters: domain_left_edge          = [-1.5450e+19 -3.8625e+19 -5.0000e-01]\n",
      "yt : [INFO     ] 2020-03-09 02:01:45,664 Parameters: domain_right_edge         = [1.5450e+19 3.8625e+19 5.0000e-01]\n",
      "yt : [INFO     ] 2020-03-09 02:01:45,664 Parameters: cosmological_simulation   = 0.0\n"
     ]
    },
    {
     "name": "stdout",
     "output_type": "stream",
     "text": [
      "mixing_layer.out1.00411\n"
     ]
    },
    {
     "name": "stderr",
     "output_type": "stream",
     "text": [
      "yt : [WARNING  ] 2020-03-09 02:01:45,691 Assuming 1.0 = 1.0 cm\n",
      "yt : [WARNING  ] 2020-03-09 02:01:45,692 Assuming 1.0 = 1.0 s\n",
      "yt : [WARNING  ] 2020-03-09 02:01:45,693 Assuming 1.0 = 1.0 g\n",
      "yt : [WARNING  ] 2020-03-09 02:01:45,694 Assuming 1.0 = 1.0 K\n",
      "yt : [INFO     ] 2020-03-09 02:01:45,706 Parameters: current_time              = 776208185591741.6\n",
      "yt : [INFO     ] 2020-03-09 02:01:45,707 Parameters: domain_dimensions         = [256 640   1]\n",
      "yt : [INFO     ] 2020-03-09 02:01:45,708 Parameters: domain_left_edge          = [-1.5450e+19 -3.8625e+19 -5.0000e-01]\n",
      "yt : [INFO     ] 2020-03-09 02:01:45,709 Parameters: domain_right_edge         = [1.5450e+19 3.8625e+19 5.0000e-01]\n",
      "yt : [INFO     ] 2020-03-09 02:01:45,710 Parameters: cosmological_simulation   = 0.0\n"
     ]
    },
    {
     "name": "stdout",
     "output_type": "stream",
     "text": [
      "mixing_layer.out1.00412\n"
     ]
    },
    {
     "name": "stderr",
     "output_type": "stream",
     "text": [
      "yt : [WARNING  ] 2020-03-09 02:01:45,739 Assuming 1.0 = 1.0 cm\n",
      "yt : [WARNING  ] 2020-03-09 02:01:45,740 Assuming 1.0 = 1.0 s\n",
      "yt : [WARNING  ] 2020-03-09 02:01:45,741 Assuming 1.0 = 1.0 g\n",
      "yt : [WARNING  ] 2020-03-09 02:01:45,742 Assuming 1.0 = 1.0 K\n",
      "yt : [INFO     ] 2020-03-09 02:01:45,754 Parameters: current_time              = 778092087812475.1\n",
      "yt : [INFO     ] 2020-03-09 02:01:45,755 Parameters: domain_dimensions         = [256 640   1]\n",
      "yt : [INFO     ] 2020-03-09 02:01:45,756 Parameters: domain_left_edge          = [-1.5450e+19 -3.8625e+19 -5.0000e-01]\n",
      "yt : [INFO     ] 2020-03-09 02:01:45,757 Parameters: domain_right_edge         = [1.5450e+19 3.8625e+19 5.0000e-01]\n",
      "yt : [INFO     ] 2020-03-09 02:01:45,758 Parameters: cosmological_simulation   = 0.0\n"
     ]
    },
    {
     "name": "stdout",
     "output_type": "stream",
     "text": [
      "mixing_layer.out1.00413\n"
     ]
    },
    {
     "name": "stderr",
     "output_type": "stream",
     "text": [
      "yt : [WARNING  ] 2020-03-09 02:01:45,784 Assuming 1.0 = 1.0 cm\n",
      "yt : [WARNING  ] 2020-03-09 02:01:45,785 Assuming 1.0 = 1.0 s\n",
      "yt : [WARNING  ] 2020-03-09 02:01:45,786 Assuming 1.0 = 1.0 g\n",
      "yt : [WARNING  ] 2020-03-09 02:01:45,787 Assuming 1.0 = 1.0 K\n",
      "yt : [INFO     ] 2020-03-09 02:01:45,799 Parameters: current_time              = 779976242689105.4\n",
      "yt : [INFO     ] 2020-03-09 02:01:45,800 Parameters: domain_dimensions         = [256 640   1]\n",
      "yt : [INFO     ] 2020-03-09 02:01:45,801 Parameters: domain_left_edge          = [-1.5450e+19 -3.8625e+19 -5.0000e-01]\n",
      "yt : [INFO     ] 2020-03-09 02:01:45,802 Parameters: domain_right_edge         = [1.5450e+19 3.8625e+19 5.0000e-01]\n",
      "yt : [INFO     ] 2020-03-09 02:01:45,803 Parameters: cosmological_simulation   = 0.0\n"
     ]
    },
    {
     "name": "stdout",
     "output_type": "stream",
     "text": [
      "mixing_layer.out1.00414\n"
     ]
    },
    {
     "name": "stderr",
     "output_type": "stream",
     "text": [
      "yt : [WARNING  ] 2020-03-09 02:01:45,829 Assuming 1.0 = 1.0 cm\n",
      "yt : [WARNING  ] 2020-03-09 02:01:45,830 Assuming 1.0 = 1.0 s\n",
      "yt : [WARNING  ] 2020-03-09 02:01:45,831 Assuming 1.0 = 1.0 g\n",
      "yt : [WARNING  ] 2020-03-09 02:01:45,831 Assuming 1.0 = 1.0 K\n",
      "yt : [INFO     ] 2020-03-09 02:01:45,845 Parameters: current_time              = 781860713893522.5\n",
      "yt : [INFO     ] 2020-03-09 02:01:45,846 Parameters: domain_dimensions         = [256 640   1]\n",
      "yt : [INFO     ] 2020-03-09 02:01:45,847 Parameters: domain_left_edge          = [-1.5450e+19 -3.8625e+19 -5.0000e-01]\n",
      "yt : [INFO     ] 2020-03-09 02:01:45,848 Parameters: domain_right_edge         = [1.5450e+19 3.8625e+19 5.0000e-01]\n",
      "yt : [INFO     ] 2020-03-09 02:01:45,849 Parameters: cosmological_simulation   = 0.0\n"
     ]
    },
    {
     "name": "stdout",
     "output_type": "stream",
     "text": [
      "mixing_layer.out1.00415\n"
     ]
    },
    {
     "name": "stderr",
     "output_type": "stream",
     "text": [
      "yt : [WARNING  ] 2020-03-09 02:01:45,879 Assuming 1.0 = 1.0 cm\n",
      "yt : [WARNING  ] 2020-03-09 02:01:45,881 Assuming 1.0 = 1.0 s\n",
      "yt : [WARNING  ] 2020-03-09 02:01:45,882 Assuming 1.0 = 1.0 g\n",
      "yt : [WARNING  ] 2020-03-09 02:01:45,883 Assuming 1.0 = 1.0 K\n",
      "yt : [INFO     ] 2020-03-09 02:01:45,896 Parameters: current_time              = 783744333242831.4\n",
      "yt : [INFO     ] 2020-03-09 02:01:45,897 Parameters: domain_dimensions         = [256 640   1]\n",
      "yt : [INFO     ] 2020-03-09 02:01:45,898 Parameters: domain_left_edge          = [-1.5450e+19 -3.8625e+19 -5.0000e-01]\n",
      "yt : [INFO     ] 2020-03-09 02:01:45,899 Parameters: domain_right_edge         = [1.5450e+19 3.8625e+19 5.0000e-01]\n",
      "yt : [INFO     ] 2020-03-09 02:01:45,900 Parameters: cosmological_simulation   = 0.0\n"
     ]
    },
    {
     "name": "stdout",
     "output_type": "stream",
     "text": [
      "mixing_layer.out1.00416\n"
     ]
    },
    {
     "name": "stderr",
     "output_type": "stream",
     "text": [
      "yt : [WARNING  ] 2020-03-09 02:01:45,929 Assuming 1.0 = 1.0 cm\n",
      "yt : [WARNING  ] 2020-03-09 02:01:45,930 Assuming 1.0 = 1.0 s\n",
      "yt : [WARNING  ] 2020-03-09 02:01:45,931 Assuming 1.0 = 1.0 g\n",
      "yt : [WARNING  ] 2020-03-09 02:01:45,932 Assuming 1.0 = 1.0 K\n",
      "yt : [INFO     ] 2020-03-09 02:01:45,944 Parameters: current_time              = 785628654894247.6\n",
      "yt : [INFO     ] 2020-03-09 02:01:45,945 Parameters: domain_dimensions         = [256 640   1]\n",
      "yt : [INFO     ] 2020-03-09 02:01:45,945 Parameters: domain_left_edge          = [-1.5450e+19 -3.8625e+19 -5.0000e-01]\n",
      "yt : [INFO     ] 2020-03-09 02:01:45,946 Parameters: domain_right_edge         = [1.5450e+19 3.8625e+19 5.0000e-01]\n",
      "yt : [INFO     ] 2020-03-09 02:01:45,947 Parameters: cosmological_simulation   = 0.0\n"
     ]
    },
    {
     "name": "stdout",
     "output_type": "stream",
     "text": [
      "mixing_layer.out1.00417\n"
     ]
    },
    {
     "name": "stderr",
     "output_type": "stream",
     "text": [
      "yt : [WARNING  ] 2020-03-09 02:01:45,975 Assuming 1.0 = 1.0 cm\n",
      "yt : [WARNING  ] 2020-03-09 02:01:45,976 Assuming 1.0 = 1.0 s\n",
      "yt : [WARNING  ] 2020-03-09 02:01:45,977 Assuming 1.0 = 1.0 g\n",
      "yt : [WARNING  ] 2020-03-09 02:01:45,978 Assuming 1.0 = 1.0 K\n",
      "yt : [INFO     ] 2020-03-09 02:01:45,991 Parameters: current_time              = 787512117639021.9\n",
      "yt : [INFO     ] 2020-03-09 02:01:45,991 Parameters: domain_dimensions         = [256 640   1]\n",
      "yt : [INFO     ] 2020-03-09 02:01:45,992 Parameters: domain_left_edge          = [-1.5450e+19 -3.8625e+19 -5.0000e-01]\n",
      "yt : [INFO     ] 2020-03-09 02:01:45,993 Parameters: domain_right_edge         = [1.5450e+19 3.8625e+19 5.0000e-01]\n",
      "yt : [INFO     ] 2020-03-09 02:01:45,994 Parameters: cosmological_simulation   = 0.0\n"
     ]
    },
    {
     "name": "stdout",
     "output_type": "stream",
     "text": [
      "mixing_layer.out1.00418\n"
     ]
    },
    {
     "name": "stderr",
     "output_type": "stream",
     "text": [
      "yt : [WARNING  ] 2020-03-09 02:01:46,021 Assuming 1.0 = 1.0 cm\n",
      "yt : [WARNING  ] 2020-03-09 02:01:46,022 Assuming 1.0 = 1.0 s\n",
      "yt : [WARNING  ] 2020-03-09 02:01:46,023 Assuming 1.0 = 1.0 g\n",
      "yt : [WARNING  ] 2020-03-09 02:01:46,024 Assuming 1.0 = 1.0 K\n",
      "yt : [INFO     ] 2020-03-09 02:01:46,035 Parameters: current_time              = 789396199177321.9\n",
      "yt : [INFO     ] 2020-03-09 02:01:46,036 Parameters: domain_dimensions         = [256 640   1]\n",
      "yt : [INFO     ] 2020-03-09 02:01:46,037 Parameters: domain_left_edge          = [-1.5450e+19 -3.8625e+19 -5.0000e-01]\n",
      "yt : [INFO     ] 2020-03-09 02:01:46,038 Parameters: domain_right_edge         = [1.5450e+19 3.8625e+19 5.0000e-01]\n",
      "yt : [INFO     ] 2020-03-09 02:01:46,039 Parameters: cosmological_simulation   = 0.0\n"
     ]
    },
    {
     "name": "stdout",
     "output_type": "stream",
     "text": [
      "mixing_layer.out1.00419\n"
     ]
    },
    {
     "name": "stderr",
     "output_type": "stream",
     "text": [
      "yt : [WARNING  ] 2020-03-09 02:01:46,067 Assuming 1.0 = 1.0 cm\n",
      "yt : [WARNING  ] 2020-03-09 02:01:46,069 Assuming 1.0 = 1.0 s\n",
      "yt : [WARNING  ] 2020-03-09 02:01:46,070 Assuming 1.0 = 1.0 g\n",
      "yt : [WARNING  ] 2020-03-09 02:01:46,071 Assuming 1.0 = 1.0 K\n",
      "yt : [INFO     ] 2020-03-09 02:01:46,085 Parameters: current_time              = 791280106208812.8\n",
      "yt : [INFO     ] 2020-03-09 02:01:46,086 Parameters: domain_dimensions         = [256 640   1]\n",
      "yt : [INFO     ] 2020-03-09 02:01:46,087 Parameters: domain_left_edge          = [-1.5450e+19 -3.8625e+19 -5.0000e-01]\n",
      "yt : [INFO     ] 2020-03-09 02:01:46,087 Parameters: domain_right_edge         = [1.5450e+19 3.8625e+19 5.0000e-01]\n",
      "yt : [INFO     ] 2020-03-09 02:01:46,088 Parameters: cosmological_simulation   = 0.0\n"
     ]
    },
    {
     "name": "stdout",
     "output_type": "stream",
     "text": [
      "mixing_layer.out1.00420\n"
     ]
    },
    {
     "name": "stderr",
     "output_type": "stream",
     "text": [
      "yt : [WARNING  ] 2020-03-09 02:01:46,116 Assuming 1.0 = 1.0 cm\n",
      "yt : [WARNING  ] 2020-03-09 02:01:46,117 Assuming 1.0 = 1.0 s\n",
      "yt : [WARNING  ] 2020-03-09 02:01:46,118 Assuming 1.0 = 1.0 g\n",
      "yt : [WARNING  ] 2020-03-09 02:01:46,118 Assuming 1.0 = 1.0 K\n",
      "yt : [INFO     ] 2020-03-09 02:01:46,130 Parameters: current_time              = 793164457714651.1\n",
      "yt : [INFO     ] 2020-03-09 02:01:46,130 Parameters: domain_dimensions         = [256 640   1]\n",
      "yt : [INFO     ] 2020-03-09 02:01:46,131 Parameters: domain_left_edge          = [-1.5450e+19 -3.8625e+19 -5.0000e-01]\n",
      "yt : [INFO     ] 2020-03-09 02:01:46,132 Parameters: domain_right_edge         = [1.5450e+19 3.8625e+19 5.0000e-01]\n",
      "yt : [INFO     ] 2020-03-09 02:01:46,134 Parameters: cosmological_simulation   = 0.0\n"
     ]
    },
    {
     "name": "stdout",
     "output_type": "stream",
     "text": [
      "mixing_layer.out1.00421\n"
     ]
    },
    {
     "name": "stderr",
     "output_type": "stream",
     "text": [
      "yt : [WARNING  ] 2020-03-09 02:01:46,160 Assuming 1.0 = 1.0 cm\n",
      "yt : [WARNING  ] 2020-03-09 02:01:46,162 Assuming 1.0 = 1.0 s\n",
      "yt : [WARNING  ] 2020-03-09 02:01:46,163 Assuming 1.0 = 1.0 g\n",
      "yt : [WARNING  ] 2020-03-09 02:01:46,164 Assuming 1.0 = 1.0 K\n",
      "yt : [INFO     ] 2020-03-09 02:01:46,178 Parameters: current_time              = 795048319200069.1\n",
      "yt : [INFO     ] 2020-03-09 02:01:46,179 Parameters: domain_dimensions         = [256 640   1]\n",
      "yt : [INFO     ] 2020-03-09 02:01:46,179 Parameters: domain_left_edge          = [-1.5450e+19 -3.8625e+19 -5.0000e-01]\n",
      "yt : [INFO     ] 2020-03-09 02:01:46,180 Parameters: domain_right_edge         = [1.5450e+19 3.8625e+19 5.0000e-01]\n",
      "yt : [INFO     ] 2020-03-09 02:01:46,181 Parameters: cosmological_simulation   = 0.0\n"
     ]
    },
    {
     "name": "stdout",
     "output_type": "stream",
     "text": [
      "mixing_layer.out1.00422\n"
     ]
    },
    {
     "name": "stderr",
     "output_type": "stream",
     "text": [
      "yt : [WARNING  ] 2020-03-09 02:01:46,209 Assuming 1.0 = 1.0 cm\n",
      "yt : [WARNING  ] 2020-03-09 02:01:46,210 Assuming 1.0 = 1.0 s\n",
      "yt : [WARNING  ] 2020-03-09 02:01:46,211 Assuming 1.0 = 1.0 g\n",
      "yt : [WARNING  ] 2020-03-09 02:01:46,212 Assuming 1.0 = 1.0 K\n",
      "yt : [INFO     ] 2020-03-09 02:01:46,224 Parameters: current_time              = 796933344558629.6\n",
      "yt : [INFO     ] 2020-03-09 02:01:46,225 Parameters: domain_dimensions         = [256 640   1]\n",
      "yt : [INFO     ] 2020-03-09 02:01:46,226 Parameters: domain_left_edge          = [-1.5450e+19 -3.8625e+19 -5.0000e-01]\n",
      "yt : [INFO     ] 2020-03-09 02:01:46,227 Parameters: domain_right_edge         = [1.5450e+19 3.8625e+19 5.0000e-01]\n",
      "yt : [INFO     ] 2020-03-09 02:01:46,228 Parameters: cosmological_simulation   = 0.0\n"
     ]
    },
    {
     "name": "stdout",
     "output_type": "stream",
     "text": [
      "mixing_layer.out1.00423\n"
     ]
    },
    {
     "name": "stderr",
     "output_type": "stream",
     "text": [
      "yt : [WARNING  ] 2020-03-09 02:01:46,255 Assuming 1.0 = 1.0 cm\n",
      "yt : [WARNING  ] 2020-03-09 02:01:46,256 Assuming 1.0 = 1.0 s\n",
      "yt : [WARNING  ] 2020-03-09 02:01:46,257 Assuming 1.0 = 1.0 g\n",
      "yt : [WARNING  ] 2020-03-09 02:01:46,258 Assuming 1.0 = 1.0 K\n",
      "yt : [INFO     ] 2020-03-09 02:01:46,269 Parameters: current_time              = 798818234625747.4\n",
      "yt : [INFO     ] 2020-03-09 02:01:46,270 Parameters: domain_dimensions         = [256 640   1]\n",
      "yt : [INFO     ] 2020-03-09 02:01:46,271 Parameters: domain_left_edge          = [-1.5450e+19 -3.8625e+19 -5.0000e-01]\n",
      "yt : [INFO     ] 2020-03-09 02:01:46,272 Parameters: domain_right_edge         = [1.5450e+19 3.8625e+19 5.0000e-01]\n",
      "yt : [INFO     ] 2020-03-09 02:01:46,272 Parameters: cosmological_simulation   = 0.0\n"
     ]
    },
    {
     "name": "stdout",
     "output_type": "stream",
     "text": [
      "mixing_layer.out1.00424\n"
     ]
    },
    {
     "name": "stderr",
     "output_type": "stream",
     "text": [
      "yt : [WARNING  ] 2020-03-09 02:01:46,301 Assuming 1.0 = 1.0 cm\n",
      "yt : [WARNING  ] 2020-03-09 02:01:46,302 Assuming 1.0 = 1.0 s\n",
      "yt : [WARNING  ] 2020-03-09 02:01:46,302 Assuming 1.0 = 1.0 g\n",
      "yt : [WARNING  ] 2020-03-09 02:01:46,303 Assuming 1.0 = 1.0 K\n",
      "yt : [INFO     ] 2020-03-09 02:01:46,315 Parameters: current_time              = 800701674252172.1\n",
      "yt : [INFO     ] 2020-03-09 02:01:46,316 Parameters: domain_dimensions         = [256 640   1]\n",
      "yt : [INFO     ] 2020-03-09 02:01:46,317 Parameters: domain_left_edge          = [-1.5450e+19 -3.8625e+19 -5.0000e-01]\n",
      "yt : [INFO     ] 2020-03-09 02:01:46,317 Parameters: domain_right_edge         = [1.5450e+19 3.8625e+19 5.0000e-01]\n",
      "yt : [INFO     ] 2020-03-09 02:01:46,318 Parameters: cosmological_simulation   = 0.0\n"
     ]
    },
    {
     "name": "stdout",
     "output_type": "stream",
     "text": [
      "mixing_layer.out1.00425\n"
     ]
    },
    {
     "name": "stderr",
     "output_type": "stream",
     "text": [
      "yt : [WARNING  ] 2020-03-09 02:01:46,345 Assuming 1.0 = 1.0 cm\n",
      "yt : [WARNING  ] 2020-03-09 02:01:46,346 Assuming 1.0 = 1.0 s\n",
      "yt : [WARNING  ] 2020-03-09 02:01:46,348 Assuming 1.0 = 1.0 g\n",
      "yt : [WARNING  ] 2020-03-09 02:01:46,349 Assuming 1.0 = 1.0 K\n",
      "yt : [INFO     ] 2020-03-09 02:01:46,360 Parameters: current_time              = 802586247967987.2\n",
      "yt : [INFO     ] 2020-03-09 02:01:46,361 Parameters: domain_dimensions         = [256 640   1]\n",
      "yt : [INFO     ] 2020-03-09 02:01:46,362 Parameters: domain_left_edge          = [-1.5450e+19 -3.8625e+19 -5.0000e-01]\n",
      "yt : [INFO     ] 2020-03-09 02:01:46,363 Parameters: domain_right_edge         = [1.5450e+19 3.8625e+19 5.0000e-01]\n",
      "yt : [INFO     ] 2020-03-09 02:01:46,365 Parameters: cosmological_simulation   = 0.0\n"
     ]
    },
    {
     "name": "stdout",
     "output_type": "stream",
     "text": [
      "mixing_layer.out1.00426\n"
     ]
    },
    {
     "name": "stderr",
     "output_type": "stream",
     "text": [
      "yt : [WARNING  ] 2020-03-09 02:01:46,391 Assuming 1.0 = 1.0 cm\n",
      "yt : [WARNING  ] 2020-03-09 02:01:46,392 Assuming 1.0 = 1.0 s\n",
      "yt : [WARNING  ] 2020-03-09 02:01:46,393 Assuming 1.0 = 1.0 g\n",
      "yt : [WARNING  ] 2020-03-09 02:01:46,394 Assuming 1.0 = 1.0 K\n",
      "yt : [INFO     ] 2020-03-09 02:01:46,408 Parameters: current_time              = 804470519883625.1\n",
      "yt : [INFO     ] 2020-03-09 02:01:46,408 Parameters: domain_dimensions         = [256 640   1]\n",
      "yt : [INFO     ] 2020-03-09 02:01:46,409 Parameters: domain_left_edge          = [-1.5450e+19 -3.8625e+19 -5.0000e-01]\n",
      "yt : [INFO     ] 2020-03-09 02:01:46,410 Parameters: domain_right_edge         = [1.5450e+19 3.8625e+19 5.0000e-01]\n",
      "yt : [INFO     ] 2020-03-09 02:01:46,411 Parameters: cosmological_simulation   = 0.0\n"
     ]
    },
    {
     "name": "stdout",
     "output_type": "stream",
     "text": [
      "mixing_layer.out1.00427\n"
     ]
    },
    {
     "name": "stderr",
     "output_type": "stream",
     "text": [
      "yt : [WARNING  ] 2020-03-09 02:01:46,438 Assuming 1.0 = 1.0 cm\n",
      "yt : [WARNING  ] 2020-03-09 02:01:46,439 Assuming 1.0 = 1.0 s\n",
      "yt : [WARNING  ] 2020-03-09 02:01:46,440 Assuming 1.0 = 1.0 g\n",
      "yt : [WARNING  ] 2020-03-09 02:01:46,441 Assuming 1.0 = 1.0 K\n",
      "yt : [INFO     ] 2020-03-09 02:01:46,453 Parameters: current_time              = 806354750097808.5\n",
      "yt : [INFO     ] 2020-03-09 02:01:46,453 Parameters: domain_dimensions         = [256 640   1]\n",
      "yt : [INFO     ] 2020-03-09 02:01:46,454 Parameters: domain_left_edge          = [-1.5450e+19 -3.8625e+19 -5.0000e-01]\n",
      "yt : [INFO     ] 2020-03-09 02:01:46,455 Parameters: domain_right_edge         = [1.5450e+19 3.8625e+19 5.0000e-01]\n",
      "yt : [INFO     ] 2020-03-09 02:01:46,456 Parameters: cosmological_simulation   = 0.0\n"
     ]
    },
    {
     "name": "stdout",
     "output_type": "stream",
     "text": [
      "mixing_layer.out1.00428\n"
     ]
    },
    {
     "name": "stderr",
     "output_type": "stream",
     "text": [
      "yt : [WARNING  ] 2020-03-09 02:01:46,488 Assuming 1.0 = 1.0 cm\n",
      "yt : [WARNING  ] 2020-03-09 02:01:46,489 Assuming 1.0 = 1.0 s\n",
      "yt : [WARNING  ] 2020-03-09 02:01:46,490 Assuming 1.0 = 1.0 g\n",
      "yt : [WARNING  ] 2020-03-09 02:01:46,491 Assuming 1.0 = 1.0 K\n",
      "yt : [INFO     ] 2020-03-09 02:01:46,503 Parameters: current_time              = 808236060628730.6\n",
      "yt : [INFO     ] 2020-03-09 02:01:46,504 Parameters: domain_dimensions         = [256 640   1]\n",
      "yt : [INFO     ] 2020-03-09 02:01:46,504 Parameters: domain_left_edge          = [-1.5450e+19 -3.8625e+19 -5.0000e-01]\n",
      "yt : [INFO     ] 2020-03-09 02:01:46,506 Parameters: domain_right_edge         = [1.5450e+19 3.8625e+19 5.0000e-01]\n",
      "yt : [INFO     ] 2020-03-09 02:01:46,507 Parameters: cosmological_simulation   = 0.0\n"
     ]
    },
    {
     "name": "stdout",
     "output_type": "stream",
     "text": [
      "mixing_layer.out1.00429\n"
     ]
    },
    {
     "name": "stderr",
     "output_type": "stream",
     "text": [
      "yt : [WARNING  ] 2020-03-09 02:01:46,534 Assuming 1.0 = 1.0 cm\n",
      "yt : [WARNING  ] 2020-03-09 02:01:46,535 Assuming 1.0 = 1.0 s\n",
      "yt : [WARNING  ] 2020-03-09 02:01:46,536 Assuming 1.0 = 1.0 g\n",
      "yt : [WARNING  ] 2020-03-09 02:01:46,537 Assuming 1.0 = 1.0 K\n",
      "yt : [INFO     ] 2020-03-09 02:01:46,548 Parameters: current_time              = 810122085186460.1\n",
      "yt : [INFO     ] 2020-03-09 02:01:46,549 Parameters: domain_dimensions         = [256 640   1]\n",
      "yt : [INFO     ] 2020-03-09 02:01:46,550 Parameters: domain_left_edge          = [-1.5450e+19 -3.8625e+19 -5.0000e-01]\n",
      "yt : [INFO     ] 2020-03-09 02:01:46,551 Parameters: domain_right_edge         = [1.5450e+19 3.8625e+19 5.0000e-01]\n",
      "yt : [INFO     ] 2020-03-09 02:01:46,552 Parameters: cosmological_simulation   = 0.0\n"
     ]
    },
    {
     "name": "stdout",
     "output_type": "stream",
     "text": [
      "mixing_layer.out1.00430\n"
     ]
    },
    {
     "name": "stderr",
     "output_type": "stream",
     "text": [
      "yt : [WARNING  ] 2020-03-09 02:01:46,578 Assuming 1.0 = 1.0 cm\n",
      "yt : [WARNING  ] 2020-03-09 02:01:46,579 Assuming 1.0 = 1.0 s\n",
      "yt : [WARNING  ] 2020-03-09 02:01:46,580 Assuming 1.0 = 1.0 g\n",
      "yt : [WARNING  ] 2020-03-09 02:01:46,582 Assuming 1.0 = 1.0 K\n",
      "yt : [INFO     ] 2020-03-09 02:01:46,593 Parameters: current_time              = 812006632193738.6\n",
      "yt : [INFO     ] 2020-03-09 02:01:46,594 Parameters: domain_dimensions         = [256 640   1]\n",
      "yt : [INFO     ] 2020-03-09 02:01:46,595 Parameters: domain_left_edge          = [-1.5450e+19 -3.8625e+19 -5.0000e-01]\n",
      "yt : [INFO     ] 2020-03-09 02:01:46,595 Parameters: domain_right_edge         = [1.5450e+19 3.8625e+19 5.0000e-01]\n",
      "yt : [INFO     ] 2020-03-09 02:01:46,596 Parameters: cosmological_simulation   = 0.0\n"
     ]
    },
    {
     "name": "stdout",
     "output_type": "stream",
     "text": [
      "mixing_layer.out1.00431\n"
     ]
    },
    {
     "name": "stderr",
     "output_type": "stream",
     "text": [
      "yt : [WARNING  ] 2020-03-09 02:01:46,625 Assuming 1.0 = 1.0 cm\n",
      "yt : [WARNING  ] 2020-03-09 02:01:46,626 Assuming 1.0 = 1.0 s\n",
      "yt : [WARNING  ] 2020-03-09 02:01:46,628 Assuming 1.0 = 1.0 g\n",
      "yt : [WARNING  ] 2020-03-09 02:01:46,629 Assuming 1.0 = 1.0 K\n",
      "yt : [INFO     ] 2020-03-09 02:01:46,641 Parameters: current_time              = 813889953531395.0\n",
      "yt : [INFO     ] 2020-03-09 02:01:46,642 Parameters: domain_dimensions         = [256 640   1]\n",
      "yt : [INFO     ] 2020-03-09 02:01:46,643 Parameters: domain_left_edge          = [-1.5450e+19 -3.8625e+19 -5.0000e-01]\n",
      "yt : [INFO     ] 2020-03-09 02:01:46,643 Parameters: domain_right_edge         = [1.5450e+19 3.8625e+19 5.0000e-01]\n",
      "yt : [INFO     ] 2020-03-09 02:01:46,645 Parameters: cosmological_simulation   = 0.0\n"
     ]
    },
    {
     "name": "stdout",
     "output_type": "stream",
     "text": [
      "mixing_layer.out1.00432\n"
     ]
    },
    {
     "name": "stderr",
     "output_type": "stream",
     "text": [
      "yt : [WARNING  ] 2020-03-09 02:01:46,671 Assuming 1.0 = 1.0 cm\n",
      "yt : [WARNING  ] 2020-03-09 02:01:46,672 Assuming 1.0 = 1.0 s\n",
      "yt : [WARNING  ] 2020-03-09 02:01:46,673 Assuming 1.0 = 1.0 g\n",
      "yt : [WARNING  ] 2020-03-09 02:01:46,674 Assuming 1.0 = 1.0 K\n",
      "yt : [INFO     ] 2020-03-09 02:01:46,686 Parameters: current_time              = 815772509211629.6\n",
      "yt : [INFO     ] 2020-03-09 02:01:46,687 Parameters: domain_dimensions         = [256 640   1]\n",
      "yt : [INFO     ] 2020-03-09 02:01:46,687 Parameters: domain_left_edge          = [-1.5450e+19 -3.8625e+19 -5.0000e-01]\n",
      "yt : [INFO     ] 2020-03-09 02:01:46,689 Parameters: domain_right_edge         = [1.5450e+19 3.8625e+19 5.0000e-01]\n",
      "yt : [INFO     ] 2020-03-09 02:01:46,689 Parameters: cosmological_simulation   = 0.0\n"
     ]
    },
    {
     "name": "stdout",
     "output_type": "stream",
     "text": [
      "mixing_layer.out1.00433\n"
     ]
    },
    {
     "name": "stderr",
     "output_type": "stream",
     "text": [
      "yt : [WARNING  ] 2020-03-09 02:01:46,717 Assuming 1.0 = 1.0 cm\n",
      "yt : [WARNING  ] 2020-03-09 02:01:46,719 Assuming 1.0 = 1.0 s\n",
      "yt : [WARNING  ] 2020-03-09 02:01:46,720 Assuming 1.0 = 1.0 g\n",
      "yt : [WARNING  ] 2020-03-09 02:01:46,721 Assuming 1.0 = 1.0 K\n",
      "yt : [INFO     ] 2020-03-09 02:01:46,733 Parameters: current_time              = 817656202994142.0\n",
      "yt : [INFO     ] 2020-03-09 02:01:46,734 Parameters: domain_dimensions         = [256 640   1]\n",
      "yt : [INFO     ] 2020-03-09 02:01:46,734 Parameters: domain_left_edge          = [-1.5450e+19 -3.8625e+19 -5.0000e-01]\n",
      "yt : [INFO     ] 2020-03-09 02:01:46,735 Parameters: domain_right_edge         = [1.5450e+19 3.8625e+19 5.0000e-01]\n",
      "yt : [INFO     ] 2020-03-09 02:01:46,736 Parameters: cosmological_simulation   = 0.0\n"
     ]
    },
    {
     "name": "stdout",
     "output_type": "stream",
     "text": [
      "mixing_layer.out1.00434\n"
     ]
    },
    {
     "name": "stderr",
     "output_type": "stream",
     "text": [
      "yt : [WARNING  ] 2020-03-09 02:01:46,762 Assuming 1.0 = 1.0 cm\n",
      "yt : [WARNING  ] 2020-03-09 02:01:46,764 Assuming 1.0 = 1.0 s\n",
      "yt : [WARNING  ] 2020-03-09 02:01:46,765 Assuming 1.0 = 1.0 g\n",
      "yt : [WARNING  ] 2020-03-09 02:01:46,766 Assuming 1.0 = 1.0 K\n",
      "yt : [INFO     ] 2020-03-09 02:01:46,779 Parameters: current_time              = 819542214986122.1\n",
      "yt : [INFO     ] 2020-03-09 02:01:46,779 Parameters: domain_dimensions         = [256 640   1]\n",
      "yt : [INFO     ] 2020-03-09 02:01:46,780 Parameters: domain_left_edge          = [-1.5450e+19 -3.8625e+19 -5.0000e-01]\n",
      "yt : [INFO     ] 2020-03-09 02:01:46,781 Parameters: domain_right_edge         = [1.5450e+19 3.8625e+19 5.0000e-01]\n",
      "yt : [INFO     ] 2020-03-09 02:01:46,782 Parameters: cosmological_simulation   = 0.0\n"
     ]
    },
    {
     "name": "stdout",
     "output_type": "stream",
     "text": [
      "mixing_layer.out1.00435\n"
     ]
    },
    {
     "name": "stderr",
     "output_type": "stream",
     "text": [
      "yt : [WARNING  ] 2020-03-09 02:01:46,818 Assuming 1.0 = 1.0 cm\n",
      "yt : [WARNING  ] 2020-03-09 02:01:46,819 Assuming 1.0 = 1.0 s\n",
      "yt : [WARNING  ] 2020-03-09 02:01:46,820 Assuming 1.0 = 1.0 g\n",
      "yt : [WARNING  ] 2020-03-09 02:01:46,821 Assuming 1.0 = 1.0 K\n",
      "yt : [INFO     ] 2020-03-09 02:01:46,833 Parameters: current_time              = 821426265637914.2\n",
      "yt : [INFO     ] 2020-03-09 02:01:46,834 Parameters: domain_dimensions         = [256 640   1]\n",
      "yt : [INFO     ] 2020-03-09 02:01:46,835 Parameters: domain_left_edge          = [-1.5450e+19 -3.8625e+19 -5.0000e-01]\n",
      "yt : [INFO     ] 2020-03-09 02:01:46,836 Parameters: domain_right_edge         = [1.5450e+19 3.8625e+19 5.0000e-01]\n",
      "yt : [INFO     ] 2020-03-09 02:01:46,837 Parameters: cosmological_simulation   = 0.0\n"
     ]
    },
    {
     "name": "stdout",
     "output_type": "stream",
     "text": [
      "mixing_layer.out1.00436\n"
     ]
    },
    {
     "name": "stderr",
     "output_type": "stream",
     "text": [
      "yt : [WARNING  ] 2020-03-09 02:01:46,863 Assuming 1.0 = 1.0 cm\n",
      "yt : [WARNING  ] 2020-03-09 02:01:46,864 Assuming 1.0 = 1.0 s\n",
      "yt : [WARNING  ] 2020-03-09 02:01:46,865 Assuming 1.0 = 1.0 g\n",
      "yt : [WARNING  ] 2020-03-09 02:01:46,866 Assuming 1.0 = 1.0 K\n",
      "yt : [INFO     ] 2020-03-09 02:01:46,878 Parameters: current_time              = 823309468285054.5\n",
      "yt : [INFO     ] 2020-03-09 02:01:46,878 Parameters: domain_dimensions         = [256 640   1]\n",
      "yt : [INFO     ] 2020-03-09 02:01:46,879 Parameters: domain_left_edge          = [-1.5450e+19 -3.8625e+19 -5.0000e-01]\n",
      "yt : [INFO     ] 2020-03-09 02:01:46,880 Parameters: domain_right_edge         = [1.5450e+19 3.8625e+19 5.0000e-01]\n",
      "yt : [INFO     ] 2020-03-09 02:01:46,881 Parameters: cosmological_simulation   = 0.0\n"
     ]
    },
    {
     "name": "stdout",
     "output_type": "stream",
     "text": [
      "mixing_layer.out1.00437\n"
     ]
    },
    {
     "name": "stderr",
     "output_type": "stream",
     "text": [
      "yt : [WARNING  ] 2020-03-09 02:01:46,910 Assuming 1.0 = 1.0 cm\n",
      "yt : [WARNING  ] 2020-03-09 02:01:46,912 Assuming 1.0 = 1.0 s\n",
      "yt : [WARNING  ] 2020-03-09 02:01:46,912 Assuming 1.0 = 1.0 g\n",
      "yt : [WARNING  ] 2020-03-09 02:01:46,913 Assuming 1.0 = 1.0 K\n",
      "yt : [INFO     ] 2020-03-09 02:01:46,926 Parameters: current_time              = 825193164167678.2\n",
      "yt : [INFO     ] 2020-03-09 02:01:46,927 Parameters: domain_dimensions         = [256 640   1]\n",
      "yt : [INFO     ] 2020-03-09 02:01:46,928 Parameters: domain_left_edge          = [-1.5450e+19 -3.8625e+19 -5.0000e-01]\n",
      "yt : [INFO     ] 2020-03-09 02:01:46,930 Parameters: domain_right_edge         = [1.5450e+19 3.8625e+19 5.0000e-01]\n",
      "yt : [INFO     ] 2020-03-09 02:01:46,931 Parameters: cosmological_simulation   = 0.0\n"
     ]
    },
    {
     "name": "stdout",
     "output_type": "stream",
     "text": [
      "mixing_layer.out1.00438\n"
     ]
    },
    {
     "name": "stderr",
     "output_type": "stream",
     "text": [
      "yt : [WARNING  ] 2020-03-09 02:01:46,961 Assuming 1.0 = 1.0 cm\n",
      "yt : [WARNING  ] 2020-03-09 02:01:46,962 Assuming 1.0 = 1.0 s\n",
      "yt : [WARNING  ] 2020-03-09 02:01:46,963 Assuming 1.0 = 1.0 g\n",
      "yt : [WARNING  ] 2020-03-09 02:01:46,964 Assuming 1.0 = 1.0 K\n",
      "yt : [INFO     ] 2020-03-09 02:01:46,976 Parameters: current_time              = 827077937197418.0\n",
      "yt : [INFO     ] 2020-03-09 02:01:46,977 Parameters: domain_dimensions         = [256 640   1]\n",
      "yt : [INFO     ] 2020-03-09 02:01:46,978 Parameters: domain_left_edge          = [-1.5450e+19 -3.8625e+19 -5.0000e-01]\n",
      "yt : [INFO     ] 2020-03-09 02:01:46,979 Parameters: domain_right_edge         = [1.5450e+19 3.8625e+19 5.0000e-01]\n",
      "yt : [INFO     ] 2020-03-09 02:01:46,980 Parameters: cosmological_simulation   = 0.0\n"
     ]
    },
    {
     "name": "stdout",
     "output_type": "stream",
     "text": [
      "mixing_layer.out1.00439\n"
     ]
    },
    {
     "name": "stderr",
     "output_type": "stream",
     "text": [
      "yt : [WARNING  ] 2020-03-09 02:01:47,008 Assuming 1.0 = 1.0 cm\n",
      "yt : [WARNING  ] 2020-03-09 02:01:47,009 Assuming 1.0 = 1.0 s\n",
      "yt : [WARNING  ] 2020-03-09 02:01:47,010 Assuming 1.0 = 1.0 g\n",
      "yt : [WARNING  ] 2020-03-09 02:01:47,011 Assuming 1.0 = 1.0 K\n",
      "yt : [INFO     ] 2020-03-09 02:01:47,024 Parameters: current_time              = 828960292065711.0\n",
      "yt : [INFO     ] 2020-03-09 02:01:47,026 Parameters: domain_dimensions         = [256 640   1]\n",
      "yt : [INFO     ] 2020-03-09 02:01:47,027 Parameters: domain_left_edge          = [-1.5450e+19 -3.8625e+19 -5.0000e-01]\n",
      "yt : [INFO     ] 2020-03-09 02:01:47,027 Parameters: domain_right_edge         = [1.5450e+19 3.8625e+19 5.0000e-01]\n",
      "yt : [INFO     ] 2020-03-09 02:01:47,028 Parameters: cosmological_simulation   = 0.0\n"
     ]
    },
    {
     "name": "stdout",
     "output_type": "stream",
     "text": [
      "mixing_layer.out1.00440\n"
     ]
    },
    {
     "name": "stderr",
     "output_type": "stream",
     "text": [
      "yt : [WARNING  ] 2020-03-09 02:01:47,055 Assuming 1.0 = 1.0 cm\n",
      "yt : [WARNING  ] 2020-03-09 02:01:47,056 Assuming 1.0 = 1.0 s\n",
      "yt : [WARNING  ] 2020-03-09 02:01:47,057 Assuming 1.0 = 1.0 g\n",
      "yt : [WARNING  ] 2020-03-09 02:01:47,058 Assuming 1.0 = 1.0 K\n",
      "yt : [INFO     ] 2020-03-09 02:01:47,070 Parameters: current_time              = 830844255080382.2\n",
      "yt : [INFO     ] 2020-03-09 02:01:47,071 Parameters: domain_dimensions         = [256 640   1]\n",
      "yt : [INFO     ] 2020-03-09 02:01:47,071 Parameters: domain_left_edge          = [-1.5450e+19 -3.8625e+19 -5.0000e-01]\n",
      "yt : [INFO     ] 2020-03-09 02:01:47,072 Parameters: domain_right_edge         = [1.5450e+19 3.8625e+19 5.0000e-01]\n",
      "yt : [INFO     ] 2020-03-09 02:01:47,073 Parameters: cosmological_simulation   = 0.0\n"
     ]
    },
    {
     "name": "stdout",
     "output_type": "stream",
     "text": [
      "mixing_layer.out1.00441\n"
     ]
    },
    {
     "name": "stderr",
     "output_type": "stream",
     "text": [
      "yt : [WARNING  ] 2020-03-09 02:01:47,103 Assuming 1.0 = 1.0 cm\n",
      "yt : [WARNING  ] 2020-03-09 02:01:47,104 Assuming 1.0 = 1.0 s\n",
      "yt : [WARNING  ] 2020-03-09 02:01:47,106 Assuming 1.0 = 1.0 g\n",
      "yt : [WARNING  ] 2020-03-09 02:01:47,106 Assuming 1.0 = 1.0 K\n",
      "yt : [INFO     ] 2020-03-09 02:01:47,119 Parameters: current_time              = 832728046800113.0\n",
      "yt : [INFO     ] 2020-03-09 02:01:47,120 Parameters: domain_dimensions         = [256 640   1]\n",
      "yt : [INFO     ] 2020-03-09 02:01:47,121 Parameters: domain_left_edge          = [-1.5450e+19 -3.8625e+19 -5.0000e-01]\n",
      "yt : [INFO     ] 2020-03-09 02:01:47,121 Parameters: domain_right_edge         = [1.5450e+19 3.8625e+19 5.0000e-01]\n",
      "yt : [INFO     ] 2020-03-09 02:01:47,122 Parameters: cosmological_simulation   = 0.0\n"
     ]
    },
    {
     "name": "stdout",
     "output_type": "stream",
     "text": [
      "mixing_layer.out1.00442\n"
     ]
    },
    {
     "name": "stderr",
     "output_type": "stream",
     "text": [
      "yt : [WARNING  ] 2020-03-09 02:01:47,150 Assuming 1.0 = 1.0 cm\n",
      "yt : [WARNING  ] 2020-03-09 02:01:47,151 Assuming 1.0 = 1.0 s\n",
      "yt : [WARNING  ] 2020-03-09 02:01:47,152 Assuming 1.0 = 1.0 g\n",
      "yt : [WARNING  ] 2020-03-09 02:01:47,153 Assuming 1.0 = 1.0 K\n",
      "yt : [INFO     ] 2020-03-09 02:01:47,165 Parameters: current_time              = 834612410499742.9\n",
      "yt : [INFO     ] 2020-03-09 02:01:47,165 Parameters: domain_dimensions         = [256 640   1]\n",
      "yt : [INFO     ] 2020-03-09 02:01:47,166 Parameters: domain_left_edge          = [-1.5450e+19 -3.8625e+19 -5.0000e-01]\n",
      "yt : [INFO     ] 2020-03-09 02:01:47,168 Parameters: domain_right_edge         = [1.5450e+19 3.8625e+19 5.0000e-01]\n",
      "yt : [INFO     ] 2020-03-09 02:01:47,169 Parameters: cosmological_simulation   = 0.0\n"
     ]
    },
    {
     "name": "stdout",
     "output_type": "stream",
     "text": [
      "mixing_layer.out1.00443\n"
     ]
    },
    {
     "name": "stderr",
     "output_type": "stream",
     "text": [
      "yt : [WARNING  ] 2020-03-09 02:01:47,196 Assuming 1.0 = 1.0 cm\n",
      "yt : [WARNING  ] 2020-03-09 02:01:47,197 Assuming 1.0 = 1.0 s\n",
      "yt : [WARNING  ] 2020-03-09 02:01:47,198 Assuming 1.0 = 1.0 g\n",
      "yt : [WARNING  ] 2020-03-09 02:01:47,199 Assuming 1.0 = 1.0 K\n",
      "yt : [INFO     ] 2020-03-09 02:01:47,211 Parameters: current_time              = 836496671711466.9\n",
      "yt : [INFO     ] 2020-03-09 02:01:47,212 Parameters: domain_dimensions         = [256 640   1]\n",
      "yt : [INFO     ] 2020-03-09 02:01:47,212 Parameters: domain_left_edge          = [-1.5450e+19 -3.8625e+19 -5.0000e-01]\n",
      "yt : [INFO     ] 2020-03-09 02:01:47,213 Parameters: domain_right_edge         = [1.5450e+19 3.8625e+19 5.0000e-01]\n",
      "yt : [INFO     ] 2020-03-09 02:01:47,214 Parameters: cosmological_simulation   = 0.0\n"
     ]
    },
    {
     "name": "stdout",
     "output_type": "stream",
     "text": [
      "mixing_layer.out1.00444\n"
     ]
    },
    {
     "name": "stderr",
     "output_type": "stream",
     "text": [
      "yt : [WARNING  ] 2020-03-09 02:01:47,241 Assuming 1.0 = 1.0 cm\n",
      "yt : [WARNING  ] 2020-03-09 02:01:47,242 Assuming 1.0 = 1.0 s\n",
      "yt : [WARNING  ] 2020-03-09 02:01:47,243 Assuming 1.0 = 1.0 g\n",
      "yt : [WARNING  ] 2020-03-09 02:01:47,244 Assuming 1.0 = 1.0 K\n",
      "yt : [INFO     ] 2020-03-09 02:01:47,256 Parameters: current_time              = 838382599740417.9\n",
      "yt : [INFO     ] 2020-03-09 02:01:47,257 Parameters: domain_dimensions         = [256 640   1]\n",
      "yt : [INFO     ] 2020-03-09 02:01:47,258 Parameters: domain_left_edge          = [-1.5450e+19 -3.8625e+19 -5.0000e-01]\n",
      "yt : [INFO     ] 2020-03-09 02:01:47,259 Parameters: domain_right_edge         = [1.5450e+19 3.8625e+19 5.0000e-01]\n",
      "yt : [INFO     ] 2020-03-09 02:01:47,260 Parameters: cosmological_simulation   = 0.0\n"
     ]
    },
    {
     "name": "stdout",
     "output_type": "stream",
     "text": [
      "mixing_layer.out1.00445\n"
     ]
    },
    {
     "name": "stderr",
     "output_type": "stream",
     "text": [
      "yt : [WARNING  ] 2020-03-09 02:01:47,289 Assuming 1.0 = 1.0 cm\n",
      "yt : [WARNING  ] 2020-03-09 02:01:47,290 Assuming 1.0 = 1.0 s\n",
      "yt : [WARNING  ] 2020-03-09 02:01:47,291 Assuming 1.0 = 1.0 g\n",
      "yt : [WARNING  ] 2020-03-09 02:01:47,292 Assuming 1.0 = 1.0 K\n",
      "yt : [INFO     ] 2020-03-09 02:01:47,303 Parameters: current_time              = 840264069152103.4\n",
      "yt : [INFO     ] 2020-03-09 02:01:47,304 Parameters: domain_dimensions         = [256 640   1]\n",
      "yt : [INFO     ] 2020-03-09 02:01:47,305 Parameters: domain_left_edge          = [-1.5450e+19 -3.8625e+19 -5.0000e-01]\n",
      "yt : [INFO     ] 2020-03-09 02:01:47,306 Parameters: domain_right_edge         = [1.5450e+19 3.8625e+19 5.0000e-01]\n",
      "yt : [INFO     ] 2020-03-09 02:01:47,307 Parameters: cosmological_simulation   = 0.0\n"
     ]
    },
    {
     "name": "stdout",
     "output_type": "stream",
     "text": [
      "mixing_layer.out1.00446\n"
     ]
    },
    {
     "name": "stderr",
     "output_type": "stream",
     "text": [
      "yt : [WARNING  ] 2020-03-09 02:01:47,333 Assuming 1.0 = 1.0 cm\n",
      "yt : [WARNING  ] 2020-03-09 02:01:47,335 Assuming 1.0 = 1.0 s\n",
      "yt : [WARNING  ] 2020-03-09 02:01:47,336 Assuming 1.0 = 1.0 g\n",
      "yt : [WARNING  ] 2020-03-09 02:01:47,337 Assuming 1.0 = 1.0 K\n",
      "yt : [INFO     ] 2020-03-09 02:01:47,349 Parameters: current_time              = 842148895979469.1\n",
      "yt : [INFO     ] 2020-03-09 02:01:47,350 Parameters: domain_dimensions         = [256 640   1]\n",
      "yt : [INFO     ] 2020-03-09 02:01:47,351 Parameters: domain_left_edge          = [-1.5450e+19 -3.8625e+19 -5.0000e-01]\n",
      "yt : [INFO     ] 2020-03-09 02:01:47,352 Parameters: domain_right_edge         = [1.5450e+19 3.8625e+19 5.0000e-01]\n",
      "yt : [INFO     ] 2020-03-09 02:01:47,352 Parameters: cosmological_simulation   = 0.0\n"
     ]
    },
    {
     "name": "stdout",
     "output_type": "stream",
     "text": [
      "mixing_layer.out1.00447\n"
     ]
    },
    {
     "name": "stderr",
     "output_type": "stream",
     "text": [
      "yt : [WARNING  ] 2020-03-09 02:01:47,379 Assuming 1.0 = 1.0 cm\n",
      "yt : [WARNING  ] 2020-03-09 02:01:47,381 Assuming 1.0 = 1.0 s\n",
      "yt : [WARNING  ] 2020-03-09 02:01:47,381 Assuming 1.0 = 1.0 g\n",
      "yt : [WARNING  ] 2020-03-09 02:01:47,382 Assuming 1.0 = 1.0 K\n",
      "yt : [INFO     ] 2020-03-09 02:01:47,394 Parameters: current_time              = 844032543072340.4\n",
      "yt : [INFO     ] 2020-03-09 02:01:47,395 Parameters: domain_dimensions         = [256 640   1]\n",
      "yt : [INFO     ] 2020-03-09 02:01:47,396 Parameters: domain_left_edge          = [-1.5450e+19 -3.8625e+19 -5.0000e-01]\n",
      "yt : [INFO     ] 2020-03-09 02:01:47,397 Parameters: domain_right_edge         = [1.5450e+19 3.8625e+19 5.0000e-01]\n",
      "yt : [INFO     ] 2020-03-09 02:01:47,397 Parameters: cosmological_simulation   = 0.0\n"
     ]
    },
    {
     "name": "stdout",
     "output_type": "stream",
     "text": [
      "mixing_layer.out1.00448\n"
     ]
    },
    {
     "name": "stderr",
     "output_type": "stream",
     "text": [
      "yt : [WARNING  ] 2020-03-09 02:01:47,424 Assuming 1.0 = 1.0 cm\n",
      "yt : [WARNING  ] 2020-03-09 02:01:47,426 Assuming 1.0 = 1.0 s\n",
      "yt : [WARNING  ] 2020-03-09 02:01:47,426 Assuming 1.0 = 1.0 g\n",
      "yt : [WARNING  ] 2020-03-09 02:01:47,427 Assuming 1.0 = 1.0 K\n",
      "yt : [INFO     ] 2020-03-09 02:01:47,440 Parameters: current_time              = 845917042010472.6\n",
      "yt : [INFO     ] 2020-03-09 02:01:47,441 Parameters: domain_dimensions         = [256 640   1]\n",
      "yt : [INFO     ] 2020-03-09 02:01:47,441 Parameters: domain_left_edge          = [-1.5450e+19 -3.8625e+19 -5.0000e-01]\n",
      "yt : [INFO     ] 2020-03-09 02:01:47,442 Parameters: domain_right_edge         = [1.5450e+19 3.8625e+19 5.0000e-01]\n",
      "yt : [INFO     ] 2020-03-09 02:01:47,443 Parameters: cosmological_simulation   = 0.0\n"
     ]
    },
    {
     "name": "stdout",
     "output_type": "stream",
     "text": [
      "mixing_layer.out1.00449\n"
     ]
    },
    {
     "name": "stderr",
     "output_type": "stream",
     "text": [
      "yt : [WARNING  ] 2020-03-09 02:01:47,473 Assuming 1.0 = 1.0 cm\n",
      "yt : [WARNING  ] 2020-03-09 02:01:47,474 Assuming 1.0 = 1.0 s\n",
      "yt : [WARNING  ] 2020-03-09 02:01:47,475 Assuming 1.0 = 1.0 g\n",
      "yt : [WARNING  ] 2020-03-09 02:01:47,477 Assuming 1.0 = 1.0 K\n",
      "yt : [INFO     ] 2020-03-09 02:01:47,490 Parameters: current_time              = 847801380733876.8\n",
      "yt : [INFO     ] 2020-03-09 02:01:47,490 Parameters: domain_dimensions         = [256 640   1]\n",
      "yt : [INFO     ] 2020-03-09 02:01:47,491 Parameters: domain_left_edge          = [-1.5450e+19 -3.8625e+19 -5.0000e-01]\n",
      "yt : [INFO     ] 2020-03-09 02:01:47,492 Parameters: domain_right_edge         = [1.5450e+19 3.8625e+19 5.0000e-01]\n",
      "yt : [INFO     ] 2020-03-09 02:01:47,493 Parameters: cosmological_simulation   = 0.0\n"
     ]
    },
    {
     "name": "stdout",
     "output_type": "stream",
     "text": [
      "mixing_layer.out1.00450\n"
     ]
    },
    {
     "name": "stderr",
     "output_type": "stream",
     "text": [
      "yt : [WARNING  ] 2020-03-09 02:01:47,522 Assuming 1.0 = 1.0 cm\n",
      "yt : [WARNING  ] 2020-03-09 02:01:47,523 Assuming 1.0 = 1.0 s\n",
      "yt : [WARNING  ] 2020-03-09 02:01:47,524 Assuming 1.0 = 1.0 g\n",
      "yt : [WARNING  ] 2020-03-09 02:01:47,524 Assuming 1.0 = 1.0 K\n",
      "yt : [INFO     ] 2020-03-09 02:01:47,537 Parameters: current_time              = 849685203627842.4\n",
      "yt : [INFO     ] 2020-03-09 02:01:47,538 Parameters: domain_dimensions         = [256 640   1]\n",
      "yt : [INFO     ] 2020-03-09 02:01:47,538 Parameters: domain_left_edge          = [-1.5450e+19 -3.8625e+19 -5.0000e-01]\n",
      "yt : [INFO     ] 2020-03-09 02:01:47,539 Parameters: domain_right_edge         = [1.5450e+19 3.8625e+19 5.0000e-01]\n",
      "yt : [INFO     ] 2020-03-09 02:01:47,540 Parameters: cosmological_simulation   = 0.0\n"
     ]
    },
    {
     "name": "stdout",
     "output_type": "stream",
     "text": [
      "mixing_layer.out1.00451\n"
     ]
    },
    {
     "name": "stderr",
     "output_type": "stream",
     "text": [
      "yt : [WARNING  ] 2020-03-09 02:01:47,567 Assuming 1.0 = 1.0 cm\n",
      "yt : [WARNING  ] 2020-03-09 02:01:47,568 Assuming 1.0 = 1.0 s\n",
      "yt : [WARNING  ] 2020-03-09 02:01:47,570 Assuming 1.0 = 1.0 g\n",
      "yt : [WARNING  ] 2020-03-09 02:01:47,571 Assuming 1.0 = 1.0 K\n",
      "yt : [INFO     ] 2020-03-09 02:01:47,583 Parameters: current_time              = 851569279206057.2\n",
      "yt : [INFO     ] 2020-03-09 02:01:47,584 Parameters: domain_dimensions         = [256 640   1]\n",
      "yt : [INFO     ] 2020-03-09 02:01:47,585 Parameters: domain_left_edge          = [-1.5450e+19 -3.8625e+19 -5.0000e-01]\n",
      "yt : [INFO     ] 2020-03-09 02:01:47,586 Parameters: domain_right_edge         = [1.5450e+19 3.8625e+19 5.0000e-01]\n",
      "yt : [INFO     ] 2020-03-09 02:01:47,587 Parameters: cosmological_simulation   = 0.0\n"
     ]
    },
    {
     "name": "stdout",
     "output_type": "stream",
     "text": [
      "mixing_layer.out1.00452\n"
     ]
    },
    {
     "name": "stderr",
     "output_type": "stream",
     "text": [
      "yt : [WARNING  ] 2020-03-09 02:01:47,615 Assuming 1.0 = 1.0 cm\n",
      "yt : [WARNING  ] 2020-03-09 02:01:47,616 Assuming 1.0 = 1.0 s\n",
      "yt : [WARNING  ] 2020-03-09 02:01:47,617 Assuming 1.0 = 1.0 g\n",
      "yt : [WARNING  ] 2020-03-09 02:01:47,619 Assuming 1.0 = 1.0 K\n",
      "yt : [INFO     ] 2020-03-09 02:01:47,632 Parameters: current_time              = 853452747209321.6\n",
      "yt : [INFO     ] 2020-03-09 02:01:47,633 Parameters: domain_dimensions         = [256 640   1]\n",
      "yt : [INFO     ] 2020-03-09 02:01:47,633 Parameters: domain_left_edge          = [-1.5450e+19 -3.8625e+19 -5.0000e-01]\n",
      "yt : [INFO     ] 2020-03-09 02:01:47,634 Parameters: domain_right_edge         = [1.5450e+19 3.8625e+19 5.0000e-01]\n",
      "yt : [INFO     ] 2020-03-09 02:01:47,636 Parameters: cosmological_simulation   = 0.0\n"
     ]
    },
    {
     "name": "stdout",
     "output_type": "stream",
     "text": [
      "mixing_layer.out1.00453\n"
     ]
    },
    {
     "name": "stderr",
     "output_type": "stream",
     "text": [
      "yt : [WARNING  ] 2020-03-09 02:01:47,664 Assuming 1.0 = 1.0 cm\n",
      "yt : [WARNING  ] 2020-03-09 02:01:47,665 Assuming 1.0 = 1.0 s\n",
      "yt : [WARNING  ] 2020-03-09 02:01:47,666 Assuming 1.0 = 1.0 g\n",
      "yt : [WARNING  ] 2020-03-09 02:01:47,667 Assuming 1.0 = 1.0 K\n",
      "yt : [INFO     ] 2020-03-09 02:01:47,679 Parameters: current_time              = 855336989280547.9\n",
      "yt : [INFO     ] 2020-03-09 02:01:47,679 Parameters: domain_dimensions         = [256 640   1]\n",
      "yt : [INFO     ] 2020-03-09 02:01:47,680 Parameters: domain_left_edge          = [-1.5450e+19 -3.8625e+19 -5.0000e-01]\n",
      "yt : [INFO     ] 2020-03-09 02:01:47,681 Parameters: domain_right_edge         = [1.5450e+19 3.8625e+19 5.0000e-01]\n",
      "yt : [INFO     ] 2020-03-09 02:01:47,682 Parameters: cosmological_simulation   = 0.0\n"
     ]
    },
    {
     "name": "stdout",
     "output_type": "stream",
     "text": [
      "mixing_layer.out1.00454\n"
     ]
    },
    {
     "name": "stderr",
     "output_type": "stream",
     "text": [
      "yt : [WARNING  ] 2020-03-09 02:01:47,711 Assuming 1.0 = 1.0 cm\n",
      "yt : [WARNING  ] 2020-03-09 02:01:47,712 Assuming 1.0 = 1.0 s\n",
      "yt : [WARNING  ] 2020-03-09 02:01:47,713 Assuming 1.0 = 1.0 g\n",
      "yt : [WARNING  ] 2020-03-09 02:01:47,713 Assuming 1.0 = 1.0 K\n",
      "yt : [INFO     ] 2020-03-09 02:01:47,741 Parameters: current_time              = 857220373004967.8\n",
      "yt : [INFO     ] 2020-03-09 02:01:47,742 Parameters: domain_dimensions         = [256 640   1]\n",
      "yt : [INFO     ] 2020-03-09 02:01:47,743 Parameters: domain_left_edge          = [-1.5450e+19 -3.8625e+19 -5.0000e-01]\n",
      "yt : [INFO     ] 2020-03-09 02:01:47,745 Parameters: domain_right_edge         = [1.5450e+19 3.8625e+19 5.0000e-01]\n",
      "yt : [INFO     ] 2020-03-09 02:01:47,746 Parameters: cosmological_simulation   = 0.0\n"
     ]
    },
    {
     "name": "stdout",
     "output_type": "stream",
     "text": [
      "mixing_layer.out1.00455\n"
     ]
    },
    {
     "name": "stderr",
     "output_type": "stream",
     "text": [
      "yt : [WARNING  ] 2020-03-09 02:01:47,776 Assuming 1.0 = 1.0 cm\n",
      "yt : [WARNING  ] 2020-03-09 02:01:47,778 Assuming 1.0 = 1.0 s\n",
      "yt : [WARNING  ] 2020-03-09 02:01:47,779 Assuming 1.0 = 1.0 g\n",
      "yt : [WARNING  ] 2020-03-09 02:01:47,780 Assuming 1.0 = 1.0 K\n",
      "yt : [INFO     ] 2020-03-09 02:01:47,797 Parameters: current_time              = 859104465604424.6\n",
      "yt : [INFO     ] 2020-03-09 02:01:47,798 Parameters: domain_dimensions         = [256 640   1]\n",
      "yt : [INFO     ] 2020-03-09 02:01:47,799 Parameters: domain_left_edge          = [-1.5450e+19 -3.8625e+19 -5.0000e-01]\n",
      "yt : [INFO     ] 2020-03-09 02:01:47,800 Parameters: domain_right_edge         = [1.5450e+19 3.8625e+19 5.0000e-01]\n",
      "yt : [INFO     ] 2020-03-09 02:01:47,801 Parameters: cosmological_simulation   = 0.0\n"
     ]
    },
    {
     "name": "stdout",
     "output_type": "stream",
     "text": [
      "mixing_layer.out1.00456\n"
     ]
    },
    {
     "name": "stderr",
     "output_type": "stream",
     "text": [
      "yt : [WARNING  ] 2020-03-09 02:01:47,833 Assuming 1.0 = 1.0 cm\n",
      "yt : [WARNING  ] 2020-03-09 02:01:47,834 Assuming 1.0 = 1.0 s\n",
      "yt : [WARNING  ] 2020-03-09 02:01:47,835 Assuming 1.0 = 1.0 g\n",
      "yt : [WARNING  ] 2020-03-09 02:01:47,836 Assuming 1.0 = 1.0 K\n",
      "yt : [INFO     ] 2020-03-09 02:01:47,848 Parameters: current_time              = 860989748475187.2\n",
      "yt : [INFO     ] 2020-03-09 02:01:47,849 Parameters: domain_dimensions         = [256 640   1]\n",
      "yt : [INFO     ] 2020-03-09 02:01:47,849 Parameters: domain_left_edge          = [-1.5450e+19 -3.8625e+19 -5.0000e-01]\n",
      "yt : [INFO     ] 2020-03-09 02:01:47,851 Parameters: domain_right_edge         = [1.5450e+19 3.8625e+19 5.0000e-01]\n",
      "yt : [INFO     ] 2020-03-09 02:01:47,852 Parameters: cosmological_simulation   = 0.0\n"
     ]
    },
    {
     "name": "stdout",
     "output_type": "stream",
     "text": [
      "mixing_layer.out1.00457\n"
     ]
    },
    {
     "name": "stderr",
     "output_type": "stream",
     "text": [
      "yt : [WARNING  ] 2020-03-09 02:01:47,881 Assuming 1.0 = 1.0 cm\n",
      "yt : [WARNING  ] 2020-03-09 02:01:47,883 Assuming 1.0 = 1.0 s\n",
      "yt : [WARNING  ] 2020-03-09 02:01:47,884 Assuming 1.0 = 1.0 g\n",
      "yt : [WARNING  ] 2020-03-09 02:01:47,885 Assuming 1.0 = 1.0 K\n",
      "yt : [INFO     ] 2020-03-09 02:01:47,899 Parameters: current_time              = 862874360043676.5\n",
      "yt : [INFO     ] 2020-03-09 02:01:47,899 Parameters: domain_dimensions         = [256 640   1]\n",
      "yt : [INFO     ] 2020-03-09 02:01:47,900 Parameters: domain_left_edge          = [-1.5450e+19 -3.8625e+19 -5.0000e-01]\n",
      "yt : [INFO     ] 2020-03-09 02:01:47,902 Parameters: domain_right_edge         = [1.5450e+19 3.8625e+19 5.0000e-01]\n",
      "yt : [INFO     ] 2020-03-09 02:01:47,903 Parameters: cosmological_simulation   = 0.0\n"
     ]
    },
    {
     "name": "stdout",
     "output_type": "stream",
     "text": [
      "mixing_layer.out1.00458\n"
     ]
    },
    {
     "name": "stderr",
     "output_type": "stream",
     "text": [
      "yt : [WARNING  ] 2020-03-09 02:01:47,936 Assuming 1.0 = 1.0 cm\n",
      "yt : [WARNING  ] 2020-03-09 02:01:47,937 Assuming 1.0 = 1.0 s\n",
      "yt : [WARNING  ] 2020-03-09 02:01:47,938 Assuming 1.0 = 1.0 g\n",
      "yt : [WARNING  ] 2020-03-09 02:01:47,939 Assuming 1.0 = 1.0 K\n",
      "yt : [INFO     ] 2020-03-09 02:01:47,952 Parameters: current_time              = 864756085283933.9\n",
      "yt : [INFO     ] 2020-03-09 02:01:47,953 Parameters: domain_dimensions         = [256 640   1]\n",
      "yt : [INFO     ] 2020-03-09 02:01:47,954 Parameters: domain_left_edge          = [-1.5450e+19 -3.8625e+19 -5.0000e-01]\n",
      "yt : [INFO     ] 2020-03-09 02:01:47,955 Parameters: domain_right_edge         = [1.5450e+19 3.8625e+19 5.0000e-01]\n",
      "yt : [INFO     ] 2020-03-09 02:01:47,956 Parameters: cosmological_simulation   = 0.0\n"
     ]
    },
    {
     "name": "stdout",
     "output_type": "stream",
     "text": [
      "mixing_layer.out1.00459\n"
     ]
    },
    {
     "name": "stderr",
     "output_type": "stream",
     "text": [
      "yt : [WARNING  ] 2020-03-09 02:01:47,987 Assuming 1.0 = 1.0 cm\n",
      "yt : [WARNING  ] 2020-03-09 02:01:47,989 Assuming 1.0 = 1.0 s\n",
      "yt : [WARNING  ] 2020-03-09 02:01:47,990 Assuming 1.0 = 1.0 g\n",
      "yt : [WARNING  ] 2020-03-09 02:01:47,991 Assuming 1.0 = 1.0 K\n",
      "yt : [INFO     ] 2020-03-09 02:01:48,007 Parameters: current_time              = 866642528650220.9\n",
      "yt : [INFO     ] 2020-03-09 02:01:48,008 Parameters: domain_dimensions         = [256 640   1]\n",
      "yt : [INFO     ] 2020-03-09 02:01:48,008 Parameters: domain_left_edge          = [-1.5450e+19 -3.8625e+19 -5.0000e-01]\n",
      "yt : [INFO     ] 2020-03-09 02:01:48,009 Parameters: domain_right_edge         = [1.5450e+19 3.8625e+19 5.0000e-01]\n",
      "yt : [INFO     ] 2020-03-09 02:01:48,010 Parameters: cosmological_simulation   = 0.0\n"
     ]
    },
    {
     "name": "stdout",
     "output_type": "stream",
     "text": [
      "mixing_layer.out1.00460\n"
     ]
    },
    {
     "name": "stderr",
     "output_type": "stream",
     "text": [
      "yt : [WARNING  ] 2020-03-09 02:01:48,038 Assuming 1.0 = 1.0 cm\n",
      "yt : [WARNING  ] 2020-03-09 02:01:48,040 Assuming 1.0 = 1.0 s\n",
      "yt : [WARNING  ] 2020-03-09 02:01:48,041 Assuming 1.0 = 1.0 g\n",
      "yt : [WARNING  ] 2020-03-09 02:01:48,042 Assuming 1.0 = 1.0 K\n",
      "yt : [INFO     ] 2020-03-09 02:01:48,055 Parameters: current_time              = 868526689143617.0\n",
      "yt : [INFO     ] 2020-03-09 02:01:48,056 Parameters: domain_dimensions         = [256 640   1]\n",
      "yt : [INFO     ] 2020-03-09 02:01:48,057 Parameters: domain_left_edge          = [-1.5450e+19 -3.8625e+19 -5.0000e-01]\n",
      "yt : [INFO     ] 2020-03-09 02:01:48,058 Parameters: domain_right_edge         = [1.5450e+19 3.8625e+19 5.0000e-01]\n",
      "yt : [INFO     ] 2020-03-09 02:01:48,059 Parameters: cosmological_simulation   = 0.0\n"
     ]
    },
    {
     "name": "stdout",
     "output_type": "stream",
     "text": [
      "mixing_layer.out1.00461\n"
     ]
    },
    {
     "name": "stderr",
     "output_type": "stream",
     "text": [
      "yt : [WARNING  ] 2020-03-09 02:01:48,086 Assuming 1.0 = 1.0 cm\n",
      "yt : [WARNING  ] 2020-03-09 02:01:48,087 Assuming 1.0 = 1.0 s\n",
      "yt : [WARNING  ] 2020-03-09 02:01:48,088 Assuming 1.0 = 1.0 g\n",
      "yt : [WARNING  ] 2020-03-09 02:01:48,089 Assuming 1.0 = 1.0 K\n",
      "yt : [INFO     ] 2020-03-09 02:01:48,101 Parameters: current_time              = 870410727493110.5\n",
      "yt : [INFO     ] 2020-03-09 02:01:48,102 Parameters: domain_dimensions         = [256 640   1]\n",
      "yt : [INFO     ] 2020-03-09 02:01:48,103 Parameters: domain_left_edge          = [-1.5450e+19 -3.8625e+19 -5.0000e-01]\n",
      "yt : [INFO     ] 2020-03-09 02:01:48,104 Parameters: domain_right_edge         = [1.5450e+19 3.8625e+19 5.0000e-01]\n",
      "yt : [INFO     ] 2020-03-09 02:01:48,105 Parameters: cosmological_simulation   = 0.0\n"
     ]
    },
    {
     "name": "stdout",
     "output_type": "stream",
     "text": [
      "mixing_layer.out1.00462\n"
     ]
    },
    {
     "name": "stderr",
     "output_type": "stream",
     "text": [
      "yt : [WARNING  ] 2020-03-09 02:01:48,133 Assuming 1.0 = 1.0 cm\n",
      "yt : [WARNING  ] 2020-03-09 02:01:48,134 Assuming 1.0 = 1.0 s\n",
      "yt : [WARNING  ] 2020-03-09 02:01:48,135 Assuming 1.0 = 1.0 g\n",
      "yt : [WARNING  ] 2020-03-09 02:01:48,136 Assuming 1.0 = 1.0 K\n",
      "yt : [INFO     ] 2020-03-09 02:01:48,148 Parameters: current_time              = 872292263237820.0\n",
      "yt : [INFO     ] 2020-03-09 02:01:48,148 Parameters: domain_dimensions         = [256 640   1]\n",
      "yt : [INFO     ] 2020-03-09 02:01:48,149 Parameters: domain_left_edge          = [-1.5450e+19 -3.8625e+19 -5.0000e-01]\n",
      "yt : [INFO     ] 2020-03-09 02:01:48,150 Parameters: domain_right_edge         = [1.5450e+19 3.8625e+19 5.0000e-01]\n",
      "yt : [INFO     ] 2020-03-09 02:01:48,151 Parameters: cosmological_simulation   = 0.0\n"
     ]
    },
    {
     "name": "stdout",
     "output_type": "stream",
     "text": [
      "mixing_layer.out1.00463\n"
     ]
    },
    {
     "name": "stderr",
     "output_type": "stream",
     "text": [
      "yt : [WARNING  ] 2020-03-09 02:01:48,178 Assuming 1.0 = 1.0 cm\n",
      "yt : [WARNING  ] 2020-03-09 02:01:48,179 Assuming 1.0 = 1.0 s\n",
      "yt : [WARNING  ] 2020-03-09 02:01:48,180 Assuming 1.0 = 1.0 g\n",
      "yt : [WARNING  ] 2020-03-09 02:01:48,181 Assuming 1.0 = 1.0 K\n",
      "yt : [INFO     ] 2020-03-09 02:01:48,194 Parameters: current_time              = 874178711547188.1\n",
      "yt : [INFO     ] 2020-03-09 02:01:48,195 Parameters: domain_dimensions         = [256 640   1]\n",
      "yt : [INFO     ] 2020-03-09 02:01:48,196 Parameters: domain_left_edge          = [-1.5450e+19 -3.8625e+19 -5.0000e-01]\n",
      "yt : [INFO     ] 2020-03-09 02:01:48,196 Parameters: domain_right_edge         = [1.5450e+19 3.8625e+19 5.0000e-01]\n",
      "yt : [INFO     ] 2020-03-09 02:01:48,197 Parameters: cosmological_simulation   = 0.0\n"
     ]
    },
    {
     "name": "stdout",
     "output_type": "stream",
     "text": [
      "mixing_layer.out1.00464\n"
     ]
    },
    {
     "name": "stderr",
     "output_type": "stream",
     "text": [
      "yt : [WARNING  ] 2020-03-09 02:01:48,226 Assuming 1.0 = 1.0 cm\n",
      "yt : [WARNING  ] 2020-03-09 02:01:48,227 Assuming 1.0 = 1.0 s\n",
      "yt : [WARNING  ] 2020-03-09 02:01:48,228 Assuming 1.0 = 1.0 g\n",
      "yt : [WARNING  ] 2020-03-09 02:01:48,229 Assuming 1.0 = 1.0 K\n",
      "yt : [INFO     ] 2020-03-09 02:01:48,241 Parameters: current_time              = 876062587775606.0\n",
      "yt : [INFO     ] 2020-03-09 02:01:48,241 Parameters: domain_dimensions         = [256 640   1]\n",
      "yt : [INFO     ] 2020-03-09 02:01:48,242 Parameters: domain_left_edge          = [-1.5450e+19 -3.8625e+19 -5.0000e-01]\n",
      "yt : [INFO     ] 2020-03-09 02:01:48,243 Parameters: domain_right_edge         = [1.5450e+19 3.8625e+19 5.0000e-01]\n",
      "yt : [INFO     ] 2020-03-09 02:01:48,244 Parameters: cosmological_simulation   = 0.0\n"
     ]
    },
    {
     "name": "stdout",
     "output_type": "stream",
     "text": [
      "mixing_layer.out1.00465\n"
     ]
    },
    {
     "name": "stderr",
     "output_type": "stream",
     "text": [
      "yt : [WARNING  ] 2020-03-09 02:01:48,274 Assuming 1.0 = 1.0 cm\n",
      "yt : [WARNING  ] 2020-03-09 02:01:48,275 Assuming 1.0 = 1.0 s\n",
      "yt : [WARNING  ] 2020-03-09 02:01:48,276 Assuming 1.0 = 1.0 g\n",
      "yt : [WARNING  ] 2020-03-09 02:01:48,277 Assuming 1.0 = 1.0 K\n",
      "yt : [INFO     ] 2020-03-09 02:01:48,288 Parameters: current_time              = 877946639434057.9\n",
      "yt : [INFO     ] 2020-03-09 02:01:48,289 Parameters: domain_dimensions         = [256 640   1]\n",
      "yt : [INFO     ] 2020-03-09 02:01:48,290 Parameters: domain_left_edge          = [-1.5450e+19 -3.8625e+19 -5.0000e-01]\n",
      "yt : [INFO     ] 2020-03-09 02:01:48,291 Parameters: domain_right_edge         = [1.5450e+19 3.8625e+19 5.0000e-01]\n",
      "yt : [INFO     ] 2020-03-09 02:01:48,292 Parameters: cosmological_simulation   = 0.0\n"
     ]
    },
    {
     "name": "stdout",
     "output_type": "stream",
     "text": [
      "mixing_layer.out1.00466\n"
     ]
    },
    {
     "name": "stderr",
     "output_type": "stream",
     "text": [
      "yt : [WARNING  ] 2020-03-09 02:01:48,320 Assuming 1.0 = 1.0 cm\n",
      "yt : [WARNING  ] 2020-03-09 02:01:48,321 Assuming 1.0 = 1.0 s\n",
      "yt : [WARNING  ] 2020-03-09 02:01:48,323 Assuming 1.0 = 1.0 g\n",
      "yt : [WARNING  ] 2020-03-09 02:01:48,324 Assuming 1.0 = 1.0 K\n",
      "yt : [INFO     ] 2020-03-09 02:01:48,336 Parameters: current_time              = 879829090852136.5\n",
      "yt : [INFO     ] 2020-03-09 02:01:48,336 Parameters: domain_dimensions         = [256 640   1]\n",
      "yt : [INFO     ] 2020-03-09 02:01:48,337 Parameters: domain_left_edge          = [-1.5450e+19 -3.8625e+19 -5.0000e-01]\n",
      "yt : [INFO     ] 2020-03-09 02:01:48,338 Parameters: domain_right_edge         = [1.5450e+19 3.8625e+19 5.0000e-01]\n",
      "yt : [INFO     ] 2020-03-09 02:01:48,340 Parameters: cosmological_simulation   = 0.0\n"
     ]
    },
    {
     "name": "stdout",
     "output_type": "stream",
     "text": [
      "mixing_layer.out1.00467\n"
     ]
    },
    {
     "name": "stderr",
     "output_type": "stream",
     "text": [
      "yt : [WARNING  ] 2020-03-09 02:01:48,370 Assuming 1.0 = 1.0 cm\n",
      "yt : [WARNING  ] 2020-03-09 02:01:48,371 Assuming 1.0 = 1.0 s\n",
      "yt : [WARNING  ] 2020-03-09 02:01:48,373 Assuming 1.0 = 1.0 g\n",
      "yt : [WARNING  ] 2020-03-09 02:01:48,374 Assuming 1.0 = 1.0 K\n",
      "yt : [INFO     ] 2020-03-09 02:01:48,385 Parameters: current_time              = 881714530400470.2\n",
      "yt : [INFO     ] 2020-03-09 02:01:48,386 Parameters: domain_dimensions         = [256 640   1]\n",
      "yt : [INFO     ] 2020-03-09 02:01:48,386 Parameters: domain_left_edge          = [-1.5450e+19 -3.8625e+19 -5.0000e-01]\n",
      "yt : [INFO     ] 2020-03-09 02:01:48,387 Parameters: domain_right_edge         = [1.5450e+19 3.8625e+19 5.0000e-01]\n",
      "yt : [INFO     ] 2020-03-09 02:01:48,388 Parameters: cosmological_simulation   = 0.0\n"
     ]
    },
    {
     "name": "stdout",
     "output_type": "stream",
     "text": [
      "mixing_layer.out1.00468\n"
     ]
    },
    {
     "name": "stderr",
     "output_type": "stream",
     "text": [
      "yt : [WARNING  ] 2020-03-09 02:01:48,416 Assuming 1.0 = 1.0 cm\n",
      "yt : [WARNING  ] 2020-03-09 02:01:48,417 Assuming 1.0 = 1.0 s\n",
      "yt : [WARNING  ] 2020-03-09 02:01:48,418 Assuming 1.0 = 1.0 g\n",
      "yt : [WARNING  ] 2020-03-09 02:01:48,419 Assuming 1.0 = 1.0 K\n",
      "yt : [INFO     ] 2020-03-09 02:01:48,431 Parameters: current_time              = 883597827730937.9\n",
      "yt : [INFO     ] 2020-03-09 02:01:48,431 Parameters: domain_dimensions         = [256 640   1]\n",
      "yt : [INFO     ] 2020-03-09 02:01:48,432 Parameters: domain_left_edge          = [-1.5450e+19 -3.8625e+19 -5.0000e-01]\n",
      "yt : [INFO     ] 2020-03-09 02:01:48,433 Parameters: domain_right_edge         = [1.5450e+19 3.8625e+19 5.0000e-01]\n",
      "yt : [INFO     ] 2020-03-09 02:01:48,434 Parameters: cosmological_simulation   = 0.0\n"
     ]
    },
    {
     "name": "stdout",
     "output_type": "stream",
     "text": [
      "mixing_layer.out1.00469\n"
     ]
    },
    {
     "name": "stderr",
     "output_type": "stream",
     "text": [
      "yt : [WARNING  ] 2020-03-09 02:01:48,467 Assuming 1.0 = 1.0 cm\n",
      "yt : [WARNING  ] 2020-03-09 02:01:48,468 Assuming 1.0 = 1.0 s\n",
      "yt : [WARNING  ] 2020-03-09 02:01:48,469 Assuming 1.0 = 1.0 g\n",
      "yt : [WARNING  ] 2020-03-09 02:01:48,469 Assuming 1.0 = 1.0 K\n",
      "yt : [INFO     ] 2020-03-09 02:01:48,481 Parameters: current_time              = 885482262039044.6\n",
      "yt : [INFO     ] 2020-03-09 02:01:48,482 Parameters: domain_dimensions         = [256 640   1]\n",
      "yt : [INFO     ] 2020-03-09 02:01:48,483 Parameters: domain_left_edge          = [-1.5450e+19 -3.8625e+19 -5.0000e-01]\n",
      "yt : [INFO     ] 2020-03-09 02:01:48,484 Parameters: domain_right_edge         = [1.5450e+19 3.8625e+19 5.0000e-01]\n",
      "yt : [INFO     ] 2020-03-09 02:01:48,485 Parameters: cosmological_simulation   = 0.0\n"
     ]
    },
    {
     "name": "stdout",
     "output_type": "stream",
     "text": [
      "mixing_layer.out1.00470\n"
     ]
    },
    {
     "name": "stderr",
     "output_type": "stream",
     "text": [
      "yt : [WARNING  ] 2020-03-09 02:01:48,513 Assuming 1.0 = 1.0 cm\n",
      "yt : [WARNING  ] 2020-03-09 02:01:48,514 Assuming 1.0 = 1.0 s\n",
      "yt : [WARNING  ] 2020-03-09 02:01:48,515 Assuming 1.0 = 1.0 g\n",
      "yt : [WARNING  ] 2020-03-09 02:01:48,516 Assuming 1.0 = 1.0 K\n",
      "yt : [INFO     ] 2020-03-09 02:01:48,527 Parameters: current_time              = 887366727449827.6\n",
      "yt : [INFO     ] 2020-03-09 02:01:48,528 Parameters: domain_dimensions         = [256 640   1]\n",
      "yt : [INFO     ] 2020-03-09 02:01:48,529 Parameters: domain_left_edge          = [-1.5450e+19 -3.8625e+19 -5.0000e-01]\n",
      "yt : [INFO     ] 2020-03-09 02:01:48,529 Parameters: domain_right_edge         = [1.5450e+19 3.8625e+19 5.0000e-01]\n",
      "yt : [INFO     ] 2020-03-09 02:01:48,530 Parameters: cosmological_simulation   = 0.0\n"
     ]
    },
    {
     "name": "stdout",
     "output_type": "stream",
     "text": [
      "mixing_layer.out1.00471\n"
     ]
    },
    {
     "name": "stderr",
     "output_type": "stream",
     "text": [
      "yt : [WARNING  ] 2020-03-09 02:01:48,560 Assuming 1.0 = 1.0 cm\n",
      "yt : [WARNING  ] 2020-03-09 02:01:48,561 Assuming 1.0 = 1.0 s\n",
      "yt : [WARNING  ] 2020-03-09 02:01:48,562 Assuming 1.0 = 1.0 g\n",
      "yt : [WARNING  ] 2020-03-09 02:01:48,563 Assuming 1.0 = 1.0 K\n",
      "yt : [INFO     ] 2020-03-09 02:01:48,574 Parameters: current_time              = 889248428618216.9\n",
      "yt : [INFO     ] 2020-03-09 02:01:48,575 Parameters: domain_dimensions         = [256 640   1]\n",
      "yt : [INFO     ] 2020-03-09 02:01:48,576 Parameters: domain_left_edge          = [-1.5450e+19 -3.8625e+19 -5.0000e-01]\n",
      "yt : [INFO     ] 2020-03-09 02:01:48,577 Parameters: domain_right_edge         = [1.5450e+19 3.8625e+19 5.0000e-01]\n",
      "yt : [INFO     ] 2020-03-09 02:01:48,577 Parameters: cosmological_simulation   = 0.0\n"
     ]
    },
    {
     "name": "stdout",
     "output_type": "stream",
     "text": [
      "mixing_layer.out1.00472\n"
     ]
    },
    {
     "name": "stderr",
     "output_type": "stream",
     "text": [
      "yt : [WARNING  ] 2020-03-09 02:01:48,607 Assuming 1.0 = 1.0 cm\n",
      "yt : [WARNING  ] 2020-03-09 02:01:48,609 Assuming 1.0 = 1.0 s\n",
      "yt : [WARNING  ] 2020-03-09 02:01:48,610 Assuming 1.0 = 1.0 g\n",
      "yt : [WARNING  ] 2020-03-09 02:01:48,612 Assuming 1.0 = 1.0 K\n",
      "yt : [INFO     ] 2020-03-09 02:01:48,624 Parameters: current_time              = 891132424611992.2\n",
      "yt : [INFO     ] 2020-03-09 02:01:48,625 Parameters: domain_dimensions         = [256 640   1]\n",
      "yt : [INFO     ] 2020-03-09 02:01:48,626 Parameters: domain_left_edge          = [-1.5450e+19 -3.8625e+19 -5.0000e-01]\n",
      "yt : [INFO     ] 2020-03-09 02:01:48,627 Parameters: domain_right_edge         = [1.5450e+19 3.8625e+19 5.0000e-01]\n",
      "yt : [INFO     ] 2020-03-09 02:01:48,627 Parameters: cosmological_simulation   = 0.0\n"
     ]
    },
    {
     "name": "stdout",
     "output_type": "stream",
     "text": [
      "mixing_layer.out1.00473\n"
     ]
    },
    {
     "name": "stderr",
     "output_type": "stream",
     "text": [
      "yt : [WARNING  ] 2020-03-09 02:01:48,662 Assuming 1.0 = 1.0 cm\n",
      "yt : [WARNING  ] 2020-03-09 02:01:48,664 Assuming 1.0 = 1.0 s\n",
      "yt : [WARNING  ] 2020-03-09 02:01:48,665 Assuming 1.0 = 1.0 g\n",
      "yt : [WARNING  ] 2020-03-09 02:01:48,666 Assuming 1.0 = 1.0 K\n",
      "yt : [INFO     ] 2020-03-09 02:01:48,678 Parameters: current_time              = 893017361168008.1\n",
      "yt : [INFO     ] 2020-03-09 02:01:48,679 Parameters: domain_dimensions         = [256 640   1]\n",
      "yt : [INFO     ] 2020-03-09 02:01:48,680 Parameters: domain_left_edge          = [-1.5450e+19 -3.8625e+19 -5.0000e-01]\n",
      "yt : [INFO     ] 2020-03-09 02:01:48,681 Parameters: domain_right_edge         = [1.5450e+19 3.8625e+19 5.0000e-01]\n",
      "yt : [INFO     ] 2020-03-09 02:01:48,682 Parameters: cosmological_simulation   = 0.0\n"
     ]
    },
    {
     "name": "stdout",
     "output_type": "stream",
     "text": [
      "mixing_layer.out1.00474\n"
     ]
    },
    {
     "name": "stderr",
     "output_type": "stream",
     "text": [
      "yt : [WARNING  ] 2020-03-09 02:01:48,709 Assuming 1.0 = 1.0 cm\n",
      "yt : [WARNING  ] 2020-03-09 02:01:48,711 Assuming 1.0 = 1.0 s\n",
      "yt : [WARNING  ] 2020-03-09 02:01:48,711 Assuming 1.0 = 1.0 g\n",
      "yt : [WARNING  ] 2020-03-09 02:01:48,712 Assuming 1.0 = 1.0 K\n",
      "yt : [INFO     ] 2020-03-09 02:01:48,725 Parameters: current_time              = 894902555912414.5\n",
      "yt : [INFO     ] 2020-03-09 02:01:48,725 Parameters: domain_dimensions         = [256 640   1]\n",
      "yt : [INFO     ] 2020-03-09 02:01:48,726 Parameters: domain_left_edge          = [-1.5450e+19 -3.8625e+19 -5.0000e-01]\n",
      "yt : [INFO     ] 2020-03-09 02:01:48,727 Parameters: domain_right_edge         = [1.5450e+19 3.8625e+19 5.0000e-01]\n",
      "yt : [INFO     ] 2020-03-09 02:01:48,728 Parameters: cosmological_simulation   = 0.0\n"
     ]
    },
    {
     "name": "stdout",
     "output_type": "stream",
     "text": [
      "mixing_layer.out1.00475\n"
     ]
    },
    {
     "name": "stderr",
     "output_type": "stream",
     "text": [
      "yt : [WARNING  ] 2020-03-09 02:01:48,760 Assuming 1.0 = 1.0 cm\n",
      "yt : [WARNING  ] 2020-03-09 02:01:48,761 Assuming 1.0 = 1.0 s\n",
      "yt : [WARNING  ] 2020-03-09 02:01:48,761 Assuming 1.0 = 1.0 g\n",
      "yt : [WARNING  ] 2020-03-09 02:01:48,762 Assuming 1.0 = 1.0 K\n",
      "yt : [INFO     ] 2020-03-09 02:01:48,775 Parameters: current_time              = 896785261623126.9\n",
      "yt : [INFO     ] 2020-03-09 02:01:48,776 Parameters: domain_dimensions         = [256 640   1]\n",
      "yt : [INFO     ] 2020-03-09 02:01:48,777 Parameters: domain_left_edge          = [-1.5450e+19 -3.8625e+19 -5.0000e-01]\n",
      "yt : [INFO     ] 2020-03-09 02:01:48,778 Parameters: domain_right_edge         = [1.5450e+19 3.8625e+19 5.0000e-01]\n",
      "yt : [INFO     ] 2020-03-09 02:01:48,779 Parameters: cosmological_simulation   = 0.0\n"
     ]
    },
    {
     "name": "stdout",
     "output_type": "stream",
     "text": [
      "mixing_layer.out1.00476\n"
     ]
    },
    {
     "name": "stderr",
     "output_type": "stream",
     "text": [
      "yt : [WARNING  ] 2020-03-09 02:01:48,809 Assuming 1.0 = 1.0 cm\n",
      "yt : [WARNING  ] 2020-03-09 02:01:48,810 Assuming 1.0 = 1.0 s\n",
      "yt : [WARNING  ] 2020-03-09 02:01:48,811 Assuming 1.0 = 1.0 g\n",
      "yt : [WARNING  ] 2020-03-09 02:01:48,812 Assuming 1.0 = 1.0 K\n",
      "yt : [INFO     ] 2020-03-09 02:01:48,826 Parameters: current_time              = 898668779124034.8\n",
      "yt : [INFO     ] 2020-03-09 02:01:48,827 Parameters: domain_dimensions         = [256 640   1]\n",
      "yt : [INFO     ] 2020-03-09 02:01:48,828 Parameters: domain_left_edge          = [-1.5450e+19 -3.8625e+19 -5.0000e-01]\n",
      "yt : [INFO     ] 2020-03-09 02:01:48,828 Parameters: domain_right_edge         = [1.5450e+19 3.8625e+19 5.0000e-01]\n",
      "yt : [INFO     ] 2020-03-09 02:01:48,829 Parameters: cosmological_simulation   = 0.0\n"
     ]
    },
    {
     "name": "stdout",
     "output_type": "stream",
     "text": [
      "mixing_layer.out1.00477\n"
     ]
    },
    {
     "name": "stderr",
     "output_type": "stream",
     "text": [
      "yt : [WARNING  ] 2020-03-09 02:01:48,858 Assuming 1.0 = 1.0 cm\n",
      "yt : [WARNING  ] 2020-03-09 02:01:48,859 Assuming 1.0 = 1.0 s\n",
      "yt : [WARNING  ] 2020-03-09 02:01:48,860 Assuming 1.0 = 1.0 g\n",
      "yt : [WARNING  ] 2020-03-09 02:01:48,861 Assuming 1.0 = 1.0 K\n",
      "yt : [INFO     ] 2020-03-09 02:01:48,875 Parameters: current_time              = 900553637885098.0\n",
      "yt : [INFO     ] 2020-03-09 02:01:48,877 Parameters: domain_dimensions         = [256 640   1]\n",
      "yt : [INFO     ] 2020-03-09 02:01:48,877 Parameters: domain_left_edge          = [-1.5450e+19 -3.8625e+19 -5.0000e-01]\n",
      "yt : [INFO     ] 2020-03-09 02:01:48,878 Parameters: domain_right_edge         = [1.5450e+19 3.8625e+19 5.0000e-01]\n",
      "yt : [INFO     ] 2020-03-09 02:01:48,879 Parameters: cosmological_simulation   = 0.0\n"
     ]
    },
    {
     "name": "stdout",
     "output_type": "stream",
     "text": [
      "mixing_layer.out1.00478\n"
     ]
    },
    {
     "name": "stderr",
     "output_type": "stream",
     "text": [
      "yt : [WARNING  ] 2020-03-09 02:01:48,911 Assuming 1.0 = 1.0 cm\n",
      "yt : [WARNING  ] 2020-03-09 02:01:48,913 Assuming 1.0 = 1.0 s\n",
      "yt : [WARNING  ] 2020-03-09 02:01:48,914 Assuming 1.0 = 1.0 g\n",
      "yt : [WARNING  ] 2020-03-09 02:01:48,915 Assuming 1.0 = 1.0 K\n",
      "yt : [INFO     ] 2020-03-09 02:01:48,927 Parameters: current_time              = 902437714766666.9\n",
      "yt : [INFO     ] 2020-03-09 02:01:48,928 Parameters: domain_dimensions         = [256 640   1]\n",
      "yt : [INFO     ] 2020-03-09 02:01:48,929 Parameters: domain_left_edge          = [-1.5450e+19 -3.8625e+19 -5.0000e-01]\n",
      "yt : [INFO     ] 2020-03-09 02:01:48,930 Parameters: domain_right_edge         = [1.5450e+19 3.8625e+19 5.0000e-01]\n",
      "yt : [INFO     ] 2020-03-09 02:01:48,930 Parameters: cosmological_simulation   = 0.0\n"
     ]
    },
    {
     "name": "stdout",
     "output_type": "stream",
     "text": [
      "mixing_layer.out1.00479\n"
     ]
    },
    {
     "name": "stderr",
     "output_type": "stream",
     "text": [
      "yt : [WARNING  ] 2020-03-09 02:01:48,966 Assuming 1.0 = 1.0 cm\n",
      "yt : [WARNING  ] 2020-03-09 02:01:48,968 Assuming 1.0 = 1.0 s\n",
      "yt : [WARNING  ] 2020-03-09 02:01:48,969 Assuming 1.0 = 1.0 g\n",
      "yt : [WARNING  ] 2020-03-09 02:01:48,970 Assuming 1.0 = 1.0 K\n",
      "yt : [INFO     ] 2020-03-09 02:01:48,982 Parameters: current_time              = 904321332627788.6\n",
      "yt : [INFO     ] 2020-03-09 02:01:48,983 Parameters: domain_dimensions         = [256 640   1]\n",
      "yt : [INFO     ] 2020-03-09 02:01:48,984 Parameters: domain_left_edge          = [-1.5450e+19 -3.8625e+19 -5.0000e-01]\n",
      "yt : [INFO     ] 2020-03-09 02:01:48,985 Parameters: domain_right_edge         = [1.5450e+19 3.8625e+19 5.0000e-01]\n",
      "yt : [INFO     ] 2020-03-09 02:01:48,986 Parameters: cosmological_simulation   = 0.0\n"
     ]
    },
    {
     "name": "stdout",
     "output_type": "stream",
     "text": [
      "mixing_layer.out1.00480\n"
     ]
    },
    {
     "name": "stderr",
     "output_type": "stream",
     "text": [
      "yt : [WARNING  ] 2020-03-09 02:01:49,016 Assuming 1.0 = 1.0 cm\n",
      "yt : [WARNING  ] 2020-03-09 02:01:49,018 Assuming 1.0 = 1.0 s\n",
      "yt : [WARNING  ] 2020-03-09 02:01:49,019 Assuming 1.0 = 1.0 g\n",
      "yt : [WARNING  ] 2020-03-09 02:01:49,020 Assuming 1.0 = 1.0 K\n",
      "yt : [INFO     ] 2020-03-09 02:01:49,037 Parameters: current_time              = 906204007853149.1\n",
      "yt : [INFO     ] 2020-03-09 02:01:49,037 Parameters: domain_dimensions         = [256 640   1]\n",
      "yt : [INFO     ] 2020-03-09 02:01:49,038 Parameters: domain_left_edge          = [-1.5450e+19 -3.8625e+19 -5.0000e-01]\n",
      "yt : [INFO     ] 2020-03-09 02:01:49,039 Parameters: domain_right_edge         = [1.5450e+19 3.8625e+19 5.0000e-01]\n",
      "yt : [INFO     ] 2020-03-09 02:01:49,040 Parameters: cosmological_simulation   = 0.0\n"
     ]
    },
    {
     "name": "stdout",
     "output_type": "stream",
     "text": [
      "mixing_layer.out1.00481\n"
     ]
    },
    {
     "name": "stderr",
     "output_type": "stream",
     "text": [
      "yt : [WARNING  ] 2020-03-09 02:01:49,072 Assuming 1.0 = 1.0 cm\n",
      "yt : [WARNING  ] 2020-03-09 02:01:49,073 Assuming 1.0 = 1.0 s\n",
      "yt : [WARNING  ] 2020-03-09 02:01:49,075 Assuming 1.0 = 1.0 g\n",
      "yt : [WARNING  ] 2020-03-09 02:01:49,076 Assuming 1.0 = 1.0 K\n",
      "yt : [INFO     ] 2020-03-09 02:01:49,090 Parameters: current_time              = 908090060453546.9\n",
      "yt : [INFO     ] 2020-03-09 02:01:49,091 Parameters: domain_dimensions         = [256 640   1]\n",
      "yt : [INFO     ] 2020-03-09 02:01:49,092 Parameters: domain_left_edge          = [-1.5450e+19 -3.8625e+19 -5.0000e-01]\n",
      "yt : [INFO     ] 2020-03-09 02:01:49,093 Parameters: domain_right_edge         = [1.5450e+19 3.8625e+19 5.0000e-01]\n",
      "yt : [INFO     ] 2020-03-09 02:01:49,094 Parameters: cosmological_simulation   = 0.0\n"
     ]
    },
    {
     "name": "stdout",
     "output_type": "stream",
     "text": [
      "mixing_layer.out1.00482\n"
     ]
    },
    {
     "name": "stderr",
     "output_type": "stream",
     "text": [
      "yt : [WARNING  ] 2020-03-09 02:01:49,126 Assuming 1.0 = 1.0 cm\n",
      "yt : [WARNING  ] 2020-03-09 02:01:49,128 Assuming 1.0 = 1.0 s\n",
      "yt : [WARNING  ] 2020-03-09 02:01:49,129 Assuming 1.0 = 1.0 g\n",
      "yt : [WARNING  ] 2020-03-09 02:01:49,130 Assuming 1.0 = 1.0 K\n",
      "yt : [INFO     ] 2020-03-09 02:01:49,144 Parameters: current_time              = 909973861390879.6\n",
      "yt : [INFO     ] 2020-03-09 02:01:49,145 Parameters: domain_dimensions         = [256 640   1]\n",
      "yt : [INFO     ] 2020-03-09 02:01:49,146 Parameters: domain_left_edge          = [-1.5450e+19 -3.8625e+19 -5.0000e-01]\n",
      "yt : [INFO     ] 2020-03-09 02:01:49,147 Parameters: domain_right_edge         = [1.5450e+19 3.8625e+19 5.0000e-01]\n",
      "yt : [INFO     ] 2020-03-09 02:01:49,148 Parameters: cosmological_simulation   = 0.0\n"
     ]
    },
    {
     "name": "stdout",
     "output_type": "stream",
     "text": [
      "mixing_layer.out1.00483\n"
     ]
    },
    {
     "name": "stderr",
     "output_type": "stream",
     "text": [
      "yt : [WARNING  ] 2020-03-09 02:01:49,177 Assuming 1.0 = 1.0 cm\n",
      "yt : [WARNING  ] 2020-03-09 02:01:49,178 Assuming 1.0 = 1.0 s\n",
      "yt : [WARNING  ] 2020-03-09 02:01:49,179 Assuming 1.0 = 1.0 g\n",
      "yt : [WARNING  ] 2020-03-09 02:01:49,180 Assuming 1.0 = 1.0 K\n",
      "yt : [INFO     ] 2020-03-09 02:01:49,192 Parameters: current_time              = 911858380444870.1\n",
      "yt : [INFO     ] 2020-03-09 02:01:49,193 Parameters: domain_dimensions         = [256 640   1]\n",
      "yt : [INFO     ] 2020-03-09 02:01:49,194 Parameters: domain_left_edge          = [-1.5450e+19 -3.8625e+19 -5.0000e-01]\n",
      "yt : [INFO     ] 2020-03-09 02:01:49,195 Parameters: domain_right_edge         = [1.5450e+19 3.8625e+19 5.0000e-01]\n",
      "yt : [INFO     ] 2020-03-09 02:01:49,196 Parameters: cosmological_simulation   = 0.0\n"
     ]
    },
    {
     "name": "stdout",
     "output_type": "stream",
     "text": [
      "mixing_layer.out1.00484\n"
     ]
    },
    {
     "name": "stderr",
     "output_type": "stream",
     "text": [
      "yt : [WARNING  ] 2020-03-09 02:01:49,226 Assuming 1.0 = 1.0 cm\n",
      "yt : [WARNING  ] 2020-03-09 02:01:49,227 Assuming 1.0 = 1.0 s\n",
      "yt : [WARNING  ] 2020-03-09 02:01:49,227 Assuming 1.0 = 1.0 g\n",
      "yt : [WARNING  ] 2020-03-09 02:01:49,228 Assuming 1.0 = 1.0 K\n",
      "yt : [INFO     ] 2020-03-09 02:01:49,242 Parameters: current_time              = 913742185736612.2\n",
      "yt : [INFO     ] 2020-03-09 02:01:49,243 Parameters: domain_dimensions         = [256 640   1]\n",
      "yt : [INFO     ] 2020-03-09 02:01:49,244 Parameters: domain_left_edge          = [-1.5450e+19 -3.8625e+19 -5.0000e-01]\n",
      "yt : [INFO     ] 2020-03-09 02:01:49,245 Parameters: domain_right_edge         = [1.5450e+19 3.8625e+19 5.0000e-01]\n",
      "yt : [INFO     ] 2020-03-09 02:01:49,246 Parameters: cosmological_simulation   = 0.0\n"
     ]
    },
    {
     "name": "stdout",
     "output_type": "stream",
     "text": [
      "mixing_layer.out1.00485\n"
     ]
    },
    {
     "name": "stderr",
     "output_type": "stream",
     "text": [
      "yt : [WARNING  ] 2020-03-09 02:01:49,275 Assuming 1.0 = 1.0 cm\n",
      "yt : [WARNING  ] 2020-03-09 02:01:49,275 Assuming 1.0 = 1.0 s\n",
      "yt : [WARNING  ] 2020-03-09 02:01:49,276 Assuming 1.0 = 1.0 g\n",
      "yt : [WARNING  ] 2020-03-09 02:01:49,277 Assuming 1.0 = 1.0 K\n",
      "yt : [INFO     ] 2020-03-09 02:01:49,290 Parameters: current_time              = 915624225261854.9\n",
      "yt : [INFO     ] 2020-03-09 02:01:49,291 Parameters: domain_dimensions         = [256 640   1]\n",
      "yt : [INFO     ] 2020-03-09 02:01:49,292 Parameters: domain_left_edge          = [-1.5450e+19 -3.8625e+19 -5.0000e-01]\n",
      "yt : [INFO     ] 2020-03-09 02:01:49,293 Parameters: domain_right_edge         = [1.5450e+19 3.8625e+19 5.0000e-01]\n",
      "yt : [INFO     ] 2020-03-09 02:01:49,294 Parameters: cosmological_simulation   = 0.0\n"
     ]
    },
    {
     "name": "stdout",
     "output_type": "stream",
     "text": [
      "mixing_layer.out1.00486\n"
     ]
    },
    {
     "name": "stderr",
     "output_type": "stream",
     "text": [
      "yt : [WARNING  ] 2020-03-09 02:01:49,323 Assuming 1.0 = 1.0 cm\n",
      "yt : [WARNING  ] 2020-03-09 02:01:49,324 Assuming 1.0 = 1.0 s\n",
      "yt : [WARNING  ] 2020-03-09 02:01:49,325 Assuming 1.0 = 1.0 g\n",
      "yt : [WARNING  ] 2020-03-09 02:01:49,326 Assuming 1.0 = 1.0 K\n",
      "yt : [INFO     ] 2020-03-09 02:01:49,338 Parameters: current_time              = 917510474150420.8\n",
      "yt : [INFO     ] 2020-03-09 02:01:49,339 Parameters: domain_dimensions         = [256 640   1]\n",
      "yt : [INFO     ] 2020-03-09 02:01:49,340 Parameters: domain_left_edge          = [-1.5450e+19 -3.8625e+19 -5.0000e-01]\n",
      "yt : [INFO     ] 2020-03-09 02:01:49,342 Parameters: domain_right_edge         = [1.5450e+19 3.8625e+19 5.0000e-01]\n",
      "yt : [INFO     ] 2020-03-09 02:01:49,343 Parameters: cosmological_simulation   = 0.0\n"
     ]
    },
    {
     "name": "stdout",
     "output_type": "stream",
     "text": [
      "mixing_layer.out1.00487\n"
     ]
    },
    {
     "name": "stderr",
     "output_type": "stream",
     "text": [
      "yt : [WARNING  ] 2020-03-09 02:01:49,371 Assuming 1.0 = 1.0 cm\n",
      "yt : [WARNING  ] 2020-03-09 02:01:49,372 Assuming 1.0 = 1.0 s\n",
      "yt : [WARNING  ] 2020-03-09 02:01:49,373 Assuming 1.0 = 1.0 g\n",
      "yt : [WARNING  ] 2020-03-09 02:01:49,373 Assuming 1.0 = 1.0 K\n",
      "yt : [INFO     ] 2020-03-09 02:01:49,389 Parameters: current_time              = 919392428286052.9\n",
      "yt : [INFO     ] 2020-03-09 02:01:49,389 Parameters: domain_dimensions         = [256 640   1]\n",
      "yt : [INFO     ] 2020-03-09 02:01:49,390 Parameters: domain_left_edge          = [-1.5450e+19 -3.8625e+19 -5.0000e-01]\n",
      "yt : [INFO     ] 2020-03-09 02:01:49,391 Parameters: domain_right_edge         = [1.5450e+19 3.8625e+19 5.0000e-01]\n",
      "yt : [INFO     ] 2020-03-09 02:01:49,392 Parameters: cosmological_simulation   = 0.0\n"
     ]
    },
    {
     "name": "stdout",
     "output_type": "stream",
     "text": [
      "mixing_layer.out1.00488\n"
     ]
    },
    {
     "name": "stderr",
     "output_type": "stream",
     "text": [
      "yt : [WARNING  ] 2020-03-09 02:01:49,421 Assuming 1.0 = 1.0 cm\n",
      "yt : [WARNING  ] 2020-03-09 02:01:49,422 Assuming 1.0 = 1.0 s\n",
      "yt : [WARNING  ] 2020-03-09 02:01:49,423 Assuming 1.0 = 1.0 g\n",
      "yt : [WARNING  ] 2020-03-09 02:01:49,424 Assuming 1.0 = 1.0 K\n",
      "yt : [INFO     ] 2020-03-09 02:01:49,437 Parameters: current_time              = 921277581025725.8\n",
      "yt : [INFO     ] 2020-03-09 02:01:49,438 Parameters: domain_dimensions         = [256 640   1]\n",
      "yt : [INFO     ] 2020-03-09 02:01:49,439 Parameters: domain_left_edge          = [-1.5450e+19 -3.8625e+19 -5.0000e-01]\n",
      "yt : [INFO     ] 2020-03-09 02:01:49,439 Parameters: domain_right_edge         = [1.5450e+19 3.8625e+19 5.0000e-01]\n",
      "yt : [INFO     ] 2020-03-09 02:01:49,440 Parameters: cosmological_simulation   = 0.0\n"
     ]
    },
    {
     "name": "stdout",
     "output_type": "stream",
     "text": [
      "mixing_layer.out1.00489\n"
     ]
    },
    {
     "name": "stderr",
     "output_type": "stream",
     "text": [
      "yt : [WARNING  ] 2020-03-09 02:01:49,469 Assuming 1.0 = 1.0 cm\n",
      "yt : [WARNING  ] 2020-03-09 02:01:49,470 Assuming 1.0 = 1.0 s\n",
      "yt : [WARNING  ] 2020-03-09 02:01:49,471 Assuming 1.0 = 1.0 g\n",
      "yt : [WARNING  ] 2020-03-09 02:01:49,472 Assuming 1.0 = 1.0 K\n",
      "yt : [INFO     ] 2020-03-09 02:01:49,483 Parameters: current_time              = 923162032859709.5\n",
      "yt : [INFO     ] 2020-03-09 02:01:49,484 Parameters: domain_dimensions         = [256 640   1]\n",
      "yt : [INFO     ] 2020-03-09 02:01:49,485 Parameters: domain_left_edge          = [-1.5450e+19 -3.8625e+19 -5.0000e-01]\n",
      "yt : [INFO     ] 2020-03-09 02:01:49,486 Parameters: domain_right_edge         = [1.5450e+19 3.8625e+19 5.0000e-01]\n",
      "yt : [INFO     ] 2020-03-09 02:01:49,486 Parameters: cosmological_simulation   = 0.0\n"
     ]
    },
    {
     "name": "stdout",
     "output_type": "stream",
     "text": [
      "mixing_layer.out1.00490\n"
     ]
    },
    {
     "name": "stderr",
     "output_type": "stream",
     "text": [
      "yt : [WARNING  ] 2020-03-09 02:01:49,516 Assuming 1.0 = 1.0 cm\n",
      "yt : [WARNING  ] 2020-03-09 02:01:49,517 Assuming 1.0 = 1.0 s\n",
      "yt : [WARNING  ] 2020-03-09 02:01:49,518 Assuming 1.0 = 1.0 g\n",
      "yt : [WARNING  ] 2020-03-09 02:01:49,519 Assuming 1.0 = 1.0 K\n",
      "yt : [INFO     ] 2020-03-09 02:01:49,531 Parameters: current_time              = 925046684242935.2\n",
      "yt : [INFO     ] 2020-03-09 02:01:49,533 Parameters: domain_dimensions         = [256 640   1]\n",
      "yt : [INFO     ] 2020-03-09 02:01:49,534 Parameters: domain_left_edge          = [-1.5450e+19 -3.8625e+19 -5.0000e-01]\n",
      "yt : [INFO     ] 2020-03-09 02:01:49,535 Parameters: domain_right_edge         = [1.5450e+19 3.8625e+19 5.0000e-01]\n",
      "yt : [INFO     ] 2020-03-09 02:01:49,535 Parameters: cosmological_simulation   = 0.0\n"
     ]
    },
    {
     "name": "stdout",
     "output_type": "stream",
     "text": [
      "mixing_layer.out1.00491\n"
     ]
    },
    {
     "name": "stderr",
     "output_type": "stream",
     "text": [
      "yt : [WARNING  ] 2020-03-09 02:01:49,564 Assuming 1.0 = 1.0 cm\n",
      "yt : [WARNING  ] 2020-03-09 02:01:49,565 Assuming 1.0 = 1.0 s\n",
      "yt : [WARNING  ] 2020-03-09 02:01:49,566 Assuming 1.0 = 1.0 g\n",
      "yt : [WARNING  ] 2020-03-09 02:01:49,567 Assuming 1.0 = 1.0 K\n",
      "yt : [INFO     ] 2020-03-09 02:01:49,578 Parameters: current_time              = 926929634658434.8\n",
      "yt : [INFO     ] 2020-03-09 02:01:49,580 Parameters: domain_dimensions         = [256 640   1]\n",
      "yt : [INFO     ] 2020-03-09 02:01:49,581 Parameters: domain_left_edge          = [-1.5450e+19 -3.8625e+19 -5.0000e-01]\n",
      "yt : [INFO     ] 2020-03-09 02:01:49,583 Parameters: domain_right_edge         = [1.5450e+19 3.8625e+19 5.0000e-01]\n",
      "yt : [INFO     ] 2020-03-09 02:01:49,584 Parameters: cosmological_simulation   = 0.0\n"
     ]
    },
    {
     "name": "stdout",
     "output_type": "stream",
     "text": [
      "mixing_layer.out1.00492\n"
     ]
    },
    {
     "name": "stderr",
     "output_type": "stream",
     "text": [
      "yt : [WARNING  ] 2020-03-09 02:01:49,611 Assuming 1.0 = 1.0 cm\n",
      "yt : [WARNING  ] 2020-03-09 02:01:49,613 Assuming 1.0 = 1.0 s\n",
      "yt : [WARNING  ] 2020-03-09 02:01:49,614 Assuming 1.0 = 1.0 g\n",
      "yt : [WARNING  ] 2020-03-09 02:01:49,615 Assuming 1.0 = 1.0 K\n",
      "yt : [INFO     ] 2020-03-09 02:01:49,627 Parameters: current_time              = 928813903285573.5\n",
      "yt : [INFO     ] 2020-03-09 02:01:49,628 Parameters: domain_dimensions         = [256 640   1]\n",
      "yt : [INFO     ] 2020-03-09 02:01:49,629 Parameters: domain_left_edge          = [-1.5450e+19 -3.8625e+19 -5.0000e-01]\n",
      "yt : [INFO     ] 2020-03-09 02:01:49,629 Parameters: domain_right_edge         = [1.5450e+19 3.8625e+19 5.0000e-01]\n",
      "yt : [INFO     ] 2020-03-09 02:01:49,630 Parameters: cosmological_simulation   = 0.0\n"
     ]
    },
    {
     "name": "stdout",
     "output_type": "stream",
     "text": [
      "mixing_layer.out1.00493\n"
     ]
    },
    {
     "name": "stderr",
     "output_type": "stream",
     "text": [
      "yt : [WARNING  ] 2020-03-09 02:01:49,659 Assuming 1.0 = 1.0 cm\n",
      "yt : [WARNING  ] 2020-03-09 02:01:49,660 Assuming 1.0 = 1.0 s\n",
      "yt : [WARNING  ] 2020-03-09 02:01:49,661 Assuming 1.0 = 1.0 g\n",
      "yt : [WARNING  ] 2020-03-09 02:01:49,662 Assuming 1.0 = 1.0 K\n",
      "yt : [INFO     ] 2020-03-09 02:01:49,674 Parameters: current_time              = 930698376314044.8\n",
      "yt : [INFO     ] 2020-03-09 02:01:49,674 Parameters: domain_dimensions         = [256 640   1]\n",
      "yt : [INFO     ] 2020-03-09 02:01:49,675 Parameters: domain_left_edge          = [-1.5450e+19 -3.8625e+19 -5.0000e-01]\n",
      "yt : [INFO     ] 2020-03-09 02:01:49,676 Parameters: domain_right_edge         = [1.5450e+19 3.8625e+19 5.0000e-01]\n",
      "yt : [INFO     ] 2020-03-09 02:01:49,677 Parameters: cosmological_simulation   = 0.0\n"
     ]
    },
    {
     "name": "stdout",
     "output_type": "stream",
     "text": [
      "mixing_layer.out1.00494\n"
     ]
    },
    {
     "name": "stderr",
     "output_type": "stream",
     "text": [
      "yt : [WARNING  ] 2020-03-09 02:01:49,705 Assuming 1.0 = 1.0 cm\n",
      "yt : [WARNING  ] 2020-03-09 02:01:49,706 Assuming 1.0 = 1.0 s\n",
      "yt : [WARNING  ] 2020-03-09 02:01:49,707 Assuming 1.0 = 1.0 g\n",
      "yt : [WARNING  ] 2020-03-09 02:01:49,709 Assuming 1.0 = 1.0 K\n",
      "yt : [INFO     ] 2020-03-09 02:01:49,722 Parameters: current_time              = 932580239421157.4\n",
      "yt : [INFO     ] 2020-03-09 02:01:49,723 Parameters: domain_dimensions         = [256 640   1]\n",
      "yt : [INFO     ] 2020-03-09 02:01:49,723 Parameters: domain_left_edge          = [-1.5450e+19 -3.8625e+19 -5.0000e-01]\n",
      "yt : [INFO     ] 2020-03-09 02:01:49,724 Parameters: domain_right_edge         = [1.5450e+19 3.8625e+19 5.0000e-01]\n",
      "yt : [INFO     ] 2020-03-09 02:01:49,725 Parameters: cosmological_simulation   = 0.0\n"
     ]
    },
    {
     "name": "stdout",
     "output_type": "stream",
     "text": [
      "mixing_layer.out1.00495\n"
     ]
    },
    {
     "name": "stderr",
     "output_type": "stream",
     "text": [
      "yt : [WARNING  ] 2020-03-09 02:01:49,758 Assuming 1.0 = 1.0 cm\n",
      "yt : [WARNING  ] 2020-03-09 02:01:49,760 Assuming 1.0 = 1.0 s\n",
      "yt : [WARNING  ] 2020-03-09 02:01:49,761 Assuming 1.0 = 1.0 g\n",
      "yt : [WARNING  ] 2020-03-09 02:01:49,762 Assuming 1.0 = 1.0 K\n",
      "yt : [INFO     ] 2020-03-09 02:01:49,775 Parameters: current_time              = 934466237867535.4\n",
      "yt : [INFO     ] 2020-03-09 02:01:49,776 Parameters: domain_dimensions         = [256 640   1]\n",
      "yt : [INFO     ] 2020-03-09 02:01:49,777 Parameters: domain_left_edge          = [-1.5450e+19 -3.8625e+19 -5.0000e-01]\n",
      "yt : [INFO     ] 2020-03-09 02:01:49,778 Parameters: domain_right_edge         = [1.5450e+19 3.8625e+19 5.0000e-01]\n",
      "yt : [INFO     ] 2020-03-09 02:01:49,779 Parameters: cosmological_simulation   = 0.0\n"
     ]
    },
    {
     "name": "stdout",
     "output_type": "stream",
     "text": [
      "mixing_layer.out1.00496\n"
     ]
    },
    {
     "name": "stderr",
     "output_type": "stream",
     "text": [
      "yt : [WARNING  ] 2020-03-09 02:01:49,807 Assuming 1.0 = 1.0 cm\n",
      "yt : [WARNING  ] 2020-03-09 02:01:49,808 Assuming 1.0 = 1.0 s\n",
      "yt : [WARNING  ] 2020-03-09 02:01:49,809 Assuming 1.0 = 1.0 g\n",
      "yt : [WARNING  ] 2020-03-09 02:01:49,810 Assuming 1.0 = 1.0 K\n",
      "yt : [INFO     ] 2020-03-09 02:01:49,821 Parameters: current_time              = 936348368226640.5\n",
      "yt : [INFO     ] 2020-03-09 02:01:49,822 Parameters: domain_dimensions         = [256 640   1]\n",
      "yt : [INFO     ] 2020-03-09 02:01:49,823 Parameters: domain_left_edge          = [-1.5450e+19 -3.8625e+19 -5.0000e-01]\n",
      "yt : [INFO     ] 2020-03-09 02:01:49,824 Parameters: domain_right_edge         = [1.5450e+19 3.8625e+19 5.0000e-01]\n",
      "yt : [INFO     ] 2020-03-09 02:01:49,824 Parameters: cosmological_simulation   = 0.0\n"
     ]
    },
    {
     "name": "stdout",
     "output_type": "stream",
     "text": [
      "mixing_layer.out1.00497\n"
     ]
    },
    {
     "name": "stderr",
     "output_type": "stream",
     "text": [
      "yt : [WARNING  ] 2020-03-09 02:01:49,854 Assuming 1.0 = 1.0 cm\n",
      "yt : [WARNING  ] 2020-03-09 02:01:49,855 Assuming 1.0 = 1.0 s\n",
      "yt : [WARNING  ] 2020-03-09 02:01:49,857 Assuming 1.0 = 1.0 g\n",
      "yt : [WARNING  ] 2020-03-09 02:01:49,858 Assuming 1.0 = 1.0 K\n",
      "yt : [INFO     ] 2020-03-09 02:01:49,870 Parameters: current_time              = 938234882305100.0\n",
      "yt : [INFO     ] 2020-03-09 02:01:49,871 Parameters: domain_dimensions         = [256 640   1]\n",
      "yt : [INFO     ] 2020-03-09 02:01:49,872 Parameters: domain_left_edge          = [-1.5450e+19 -3.8625e+19 -5.0000e-01]\n",
      "yt : [INFO     ] 2020-03-09 02:01:49,873 Parameters: domain_right_edge         = [1.5450e+19 3.8625e+19 5.0000e-01]\n",
      "yt : [INFO     ] 2020-03-09 02:01:49,875 Parameters: cosmological_simulation   = 0.0\n"
     ]
    },
    {
     "name": "stdout",
     "output_type": "stream",
     "text": [
      "mixing_layer.out1.00498\n"
     ]
    },
    {
     "name": "stderr",
     "output_type": "stream",
     "text": [
      "yt : [WARNING  ] 2020-03-09 02:01:49,903 Assuming 1.0 = 1.0 cm\n",
      "yt : [WARNING  ] 2020-03-09 02:01:49,904 Assuming 1.0 = 1.0 s\n",
      "yt : [WARNING  ] 2020-03-09 02:01:49,905 Assuming 1.0 = 1.0 g\n",
      "yt : [WARNING  ] 2020-03-09 02:01:49,906 Assuming 1.0 = 1.0 K\n",
      "yt : [INFO     ] 2020-03-09 02:01:49,922 Parameters: current_time              = 940117183759368.9\n",
      "yt : [INFO     ] 2020-03-09 02:01:49,922 Parameters: domain_dimensions         = [256 640   1]\n",
      "yt : [INFO     ] 2020-03-09 02:01:49,923 Parameters: domain_left_edge          = [-1.5450e+19 -3.8625e+19 -5.0000e-01]\n",
      "yt : [INFO     ] 2020-03-09 02:01:49,924 Parameters: domain_right_edge         = [1.5450e+19 3.8625e+19 5.0000e-01]\n",
      "yt : [INFO     ] 2020-03-09 02:01:49,925 Parameters: cosmological_simulation   = 0.0\n"
     ]
    },
    {
     "name": "stdout",
     "output_type": "stream",
     "text": [
      "mixing_layer.out1.00499\n"
     ]
    },
    {
     "name": "stderr",
     "output_type": "stream",
     "text": [
      "yt : [WARNING  ] 2020-03-09 02:01:49,962 Assuming 1.0 = 1.0 cm\n",
      "yt : [WARNING  ] 2020-03-09 02:01:49,964 Assuming 1.0 = 1.0 s\n",
      "yt : [WARNING  ] 2020-03-09 02:01:49,966 Assuming 1.0 = 1.0 g\n",
      "yt : [WARNING  ] 2020-03-09 02:01:49,967 Assuming 1.0 = 1.0 K\n",
      "yt : [INFO     ] 2020-03-09 02:01:49,979 Parameters: current_time              = 942002720371204.9\n",
      "yt : [INFO     ] 2020-03-09 02:01:49,980 Parameters: domain_dimensions         = [256 640   1]\n",
      "yt : [INFO     ] 2020-03-09 02:01:49,981 Parameters: domain_left_edge          = [-1.5450e+19 -3.8625e+19 -5.0000e-01]\n",
      "yt : [INFO     ] 2020-03-09 02:01:49,982 Parameters: domain_right_edge         = [1.5450e+19 3.8625e+19 5.0000e-01]\n",
      "yt : [INFO     ] 2020-03-09 02:01:49,984 Parameters: cosmological_simulation   = 0.0\n"
     ]
    },
    {
     "name": "stdout",
     "output_type": "stream",
     "text": [
      "mixing_layer.out1.00500\n"
     ]
    },
    {
     "name": "stderr",
     "output_type": "stream",
     "text": [
      "yt : [WARNING  ] 2020-03-09 02:01:50,019 Assuming 1.0 = 1.0 cm\n",
      "yt : [WARNING  ] 2020-03-09 02:01:50,020 Assuming 1.0 = 1.0 s\n",
      "yt : [WARNING  ] 2020-03-09 02:01:50,021 Assuming 1.0 = 1.0 g\n",
      "yt : [WARNING  ] 2020-03-09 02:01:50,022 Assuming 1.0 = 1.0 K\n",
      "yt : [INFO     ] 2020-03-09 02:01:50,040 Parameters: current_time              = 943885077420593.0\n",
      "yt : [INFO     ] 2020-03-09 02:01:50,041 Parameters: domain_dimensions         = [256 640   1]\n",
      "yt : [INFO     ] 2020-03-09 02:01:50,042 Parameters: domain_left_edge          = [-1.5450e+19 -3.8625e+19 -5.0000e-01]\n",
      "yt : [INFO     ] 2020-03-09 02:01:50,043 Parameters: domain_right_edge         = [1.5450e+19 3.8625e+19 5.0000e-01]\n",
      "yt : [INFO     ] 2020-03-09 02:01:50,044 Parameters: cosmological_simulation   = 0.0\n"
     ]
    },
    {
     "name": "stdout",
     "output_type": "stream",
     "text": [
      "mixing_layer.out1.00501\n"
     ]
    },
    {
     "name": "stderr",
     "output_type": "stream",
     "text": [
      "yt : [WARNING  ] 2020-03-09 02:01:50,089 Assuming 1.0 = 1.0 cm\n",
      "yt : [WARNING  ] 2020-03-09 02:01:50,091 Assuming 1.0 = 1.0 s\n",
      "yt : [WARNING  ] 2020-03-09 02:01:50,092 Assuming 1.0 = 1.0 g\n",
      "yt : [WARNING  ] 2020-03-09 02:01:50,093 Assuming 1.0 = 1.0 K\n",
      "yt : [INFO     ] 2020-03-09 02:01:50,111 Parameters: current_time              = 945770918458042.9\n",
      "yt : [INFO     ] 2020-03-09 02:01:50,112 Parameters: domain_dimensions         = [256 640   1]\n",
      "yt : [INFO     ] 2020-03-09 02:01:50,113 Parameters: domain_left_edge          = [-1.5450e+19 -3.8625e+19 -5.0000e-01]\n",
      "yt : [INFO     ] 2020-03-09 02:01:50,115 Parameters: domain_right_edge         = [1.5450e+19 3.8625e+19 5.0000e-01]\n",
      "yt : [INFO     ] 2020-03-09 02:01:50,116 Parameters: cosmological_simulation   = 0.0\n"
     ]
    },
    {
     "name": "stdout",
     "output_type": "stream",
     "text": [
      "mixing_layer.out1.00502\n"
     ]
    },
    {
     "name": "stderr",
     "output_type": "stream",
     "text": [
      "yt : [WARNING  ] 2020-03-09 02:01:50,145 Assuming 1.0 = 1.0 cm\n",
      "yt : [WARNING  ] 2020-03-09 02:01:50,146 Assuming 1.0 = 1.0 s\n",
      "yt : [WARNING  ] 2020-03-09 02:01:50,148 Assuming 1.0 = 1.0 g\n",
      "yt : [WARNING  ] 2020-03-09 02:01:50,149 Assuming 1.0 = 1.0 K\n",
      "yt : [INFO     ] 2020-03-09 02:01:50,163 Parameters: current_time              = 947653373341501.5\n",
      "yt : [INFO     ] 2020-03-09 02:01:50,164 Parameters: domain_dimensions         = [256 640   1]\n",
      "yt : [INFO     ] 2020-03-09 02:01:50,165 Parameters: domain_left_edge          = [-1.5450e+19 -3.8625e+19 -5.0000e-01]\n",
      "yt : [INFO     ] 2020-03-09 02:01:50,166 Parameters: domain_right_edge         = [1.5450e+19 3.8625e+19 5.0000e-01]\n",
      "yt : [INFO     ] 2020-03-09 02:01:50,168 Parameters: cosmological_simulation   = 0.0\n"
     ]
    },
    {
     "name": "stdout",
     "output_type": "stream",
     "text": [
      "mixing_layer.out1.00503\n"
     ]
    },
    {
     "name": "stderr",
     "output_type": "stream",
     "text": [
      "yt : [WARNING  ] 2020-03-09 02:01:50,201 Assuming 1.0 = 1.0 cm\n",
      "yt : [WARNING  ] 2020-03-09 02:01:50,203 Assuming 1.0 = 1.0 s\n",
      "yt : [WARNING  ] 2020-03-09 02:01:50,203 Assuming 1.0 = 1.0 g\n",
      "yt : [WARNING  ] 2020-03-09 02:01:50,204 Assuming 1.0 = 1.0 K\n",
      "yt : [INFO     ] 2020-03-09 02:01:50,218 Parameters: current_time              = 949536969529274.1\n",
      "yt : [INFO     ] 2020-03-09 02:01:50,220 Parameters: domain_dimensions         = [256 640   1]\n",
      "yt : [INFO     ] 2020-03-09 02:01:50,221 Parameters: domain_left_edge          = [-1.5450e+19 -3.8625e+19 -5.0000e-01]\n",
      "yt : [INFO     ] 2020-03-09 02:01:50,222 Parameters: domain_right_edge         = [1.5450e+19 3.8625e+19 5.0000e-01]\n",
      "yt : [INFO     ] 2020-03-09 02:01:50,223 Parameters: cosmological_simulation   = 0.0\n"
     ]
    },
    {
     "name": "stdout",
     "output_type": "stream",
     "text": [
      "mixing_layer.out1.00504\n"
     ]
    },
    {
     "name": "stderr",
     "output_type": "stream",
     "text": [
      "yt : [WARNING  ] 2020-03-09 02:01:50,254 Assuming 1.0 = 1.0 cm\n",
      "yt : [WARNING  ] 2020-03-09 02:01:50,255 Assuming 1.0 = 1.0 s\n",
      "yt : [WARNING  ] 2020-03-09 02:01:50,256 Assuming 1.0 = 1.0 g\n",
      "yt : [WARNING  ] 2020-03-09 02:01:50,257 Assuming 1.0 = 1.0 K\n",
      "yt : [INFO     ] 2020-03-09 02:01:50,269 Parameters: current_time              = 951422280306987.4\n",
      "yt : [INFO     ] 2020-03-09 02:01:50,270 Parameters: domain_dimensions         = [256 640   1]\n",
      "yt : [INFO     ] 2020-03-09 02:01:50,270 Parameters: domain_left_edge          = [-1.5450e+19 -3.8625e+19 -5.0000e-01]\n",
      "yt : [INFO     ] 2020-03-09 02:01:50,271 Parameters: domain_right_edge         = [1.5450e+19 3.8625e+19 5.0000e-01]\n",
      "yt : [INFO     ] 2020-03-09 02:01:50,272 Parameters: cosmological_simulation   = 0.0\n"
     ]
    },
    {
     "name": "stdout",
     "output_type": "stream",
     "text": [
      "mixing_layer.out1.00505\n"
     ]
    },
    {
     "name": "stderr",
     "output_type": "stream",
     "text": [
      "yt : [WARNING  ] 2020-03-09 02:01:50,302 Assuming 1.0 = 1.0 cm\n",
      "yt : [WARNING  ] 2020-03-09 02:01:50,303 Assuming 1.0 = 1.0 s\n",
      "yt : [WARNING  ] 2020-03-09 02:01:50,304 Assuming 1.0 = 1.0 g\n",
      "yt : [WARNING  ] 2020-03-09 02:01:50,305 Assuming 1.0 = 1.0 K\n",
      "yt : [INFO     ] 2020-03-09 02:01:50,317 Parameters: current_time              = 953306272228899.1\n",
      "yt : [INFO     ] 2020-03-09 02:01:50,318 Parameters: domain_dimensions         = [256 640   1]\n",
      "yt : [INFO     ] 2020-03-09 02:01:50,319 Parameters: domain_left_edge          = [-1.5450e+19 -3.8625e+19 -5.0000e-01]\n",
      "yt : [INFO     ] 2020-03-09 02:01:50,320 Parameters: domain_right_edge         = [1.5450e+19 3.8625e+19 5.0000e-01]\n",
      "yt : [INFO     ] 2020-03-09 02:01:50,321 Parameters: cosmological_simulation   = 0.0\n"
     ]
    },
    {
     "name": "stdout",
     "output_type": "stream",
     "text": [
      "mixing_layer.out1.00506\n"
     ]
    },
    {
     "name": "stderr",
     "output_type": "stream",
     "text": [
      "yt : [WARNING  ] 2020-03-09 02:01:50,349 Assuming 1.0 = 1.0 cm\n",
      "yt : [WARNING  ] 2020-03-09 02:01:50,350 Assuming 1.0 = 1.0 s\n",
      "yt : [WARNING  ] 2020-03-09 02:01:50,351 Assuming 1.0 = 1.0 g\n",
      "yt : [WARNING  ] 2020-03-09 02:01:50,352 Assuming 1.0 = 1.0 K\n",
      "yt : [INFO     ] 2020-03-09 02:01:50,364 Parameters: current_time              = 955189151538055.4\n",
      "yt : [INFO     ] 2020-03-09 02:01:50,365 Parameters: domain_dimensions         = [256 640   1]\n",
      "yt : [INFO     ] 2020-03-09 02:01:50,366 Parameters: domain_left_edge          = [-1.5450e+19 -3.8625e+19 -5.0000e-01]\n",
      "yt : [INFO     ] 2020-03-09 02:01:50,367 Parameters: domain_right_edge         = [1.5450e+19 3.8625e+19 5.0000e-01]\n",
      "yt : [INFO     ] 2020-03-09 02:01:50,368 Parameters: cosmological_simulation   = 0.0\n"
     ]
    },
    {
     "name": "stdout",
     "output_type": "stream",
     "text": [
      "mixing_layer.out1.00507\n"
     ]
    },
    {
     "name": "stderr",
     "output_type": "stream",
     "text": [
      "yt : [WARNING  ] 2020-03-09 02:01:50,398 Assuming 1.0 = 1.0 cm\n",
      "yt : [WARNING  ] 2020-03-09 02:01:50,399 Assuming 1.0 = 1.0 s\n",
      "yt : [WARNING  ] 2020-03-09 02:01:50,401 Assuming 1.0 = 1.0 g\n",
      "yt : [WARNING  ] 2020-03-09 02:01:50,402 Assuming 1.0 = 1.0 K\n",
      "yt : [INFO     ] 2020-03-09 02:01:50,413 Parameters: current_time              = 957073645802698.1\n",
      "yt : [INFO     ] 2020-03-09 02:01:50,414 Parameters: domain_dimensions         = [256 640   1]\n",
      "yt : [INFO     ] 2020-03-09 02:01:50,415 Parameters: domain_left_edge          = [-1.5450e+19 -3.8625e+19 -5.0000e-01]\n",
      "yt : [INFO     ] 2020-03-09 02:01:50,416 Parameters: domain_right_edge         = [1.5450e+19 3.8625e+19 5.0000e-01]\n",
      "yt : [INFO     ] 2020-03-09 02:01:50,417 Parameters: cosmological_simulation   = 0.0\n"
     ]
    },
    {
     "name": "stdout",
     "output_type": "stream",
     "text": [
      "mixing_layer.out1.00508\n"
     ]
    },
    {
     "name": "stderr",
     "output_type": "stream",
     "text": [
      "yt : [WARNING  ] 2020-03-09 02:01:50,446 Assuming 1.0 = 1.0 cm\n",
      "yt : [WARNING  ] 2020-03-09 02:01:50,447 Assuming 1.0 = 1.0 s\n",
      "yt : [WARNING  ] 2020-03-09 02:01:50,449 Assuming 1.0 = 1.0 g\n",
      "yt : [WARNING  ] 2020-03-09 02:01:50,450 Assuming 1.0 = 1.0 K\n",
      "yt : [INFO     ] 2020-03-09 02:01:50,462 Parameters: current_time              = 958956686591450.2\n",
      "yt : [INFO     ] 2020-03-09 02:01:50,462 Parameters: domain_dimensions         = [256 640   1]\n",
      "yt : [INFO     ] 2020-03-09 02:01:50,463 Parameters: domain_left_edge          = [-1.5450e+19 -3.8625e+19 -5.0000e-01]\n",
      "yt : [INFO     ] 2020-03-09 02:01:50,464 Parameters: domain_right_edge         = [1.5450e+19 3.8625e+19 5.0000e-01]\n",
      "yt : [INFO     ] 2020-03-09 02:01:50,465 Parameters: cosmological_simulation   = 0.0\n"
     ]
    },
    {
     "name": "stdout",
     "output_type": "stream",
     "text": [
      "mixing_layer.out1.00509\n"
     ]
    },
    {
     "name": "stderr",
     "output_type": "stream",
     "text": [
      "yt : [WARNING  ] 2020-03-09 02:01:50,494 Assuming 1.0 = 1.0 cm\n",
      "yt : [WARNING  ] 2020-03-09 02:01:50,494 Assuming 1.0 = 1.0 s\n",
      "yt : [WARNING  ] 2020-03-09 02:01:50,495 Assuming 1.0 = 1.0 g\n",
      "yt : [WARNING  ] 2020-03-09 02:01:50,496 Assuming 1.0 = 1.0 K\n",
      "yt : [INFO     ] 2020-03-09 02:01:50,509 Parameters: current_time              = 960841332497794.4\n",
      "yt : [INFO     ] 2020-03-09 02:01:50,510 Parameters: domain_dimensions         = [256 640   1]\n",
      "yt : [INFO     ] 2020-03-09 02:01:50,511 Parameters: domain_left_edge          = [-1.5450e+19 -3.8625e+19 -5.0000e-01]\n",
      "yt : [INFO     ] 2020-03-09 02:01:50,512 Parameters: domain_right_edge         = [1.5450e+19 3.8625e+19 5.0000e-01]\n",
      "yt : [INFO     ] 2020-03-09 02:01:50,512 Parameters: cosmological_simulation   = 0.0\n"
     ]
    },
    {
     "name": "stdout",
     "output_type": "stream",
     "text": [
      "mixing_layer.out1.00510\n"
     ]
    },
    {
     "name": "stderr",
     "output_type": "stream",
     "text": [
      "yt : [WARNING  ] 2020-03-09 02:01:50,543 Assuming 1.0 = 1.0 cm\n",
      "yt : [WARNING  ] 2020-03-09 02:01:50,544 Assuming 1.0 = 1.0 s\n",
      "yt : [WARNING  ] 2020-03-09 02:01:50,545 Assuming 1.0 = 1.0 g\n",
      "yt : [WARNING  ] 2020-03-09 02:01:50,545 Assuming 1.0 = 1.0 K\n",
      "yt : [INFO     ] 2020-03-09 02:01:50,556 Parameters: current_time              = 962724537033848.0\n",
      "yt : [INFO     ] 2020-03-09 02:01:50,557 Parameters: domain_dimensions         = [256 640   1]\n",
      "yt : [INFO     ] 2020-03-09 02:01:50,558 Parameters: domain_left_edge          = [-1.5450e+19 -3.8625e+19 -5.0000e-01]\n",
      "yt : [INFO     ] 2020-03-09 02:01:50,559 Parameters: domain_right_edge         = [1.5450e+19 3.8625e+19 5.0000e-01]\n",
      "yt : [INFO     ] 2020-03-09 02:01:50,559 Parameters: cosmological_simulation   = 0.0\n"
     ]
    },
    {
     "name": "stdout",
     "output_type": "stream",
     "text": [
      "mixing_layer.out1.00511\n"
     ]
    },
    {
     "name": "stderr",
     "output_type": "stream",
     "text": [
      "yt : [WARNING  ] 2020-03-09 02:01:50,590 Assuming 1.0 = 1.0 cm\n",
      "yt : [WARNING  ] 2020-03-09 02:01:50,646 Assuming 1.0 = 1.0 s\n",
      "yt : [WARNING  ] 2020-03-09 02:01:50,647 Assuming 1.0 = 1.0 g\n",
      "yt : [WARNING  ] 2020-03-09 02:01:50,648 Assuming 1.0 = 1.0 K\n",
      "yt : [INFO     ] 2020-03-09 02:01:50,661 Parameters: current_time              = 964609382012122.0\n",
      "yt : [INFO     ] 2020-03-09 02:01:50,661 Parameters: domain_dimensions         = [256 640   1]\n",
      "yt : [INFO     ] 2020-03-09 02:01:50,662 Parameters: domain_left_edge          = [-1.5450e+19 -3.8625e+19 -5.0000e-01]\n",
      "yt : [INFO     ] 2020-03-09 02:01:50,663 Parameters: domain_right_edge         = [1.5450e+19 3.8625e+19 5.0000e-01]\n",
      "yt : [INFO     ] 2020-03-09 02:01:50,664 Parameters: cosmological_simulation   = 0.0\n"
     ]
    },
    {
     "name": "stdout",
     "output_type": "stream",
     "text": [
      "mixing_layer.out1.00512\n"
     ]
    },
    {
     "name": "stderr",
     "output_type": "stream",
     "text": [
      "yt : [WARNING  ] 2020-03-09 02:01:50,691 Assuming 1.0 = 1.0 cm\n",
      "yt : [WARNING  ] 2020-03-09 02:01:50,692 Assuming 1.0 = 1.0 s\n",
      "yt : [WARNING  ] 2020-03-09 02:01:50,693 Assuming 1.0 = 1.0 g\n",
      "yt : [WARNING  ] 2020-03-09 02:01:50,694 Assuming 1.0 = 1.0 K\n",
      "yt : [INFO     ] 2020-03-09 02:01:50,707 Parameters: current_time              = 966494094811669.8\n",
      "yt : [INFO     ] 2020-03-09 02:01:50,708 Parameters: domain_dimensions         = [256 640   1]\n",
      "yt : [INFO     ] 2020-03-09 02:01:50,709 Parameters: domain_left_edge          = [-1.5450e+19 -3.8625e+19 -5.0000e-01]\n",
      "yt : [INFO     ] 2020-03-09 02:01:50,710 Parameters: domain_right_edge         = [1.5450e+19 3.8625e+19 5.0000e-01]\n",
      "yt : [INFO     ] 2020-03-09 02:01:50,710 Parameters: cosmological_simulation   = 0.0\n"
     ]
    },
    {
     "name": "stdout",
     "output_type": "stream",
     "text": [
      "mixing_layer.out1.00513\n"
     ]
    },
    {
     "name": "stderr",
     "output_type": "stream",
     "text": [
      "yt : [WARNING  ] 2020-03-09 02:01:50,739 Assuming 1.0 = 1.0 cm\n",
      "yt : [WARNING  ] 2020-03-09 02:01:50,740 Assuming 1.0 = 1.0 s\n",
      "yt : [WARNING  ] 2020-03-09 02:01:50,741 Assuming 1.0 = 1.0 g\n",
      "yt : [WARNING  ] 2020-03-09 02:01:50,742 Assuming 1.0 = 1.0 K\n",
      "yt : [INFO     ] 2020-03-09 02:01:50,754 Parameters: current_time              = 968377587728470.0\n",
      "yt : [INFO     ] 2020-03-09 02:01:50,755 Parameters: domain_dimensions         = [256 640   1]\n",
      "yt : [INFO     ] 2020-03-09 02:01:50,756 Parameters: domain_left_edge          = [-1.5450e+19 -3.8625e+19 -5.0000e-01]\n",
      "yt : [INFO     ] 2020-03-09 02:01:50,757 Parameters: domain_right_edge         = [1.5450e+19 3.8625e+19 5.0000e-01]\n",
      "yt : [INFO     ] 2020-03-09 02:01:50,757 Parameters: cosmological_simulation   = 0.0\n"
     ]
    },
    {
     "name": "stdout",
     "output_type": "stream",
     "text": [
      "mixing_layer.out1.00514\n"
     ]
    },
    {
     "name": "stderr",
     "output_type": "stream",
     "text": [
      "yt : [WARNING  ] 2020-03-09 02:01:50,787 Assuming 1.0 = 1.0 cm\n",
      "yt : [WARNING  ] 2020-03-09 02:01:50,788 Assuming 1.0 = 1.0 s\n",
      "yt : [WARNING  ] 2020-03-09 02:01:50,789 Assuming 1.0 = 1.0 g\n",
      "yt : [WARNING  ] 2020-03-09 02:01:50,790 Assuming 1.0 = 1.0 K\n",
      "yt : [INFO     ] 2020-03-09 02:01:50,803 Parameters: current_time              = 970260929202903.0\n",
      "yt : [INFO     ] 2020-03-09 02:01:50,804 Parameters: domain_dimensions         = [256 640   1]\n",
      "yt : [INFO     ] 2020-03-09 02:01:50,805 Parameters: domain_left_edge          = [-1.5450e+19 -3.8625e+19 -5.0000e-01]\n",
      "yt : [INFO     ] 2020-03-09 02:01:50,805 Parameters: domain_right_edge         = [1.5450e+19 3.8625e+19 5.0000e-01]\n",
      "yt : [INFO     ] 2020-03-09 02:01:50,806 Parameters: cosmological_simulation   = 0.0\n"
     ]
    },
    {
     "name": "stdout",
     "output_type": "stream",
     "text": [
      "mixing_layer.out1.00515\n"
     ]
    },
    {
     "name": "stderr",
     "output_type": "stream",
     "text": [
      "yt : [WARNING  ] 2020-03-09 02:01:50,831 Assuming 1.0 = 1.0 cm\n",
      "yt : [WARNING  ] 2020-03-09 02:01:50,833 Assuming 1.0 = 1.0 s\n",
      "yt : [WARNING  ] 2020-03-09 02:01:50,834 Assuming 1.0 = 1.0 g\n",
      "yt : [WARNING  ] 2020-03-09 02:01:50,835 Assuming 1.0 = 1.0 K\n",
      "yt : [INFO     ] 2020-03-09 02:01:50,847 Parameters: current_time              = 972145504384637.5\n",
      "yt : [INFO     ] 2020-03-09 02:01:50,847 Parameters: domain_dimensions         = [256 640   1]\n",
      "yt : [INFO     ] 2020-03-09 02:01:50,848 Parameters: domain_left_edge          = [-1.5450e+19 -3.8625e+19 -5.0000e-01]\n",
      "yt : [INFO     ] 2020-03-09 02:01:50,850 Parameters: domain_right_edge         = [1.5450e+19 3.8625e+19 5.0000e-01]\n",
      "yt : [INFO     ] 2020-03-09 02:01:50,851 Parameters: cosmological_simulation   = 0.0\n"
     ]
    },
    {
     "name": "stdout",
     "output_type": "stream",
     "text": [
      "mixing_layer.out1.00516\n"
     ]
    },
    {
     "name": "stderr",
     "output_type": "stream",
     "text": [
      "yt : [WARNING  ] 2020-03-09 02:01:50,875 Assuming 1.0 = 1.0 cm\n",
      "yt : [WARNING  ] 2020-03-09 02:01:50,876 Assuming 1.0 = 1.0 s\n",
      "yt : [WARNING  ] 2020-03-09 02:01:50,876 Assuming 1.0 = 1.0 g\n",
      "yt : [WARNING  ] 2020-03-09 02:01:50,878 Assuming 1.0 = 1.0 K\n",
      "yt : [INFO     ] 2020-03-09 02:01:50,888 Parameters: current_time              = 974029420517265.4\n",
      "yt : [INFO     ] 2020-03-09 02:01:50,889 Parameters: domain_dimensions         = [256 640   1]\n",
      "yt : [INFO     ] 2020-03-09 02:01:50,889 Parameters: domain_left_edge          = [-1.5450e+19 -3.8625e+19 -5.0000e-01]\n",
      "yt : [INFO     ] 2020-03-09 02:01:50,890 Parameters: domain_right_edge         = [1.5450e+19 3.8625e+19 5.0000e-01]\n",
      "yt : [INFO     ] 2020-03-09 02:01:50,891 Parameters: cosmological_simulation   = 0.0\n"
     ]
    },
    {
     "name": "stdout",
     "output_type": "stream",
     "text": [
      "mixing_layer.out1.00517\n"
     ]
    },
    {
     "name": "stderr",
     "output_type": "stream",
     "text": [
      "yt : [WARNING  ] 2020-03-09 02:01:50,916 Assuming 1.0 = 1.0 cm\n",
      "yt : [WARNING  ] 2020-03-09 02:01:50,917 Assuming 1.0 = 1.0 s\n",
      "yt : [WARNING  ] 2020-03-09 02:01:50,918 Assuming 1.0 = 1.0 g\n",
      "yt : [WARNING  ] 2020-03-09 02:01:50,919 Assuming 1.0 = 1.0 K\n",
      "yt : [INFO     ] 2020-03-09 02:01:50,930 Parameters: current_time              = 975914379084756.6\n",
      "yt : [INFO     ] 2020-03-09 02:01:50,931 Parameters: domain_dimensions         = [256 640   1]\n",
      "yt : [INFO     ] 2020-03-09 02:01:50,932 Parameters: domain_left_edge          = [-1.5450e+19 -3.8625e+19 -5.0000e-01]\n",
      "yt : [INFO     ] 2020-03-09 02:01:50,933 Parameters: domain_right_edge         = [1.5450e+19 3.8625e+19 5.0000e-01]\n",
      "yt : [INFO     ] 2020-03-09 02:01:50,933 Parameters: cosmological_simulation   = 0.0\n"
     ]
    },
    {
     "name": "stdout",
     "output_type": "stream",
     "text": [
      "mixing_layer.out1.00518\n"
     ]
    },
    {
     "name": "stderr",
     "output_type": "stream",
     "text": [
      "yt : [WARNING  ] 2020-03-09 02:01:50,960 Assuming 1.0 = 1.0 cm\n",
      "yt : [WARNING  ] 2020-03-09 02:01:50,962 Assuming 1.0 = 1.0 s\n",
      "yt : [WARNING  ] 2020-03-09 02:01:50,963 Assuming 1.0 = 1.0 g\n",
      "yt : [WARNING  ] 2020-03-09 02:01:50,964 Assuming 1.0 = 1.0 K\n",
      "yt : [INFO     ] 2020-03-09 02:01:50,975 Parameters: current_time              = 977797693199754.2\n",
      "yt : [INFO     ] 2020-03-09 02:01:50,975 Parameters: domain_dimensions         = [256 640   1]\n",
      "yt : [INFO     ] 2020-03-09 02:01:50,976 Parameters: domain_left_edge          = [-1.5450e+19 -3.8625e+19 -5.0000e-01]\n",
      "yt : [INFO     ] 2020-03-09 02:01:50,977 Parameters: domain_right_edge         = [1.5450e+19 3.8625e+19 5.0000e-01]\n",
      "yt : [INFO     ] 2020-03-09 02:01:50,978 Parameters: cosmological_simulation   = 0.0\n"
     ]
    },
    {
     "name": "stdout",
     "output_type": "stream",
     "text": [
      "mixing_layer.out1.00519\n"
     ]
    },
    {
     "name": "stderr",
     "output_type": "stream",
     "text": [
      "yt : [WARNING  ] 2020-03-09 02:01:51,002 Assuming 1.0 = 1.0 cm\n",
      "yt : [WARNING  ] 2020-03-09 02:01:51,004 Assuming 1.0 = 1.0 s\n",
      "yt : [WARNING  ] 2020-03-09 02:01:51,005 Assuming 1.0 = 1.0 g\n",
      "yt : [WARNING  ] 2020-03-09 02:01:51,005 Assuming 1.0 = 1.0 K\n",
      "yt : [INFO     ] 2020-03-09 02:01:51,016 Parameters: current_time              = 979682831212891.5\n",
      "yt : [INFO     ] 2020-03-09 02:01:51,017 Parameters: domain_dimensions         = [256 640   1]\n",
      "yt : [INFO     ] 2020-03-09 02:01:51,018 Parameters: domain_left_edge          = [-1.5450e+19 -3.8625e+19 -5.0000e-01]\n",
      "yt : [INFO     ] 2020-03-09 02:01:51,018 Parameters: domain_right_edge         = [1.5450e+19 3.8625e+19 5.0000e-01]\n",
      "yt : [INFO     ] 2020-03-09 02:01:51,019 Parameters: cosmological_simulation   = 0.0\n"
     ]
    },
    {
     "name": "stdout",
     "output_type": "stream",
     "text": [
      "mixing_layer.out1.00520\n"
     ]
    },
    {
     "name": "stderr",
     "output_type": "stream",
     "text": [
      "yt : [WARNING  ] 2020-03-09 02:01:51,044 Assuming 1.0 = 1.0 cm\n",
      "yt : [WARNING  ] 2020-03-09 02:01:51,045 Assuming 1.0 = 1.0 s\n",
      "yt : [WARNING  ] 2020-03-09 02:01:51,046 Assuming 1.0 = 1.0 g\n",
      "yt : [WARNING  ] 2020-03-09 02:01:51,047 Assuming 1.0 = 1.0 K\n",
      "yt : [INFO     ] 2020-03-09 02:01:51,057 Parameters: current_time              = 981564144235474.1\n",
      "yt : [INFO     ] 2020-03-09 02:01:51,058 Parameters: domain_dimensions         = [256 640   1]\n",
      "yt : [INFO     ] 2020-03-09 02:01:51,059 Parameters: domain_left_edge          = [-1.5450e+19 -3.8625e+19 -5.0000e-01]\n",
      "yt : [INFO     ] 2020-03-09 02:01:51,060 Parameters: domain_right_edge         = [1.5450e+19 3.8625e+19 5.0000e-01]\n",
      "yt : [INFO     ] 2020-03-09 02:01:51,060 Parameters: cosmological_simulation   = 0.0\n"
     ]
    },
    {
     "name": "stdout",
     "output_type": "stream",
     "text": [
      "mixing_layer.out1.00521\n"
     ]
    },
    {
     "name": "stderr",
     "output_type": "stream",
     "text": [
      "yt : [WARNING  ] 2020-03-09 02:01:51,085 Assuming 1.0 = 1.0 cm\n",
      "yt : [WARNING  ] 2020-03-09 02:01:51,086 Assuming 1.0 = 1.0 s\n",
      "yt : [WARNING  ] 2020-03-09 02:01:51,087 Assuming 1.0 = 1.0 g\n",
      "yt : [WARNING  ] 2020-03-09 02:01:51,088 Assuming 1.0 = 1.0 K\n",
      "yt : [INFO     ] 2020-03-09 02:01:51,099 Parameters: current_time              = 983450051328715.1\n",
      "yt : [INFO     ] 2020-03-09 02:01:51,100 Parameters: domain_dimensions         = [256 640   1]\n",
      "yt : [INFO     ] 2020-03-09 02:01:51,100 Parameters: domain_left_edge          = [-1.5450e+19 -3.8625e+19 -5.0000e-01]\n",
      "yt : [INFO     ] 2020-03-09 02:01:51,101 Parameters: domain_right_edge         = [1.5450e+19 3.8625e+19 5.0000e-01]\n",
      "yt : [INFO     ] 2020-03-09 02:01:51,102 Parameters: cosmological_simulation   = 0.0\n"
     ]
    },
    {
     "name": "stdout",
     "output_type": "stream",
     "text": [
      "mixing_layer.out1.00522\n"
     ]
    },
    {
     "name": "stderr",
     "output_type": "stream",
     "text": [
      "yt : [WARNING  ] 2020-03-09 02:01:51,130 Assuming 1.0 = 1.0 cm\n",
      "yt : [WARNING  ] 2020-03-09 02:01:51,131 Assuming 1.0 = 1.0 s\n",
      "yt : [WARNING  ] 2020-03-09 02:01:51,132 Assuming 1.0 = 1.0 g\n",
      "yt : [WARNING  ] 2020-03-09 02:01:51,133 Assuming 1.0 = 1.0 K\n",
      "yt : [INFO     ] 2020-03-09 02:01:51,144 Parameters: current_time              = 985332189729672.4\n",
      "yt : [INFO     ] 2020-03-09 02:01:51,145 Parameters: domain_dimensions         = [256 640   1]\n",
      "yt : [INFO     ] 2020-03-09 02:01:51,146 Parameters: domain_left_edge          = [-1.5450e+19 -3.8625e+19 -5.0000e-01]\n",
      "yt : [INFO     ] 2020-03-09 02:01:51,147 Parameters: domain_right_edge         = [1.5450e+19 3.8625e+19 5.0000e-01]\n",
      "yt : [INFO     ] 2020-03-09 02:01:51,148 Parameters: cosmological_simulation   = 0.0\n"
     ]
    },
    {
     "name": "stdout",
     "output_type": "stream",
     "text": [
      "mixing_layer.out1.00523\n"
     ]
    },
    {
     "name": "stderr",
     "output_type": "stream",
     "text": [
      "yt : [WARNING  ] 2020-03-09 02:01:51,182 Assuming 1.0 = 1.0 cm\n",
      "yt : [WARNING  ] 2020-03-09 02:01:51,183 Assuming 1.0 = 1.0 s\n",
      "yt : [WARNING  ] 2020-03-09 02:01:51,184 Assuming 1.0 = 1.0 g\n",
      "yt : [WARNING  ] 2020-03-09 02:01:51,186 Assuming 1.0 = 1.0 K\n",
      "yt : [INFO     ] 2020-03-09 02:01:51,198 Parameters: current_time              = 987216314024492.6\n",
      "yt : [INFO     ] 2020-03-09 02:01:51,199 Parameters: domain_dimensions         = [256 640   1]\n",
      "yt : [INFO     ] 2020-03-09 02:01:51,200 Parameters: domain_left_edge          = [-1.5450e+19 -3.8625e+19 -5.0000e-01]\n",
      "yt : [INFO     ] 2020-03-09 02:01:51,201 Parameters: domain_right_edge         = [1.5450e+19 3.8625e+19 5.0000e-01]\n",
      "yt : [INFO     ] 2020-03-09 02:01:51,202 Parameters: cosmological_simulation   = 0.0\n"
     ]
    },
    {
     "name": "stdout",
     "output_type": "stream",
     "text": [
      "mixing_layer.out1.00524\n"
     ]
    },
    {
     "name": "stderr",
     "output_type": "stream",
     "text": [
      "yt : [WARNING  ] 2020-03-09 02:01:51,231 Assuming 1.0 = 1.0 cm\n",
      "yt : [WARNING  ] 2020-03-09 02:01:51,232 Assuming 1.0 = 1.0 s\n",
      "yt : [WARNING  ] 2020-03-09 02:01:51,233 Assuming 1.0 = 1.0 g\n",
      "yt : [WARNING  ] 2020-03-09 02:01:51,234 Assuming 1.0 = 1.0 K\n",
      "yt : [INFO     ] 2020-03-09 02:01:51,245 Parameters: current_time              = 989101402910381.8\n",
      "yt : [INFO     ] 2020-03-09 02:01:51,246 Parameters: domain_dimensions         = [256 640   1]\n",
      "yt : [INFO     ] 2020-03-09 02:01:51,247 Parameters: domain_left_edge          = [-1.5450e+19 -3.8625e+19 -5.0000e-01]\n",
      "yt : [INFO     ] 2020-03-09 02:01:51,248 Parameters: domain_right_edge         = [1.5450e+19 3.8625e+19 5.0000e-01]\n",
      "yt : [INFO     ] 2020-03-09 02:01:51,249 Parameters: cosmological_simulation   = 0.0\n"
     ]
    },
    {
     "name": "stdout",
     "output_type": "stream",
     "text": [
      "mixing_layer.out1.00525\n"
     ]
    },
    {
     "name": "stderr",
     "output_type": "stream",
     "text": [
      "yt : [WARNING  ] 2020-03-09 02:01:51,283 Assuming 1.0 = 1.0 cm\n",
      "yt : [WARNING  ] 2020-03-09 02:01:51,284 Assuming 1.0 = 1.0 s\n",
      "yt : [WARNING  ] 2020-03-09 02:01:51,285 Assuming 1.0 = 1.0 g\n",
      "yt : [WARNING  ] 2020-03-09 02:01:51,286 Assuming 1.0 = 1.0 K\n",
      "yt : [INFO     ] 2020-03-09 02:01:51,298 Parameters: current_time              = 990985617906069.9\n",
      "yt : [INFO     ] 2020-03-09 02:01:51,298 Parameters: domain_dimensions         = [256 640   1]\n",
      "yt : [INFO     ] 2020-03-09 02:01:51,299 Parameters: domain_left_edge          = [-1.5450e+19 -3.8625e+19 -5.0000e-01]\n",
      "yt : [INFO     ] 2020-03-09 02:01:51,300 Parameters: domain_right_edge         = [1.5450e+19 3.8625e+19 5.0000e-01]\n",
      "yt : [INFO     ] 2020-03-09 02:01:51,301 Parameters: cosmological_simulation   = 0.0\n"
     ]
    },
    {
     "name": "stdout",
     "output_type": "stream",
     "text": [
      "mixing_layer.out1.00526\n"
     ]
    },
    {
     "name": "stderr",
     "output_type": "stream",
     "text": [
      "yt : [WARNING  ] 2020-03-09 02:01:51,330 Assuming 1.0 = 1.0 cm\n",
      "yt : [WARNING  ] 2020-03-09 02:01:51,331 Assuming 1.0 = 1.0 s\n",
      "yt : [WARNING  ] 2020-03-09 02:01:51,333 Assuming 1.0 = 1.0 g\n",
      "yt : [WARNING  ] 2020-03-09 02:01:51,333 Assuming 1.0 = 1.0 K\n",
      "yt : [INFO     ] 2020-03-09 02:01:51,344 Parameters: current_time              = 992869440260309.8\n",
      "yt : [INFO     ] 2020-03-09 02:01:51,346 Parameters: domain_dimensions         = [256 640   1]\n",
      "yt : [INFO     ] 2020-03-09 02:01:51,347 Parameters: domain_left_edge          = [-1.5450e+19 -3.8625e+19 -5.0000e-01]\n",
      "yt : [INFO     ] 2020-03-09 02:01:51,348 Parameters: domain_right_edge         = [1.5450e+19 3.8625e+19 5.0000e-01]\n",
      "yt : [INFO     ] 2020-03-09 02:01:51,349 Parameters: cosmological_simulation   = 0.0\n"
     ]
    },
    {
     "name": "stdout",
     "output_type": "stream",
     "text": [
      "mixing_layer.out1.00527\n"
     ]
    },
    {
     "name": "stderr",
     "output_type": "stream",
     "text": [
      "yt : [WARNING  ] 2020-03-09 02:01:51,385 Assuming 1.0 = 1.0 cm\n",
      "yt : [WARNING  ] 2020-03-09 02:01:51,387 Assuming 1.0 = 1.0 s\n",
      "yt : [WARNING  ] 2020-03-09 02:01:51,387 Assuming 1.0 = 1.0 g\n",
      "yt : [WARNING  ] 2020-03-09 02:01:51,388 Assuming 1.0 = 1.0 K\n",
      "yt : [INFO     ] 2020-03-09 02:01:51,401 Parameters: current_time              = 994754238426417.6\n",
      "yt : [INFO     ] 2020-03-09 02:01:51,402 Parameters: domain_dimensions         = [256 640   1]\n",
      "yt : [INFO     ] 2020-03-09 02:01:51,403 Parameters: domain_left_edge          = [-1.5450e+19 -3.8625e+19 -5.0000e-01]\n",
      "yt : [INFO     ] 2020-03-09 02:01:51,403 Parameters: domain_right_edge         = [1.5450e+19 3.8625e+19 5.0000e-01]\n",
      "yt : [INFO     ] 2020-03-09 02:01:51,404 Parameters: cosmological_simulation   = 0.0\n"
     ]
    },
    {
     "name": "stdout",
     "output_type": "stream",
     "text": [
      "mixing_layer.out1.00528\n"
     ]
    },
    {
     "name": "stderr",
     "output_type": "stream",
     "text": [
      "yt : [WARNING  ] 2020-03-09 02:01:51,440 Assuming 1.0 = 1.0 cm\n",
      "yt : [WARNING  ] 2020-03-09 02:01:51,441 Assuming 1.0 = 1.0 s\n",
      "yt : [WARNING  ] 2020-03-09 02:01:51,442 Assuming 1.0 = 1.0 g\n",
      "yt : [WARNING  ] 2020-03-09 02:01:51,442 Assuming 1.0 = 1.0 K\n",
      "yt : [INFO     ] 2020-03-09 02:01:51,455 Parameters: current_time              = 996638207448985.4\n",
      "yt : [INFO     ] 2020-03-09 02:01:51,456 Parameters: domain_dimensions         = [256 640   1]\n",
      "yt : [INFO     ] 2020-03-09 02:01:51,457 Parameters: domain_left_edge          = [-1.5450e+19 -3.8625e+19 -5.0000e-01]\n",
      "yt : [INFO     ] 2020-03-09 02:01:51,458 Parameters: domain_right_edge         = [1.5450e+19 3.8625e+19 5.0000e-01]\n",
      "yt : [INFO     ] 2020-03-09 02:01:51,459 Parameters: cosmological_simulation   = 0.0\n"
     ]
    },
    {
     "name": "stdout",
     "output_type": "stream",
     "text": [
      "mixing_layer.out1.00529\n"
     ]
    },
    {
     "name": "stderr",
     "output_type": "stream",
     "text": [
      "yt : [WARNING  ] 2020-03-09 02:01:51,488 Assuming 1.0 = 1.0 cm\n",
      "yt : [WARNING  ] 2020-03-09 02:01:51,490 Assuming 1.0 = 1.0 s\n",
      "yt : [WARNING  ] 2020-03-09 02:01:51,490 Assuming 1.0 = 1.0 g\n",
      "yt : [WARNING  ] 2020-03-09 02:01:51,491 Assuming 1.0 = 1.0 K\n",
      "yt : [INFO     ] 2020-03-09 02:01:51,503 Parameters: current_time              = 998520701463067.8\n",
      "yt : [INFO     ] 2020-03-09 02:01:51,504 Parameters: domain_dimensions         = [256 640   1]\n",
      "yt : [INFO     ] 2020-03-09 02:01:51,505 Parameters: domain_left_edge          = [-1.5450e+19 -3.8625e+19 -5.0000e-01]\n",
      "yt : [INFO     ] 2020-03-09 02:01:51,506 Parameters: domain_right_edge         = [1.5450e+19 3.8625e+19 5.0000e-01]\n",
      "yt : [INFO     ] 2020-03-09 02:01:51,507 Parameters: cosmological_simulation   = 0.0\n"
     ]
    },
    {
     "name": "stdout",
     "output_type": "stream",
     "text": [
      "mixing_layer.out1.00530\n"
     ]
    },
    {
     "name": "stderr",
     "output_type": "stream",
     "text": [
      "yt : [WARNING  ] 2020-03-09 02:01:51,536 Assuming 1.0 = 1.0 cm\n",
      "yt : [WARNING  ] 2020-03-09 02:01:51,537 Assuming 1.0 = 1.0 s\n",
      "yt : [WARNING  ] 2020-03-09 02:01:51,538 Assuming 1.0 = 1.0 g\n",
      "yt : [WARNING  ] 2020-03-09 02:01:51,539 Assuming 1.0 = 1.0 K\n",
      "yt : [INFO     ] 2020-03-09 02:01:51,550 Parameters: current_time              = 1000405219518021.4\n",
      "yt : [INFO     ] 2020-03-09 02:01:51,551 Parameters: domain_dimensions         = [256 640   1]\n",
      "yt : [INFO     ] 2020-03-09 02:01:51,551 Parameters: domain_left_edge          = [-1.5450e+19 -3.8625e+19 -5.0000e-01]\n",
      "yt : [INFO     ] 2020-03-09 02:01:51,553 Parameters: domain_right_edge         = [1.5450e+19 3.8625e+19 5.0000e-01]\n",
      "yt : [INFO     ] 2020-03-09 02:01:51,554 Parameters: cosmological_simulation   = 0.0\n"
     ]
    },
    {
     "name": "stdout",
     "output_type": "stream",
     "text": [
      "mixing_layer.out1.00531\n"
     ]
    },
    {
     "name": "stderr",
     "output_type": "stream",
     "text": [
      "yt : [WARNING  ] 2020-03-09 02:01:51,582 Assuming 1.0 = 1.0 cm\n",
      "yt : [WARNING  ] 2020-03-09 02:01:51,583 Assuming 1.0 = 1.0 s\n",
      "yt : [WARNING  ] 2020-03-09 02:01:51,584 Assuming 1.0 = 1.0 g\n",
      "yt : [WARNING  ] 2020-03-09 02:01:51,584 Assuming 1.0 = 1.0 K\n",
      "yt : [INFO     ] 2020-03-09 02:01:51,597 Parameters: current_time              = 1002288471677257.0\n",
      "yt : [INFO     ] 2020-03-09 02:01:51,598 Parameters: domain_dimensions         = [256 640   1]\n",
      "yt : [INFO     ] 2020-03-09 02:01:51,599 Parameters: domain_left_edge          = [-1.5450e+19 -3.8625e+19 -5.0000e-01]\n",
      "yt : [INFO     ] 2020-03-09 02:01:51,601 Parameters: domain_right_edge         = [1.5450e+19 3.8625e+19 5.0000e-01]\n",
      "yt : [INFO     ] 2020-03-09 02:01:51,602 Parameters: cosmological_simulation   = 0.0\n"
     ]
    },
    {
     "name": "stdout",
     "output_type": "stream",
     "text": [
      "mixing_layer.out1.00532\n"
     ]
    },
    {
     "name": "stderr",
     "output_type": "stream",
     "text": [
      "yt : [WARNING  ] 2020-03-09 02:01:51,638 Assuming 1.0 = 1.0 cm\n",
      "yt : [WARNING  ] 2020-03-09 02:01:51,639 Assuming 1.0 = 1.0 s\n",
      "yt : [WARNING  ] 2020-03-09 02:01:51,640 Assuming 1.0 = 1.0 g\n",
      "yt : [WARNING  ] 2020-03-09 02:01:51,641 Assuming 1.0 = 1.0 K\n",
      "yt : [INFO     ] 2020-03-09 02:01:51,655 Parameters: current_time              = 1004173799832714.9\n",
      "yt : [INFO     ] 2020-03-09 02:01:51,655 Parameters: domain_dimensions         = [256 640   1]\n",
      "yt : [INFO     ] 2020-03-09 02:01:51,656 Parameters: domain_left_edge          = [-1.5450e+19 -3.8625e+19 -5.0000e-01]\n",
      "yt : [INFO     ] 2020-03-09 02:01:51,657 Parameters: domain_right_edge         = [1.5450e+19 3.8625e+19 5.0000e-01]\n",
      "yt : [INFO     ] 2020-03-09 02:01:51,658 Parameters: cosmological_simulation   = 0.0\n"
     ]
    },
    {
     "name": "stdout",
     "output_type": "stream",
     "text": [
      "mixing_layer.out1.00533\n"
     ]
    },
    {
     "name": "stderr",
     "output_type": "stream",
     "text": [
      "yt : [WARNING  ] 2020-03-09 02:01:51,687 Assuming 1.0 = 1.0 cm\n",
      "yt : [WARNING  ] 2020-03-09 02:01:51,689 Assuming 1.0 = 1.0 s\n",
      "yt : [WARNING  ] 2020-03-09 02:01:51,690 Assuming 1.0 = 1.0 g\n",
      "yt : [WARNING  ] 2020-03-09 02:01:51,691 Assuming 1.0 = 1.0 K\n",
      "yt : [INFO     ] 2020-03-09 02:01:51,704 Parameters: current_time              = 1006057918984908.9\n",
      "yt : [INFO     ] 2020-03-09 02:01:51,705 Parameters: domain_dimensions         = [256 640   1]\n",
      "yt : [INFO     ] 2020-03-09 02:01:51,705 Parameters: domain_left_edge          = [-1.5450e+19 -3.8625e+19 -5.0000e-01]\n",
      "yt : [INFO     ] 2020-03-09 02:01:51,706 Parameters: domain_right_edge         = [1.5450e+19 3.8625e+19 5.0000e-01]\n",
      "yt : [INFO     ] 2020-03-09 02:01:51,707 Parameters: cosmological_simulation   = 0.0\n"
     ]
    },
    {
     "name": "stdout",
     "output_type": "stream",
     "text": [
      "mixing_layer.out1.00534\n"
     ]
    },
    {
     "name": "stderr",
     "output_type": "stream",
     "text": [
      "yt : [WARNING  ] 2020-03-09 02:01:51,737 Assuming 1.0 = 1.0 cm\n",
      "yt : [WARNING  ] 2020-03-09 02:01:51,738 Assuming 1.0 = 1.0 s\n",
      "yt : [WARNING  ] 2020-03-09 02:01:51,739 Assuming 1.0 = 1.0 g\n",
      "yt : [WARNING  ] 2020-03-09 02:01:51,740 Assuming 1.0 = 1.0 K\n",
      "yt : [INFO     ] 2020-03-09 02:01:51,753 Parameters: current_time              = 1007941441279727.4\n",
      "yt : [INFO     ] 2020-03-09 02:01:51,754 Parameters: domain_dimensions         = [256 640   1]\n",
      "yt : [INFO     ] 2020-03-09 02:01:51,754 Parameters: domain_left_edge          = [-1.5450e+19 -3.8625e+19 -5.0000e-01]\n",
      "yt : [INFO     ] 2020-03-09 02:01:51,755 Parameters: domain_right_edge         = [1.5450e+19 3.8625e+19 5.0000e-01]\n",
      "yt : [INFO     ] 2020-03-09 02:01:51,756 Parameters: cosmological_simulation   = 0.0\n"
     ]
    },
    {
     "name": "stdout",
     "output_type": "stream",
     "text": [
      "mixing_layer.out1.00535\n"
     ]
    },
    {
     "name": "stderr",
     "output_type": "stream",
     "text": [
      "yt : [WARNING  ] 2020-03-09 02:01:51,785 Assuming 1.0 = 1.0 cm\n",
      "yt : [WARNING  ] 2020-03-09 02:01:51,786 Assuming 1.0 = 1.0 s\n",
      "yt : [WARNING  ] 2020-03-09 02:01:51,787 Assuming 1.0 = 1.0 g\n",
      "yt : [WARNING  ] 2020-03-09 02:01:51,788 Assuming 1.0 = 1.0 K\n",
      "yt : [INFO     ] 2020-03-09 02:01:51,801 Parameters: current_time              = 1009824904767061.8\n",
      "yt : [INFO     ] 2020-03-09 02:01:51,802 Parameters: domain_dimensions         = [256 640   1]\n",
      "yt : [INFO     ] 2020-03-09 02:01:51,802 Parameters: domain_left_edge          = [-1.5450e+19 -3.8625e+19 -5.0000e-01]\n",
      "yt : [INFO     ] 2020-03-09 02:01:51,802 Parameters: domain_right_edge         = [1.5450e+19 3.8625e+19 5.0000e-01]\n",
      "yt : [INFO     ] 2020-03-09 02:01:51,803 Parameters: cosmological_simulation   = 0.0\n"
     ]
    },
    {
     "name": "stdout",
     "output_type": "stream",
     "text": [
      "mixing_layer.out1.00536\n"
     ]
    },
    {
     "name": "stderr",
     "output_type": "stream",
     "text": [
      "yt : [WARNING  ] 2020-03-09 02:01:51,833 Assuming 1.0 = 1.0 cm\n",
      "yt : [WARNING  ] 2020-03-09 02:01:51,834 Assuming 1.0 = 1.0 s\n",
      "yt : [WARNING  ] 2020-03-09 02:01:51,835 Assuming 1.0 = 1.0 g\n",
      "yt : [WARNING  ] 2020-03-09 02:01:51,836 Assuming 1.0 = 1.0 K\n",
      "yt : [INFO     ] 2020-03-09 02:01:51,850 Parameters: current_time              = 1011709072907202.6\n",
      "yt : [INFO     ] 2020-03-09 02:01:51,850 Parameters: domain_dimensions         = [256 640   1]\n",
      "yt : [INFO     ] 2020-03-09 02:01:51,851 Parameters: domain_left_edge          = [-1.5450e+19 -3.8625e+19 -5.0000e-01]\n",
      "yt : [INFO     ] 2020-03-09 02:01:51,852 Parameters: domain_right_edge         = [1.5450e+19 3.8625e+19 5.0000e-01]\n",
      "yt : [INFO     ] 2020-03-09 02:01:51,853 Parameters: cosmological_simulation   = 0.0\n"
     ]
    },
    {
     "name": "stdout",
     "output_type": "stream",
     "text": [
      "mixing_layer.out1.00537\n"
     ]
    },
    {
     "name": "stderr",
     "output_type": "stream",
     "text": [
      "yt : [WARNING  ] 2020-03-09 02:01:51,881 Assuming 1.0 = 1.0 cm\n",
      "yt : [WARNING  ] 2020-03-09 02:01:51,882 Assuming 1.0 = 1.0 s\n",
      "yt : [WARNING  ] 2020-03-09 02:01:51,883 Assuming 1.0 = 1.0 g\n",
      "yt : [WARNING  ] 2020-03-09 02:01:51,884 Assuming 1.0 = 1.0 K\n",
      "yt : [INFO     ] 2020-03-09 02:01:51,896 Parameters: current_time              = 1013593322217221.1\n",
      "yt : [INFO     ] 2020-03-09 02:01:51,897 Parameters: domain_dimensions         = [256 640   1]\n",
      "yt : [INFO     ] 2020-03-09 02:01:51,897 Parameters: domain_left_edge          = [-1.5450e+19 -3.8625e+19 -5.0000e-01]\n",
      "yt : [INFO     ] 2020-03-09 02:01:51,898 Parameters: domain_right_edge         = [1.5450e+19 3.8625e+19 5.0000e-01]\n",
      "yt : [INFO     ] 2020-03-09 02:01:51,899 Parameters: cosmological_simulation   = 0.0\n"
     ]
    },
    {
     "name": "stdout",
     "output_type": "stream",
     "text": [
      "mixing_layer.out1.00538\n"
     ]
    },
    {
     "name": "stderr",
     "output_type": "stream",
     "text": [
      "yt : [WARNING  ] 2020-03-09 02:01:51,929 Assuming 1.0 = 1.0 cm\n",
      "yt : [WARNING  ] 2020-03-09 02:01:51,930 Assuming 1.0 = 1.0 s\n",
      "yt : [WARNING  ] 2020-03-09 02:01:51,931 Assuming 1.0 = 1.0 g\n",
      "yt : [WARNING  ] 2020-03-09 02:01:51,931 Assuming 1.0 = 1.0 K\n",
      "yt : [INFO     ] 2020-03-09 02:01:51,944 Parameters: current_time              = 1015478747833957.9\n",
      "yt : [INFO     ] 2020-03-09 02:01:51,945 Parameters: domain_dimensions         = [256 640   1]\n",
      "yt : [INFO     ] 2020-03-09 02:01:51,946 Parameters: domain_left_edge          = [-1.5450e+19 -3.8625e+19 -5.0000e-01]\n",
      "yt : [INFO     ] 2020-03-09 02:01:51,947 Parameters: domain_right_edge         = [1.5450e+19 3.8625e+19 5.0000e-01]\n",
      "yt : [INFO     ] 2020-03-09 02:01:51,948 Parameters: cosmological_simulation   = 0.0\n"
     ]
    },
    {
     "name": "stdout",
     "output_type": "stream",
     "text": [
      "mixing_layer.out1.00539\n"
     ]
    },
    {
     "name": "stderr",
     "output_type": "stream",
     "text": [
      "yt : [WARNING  ] 2020-03-09 02:01:51,976 Assuming 1.0 = 1.0 cm\n",
      "yt : [WARNING  ] 2020-03-09 02:01:51,977 Assuming 1.0 = 1.0 s\n",
      "yt : [WARNING  ] 2020-03-09 02:01:51,979 Assuming 1.0 = 1.0 g\n",
      "yt : [WARNING  ] 2020-03-09 02:01:51,980 Assuming 1.0 = 1.0 K\n",
      "yt : [INFO     ] 2020-03-09 02:01:51,993 Parameters: current_time              = 1017360342059530.2\n",
      "yt : [INFO     ] 2020-03-09 02:01:51,995 Parameters: domain_dimensions         = [256 640   1]\n",
      "yt : [INFO     ] 2020-03-09 02:01:51,996 Parameters: domain_left_edge          = [-1.5450e+19 -3.8625e+19 -5.0000e-01]\n",
      "yt : [INFO     ] 2020-03-09 02:01:51,997 Parameters: domain_right_edge         = [1.5450e+19 3.8625e+19 5.0000e-01]\n",
      "yt : [INFO     ] 2020-03-09 02:01:51,998 Parameters: cosmological_simulation   = 0.0\n"
     ]
    },
    {
     "name": "stdout",
     "output_type": "stream",
     "text": [
      "mixing_layer.out1.00540\n"
     ]
    },
    {
     "name": "stderr",
     "output_type": "stream",
     "text": [
      "yt : [WARNING  ] 2020-03-09 02:01:52,028 Assuming 1.0 = 1.0 cm\n",
      "yt : [WARNING  ] 2020-03-09 02:01:52,029 Assuming 1.0 = 1.0 s\n",
      "yt : [WARNING  ] 2020-03-09 02:01:52,030 Assuming 1.0 = 1.0 g\n",
      "yt : [WARNING  ] 2020-03-09 02:01:52,031 Assuming 1.0 = 1.0 K\n",
      "yt : [INFO     ] 2020-03-09 02:01:52,046 Parameters: current_time              = 1019246223344299.4\n",
      "yt : [INFO     ] 2020-03-09 02:01:52,047 Parameters: domain_dimensions         = [256 640   1]\n",
      "yt : [INFO     ] 2020-03-09 02:01:52,054 Parameters: domain_left_edge          = [-1.5450e+19 -3.8625e+19 -5.0000e-01]\n",
      "yt : [INFO     ] 2020-03-09 02:01:52,056 Parameters: domain_right_edge         = [1.5450e+19 3.8625e+19 5.0000e-01]\n",
      "yt : [INFO     ] 2020-03-09 02:01:52,057 Parameters: cosmological_simulation   = 0.0\n"
     ]
    },
    {
     "name": "stdout",
     "output_type": "stream",
     "text": [
      "mixing_layer.out1.00541\n"
     ]
    },
    {
     "name": "stderr",
     "output_type": "stream",
     "text": [
      "yt : [WARNING  ] 2020-03-09 02:01:52,085 Assuming 1.0 = 1.0 cm\n",
      "yt : [WARNING  ] 2020-03-09 02:01:52,086 Assuming 1.0 = 1.0 s\n",
      "yt : [WARNING  ] 2020-03-09 02:01:52,087 Assuming 1.0 = 1.0 g\n",
      "yt : [WARNING  ] 2020-03-09 02:01:52,088 Assuming 1.0 = 1.0 K\n",
      "yt : [INFO     ] 2020-03-09 02:01:52,101 Parameters: current_time              = 1021128538578709.5\n",
      "yt : [INFO     ] 2020-03-09 02:01:52,102 Parameters: domain_dimensions         = [256 640   1]\n",
      "yt : [INFO     ] 2020-03-09 02:01:52,103 Parameters: domain_left_edge          = [-1.5450e+19 -3.8625e+19 -5.0000e-01]\n",
      "yt : [INFO     ] 2020-03-09 02:01:52,103 Parameters: domain_right_edge         = [1.5450e+19 3.8625e+19 5.0000e-01]\n",
      "yt : [INFO     ] 2020-03-09 02:01:52,104 Parameters: cosmological_simulation   = 0.0\n"
     ]
    },
    {
     "name": "stdout",
     "output_type": "stream",
     "text": [
      "mixing_layer.out1.00542\n"
     ]
    },
    {
     "name": "stderr",
     "output_type": "stream",
     "text": [
      "yt : [WARNING  ] 2020-03-09 02:01:52,134 Assuming 1.0 = 1.0 cm\n",
      "yt : [WARNING  ] 2020-03-09 02:01:52,135 Assuming 1.0 = 1.0 s\n",
      "yt : [WARNING  ] 2020-03-09 02:01:52,136 Assuming 1.0 = 1.0 g\n",
      "yt : [WARNING  ] 2020-03-09 02:01:52,137 Assuming 1.0 = 1.0 K\n",
      "yt : [INFO     ] 2020-03-09 02:01:52,148 Parameters: current_time              = 1023014654849954.0\n",
      "yt : [INFO     ] 2020-03-09 02:01:52,149 Parameters: domain_dimensions         = [256 640   1]\n",
      "yt : [INFO     ] 2020-03-09 02:01:52,150 Parameters: domain_left_edge          = [-1.5450e+19 -3.8625e+19 -5.0000e-01]\n",
      "yt : [INFO     ] 2020-03-09 02:01:52,150 Parameters: domain_right_edge         = [1.5450e+19 3.8625e+19 5.0000e-01]\n",
      "yt : [INFO     ] 2020-03-09 02:01:52,151 Parameters: cosmological_simulation   = 0.0\n"
     ]
    },
    {
     "name": "stdout",
     "output_type": "stream",
     "text": [
      "mixing_layer.out1.00543\n"
     ]
    },
    {
     "name": "stderr",
     "output_type": "stream",
     "text": [
      "yt : [WARNING  ] 2020-03-09 02:01:52,186 Assuming 1.0 = 1.0 cm\n",
      "yt : [WARNING  ] 2020-03-09 02:01:52,187 Assuming 1.0 = 1.0 s\n",
      "yt : [WARNING  ] 2020-03-09 02:01:52,188 Assuming 1.0 = 1.0 g\n",
      "yt : [WARNING  ] 2020-03-09 02:01:52,190 Assuming 1.0 = 1.0 K\n",
      "yt : [INFO     ] 2020-03-09 02:01:52,208 Parameters: current_time              = 1024896218974338.6\n",
      "yt : [INFO     ] 2020-03-09 02:01:52,209 Parameters: domain_dimensions         = [256 640   1]\n",
      "yt : [INFO     ] 2020-03-09 02:01:52,210 Parameters: domain_left_edge          = [-1.5450e+19 -3.8625e+19 -5.0000e-01]\n",
      "yt : [INFO     ] 2020-03-09 02:01:52,212 Parameters: domain_right_edge         = [1.5450e+19 3.8625e+19 5.0000e-01]\n",
      "yt : [INFO     ] 2020-03-09 02:01:52,212 Parameters: cosmological_simulation   = 0.0\n"
     ]
    },
    {
     "name": "stdout",
     "output_type": "stream",
     "text": [
      "mixing_layer.out1.00544\n"
     ]
    },
    {
     "name": "stderr",
     "output_type": "stream",
     "text": [
      "yt : [WARNING  ] 2020-03-09 02:01:52,241 Assuming 1.0 = 1.0 cm\n",
      "yt : [WARNING  ] 2020-03-09 02:01:52,242 Assuming 1.0 = 1.0 s\n",
      "yt : [WARNING  ] 2020-03-09 02:01:52,243 Assuming 1.0 = 1.0 g\n",
      "yt : [WARNING  ] 2020-03-09 02:01:52,244 Assuming 1.0 = 1.0 K\n",
      "yt : [INFO     ] 2020-03-09 02:01:52,257 Parameters: current_time              = 1026780777165004.8\n",
      "yt : [INFO     ] 2020-03-09 02:01:52,258 Parameters: domain_dimensions         = [256 640   1]\n",
      "yt : [INFO     ] 2020-03-09 02:01:52,259 Parameters: domain_left_edge          = [-1.5450e+19 -3.8625e+19 -5.0000e-01]\n",
      "yt : [INFO     ] 2020-03-09 02:01:52,260 Parameters: domain_right_edge         = [1.5450e+19 3.8625e+19 5.0000e-01]\n",
      "yt : [INFO     ] 2020-03-09 02:01:52,261 Parameters: cosmological_simulation   = 0.0\n"
     ]
    },
    {
     "name": "stdout",
     "output_type": "stream",
     "text": [
      "mixing_layer.out1.00545\n"
     ]
    },
    {
     "name": "stderr",
     "output_type": "stream",
     "text": [
      "yt : [WARNING  ] 2020-03-09 02:01:52,291 Assuming 1.0 = 1.0 cm\n",
      "yt : [WARNING  ] 2020-03-09 02:01:52,292 Assuming 1.0 = 1.0 s\n",
      "yt : [WARNING  ] 2020-03-09 02:01:52,293 Assuming 1.0 = 1.0 g\n",
      "yt : [WARNING  ] 2020-03-09 02:01:52,293 Assuming 1.0 = 1.0 K\n",
      "yt : [INFO     ] 2020-03-09 02:01:52,309 Parameters: current_time              = 1028666237039806.5\n",
      "yt : [INFO     ] 2020-03-09 02:01:52,310 Parameters: domain_dimensions         = [256 640   1]\n",
      "yt : [INFO     ] 2020-03-09 02:01:52,310 Parameters: domain_left_edge          = [-1.5450e+19 -3.8625e+19 -5.0000e-01]\n",
      "yt : [INFO     ] 2020-03-09 02:01:52,312 Parameters: domain_right_edge         = [1.5450e+19 3.8625e+19 5.0000e-01]\n",
      "yt : [INFO     ] 2020-03-09 02:01:52,313 Parameters: cosmological_simulation   = 0.0\n"
     ]
    },
    {
     "name": "stdout",
     "output_type": "stream",
     "text": [
      "mixing_layer.out1.00546\n"
     ]
    },
    {
     "name": "stderr",
     "output_type": "stream",
     "text": [
      "yt : [WARNING  ] 2020-03-09 02:01:52,361 Assuming 1.0 = 1.0 cm\n",
      "yt : [WARNING  ] 2020-03-09 02:01:52,363 Assuming 1.0 = 1.0 s\n",
      "yt : [WARNING  ] 2020-03-09 02:01:52,364 Assuming 1.0 = 1.0 g\n",
      "yt : [WARNING  ] 2020-03-09 02:01:52,365 Assuming 1.0 = 1.0 K\n",
      "yt : [INFO     ] 2020-03-09 02:01:52,378 Parameters: current_time              = 1030550418419782.9\n",
      "yt : [INFO     ] 2020-03-09 02:01:52,379 Parameters: domain_dimensions         = [256 640   1]\n",
      "yt : [INFO     ] 2020-03-09 02:01:52,380 Parameters: domain_left_edge          = [-1.5450e+19 -3.8625e+19 -5.0000e-01]\n",
      "yt : [INFO     ] 2020-03-09 02:01:52,381 Parameters: domain_right_edge         = [1.5450e+19 3.8625e+19 5.0000e-01]\n",
      "yt : [INFO     ] 2020-03-09 02:01:52,382 Parameters: cosmological_simulation   = 0.0\n"
     ]
    },
    {
     "name": "stdout",
     "output_type": "stream",
     "text": [
      "mixing_layer.out1.00547\n"
     ]
    },
    {
     "name": "stderr",
     "output_type": "stream",
     "text": [
      "yt : [WARNING  ] 2020-03-09 02:01:52,417 Assuming 1.0 = 1.0 cm\n",
      "yt : [WARNING  ] 2020-03-09 02:01:52,419 Assuming 1.0 = 1.0 s\n",
      "yt : [WARNING  ] 2020-03-09 02:01:52,420 Assuming 1.0 = 1.0 g\n",
      "yt : [WARNING  ] 2020-03-09 02:01:52,421 Assuming 1.0 = 1.0 K\n",
      "yt : [INFO     ] 2020-03-09 02:01:52,433 Parameters: current_time              = 1032433907629486.6\n",
      "yt : [INFO     ] 2020-03-09 02:01:52,434 Parameters: domain_dimensions         = [256 640   1]\n",
      "yt : [INFO     ] 2020-03-09 02:01:52,435 Parameters: domain_left_edge          = [-1.5450e+19 -3.8625e+19 -5.0000e-01]\n",
      "yt : [INFO     ] 2020-03-09 02:01:52,436 Parameters: domain_right_edge         = [1.5450e+19 3.8625e+19 5.0000e-01]\n",
      "yt : [INFO     ] 2020-03-09 02:01:52,436 Parameters: cosmological_simulation   = 0.0\n"
     ]
    },
    {
     "name": "stdout",
     "output_type": "stream",
     "text": [
      "mixing_layer.out1.00548\n"
     ]
    },
    {
     "name": "stderr",
     "output_type": "stream",
     "text": [
      "yt : [WARNING  ] 2020-03-09 02:01:52,471 Assuming 1.0 = 1.0 cm\n",
      "yt : [WARNING  ] 2020-03-09 02:01:52,473 Assuming 1.0 = 1.0 s\n",
      "yt : [WARNING  ] 2020-03-09 02:01:52,474 Assuming 1.0 = 1.0 g\n",
      "yt : [WARNING  ] 2020-03-09 02:01:52,475 Assuming 1.0 = 1.0 K\n",
      "yt : [INFO     ] 2020-03-09 02:01:52,488 Parameters: current_time              = 1034316606286343.6\n",
      "yt : [INFO     ] 2020-03-09 02:01:52,489 Parameters: domain_dimensions         = [256 640   1]\n",
      "yt : [INFO     ] 2020-03-09 02:01:52,490 Parameters: domain_left_edge          = [-1.5450e+19 -3.8625e+19 -5.0000e-01]\n",
      "yt : [INFO     ] 2020-03-09 02:01:52,490 Parameters: domain_right_edge         = [1.5450e+19 3.8625e+19 5.0000e-01]\n",
      "yt : [INFO     ] 2020-03-09 02:01:52,491 Parameters: cosmological_simulation   = 0.0\n"
     ]
    },
    {
     "name": "stdout",
     "output_type": "stream",
     "text": [
      "mixing_layer.out1.00549\n"
     ]
    },
    {
     "name": "stderr",
     "output_type": "stream",
     "text": [
      "yt : [WARNING  ] 2020-03-09 02:01:52,522 Assuming 1.0 = 1.0 cm\n",
      "yt : [WARNING  ] 2020-03-09 02:01:52,524 Assuming 1.0 = 1.0 s\n",
      "yt : [WARNING  ] 2020-03-09 02:01:52,525 Assuming 1.0 = 1.0 g\n",
      "yt : [WARNING  ] 2020-03-09 02:01:52,525 Assuming 1.0 = 1.0 K\n",
      "yt : [INFO     ] 2020-03-09 02:01:52,540 Parameters: current_time              = 1036200562712270.6\n",
      "yt : [INFO     ] 2020-03-09 02:01:52,541 Parameters: domain_dimensions         = [256 640   1]\n",
      "yt : [INFO     ] 2020-03-09 02:01:52,542 Parameters: domain_left_edge          = [-1.5450e+19 -3.8625e+19 -5.0000e-01]\n",
      "yt : [INFO     ] 2020-03-09 02:01:52,543 Parameters: domain_right_edge         = [1.5450e+19 3.8625e+19 5.0000e-01]\n",
      "yt : [INFO     ] 2020-03-09 02:01:52,543 Parameters: cosmological_simulation   = 0.0\n"
     ]
    },
    {
     "name": "stdout",
     "output_type": "stream",
     "text": [
      "mixing_layer.out1.00550\n"
     ]
    },
    {
     "name": "stderr",
     "output_type": "stream",
     "text": [
      "yt : [WARNING  ] 2020-03-09 02:01:52,574 Assuming 1.0 = 1.0 cm\n",
      "yt : [WARNING  ] 2020-03-09 02:01:52,575 Assuming 1.0 = 1.0 s\n",
      "yt : [WARNING  ] 2020-03-09 02:01:52,576 Assuming 1.0 = 1.0 g\n",
      "yt : [WARNING  ] 2020-03-09 02:01:52,577 Assuming 1.0 = 1.0 K\n",
      "yt : [INFO     ] 2020-03-09 02:01:52,588 Parameters: current_time              = 1038086509112036.6\n",
      "yt : [INFO     ] 2020-03-09 02:01:52,588 Parameters: domain_dimensions         = [256 640   1]\n",
      "yt : [INFO     ] 2020-03-09 02:01:52,589 Parameters: domain_left_edge          = [-1.5450e+19 -3.8625e+19 -5.0000e-01]\n",
      "yt : [INFO     ] 2020-03-09 02:01:52,592 Parameters: domain_right_edge         = [1.5450e+19 3.8625e+19 5.0000e-01]\n",
      "yt : [INFO     ] 2020-03-09 02:01:52,592 Parameters: cosmological_simulation   = 0.0\n"
     ]
    },
    {
     "name": "stdout",
     "output_type": "stream",
     "text": [
      "mixing_layer.out1.00551\n"
     ]
    },
    {
     "name": "stderr",
     "output_type": "stream",
     "text": [
      "yt : [WARNING  ] 2020-03-09 02:01:52,622 Assuming 1.0 = 1.0 cm\n",
      "yt : [WARNING  ] 2020-03-09 02:01:52,623 Assuming 1.0 = 1.0 s\n",
      "yt : [WARNING  ] 2020-03-09 02:01:52,624 Assuming 1.0 = 1.0 g\n",
      "yt : [WARNING  ] 2020-03-09 02:01:52,625 Assuming 1.0 = 1.0 K\n",
      "yt : [INFO     ] 2020-03-09 02:01:52,638 Parameters: current_time              = 1039970349600407.5\n",
      "yt : [INFO     ] 2020-03-09 02:01:52,639 Parameters: domain_dimensions         = [256 640   1]\n",
      "yt : [INFO     ] 2020-03-09 02:01:52,640 Parameters: domain_left_edge          = [-1.5450e+19 -3.8625e+19 -5.0000e-01]\n",
      "yt : [INFO     ] 2020-03-09 02:01:52,641 Parameters: domain_right_edge         = [1.5450e+19 3.8625e+19 5.0000e-01]\n",
      "yt : [INFO     ] 2020-03-09 02:01:52,641 Parameters: cosmological_simulation   = 0.0\n"
     ]
    },
    {
     "name": "stdout",
     "output_type": "stream",
     "text": [
      "mixing_layer.out1.00552\n"
     ]
    },
    {
     "name": "stderr",
     "output_type": "stream",
     "text": [
      "yt : [WARNING  ] 2020-03-09 02:01:52,670 Assuming 1.0 = 1.0 cm\n",
      "yt : [WARNING  ] 2020-03-09 02:01:52,672 Assuming 1.0 = 1.0 s\n",
      "yt : [WARNING  ] 2020-03-09 02:01:52,673 Assuming 1.0 = 1.0 g\n",
      "yt : [WARNING  ] 2020-03-09 02:01:52,674 Assuming 1.0 = 1.0 K\n",
      "yt : [INFO     ] 2020-03-09 02:01:52,687 Parameters: current_time              = 1041853059485348.8\n",
      "yt : [INFO     ] 2020-03-09 02:01:52,688 Parameters: domain_dimensions         = [256 640   1]\n",
      "yt : [INFO     ] 2020-03-09 02:01:52,689 Parameters: domain_left_edge          = [-1.5450e+19 -3.8625e+19 -5.0000e-01]\n",
      "yt : [INFO     ] 2020-03-09 02:01:52,690 Parameters: domain_right_edge         = [1.5450e+19 3.8625e+19 5.0000e-01]\n",
      "yt : [INFO     ] 2020-03-09 02:01:52,691 Parameters: cosmological_simulation   = 0.0\n"
     ]
    },
    {
     "name": "stdout",
     "output_type": "stream",
     "text": [
      "mixing_layer.out1.00553\n"
     ]
    },
    {
     "name": "stderr",
     "output_type": "stream",
     "text": [
      "yt : [WARNING  ] 2020-03-09 02:01:52,722 Assuming 1.0 = 1.0 cm\n",
      "yt : [WARNING  ] 2020-03-09 02:01:52,723 Assuming 1.0 = 1.0 s\n",
      "yt : [WARNING  ] 2020-03-09 02:01:52,724 Assuming 1.0 = 1.0 g\n",
      "yt : [WARNING  ] 2020-03-09 02:01:52,725 Assuming 1.0 = 1.0 K\n",
      "yt : [INFO     ] 2020-03-09 02:01:52,739 Parameters: current_time              = 1043737381255873.9\n",
      "yt : [INFO     ] 2020-03-09 02:01:52,740 Parameters: domain_dimensions         = [256 640   1]\n",
      "yt : [INFO     ] 2020-03-09 02:01:52,740 Parameters: domain_left_edge          = [-1.5450e+19 -3.8625e+19 -5.0000e-01]\n",
      "yt : [INFO     ] 2020-03-09 02:01:52,741 Parameters: domain_right_edge         = [1.5450e+19 3.8625e+19 5.0000e-01]\n",
      "yt : [INFO     ] 2020-03-09 02:01:52,742 Parameters: cosmological_simulation   = 0.0\n"
     ]
    },
    {
     "name": "stdout",
     "output_type": "stream",
     "text": [
      "mixing_layer.out1.00554\n"
     ]
    },
    {
     "name": "stderr",
     "output_type": "stream",
     "text": [
      "yt : [WARNING  ] 2020-03-09 02:01:52,772 Assuming 1.0 = 1.0 cm\n",
      "yt : [WARNING  ] 2020-03-09 02:01:52,773 Assuming 1.0 = 1.0 s\n",
      "yt : [WARNING  ] 2020-03-09 02:01:52,774 Assuming 1.0 = 1.0 g\n",
      "yt : [WARNING  ] 2020-03-09 02:01:52,775 Assuming 1.0 = 1.0 K\n",
      "yt : [INFO     ] 2020-03-09 02:01:52,788 Parameters: current_time              = 1045622500467647.6\n",
      "yt : [INFO     ] 2020-03-09 02:01:52,789 Parameters: domain_dimensions         = [256 640   1]\n",
      "yt : [INFO     ] 2020-03-09 02:01:52,790 Parameters: domain_left_edge          = [-1.5450e+19 -3.8625e+19 -5.0000e-01]\n",
      "yt : [INFO     ] 2020-03-09 02:01:52,791 Parameters: domain_right_edge         = [1.5450e+19 3.8625e+19 5.0000e-01]\n",
      "yt : [INFO     ] 2020-03-09 02:01:52,792 Parameters: cosmological_simulation   = 0.0\n"
     ]
    },
    {
     "name": "stdout",
     "output_type": "stream",
     "text": [
      "mixing_layer.out1.00555\n"
     ]
    },
    {
     "name": "stderr",
     "output_type": "stream",
     "text": [
      "yt : [WARNING  ] 2020-03-09 02:01:52,823 Assuming 1.0 = 1.0 cm\n",
      "yt : [WARNING  ] 2020-03-09 02:01:52,825 Assuming 1.0 = 1.0 s\n",
      "yt : [WARNING  ] 2020-03-09 02:01:52,825 Assuming 1.0 = 1.0 g\n",
      "yt : [WARNING  ] 2020-03-09 02:01:52,826 Assuming 1.0 = 1.0 K\n",
      "yt : [INFO     ] 2020-03-09 02:01:52,839 Parameters: current_time              = 1047505328511245.6\n",
      "yt : [INFO     ] 2020-03-09 02:01:52,840 Parameters: domain_dimensions         = [256 640   1]\n",
      "yt : [INFO     ] 2020-03-09 02:01:52,841 Parameters: domain_left_edge          = [-1.5450e+19 -3.8625e+19 -5.0000e-01]\n",
      "yt : [INFO     ] 2020-03-09 02:01:52,843 Parameters: domain_right_edge         = [1.5450e+19 3.8625e+19 5.0000e-01]\n",
      "yt : [INFO     ] 2020-03-09 02:01:52,843 Parameters: cosmological_simulation   = 0.0\n"
     ]
    },
    {
     "name": "stdout",
     "output_type": "stream",
     "text": [
      "mixing_layer.out1.00556\n"
     ]
    },
    {
     "name": "stderr",
     "output_type": "stream",
     "text": [
      "yt : [WARNING  ] 2020-03-09 02:01:52,872 Assuming 1.0 = 1.0 cm\n",
      "yt : [WARNING  ] 2020-03-09 02:01:52,873 Assuming 1.0 = 1.0 s\n",
      "yt : [WARNING  ] 2020-03-09 02:01:52,874 Assuming 1.0 = 1.0 g\n",
      "yt : [WARNING  ] 2020-03-09 02:01:52,875 Assuming 1.0 = 1.0 K\n",
      "yt : [INFO     ] 2020-03-09 02:01:52,886 Parameters: current_time              = 1049390311409743.5\n",
      "yt : [INFO     ] 2020-03-09 02:01:52,887 Parameters: domain_dimensions         = [256 640   1]\n",
      "yt : [INFO     ] 2020-03-09 02:01:52,888 Parameters: domain_left_edge          = [-1.5450e+19 -3.8625e+19 -5.0000e-01]\n",
      "yt : [INFO     ] 2020-03-09 02:01:52,889 Parameters: domain_right_edge         = [1.5450e+19 3.8625e+19 5.0000e-01]\n",
      "yt : [INFO     ] 2020-03-09 02:01:52,889 Parameters: cosmological_simulation   = 0.0\n"
     ]
    },
    {
     "name": "stdout",
     "output_type": "stream",
     "text": [
      "mixing_layer.out1.00557\n"
     ]
    },
    {
     "name": "stderr",
     "output_type": "stream",
     "text": [
      "yt : [WARNING  ] 2020-03-09 02:01:52,922 Assuming 1.0 = 1.0 cm\n",
      "yt : [WARNING  ] 2020-03-09 02:01:52,923 Assuming 1.0 = 1.0 s\n",
      "yt : [WARNING  ] 2020-03-09 02:01:52,924 Assuming 1.0 = 1.0 g\n",
      "yt : [WARNING  ] 2020-03-09 02:01:52,925 Assuming 1.0 = 1.0 K\n",
      "yt : [INFO     ] 2020-03-09 02:01:52,938 Parameters: current_time              = 1051273761832241.0\n",
      "yt : [INFO     ] 2020-03-09 02:01:52,939 Parameters: domain_dimensions         = [256 640   1]\n",
      "yt : [INFO     ] 2020-03-09 02:01:52,940 Parameters: domain_left_edge          = [-1.5450e+19 -3.8625e+19 -5.0000e-01]\n",
      "yt : [INFO     ] 2020-03-09 02:01:52,941 Parameters: domain_right_edge         = [1.5450e+19 3.8625e+19 5.0000e-01]\n",
      "yt : [INFO     ] 2020-03-09 02:01:52,941 Parameters: cosmological_simulation   = 0.0\n"
     ]
    },
    {
     "name": "stdout",
     "output_type": "stream",
     "text": [
      "mixing_layer.out1.00558\n"
     ]
    },
    {
     "name": "stderr",
     "output_type": "stream",
     "text": [
      "yt : [WARNING  ] 2020-03-09 02:01:52,971 Assuming 1.0 = 1.0 cm\n",
      "yt : [WARNING  ] 2020-03-09 02:01:52,972 Assuming 1.0 = 1.0 s\n",
      "yt : [WARNING  ] 2020-03-09 02:01:52,974 Assuming 1.0 = 1.0 g\n",
      "yt : [WARNING  ] 2020-03-09 02:01:52,975 Assuming 1.0 = 1.0 K\n",
      "yt : [INFO     ] 2020-03-09 02:01:52,986 Parameters: current_time              = 1053158805388328.5\n",
      "yt : [INFO     ] 2020-03-09 02:01:52,987 Parameters: domain_dimensions         = [256 640   1]\n",
      "yt : [INFO     ] 2020-03-09 02:01:52,988 Parameters: domain_left_edge          = [-1.5450e+19 -3.8625e+19 -5.0000e-01]\n",
      "yt : [INFO     ] 2020-03-09 02:01:52,989 Parameters: domain_right_edge         = [1.5450e+19 3.8625e+19 5.0000e-01]\n",
      "yt : [INFO     ] 2020-03-09 02:01:52,990 Parameters: cosmological_simulation   = 0.0\n"
     ]
    },
    {
     "name": "stdout",
     "output_type": "stream",
     "text": [
      "mixing_layer.out1.00559\n"
     ]
    },
    {
     "name": "stderr",
     "output_type": "stream",
     "text": [
      "yt : [WARNING  ] 2020-03-09 02:01:53,018 Assuming 1.0 = 1.0 cm\n",
      "yt : [WARNING  ] 2020-03-09 02:01:53,019 Assuming 1.0 = 1.0 s\n",
      "yt : [WARNING  ] 2020-03-09 02:01:53,020 Assuming 1.0 = 1.0 g\n",
      "yt : [WARNING  ] 2020-03-09 02:01:53,020 Assuming 1.0 = 1.0 K\n",
      "yt : [INFO     ] 2020-03-09 02:01:53,032 Parameters: current_time              = 1055040506438782.6\n",
      "yt : [INFO     ] 2020-03-09 02:01:53,033 Parameters: domain_dimensions         = [256 640   1]\n",
      "yt : [INFO     ] 2020-03-09 02:01:53,034 Parameters: domain_left_edge          = [-1.5450e+19 -3.8625e+19 -5.0000e-01]\n",
      "yt : [INFO     ] 2020-03-09 02:01:53,035 Parameters: domain_right_edge         = [1.5450e+19 3.8625e+19 5.0000e-01]\n",
      "yt : [INFO     ] 2020-03-09 02:01:53,036 Parameters: cosmological_simulation   = 0.0\n"
     ]
    },
    {
     "name": "stdout",
     "output_type": "stream",
     "text": [
      "mixing_layer.out1.00560\n"
     ]
    },
    {
     "name": "stderr",
     "output_type": "stream",
     "text": [
      "yt : [WARNING  ] 2020-03-09 02:01:53,068 Assuming 1.0 = 1.0 cm\n",
      "yt : [WARNING  ] 2020-03-09 02:01:53,069 Assuming 1.0 = 1.0 s\n",
      "yt : [WARNING  ] 2020-03-09 02:01:53,069 Assuming 1.0 = 1.0 g\n",
      "yt : [WARNING  ] 2020-03-09 02:01:53,070 Assuming 1.0 = 1.0 K\n",
      "yt : [INFO     ] 2020-03-09 02:01:53,081 Parameters: current_time              = 1056926000525767.4\n",
      "yt : [INFO     ] 2020-03-09 02:01:53,083 Parameters: domain_dimensions         = [256 640   1]\n",
      "yt : [INFO     ] 2020-03-09 02:01:53,084 Parameters: domain_left_edge          = [-1.5450e+19 -3.8625e+19 -5.0000e-01]\n",
      "yt : [INFO     ] 2020-03-09 02:01:53,085 Parameters: domain_right_edge         = [1.5450e+19 3.8625e+19 5.0000e-01]\n",
      "yt : [INFO     ] 2020-03-09 02:01:53,086 Parameters: cosmological_simulation   = 0.0\n"
     ]
    },
    {
     "name": "stdout",
     "output_type": "stream",
     "text": [
      "mixing_layer.out1.00561\n"
     ]
    },
    {
     "name": "stderr",
     "output_type": "stream",
     "text": [
      "yt : [WARNING  ] 2020-03-09 02:01:53,117 Assuming 1.0 = 1.0 cm\n",
      "yt : [WARNING  ] 2020-03-09 02:01:53,118 Assuming 1.0 = 1.0 s\n",
      "yt : [WARNING  ] 2020-03-09 02:01:53,119 Assuming 1.0 = 1.0 g\n",
      "yt : [WARNING  ] 2020-03-09 02:01:53,120 Assuming 1.0 = 1.0 K\n",
      "yt : [INFO     ] 2020-03-09 02:01:53,131 Parameters: current_time              = 1058808898139644.0\n",
      "yt : [INFO     ] 2020-03-09 02:01:53,132 Parameters: domain_dimensions         = [256 640   1]\n",
      "yt : [INFO     ] 2020-03-09 02:01:53,133 Parameters: domain_left_edge          = [-1.5450e+19 -3.8625e+19 -5.0000e-01]\n",
      "yt : [INFO     ] 2020-03-09 02:01:53,134 Parameters: domain_right_edge         = [1.5450e+19 3.8625e+19 5.0000e-01]\n",
      "yt : [INFO     ] 2020-03-09 02:01:53,134 Parameters: cosmological_simulation   = 0.0\n"
     ]
    },
    {
     "name": "stdout",
     "output_type": "stream",
     "text": [
      "mixing_layer.out1.00562\n"
     ]
    },
    {
     "name": "stderr",
     "output_type": "stream",
     "text": [
      "yt : [WARNING  ] 2020-03-09 02:01:53,166 Assuming 1.0 = 1.0 cm\n",
      "yt : [WARNING  ] 2020-03-09 02:01:53,167 Assuming 1.0 = 1.0 s\n",
      "yt : [WARNING  ] 2020-03-09 02:01:53,168 Assuming 1.0 = 1.0 g\n",
      "yt : [WARNING  ] 2020-03-09 02:01:53,169 Assuming 1.0 = 1.0 K\n",
      "yt : [INFO     ] 2020-03-09 02:01:53,181 Parameters: current_time              = 1060693935480215.4\n",
      "yt : [INFO     ] 2020-03-09 02:01:53,181 Parameters: domain_dimensions         = [256 640   1]\n",
      "yt : [INFO     ] 2020-03-09 02:01:53,183 Parameters: domain_left_edge          = [-1.5450e+19 -3.8625e+19 -5.0000e-01]\n",
      "yt : [INFO     ] 2020-03-09 02:01:53,184 Parameters: domain_right_edge         = [1.5450e+19 3.8625e+19 5.0000e-01]\n",
      "yt : [INFO     ] 2020-03-09 02:01:53,186 Parameters: cosmological_simulation   = 0.0\n"
     ]
    },
    {
     "name": "stdout",
     "output_type": "stream",
     "text": [
      "mixing_layer.out1.00563\n"
     ]
    },
    {
     "name": "stderr",
     "output_type": "stream",
     "text": [
      "yt : [WARNING  ] 2020-03-09 02:01:53,222 Assuming 1.0 = 1.0 cm\n",
      "yt : [WARNING  ] 2020-03-09 02:01:53,223 Assuming 1.0 = 1.0 s\n",
      "yt : [WARNING  ] 2020-03-09 02:01:53,224 Assuming 1.0 = 1.0 g\n",
      "yt : [WARNING  ] 2020-03-09 02:01:53,225 Assuming 1.0 = 1.0 K\n",
      "yt : [INFO     ] 2020-03-09 02:01:53,238 Parameters: current_time              = 1062577092335204.6\n",
      "yt : [INFO     ] 2020-03-09 02:01:53,239 Parameters: domain_dimensions         = [256 640   1]\n",
      "yt : [INFO     ] 2020-03-09 02:01:53,240 Parameters: domain_left_edge          = [-1.5450e+19 -3.8625e+19 -5.0000e-01]\n",
      "yt : [INFO     ] 2020-03-09 02:01:53,241 Parameters: domain_right_edge         = [1.5450e+19 3.8625e+19 5.0000e-01]\n",
      "yt : [INFO     ] 2020-03-09 02:01:53,242 Parameters: cosmological_simulation   = 0.0\n"
     ]
    },
    {
     "name": "stdout",
     "output_type": "stream",
     "text": [
      "mixing_layer.out1.00564\n"
     ]
    },
    {
     "name": "stderr",
     "output_type": "stream",
     "text": [
      "yt : [WARNING  ] 2020-03-09 02:01:53,272 Assuming 1.0 = 1.0 cm\n",
      "yt : [WARNING  ] 2020-03-09 02:01:53,273 Assuming 1.0 = 1.0 s\n",
      "yt : [WARNING  ] 2020-03-09 02:01:53,274 Assuming 1.0 = 1.0 g\n",
      "yt : [WARNING  ] 2020-03-09 02:01:53,275 Assuming 1.0 = 1.0 K\n",
      "yt : [INFO     ] 2020-03-09 02:01:53,287 Parameters: current_time              = 1064461986923415.9\n",
      "yt : [INFO     ] 2020-03-09 02:01:53,288 Parameters: domain_dimensions         = [256 640   1]\n",
      "yt : [INFO     ] 2020-03-09 02:01:53,289 Parameters: domain_left_edge          = [-1.5450e+19 -3.8625e+19 -5.0000e-01]\n",
      "yt : [INFO     ] 2020-03-09 02:01:53,290 Parameters: domain_right_edge         = [1.5450e+19 3.8625e+19 5.0000e-01]\n",
      "yt : [INFO     ] 2020-03-09 02:01:53,291 Parameters: cosmological_simulation   = 0.0\n"
     ]
    },
    {
     "name": "stdout",
     "output_type": "stream",
     "text": [
      "mixing_layer.out1.00565\n"
     ]
    },
    {
     "name": "stderr",
     "output_type": "stream",
     "text": [
      "yt : [WARNING  ] 2020-03-09 02:01:53,324 Assuming 1.0 = 1.0 cm\n",
      "yt : [WARNING  ] 2020-03-09 02:01:53,326 Assuming 1.0 = 1.0 s\n",
      "yt : [WARNING  ] 2020-03-09 02:01:53,327 Assuming 1.0 = 1.0 g\n",
      "yt : [WARNING  ] 2020-03-09 02:01:53,328 Assuming 1.0 = 1.0 K\n",
      "yt : [INFO     ] 2020-03-09 02:01:53,339 Parameters: current_time              = 1066346736589043.4\n",
      "yt : [INFO     ] 2020-03-09 02:01:53,340 Parameters: domain_dimensions         = [256 640   1]\n",
      "yt : [INFO     ] 2020-03-09 02:01:53,341 Parameters: domain_left_edge          = [-1.5450e+19 -3.8625e+19 -5.0000e-01]\n",
      "yt : [INFO     ] 2020-03-09 02:01:53,342 Parameters: domain_right_edge         = [1.5450e+19 3.8625e+19 5.0000e-01]\n",
      "yt : [INFO     ] 2020-03-09 02:01:53,342 Parameters: cosmological_simulation   = 0.0\n"
     ]
    },
    {
     "name": "stdout",
     "output_type": "stream",
     "text": [
      "mixing_layer.out1.00566\n"
     ]
    },
    {
     "name": "stderr",
     "output_type": "stream",
     "text": [
      "yt : [WARNING  ] 2020-03-09 02:01:53,371 Assuming 1.0 = 1.0 cm\n",
      "yt : [WARNING  ] 2020-03-09 02:01:53,372 Assuming 1.0 = 1.0 s\n",
      "yt : [WARNING  ] 2020-03-09 02:01:53,373 Assuming 1.0 = 1.0 g\n",
      "yt : [WARNING  ] 2020-03-09 02:01:53,374 Assuming 1.0 = 1.0 K\n",
      "yt : [INFO     ] 2020-03-09 02:01:53,386 Parameters: current_time              = 1068228764034308.2\n",
      "yt : [INFO     ] 2020-03-09 02:01:53,386 Parameters: domain_dimensions         = [256 640   1]\n",
      "yt : [INFO     ] 2020-03-09 02:01:53,387 Parameters: domain_left_edge          = [-1.5450e+19 -3.8625e+19 -5.0000e-01]\n",
      "yt : [INFO     ] 2020-03-09 02:01:53,388 Parameters: domain_right_edge         = [1.5450e+19 3.8625e+19 5.0000e-01]\n",
      "yt : [INFO     ] 2020-03-09 02:01:53,389 Parameters: cosmological_simulation   = 0.0\n"
     ]
    },
    {
     "name": "stdout",
     "output_type": "stream",
     "text": [
      "mixing_layer.out1.00567\n"
     ]
    },
    {
     "name": "stderr",
     "output_type": "stream",
     "text": [
      "yt : [WARNING  ] 2020-03-09 02:01:53,421 Assuming 1.0 = 1.0 cm\n",
      "yt : [WARNING  ] 2020-03-09 02:01:53,423 Assuming 1.0 = 1.0 s\n",
      "yt : [WARNING  ] 2020-03-09 02:01:53,423 Assuming 1.0 = 1.0 g\n",
      "yt : [WARNING  ] 2020-03-09 02:01:53,424 Assuming 1.0 = 1.0 K\n",
      "yt : [INFO     ] 2020-03-09 02:01:53,438 Parameters: current_time              = 1070114680222901.1\n",
      "yt : [INFO     ] 2020-03-09 02:01:53,439 Parameters: domain_dimensions         = [256 640   1]\n",
      "yt : [INFO     ] 2020-03-09 02:01:53,440 Parameters: domain_left_edge          = [-1.5450e+19 -3.8625e+19 -5.0000e-01]\n",
      "yt : [INFO     ] 2020-03-09 02:01:53,440 Parameters: domain_right_edge         = [1.5450e+19 3.8625e+19 5.0000e-01]\n",
      "yt : [INFO     ] 2020-03-09 02:01:53,441 Parameters: cosmological_simulation   = 0.0\n"
     ]
    },
    {
     "name": "stdout",
     "output_type": "stream",
     "text": [
      "mixing_layer.out1.00568\n"
     ]
    },
    {
     "name": "stderr",
     "output_type": "stream",
     "text": [
      "yt : [WARNING  ] 2020-03-09 02:01:53,473 Assuming 1.0 = 1.0 cm\n",
      "yt : [WARNING  ] 2020-03-09 02:01:53,474 Assuming 1.0 = 1.0 s\n",
      "yt : [WARNING  ] 2020-03-09 02:01:53,475 Assuming 1.0 = 1.0 g\n",
      "yt : [WARNING  ] 2020-03-09 02:01:53,476 Assuming 1.0 = 1.0 K\n",
      "yt : [INFO     ] 2020-03-09 02:01:53,487 Parameters: current_time              = 1071997336664073.6\n",
      "yt : [INFO     ] 2020-03-09 02:01:53,488 Parameters: domain_dimensions         = [256 640   1]\n",
      "yt : [INFO     ] 2020-03-09 02:01:53,489 Parameters: domain_left_edge          = [-1.5450e+19 -3.8625e+19 -5.0000e-01]\n",
      "yt : [INFO     ] 2020-03-09 02:01:53,490 Parameters: domain_right_edge         = [1.5450e+19 3.8625e+19 5.0000e-01]\n",
      "yt : [INFO     ] 2020-03-09 02:01:53,491 Parameters: cosmological_simulation   = 0.0\n"
     ]
    },
    {
     "name": "stdout",
     "output_type": "stream",
     "text": [
      "mixing_layer.out1.00569\n"
     ]
    },
    {
     "name": "stderr",
     "output_type": "stream",
     "text": [
      "yt : [WARNING  ] 2020-03-09 02:01:53,521 Assuming 1.0 = 1.0 cm\n",
      "yt : [WARNING  ] 2020-03-09 02:01:53,523 Assuming 1.0 = 1.0 s\n",
      "yt : [WARNING  ] 2020-03-09 02:01:53,523 Assuming 1.0 = 1.0 g\n",
      "yt : [WARNING  ] 2020-03-09 02:01:53,524 Assuming 1.0 = 1.0 K\n",
      "yt : [INFO     ] 2020-03-09 02:01:53,539 Parameters: current_time              = 1073880960547691.2\n",
      "yt : [INFO     ] 2020-03-09 02:01:53,540 Parameters: domain_dimensions         = [256 640   1]\n",
      "yt : [INFO     ] 2020-03-09 02:01:53,541 Parameters: domain_left_edge          = [-1.5450e+19 -3.8625e+19 -5.0000e-01]\n",
      "yt : [INFO     ] 2020-03-09 02:01:53,542 Parameters: domain_right_edge         = [1.5450e+19 3.8625e+19 5.0000e-01]\n",
      "yt : [INFO     ] 2020-03-09 02:01:53,543 Parameters: cosmological_simulation   = 0.0\n"
     ]
    },
    {
     "name": "stdout",
     "output_type": "stream",
     "text": [
      "mixing_layer.out1.00570\n"
     ]
    },
    {
     "name": "stderr",
     "output_type": "stream",
     "text": [
      "yt : [WARNING  ] 2020-03-09 02:01:53,579 Assuming 1.0 = 1.0 cm\n",
      "yt : [WARNING  ] 2020-03-09 02:01:53,580 Assuming 1.0 = 1.0 s\n",
      "yt : [WARNING  ] 2020-03-09 02:01:53,581 Assuming 1.0 = 1.0 g\n",
      "yt : [WARNING  ] 2020-03-09 02:01:53,582 Assuming 1.0 = 1.0 K\n",
      "yt : [INFO     ] 2020-03-09 02:01:53,593 Parameters: current_time              = 1075765278306384.0\n",
      "yt : [INFO     ] 2020-03-09 02:01:53,593 Parameters: domain_dimensions         = [256 640   1]\n",
      "yt : [INFO     ] 2020-03-09 02:01:53,595 Parameters: domain_left_edge          = [-1.5450e+19 -3.8625e+19 -5.0000e-01]\n",
      "yt : [INFO     ] 2020-03-09 02:01:53,595 Parameters: domain_right_edge         = [1.5450e+19 3.8625e+19 5.0000e-01]\n",
      "yt : [INFO     ] 2020-03-09 02:01:53,596 Parameters: cosmological_simulation   = 0.0\n"
     ]
    },
    {
     "name": "stdout",
     "output_type": "stream",
     "text": [
      "mixing_layer.out1.00571\n"
     ]
    },
    {
     "name": "stderr",
     "output_type": "stream",
     "text": [
      "yt : [WARNING  ] 2020-03-09 02:01:53,627 Assuming 1.0 = 1.0 cm\n",
      "yt : [WARNING  ] 2020-03-09 02:01:53,628 Assuming 1.0 = 1.0 s\n",
      "yt : [WARNING  ] 2020-03-09 02:01:53,629 Assuming 1.0 = 1.0 g\n",
      "yt : [WARNING  ] 2020-03-09 02:01:53,630 Assuming 1.0 = 1.0 K\n",
      "yt : [INFO     ] 2020-03-09 02:01:53,642 Parameters: current_time              = 1077650453876531.5\n",
      "yt : [INFO     ] 2020-03-09 02:01:53,642 Parameters: domain_dimensions         = [256 640   1]\n",
      "yt : [INFO     ] 2020-03-09 02:01:53,643 Parameters: domain_left_edge          = [-1.5450e+19 -3.8625e+19 -5.0000e-01]\n",
      "yt : [INFO     ] 2020-03-09 02:01:53,644 Parameters: domain_right_edge         = [1.5450e+19 3.8625e+19 5.0000e-01]\n",
      "yt : [INFO     ] 2020-03-09 02:01:53,646 Parameters: cosmological_simulation   = 0.0\n"
     ]
    },
    {
     "name": "stdout",
     "output_type": "stream",
     "text": [
      "mixing_layer.out1.00572\n"
     ]
    },
    {
     "name": "stderr",
     "output_type": "stream",
     "text": [
      "yt : [WARNING  ] 2020-03-09 02:01:53,676 Assuming 1.0 = 1.0 cm\n",
      "yt : [WARNING  ] 2020-03-09 02:01:53,677 Assuming 1.0 = 1.0 s\n",
      "yt : [WARNING  ] 2020-03-09 02:01:53,678 Assuming 1.0 = 1.0 g\n",
      "yt : [WARNING  ] 2020-03-09 02:01:53,679 Assuming 1.0 = 1.0 K\n",
      "yt : [INFO     ] 2020-03-09 02:01:53,693 Parameters: current_time              = 1079534256446789.9\n",
      "yt : [INFO     ] 2020-03-09 02:01:53,694 Parameters: domain_dimensions         = [256 640   1]\n",
      "yt : [INFO     ] 2020-03-09 02:01:53,694 Parameters: domain_left_edge          = [-1.5450e+19 -3.8625e+19 -5.0000e-01]\n",
      "yt : [INFO     ] 2020-03-09 02:01:53,696 Parameters: domain_right_edge         = [1.5450e+19 3.8625e+19 5.0000e-01]\n",
      "yt : [INFO     ] 2020-03-09 02:01:53,696 Parameters: cosmological_simulation   = 0.0\n"
     ]
    },
    {
     "name": "stdout",
     "output_type": "stream",
     "text": [
      "mixing_layer.out1.00573\n"
     ]
    },
    {
     "name": "stderr",
     "output_type": "stream",
     "text": [
      "yt : [WARNING  ] 2020-03-09 02:01:53,729 Assuming 1.0 = 1.0 cm\n",
      "yt : [WARNING  ] 2020-03-09 02:01:53,730 Assuming 1.0 = 1.0 s\n",
      "yt : [WARNING  ] 2020-03-09 02:01:53,731 Assuming 1.0 = 1.0 g\n",
      "yt : [WARNING  ] 2020-03-09 02:01:53,732 Assuming 1.0 = 1.0 K\n",
      "yt : [INFO     ] 2020-03-09 02:01:53,742 Parameters: current_time              = 1081417762700234.1\n",
      "yt : [INFO     ] 2020-03-09 02:01:53,743 Parameters: domain_dimensions         = [256 640   1]\n",
      "yt : [INFO     ] 2020-03-09 02:01:53,744 Parameters: domain_left_edge          = [-1.5450e+19 -3.8625e+19 -5.0000e-01]\n",
      "yt : [INFO     ] 2020-03-09 02:01:53,745 Parameters: domain_right_edge         = [1.5450e+19 3.8625e+19 5.0000e-01]\n",
      "yt : [INFO     ] 2020-03-09 02:01:53,746 Parameters: cosmological_simulation   = 0.0\n"
     ]
    },
    {
     "name": "stdout",
     "output_type": "stream",
     "text": [
      "mixing_layer.out1.00574\n"
     ]
    },
    {
     "name": "stderr",
     "output_type": "stream",
     "text": [
      "yt : [WARNING  ] 2020-03-09 02:01:53,776 Assuming 1.0 = 1.0 cm\n",
      "yt : [WARNING  ] 2020-03-09 02:01:53,777 Assuming 1.0 = 1.0 s\n",
      "yt : [WARNING  ] 2020-03-09 02:01:53,777 Assuming 1.0 = 1.0 g\n",
      "yt : [WARNING  ] 2020-03-09 02:01:53,778 Assuming 1.0 = 1.0 K\n",
      "yt : [INFO     ] 2020-03-09 02:01:53,792 Parameters: current_time              = 1083300048326977.0\n",
      "yt : [INFO     ] 2020-03-09 02:01:53,793 Parameters: domain_dimensions         = [256 640   1]\n",
      "yt : [INFO     ] 2020-03-09 02:01:53,794 Parameters: domain_left_edge          = [-1.5450e+19 -3.8625e+19 -5.0000e-01]\n",
      "yt : [INFO     ] 2020-03-09 02:01:53,795 Parameters: domain_right_edge         = [1.5450e+19 3.8625e+19 5.0000e-01]\n",
      "yt : [INFO     ] 2020-03-09 02:01:53,796 Parameters: cosmological_simulation   = 0.0\n"
     ]
    },
    {
     "name": "stdout",
     "output_type": "stream",
     "text": [
      "mixing_layer.out1.00575\n"
     ]
    },
    {
     "name": "stderr",
     "output_type": "stream",
     "text": [
      "yt : [WARNING  ] 2020-03-09 02:01:53,828 Assuming 1.0 = 1.0 cm\n",
      "yt : [WARNING  ] 2020-03-09 02:01:53,829 Assuming 1.0 = 1.0 s\n",
      "yt : [WARNING  ] 2020-03-09 02:01:53,830 Assuming 1.0 = 1.0 g\n",
      "yt : [WARNING  ] 2020-03-09 02:01:53,831 Assuming 1.0 = 1.0 K\n",
      "yt : [INFO     ] 2020-03-09 02:01:53,842 Parameters: current_time              = 1085185094535305.9\n",
      "yt : [INFO     ] 2020-03-09 02:01:53,843 Parameters: domain_dimensions         = [256 640   1]\n",
      "yt : [INFO     ] 2020-03-09 02:01:53,844 Parameters: domain_left_edge          = [-1.5450e+19 -3.8625e+19 -5.0000e-01]\n",
      "yt : [INFO     ] 2020-03-09 02:01:53,845 Parameters: domain_right_edge         = [1.5450e+19 3.8625e+19 5.0000e-01]\n",
      "yt : [INFO     ] 2020-03-09 02:01:53,847 Parameters: cosmological_simulation   = 0.0\n"
     ]
    },
    {
     "name": "stdout",
     "output_type": "stream",
     "text": [
      "mixing_layer.out1.00576\n"
     ]
    },
    {
     "name": "stderr",
     "output_type": "stream",
     "text": [
      "yt : [WARNING  ] 2020-03-09 02:01:53,875 Assuming 1.0 = 1.0 cm\n",
      "yt : [WARNING  ] 2020-03-09 02:01:53,876 Assuming 1.0 = 1.0 s\n",
      "yt : [WARNING  ] 2020-03-09 02:01:53,877 Assuming 1.0 = 1.0 g\n",
      "yt : [WARNING  ] 2020-03-09 02:01:53,878 Assuming 1.0 = 1.0 K\n",
      "yt : [INFO     ] 2020-03-09 02:01:53,891 Parameters: current_time              = 1087069823072270.0\n",
      "yt : [INFO     ] 2020-03-09 02:01:53,892 Parameters: domain_dimensions         = [256 640   1]\n",
      "yt : [INFO     ] 2020-03-09 02:01:53,893 Parameters: domain_left_edge          = [-1.5450e+19 -3.8625e+19 -5.0000e-01]\n",
      "yt : [INFO     ] 2020-03-09 02:01:53,894 Parameters: domain_right_edge         = [1.5450e+19 3.8625e+19 5.0000e-01]\n",
      "yt : [INFO     ] 2020-03-09 02:01:53,895 Parameters: cosmological_simulation   = 0.0\n"
     ]
    },
    {
     "name": "stdout",
     "output_type": "stream",
     "text": [
      "mixing_layer.out1.00577\n"
     ]
    },
    {
     "name": "stderr",
     "output_type": "stream",
     "text": [
      "yt : [WARNING  ] 2020-03-09 02:01:53,925 Assuming 1.0 = 1.0 cm\n",
      "yt : [WARNING  ] 2020-03-09 02:01:53,926 Assuming 1.0 = 1.0 s\n",
      "yt : [WARNING  ] 2020-03-09 02:01:53,927 Assuming 1.0 = 1.0 g\n",
      "yt : [WARNING  ] 2020-03-09 02:01:53,927 Assuming 1.0 = 1.0 K\n",
      "yt : [INFO     ] 2020-03-09 02:01:53,938 Parameters: current_time              = 1088952028979478.2\n",
      "yt : [INFO     ] 2020-03-09 02:01:53,939 Parameters: domain_dimensions         = [256 640   1]\n",
      "yt : [INFO     ] 2020-03-09 02:01:53,940 Parameters: domain_left_edge          = [-1.5450e+19 -3.8625e+19 -5.0000e-01]\n",
      "yt : [INFO     ] 2020-03-09 02:01:53,941 Parameters: domain_right_edge         = [1.5450e+19 3.8625e+19 5.0000e-01]\n",
      "yt : [INFO     ] 2020-03-09 02:01:53,941 Parameters: cosmological_simulation   = 0.0\n"
     ]
    },
    {
     "name": "stdout",
     "output_type": "stream",
     "text": [
      "mixing_layer.out1.00578\n"
     ]
    },
    {
     "name": "stderr",
     "output_type": "stream",
     "text": [
      "yt : [WARNING  ] 2020-03-09 02:01:53,974 Assuming 1.0 = 1.0 cm\n",
      "yt : [WARNING  ] 2020-03-09 02:01:53,975 Assuming 1.0 = 1.0 s\n",
      "yt : [WARNING  ] 2020-03-09 02:01:53,976 Assuming 1.0 = 1.0 g\n",
      "yt : [WARNING  ] 2020-03-09 02:01:53,977 Assuming 1.0 = 1.0 K\n",
      "yt : [INFO     ] 2020-03-09 02:01:53,990 Parameters: current_time              = 1090837717729748.9\n",
      "yt : [INFO     ] 2020-03-09 02:01:53,991 Parameters: domain_dimensions         = [256 640   1]\n",
      "yt : [INFO     ] 2020-03-09 02:01:53,991 Parameters: domain_left_edge          = [-1.5450e+19 -3.8625e+19 -5.0000e-01]\n",
      "yt : [INFO     ] 2020-03-09 02:01:53,992 Parameters: domain_right_edge         = [1.5450e+19 3.8625e+19 5.0000e-01]\n",
      "yt : [INFO     ] 2020-03-09 02:01:53,993 Parameters: cosmological_simulation   = 0.0\n"
     ]
    },
    {
     "name": "stdout",
     "output_type": "stream",
     "text": [
      "mixing_layer.out1.00579\n"
     ]
    },
    {
     "name": "stderr",
     "output_type": "stream",
     "text": [
      "yt : [WARNING  ] 2020-03-09 02:01:54,025 Assuming 1.0 = 1.0 cm\n",
      "yt : [WARNING  ] 2020-03-09 02:01:54,026 Assuming 1.0 = 1.0 s\n",
      "yt : [WARNING  ] 2020-03-09 02:01:54,027 Assuming 1.0 = 1.0 g\n",
      "yt : [WARNING  ] 2020-03-09 02:01:54,028 Assuming 1.0 = 1.0 K\n",
      "yt : [INFO     ] 2020-03-09 02:01:54,042 Parameters: current_time              = 1092720675936121.8\n",
      "yt : [INFO     ] 2020-03-09 02:01:54,042 Parameters: domain_dimensions         = [256 640   1]\n",
      "yt : [INFO     ] 2020-03-09 02:01:54,043 Parameters: domain_left_edge          = [-1.5450e+19 -3.8625e+19 -5.0000e-01]\n",
      "yt : [INFO     ] 2020-03-09 02:01:54,045 Parameters: domain_right_edge         = [1.5450e+19 3.8625e+19 5.0000e-01]\n",
      "yt : [INFO     ] 2020-03-09 02:01:54,046 Parameters: cosmological_simulation   = 0.0\n"
     ]
    },
    {
     "name": "stdout",
     "output_type": "stream",
     "text": [
      "mixing_layer.out1.00580\n"
     ]
    },
    {
     "name": "stderr",
     "output_type": "stream",
     "text": [
      "yt : [WARNING  ] 2020-03-09 02:01:54,076 Assuming 1.0 = 1.0 cm\n",
      "yt : [WARNING  ] 2020-03-09 02:01:54,078 Assuming 1.0 = 1.0 s\n",
      "yt : [WARNING  ] 2020-03-09 02:01:54,078 Assuming 1.0 = 1.0 g\n",
      "yt : [WARNING  ] 2020-03-09 02:01:54,079 Assuming 1.0 = 1.0 K\n",
      "yt : [INFO     ] 2020-03-09 02:01:54,092 Parameters: current_time              = 1094604694777541.0\n",
      "yt : [INFO     ] 2020-03-09 02:01:54,093 Parameters: domain_dimensions         = [256 640   1]\n",
      "yt : [INFO     ] 2020-03-09 02:01:54,093 Parameters: domain_left_edge          = [-1.5450e+19 -3.8625e+19 -5.0000e-01]\n",
      "yt : [INFO     ] 2020-03-09 02:01:54,094 Parameters: domain_right_edge         = [1.5450e+19 3.8625e+19 5.0000e-01]\n",
      "yt : [INFO     ] 2020-03-09 02:01:54,095 Parameters: cosmological_simulation   = 0.0\n"
     ]
    },
    {
     "name": "stdout",
     "output_type": "stream",
     "text": [
      "mixing_layer.out1.00581\n"
     ]
    },
    {
     "name": "stderr",
     "output_type": "stream",
     "text": [
      "yt : [WARNING  ] 2020-03-09 02:01:54,127 Assuming 1.0 = 1.0 cm\n",
      "yt : [WARNING  ] 2020-03-09 02:01:54,128 Assuming 1.0 = 1.0 s\n",
      "yt : [WARNING  ] 2020-03-09 02:01:54,129 Assuming 1.0 = 1.0 g\n",
      "yt : [WARNING  ] 2020-03-09 02:01:54,131 Assuming 1.0 = 1.0 K\n",
      "yt : [INFO     ] 2020-03-09 02:01:54,144 Parameters: current_time              = 1096489574997546.9\n",
      "yt : [INFO     ] 2020-03-09 02:01:54,144 Parameters: domain_dimensions         = [256 640   1]\n",
      "yt : [INFO     ] 2020-03-09 02:01:54,145 Parameters: domain_left_edge          = [-1.5450e+19 -3.8625e+19 -5.0000e-01]\n",
      "yt : [INFO     ] 2020-03-09 02:01:54,146 Parameters: domain_right_edge         = [1.5450e+19 3.8625e+19 5.0000e-01]\n",
      "yt : [INFO     ] 2020-03-09 02:01:54,148 Parameters: cosmological_simulation   = 0.0\n"
     ]
    },
    {
     "name": "stdout",
     "output_type": "stream",
     "text": [
      "mixing_layer.out1.00582\n"
     ]
    },
    {
     "name": "stderr",
     "output_type": "stream",
     "text": [
      "yt : [WARNING  ] 2020-03-09 02:01:54,177 Assuming 1.0 = 1.0 cm\n",
      "yt : [WARNING  ] 2020-03-09 02:01:54,179 Assuming 1.0 = 1.0 s\n",
      "yt : [WARNING  ] 2020-03-09 02:01:54,179 Assuming 1.0 = 1.0 g\n",
      "yt : [WARNING  ] 2020-03-09 02:01:54,180 Assuming 1.0 = 1.0 K\n",
      "yt : [INFO     ] 2020-03-09 02:01:54,193 Parameters: current_time              = 1098374301176495.0\n",
      "yt : [INFO     ] 2020-03-09 02:01:54,193 Parameters: domain_dimensions         = [256 640   1]\n",
      "yt : [INFO     ] 2020-03-09 02:01:54,194 Parameters: domain_left_edge          = [-1.5450e+19 -3.8625e+19 -5.0000e-01]\n",
      "yt : [INFO     ] 2020-03-09 02:01:54,195 Parameters: domain_right_edge         = [1.5450e+19 3.8625e+19 5.0000e-01]\n",
      "yt : [INFO     ] 2020-03-09 02:01:54,196 Parameters: cosmological_simulation   = 0.0\n"
     ]
    },
    {
     "name": "stdout",
     "output_type": "stream",
     "text": [
      "mixing_layer.out1.00583\n"
     ]
    },
    {
     "name": "stderr",
     "output_type": "stream",
     "text": [
      "yt : [WARNING  ] 2020-03-09 02:01:54,232 Assuming 1.0 = 1.0 cm\n",
      "yt : [WARNING  ] 2020-03-09 02:01:54,233 Assuming 1.0 = 1.0 s\n",
      "yt : [WARNING  ] 2020-03-09 02:01:54,234 Assuming 1.0 = 1.0 g\n",
      "yt : [WARNING  ] 2020-03-09 02:01:54,234 Assuming 1.0 = 1.0 K\n",
      "yt : [INFO     ] 2020-03-09 02:01:54,246 Parameters: current_time              = 1100257299366946.9\n",
      "yt : [INFO     ] 2020-03-09 02:01:54,247 Parameters: domain_dimensions         = [256 640   1]\n",
      "yt : [INFO     ] 2020-03-09 02:01:54,247 Parameters: domain_left_edge          = [-1.5450e+19 -3.8625e+19 -5.0000e-01]\n",
      "yt : [INFO     ] 2020-03-09 02:01:54,249 Parameters: domain_right_edge         = [1.5450e+19 3.8625e+19 5.0000e-01]\n",
      "yt : [INFO     ] 2020-03-09 02:01:54,250 Parameters: cosmological_simulation   = 0.0\n"
     ]
    },
    {
     "name": "stdout",
     "output_type": "stream",
     "text": [
      "mixing_layer.out1.00584\n"
     ]
    },
    {
     "name": "stderr",
     "output_type": "stream",
     "text": [
      "yt : [WARNING  ] 2020-03-09 02:01:54,291 Assuming 1.0 = 1.0 cm\n",
      "yt : [WARNING  ] 2020-03-09 02:01:54,292 Assuming 1.0 = 1.0 s\n",
      "yt : [WARNING  ] 2020-03-09 02:01:54,293 Assuming 1.0 = 1.0 g\n",
      "yt : [WARNING  ] 2020-03-09 02:01:54,294 Assuming 1.0 = 1.0 K\n",
      "yt : [INFO     ] 2020-03-09 02:01:54,305 Parameters: current_time              = 1102142494481750.0\n",
      "yt : [INFO     ] 2020-03-09 02:01:54,306 Parameters: domain_dimensions         = [256 640   1]\n",
      "yt : [INFO     ] 2020-03-09 02:01:54,307 Parameters: domain_left_edge          = [-1.5450e+19 -3.8625e+19 -5.0000e-01]\n",
      "yt : [INFO     ] 2020-03-09 02:01:54,309 Parameters: domain_right_edge         = [1.5450e+19 3.8625e+19 5.0000e-01]\n",
      "yt : [INFO     ] 2020-03-09 02:01:54,310 Parameters: cosmological_simulation   = 0.0\n"
     ]
    },
    {
     "name": "stdout",
     "output_type": "stream",
     "text": [
      "mixing_layer.out1.00585\n"
     ]
    },
    {
     "name": "stderr",
     "output_type": "stream",
     "text": [
      "yt : [WARNING  ] 2020-03-09 02:01:54,341 Assuming 1.0 = 1.0 cm\n",
      "yt : [WARNING  ] 2020-03-09 02:01:54,342 Assuming 1.0 = 1.0 s\n",
      "yt : [WARNING  ] 2020-03-09 02:01:54,343 Assuming 1.0 = 1.0 g\n",
      "yt : [WARNING  ] 2020-03-09 02:01:54,344 Assuming 1.0 = 1.0 K\n",
      "yt : [INFO     ] 2020-03-09 02:01:54,357 Parameters: current_time              = 1104024321134922.0\n",
      "yt : [INFO     ] 2020-03-09 02:01:54,358 Parameters: domain_dimensions         = [256 640   1]\n",
      "yt : [INFO     ] 2020-03-09 02:01:54,360 Parameters: domain_left_edge          = [-1.5450e+19 -3.8625e+19 -5.0000e-01]\n",
      "yt : [INFO     ] 2020-03-09 02:01:54,360 Parameters: domain_right_edge         = [1.5450e+19 3.8625e+19 5.0000e-01]\n",
      "yt : [INFO     ] 2020-03-09 02:01:54,361 Parameters: cosmological_simulation   = 0.0\n"
     ]
    },
    {
     "name": "stdout",
     "output_type": "stream",
     "text": [
      "mixing_layer.out1.00586\n"
     ]
    },
    {
     "name": "stderr",
     "output_type": "stream",
     "text": [
      "yt : [WARNING  ] 2020-03-09 02:01:54,392 Assuming 1.0 = 1.0 cm\n",
      "yt : [WARNING  ] 2020-03-09 02:01:54,393 Assuming 1.0 = 1.0 s\n",
      "yt : [WARNING  ] 2020-03-09 02:01:54,394 Assuming 1.0 = 1.0 g\n",
      "yt : [WARNING  ] 2020-03-09 02:01:54,396 Assuming 1.0 = 1.0 K\n",
      "yt : [INFO     ] 2020-03-09 02:01:54,408 Parameters: current_time              = 1105910493952791.4\n",
      "yt : [INFO     ] 2020-03-09 02:01:54,409 Parameters: domain_dimensions         = [256 640   1]\n",
      "yt : [INFO     ] 2020-03-09 02:01:54,409 Parameters: domain_left_edge          = [-1.5450e+19 -3.8625e+19 -5.0000e-01]\n",
      "yt : [INFO     ] 2020-03-09 02:01:54,411 Parameters: domain_right_edge         = [1.5450e+19 3.8625e+19 5.0000e-01]\n",
      "yt : [INFO     ] 2020-03-09 02:01:54,412 Parameters: cosmological_simulation   = 0.0\n"
     ]
    },
    {
     "name": "stdout",
     "output_type": "stream",
     "text": [
      "mixing_layer.out1.00587\n"
     ]
    },
    {
     "name": "stderr",
     "output_type": "stream",
     "text": [
      "yt : [WARNING  ] 2020-03-09 02:01:54,442 Assuming 1.0 = 1.0 cm\n",
      "yt : [WARNING  ] 2020-03-09 02:01:54,444 Assuming 1.0 = 1.0 s\n",
      "yt : [WARNING  ] 2020-03-09 02:01:54,444 Assuming 1.0 = 1.0 g\n",
      "yt : [WARNING  ] 2020-03-09 02:01:54,445 Assuming 1.0 = 1.0 K\n",
      "yt : [INFO     ] 2020-03-09 02:01:54,458 Parameters: current_time              = 1107794140066384.4\n",
      "yt : [INFO     ] 2020-03-09 02:01:54,460 Parameters: domain_dimensions         = [256 640   1]\n",
      "yt : [INFO     ] 2020-03-09 02:01:54,461 Parameters: domain_left_edge          = [-1.5450e+19 -3.8625e+19 -5.0000e-01]\n",
      "yt : [INFO     ] 2020-03-09 02:01:54,462 Parameters: domain_right_edge         = [1.5450e+19 3.8625e+19 5.0000e-01]\n",
      "yt : [INFO     ] 2020-03-09 02:01:54,463 Parameters: cosmological_simulation   = 0.0\n"
     ]
    },
    {
     "name": "stdout",
     "output_type": "stream",
     "text": [
      "mixing_layer.out1.00588\n"
     ]
    },
    {
     "name": "stderr",
     "output_type": "stream",
     "text": [
      "yt : [WARNING  ] 2020-03-09 02:01:54,493 Assuming 1.0 = 1.0 cm\n",
      "yt : [WARNING  ] 2020-03-09 02:01:54,494 Assuming 1.0 = 1.0 s\n",
      "yt : [WARNING  ] 2020-03-09 02:01:54,495 Assuming 1.0 = 1.0 g\n",
      "yt : [WARNING  ] 2020-03-09 02:01:54,496 Assuming 1.0 = 1.0 K\n",
      "yt : [INFO     ] 2020-03-09 02:01:54,510 Parameters: current_time              = 1109676790913038.9\n",
      "yt : [INFO     ] 2020-03-09 02:01:54,510 Parameters: domain_dimensions         = [256 640   1]\n",
      "yt : [INFO     ] 2020-03-09 02:01:54,511 Parameters: domain_left_edge          = [-1.5450e+19 -3.8625e+19 -5.0000e-01]\n",
      "yt : [INFO     ] 2020-03-09 02:01:54,512 Parameters: domain_right_edge         = [1.5450e+19 3.8625e+19 5.0000e-01]\n",
      "yt : [INFO     ] 2020-03-09 02:01:54,512 Parameters: cosmological_simulation   = 0.0\n"
     ]
    },
    {
     "name": "stdout",
     "output_type": "stream",
     "text": [
      "mixing_layer.out1.00589\n"
     ]
    },
    {
     "name": "stderr",
     "output_type": "stream",
     "text": [
      "yt : [WARNING  ] 2020-03-09 02:01:54,547 Assuming 1.0 = 1.0 cm\n",
      "yt : [WARNING  ] 2020-03-09 02:01:54,549 Assuming 1.0 = 1.0 s\n",
      "yt : [WARNING  ] 2020-03-09 02:01:54,550 Assuming 1.0 = 1.0 g\n",
      "yt : [WARNING  ] 2020-03-09 02:01:54,551 Assuming 1.0 = 1.0 K\n",
      "yt : [INFO     ] 2020-03-09 02:01:54,571 Parameters: current_time              = 1111560917603343.8\n",
      "yt : [INFO     ] 2020-03-09 02:01:54,573 Parameters: domain_dimensions         = [256 640   1]\n",
      "yt : [INFO     ] 2020-03-09 02:01:54,573 Parameters: domain_left_edge          = [-1.5450e+19 -3.8625e+19 -5.0000e-01]\n",
      "yt : [INFO     ] 2020-03-09 02:01:54,574 Parameters: domain_right_edge         = [1.5450e+19 3.8625e+19 5.0000e-01]\n",
      "yt : [INFO     ] 2020-03-09 02:01:54,576 Parameters: cosmological_simulation   = 0.0\n"
     ]
    },
    {
     "name": "stdout",
     "output_type": "stream",
     "text": [
      "mixing_layer.out1.00590\n"
     ]
    },
    {
     "name": "stderr",
     "output_type": "stream",
     "text": [
      "yt : [WARNING  ] 2020-03-09 02:01:54,612 Assuming 1.0 = 1.0 cm\n",
      "yt : [WARNING  ] 2020-03-09 02:01:54,614 Assuming 1.0 = 1.0 s\n",
      "yt : [WARNING  ] 2020-03-09 02:01:54,615 Assuming 1.0 = 1.0 g\n",
      "yt : [WARNING  ] 2020-03-09 02:01:54,616 Assuming 1.0 = 1.0 K\n",
      "yt : [INFO     ] 2020-03-09 02:01:54,628 Parameters: current_time              = 1113446458445523.6\n",
      "yt : [INFO     ] 2020-03-09 02:01:54,629 Parameters: domain_dimensions         = [256 640   1]\n",
      "yt : [INFO     ] 2020-03-09 02:01:54,630 Parameters: domain_left_edge          = [-1.5450e+19 -3.8625e+19 -5.0000e-01]\n",
      "yt : [INFO     ] 2020-03-09 02:01:54,631 Parameters: domain_right_edge         = [1.5450e+19 3.8625e+19 5.0000e-01]\n",
      "yt : [INFO     ] 2020-03-09 02:01:54,632 Parameters: cosmological_simulation   = 0.0\n"
     ]
    },
    {
     "name": "stdout",
     "output_type": "stream",
     "text": [
      "mixing_layer.out1.00591\n"
     ]
    },
    {
     "name": "stderr",
     "output_type": "stream",
     "text": [
      "yt : [WARNING  ] 2020-03-09 02:01:54,672 Assuming 1.0 = 1.0 cm\n",
      "yt : [WARNING  ] 2020-03-09 02:01:54,673 Assuming 1.0 = 1.0 s\n",
      "yt : [WARNING  ] 2020-03-09 02:01:54,674 Assuming 1.0 = 1.0 g\n",
      "yt : [WARNING  ] 2020-03-09 02:01:54,675 Assuming 1.0 = 1.0 K\n",
      "yt : [INFO     ] 2020-03-09 02:01:54,687 Parameters: current_time              = 1115329763074491.9\n",
      "yt : [INFO     ] 2020-03-09 02:01:54,688 Parameters: domain_dimensions         = [256 640   1]\n",
      "yt : [INFO     ] 2020-03-09 02:01:54,689 Parameters: domain_left_edge          = [-1.5450e+19 -3.8625e+19 -5.0000e-01]\n",
      "yt : [INFO     ] 2020-03-09 02:01:54,690 Parameters: domain_right_edge         = [1.5450e+19 3.8625e+19 5.0000e-01]\n",
      "yt : [INFO     ] 2020-03-09 02:01:54,691 Parameters: cosmological_simulation   = 0.0\n"
     ]
    },
    {
     "name": "stdout",
     "output_type": "stream",
     "text": [
      "mixing_layer.out1.00592\n"
     ]
    },
    {
     "name": "stderr",
     "output_type": "stream",
     "text": [
      "yt : [WARNING  ] 2020-03-09 02:01:54,724 Assuming 1.0 = 1.0 cm\n",
      "yt : [WARNING  ] 2020-03-09 02:01:54,726 Assuming 1.0 = 1.0 s\n",
      "yt : [WARNING  ] 2020-03-09 02:01:54,727 Assuming 1.0 = 1.0 g\n",
      "yt : [WARNING  ] 2020-03-09 02:01:54,728 Assuming 1.0 = 1.0 K\n",
      "yt : [INFO     ] 2020-03-09 02:01:54,744 Parameters: current_time              = 1117214400292630.6\n",
      "yt : [INFO     ] 2020-03-09 02:01:54,745 Parameters: domain_dimensions         = [256 640   1]\n",
      "yt : [INFO     ] 2020-03-09 02:01:54,746 Parameters: domain_left_edge          = [-1.5450e+19 -3.8625e+19 -5.0000e-01]\n",
      "yt : [INFO     ] 2020-03-09 02:01:54,747 Parameters: domain_right_edge         = [1.5450e+19 3.8625e+19 5.0000e-01]\n",
      "yt : [INFO     ] 2020-03-09 02:01:54,748 Parameters: cosmological_simulation   = 0.0\n"
     ]
    },
    {
     "name": "stdout",
     "output_type": "stream",
     "text": [
      "mixing_layer.out1.00593\n"
     ]
    },
    {
     "name": "stderr",
     "output_type": "stream",
     "text": [
      "yt : [WARNING  ] 2020-03-09 02:01:54,785 Assuming 1.0 = 1.0 cm\n",
      "yt : [WARNING  ] 2020-03-09 02:01:54,787 Assuming 1.0 = 1.0 s\n",
      "yt : [WARNING  ] 2020-03-09 02:01:54,788 Assuming 1.0 = 1.0 g\n",
      "yt : [WARNING  ] 2020-03-09 02:01:54,790 Assuming 1.0 = 1.0 K\n",
      "yt : [INFO     ] 2020-03-09 02:01:54,803 Parameters: current_time              = 1119096306468222.5\n",
      "yt : [INFO     ] 2020-03-09 02:01:54,804 Parameters: domain_dimensions         = [256 640   1]\n",
      "yt : [INFO     ] 2020-03-09 02:01:54,805 Parameters: domain_left_edge          = [-1.5450e+19 -3.8625e+19 -5.0000e-01]\n",
      "yt : [INFO     ] 2020-03-09 02:01:54,806 Parameters: domain_right_edge         = [1.5450e+19 3.8625e+19 5.0000e-01]\n",
      "yt : [INFO     ] 2020-03-09 02:01:54,807 Parameters: cosmological_simulation   = 0.0\n"
     ]
    },
    {
     "name": "stdout",
     "output_type": "stream",
     "text": [
      "mixing_layer.out1.00594\n"
     ]
    },
    {
     "name": "stderr",
     "output_type": "stream",
     "text": [
      "yt : [WARNING  ] 2020-03-09 02:01:54,837 Assuming 1.0 = 1.0 cm\n",
      "yt : [WARNING  ] 2020-03-09 02:01:54,839 Assuming 1.0 = 1.0 s\n",
      "yt : [WARNING  ] 2020-03-09 02:01:54,840 Assuming 1.0 = 1.0 g\n",
      "yt : [WARNING  ] 2020-03-09 02:01:54,841 Assuming 1.0 = 1.0 K\n",
      "yt : [INFO     ] 2020-03-09 02:01:54,854 Parameters: current_time              = 1120980992240133.5\n",
      "yt : [INFO     ] 2020-03-09 02:01:54,855 Parameters: domain_dimensions         = [256 640   1]\n",
      "yt : [INFO     ] 2020-03-09 02:01:54,855 Parameters: domain_left_edge          = [-1.5450e+19 -3.8625e+19 -5.0000e-01]\n",
      "yt : [INFO     ] 2020-03-09 02:01:54,856 Parameters: domain_right_edge         = [1.5450e+19 3.8625e+19 5.0000e-01]\n",
      "yt : [INFO     ] 2020-03-09 02:01:54,857 Parameters: cosmological_simulation   = 0.0\n"
     ]
    },
    {
     "name": "stdout",
     "output_type": "stream",
     "text": [
      "mixing_layer.out1.00595\n"
     ]
    },
    {
     "name": "stderr",
     "output_type": "stream",
     "text": [
      "yt : [WARNING  ] 2020-03-09 02:01:54,888 Assuming 1.0 = 1.0 cm\n",
      "yt : [WARNING  ] 2020-03-09 02:01:54,889 Assuming 1.0 = 1.0 s\n",
      "yt : [WARNING  ] 2020-03-09 02:01:54,890 Assuming 1.0 = 1.0 g\n",
      "yt : [WARNING  ] 2020-03-09 02:01:54,891 Assuming 1.0 = 1.0 K\n",
      "yt : [INFO     ] 2020-03-09 02:01:54,903 Parameters: current_time              = 1122864041392467.0\n",
      "yt : [INFO     ] 2020-03-09 02:01:54,904 Parameters: domain_dimensions         = [256 640   1]\n",
      "yt : [INFO     ] 2020-03-09 02:01:54,904 Parameters: domain_left_edge          = [-1.5450e+19 -3.8625e+19 -5.0000e-01]\n",
      "yt : [INFO     ] 2020-03-09 02:01:54,906 Parameters: domain_right_edge         = [1.5450e+19 3.8625e+19 5.0000e-01]\n",
      "yt : [INFO     ] 2020-03-09 02:01:54,906 Parameters: cosmological_simulation   = 0.0\n"
     ]
    },
    {
     "name": "stdout",
     "output_type": "stream",
     "text": [
      "mixing_layer.out1.00596\n"
     ]
    },
    {
     "name": "stderr",
     "output_type": "stream",
     "text": [
      "yt : [WARNING  ] 2020-03-09 02:01:54,937 Assuming 1.0 = 1.0 cm\n",
      "yt : [WARNING  ] 2020-03-09 02:01:54,938 Assuming 1.0 = 1.0 s\n",
      "yt : [WARNING  ] 2020-03-09 02:01:54,939 Assuming 1.0 = 1.0 g\n",
      "yt : [WARNING  ] 2020-03-09 02:01:54,940 Assuming 1.0 = 1.0 K\n",
      "yt : [INFO     ] 2020-03-09 02:01:54,951 Parameters: current_time              = 1124748505776210.8\n",
      "yt : [INFO     ] 2020-03-09 02:01:54,952 Parameters: domain_dimensions         = [256 640   1]\n",
      "yt : [INFO     ] 2020-03-09 02:01:54,953 Parameters: domain_left_edge          = [-1.5450e+19 -3.8625e+19 -5.0000e-01]\n",
      "yt : [INFO     ] 2020-03-09 02:01:54,953 Parameters: domain_right_edge         = [1.5450e+19 3.8625e+19 5.0000e-01]\n",
      "yt : [INFO     ] 2020-03-09 02:01:54,954 Parameters: cosmological_simulation   = 0.0\n"
     ]
    },
    {
     "name": "stdout",
     "output_type": "stream",
     "text": [
      "mixing_layer.out1.00597\n"
     ]
    },
    {
     "name": "stderr",
     "output_type": "stream",
     "text": [
      "yt : [WARNING  ] 2020-03-09 02:01:54,985 Assuming 1.0 = 1.0 cm\n",
      "yt : [WARNING  ] 2020-03-09 02:01:54,987 Assuming 1.0 = 1.0 s\n",
      "yt : [WARNING  ] 2020-03-09 02:01:54,988 Assuming 1.0 = 1.0 g\n",
      "yt : [WARNING  ] 2020-03-09 02:01:54,989 Assuming 1.0 = 1.0 K\n",
      "yt : [INFO     ] 2020-03-09 02:01:54,999 Parameters: current_time              = 1126634743298407.2\n",
      "yt : [INFO     ] 2020-03-09 02:01:55,001 Parameters: domain_dimensions         = [256 640   1]\n",
      "yt : [INFO     ] 2020-03-09 02:01:55,001 Parameters: domain_left_edge          = [-1.5450e+19 -3.8625e+19 -5.0000e-01]\n",
      "yt : [INFO     ] 2020-03-09 02:01:55,001 Parameters: domain_right_edge         = [1.5450e+19 3.8625e+19 5.0000e-01]\n",
      "yt : [INFO     ] 2020-03-09 02:01:55,002 Parameters: cosmological_simulation   = 0.0\n"
     ]
    },
    {
     "name": "stdout",
     "output_type": "stream",
     "text": [
      "mixing_layer.out1.00598\n"
     ]
    },
    {
     "name": "stderr",
     "output_type": "stream",
     "text": [
      "yt : [WARNING  ] 2020-03-09 02:01:55,034 Assuming 1.0 = 1.0 cm\n",
      "yt : [WARNING  ] 2020-03-09 02:01:55,035 Assuming 1.0 = 1.0 s\n",
      "yt : [WARNING  ] 2020-03-09 02:01:55,036 Assuming 1.0 = 1.0 g\n",
      "yt : [WARNING  ] 2020-03-09 02:01:55,037 Assuming 1.0 = 1.0 K\n",
      "yt : [INFO     ] 2020-03-09 02:01:55,048 Parameters: current_time              = 1128518252171250.2\n",
      "yt : [INFO     ] 2020-03-09 02:01:55,049 Parameters: domain_dimensions         = [256 640   1]\n",
      "yt : [INFO     ] 2020-03-09 02:01:55,050 Parameters: domain_left_edge          = [-1.5450e+19 -3.8625e+19 -5.0000e-01]\n",
      "yt : [INFO     ] 2020-03-09 02:01:55,051 Parameters: domain_right_edge         = [1.5450e+19 3.8625e+19 5.0000e-01]\n",
      "yt : [INFO     ] 2020-03-09 02:01:55,052 Parameters: cosmological_simulation   = 0.0\n"
     ]
    },
    {
     "name": "stdout",
     "output_type": "stream",
     "text": [
      "mixing_layer.out1.00599\n"
     ]
    },
    {
     "name": "stderr",
     "output_type": "stream",
     "text": [
      "yt : [WARNING  ] 2020-03-09 02:01:55,082 Assuming 1.0 = 1.0 cm\n",
      "yt : [WARNING  ] 2020-03-09 02:01:55,084 Assuming 1.0 = 1.0 s\n",
      "yt : [WARNING  ] 2020-03-09 02:01:55,084 Assuming 1.0 = 1.0 g\n",
      "yt : [WARNING  ] 2020-03-09 02:01:55,085 Assuming 1.0 = 1.0 K\n",
      "yt : [INFO     ] 2020-03-09 02:01:55,096 Parameters: current_time              = 1130401319903921.8\n",
      "yt : [INFO     ] 2020-03-09 02:01:55,097 Parameters: domain_dimensions         = [256 640   1]\n",
      "yt : [INFO     ] 2020-03-09 02:01:55,098 Parameters: domain_left_edge          = [-1.5450e+19 -3.8625e+19 -5.0000e-01]\n",
      "yt : [INFO     ] 2020-03-09 02:01:55,099 Parameters: domain_right_edge         = [1.5450e+19 3.8625e+19 5.0000e-01]\n",
      "yt : [INFO     ] 2020-03-09 02:01:55,100 Parameters: cosmological_simulation   = 0.0\n"
     ]
    },
    {
     "name": "stdout",
     "output_type": "stream",
     "text": [
      "mixing_layer.out1.00600\n"
     ]
    },
    {
     "name": "stderr",
     "output_type": "stream",
     "text": [
      "yt : [WARNING  ] 2020-03-09 02:01:55,131 Assuming 1.0 = 1.0 cm\n",
      "yt : [WARNING  ] 2020-03-09 02:01:55,132 Assuming 1.0 = 1.0 s\n",
      "yt : [WARNING  ] 2020-03-09 02:01:55,133 Assuming 1.0 = 1.0 g\n",
      "yt : [WARNING  ] 2020-03-09 02:01:55,134 Assuming 1.0 = 1.0 K\n",
      "yt : [INFO     ] 2020-03-09 02:01:55,145 Parameters: current_time              = 1132284195353290.8\n",
      "yt : [INFO     ] 2020-03-09 02:01:55,146 Parameters: domain_dimensions         = [256 640   1]\n",
      "yt : [INFO     ] 2020-03-09 02:01:55,147 Parameters: domain_left_edge          = [-1.5450e+19 -3.8625e+19 -5.0000e-01]\n",
      "yt : [INFO     ] 2020-03-09 02:01:55,148 Parameters: domain_right_edge         = [1.5450e+19 3.8625e+19 5.0000e-01]\n",
      "yt : [INFO     ] 2020-03-09 02:01:55,149 Parameters: cosmological_simulation   = 0.0\n"
     ]
    },
    {
     "name": "stdout",
     "output_type": "stream",
     "text": [
      "mixing_layer.out1.00601\n"
     ]
    },
    {
     "name": "stderr",
     "output_type": "stream",
     "text": [
      "yt : [WARNING  ] 2020-03-09 02:01:55,180 Assuming 1.0 = 1.0 cm\n",
      "yt : [WARNING  ] 2020-03-09 02:01:55,181 Assuming 1.0 = 1.0 s\n",
      "yt : [WARNING  ] 2020-03-09 02:01:55,182 Assuming 1.0 = 1.0 g\n",
      "yt : [WARNING  ] 2020-03-09 02:01:55,183 Assuming 1.0 = 1.0 K\n",
      "yt : [INFO     ] 2020-03-09 02:01:55,194 Parameters: current_time              = 1134168975580837.2\n",
      "yt : [INFO     ] 2020-03-09 02:01:55,195 Parameters: domain_dimensions         = [256 640   1]\n",
      "yt : [INFO     ] 2020-03-09 02:01:55,195 Parameters: domain_left_edge          = [-1.5450e+19 -3.8625e+19 -5.0000e-01]\n",
      "yt : [INFO     ] 2020-03-09 02:01:55,197 Parameters: domain_right_edge         = [1.5450e+19 3.8625e+19 5.0000e-01]\n",
      "yt : [INFO     ] 2020-03-09 02:01:55,198 Parameters: cosmological_simulation   = 0.0\n"
     ]
    },
    {
     "name": "stdout",
     "output_type": "stream",
     "text": [
      "mixing_layer.out1.00602\n"
     ]
    },
    {
     "name": "stderr",
     "output_type": "stream",
     "text": [
      "yt : [WARNING  ] 2020-03-09 02:01:55,228 Assuming 1.0 = 1.0 cm\n",
      "yt : [WARNING  ] 2020-03-09 02:01:55,230 Assuming 1.0 = 1.0 s\n",
      "yt : [WARNING  ] 2020-03-09 02:01:55,230 Assuming 1.0 = 1.0 g\n",
      "yt : [WARNING  ] 2020-03-09 02:01:55,231 Assuming 1.0 = 1.0 K\n",
      "yt : [INFO     ] 2020-03-09 02:01:55,246 Parameters: current_time              = 1136054719232008.0\n",
      "yt : [INFO     ] 2020-03-09 02:01:55,247 Parameters: domain_dimensions         = [256 640   1]\n",
      "yt : [INFO     ] 2020-03-09 02:01:55,247 Parameters: domain_left_edge          = [-1.5450e+19 -3.8625e+19 -5.0000e-01]\n",
      "yt : [INFO     ] 2020-03-09 02:01:55,248 Parameters: domain_right_edge         = [1.5450e+19 3.8625e+19 5.0000e-01]\n",
      "yt : [INFO     ] 2020-03-09 02:01:55,249 Parameters: cosmological_simulation   = 0.0\n"
     ]
    },
    {
     "name": "stdout",
     "output_type": "stream",
     "text": [
      "mixing_layer.out1.00603\n"
     ]
    },
    {
     "name": "stderr",
     "output_type": "stream",
     "text": [
      "yt : [WARNING  ] 2020-03-09 02:01:55,280 Assuming 1.0 = 1.0 cm\n",
      "yt : [WARNING  ] 2020-03-09 02:01:55,281 Assuming 1.0 = 1.0 s\n",
      "yt : [WARNING  ] 2020-03-09 02:01:55,282 Assuming 1.0 = 1.0 g\n",
      "yt : [WARNING  ] 2020-03-09 02:01:55,283 Assuming 1.0 = 1.0 K\n",
      "yt : [INFO     ] 2020-03-09 02:01:55,295 Parameters: current_time              = 1137936280590958.2\n",
      "yt : [INFO     ] 2020-03-09 02:01:55,296 Parameters: domain_dimensions         = [256 640   1]\n",
      "yt : [INFO     ] 2020-03-09 02:01:55,297 Parameters: domain_left_edge          = [-1.5450e+19 -3.8625e+19 -5.0000e-01]\n",
      "yt : [INFO     ] 2020-03-09 02:01:55,298 Parameters: domain_right_edge         = [1.5450e+19 3.8625e+19 5.0000e-01]\n",
      "yt : [INFO     ] 2020-03-09 02:01:55,299 Parameters: cosmological_simulation   = 0.0\n"
     ]
    },
    {
     "name": "stdout",
     "output_type": "stream",
     "text": [
      "mixing_layer.out1.00604\n"
     ]
    },
    {
     "name": "stderr",
     "output_type": "stream",
     "text": [
      "yt : [WARNING  ] 2020-03-09 02:01:55,336 Assuming 1.0 = 1.0 cm\n",
      "yt : [WARNING  ] 2020-03-09 02:01:55,338 Assuming 1.0 = 1.0 s\n",
      "yt : [WARNING  ] 2020-03-09 02:01:55,339 Assuming 1.0 = 1.0 g\n",
      "yt : [WARNING  ] 2020-03-09 02:01:55,340 Assuming 1.0 = 1.0 K\n",
      "yt : [INFO     ] 2020-03-09 02:01:55,353 Parameters: current_time              = 1139820535051397.8\n",
      "yt : [INFO     ] 2020-03-09 02:01:55,354 Parameters: domain_dimensions         = [256 640   1]\n",
      "yt : [INFO     ] 2020-03-09 02:01:55,355 Parameters: domain_left_edge          = [-1.5450e+19 -3.8625e+19 -5.0000e-01]\n",
      "yt : [INFO     ] 2020-03-09 02:01:55,356 Parameters: domain_right_edge         = [1.5450e+19 3.8625e+19 5.0000e-01]\n",
      "yt : [INFO     ] 2020-03-09 02:01:55,357 Parameters: cosmological_simulation   = 0.0\n"
     ]
    },
    {
     "name": "stdout",
     "output_type": "stream",
     "text": [
      "mixing_layer.out1.00605\n"
     ]
    },
    {
     "name": "stderr",
     "output_type": "stream",
     "text": [
      "yt : [WARNING  ] 2020-03-09 02:01:55,388 Assuming 1.0 = 1.0 cm\n",
      "yt : [WARNING  ] 2020-03-09 02:01:55,389 Assuming 1.0 = 1.0 s\n",
      "yt : [WARNING  ] 2020-03-09 02:01:55,390 Assuming 1.0 = 1.0 g\n",
      "yt : [WARNING  ] 2020-03-09 02:01:55,390 Assuming 1.0 = 1.0 K\n",
      "yt : [INFO     ] 2020-03-09 02:01:55,402 Parameters: current_time              = 1141705440137002.0\n",
      "yt : [INFO     ] 2020-03-09 02:01:55,403 Parameters: domain_dimensions         = [256 640   1]\n",
      "yt : [INFO     ] 2020-03-09 02:01:55,403 Parameters: domain_left_edge          = [-1.5450e+19 -3.8625e+19 -5.0000e-01]\n",
      "yt : [INFO     ] 2020-03-09 02:01:55,404 Parameters: domain_right_edge         = [1.5450e+19 3.8625e+19 5.0000e-01]\n",
      "yt : [INFO     ] 2020-03-09 02:01:55,405 Parameters: cosmological_simulation   = 0.0\n"
     ]
    },
    {
     "name": "stdout",
     "output_type": "stream",
     "text": [
      "mixing_layer.out1.00606\n"
     ]
    },
    {
     "name": "stderr",
     "output_type": "stream",
     "text": [
      "yt : [WARNING  ] 2020-03-09 02:01:55,437 Assuming 1.0 = 1.0 cm\n",
      "yt : [WARNING  ] 2020-03-09 02:01:55,438 Assuming 1.0 = 1.0 s\n",
      "yt : [WARNING  ] 2020-03-09 02:01:55,439 Assuming 1.0 = 1.0 g\n",
      "yt : [WARNING  ] 2020-03-09 02:01:55,440 Assuming 1.0 = 1.0 K\n",
      "yt : [INFO     ] 2020-03-09 02:01:55,452 Parameters: current_time              = 1143588064291299.5\n",
      "yt : [INFO     ] 2020-03-09 02:01:55,453 Parameters: domain_dimensions         = [256 640   1]\n",
      "yt : [INFO     ] 2020-03-09 02:01:55,453 Parameters: domain_left_edge          = [-1.5450e+19 -3.8625e+19 -5.0000e-01]\n",
      "yt : [INFO     ] 2020-03-09 02:01:55,454 Parameters: domain_right_edge         = [1.5450e+19 3.8625e+19 5.0000e-01]\n",
      "yt : [INFO     ] 2020-03-09 02:01:55,455 Parameters: cosmological_simulation   = 0.0\n"
     ]
    },
    {
     "name": "stdout",
     "output_type": "stream",
     "text": [
      "mixing_layer.out1.00607\n"
     ]
    },
    {
     "name": "stderr",
     "output_type": "stream",
     "text": [
      "yt : [WARNING  ] 2020-03-09 02:01:55,485 Assuming 1.0 = 1.0 cm\n",
      "yt : [WARNING  ] 2020-03-09 02:01:55,486 Assuming 1.0 = 1.0 s\n",
      "yt : [WARNING  ] 2020-03-09 02:01:55,487 Assuming 1.0 = 1.0 g\n",
      "yt : [WARNING  ] 2020-03-09 02:01:55,488 Assuming 1.0 = 1.0 K\n",
      "yt : [INFO     ] 2020-03-09 02:01:55,500 Parameters: current_time              = 1145472804604921.5\n",
      "yt : [INFO     ] 2020-03-09 02:01:55,500 Parameters: domain_dimensions         = [256 640   1]\n",
      "yt : [INFO     ] 2020-03-09 02:01:55,501 Parameters: domain_left_edge          = [-1.5450e+19 -3.8625e+19 -5.0000e-01]\n",
      "yt : [INFO     ] 2020-03-09 02:01:55,503 Parameters: domain_right_edge         = [1.5450e+19 3.8625e+19 5.0000e-01]\n",
      "yt : [INFO     ] 2020-03-09 02:01:55,504 Parameters: cosmological_simulation   = 0.0\n"
     ]
    },
    {
     "name": "stdout",
     "output_type": "stream",
     "text": [
      "mixing_layer.out1.00608\n"
     ]
    },
    {
     "name": "stderr",
     "output_type": "stream",
     "text": [
      "yt : [WARNING  ] 2020-03-09 02:01:55,534 Assuming 1.0 = 1.0 cm\n",
      "yt : [WARNING  ] 2020-03-09 02:01:55,536 Assuming 1.0 = 1.0 s\n",
      "yt : [WARNING  ] 2020-03-09 02:01:55,537 Assuming 1.0 = 1.0 g\n",
      "yt : [WARNING  ] 2020-03-09 02:01:55,538 Assuming 1.0 = 1.0 K\n",
      "yt : [INFO     ] 2020-03-09 02:01:55,549 Parameters: current_time              = 1147357640936662.8\n",
      "yt : [INFO     ] 2020-03-09 02:01:55,550 Parameters: domain_dimensions         = [256 640   1]\n",
      "yt : [INFO     ] 2020-03-09 02:01:55,551 Parameters: domain_left_edge          = [-1.5450e+19 -3.8625e+19 -5.0000e-01]\n",
      "yt : [INFO     ] 2020-03-09 02:01:55,552 Parameters: domain_right_edge         = [1.5450e+19 3.8625e+19 5.0000e-01]\n",
      "yt : [INFO     ] 2020-03-09 02:01:55,553 Parameters: cosmological_simulation   = 0.0\n"
     ]
    },
    {
     "name": "stdout",
     "output_type": "stream",
     "text": [
      "mixing_layer.out1.00609\n"
     ]
    },
    {
     "name": "stderr",
     "output_type": "stream",
     "text": [
      "yt : [WARNING  ] 2020-03-09 02:01:55,584 Assuming 1.0 = 1.0 cm\n",
      "yt : [WARNING  ] 2020-03-09 02:01:55,585 Assuming 1.0 = 1.0 s\n",
      "yt : [WARNING  ] 2020-03-09 02:01:55,587 Assuming 1.0 = 1.0 g\n",
      "yt : [WARNING  ] 2020-03-09 02:01:55,588 Assuming 1.0 = 1.0 K\n",
      "yt : [INFO     ] 2020-03-09 02:01:55,599 Parameters: current_time              = 1149240826048472.8\n",
      "yt : [INFO     ] 2020-03-09 02:01:55,600 Parameters: domain_dimensions         = [256 640   1]\n",
      "yt : [INFO     ] 2020-03-09 02:01:55,601 Parameters: domain_left_edge          = [-1.5450e+19 -3.8625e+19 -5.0000e-01]\n",
      "yt : [INFO     ] 2020-03-09 02:01:55,602 Parameters: domain_right_edge         = [1.5450e+19 3.8625e+19 5.0000e-01]\n",
      "yt : [INFO     ] 2020-03-09 02:01:55,603 Parameters: cosmological_simulation   = 0.0\n"
     ]
    },
    {
     "name": "stdout",
     "output_type": "stream",
     "text": [
      "mixing_layer.out1.00610\n"
     ]
    },
    {
     "name": "stderr",
     "output_type": "stream",
     "text": [
      "yt : [WARNING  ] 2020-03-09 02:01:55,634 Assuming 1.0 = 1.0 cm\n",
      "yt : [WARNING  ] 2020-03-09 02:01:55,635 Assuming 1.0 = 1.0 s\n",
      "yt : [WARNING  ] 2020-03-09 02:01:55,637 Assuming 1.0 = 1.0 g\n",
      "yt : [WARNING  ] 2020-03-09 02:01:55,638 Assuming 1.0 = 1.0 K\n",
      "yt : [INFO     ] 2020-03-09 02:01:55,649 Parameters: current_time              = 1151126302185375.0\n",
      "yt : [INFO     ] 2020-03-09 02:01:55,649 Parameters: domain_dimensions         = [256 640   1]\n",
      "yt : [INFO     ] 2020-03-09 02:01:55,651 Parameters: domain_left_edge          = [-1.5450e+19 -3.8625e+19 -5.0000e-01]\n",
      "yt : [INFO     ] 2020-03-09 02:01:55,651 Parameters: domain_right_edge         = [1.5450e+19 3.8625e+19 5.0000e-01]\n",
      "yt : [INFO     ] 2020-03-09 02:01:55,652 Parameters: cosmological_simulation   = 0.0\n"
     ]
    },
    {
     "name": "stdout",
     "output_type": "stream",
     "text": [
      "mixing_layer.out1.00611\n"
     ]
    },
    {
     "name": "stderr",
     "output_type": "stream",
     "text": [
      "yt : [WARNING  ] 2020-03-09 02:01:55,683 Assuming 1.0 = 1.0 cm\n",
      "yt : [WARNING  ] 2020-03-09 02:01:55,684 Assuming 1.0 = 1.0 s\n",
      "yt : [WARNING  ] 2020-03-09 02:01:55,685 Assuming 1.0 = 1.0 g\n",
      "yt : [WARNING  ] 2020-03-09 02:01:55,686 Assuming 1.0 = 1.0 K\n",
      "yt : [INFO     ] 2020-03-09 02:01:55,697 Parameters: current_time              = 1153008599796426.5\n",
      "yt : [INFO     ] 2020-03-09 02:01:55,698 Parameters: domain_dimensions         = [256 640   1]\n",
      "yt : [INFO     ] 2020-03-09 02:01:55,699 Parameters: domain_left_edge          = [-1.5450e+19 -3.8625e+19 -5.0000e-01]\n",
      "yt : [INFO     ] 2020-03-09 02:01:55,700 Parameters: domain_right_edge         = [1.5450e+19 3.8625e+19 5.0000e-01]\n",
      "yt : [INFO     ] 2020-03-09 02:01:55,701 Parameters: cosmological_simulation   = 0.0\n"
     ]
    },
    {
     "name": "stdout",
     "output_type": "stream",
     "text": [
      "mixing_layer.out1.00612\n"
     ]
    },
    {
     "name": "stderr",
     "output_type": "stream",
     "text": [
      "yt : [WARNING  ] 2020-03-09 02:01:55,733 Assuming 1.0 = 1.0 cm\n",
      "yt : [WARNING  ] 2020-03-09 02:01:55,734 Assuming 1.0 = 1.0 s\n",
      "yt : [WARNING  ] 2020-03-09 02:01:55,735 Assuming 1.0 = 1.0 g\n",
      "yt : [WARNING  ] 2020-03-09 02:01:55,736 Assuming 1.0 = 1.0 K\n",
      "yt : [INFO     ] 2020-03-09 02:01:55,748 Parameters: current_time              = 1154893125578357.2\n",
      "yt : [INFO     ] 2020-03-09 02:01:55,749 Parameters: domain_dimensions         = [256 640   1]\n",
      "yt : [INFO     ] 2020-03-09 02:01:55,749 Parameters: domain_left_edge          = [-1.5450e+19 -3.8625e+19 -5.0000e-01]\n",
      "yt : [INFO     ] 2020-03-09 02:01:55,750 Parameters: domain_right_edge         = [1.5450e+19 3.8625e+19 5.0000e-01]\n",
      "yt : [INFO     ] 2020-03-09 02:01:55,751 Parameters: cosmological_simulation   = 0.0\n"
     ]
    },
    {
     "name": "stdout",
     "output_type": "stream",
     "text": [
      "mixing_layer.out1.00613\n"
     ]
    },
    {
     "name": "stderr",
     "output_type": "stream",
     "text": [
      "yt : [WARNING  ] 2020-03-09 02:01:55,781 Assuming 1.0 = 1.0 cm\n",
      "yt : [WARNING  ] 2020-03-09 02:01:55,783 Assuming 1.0 = 1.0 s\n",
      "yt : [WARNING  ] 2020-03-09 02:01:55,784 Assuming 1.0 = 1.0 g\n",
      "yt : [WARNING  ] 2020-03-09 02:01:55,785 Assuming 1.0 = 1.0 K\n",
      "yt : [INFO     ] 2020-03-09 02:01:55,796 Parameters: current_time              = 1156776054071280.2\n",
      "yt : [INFO     ] 2020-03-09 02:01:55,797 Parameters: domain_dimensions         = [256 640   1]\n",
      "yt : [INFO     ] 2020-03-09 02:01:55,798 Parameters: domain_left_edge          = [-1.5450e+19 -3.8625e+19 -5.0000e-01]\n",
      "yt : [INFO     ] 2020-03-09 02:01:55,798 Parameters: domain_right_edge         = [1.5450e+19 3.8625e+19 5.0000e-01]\n",
      "yt : [INFO     ] 2020-03-09 02:01:55,799 Parameters: cosmological_simulation   = 0.0\n"
     ]
    },
    {
     "name": "stdout",
     "output_type": "stream",
     "text": [
      "mixing_layer.out1.00614\n"
     ]
    },
    {
     "name": "stderr",
     "output_type": "stream",
     "text": [
      "yt : [WARNING  ] 2020-03-09 02:01:55,831 Assuming 1.0 = 1.0 cm\n",
      "yt : [WARNING  ] 2020-03-09 02:01:55,832 Assuming 1.0 = 1.0 s\n",
      "yt : [WARNING  ] 2020-03-09 02:01:55,832 Assuming 1.0 = 1.0 g\n",
      "yt : [WARNING  ] 2020-03-09 02:01:55,833 Assuming 1.0 = 1.0 K\n",
      "yt : [INFO     ] 2020-03-09 02:01:55,845 Parameters: current_time              = 1158660792537512.5\n",
      "yt : [INFO     ] 2020-03-09 02:01:55,846 Parameters: domain_dimensions         = [256 640   1]\n",
      "yt : [INFO     ] 2020-03-09 02:01:55,848 Parameters: domain_left_edge          = [-1.5450e+19 -3.8625e+19 -5.0000e-01]\n",
      "yt : [INFO     ] 2020-03-09 02:01:55,849 Parameters: domain_right_edge         = [1.5450e+19 3.8625e+19 5.0000e-01]\n",
      "yt : [INFO     ] 2020-03-09 02:01:55,850 Parameters: cosmological_simulation   = 0.0\n"
     ]
    },
    {
     "name": "stdout",
     "output_type": "stream",
     "text": [
      "mixing_layer.out1.00615\n"
     ]
    },
    {
     "name": "stderr",
     "output_type": "stream",
     "text": [
      "yt : [WARNING  ] 2020-03-09 02:01:55,880 Assuming 1.0 = 1.0 cm\n",
      "yt : [WARNING  ] 2020-03-09 02:01:55,881 Assuming 1.0 = 1.0 s\n",
      "yt : [WARNING  ] 2020-03-09 02:01:55,882 Assuming 1.0 = 1.0 g\n",
      "yt : [WARNING  ] 2020-03-09 02:01:55,882 Assuming 1.0 = 1.0 K\n",
      "yt : [INFO     ] 2020-03-09 02:01:55,895 Parameters: current_time              = 1160544670911521.0\n",
      "yt : [INFO     ] 2020-03-09 02:01:55,896 Parameters: domain_dimensions         = [256 640   1]\n",
      "yt : [INFO     ] 2020-03-09 02:01:55,897 Parameters: domain_left_edge          = [-1.5450e+19 -3.8625e+19 -5.0000e-01]\n",
      "yt : [INFO     ] 2020-03-09 02:01:55,898 Parameters: domain_right_edge         = [1.5450e+19 3.8625e+19 5.0000e-01]\n",
      "yt : [INFO     ] 2020-03-09 02:01:55,899 Parameters: cosmological_simulation   = 0.0\n"
     ]
    },
    {
     "name": "stdout",
     "output_type": "stream",
     "text": [
      "mixing_layer.out1.00616\n"
     ]
    },
    {
     "name": "stderr",
     "output_type": "stream",
     "text": [
      "yt : [WARNING  ] 2020-03-09 02:01:55,934 Assuming 1.0 = 1.0 cm\n",
      "yt : [WARNING  ] 2020-03-09 02:01:55,935 Assuming 1.0 = 1.0 s\n",
      "yt : [WARNING  ] 2020-03-09 02:01:55,936 Assuming 1.0 = 1.0 g\n",
      "yt : [WARNING  ] 2020-03-09 02:01:55,937 Assuming 1.0 = 1.0 K\n",
      "yt : [INFO     ] 2020-03-09 02:01:55,948 Parameters: current_time              = 1162430472777190.8\n",
      "yt : [INFO     ] 2020-03-09 02:01:55,950 Parameters: domain_dimensions         = [256 640   1]\n",
      "yt : [INFO     ] 2020-03-09 02:01:55,951 Parameters: domain_left_edge          = [-1.5450e+19 -3.8625e+19 -5.0000e-01]\n",
      "yt : [INFO     ] 2020-03-09 02:01:55,951 Parameters: domain_right_edge         = [1.5450e+19 3.8625e+19 5.0000e-01]\n",
      "yt : [INFO     ] 2020-03-09 02:01:55,952 Parameters: cosmological_simulation   = 0.0\n"
     ]
    },
    {
     "name": "stdout",
     "output_type": "stream",
     "text": [
      "mixing_layer.out1.00617\n"
     ]
    },
    {
     "name": "stderr",
     "output_type": "stream",
     "text": [
      "yt : [WARNING  ] 2020-03-09 02:01:55,984 Assuming 1.0 = 1.0 cm\n",
      "yt : [WARNING  ] 2020-03-09 02:01:55,985 Assuming 1.0 = 1.0 s\n",
      "yt : [WARNING  ] 2020-03-09 02:01:55,986 Assuming 1.0 = 1.0 g\n",
      "yt : [WARNING  ] 2020-03-09 02:01:55,987 Assuming 1.0 = 1.0 K\n",
      "yt : [INFO     ] 2020-03-09 02:01:55,999 Parameters: current_time              = 1164312083657856.8\n",
      "yt : [INFO     ] 2020-03-09 02:01:56,000 Parameters: domain_dimensions         = [256 640   1]\n",
      "yt : [INFO     ] 2020-03-09 02:01:56,001 Parameters: domain_left_edge          = [-1.5450e+19 -3.8625e+19 -5.0000e-01]\n",
      "yt : [INFO     ] 2020-03-09 02:01:56,002 Parameters: domain_right_edge         = [1.5450e+19 3.8625e+19 5.0000e-01]\n",
      "yt : [INFO     ] 2020-03-09 02:01:56,003 Parameters: cosmological_simulation   = 0.0\n"
     ]
    },
    {
     "name": "stdout",
     "output_type": "stream",
     "text": [
      "mixing_layer.out1.00618\n"
     ]
    },
    {
     "name": "stderr",
     "output_type": "stream",
     "text": [
      "yt : [WARNING  ] 2020-03-09 02:01:56,034 Assuming 1.0 = 1.0 cm\n",
      "yt : [WARNING  ] 2020-03-09 02:01:56,035 Assuming 1.0 = 1.0 s\n",
      "yt : [WARNING  ] 2020-03-09 02:01:56,036 Assuming 1.0 = 1.0 g\n",
      "yt : [WARNING  ] 2020-03-09 02:01:56,036 Assuming 1.0 = 1.0 K\n",
      "yt : [INFO     ] 2020-03-09 02:01:56,047 Parameters: current_time              = 1166197375402369.8\n",
      "yt : [INFO     ] 2020-03-09 02:01:56,048 Parameters: domain_dimensions         = [256 640   1]\n",
      "yt : [INFO     ] 2020-03-09 02:01:56,049 Parameters: domain_left_edge          = [-1.5450e+19 -3.8625e+19 -5.0000e-01]\n",
      "yt : [INFO     ] 2020-03-09 02:01:56,050 Parameters: domain_right_edge         = [1.5450e+19 3.8625e+19 5.0000e-01]\n",
      "yt : [INFO     ] 2020-03-09 02:01:56,050 Parameters: cosmological_simulation   = 0.0\n"
     ]
    },
    {
     "name": "stdout",
     "output_type": "stream",
     "text": [
      "mixing_layer.out1.00619\n"
     ]
    },
    {
     "name": "stderr",
     "output_type": "stream",
     "text": [
      "yt : [WARNING  ] 2020-03-09 02:01:56,083 Assuming 1.0 = 1.0 cm\n",
      "yt : [WARNING  ] 2020-03-09 02:01:56,085 Assuming 1.0 = 1.0 s\n",
      "yt : [WARNING  ] 2020-03-09 02:01:56,086 Assuming 1.0 = 1.0 g\n",
      "yt : [WARNING  ] 2020-03-09 02:01:56,087 Assuming 1.0 = 1.0 K\n",
      "yt : [INFO     ] 2020-03-09 02:01:56,098 Parameters: current_time              = 1168080556537497.2\n",
      "yt : [INFO     ] 2020-03-09 02:01:56,099 Parameters: domain_dimensions         = [256 640   1]\n",
      "yt : [INFO     ] 2020-03-09 02:01:56,100 Parameters: domain_left_edge          = [-1.5450e+19 -3.8625e+19 -5.0000e-01]\n",
      "yt : [INFO     ] 2020-03-09 02:01:56,101 Parameters: domain_right_edge         = [1.5450e+19 3.8625e+19 5.0000e-01]\n",
      "yt : [INFO     ] 2020-03-09 02:01:56,102 Parameters: cosmological_simulation   = 0.0\n"
     ]
    },
    {
     "name": "stdout",
     "output_type": "stream",
     "text": [
      "mixing_layer.out1.00620\n"
     ]
    },
    {
     "name": "stderr",
     "output_type": "stream",
     "text": [
      "yt : [WARNING  ] 2020-03-09 02:01:56,133 Assuming 1.0 = 1.0 cm\n",
      "yt : [WARNING  ] 2020-03-09 02:01:56,134 Assuming 1.0 = 1.0 s\n",
      "yt : [WARNING  ] 2020-03-09 02:01:56,135 Assuming 1.0 = 1.0 g\n",
      "yt : [WARNING  ] 2020-03-09 02:01:56,136 Assuming 1.0 = 1.0 K\n",
      "yt : [INFO     ] 2020-03-09 02:01:56,148 Parameters: current_time              = 1169966219228630.8\n",
      "yt : [INFO     ] 2020-03-09 02:01:56,149 Parameters: domain_dimensions         = [256 640   1]\n",
      "yt : [INFO     ] 2020-03-09 02:01:56,150 Parameters: domain_left_edge          = [-1.5450e+19 -3.8625e+19 -5.0000e-01]\n",
      "yt : [INFO     ] 2020-03-09 02:01:56,150 Parameters: domain_right_edge         = [1.5450e+19 3.8625e+19 5.0000e-01]\n",
      "yt : [INFO     ] 2020-03-09 02:01:56,151 Parameters: cosmological_simulation   = 0.0\n"
     ]
    },
    {
     "name": "stdout",
     "output_type": "stream",
     "text": [
      "mixing_layer.out1.00621\n"
     ]
    },
    {
     "name": "stderr",
     "output_type": "stream",
     "text": [
      "yt : [WARNING  ] 2020-03-09 02:01:56,182 Assuming 1.0 = 1.0 cm\n",
      "yt : [WARNING  ] 2020-03-09 02:01:56,184 Assuming 1.0 = 1.0 s\n",
      "yt : [WARNING  ] 2020-03-09 02:01:56,185 Assuming 1.0 = 1.0 g\n",
      "yt : [WARNING  ] 2020-03-09 02:01:56,185 Assuming 1.0 = 1.0 K\n",
      "yt : [INFO     ] 2020-03-09 02:01:56,198 Parameters: current_time              = 1171848112464395.2\n",
      "yt : [INFO     ] 2020-03-09 02:01:56,199 Parameters: domain_dimensions         = [256 640   1]\n",
      "yt : [INFO     ] 2020-03-09 02:01:56,200 Parameters: domain_left_edge          = [-1.5450e+19 -3.8625e+19 -5.0000e-01]\n",
      "yt : [INFO     ] 2020-03-09 02:01:56,201 Parameters: domain_right_edge         = [1.5450e+19 3.8625e+19 5.0000e-01]\n",
      "yt : [INFO     ] 2020-03-09 02:01:56,201 Parameters: cosmological_simulation   = 0.0\n"
     ]
    },
    {
     "name": "stdout",
     "output_type": "stream",
     "text": [
      "mixing_layer.out1.00622\n"
     ]
    },
    {
     "name": "stderr",
     "output_type": "stream",
     "text": [
      "yt : [WARNING  ] 2020-03-09 02:01:56,234 Assuming 1.0 = 1.0 cm\n",
      "yt : [WARNING  ] 2020-03-09 02:01:56,235 Assuming 1.0 = 1.0 s\n",
      "yt : [WARNING  ] 2020-03-09 02:01:56,236 Assuming 1.0 = 1.0 g\n",
      "yt : [WARNING  ] 2020-03-09 02:01:56,238 Assuming 1.0 = 1.0 K\n",
      "yt : [INFO     ] 2020-03-09 02:01:56,249 Parameters: current_time              = 1173733431644035.8\n",
      "yt : [INFO     ] 2020-03-09 02:01:56,251 Parameters: domain_dimensions         = [256 640   1]\n",
      "yt : [INFO     ] 2020-03-09 02:01:56,252 Parameters: domain_left_edge          = [-1.5450e+19 -3.8625e+19 -5.0000e-01]\n",
      "yt : [INFO     ] 2020-03-09 02:01:56,253 Parameters: domain_right_edge         = [1.5450e+19 3.8625e+19 5.0000e-01]\n",
      "yt : [INFO     ] 2020-03-09 02:01:56,253 Parameters: cosmological_simulation   = 0.0\n"
     ]
    },
    {
     "name": "stdout",
     "output_type": "stream",
     "text": [
      "mixing_layer.out1.00623\n"
     ]
    },
    {
     "name": "stderr",
     "output_type": "stream",
     "text": [
      "yt : [WARNING  ] 2020-03-09 02:01:56,284 Assuming 1.0 = 1.0 cm\n",
      "yt : [WARNING  ] 2020-03-09 02:01:56,286 Assuming 1.0 = 1.0 s\n",
      "yt : [WARNING  ] 2020-03-09 02:01:56,287 Assuming 1.0 = 1.0 g\n",
      "yt : [WARNING  ] 2020-03-09 02:01:56,288 Assuming 1.0 = 1.0 K\n",
      "yt : [INFO     ] 2020-03-09 02:01:56,299 Parameters: current_time              = 1175616365165523.8\n",
      "yt : [INFO     ] 2020-03-09 02:01:56,300 Parameters: domain_dimensions         = [256 640   1]\n",
      "yt : [INFO     ] 2020-03-09 02:01:56,301 Parameters: domain_left_edge          = [-1.5450e+19 -3.8625e+19 -5.0000e-01]\n",
      "yt : [INFO     ] 2020-03-09 02:01:56,302 Parameters: domain_right_edge         = [1.5450e+19 3.8625e+19 5.0000e-01]\n",
      "yt : [INFO     ] 2020-03-09 02:01:56,303 Parameters: cosmological_simulation   = 0.0\n"
     ]
    },
    {
     "name": "stdout",
     "output_type": "stream",
     "text": [
      "mixing_layer.out1.00624\n"
     ]
    },
    {
     "name": "stderr",
     "output_type": "stream",
     "text": [
      "yt : [WARNING  ] 2020-03-09 02:01:56,333 Assuming 1.0 = 1.0 cm\n",
      "yt : [WARNING  ] 2020-03-09 02:01:56,334 Assuming 1.0 = 1.0 s\n",
      "yt : [WARNING  ] 2020-03-09 02:01:56,335 Assuming 1.0 = 1.0 g\n",
      "yt : [WARNING  ] 2020-03-09 02:01:56,336 Assuming 1.0 = 1.0 K\n",
      "yt : [INFO     ] 2020-03-09 02:01:56,352 Parameters: current_time              = 1177502355041205.8\n",
      "yt : [INFO     ] 2020-03-09 02:01:56,353 Parameters: domain_dimensions         = [256 640   1]\n",
      "yt : [INFO     ] 2020-03-09 02:01:56,353 Parameters: domain_left_edge          = [-1.5450e+19 -3.8625e+19 -5.0000e-01]\n",
      "yt : [INFO     ] 2020-03-09 02:01:56,354 Parameters: domain_right_edge         = [1.5450e+19 3.8625e+19 5.0000e-01]\n",
      "yt : [INFO     ] 2020-03-09 02:01:56,356 Parameters: cosmological_simulation   = 0.0\n"
     ]
    },
    {
     "name": "stdout",
     "output_type": "stream",
     "text": [
      "mixing_layer.out1.00625\n"
     ]
    },
    {
     "name": "stderr",
     "output_type": "stream",
     "text": [
      "yt : [WARNING  ] 2020-03-09 02:01:56,389 Assuming 1.0 = 1.0 cm\n",
      "yt : [WARNING  ] 2020-03-09 02:01:56,390 Assuming 1.0 = 1.0 s\n",
      "yt : [WARNING  ] 2020-03-09 02:01:56,391 Assuming 1.0 = 1.0 g\n",
      "yt : [WARNING  ] 2020-03-09 02:01:56,392 Assuming 1.0 = 1.0 K\n",
      "yt : [INFO     ] 2020-03-09 02:01:56,403 Parameters: current_time              = 1179384229098561.0\n",
      "yt : [INFO     ] 2020-03-09 02:01:56,404 Parameters: domain_dimensions         = [256 640   1]\n",
      "yt : [INFO     ] 2020-03-09 02:01:56,406 Parameters: domain_left_edge          = [-1.5450e+19 -3.8625e+19 -5.0000e-01]\n",
      "yt : [INFO     ] 2020-03-09 02:01:56,407 Parameters: domain_right_edge         = [1.5450e+19 3.8625e+19 5.0000e-01]\n",
      "yt : [INFO     ] 2020-03-09 02:01:56,407 Parameters: cosmological_simulation   = 0.0\n"
     ]
    },
    {
     "name": "stdout",
     "output_type": "stream",
     "text": [
      "mixing_layer.out1.00626\n"
     ]
    },
    {
     "name": "stderr",
     "output_type": "stream",
     "text": [
      "yt : [WARNING  ] 2020-03-09 02:01:56,441 Assuming 1.0 = 1.0 cm\n",
      "yt : [WARNING  ] 2020-03-09 02:01:56,442 Assuming 1.0 = 1.0 s\n",
      "yt : [WARNING  ] 2020-03-09 02:01:56,442 Assuming 1.0 = 1.0 g\n",
      "yt : [WARNING  ] 2020-03-09 02:01:56,443 Assuming 1.0 = 1.0 K\n",
      "yt : [INFO     ] 2020-03-09 02:01:56,457 Parameters: current_time              = 1181269240902534.2\n",
      "yt : [INFO     ] 2020-03-09 02:01:56,458 Parameters: domain_dimensions         = [256 640   1]\n",
      "yt : [INFO     ] 2020-03-09 02:01:56,459 Parameters: domain_left_edge          = [-1.5450e+19 -3.8625e+19 -5.0000e-01]\n",
      "yt : [INFO     ] 2020-03-09 02:01:56,460 Parameters: domain_right_edge         = [1.5450e+19 3.8625e+19 5.0000e-01]\n",
      "yt : [INFO     ] 2020-03-09 02:01:56,460 Parameters: cosmological_simulation   = 0.0\n"
     ]
    },
    {
     "name": "stdout",
     "output_type": "stream",
     "text": [
      "mixing_layer.out1.00627\n"
     ]
    },
    {
     "name": "stderr",
     "output_type": "stream",
     "text": [
      "yt : [WARNING  ] 2020-03-09 02:01:56,495 Assuming 1.0 = 1.0 cm\n",
      "yt : [WARNING  ] 2020-03-09 02:01:56,496 Assuming 1.0 = 1.0 s\n",
      "yt : [WARNING  ] 2020-03-09 02:01:56,497 Assuming 1.0 = 1.0 g\n",
      "yt : [WARNING  ] 2020-03-09 02:01:56,498 Assuming 1.0 = 1.0 K\n",
      "yt : [INFO     ] 2020-03-09 02:01:56,509 Parameters: current_time              = 1183152829104340.8\n",
      "yt : [INFO     ] 2020-03-09 02:01:56,510 Parameters: domain_dimensions         = [256 640   1]\n",
      "yt : [INFO     ] 2020-03-09 02:01:56,511 Parameters: domain_left_edge          = [-1.5450e+19 -3.8625e+19 -5.0000e-01]\n",
      "yt : [INFO     ] 2020-03-09 02:01:56,512 Parameters: domain_right_edge         = [1.5450e+19 3.8625e+19 5.0000e-01]\n",
      "yt : [INFO     ] 2020-03-09 02:01:56,513 Parameters: cosmological_simulation   = 0.0\n"
     ]
    },
    {
     "name": "stdout",
     "output_type": "stream",
     "text": [
      "mixing_layer.out1.00628\n"
     ]
    },
    {
     "name": "stderr",
     "output_type": "stream",
     "text": [
      "yt : [WARNING  ] 2020-03-09 02:01:56,545 Assuming 1.0 = 1.0 cm\n",
      "yt : [WARNING  ] 2020-03-09 02:01:56,546 Assuming 1.0 = 1.0 s\n",
      "yt : [WARNING  ] 2020-03-09 02:01:56,547 Assuming 1.0 = 1.0 g\n",
      "yt : [WARNING  ] 2020-03-09 02:01:56,548 Assuming 1.0 = 1.0 K\n",
      "yt : [INFO     ] 2020-03-09 02:01:56,559 Parameters: current_time              = 1185036691288839.0\n",
      "yt : [INFO     ] 2020-03-09 02:01:56,560 Parameters: domain_dimensions         = [256 640   1]\n",
      "yt : [INFO     ] 2020-03-09 02:01:56,561 Parameters: domain_left_edge          = [-1.5450e+19 -3.8625e+19 -5.0000e-01]\n",
      "yt : [INFO     ] 2020-03-09 02:01:56,562 Parameters: domain_right_edge         = [1.5450e+19 3.8625e+19 5.0000e-01]\n",
      "yt : [INFO     ] 2020-03-09 02:01:56,562 Parameters: cosmological_simulation   = 0.0\n"
     ]
    },
    {
     "name": "stdout",
     "output_type": "stream",
     "text": [
      "mixing_layer.out1.00629\n"
     ]
    },
    {
     "name": "stderr",
     "output_type": "stream",
     "text": [
      "yt : [WARNING  ] 2020-03-09 02:01:56,596 Assuming 1.0 = 1.0 cm\n",
      "yt : [WARNING  ] 2020-03-09 02:01:56,597 Assuming 1.0 = 1.0 s\n",
      "yt : [WARNING  ] 2020-03-09 02:01:56,598 Assuming 1.0 = 1.0 g\n",
      "yt : [WARNING  ] 2020-03-09 02:01:56,598 Assuming 1.0 = 1.0 K\n",
      "yt : [INFO     ] 2020-03-09 02:01:56,609 Parameters: current_time              = 1186920943781545.5\n",
      "yt : [INFO     ] 2020-03-09 02:01:56,610 Parameters: domain_dimensions         = [256 640   1]\n",
      "yt : [INFO     ] 2020-03-09 02:01:56,611 Parameters: domain_left_edge          = [-1.5450e+19 -3.8625e+19 -5.0000e-01]\n",
      "yt : [INFO     ] 2020-03-09 02:01:56,612 Parameters: domain_right_edge         = [1.5450e+19 3.8625e+19 5.0000e-01]\n",
      "yt : [INFO     ] 2020-03-09 02:01:56,613 Parameters: cosmological_simulation   = 0.0\n"
     ]
    },
    {
     "name": "stdout",
     "output_type": "stream",
     "text": [
      "mixing_layer.out1.00630\n"
     ]
    },
    {
     "name": "stderr",
     "output_type": "stream",
     "text": [
      "yt : [WARNING  ] 2020-03-09 02:01:56,645 Assuming 1.0 = 1.0 cm\n",
      "yt : [WARNING  ] 2020-03-09 02:01:56,646 Assuming 1.0 = 1.0 s\n",
      "yt : [WARNING  ] 2020-03-09 02:01:56,647 Assuming 1.0 = 1.0 g\n",
      "yt : [WARNING  ] 2020-03-09 02:01:56,648 Assuming 1.0 = 1.0 K\n",
      "yt : [INFO     ] 2020-03-09 02:01:56,662 Parameters: current_time              = 1188805589752383.8\n",
      "yt : [INFO     ] 2020-03-09 02:01:56,663 Parameters: domain_dimensions         = [256 640   1]\n",
      "yt : [INFO     ] 2020-03-09 02:01:56,664 Parameters: domain_left_edge          = [-1.5450e+19 -3.8625e+19 -5.0000e-01]\n",
      "yt : [INFO     ] 2020-03-09 02:01:56,665 Parameters: domain_right_edge         = [1.5450e+19 3.8625e+19 5.0000e-01]\n",
      "yt : [INFO     ] 2020-03-09 02:01:56,666 Parameters: cosmological_simulation   = 0.0\n"
     ]
    },
    {
     "name": "stdout",
     "output_type": "stream",
     "text": [
      "mixing_layer.out1.00631\n"
     ]
    },
    {
     "name": "stderr",
     "output_type": "stream",
     "text": [
      "yt : [WARNING  ] 2020-03-09 02:01:56,698 Assuming 1.0 = 1.0 cm\n",
      "yt : [WARNING  ] 2020-03-09 02:01:56,699 Assuming 1.0 = 1.0 s\n",
      "yt : [WARNING  ] 2020-03-09 02:01:56,700 Assuming 1.0 = 1.0 g\n",
      "yt : [WARNING  ] 2020-03-09 02:01:56,701 Assuming 1.0 = 1.0 K\n",
      "yt : [INFO     ] 2020-03-09 02:01:56,712 Parameters: current_time              = 1190689366846003.8\n",
      "yt : [INFO     ] 2020-03-09 02:01:56,713 Parameters: domain_dimensions         = [256 640   1]\n",
      "yt : [INFO     ] 2020-03-09 02:01:56,714 Parameters: domain_left_edge          = [-1.5450e+19 -3.8625e+19 -5.0000e-01]\n",
      "yt : [INFO     ] 2020-03-09 02:01:56,715 Parameters: domain_right_edge         = [1.5450e+19 3.8625e+19 5.0000e-01]\n",
      "yt : [INFO     ] 2020-03-09 02:01:56,715 Parameters: cosmological_simulation   = 0.0\n"
     ]
    },
    {
     "name": "stdout",
     "output_type": "stream",
     "text": [
      "mixing_layer.out1.00632\n"
     ]
    },
    {
     "name": "stderr",
     "output_type": "stream",
     "text": [
      "yt : [WARNING  ] 2020-03-09 02:01:56,746 Assuming 1.0 = 1.0 cm\n",
      "yt : [WARNING  ] 2020-03-09 02:01:56,747 Assuming 1.0 = 1.0 s\n",
      "yt : [WARNING  ] 2020-03-09 02:01:56,748 Assuming 1.0 = 1.0 g\n",
      "yt : [WARNING  ] 2020-03-09 02:01:56,749 Assuming 1.0 = 1.0 K\n",
      "yt : [INFO     ] 2020-03-09 02:01:56,761 Parameters: current_time              = 1192574772630094.5\n",
      "yt : [INFO     ] 2020-03-09 02:01:56,762 Parameters: domain_dimensions         = [256 640   1]\n",
      "yt : [INFO     ] 2020-03-09 02:01:56,763 Parameters: domain_left_edge          = [-1.5450e+19 -3.8625e+19 -5.0000e-01]\n",
      "yt : [INFO     ] 2020-03-09 02:01:56,764 Parameters: domain_right_edge         = [1.5450e+19 3.8625e+19 5.0000e-01]\n",
      "yt : [INFO     ] 2020-03-09 02:01:56,765 Parameters: cosmological_simulation   = 0.0\n"
     ]
    },
    {
     "name": "stdout",
     "output_type": "stream",
     "text": [
      "mixing_layer.out1.00633\n"
     ]
    },
    {
     "name": "stderr",
     "output_type": "stream",
     "text": [
      "yt : [WARNING  ] 2020-03-09 02:01:56,798 Assuming 1.0 = 1.0 cm\n",
      "yt : [WARNING  ] 2020-03-09 02:01:56,800 Assuming 1.0 = 1.0 s\n",
      "yt : [WARNING  ] 2020-03-09 02:01:56,801 Assuming 1.0 = 1.0 g\n",
      "yt : [WARNING  ] 2020-03-09 02:01:56,803 Assuming 1.0 = 1.0 K\n",
      "yt : [INFO     ] 2020-03-09 02:01:56,816 Parameters: current_time              = 1194456379306649.2\n",
      "yt : [INFO     ] 2020-03-09 02:01:56,817 Parameters: domain_dimensions         = [256 640   1]\n",
      "yt : [INFO     ] 2020-03-09 02:01:56,818 Parameters: domain_left_edge          = [-1.5450e+19 -3.8625e+19 -5.0000e-01]\n",
      "yt : [INFO     ] 2020-03-09 02:01:56,818 Parameters: domain_right_edge         = [1.5450e+19 3.8625e+19 5.0000e-01]\n",
      "yt : [INFO     ] 2020-03-09 02:01:56,819 Parameters: cosmological_simulation   = 0.0\n"
     ]
    },
    {
     "name": "stdout",
     "output_type": "stream",
     "text": [
      "mixing_layer.out1.00634\n"
     ]
    },
    {
     "name": "stderr",
     "output_type": "stream",
     "text": [
      "yt : [WARNING  ] 2020-03-09 02:01:56,854 Assuming 1.0 = 1.0 cm\n",
      "yt : [WARNING  ] 2020-03-09 02:01:56,855 Assuming 1.0 = 1.0 s\n",
      "yt : [WARNING  ] 2020-03-09 02:01:56,856 Assuming 1.0 = 1.0 g\n",
      "yt : [WARNING  ] 2020-03-09 02:01:56,857 Assuming 1.0 = 1.0 K\n",
      "yt : [INFO     ] 2020-03-09 02:01:56,871 Parameters: current_time              = 1196342273748861.8\n",
      "yt : [INFO     ] 2020-03-09 02:01:56,872 Parameters: domain_dimensions         = [256 640   1]\n",
      "yt : [INFO     ] 2020-03-09 02:01:56,873 Parameters: domain_left_edge          = [-1.5450e+19 -3.8625e+19 -5.0000e-01]\n",
      "yt : [INFO     ] 2020-03-09 02:01:56,874 Parameters: domain_right_edge         = [1.5450e+19 3.8625e+19 5.0000e-01]\n",
      "yt : [INFO     ] 2020-03-09 02:01:56,875 Parameters: cosmological_simulation   = 0.0\n"
     ]
    },
    {
     "name": "stdout",
     "output_type": "stream",
     "text": [
      "mixing_layer.out1.00635\n"
     ]
    },
    {
     "name": "stderr",
     "output_type": "stream",
     "text": [
      "yt : [WARNING  ] 2020-03-09 02:01:56,916 Assuming 1.0 = 1.0 cm\n",
      "yt : [WARNING  ] 2020-03-09 02:01:56,917 Assuming 1.0 = 1.0 s\n",
      "yt : [WARNING  ] 2020-03-09 02:01:56,918 Assuming 1.0 = 1.0 g\n",
      "yt : [WARNING  ] 2020-03-09 02:01:56,919 Assuming 1.0 = 1.0 K\n",
      "yt : [INFO     ] 2020-03-09 02:01:56,931 Parameters: current_time              = 1198225453181524.2\n",
      "yt : [INFO     ] 2020-03-09 02:01:56,931 Parameters: domain_dimensions         = [256 640   1]\n",
      "yt : [INFO     ] 2020-03-09 02:01:56,932 Parameters: domain_left_edge          = [-1.5450e+19 -3.8625e+19 -5.0000e-01]\n",
      "yt : [INFO     ] 2020-03-09 02:01:56,933 Parameters: domain_right_edge         = [1.5450e+19 3.8625e+19 5.0000e-01]\n",
      "yt : [INFO     ] 2020-03-09 02:01:56,934 Parameters: cosmological_simulation   = 0.0\n"
     ]
    },
    {
     "name": "stdout",
     "output_type": "stream",
     "text": [
      "mixing_layer.out1.00636\n"
     ]
    },
    {
     "name": "stderr",
     "output_type": "stream",
     "text": [
      "yt : [WARNING  ] 2020-03-09 02:01:56,971 Assuming 1.0 = 1.0 cm\n",
      "yt : [WARNING  ] 2020-03-09 02:01:56,972 Assuming 1.0 = 1.0 s\n",
      "yt : [WARNING  ] 2020-03-09 02:01:56,973 Assuming 1.0 = 1.0 g\n",
      "yt : [WARNING  ] 2020-03-09 02:01:56,974 Assuming 1.0 = 1.0 K\n",
      "yt : [INFO     ] 2020-03-09 02:01:56,985 Parameters: current_time              = 1200110611974193.8\n",
      "yt : [INFO     ] 2020-03-09 02:01:56,986 Parameters: domain_dimensions         = [256 640   1]\n",
      "yt : [INFO     ] 2020-03-09 02:01:56,987 Parameters: domain_left_edge          = [-1.5450e+19 -3.8625e+19 -5.0000e-01]\n",
      "yt : [INFO     ] 2020-03-09 02:01:56,989 Parameters: domain_right_edge         = [1.5450e+19 3.8625e+19 5.0000e-01]\n",
      "yt : [INFO     ] 2020-03-09 02:01:56,990 Parameters: cosmological_simulation   = 0.0\n"
     ]
    },
    {
     "name": "stdout",
     "output_type": "stream",
     "text": [
      "mixing_layer.out1.00637\n"
     ]
    },
    {
     "name": "stderr",
     "output_type": "stream",
     "text": [
      "yt : [WARNING  ] 2020-03-09 02:01:57,023 Assuming 1.0 = 1.0 cm\n",
      "yt : [WARNING  ] 2020-03-09 02:01:57,024 Assuming 1.0 = 1.0 s\n",
      "yt : [WARNING  ] 2020-03-09 02:01:57,025 Assuming 1.0 = 1.0 g\n",
      "yt : [WARNING  ] 2020-03-09 02:01:57,026 Assuming 1.0 = 1.0 K\n",
      "yt : [INFO     ] 2020-03-09 02:01:57,040 Parameters: current_time              = 1201993976060242.8\n",
      "yt : [INFO     ] 2020-03-09 02:01:57,041 Parameters: domain_dimensions         = [256 640   1]\n",
      "yt : [INFO     ] 2020-03-09 02:01:57,042 Parameters: domain_left_edge          = [-1.5450e+19 -3.8625e+19 -5.0000e-01]\n",
      "yt : [INFO     ] 2020-03-09 02:01:57,043 Parameters: domain_right_edge         = [1.5450e+19 3.8625e+19 5.0000e-01]\n",
      "yt : [INFO     ] 2020-03-09 02:01:57,044 Parameters: cosmological_simulation   = 0.0\n"
     ]
    },
    {
     "name": "stdout",
     "output_type": "stream",
     "text": [
      "mixing_layer.out1.00638\n"
     ]
    },
    {
     "name": "stderr",
     "output_type": "stream",
     "text": [
      "yt : [WARNING  ] 2020-03-09 02:01:57,078 Assuming 1.0 = 1.0 cm\n",
      "yt : [WARNING  ] 2020-03-09 02:01:57,080 Assuming 1.0 = 1.0 s\n",
      "yt : [WARNING  ] 2020-03-09 02:01:57,081 Assuming 1.0 = 1.0 g\n",
      "yt : [WARNING  ] 2020-03-09 02:01:57,082 Assuming 1.0 = 1.0 K\n",
      "yt : [INFO     ] 2020-03-09 02:01:57,094 Parameters: current_time              = 1203878088655937.0\n",
      "yt : [INFO     ] 2020-03-09 02:01:57,095 Parameters: domain_dimensions         = [256 640   1]\n",
      "yt : [INFO     ] 2020-03-09 02:01:57,096 Parameters: domain_left_edge          = [-1.5450e+19 -3.8625e+19 -5.0000e-01]\n",
      "yt : [INFO     ] 2020-03-09 02:01:57,097 Parameters: domain_right_edge         = [1.5450e+19 3.8625e+19 5.0000e-01]\n",
      "yt : [INFO     ] 2020-03-09 02:01:57,097 Parameters: cosmological_simulation   = 0.0\n"
     ]
    },
    {
     "name": "stdout",
     "output_type": "stream",
     "text": [
      "mixing_layer.out1.00639\n"
     ]
    },
    {
     "name": "stderr",
     "output_type": "stream",
     "text": [
      "yt : [WARNING  ] 2020-03-09 02:01:57,128 Assuming 1.0 = 1.0 cm\n",
      "yt : [WARNING  ] 2020-03-09 02:01:57,129 Assuming 1.0 = 1.0 s\n",
      "yt : [WARNING  ] 2020-03-09 02:01:57,131 Assuming 1.0 = 1.0 g\n",
      "yt : [WARNING  ] 2020-03-09 02:01:57,132 Assuming 1.0 = 1.0 K\n",
      "yt : [INFO     ] 2020-03-09 02:01:57,144 Parameters: current_time              = 1205760099091970.2\n",
      "yt : [INFO     ] 2020-03-09 02:01:57,144 Parameters: domain_dimensions         = [256 640   1]\n",
      "yt : [INFO     ] 2020-03-09 02:01:57,145 Parameters: domain_left_edge          = [-1.5450e+19 -3.8625e+19 -5.0000e-01]\n",
      "yt : [INFO     ] 2020-03-09 02:01:57,146 Parameters: domain_right_edge         = [1.5450e+19 3.8625e+19 5.0000e-01]\n",
      "yt : [INFO     ] 2020-03-09 02:01:57,147 Parameters: cosmological_simulation   = 0.0\n"
     ]
    },
    {
     "name": "stdout",
     "output_type": "stream",
     "text": [
      "mixing_layer.out1.00640\n"
     ]
    },
    {
     "name": "stderr",
     "output_type": "stream",
     "text": [
      "yt : [WARNING  ] 2020-03-09 02:01:57,177 Assuming 1.0 = 1.0 cm\n",
      "yt : [WARNING  ] 2020-03-09 02:01:57,178 Assuming 1.0 = 1.0 s\n",
      "yt : [WARNING  ] 2020-03-09 02:01:57,179 Assuming 1.0 = 1.0 g\n",
      "yt : [WARNING  ] 2020-03-09 02:01:57,180 Assuming 1.0 = 1.0 K\n",
      "yt : [INFO     ] 2020-03-09 02:01:57,192 Parameters: current_time              = 1207644176945333.8\n",
      "yt : [INFO     ] 2020-03-09 02:01:57,193 Parameters: domain_dimensions         = [256 640   1]\n",
      "yt : [INFO     ] 2020-03-09 02:01:57,194 Parameters: domain_left_edge          = [-1.5450e+19 -3.8625e+19 -5.0000e-01]\n",
      "yt : [INFO     ] 2020-03-09 02:01:57,195 Parameters: domain_right_edge         = [1.5450e+19 3.8625e+19 5.0000e-01]\n",
      "yt : [INFO     ] 2020-03-09 02:01:57,196 Parameters: cosmological_simulation   = 0.0\n"
     ]
    },
    {
     "name": "stdout",
     "output_type": "stream",
     "text": [
      "mixing_layer.out1.00641\n"
     ]
    },
    {
     "name": "stderr",
     "output_type": "stream",
     "text": [
      "yt : [WARNING  ] 2020-03-09 02:01:57,227 Assuming 1.0 = 1.0 cm\n",
      "yt : [WARNING  ] 2020-03-09 02:01:57,228 Assuming 1.0 = 1.0 s\n",
      "yt : [WARNING  ] 2020-03-09 02:01:57,229 Assuming 1.0 = 1.0 g\n",
      "yt : [WARNING  ] 2020-03-09 02:01:57,230 Assuming 1.0 = 1.0 K\n",
      "yt : [INFO     ] 2020-03-09 02:01:57,242 Parameters: current_time              = 1209529481403265.5\n",
      "yt : [INFO     ] 2020-03-09 02:01:57,243 Parameters: domain_dimensions         = [256 640   1]\n",
      "yt : [INFO     ] 2020-03-09 02:01:57,244 Parameters: domain_left_edge          = [-1.5450e+19 -3.8625e+19 -5.0000e-01]\n",
      "yt : [INFO     ] 2020-03-09 02:01:57,245 Parameters: domain_right_edge         = [1.5450e+19 3.8625e+19 5.0000e-01]\n",
      "yt : [INFO     ] 2020-03-09 02:01:57,246 Parameters: cosmological_simulation   = 0.0\n"
     ]
    },
    {
     "name": "stdout",
     "output_type": "stream",
     "text": [
      "mixing_layer.out1.00642\n"
     ]
    },
    {
     "name": "stderr",
     "output_type": "stream",
     "text": [
      "yt : [WARNING  ] 2020-03-09 02:01:57,278 Assuming 1.0 = 1.0 cm\n",
      "yt : [WARNING  ] 2020-03-09 02:01:57,280 Assuming 1.0 = 1.0 s\n",
      "yt : [WARNING  ] 2020-03-09 02:01:57,281 Assuming 1.0 = 1.0 g\n",
      "yt : [WARNING  ] 2020-03-09 02:01:57,281 Assuming 1.0 = 1.0 K\n",
      "yt : [INFO     ] 2020-03-09 02:01:57,293 Parameters: current_time              = 1211413457497595.0\n",
      "yt : [INFO     ] 2020-03-09 02:01:57,294 Parameters: domain_dimensions         = [256 640   1]\n",
      "yt : [INFO     ] 2020-03-09 02:01:57,295 Parameters: domain_left_edge          = [-1.5450e+19 -3.8625e+19 -5.0000e-01]\n",
      "yt : [INFO     ] 2020-03-09 02:01:57,296 Parameters: domain_right_edge         = [1.5450e+19 3.8625e+19 5.0000e-01]\n",
      "yt : [INFO     ] 2020-03-09 02:01:57,296 Parameters: cosmological_simulation   = 0.0\n"
     ]
    },
    {
     "name": "stdout",
     "output_type": "stream",
     "text": [
      "mixing_layer.out1.00643\n"
     ]
    },
    {
     "name": "stderr",
     "output_type": "stream",
     "text": [
      "yt : [WARNING  ] 2020-03-09 02:01:57,329 Assuming 1.0 = 1.0 cm\n",
      "yt : [WARNING  ] 2020-03-09 02:01:57,330 Assuming 1.0 = 1.0 s\n",
      "yt : [WARNING  ] 2020-03-09 02:01:57,331 Assuming 1.0 = 1.0 g\n",
      "yt : [WARNING  ] 2020-03-09 02:01:57,331 Assuming 1.0 = 1.0 K\n",
      "yt : [INFO     ] 2020-03-09 02:01:57,343 Parameters: current_time              = 1213298054283499.2\n",
      "yt : [INFO     ] 2020-03-09 02:01:57,344 Parameters: domain_dimensions         = [256 640   1]\n",
      "yt : [INFO     ] 2020-03-09 02:01:57,345 Parameters: domain_left_edge          = [-1.5450e+19 -3.8625e+19 -5.0000e-01]\n",
      "yt : [INFO     ] 2020-03-09 02:01:57,346 Parameters: domain_right_edge         = [1.5450e+19 3.8625e+19 5.0000e-01]\n",
      "yt : [INFO     ] 2020-03-09 02:01:57,346 Parameters: cosmological_simulation   = 0.0\n"
     ]
    },
    {
     "name": "stdout",
     "output_type": "stream",
     "text": [
      "mixing_layer.out1.00644\n"
     ]
    },
    {
     "name": "stderr",
     "output_type": "stream",
     "text": [
      "yt : [WARNING  ] 2020-03-09 02:01:57,378 Assuming 1.0 = 1.0 cm\n",
      "yt : [WARNING  ] 2020-03-09 02:01:57,379 Assuming 1.0 = 1.0 s\n",
      "yt : [WARNING  ] 2020-03-09 02:01:57,381 Assuming 1.0 = 1.0 g\n",
      "yt : [WARNING  ] 2020-03-09 02:01:57,392 Assuming 1.0 = 1.0 K\n",
      "yt : [INFO     ] 2020-03-09 02:01:57,407 Parameters: current_time              = 1215182644090819.8\n",
      "yt : [INFO     ] 2020-03-09 02:01:57,407 Parameters: domain_dimensions         = [256 640   1]\n",
      "yt : [INFO     ] 2020-03-09 02:01:57,408 Parameters: domain_left_edge          = [-1.5450e+19 -3.8625e+19 -5.0000e-01]\n",
      "yt : [INFO     ] 2020-03-09 02:01:57,409 Parameters: domain_right_edge         = [1.5450e+19 3.8625e+19 5.0000e-01]\n",
      "yt : [INFO     ] 2020-03-09 02:01:57,411 Parameters: cosmological_simulation   = 0.0\n"
     ]
    },
    {
     "name": "stdout",
     "output_type": "stream",
     "text": [
      "mixing_layer.out1.00645\n"
     ]
    },
    {
     "name": "stderr",
     "output_type": "stream",
     "text": [
      "yt : [WARNING  ] 2020-03-09 02:01:57,446 Assuming 1.0 = 1.0 cm\n",
      "yt : [WARNING  ] 2020-03-09 02:01:57,447 Assuming 1.0 = 1.0 s\n",
      "yt : [WARNING  ] 2020-03-09 02:01:57,448 Assuming 1.0 = 1.0 g\n",
      "yt : [WARNING  ] 2020-03-09 02:01:57,449 Assuming 1.0 = 1.0 K\n",
      "yt : [INFO     ] 2020-03-09 02:01:57,462 Parameters: current_time              = 1217066163263582.5\n",
      "yt : [INFO     ] 2020-03-09 02:01:57,463 Parameters: domain_dimensions         = [256 640   1]\n",
      "yt : [INFO     ] 2020-03-09 02:01:57,463 Parameters: domain_left_edge          = [-1.5450e+19 -3.8625e+19 -5.0000e-01]\n",
      "yt : [INFO     ] 2020-03-09 02:01:57,464 Parameters: domain_right_edge         = [1.5450e+19 3.8625e+19 5.0000e-01]\n",
      "yt : [INFO     ] 2020-03-09 02:01:57,465 Parameters: cosmological_simulation   = 0.0\n"
     ]
    },
    {
     "name": "stdout",
     "output_type": "stream",
     "text": [
      "mixing_layer.out1.00646\n"
     ]
    },
    {
     "name": "stderr",
     "output_type": "stream",
     "text": [
      "yt : [WARNING  ] 2020-03-09 02:01:57,497 Assuming 1.0 = 1.0 cm\n",
      "yt : [WARNING  ] 2020-03-09 02:01:57,499 Assuming 1.0 = 1.0 s\n",
      "yt : [WARNING  ] 2020-03-09 02:01:57,501 Assuming 1.0 = 1.0 g\n",
      "yt : [WARNING  ] 2020-03-09 02:01:57,502 Assuming 1.0 = 1.0 K\n",
      "yt : [INFO     ] 2020-03-09 02:01:57,514 Parameters: current_time              = 1218950601162945.5\n",
      "yt : [INFO     ] 2020-03-09 02:01:57,514 Parameters: domain_dimensions         = [256 640   1]\n",
      "yt : [INFO     ] 2020-03-09 02:01:57,515 Parameters: domain_left_edge          = [-1.5450e+19 -3.8625e+19 -5.0000e-01]\n",
      "yt : [INFO     ] 2020-03-09 02:01:57,516 Parameters: domain_right_edge         = [1.5450e+19 3.8625e+19 5.0000e-01]\n",
      "yt : [INFO     ] 2020-03-09 02:01:57,517 Parameters: cosmological_simulation   = 0.0\n"
     ]
    },
    {
     "name": "stdout",
     "output_type": "stream",
     "text": [
      "mixing_layer.out1.00647\n"
     ]
    },
    {
     "name": "stderr",
     "output_type": "stream",
     "text": [
      "yt : [WARNING  ] 2020-03-09 02:01:57,548 Assuming 1.0 = 1.0 cm\n",
      "yt : [WARNING  ] 2020-03-09 02:01:57,550 Assuming 1.0 = 1.0 s\n",
      "yt : [WARNING  ] 2020-03-09 02:01:57,551 Assuming 1.0 = 1.0 g\n",
      "yt : [WARNING  ] 2020-03-09 02:01:57,552 Assuming 1.0 = 1.0 K\n",
      "yt : [INFO     ] 2020-03-09 02:01:57,564 Parameters: current_time              = 1220834648482669.5\n",
      "yt : [INFO     ] 2020-03-09 02:01:57,565 Parameters: domain_dimensions         = [256 640   1]\n",
      "yt : [INFO     ] 2020-03-09 02:01:57,566 Parameters: domain_left_edge          = [-1.5450e+19 -3.8625e+19 -5.0000e-01]\n",
      "yt : [INFO     ] 2020-03-09 02:01:57,567 Parameters: domain_right_edge         = [1.5450e+19 3.8625e+19 5.0000e-01]\n",
      "yt : [INFO     ] 2020-03-09 02:01:57,568 Parameters: cosmological_simulation   = 0.0\n"
     ]
    },
    {
     "name": "stdout",
     "output_type": "stream",
     "text": [
      "mixing_layer.out1.00648\n"
     ]
    },
    {
     "name": "stderr",
     "output_type": "stream",
     "text": [
      "yt : [WARNING  ] 2020-03-09 02:01:57,603 Assuming 1.0 = 1.0 cm\n",
      "yt : [WARNING  ] 2020-03-09 02:01:57,604 Assuming 1.0 = 1.0 s\n",
      "yt : [WARNING  ] 2020-03-09 02:01:57,606 Assuming 1.0 = 1.0 g\n",
      "yt : [WARNING  ] 2020-03-09 02:01:57,607 Assuming 1.0 = 1.0 K\n",
      "yt : [INFO     ] 2020-03-09 02:01:57,619 Parameters: current_time              = 1222717981814017.2\n",
      "yt : [INFO     ] 2020-03-09 02:01:57,620 Parameters: domain_dimensions         = [256 640   1]\n",
      "yt : [INFO     ] 2020-03-09 02:01:57,620 Parameters: domain_left_edge          = [-1.5450e+19 -3.8625e+19 -5.0000e-01]\n",
      "yt : [INFO     ] 2020-03-09 02:01:57,621 Parameters: domain_right_edge         = [1.5450e+19 3.8625e+19 5.0000e-01]\n",
      "yt : [INFO     ] 2020-03-09 02:01:57,622 Parameters: cosmological_simulation   = 0.0\n"
     ]
    },
    {
     "name": "stdout",
     "output_type": "stream",
     "text": [
      "mixing_layer.out1.00649\n"
     ]
    },
    {
     "name": "stderr",
     "output_type": "stream",
     "text": [
      "yt : [WARNING  ] 2020-03-09 02:01:57,653 Assuming 1.0 = 1.0 cm\n",
      "yt : [WARNING  ] 2020-03-09 02:01:57,654 Assuming 1.0 = 1.0 s\n",
      "yt : [WARNING  ] 2020-03-09 02:01:57,655 Assuming 1.0 = 1.0 g\n",
      "yt : [WARNING  ] 2020-03-09 02:01:57,656 Assuming 1.0 = 1.0 K\n",
      "yt : [INFO     ] 2020-03-09 02:01:57,668 Parameters: current_time              = 1224602053334498.8\n",
      "yt : [INFO     ] 2020-03-09 02:01:57,669 Parameters: domain_dimensions         = [256 640   1]\n",
      "yt : [INFO     ] 2020-03-09 02:01:57,670 Parameters: domain_left_edge          = [-1.5450e+19 -3.8625e+19 -5.0000e-01]\n",
      "yt : [INFO     ] 2020-03-09 02:01:57,671 Parameters: domain_right_edge         = [1.5450e+19 3.8625e+19 5.0000e-01]\n",
      "yt : [INFO     ] 2020-03-09 02:01:57,671 Parameters: cosmological_simulation   = 0.0\n"
     ]
    },
    {
     "name": "stdout",
     "output_type": "stream",
     "text": [
      "mixing_layer.out1.00650\n"
     ]
    },
    {
     "name": "stderr",
     "output_type": "stream",
     "text": [
      "yt : [WARNING  ] 2020-03-09 02:01:57,702 Assuming 1.0 = 1.0 cm\n",
      "yt : [WARNING  ] 2020-03-09 02:01:57,703 Assuming 1.0 = 1.0 s\n",
      "yt : [WARNING  ] 2020-03-09 02:01:57,704 Assuming 1.0 = 1.0 g\n",
      "yt : [WARNING  ] 2020-03-09 02:01:57,705 Assuming 1.0 = 1.0 K\n",
      "yt : [INFO     ] 2020-03-09 02:01:57,716 Parameters: current_time              = 1226485243105770.5\n",
      "yt : [INFO     ] 2020-03-09 02:01:57,717 Parameters: domain_dimensions         = [256 640   1]\n",
      "yt : [INFO     ] 2020-03-09 02:01:57,718 Parameters: domain_left_edge          = [-1.5450e+19 -3.8625e+19 -5.0000e-01]\n",
      "yt : [INFO     ] 2020-03-09 02:01:57,720 Parameters: domain_right_edge         = [1.5450e+19 3.8625e+19 5.0000e-01]\n",
      "yt : [INFO     ] 2020-03-09 02:01:57,721 Parameters: cosmological_simulation   = 0.0\n"
     ]
    },
    {
     "name": "stdout",
     "output_type": "stream",
     "text": [
      "mixing_layer.out1.00651\n"
     ]
    },
    {
     "name": "stderr",
     "output_type": "stream",
     "text": [
      "yt : [WARNING  ] 2020-03-09 02:01:57,753 Assuming 1.0 = 1.0 cm\n",
      "yt : [WARNING  ] 2020-03-09 02:01:57,754 Assuming 1.0 = 1.0 s\n",
      "yt : [WARNING  ] 2020-03-09 02:01:57,755 Assuming 1.0 = 1.0 g\n",
      "yt : [WARNING  ] 2020-03-09 02:01:57,756 Assuming 1.0 = 1.0 K\n",
      "yt : [INFO     ] 2020-03-09 02:01:57,767 Parameters: current_time              = 1228370767777416.0\n",
      "yt : [INFO     ] 2020-03-09 02:01:57,768 Parameters: domain_dimensions         = [256 640   1]\n",
      "yt : [INFO     ] 2020-03-09 02:01:57,769 Parameters: domain_left_edge          = [-1.5450e+19 -3.8625e+19 -5.0000e-01]\n",
      "yt : [INFO     ] 2020-03-09 02:01:57,770 Parameters: domain_right_edge         = [1.5450e+19 3.8625e+19 5.0000e-01]\n",
      "yt : [INFO     ] 2020-03-09 02:01:57,771 Parameters: cosmological_simulation   = 0.0\n"
     ]
    },
    {
     "name": "stdout",
     "output_type": "stream",
     "text": [
      "mixing_layer.out1.00652\n"
     ]
    },
    {
     "name": "stderr",
     "output_type": "stream",
     "text": [
      "yt : [WARNING  ] 2020-03-09 02:01:57,811 Assuming 1.0 = 1.0 cm\n",
      "yt : [WARNING  ] 2020-03-09 02:01:57,812 Assuming 1.0 = 1.0 s\n",
      "yt : [WARNING  ] 2020-03-09 02:01:57,812 Assuming 1.0 = 1.0 g\n",
      "yt : [WARNING  ] 2020-03-09 02:01:57,813 Assuming 1.0 = 1.0 K\n",
      "yt : [INFO     ] 2020-03-09 02:01:57,827 Parameters: current_time              = 1230253531297194.0\n",
      "yt : [INFO     ] 2020-03-09 02:01:57,828 Parameters: domain_dimensions         = [256 640   1]\n",
      "yt : [INFO     ] 2020-03-09 02:01:57,828 Parameters: domain_left_edge          = [-1.5450e+19 -3.8625e+19 -5.0000e-01]\n",
      "yt : [INFO     ] 2020-03-09 02:01:57,829 Parameters: domain_right_edge         = [1.5450e+19 3.8625e+19 5.0000e-01]\n",
      "yt : [INFO     ] 2020-03-09 02:01:57,830 Parameters: cosmological_simulation   = 0.0\n"
     ]
    },
    {
     "name": "stdout",
     "output_type": "stream",
     "text": [
      "mixing_layer.out1.00653\n"
     ]
    },
    {
     "name": "stderr",
     "output_type": "stream",
     "text": [
      "yt : [WARNING  ] 2020-03-09 02:01:57,861 Assuming 1.0 = 1.0 cm\n",
      "yt : [WARNING  ] 2020-03-09 02:01:57,863 Assuming 1.0 = 1.0 s\n",
      "yt : [WARNING  ] 2020-03-09 02:01:57,863 Assuming 1.0 = 1.0 g\n",
      "yt : [WARNING  ] 2020-03-09 02:01:57,864 Assuming 1.0 = 1.0 K\n",
      "yt : [INFO     ] 2020-03-09 02:01:57,878 Parameters: current_time              = 1232137173132791.2\n",
      "yt : [INFO     ] 2020-03-09 02:01:57,879 Parameters: domain_dimensions         = [256 640   1]\n",
      "yt : [INFO     ] 2020-03-09 02:01:57,879 Parameters: domain_left_edge          = [-1.5450e+19 -3.8625e+19 -5.0000e-01]\n",
      "yt : [INFO     ] 2020-03-09 02:01:57,880 Parameters: domain_right_edge         = [1.5450e+19 3.8625e+19 5.0000e-01]\n",
      "yt : [INFO     ] 2020-03-09 02:01:57,881 Parameters: cosmological_simulation   = 0.0\n"
     ]
    },
    {
     "name": "stdout",
     "output_type": "stream",
     "text": [
      "mixing_layer.out1.00654\n"
     ]
    },
    {
     "name": "stderr",
     "output_type": "stream",
     "text": [
      "yt : [WARNING  ] 2020-03-09 02:01:57,914 Assuming 1.0 = 1.0 cm\n",
      "yt : [WARNING  ] 2020-03-09 02:01:57,916 Assuming 1.0 = 1.0 s\n",
      "yt : [WARNING  ] 2020-03-09 02:01:57,917 Assuming 1.0 = 1.0 g\n",
      "yt : [WARNING  ] 2020-03-09 02:01:57,917 Assuming 1.0 = 1.0 K\n",
      "yt : [INFO     ] 2020-03-09 02:01:57,930 Parameters: current_time              = 1234022682308861.0\n",
      "yt : [INFO     ] 2020-03-09 02:01:57,930 Parameters: domain_dimensions         = [256 640   1]\n",
      "yt : [INFO     ] 2020-03-09 02:01:57,931 Parameters: domain_left_edge          = [-1.5450e+19 -3.8625e+19 -5.0000e-01]\n",
      "yt : [INFO     ] 2020-03-09 02:01:57,932 Parameters: domain_right_edge         = [1.5450e+19 3.8625e+19 5.0000e-01]\n",
      "yt : [INFO     ] 2020-03-09 02:01:57,933 Parameters: cosmological_simulation   = 0.0\n"
     ]
    },
    {
     "name": "stdout",
     "output_type": "stream",
     "text": [
      "mixing_layer.out1.00655\n"
     ]
    },
    {
     "name": "stderr",
     "output_type": "stream",
     "text": [
      "yt : [WARNING  ] 2020-03-09 02:01:57,965 Assuming 1.0 = 1.0 cm\n",
      "yt : [WARNING  ] 2020-03-09 02:01:57,966 Assuming 1.0 = 1.0 s\n",
      "yt : [WARNING  ] 2020-03-09 02:01:57,967 Assuming 1.0 = 1.0 g\n",
      "yt : [WARNING  ] 2020-03-09 02:01:57,968 Assuming 1.0 = 1.0 K\n",
      "yt : [INFO     ] 2020-03-09 02:01:57,979 Parameters: current_time              = 1235905970874409.0\n",
      "yt : [INFO     ] 2020-03-09 02:01:57,980 Parameters: domain_dimensions         = [256 640   1]\n",
      "yt : [INFO     ] 2020-03-09 02:01:57,981 Parameters: domain_left_edge          = [-1.5450e+19 -3.8625e+19 -5.0000e-01]\n",
      "yt : [INFO     ] 2020-03-09 02:01:57,982 Parameters: domain_right_edge         = [1.5450e+19 3.8625e+19 5.0000e-01]\n",
      "yt : [INFO     ] 2020-03-09 02:01:57,983 Parameters: cosmological_simulation   = 0.0\n"
     ]
    },
    {
     "name": "stdout",
     "output_type": "stream",
     "text": [
      "mixing_layer.out1.00656\n"
     ]
    },
    {
     "name": "stderr",
     "output_type": "stream",
     "text": [
      "yt : [WARNING  ] 2020-03-09 02:01:58,014 Assuming 1.0 = 1.0 cm\n",
      "yt : [WARNING  ] 2020-03-09 02:01:58,015 Assuming 1.0 = 1.0 s\n",
      "yt : [WARNING  ] 2020-03-09 02:01:58,016 Assuming 1.0 = 1.0 g\n",
      "yt : [WARNING  ] 2020-03-09 02:01:58,017 Assuming 1.0 = 1.0 K\n",
      "yt : [INFO     ] 2020-03-09 02:01:58,028 Parameters: current_time              = 1237789248212969.8\n",
      "yt : [INFO     ] 2020-03-09 02:01:58,029 Parameters: domain_dimensions         = [256 640   1]\n",
      "yt : [INFO     ] 2020-03-09 02:01:58,030 Parameters: domain_left_edge          = [-1.5450e+19 -3.8625e+19 -5.0000e-01]\n",
      "yt : [INFO     ] 2020-03-09 02:01:58,030 Parameters: domain_right_edge         = [1.5450e+19 3.8625e+19 5.0000e-01]\n",
      "yt : [INFO     ] 2020-03-09 02:01:58,031 Parameters: cosmological_simulation   = 0.0\n"
     ]
    },
    {
     "name": "stdout",
     "output_type": "stream",
     "text": [
      "mixing_layer.out1.00657\n"
     ]
    },
    {
     "name": "stderr",
     "output_type": "stream",
     "text": [
      "yt : [WARNING  ] 2020-03-09 02:01:58,064 Assuming 1.0 = 1.0 cm\n",
      "yt : [WARNING  ] 2020-03-09 02:01:58,065 Assuming 1.0 = 1.0 s\n",
      "yt : [WARNING  ] 2020-03-09 02:01:58,067 Assuming 1.0 = 1.0 g\n",
      "yt : [WARNING  ] 2020-03-09 02:01:58,067 Assuming 1.0 = 1.0 K\n",
      "yt : [INFO     ] 2020-03-09 02:01:58,079 Parameters: current_time              = 1239674961891879.2\n",
      "yt : [INFO     ] 2020-03-09 02:01:58,080 Parameters: domain_dimensions         = [256 640   1]\n",
      "yt : [INFO     ] 2020-03-09 02:01:58,080 Parameters: domain_left_edge          = [-1.5450e+19 -3.8625e+19 -5.0000e-01]\n",
      "yt : [INFO     ] 2020-03-09 02:01:58,081 Parameters: domain_right_edge         = [1.5450e+19 3.8625e+19 5.0000e-01]\n",
      "yt : [INFO     ] 2020-03-09 02:01:58,082 Parameters: cosmological_simulation   = 0.0\n"
     ]
    },
    {
     "name": "stdout",
     "output_type": "stream",
     "text": [
      "mixing_layer.out1.00658\n"
     ]
    },
    {
     "name": "stderr",
     "output_type": "stream",
     "text": [
      "yt : [WARNING  ] 2020-03-09 02:01:58,116 Assuming 1.0 = 1.0 cm\n",
      "yt : [WARNING  ] 2020-03-09 02:01:58,117 Assuming 1.0 = 1.0 s\n",
      "yt : [WARNING  ] 2020-03-09 02:01:58,119 Assuming 1.0 = 1.0 g\n",
      "yt : [WARNING  ] 2020-03-09 02:01:58,120 Assuming 1.0 = 1.0 K\n",
      "yt : [INFO     ] 2020-03-09 02:01:58,132 Parameters: current_time              = 1241556714703779.8\n",
      "yt : [INFO     ] 2020-03-09 02:01:58,132 Parameters: domain_dimensions         = [256 640   1]\n",
      "yt : [INFO     ] 2020-03-09 02:01:58,133 Parameters: domain_left_edge          = [-1.5450e+19 -3.8625e+19 -5.0000e-01]\n",
      "yt : [INFO     ] 2020-03-09 02:01:58,134 Parameters: domain_right_edge         = [1.5450e+19 3.8625e+19 5.0000e-01]\n",
      "yt : [INFO     ] 2020-03-09 02:01:58,135 Parameters: cosmological_simulation   = 0.0\n"
     ]
    },
    {
     "name": "stdout",
     "output_type": "stream",
     "text": [
      "mixing_layer.out1.00659\n"
     ]
    },
    {
     "name": "stderr",
     "output_type": "stream",
     "text": [
      "yt : [WARNING  ] 2020-03-09 02:01:58,166 Assuming 1.0 = 1.0 cm\n",
      "yt : [WARNING  ] 2020-03-09 02:01:58,168 Assuming 1.0 = 1.0 s\n",
      "yt : [WARNING  ] 2020-03-09 02:01:58,169 Assuming 1.0 = 1.0 g\n",
      "yt : [WARNING  ] 2020-03-09 02:01:58,170 Assuming 1.0 = 1.0 K\n",
      "yt : [INFO     ] 2020-03-09 02:01:58,182 Parameters: current_time              = 1243440914076472.5\n",
      "yt : [INFO     ] 2020-03-09 02:01:58,183 Parameters: domain_dimensions         = [256 640   1]\n",
      "yt : [INFO     ] 2020-03-09 02:01:58,184 Parameters: domain_left_edge          = [-1.5450e+19 -3.8625e+19 -5.0000e-01]\n",
      "yt : [INFO     ] 2020-03-09 02:01:58,185 Parameters: domain_right_edge         = [1.5450e+19 3.8625e+19 5.0000e-01]\n",
      "yt : [INFO     ] 2020-03-09 02:01:58,186 Parameters: cosmological_simulation   = 0.0\n"
     ]
    },
    {
     "name": "stdout",
     "output_type": "stream",
     "text": [
      "mixing_layer.out1.00660\n"
     ]
    },
    {
     "name": "stderr",
     "output_type": "stream",
     "text": [
      "yt : [WARNING  ] 2020-03-09 02:01:58,218 Assuming 1.0 = 1.0 cm\n",
      "yt : [WARNING  ] 2020-03-09 02:01:58,219 Assuming 1.0 = 1.0 s\n",
      "yt : [WARNING  ] 2020-03-09 02:01:58,220 Assuming 1.0 = 1.0 g\n",
      "yt : [WARNING  ] 2020-03-09 02:01:58,221 Assuming 1.0 = 1.0 K\n",
      "yt : [INFO     ] 2020-03-09 02:01:58,231 Parameters: current_time              = 1245326791433732.5\n",
      "yt : [INFO     ] 2020-03-09 02:01:58,232 Parameters: domain_dimensions         = [256 640   1]\n",
      "yt : [INFO     ] 2020-03-09 02:01:58,233 Parameters: domain_left_edge          = [-1.5450e+19 -3.8625e+19 -5.0000e-01]\n",
      "yt : [INFO     ] 2020-03-09 02:01:58,234 Parameters: domain_right_edge         = [1.5450e+19 3.8625e+19 5.0000e-01]\n",
      "yt : [INFO     ] 2020-03-09 02:01:58,234 Parameters: cosmological_simulation   = 0.0\n"
     ]
    },
    {
     "name": "stdout",
     "output_type": "stream",
     "text": [
      "mixing_layer.out1.00661\n"
     ]
    },
    {
     "name": "stderr",
     "output_type": "stream",
     "text": [
      "yt : [WARNING  ] 2020-03-09 02:01:58,265 Assuming 1.0 = 1.0 cm\n",
      "yt : [WARNING  ] 2020-03-09 02:01:58,267 Assuming 1.0 = 1.0 s\n",
      "yt : [WARNING  ] 2020-03-09 02:01:58,267 Assuming 1.0 = 1.0 g\n",
      "yt : [WARNING  ] 2020-03-09 02:01:58,268 Assuming 1.0 = 1.0 K\n",
      "yt : [INFO     ] 2020-03-09 02:01:58,282 Parameters: current_time              = 1247209639207815.2\n",
      "yt : [INFO     ] 2020-03-09 02:01:58,283 Parameters: domain_dimensions         = [256 640   1]\n",
      "yt : [INFO     ] 2020-03-09 02:01:58,284 Parameters: domain_left_edge          = [-1.5450e+19 -3.8625e+19 -5.0000e-01]\n",
      "yt : [INFO     ] 2020-03-09 02:01:58,285 Parameters: domain_right_edge         = [1.5450e+19 3.8625e+19 5.0000e-01]\n",
      "yt : [INFO     ] 2020-03-09 02:01:58,286 Parameters: cosmological_simulation   = 0.0\n"
     ]
    },
    {
     "name": "stdout",
     "output_type": "stream",
     "text": [
      "mixing_layer.out1.00662\n"
     ]
    },
    {
     "name": "stderr",
     "output_type": "stream",
     "text": [
      "yt : [WARNING  ] 2020-03-09 02:01:58,322 Assuming 1.0 = 1.0 cm\n",
      "yt : [WARNING  ] 2020-03-09 02:01:58,323 Assuming 1.0 = 1.0 s\n",
      "yt : [WARNING  ] 2020-03-09 02:01:58,324 Assuming 1.0 = 1.0 g\n",
      "yt : [WARNING  ] 2020-03-09 02:01:58,325 Assuming 1.0 = 1.0 K\n",
      "yt : [INFO     ] 2020-03-09 02:01:58,344 Parameters: current_time              = 1249092866048248.0\n",
      "yt : [INFO     ] 2020-03-09 02:01:58,345 Parameters: domain_dimensions         = [256 640   1]\n",
      "yt : [INFO     ] 2020-03-09 02:01:58,347 Parameters: domain_left_edge          = [-1.5450e+19 -3.8625e+19 -5.0000e-01]\n",
      "yt : [INFO     ] 2020-03-09 02:01:58,349 Parameters: domain_right_edge         = [1.5450e+19 3.8625e+19 5.0000e-01]\n",
      "yt : [INFO     ] 2020-03-09 02:01:58,350 Parameters: cosmological_simulation   = 0.0\n"
     ]
    },
    {
     "name": "stdout",
     "output_type": "stream",
     "text": [
      "mixing_layer.out1.00663\n"
     ]
    },
    {
     "name": "stderr",
     "output_type": "stream",
     "text": [
      "yt : [WARNING  ] 2020-03-09 02:01:58,398 Assuming 1.0 = 1.0 cm\n",
      "yt : [WARNING  ] 2020-03-09 02:01:58,399 Assuming 1.0 = 1.0 s\n",
      "yt : [WARNING  ] 2020-03-09 02:01:58,401 Assuming 1.0 = 1.0 g\n",
      "yt : [WARNING  ] 2020-03-09 02:01:58,402 Assuming 1.0 = 1.0 K\n",
      "yt : [INFO     ] 2020-03-09 02:01:58,414 Parameters: current_time              = 1250977046837182.8\n",
      "yt : [INFO     ] 2020-03-09 02:01:58,415 Parameters: domain_dimensions         = [256 640   1]\n",
      "yt : [INFO     ] 2020-03-09 02:01:58,416 Parameters: domain_left_edge          = [-1.5450e+19 -3.8625e+19 -5.0000e-01]\n",
      "yt : [INFO     ] 2020-03-09 02:01:58,418 Parameters: domain_right_edge         = [1.5450e+19 3.8625e+19 5.0000e-01]\n",
      "yt : [INFO     ] 2020-03-09 02:01:58,419 Parameters: cosmological_simulation   = 0.0\n"
     ]
    },
    {
     "name": "stdout",
     "output_type": "stream",
     "text": [
      "mixing_layer.out1.00664\n"
     ]
    },
    {
     "name": "stderr",
     "output_type": "stream",
     "text": [
      "yt : [WARNING  ] 2020-03-09 02:01:58,468 Assuming 1.0 = 1.0 cm\n",
      "yt : [WARNING  ] 2020-03-09 02:01:58,469 Assuming 1.0 = 1.0 s\n",
      "yt : [WARNING  ] 2020-03-09 02:01:58,471 Assuming 1.0 = 1.0 g\n",
      "yt : [WARNING  ] 2020-03-09 02:01:58,472 Assuming 1.0 = 1.0 K\n",
      "yt : [INFO     ] 2020-03-09 02:01:58,489 Parameters: current_time              = 1252860959874261.2\n",
      "yt : [INFO     ] 2020-03-09 02:01:58,490 Parameters: domain_dimensions         = [256 640   1]\n",
      "yt : [INFO     ] 2020-03-09 02:01:58,491 Parameters: domain_left_edge          = [-1.5450e+19 -3.8625e+19 -5.0000e-01]\n",
      "yt : [INFO     ] 2020-03-09 02:01:58,492 Parameters: domain_right_edge         = [1.5450e+19 3.8625e+19 5.0000e-01]\n",
      "yt : [INFO     ] 2020-03-09 02:01:58,493 Parameters: cosmological_simulation   = 0.0\n"
     ]
    },
    {
     "name": "stdout",
     "output_type": "stream",
     "text": [
      "mixing_layer.out1.00665\n"
     ]
    },
    {
     "name": "stderr",
     "output_type": "stream",
     "text": [
      "yt : [WARNING  ] 2020-03-09 02:01:58,527 Assuming 1.0 = 1.0 cm\n",
      "yt : [WARNING  ] 2020-03-09 02:01:58,529 Assuming 1.0 = 1.0 s\n",
      "yt : [WARNING  ] 2020-03-09 02:01:58,529 Assuming 1.0 = 1.0 g\n",
      "yt : [WARNING  ] 2020-03-09 02:01:58,530 Assuming 1.0 = 1.0 K\n",
      "yt : [INFO     ] 2020-03-09 02:01:58,542 Parameters: current_time              = 1254744398250004.2\n",
      "yt : [INFO     ] 2020-03-09 02:01:58,543 Parameters: domain_dimensions         = [256 640   1]\n",
      "yt : [INFO     ] 2020-03-09 02:01:58,544 Parameters: domain_left_edge          = [-1.5450e+19 -3.8625e+19 -5.0000e-01]\n",
      "yt : [INFO     ] 2020-03-09 02:01:58,545 Parameters: domain_right_edge         = [1.5450e+19 3.8625e+19 5.0000e-01]\n",
      "yt : [INFO     ] 2020-03-09 02:01:58,546 Parameters: cosmological_simulation   = 0.0\n"
     ]
    },
    {
     "name": "stdout",
     "output_type": "stream",
     "text": [
      "mixing_layer.out1.00666\n"
     ]
    },
    {
     "name": "stderr",
     "output_type": "stream",
     "text": [
      "yt : [WARNING  ] 2020-03-09 02:01:58,579 Assuming 1.0 = 1.0 cm\n",
      "yt : [WARNING  ] 2020-03-09 02:01:58,580 Assuming 1.0 = 1.0 s\n",
      "yt : [WARNING  ] 2020-03-09 02:01:58,580 Assuming 1.0 = 1.0 g\n",
      "yt : [WARNING  ] 2020-03-09 02:01:58,581 Assuming 1.0 = 1.0 K\n",
      "yt : [INFO     ] 2020-03-09 02:01:58,593 Parameters: current_time              = 1256629237529996.0\n",
      "yt : [INFO     ] 2020-03-09 02:01:58,594 Parameters: domain_dimensions         = [256 640   1]\n",
      "yt : [INFO     ] 2020-03-09 02:01:58,594 Parameters: domain_left_edge          = [-1.5450e+19 -3.8625e+19 -5.0000e-01]\n",
      "yt : [INFO     ] 2020-03-09 02:01:58,595 Parameters: domain_right_edge         = [1.5450e+19 3.8625e+19 5.0000e-01]\n",
      "yt : [INFO     ] 2020-03-09 02:01:58,596 Parameters: cosmological_simulation   = 0.0\n"
     ]
    },
    {
     "name": "stdout",
     "output_type": "stream",
     "text": [
      "mixing_layer.out1.00667\n"
     ]
    },
    {
     "name": "stderr",
     "output_type": "stream",
     "text": [
      "yt : [WARNING  ] 2020-03-09 02:01:58,633 Assuming 1.0 = 1.0 cm\n",
      "yt : [WARNING  ] 2020-03-09 02:01:58,634 Assuming 1.0 = 1.0 s\n",
      "yt : [WARNING  ] 2020-03-09 02:01:58,635 Assuming 1.0 = 1.0 g\n",
      "yt : [WARNING  ] 2020-03-09 02:01:58,636 Assuming 1.0 = 1.0 K\n",
      "yt : [INFO     ] 2020-03-09 02:01:58,650 Parameters: current_time              = 1258513619651509.8\n",
      "yt : [INFO     ] 2020-03-09 02:01:58,651 Parameters: domain_dimensions         = [256 640   1]\n",
      "yt : [INFO     ] 2020-03-09 02:01:58,651 Parameters: domain_left_edge          = [-1.5450e+19 -3.8625e+19 -5.0000e-01]\n",
      "yt : [INFO     ] 2020-03-09 02:01:58,653 Parameters: domain_right_edge         = [1.5450e+19 3.8625e+19 5.0000e-01]\n",
      "yt : [INFO     ] 2020-03-09 02:01:58,654 Parameters: cosmological_simulation   = 0.0\n"
     ]
    },
    {
     "name": "stdout",
     "output_type": "stream",
     "text": [
      "mixing_layer.out1.00668\n"
     ]
    },
    {
     "name": "stderr",
     "output_type": "stream",
     "text": [
      "yt : [WARNING  ] 2020-03-09 02:01:58,684 Assuming 1.0 = 1.0 cm\n",
      "yt : [WARNING  ] 2020-03-09 02:01:58,685 Assuming 1.0 = 1.0 s\n",
      "yt : [WARNING  ] 2020-03-09 02:01:58,685 Assuming 1.0 = 1.0 g\n",
      "yt : [WARNING  ] 2020-03-09 02:01:58,686 Assuming 1.0 = 1.0 K\n",
      "yt : [INFO     ] 2020-03-09 02:01:58,700 Parameters: current_time              = 1260397070641682.8\n",
      "yt : [INFO     ] 2020-03-09 02:01:58,701 Parameters: domain_dimensions         = [256 640   1]\n",
      "yt : [INFO     ] 2020-03-09 02:01:58,702 Parameters: domain_left_edge          = [-1.5450e+19 -3.8625e+19 -5.0000e-01]\n",
      "yt : [INFO     ] 2020-03-09 02:01:58,702 Parameters: domain_right_edge         = [1.5450e+19 3.8625e+19 5.0000e-01]\n",
      "yt : [INFO     ] 2020-03-09 02:01:58,703 Parameters: cosmological_simulation   = 0.0\n"
     ]
    },
    {
     "name": "stdout",
     "output_type": "stream",
     "text": [
      "mixing_layer.out1.00669\n"
     ]
    },
    {
     "name": "stderr",
     "output_type": "stream",
     "text": [
      "yt : [WARNING  ] 2020-03-09 02:01:58,736 Assuming 1.0 = 1.0 cm\n",
      "yt : [WARNING  ] 2020-03-09 02:01:58,738 Assuming 1.0 = 1.0 s\n",
      "yt : [WARNING  ] 2020-03-09 02:01:58,739 Assuming 1.0 = 1.0 g\n",
      "yt : [WARNING  ] 2020-03-09 02:01:58,740 Assuming 1.0 = 1.0 K\n",
      "yt : [INFO     ] 2020-03-09 02:01:58,752 Parameters: current_time              = 1262280077034716.8\n",
      "yt : [INFO     ] 2020-03-09 02:01:58,754 Parameters: domain_dimensions         = [256 640   1]\n",
      "yt : [INFO     ] 2020-03-09 02:01:58,754 Parameters: domain_left_edge          = [-1.5450e+19 -3.8625e+19 -5.0000e-01]\n",
      "yt : [INFO     ] 2020-03-09 02:01:58,755 Parameters: domain_right_edge         = [1.5450e+19 3.8625e+19 5.0000e-01]\n",
      "yt : [INFO     ] 2020-03-09 02:01:58,756 Parameters: cosmological_simulation   = 0.0\n"
     ]
    },
    {
     "name": "stdout",
     "output_type": "stream",
     "text": [
      "mixing_layer.out1.00670\n"
     ]
    },
    {
     "name": "stderr",
     "output_type": "stream",
     "text": [
      "yt : [WARNING  ] 2020-03-09 02:01:58,790 Assuming 1.0 = 1.0 cm\n",
      "yt : [WARNING  ] 2020-03-09 02:01:58,791 Assuming 1.0 = 1.0 s\n",
      "yt : [WARNING  ] 2020-03-09 02:01:58,792 Assuming 1.0 = 1.0 g\n",
      "yt : [WARNING  ] 2020-03-09 02:01:58,793 Assuming 1.0 = 1.0 K\n",
      "yt : [INFO     ] 2020-03-09 02:01:58,806 Parameters: current_time              = 1264166934626611.8\n",
      "yt : [INFO     ] 2020-03-09 02:01:58,807 Parameters: domain_dimensions         = [256 640   1]\n",
      "yt : [INFO     ] 2020-03-09 02:01:58,807 Parameters: domain_left_edge          = [-1.5450e+19 -3.8625e+19 -5.0000e-01]\n",
      "yt : [INFO     ] 2020-03-09 02:01:58,808 Parameters: domain_right_edge         = [1.5450e+19 3.8625e+19 5.0000e-01]\n",
      "yt : [INFO     ] 2020-03-09 02:01:58,809 Parameters: cosmological_simulation   = 0.0\n"
     ]
    },
    {
     "name": "stdout",
     "output_type": "stream",
     "text": [
      "mixing_layer.out1.00671\n"
     ]
    },
    {
     "name": "stderr",
     "output_type": "stream",
     "text": [
      "yt : [WARNING  ] 2020-03-09 02:01:58,841 Assuming 1.0 = 1.0 cm\n",
      "yt : [WARNING  ] 2020-03-09 02:01:58,842 Assuming 1.0 = 1.0 s\n",
      "yt : [WARNING  ] 2020-03-09 02:01:58,843 Assuming 1.0 = 1.0 g\n",
      "yt : [WARNING  ] 2020-03-09 02:01:58,843 Assuming 1.0 = 1.0 K\n",
      "yt : [INFO     ] 2020-03-09 02:01:58,855 Parameters: current_time              = 1266048991159911.2\n",
      "yt : [INFO     ] 2020-03-09 02:01:58,856 Parameters: domain_dimensions         = [256 640   1]\n",
      "yt : [INFO     ] 2020-03-09 02:01:58,856 Parameters: domain_left_edge          = [-1.5450e+19 -3.8625e+19 -5.0000e-01]\n",
      "yt : [INFO     ] 2020-03-09 02:01:58,857 Parameters: domain_right_edge         = [1.5450e+19 3.8625e+19 5.0000e-01]\n",
      "yt : [INFO     ] 2020-03-09 02:01:58,858 Parameters: cosmological_simulation   = 0.0\n"
     ]
    },
    {
     "name": "stdout",
     "output_type": "stream",
     "text": [
      "mixing_layer.out1.00672\n"
     ]
    },
    {
     "name": "stderr",
     "output_type": "stream",
     "text": [
      "yt : [WARNING  ] 2020-03-09 02:01:58,891 Assuming 1.0 = 1.0 cm\n",
      "yt : [WARNING  ] 2020-03-09 02:01:58,892 Assuming 1.0 = 1.0 s\n",
      "yt : [WARNING  ] 2020-03-09 02:01:58,893 Assuming 1.0 = 1.0 g\n",
      "yt : [WARNING  ] 2020-03-09 02:01:58,894 Assuming 1.0 = 1.0 K\n",
      "yt : [INFO     ] 2020-03-09 02:01:58,905 Parameters: current_time              = 1267932149133170.8\n",
      "yt : [INFO     ] 2020-03-09 02:01:58,906 Parameters: domain_dimensions         = [256 640   1]\n",
      "yt : [INFO     ] 2020-03-09 02:01:58,907 Parameters: domain_left_edge          = [-1.5450e+19 -3.8625e+19 -5.0000e-01]\n",
      "yt : [INFO     ] 2020-03-09 02:01:58,908 Parameters: domain_right_edge         = [1.5450e+19 3.8625e+19 5.0000e-01]\n",
      "yt : [INFO     ] 2020-03-09 02:01:58,909 Parameters: cosmological_simulation   = 0.0\n"
     ]
    },
    {
     "name": "stdout",
     "output_type": "stream",
     "text": [
      "mixing_layer.out1.00673\n"
     ]
    },
    {
     "name": "stderr",
     "output_type": "stream",
     "text": [
      "yt : [WARNING  ] 2020-03-09 02:01:58,946 Assuming 1.0 = 1.0 cm\n",
      "yt : [WARNING  ] 2020-03-09 02:01:58,947 Assuming 1.0 = 1.0 s\n",
      "yt : [WARNING  ] 2020-03-09 02:01:58,948 Assuming 1.0 = 1.0 g\n",
      "yt : [WARNING  ] 2020-03-09 02:01:58,949 Assuming 1.0 = 1.0 K\n",
      "yt : [INFO     ] 2020-03-09 02:01:58,961 Parameters: current_time              = 1269818314231966.8\n",
      "yt : [INFO     ] 2020-03-09 02:01:58,963 Parameters: domain_dimensions         = [256 640   1]\n",
      "yt : [INFO     ] 2020-03-09 02:01:58,964 Parameters: domain_left_edge          = [-1.5450e+19 -3.8625e+19 -5.0000e-01]\n",
      "yt : [INFO     ] 2020-03-09 02:01:58,965 Parameters: domain_right_edge         = [1.5450e+19 3.8625e+19 5.0000e-01]\n",
      "yt : [INFO     ] 2020-03-09 02:01:58,966 Parameters: cosmological_simulation   = 0.0\n"
     ]
    },
    {
     "name": "stdout",
     "output_type": "stream",
     "text": [
      "mixing_layer.out1.00674\n"
     ]
    },
    {
     "name": "stderr",
     "output_type": "stream",
     "text": [
      "yt : [WARNING  ] 2020-03-09 02:01:58,997 Assuming 1.0 = 1.0 cm\n",
      "yt : [WARNING  ] 2020-03-09 02:01:58,999 Assuming 1.0 = 1.0 s\n",
      "yt : [WARNING  ] 2020-03-09 02:01:59,000 Assuming 1.0 = 1.0 g\n",
      "yt : [WARNING  ] 2020-03-09 02:01:59,001 Assuming 1.0 = 1.0 K\n",
      "yt : [INFO     ] 2020-03-09 02:01:59,012 Parameters: current_time              = 1271700092652471.0\n",
      "yt : [INFO     ] 2020-03-09 02:01:59,013 Parameters: domain_dimensions         = [256 640   1]\n",
      "yt : [INFO     ] 2020-03-09 02:01:59,014 Parameters: domain_left_edge          = [-1.5450e+19 -3.8625e+19 -5.0000e-01]\n",
      "yt : [INFO     ] 2020-03-09 02:01:59,015 Parameters: domain_right_edge         = [1.5450e+19 3.8625e+19 5.0000e-01]\n",
      "yt : [INFO     ] 2020-03-09 02:01:59,016 Parameters: cosmological_simulation   = 0.0\n"
     ]
    },
    {
     "name": "stdout",
     "output_type": "stream",
     "text": [
      "mixing_layer.out1.00675\n"
     ]
    },
    {
     "name": "stderr",
     "output_type": "stream",
     "text": [
      "yt : [WARNING  ] 2020-03-09 02:01:59,052 Assuming 1.0 = 1.0 cm\n",
      "yt : [WARNING  ] 2020-03-09 02:01:59,053 Assuming 1.0 = 1.0 s\n",
      "yt : [WARNING  ] 2020-03-09 02:01:59,053 Assuming 1.0 = 1.0 g\n",
      "yt : [WARNING  ] 2020-03-09 02:01:59,054 Assuming 1.0 = 1.0 K\n",
      "yt : [INFO     ] 2020-03-09 02:01:59,069 Parameters: current_time              = 1273584237525441.2\n",
      "yt : [INFO     ] 2020-03-09 02:01:59,070 Parameters: domain_dimensions         = [256 640   1]\n",
      "yt : [INFO     ] 2020-03-09 02:01:59,071 Parameters: domain_left_edge          = [-1.5450e+19 -3.8625e+19 -5.0000e-01]\n",
      "yt : [INFO     ] 2020-03-09 02:01:59,072 Parameters: domain_right_edge         = [1.5450e+19 3.8625e+19 5.0000e-01]\n",
      "yt : [INFO     ] 2020-03-09 02:01:59,073 Parameters: cosmological_simulation   = 0.0\n"
     ]
    },
    {
     "name": "stdout",
     "output_type": "stream",
     "text": [
      "mixing_layer.out1.00676\n"
     ]
    },
    {
     "name": "stderr",
     "output_type": "stream",
     "text": [
      "yt : [WARNING  ] 2020-03-09 02:01:59,108 Assuming 1.0 = 1.0 cm\n",
      "yt : [WARNING  ] 2020-03-09 02:01:59,110 Assuming 1.0 = 1.0 s\n",
      "yt : [WARNING  ] 2020-03-09 02:01:59,111 Assuming 1.0 = 1.0 g\n",
      "yt : [WARNING  ] 2020-03-09 02:01:59,112 Assuming 1.0 = 1.0 K\n",
      "yt : [INFO     ] 2020-03-09 02:01:59,126 Parameters: current_time              = 1275470772000220.0\n",
      "yt : [INFO     ] 2020-03-09 02:01:59,127 Parameters: domain_dimensions         = [256 640   1]\n",
      "yt : [INFO     ] 2020-03-09 02:01:59,128 Parameters: domain_left_edge          = [-1.5450e+19 -3.8625e+19 -5.0000e-01]\n",
      "yt : [INFO     ] 2020-03-09 02:01:59,129 Parameters: domain_right_edge         = [1.5450e+19 3.8625e+19 5.0000e-01]\n",
      "yt : [INFO     ] 2020-03-09 02:01:59,130 Parameters: cosmological_simulation   = 0.0\n"
     ]
    },
    {
     "name": "stdout",
     "output_type": "stream",
     "text": [
      "mixing_layer.out1.00677\n"
     ]
    },
    {
     "name": "stderr",
     "output_type": "stream",
     "text": [
      "yt : [WARNING  ] 2020-03-09 02:01:59,175 Assuming 1.0 = 1.0 cm\n",
      "yt : [WARNING  ] 2020-03-09 02:01:59,177 Assuming 1.0 = 1.0 s\n",
      "yt : [WARNING  ] 2020-03-09 02:01:59,178 Assuming 1.0 = 1.0 g\n",
      "yt : [WARNING  ] 2020-03-09 02:01:59,179 Assuming 1.0 = 1.0 K\n",
      "yt : [INFO     ] 2020-03-09 02:01:59,193 Parameters: current_time              = 1277352077405380.5\n",
      "yt : [INFO     ] 2020-03-09 02:01:59,194 Parameters: domain_dimensions         = [256 640   1]\n",
      "yt : [INFO     ] 2020-03-09 02:01:59,195 Parameters: domain_left_edge          = [-1.5450e+19 -3.8625e+19 -5.0000e-01]\n",
      "yt : [INFO     ] 2020-03-09 02:01:59,196 Parameters: domain_right_edge         = [1.5450e+19 3.8625e+19 5.0000e-01]\n",
      "yt : [INFO     ] 2020-03-09 02:01:59,197 Parameters: cosmological_simulation   = 0.0\n"
     ]
    },
    {
     "name": "stdout",
     "output_type": "stream",
     "text": [
      "mixing_layer.out1.00678\n"
     ]
    },
    {
     "name": "stderr",
     "output_type": "stream",
     "text": [
      "yt : [WARNING  ] 2020-03-09 02:01:59,239 Assuming 1.0 = 1.0 cm\n",
      "yt : [WARNING  ] 2020-03-09 02:01:59,240 Assuming 1.0 = 1.0 s\n",
      "yt : [WARNING  ] 2020-03-09 02:01:59,242 Assuming 1.0 = 1.0 g\n",
      "yt : [WARNING  ] 2020-03-09 02:01:59,244 Assuming 1.0 = 1.0 K\n",
      "yt : [INFO     ] 2020-03-09 02:01:59,259 Parameters: current_time              = 1279236514165907.0\n",
      "yt : [INFO     ] 2020-03-09 02:01:59,260 Parameters: domain_dimensions         = [256 640   1]\n",
      "yt : [INFO     ] 2020-03-09 02:01:59,261 Parameters: domain_left_edge          = [-1.5450e+19 -3.8625e+19 -5.0000e-01]\n",
      "yt : [INFO     ] 2020-03-09 02:01:59,262 Parameters: domain_right_edge         = [1.5450e+19 3.8625e+19 5.0000e-01]\n",
      "yt : [INFO     ] 2020-03-09 02:01:59,263 Parameters: cosmological_simulation   = 0.0\n"
     ]
    },
    {
     "name": "stdout",
     "output_type": "stream",
     "text": [
      "mixing_layer.out1.00679\n"
     ]
    },
    {
     "name": "stderr",
     "output_type": "stream",
     "text": [
      "yt : [WARNING  ] 2020-03-09 02:01:59,295 Assuming 1.0 = 1.0 cm\n",
      "yt : [WARNING  ] 2020-03-09 02:01:59,296 Assuming 1.0 = 1.0 s\n",
      "yt : [WARNING  ] 2020-03-09 02:01:59,297 Assuming 1.0 = 1.0 g\n",
      "yt : [WARNING  ] 2020-03-09 02:01:59,298 Assuming 1.0 = 1.0 K\n",
      "yt : [INFO     ] 2020-03-09 02:01:59,311 Parameters: current_time              = 1281122409236332.8\n",
      "yt : [INFO     ] 2020-03-09 02:01:59,312 Parameters: domain_dimensions         = [256 640   1]\n",
      "yt : [INFO     ] 2020-03-09 02:01:59,313 Parameters: domain_left_edge          = [-1.5450e+19 -3.8625e+19 -5.0000e-01]\n",
      "yt : [INFO     ] 2020-03-09 02:01:59,314 Parameters: domain_right_edge         = [1.5450e+19 3.8625e+19 5.0000e-01]\n",
      "yt : [INFO     ] 2020-03-09 02:01:59,315 Parameters: cosmological_simulation   = 0.0\n"
     ]
    },
    {
     "name": "stdout",
     "output_type": "stream",
     "text": [
      "mixing_layer.out1.00680\n"
     ]
    },
    {
     "name": "stderr",
     "output_type": "stream",
     "text": [
      "yt : [WARNING  ] 2020-03-09 02:01:59,351 Assuming 1.0 = 1.0 cm\n",
      "yt : [WARNING  ] 2020-03-09 02:01:59,353 Assuming 1.0 = 1.0 s\n",
      "yt : [WARNING  ] 2020-03-09 02:01:59,354 Assuming 1.0 = 1.0 g\n",
      "yt : [WARNING  ] 2020-03-09 02:01:59,355 Assuming 1.0 = 1.0 K\n",
      "yt : [INFO     ] 2020-03-09 02:01:59,368 Parameters: current_time              = 1283005831442359.5\n",
      "yt : [INFO     ] 2020-03-09 02:01:59,368 Parameters: domain_dimensions         = [256 640   1]\n",
      "yt : [INFO     ] 2020-03-09 02:01:59,369 Parameters: domain_left_edge          = [-1.5450e+19 -3.8625e+19 -5.0000e-01]\n",
      "yt : [INFO     ] 2020-03-09 02:01:59,370 Parameters: domain_right_edge         = [1.5450e+19 3.8625e+19 5.0000e-01]\n",
      "yt : [INFO     ] 2020-03-09 02:01:59,371 Parameters: cosmological_simulation   = 0.0\n"
     ]
    },
    {
     "name": "stdout",
     "output_type": "stream",
     "text": [
      "mixing_layer.out1.00681\n"
     ]
    },
    {
     "name": "stderr",
     "output_type": "stream",
     "text": [
      "yt : [WARNING  ] 2020-03-09 02:01:59,403 Assuming 1.0 = 1.0 cm\n",
      "yt : [WARNING  ] 2020-03-09 02:01:59,404 Assuming 1.0 = 1.0 s\n",
      "yt : [WARNING  ] 2020-03-09 02:01:59,405 Assuming 1.0 = 1.0 g\n",
      "yt : [WARNING  ] 2020-03-09 02:01:59,406 Assuming 1.0 = 1.0 K\n",
      "yt : [INFO     ] 2020-03-09 02:01:59,417 Parameters: current_time              = 1284890830773929.8\n",
      "yt : [INFO     ] 2020-03-09 02:01:59,418 Parameters: domain_dimensions         = [256 640   1]\n",
      "yt : [INFO     ] 2020-03-09 02:01:59,419 Parameters: domain_left_edge          = [-1.5450e+19 -3.8625e+19 -5.0000e-01]\n",
      "yt : [INFO     ] 2020-03-09 02:01:59,420 Parameters: domain_right_edge         = [1.5450e+19 3.8625e+19 5.0000e-01]\n",
      "yt : [INFO     ] 2020-03-09 02:01:59,421 Parameters: cosmological_simulation   = 0.0\n"
     ]
    },
    {
     "name": "stdout",
     "output_type": "stream",
     "text": [
      "mixing_layer.out1.00682\n"
     ]
    },
    {
     "name": "stderr",
     "output_type": "stream",
     "text": [
      "yt : [WARNING  ] 2020-03-09 02:01:59,454 Assuming 1.0 = 1.0 cm\n",
      "yt : [WARNING  ] 2020-03-09 02:01:59,456 Assuming 1.0 = 1.0 s\n",
      "yt : [WARNING  ] 2020-03-09 02:01:59,457 Assuming 1.0 = 1.0 g\n",
      "yt : [WARNING  ] 2020-03-09 02:01:59,458 Assuming 1.0 = 1.0 K\n",
      "yt : [INFO     ] 2020-03-09 02:01:59,470 Parameters: current_time              = 1286773379744725.0\n",
      "yt : [INFO     ] 2020-03-09 02:01:59,471 Parameters: domain_dimensions         = [256 640   1]\n",
      "yt : [INFO     ] 2020-03-09 02:01:59,472 Parameters: domain_left_edge          = [-1.5450e+19 -3.8625e+19 -5.0000e-01]\n",
      "yt : [INFO     ] 2020-03-09 02:01:59,473 Parameters: domain_right_edge         = [1.5450e+19 3.8625e+19 5.0000e-01]\n",
      "yt : [INFO     ] 2020-03-09 02:01:59,474 Parameters: cosmological_simulation   = 0.0\n"
     ]
    },
    {
     "name": "stdout",
     "output_type": "stream",
     "text": [
      "mixing_layer.out1.00683\n"
     ]
    },
    {
     "name": "stderr",
     "output_type": "stream",
     "text": [
      "yt : [WARNING  ] 2020-03-09 02:01:59,513 Assuming 1.0 = 1.0 cm\n",
      "yt : [WARNING  ] 2020-03-09 02:01:59,514 Assuming 1.0 = 1.0 s\n",
      "yt : [WARNING  ] 2020-03-09 02:01:59,515 Assuming 1.0 = 1.0 g\n",
      "yt : [WARNING  ] 2020-03-09 02:01:59,516 Assuming 1.0 = 1.0 K\n",
      "yt : [INFO     ] 2020-03-09 02:01:59,527 Parameters: current_time              = 1288656405376507.2\n",
      "yt : [INFO     ] 2020-03-09 02:01:59,528 Parameters: domain_dimensions         = [256 640   1]\n",
      "yt : [INFO     ] 2020-03-09 02:01:59,529 Parameters: domain_left_edge          = [-1.5450e+19 -3.8625e+19 -5.0000e-01]\n",
      "yt : [INFO     ] 2020-03-09 02:01:59,529 Parameters: domain_right_edge         = [1.5450e+19 3.8625e+19 5.0000e-01]\n",
      "yt : [INFO     ] 2020-03-09 02:01:59,530 Parameters: cosmological_simulation   = 0.0\n"
     ]
    },
    {
     "name": "stdout",
     "output_type": "stream",
     "text": [
      "mixing_layer.out1.00684\n"
     ]
    },
    {
     "name": "stderr",
     "output_type": "stream",
     "text": [
      "yt : [WARNING  ] 2020-03-09 02:01:59,564 Assuming 1.0 = 1.0 cm\n",
      "yt : [WARNING  ] 2020-03-09 02:01:59,565 Assuming 1.0 = 1.0 s\n",
      "yt : [WARNING  ] 2020-03-09 02:01:59,566 Assuming 1.0 = 1.0 g\n",
      "yt : [WARNING  ] 2020-03-09 02:01:59,567 Assuming 1.0 = 1.0 K\n",
      "yt : [INFO     ] 2020-03-09 02:01:59,579 Parameters: current_time              = 1290541144857185.5\n",
      "yt : [INFO     ] 2020-03-09 02:01:59,579 Parameters: domain_dimensions         = [256 640   1]\n",
      "yt : [INFO     ] 2020-03-09 02:01:59,580 Parameters: domain_left_edge          = [-1.5450e+19 -3.8625e+19 -5.0000e-01]\n",
      "yt : [INFO     ] 2020-03-09 02:01:59,581 Parameters: domain_right_edge         = [1.5450e+19 3.8625e+19 5.0000e-01]\n",
      "yt : [INFO     ] 2020-03-09 02:01:59,582 Parameters: cosmological_simulation   = 0.0\n"
     ]
    },
    {
     "name": "stdout",
     "output_type": "stream",
     "text": [
      "mixing_layer.out1.00685\n"
     ]
    },
    {
     "name": "stderr",
     "output_type": "stream",
     "text": [
      "yt : [WARNING  ] 2020-03-09 02:01:59,616 Assuming 1.0 = 1.0 cm\n",
      "yt : [WARNING  ] 2020-03-09 02:01:59,618 Assuming 1.0 = 1.0 s\n",
      "yt : [WARNING  ] 2020-03-09 02:01:59,618 Assuming 1.0 = 1.0 g\n",
      "yt : [WARNING  ] 2020-03-09 02:01:59,619 Assuming 1.0 = 1.0 K\n",
      "yt : [INFO     ] 2020-03-09 02:01:59,629 Parameters: current_time              = 1292424559603401.8\n",
      "yt : [INFO     ] 2020-03-09 02:01:59,630 Parameters: domain_dimensions         = [256 640   1]\n",
      "yt : [INFO     ] 2020-03-09 02:01:59,631 Parameters: domain_left_edge          = [-1.5450e+19 -3.8625e+19 -5.0000e-01]\n",
      "yt : [INFO     ] 2020-03-09 02:01:59,632 Parameters: domain_right_edge         = [1.5450e+19 3.8625e+19 5.0000e-01]\n",
      "yt : [INFO     ] 2020-03-09 02:01:59,633 Parameters: cosmological_simulation   = 0.0\n"
     ]
    },
    {
     "name": "stdout",
     "output_type": "stream",
     "text": [
      "mixing_layer.out1.00686\n"
     ]
    },
    {
     "name": "stderr",
     "output_type": "stream",
     "text": [
      "yt : [WARNING  ] 2020-03-09 02:01:59,665 Assuming 1.0 = 1.0 cm\n",
      "yt : [WARNING  ] 2020-03-09 02:01:59,666 Assuming 1.0 = 1.0 s\n",
      "yt : [WARNING  ] 2020-03-09 02:01:59,667 Assuming 1.0 = 1.0 g\n",
      "yt : [WARNING  ] 2020-03-09 02:01:59,668 Assuming 1.0 = 1.0 K\n",
      "yt : [INFO     ] 2020-03-09 02:01:59,679 Parameters: current_time              = 1294308823188991.8\n",
      "yt : [INFO     ] 2020-03-09 02:01:59,680 Parameters: domain_dimensions         = [256 640   1]\n",
      "yt : [INFO     ] 2020-03-09 02:01:59,681 Parameters: domain_left_edge          = [-1.5450e+19 -3.8625e+19 -5.0000e-01]\n",
      "yt : [INFO     ] 2020-03-09 02:01:59,682 Parameters: domain_right_edge         = [1.5450e+19 3.8625e+19 5.0000e-01]\n",
      "yt : [INFO     ] 2020-03-09 02:01:59,683 Parameters: cosmological_simulation   = 0.0\n"
     ]
    },
    {
     "name": "stdout",
     "output_type": "stream",
     "text": [
      "mixing_layer.out1.00687\n"
     ]
    },
    {
     "name": "stderr",
     "output_type": "stream",
     "text": [
      "yt : [WARNING  ] 2020-03-09 02:01:59,714 Assuming 1.0 = 1.0 cm\n",
      "yt : [WARNING  ] 2020-03-09 02:01:59,715 Assuming 1.0 = 1.0 s\n",
      "yt : [WARNING  ] 2020-03-09 02:01:59,716 Assuming 1.0 = 1.0 g\n",
      "yt : [WARNING  ] 2020-03-09 02:01:59,717 Assuming 1.0 = 1.0 K\n",
      "yt : [INFO     ] 2020-03-09 02:01:59,730 Parameters: current_time              = 1296194141239509.8\n",
      "yt : [INFO     ] 2020-03-09 02:01:59,731 Parameters: domain_dimensions         = [256 640   1]\n",
      "yt : [INFO     ] 2020-03-09 02:01:59,732 Parameters: domain_left_edge          = [-1.5450e+19 -3.8625e+19 -5.0000e-01]\n",
      "yt : [INFO     ] 2020-03-09 02:01:59,732 Parameters: domain_right_edge         = [1.5450e+19 3.8625e+19 5.0000e-01]\n",
      "yt : [INFO     ] 2020-03-09 02:01:59,733 Parameters: cosmological_simulation   = 0.0\n"
     ]
    },
    {
     "name": "stdout",
     "output_type": "stream",
     "text": [
      "mixing_layer.out1.00688\n"
     ]
    },
    {
     "name": "stderr",
     "output_type": "stream",
     "text": [
      "yt : [WARNING  ] 2020-03-09 02:01:59,764 Assuming 1.0 = 1.0 cm\n",
      "yt : [WARNING  ] 2020-03-09 02:01:59,765 Assuming 1.0 = 1.0 s\n",
      "yt : [WARNING  ] 2020-03-09 02:01:59,766 Assuming 1.0 = 1.0 g\n",
      "yt : [WARNING  ] 2020-03-09 02:01:59,767 Assuming 1.0 = 1.0 K\n",
      "yt : [INFO     ] 2020-03-09 02:01:59,778 Parameters: current_time              = 1298078506542525.0\n",
      "yt : [INFO     ] 2020-03-09 02:01:59,779 Parameters: domain_dimensions         = [256 640   1]\n",
      "yt : [INFO     ] 2020-03-09 02:01:59,780 Parameters: domain_left_edge          = [-1.5450e+19 -3.8625e+19 -5.0000e-01]\n",
      "yt : [INFO     ] 2020-03-09 02:01:59,781 Parameters: domain_right_edge         = [1.5450e+19 3.8625e+19 5.0000e-01]\n",
      "yt : [INFO     ] 2020-03-09 02:01:59,782 Parameters: cosmological_simulation   = 0.0\n"
     ]
    },
    {
     "name": "stdout",
     "output_type": "stream",
     "text": [
      "mixing_layer.out1.00689\n"
     ]
    },
    {
     "name": "stderr",
     "output_type": "stream",
     "text": [
      "yt : [WARNING  ] 2020-03-09 02:01:59,814 Assuming 1.0 = 1.0 cm\n",
      "yt : [WARNING  ] 2020-03-09 02:01:59,815 Assuming 1.0 = 1.0 s\n",
      "yt : [WARNING  ] 2020-03-09 02:01:59,816 Assuming 1.0 = 1.0 g\n",
      "yt : [WARNING  ] 2020-03-09 02:01:59,817 Assuming 1.0 = 1.0 K\n",
      "yt : [INFO     ] 2020-03-09 02:01:59,828 Parameters: current_time              = 1299962196499567.0\n",
      "yt : [INFO     ] 2020-03-09 02:01:59,829 Parameters: domain_dimensions         = [256 640   1]\n",
      "yt : [INFO     ] 2020-03-09 02:01:59,830 Parameters: domain_left_edge          = [-1.5450e+19 -3.8625e+19 -5.0000e-01]\n",
      "yt : [INFO     ] 2020-03-09 02:01:59,830 Parameters: domain_right_edge         = [1.5450e+19 3.8625e+19 5.0000e-01]\n",
      "yt : [INFO     ] 2020-03-09 02:01:59,831 Parameters: cosmological_simulation   = 0.0\n"
     ]
    },
    {
     "name": "stdout",
     "output_type": "stream",
     "text": [
      "mixing_layer.out1.00690\n"
     ]
    },
    {
     "name": "stderr",
     "output_type": "stream",
     "text": [
      "yt : [WARNING  ] 2020-03-09 02:01:59,864 Assuming 1.0 = 1.0 cm\n",
      "yt : [WARNING  ] 2020-03-09 02:01:59,866 Assuming 1.0 = 1.0 s\n",
      "yt : [WARNING  ] 2020-03-09 02:01:59,867 Assuming 1.0 = 1.0 g\n",
      "yt : [WARNING  ] 2020-03-09 02:01:59,868 Assuming 1.0 = 1.0 K\n",
      "yt : [INFO     ] 2020-03-09 02:01:59,879 Parameters: current_time              = 1301846082817628.8\n",
      "yt : [INFO     ] 2020-03-09 02:01:59,880 Parameters: domain_dimensions         = [256 640   1]\n",
      "yt : [INFO     ] 2020-03-09 02:01:59,881 Parameters: domain_left_edge          = [-1.5450e+19 -3.8625e+19 -5.0000e-01]\n",
      "yt : [INFO     ] 2020-03-09 02:01:59,882 Parameters: domain_right_edge         = [1.5450e+19 3.8625e+19 5.0000e-01]\n",
      "yt : [INFO     ] 2020-03-09 02:01:59,883 Parameters: cosmological_simulation   = 0.0\n"
     ]
    },
    {
     "name": "stdout",
     "output_type": "stream",
     "text": [
      "mixing_layer.out1.00691\n"
     ]
    },
    {
     "name": "stderr",
     "output_type": "stream",
     "text": [
      "yt : [WARNING  ] 2020-03-09 02:01:59,914 Assuming 1.0 = 1.0 cm\n",
      "yt : [WARNING  ] 2020-03-09 02:01:59,915 Assuming 1.0 = 1.0 s\n",
      "yt : [WARNING  ] 2020-03-09 02:01:59,916 Assuming 1.0 = 1.0 g\n",
      "yt : [WARNING  ] 2020-03-09 02:01:59,917 Assuming 1.0 = 1.0 K\n",
      "yt : [INFO     ] 2020-03-09 02:01:59,929 Parameters: current_time              = 1303729962293308.5\n",
      "yt : [INFO     ] 2020-03-09 02:01:59,930 Parameters: domain_dimensions         = [256 640   1]\n",
      "yt : [INFO     ] 2020-03-09 02:01:59,930 Parameters: domain_left_edge          = [-1.5450e+19 -3.8625e+19 -5.0000e-01]\n",
      "yt : [INFO     ] 2020-03-09 02:01:59,931 Parameters: domain_right_edge         = [1.5450e+19 3.8625e+19 5.0000e-01]\n",
      "yt : [INFO     ] 2020-03-09 02:01:59,932 Parameters: cosmological_simulation   = 0.0\n"
     ]
    },
    {
     "name": "stdout",
     "output_type": "stream",
     "text": [
      "mixing_layer.out1.00692\n"
     ]
    },
    {
     "name": "stderr",
     "output_type": "stream",
     "text": [
      "yt : [WARNING  ] 2020-03-09 02:01:59,966 Assuming 1.0 = 1.0 cm\n",
      "yt : [WARNING  ] 2020-03-09 02:01:59,967 Assuming 1.0 = 1.0 s\n",
      "yt : [WARNING  ] 2020-03-09 02:01:59,968 Assuming 1.0 = 1.0 g\n",
      "yt : [WARNING  ] 2020-03-09 02:01:59,969 Assuming 1.0 = 1.0 K\n",
      "yt : [INFO     ] 2020-03-09 02:01:59,980 Parameters: current_time              = 1305613057388647.5\n",
      "yt : [INFO     ] 2020-03-09 02:01:59,981 Parameters: domain_dimensions         = [256 640   1]\n",
      "yt : [INFO     ] 2020-03-09 02:01:59,981 Parameters: domain_left_edge          = [-1.5450e+19 -3.8625e+19 -5.0000e-01]\n",
      "yt : [INFO     ] 2020-03-09 02:01:59,982 Parameters: domain_right_edge         = [1.5450e+19 3.8625e+19 5.0000e-01]\n",
      "yt : [INFO     ] 2020-03-09 02:01:59,983 Parameters: cosmological_simulation   = 0.0\n"
     ]
    },
    {
     "name": "stdout",
     "output_type": "stream",
     "text": [
      "mixing_layer.out1.00693\n"
     ]
    },
    {
     "name": "stderr",
     "output_type": "stream",
     "text": [
      "yt : [WARNING  ] 2020-03-09 02:02:00,019 Assuming 1.0 = 1.0 cm\n",
      "yt : [WARNING  ] 2020-03-09 02:02:00,020 Assuming 1.0 = 1.0 s\n",
      "yt : [WARNING  ] 2020-03-09 02:02:00,021 Assuming 1.0 = 1.0 g\n",
      "yt : [WARNING  ] 2020-03-09 02:02:00,021 Assuming 1.0 = 1.0 K\n",
      "yt : [INFO     ] 2020-03-09 02:02:00,033 Parameters: current_time              = 1307497407642310.2\n",
      "yt : [INFO     ] 2020-03-09 02:02:00,033 Parameters: domain_dimensions         = [256 640   1]\n",
      "yt : [INFO     ] 2020-03-09 02:02:00,034 Parameters: domain_left_edge          = [-1.5450e+19 -3.8625e+19 -5.0000e-01]\n",
      "yt : [INFO     ] 2020-03-09 02:02:00,035 Parameters: domain_right_edge         = [1.5450e+19 3.8625e+19 5.0000e-01]\n",
      "yt : [INFO     ] 2020-03-09 02:02:00,036 Parameters: cosmological_simulation   = 0.0\n"
     ]
    },
    {
     "name": "stdout",
     "output_type": "stream",
     "text": [
      "mixing_layer.out1.00694\n"
     ]
    },
    {
     "name": "stderr",
     "output_type": "stream",
     "text": [
      "yt : [WARNING  ] 2020-03-09 02:02:00,069 Assuming 1.0 = 1.0 cm\n",
      "yt : [WARNING  ] 2020-03-09 02:02:00,071 Assuming 1.0 = 1.0 s\n",
      "yt : [WARNING  ] 2020-03-09 02:02:00,071 Assuming 1.0 = 1.0 g\n",
      "yt : [WARNING  ] 2020-03-09 02:02:00,072 Assuming 1.0 = 1.0 K\n",
      "yt : [INFO     ] 2020-03-09 02:02:00,084 Parameters: current_time              = 1309382548095875.2\n",
      "yt : [INFO     ] 2020-03-09 02:02:00,085 Parameters: domain_dimensions         = [256 640   1]\n",
      "yt : [INFO     ] 2020-03-09 02:02:00,086 Parameters: domain_left_edge          = [-1.5450e+19 -3.8625e+19 -5.0000e-01]\n",
      "yt : [INFO     ] 2020-03-09 02:02:00,086 Parameters: domain_right_edge         = [1.5450e+19 3.8625e+19 5.0000e-01]\n",
      "yt : [INFO     ] 2020-03-09 02:02:00,087 Parameters: cosmological_simulation   = 0.0\n"
     ]
    },
    {
     "name": "stdout",
     "output_type": "stream",
     "text": [
      "mixing_layer.out1.00695\n"
     ]
    },
    {
     "name": "stderr",
     "output_type": "stream",
     "text": [
      "yt : [WARNING  ] 2020-03-09 02:02:00,120 Assuming 1.0 = 1.0 cm\n",
      "yt : [WARNING  ] 2020-03-09 02:02:00,121 Assuming 1.0 = 1.0 s\n",
      "yt : [WARNING  ] 2020-03-09 02:02:00,122 Assuming 1.0 = 1.0 g\n",
      "yt : [WARNING  ] 2020-03-09 02:02:00,123 Assuming 1.0 = 1.0 K\n",
      "yt : [INFO     ] 2020-03-09 02:02:00,135 Parameters: current_time              = 1311264035054989.0\n",
      "yt : [INFO     ] 2020-03-09 02:02:00,135 Parameters: domain_dimensions         = [256 640   1]\n",
      "yt : [INFO     ] 2020-03-09 02:02:00,136 Parameters: domain_left_edge          = [-1.5450e+19 -3.8625e+19 -5.0000e-01]\n",
      "yt : [INFO     ] 2020-03-09 02:02:00,137 Parameters: domain_right_edge         = [1.5450e+19 3.8625e+19 5.0000e-01]\n",
      "yt : [INFO     ] 2020-03-09 02:02:00,138 Parameters: cosmological_simulation   = 0.0\n"
     ]
    },
    {
     "name": "stdout",
     "output_type": "stream",
     "text": [
      "mixing_layer.out1.00696\n"
     ]
    },
    {
     "name": "stderr",
     "output_type": "stream",
     "text": [
      "yt : [WARNING  ] 2020-03-09 02:02:00,172 Assuming 1.0 = 1.0 cm\n",
      "yt : [WARNING  ] 2020-03-09 02:02:00,173 Assuming 1.0 = 1.0 s\n",
      "yt : [WARNING  ] 2020-03-09 02:02:00,174 Assuming 1.0 = 1.0 g\n",
      "yt : [WARNING  ] 2020-03-09 02:02:00,175 Assuming 1.0 = 1.0 K\n",
      "yt : [INFO     ] 2020-03-09 02:02:00,187 Parameters: current_time              = 1313148127210646.0\n",
      "yt : [INFO     ] 2020-03-09 02:02:00,189 Parameters: domain_dimensions         = [256 640   1]\n",
      "yt : [INFO     ] 2020-03-09 02:02:00,190 Parameters: domain_left_edge          = [-1.5450e+19 -3.8625e+19 -5.0000e-01]\n",
      "yt : [INFO     ] 2020-03-09 02:02:00,191 Parameters: domain_right_edge         = [1.5450e+19 3.8625e+19 5.0000e-01]\n",
      "yt : [INFO     ] 2020-03-09 02:02:00,192 Parameters: cosmological_simulation   = 0.0\n"
     ]
    },
    {
     "name": "stdout",
     "output_type": "stream",
     "text": [
      "mixing_layer.out1.00697\n"
     ]
    },
    {
     "name": "stderr",
     "output_type": "stream",
     "text": [
      "yt : [WARNING  ] 2020-03-09 02:02:00,226 Assuming 1.0 = 1.0 cm\n",
      "yt : [WARNING  ] 2020-03-09 02:02:00,228 Assuming 1.0 = 1.0 s\n",
      "yt : [WARNING  ] 2020-03-09 02:02:00,229 Assuming 1.0 = 1.0 g\n",
      "yt : [WARNING  ] 2020-03-09 02:02:00,230 Assuming 1.0 = 1.0 K\n",
      "yt : [INFO     ] 2020-03-09 02:02:00,246 Parameters: current_time              = 1315032568211088.2\n",
      "yt : [INFO     ] 2020-03-09 02:02:00,247 Parameters: domain_dimensions         = [256 640   1]\n",
      "yt : [INFO     ] 2020-03-09 02:02:00,248 Parameters: domain_left_edge          = [-1.5450e+19 -3.8625e+19 -5.0000e-01]\n",
      "yt : [INFO     ] 2020-03-09 02:02:00,249 Parameters: domain_right_edge         = [1.5450e+19 3.8625e+19 5.0000e-01]\n",
      "yt : [INFO     ] 2020-03-09 02:02:00,250 Parameters: cosmological_simulation   = 0.0\n"
     ]
    },
    {
     "name": "stdout",
     "output_type": "stream",
     "text": [
      "mixing_layer.out1.00698\n"
     ]
    },
    {
     "name": "stderr",
     "output_type": "stream",
     "text": [
      "yt : [WARNING  ] 2020-03-09 02:02:00,286 Assuming 1.0 = 1.0 cm\n",
      "yt : [WARNING  ] 2020-03-09 02:02:00,287 Assuming 1.0 = 1.0 s\n",
      "yt : [WARNING  ] 2020-03-09 02:02:00,289 Assuming 1.0 = 1.0 g\n",
      "yt : [WARNING  ] 2020-03-09 02:02:00,290 Assuming 1.0 = 1.0 K\n",
      "yt : [INFO     ] 2020-03-09 02:02:00,303 Parameters: current_time              = 1316916937272741.5\n",
      "yt : [INFO     ] 2020-03-09 02:02:00,303 Parameters: domain_dimensions         = [256 640   1]\n",
      "yt : [INFO     ] 2020-03-09 02:02:00,304 Parameters: domain_left_edge          = [-1.5450e+19 -3.8625e+19 -5.0000e-01]\n",
      "yt : [INFO     ] 2020-03-09 02:02:00,306 Parameters: domain_right_edge         = [1.5450e+19 3.8625e+19 5.0000e-01]\n",
      "yt : [INFO     ] 2020-03-09 02:02:00,307 Parameters: cosmological_simulation   = 0.0\n"
     ]
    },
    {
     "name": "stdout",
     "output_type": "stream",
     "text": [
      "mixing_layer.out1.00699\n"
     ]
    },
    {
     "name": "stderr",
     "output_type": "stream",
     "text": [
      "yt : [WARNING  ] 2020-03-09 02:02:00,344 Assuming 1.0 = 1.0 cm\n",
      "yt : [WARNING  ] 2020-03-09 02:02:00,345 Assuming 1.0 = 1.0 s\n",
      "yt : [WARNING  ] 2020-03-09 02:02:00,347 Assuming 1.0 = 1.0 g\n",
      "yt : [WARNING  ] 2020-03-09 02:02:00,348 Assuming 1.0 = 1.0 K\n",
      "yt : [INFO     ] 2020-03-09 02:02:00,364 Parameters: current_time              = 1318801234989529.5\n",
      "yt : [INFO     ] 2020-03-09 02:02:00,365 Parameters: domain_dimensions         = [256 640   1]\n",
      "yt : [INFO     ] 2020-03-09 02:02:00,366 Parameters: domain_left_edge          = [-1.5450e+19 -3.8625e+19 -5.0000e-01]\n",
      "yt : [INFO     ] 2020-03-09 02:02:00,367 Parameters: domain_right_edge         = [1.5450e+19 3.8625e+19 5.0000e-01]\n",
      "yt : [INFO     ] 2020-03-09 02:02:00,368 Parameters: cosmological_simulation   = 0.0\n"
     ]
    },
    {
     "name": "stdout",
     "output_type": "stream",
     "text": [
      "mixing_layer.out1.00700\n"
     ]
    },
    {
     "name": "stderr",
     "output_type": "stream",
     "text": [
      "yt : [WARNING  ] 2020-03-09 02:02:00,403 Assuming 1.0 = 1.0 cm\n",
      "yt : [WARNING  ] 2020-03-09 02:02:00,405 Assuming 1.0 = 1.0 s\n",
      "yt : [WARNING  ] 2020-03-09 02:02:00,406 Assuming 1.0 = 1.0 g\n",
      "yt : [WARNING  ] 2020-03-09 02:02:00,408 Assuming 1.0 = 1.0 K\n",
      "yt : [INFO     ] 2020-03-09 02:02:00,420 Parameters: current_time              = 1320684077592894.0\n",
      "yt : [INFO     ] 2020-03-09 02:02:00,421 Parameters: domain_dimensions         = [256 640   1]\n",
      "yt : [INFO     ] 2020-03-09 02:02:00,422 Parameters: domain_left_edge          = [-1.5450e+19 -3.8625e+19 -5.0000e-01]\n",
      "yt : [INFO     ] 2020-03-09 02:02:00,423 Parameters: domain_right_edge         = [1.5450e+19 3.8625e+19 5.0000e-01]\n",
      "yt : [INFO     ] 2020-03-09 02:02:00,423 Parameters: cosmological_simulation   = 0.0\n"
     ]
    },
    {
     "name": "stdout",
     "output_type": "stream",
     "text": [
      "mixing_layer.out1.00701\n"
     ]
    },
    {
     "name": "stderr",
     "output_type": "stream",
     "text": [
      "yt : [WARNING  ] 2020-03-09 02:02:00,466 Assuming 1.0 = 1.0 cm\n",
      "yt : [WARNING  ] 2020-03-09 02:02:00,467 Assuming 1.0 = 1.0 s\n",
      "yt : [WARNING  ] 2020-03-09 02:02:00,468 Assuming 1.0 = 1.0 g\n",
      "yt : [WARNING  ] 2020-03-09 02:02:00,469 Assuming 1.0 = 1.0 K\n",
      "yt : [INFO     ] 2020-03-09 02:02:00,483 Parameters: current_time              = 1322570742397722.0\n",
      "yt : [INFO     ] 2020-03-09 02:02:00,484 Parameters: domain_dimensions         = [256 640   1]\n",
      "yt : [INFO     ] 2020-03-09 02:02:00,485 Parameters: domain_left_edge          = [-1.5450e+19 -3.8625e+19 -5.0000e-01]\n",
      "yt : [INFO     ] 2020-03-09 02:02:00,486 Parameters: domain_right_edge         = [1.5450e+19 3.8625e+19 5.0000e-01]\n",
      "yt : [INFO     ] 2020-03-09 02:02:00,487 Parameters: cosmological_simulation   = 0.0\n"
     ]
    },
    {
     "name": "stdout",
     "output_type": "stream",
     "text": [
      "mixing_layer.out1.00702\n"
     ]
    },
    {
     "name": "stderr",
     "output_type": "stream",
     "text": [
      "yt : [WARNING  ] 2020-03-09 02:02:00,520 Assuming 1.0 = 1.0 cm\n",
      "yt : [WARNING  ] 2020-03-09 02:02:00,521 Assuming 1.0 = 1.0 s\n",
      "yt : [WARNING  ] 2020-03-09 02:02:00,522 Assuming 1.0 = 1.0 g\n",
      "yt : [WARNING  ] 2020-03-09 02:02:00,523 Assuming 1.0 = 1.0 K\n",
      "yt : [INFO     ] 2020-03-09 02:02:00,538 Parameters: current_time              = 1324452772102941.8\n",
      "yt : [INFO     ] 2020-03-09 02:02:00,539 Parameters: domain_dimensions         = [256 640   1]\n",
      "yt : [INFO     ] 2020-03-09 02:02:00,539 Parameters: domain_left_edge          = [-1.5450e+19 -3.8625e+19 -5.0000e-01]\n",
      "yt : [INFO     ] 2020-03-09 02:02:00,540 Parameters: domain_right_edge         = [1.5450e+19 3.8625e+19 5.0000e-01]\n",
      "yt : [INFO     ] 2020-03-09 02:02:00,541 Parameters: cosmological_simulation   = 0.0\n"
     ]
    },
    {
     "name": "stdout",
     "output_type": "stream",
     "text": [
      "mixing_layer.out1.00703\n"
     ]
    },
    {
     "name": "stderr",
     "output_type": "stream",
     "text": [
      "yt : [WARNING  ] 2020-03-09 02:02:00,579 Assuming 1.0 = 1.0 cm\n",
      "yt : [WARNING  ] 2020-03-09 02:02:00,580 Assuming 1.0 = 1.0 s\n",
      "yt : [WARNING  ] 2020-03-09 02:02:00,581 Assuming 1.0 = 1.0 g\n",
      "yt : [WARNING  ] 2020-03-09 02:02:00,582 Assuming 1.0 = 1.0 K\n",
      "yt : [INFO     ] 2020-03-09 02:02:00,597 Parameters: current_time              = 1326337586375021.2\n",
      "yt : [INFO     ] 2020-03-09 02:02:00,598 Parameters: domain_dimensions         = [256 640   1]\n",
      "yt : [INFO     ] 2020-03-09 02:02:00,598 Parameters: domain_left_edge          = [-1.5450e+19 -3.8625e+19 -5.0000e-01]\n",
      "yt : [INFO     ] 2020-03-09 02:02:00,599 Parameters: domain_right_edge         = [1.5450e+19 3.8625e+19 5.0000e-01]\n",
      "yt : [INFO     ] 2020-03-09 02:02:00,600 Parameters: cosmological_simulation   = 0.0\n"
     ]
    },
    {
     "name": "stdout",
     "output_type": "stream",
     "text": [
      "mixing_layer.out1.00704\n"
     ]
    },
    {
     "name": "stderr",
     "output_type": "stream",
     "text": [
      "yt : [WARNING  ] 2020-03-09 02:02:00,635 Assuming 1.0 = 1.0 cm\n",
      "yt : [WARNING  ] 2020-03-09 02:02:00,636 Assuming 1.0 = 1.0 s\n",
      "yt : [WARNING  ] 2020-03-09 02:02:00,637 Assuming 1.0 = 1.0 g\n",
      "yt : [WARNING  ] 2020-03-09 02:02:00,638 Assuming 1.0 = 1.0 K\n",
      "yt : [INFO     ] 2020-03-09 02:02:00,650 Parameters: current_time              = 1328220825735600.2\n",
      "yt : [INFO     ] 2020-03-09 02:02:00,650 Parameters: domain_dimensions         = [256 640   1]\n",
      "yt : [INFO     ] 2020-03-09 02:02:00,651 Parameters: domain_left_edge          = [-1.5450e+19 -3.8625e+19 -5.0000e-01]\n",
      "yt : [INFO     ] 2020-03-09 02:02:00,652 Parameters: domain_right_edge         = [1.5450e+19 3.8625e+19 5.0000e-01]\n",
      "yt : [INFO     ] 2020-03-09 02:02:00,653 Parameters: cosmological_simulation   = 0.0\n"
     ]
    },
    {
     "name": "stdout",
     "output_type": "stream",
     "text": [
      "mixing_layer.out1.00705\n"
     ]
    },
    {
     "name": "stderr",
     "output_type": "stream",
     "text": [
      "yt : [WARNING  ] 2020-03-09 02:02:00,687 Assuming 1.0 = 1.0 cm\n",
      "yt : [WARNING  ] 2020-03-09 02:02:00,688 Assuming 1.0 = 1.0 s\n",
      "yt : [WARNING  ] 2020-03-09 02:02:00,689 Assuming 1.0 = 1.0 g\n",
      "yt : [WARNING  ] 2020-03-09 02:02:00,689 Assuming 1.0 = 1.0 K\n",
      "yt : [INFO     ] 2020-03-09 02:02:00,701 Parameters: current_time              = 1330105850525857.8\n",
      "yt : [INFO     ] 2020-03-09 02:02:00,702 Parameters: domain_dimensions         = [256 640   1]\n",
      "yt : [INFO     ] 2020-03-09 02:02:00,703 Parameters: domain_left_edge          = [-1.5450e+19 -3.8625e+19 -5.0000e-01]\n",
      "yt : [INFO     ] 2020-03-09 02:02:00,704 Parameters: domain_right_edge         = [1.5450e+19 3.8625e+19 5.0000e-01]\n",
      "yt : [INFO     ] 2020-03-09 02:02:00,705 Parameters: cosmological_simulation   = 0.0\n"
     ]
    },
    {
     "name": "stdout",
     "output_type": "stream",
     "text": [
      "mixing_layer.out1.00706\n"
     ]
    },
    {
     "name": "stderr",
     "output_type": "stream",
     "text": [
      "yt : [WARNING  ] 2020-03-09 02:02:00,738 Assuming 1.0 = 1.0 cm\n",
      "yt : [WARNING  ] 2020-03-09 02:02:00,740 Assuming 1.0 = 1.0 s\n",
      "yt : [WARNING  ] 2020-03-09 02:02:00,741 Assuming 1.0 = 1.0 g\n",
      "yt : [WARNING  ] 2020-03-09 02:02:00,742 Assuming 1.0 = 1.0 K\n",
      "yt : [INFO     ] 2020-03-09 02:02:00,752 Parameters: current_time              = 1331989431995190.2\n",
      "yt : [INFO     ] 2020-03-09 02:02:00,753 Parameters: domain_dimensions         = [256 640   1]\n",
      "yt : [INFO     ] 2020-03-09 02:02:00,754 Parameters: domain_left_edge          = [-1.5450e+19 -3.8625e+19 -5.0000e-01]\n",
      "yt : [INFO     ] 2020-03-09 02:02:00,755 Parameters: domain_right_edge         = [1.5450e+19 3.8625e+19 5.0000e-01]\n",
      "yt : [INFO     ] 2020-03-09 02:02:00,755 Parameters: cosmological_simulation   = 0.0\n"
     ]
    },
    {
     "name": "stdout",
     "output_type": "stream",
     "text": [
      "mixing_layer.out1.00707\n"
     ]
    },
    {
     "name": "stderr",
     "output_type": "stream",
     "text": [
      "yt : [WARNING  ] 2020-03-09 02:02:00,789 Assuming 1.0 = 1.0 cm\n",
      "yt : [WARNING  ] 2020-03-09 02:02:00,791 Assuming 1.0 = 1.0 s\n",
      "yt : [WARNING  ] 2020-03-09 02:02:00,791 Assuming 1.0 = 1.0 g\n",
      "yt : [WARNING  ] 2020-03-09 02:02:00,793 Assuming 1.0 = 1.0 K\n",
      "yt : [INFO     ] 2020-03-09 02:02:00,805 Parameters: current_time              = 1333874476735845.2\n",
      "yt : [INFO     ] 2020-03-09 02:02:00,806 Parameters: domain_dimensions         = [256 640   1]\n",
      "yt : [INFO     ] 2020-03-09 02:02:00,807 Parameters: domain_left_edge          = [-1.5450e+19 -3.8625e+19 -5.0000e-01]\n",
      "yt : [INFO     ] 2020-03-09 02:02:00,808 Parameters: domain_right_edge         = [1.5450e+19 3.8625e+19 5.0000e-01]\n",
      "yt : [INFO     ] 2020-03-09 02:02:00,809 Parameters: cosmological_simulation   = 0.0\n"
     ]
    },
    {
     "name": "stdout",
     "output_type": "stream",
     "text": [
      "mixing_layer.out1.00708\n"
     ]
    },
    {
     "name": "stderr",
     "output_type": "stream",
     "text": [
      "yt : [WARNING  ] 2020-03-09 02:02:00,841 Assuming 1.0 = 1.0 cm\n",
      "yt : [WARNING  ] 2020-03-09 02:02:00,842 Assuming 1.0 = 1.0 s\n",
      "yt : [WARNING  ] 2020-03-09 02:02:00,843 Assuming 1.0 = 1.0 g\n",
      "yt : [WARNING  ] 2020-03-09 02:02:00,844 Assuming 1.0 = 1.0 K\n",
      "yt : [INFO     ] 2020-03-09 02:02:00,858 Parameters: current_time              = 1335757772897957.8\n",
      "yt : [INFO     ] 2020-03-09 02:02:00,858 Parameters: domain_dimensions         = [256 640   1]\n",
      "yt : [INFO     ] 2020-03-09 02:02:00,859 Parameters: domain_left_edge          = [-1.5450e+19 -3.8625e+19 -5.0000e-01]\n",
      "yt : [INFO     ] 2020-03-09 02:02:00,861 Parameters: domain_right_edge         = [1.5450e+19 3.8625e+19 5.0000e-01]\n",
      "yt : [INFO     ] 2020-03-09 02:02:00,862 Parameters: cosmological_simulation   = 0.0\n"
     ]
    },
    {
     "name": "stdout",
     "output_type": "stream",
     "text": [
      "mixing_layer.out1.00709\n"
     ]
    },
    {
     "name": "stderr",
     "output_type": "stream",
     "text": [
      "yt : [WARNING  ] 2020-03-09 02:02:00,893 Assuming 1.0 = 1.0 cm\n",
      "yt : [WARNING  ] 2020-03-09 02:02:00,895 Assuming 1.0 = 1.0 s\n",
      "yt : [WARNING  ] 2020-03-09 02:02:00,895 Assuming 1.0 = 1.0 g\n",
      "yt : [WARNING  ] 2020-03-09 02:02:00,896 Assuming 1.0 = 1.0 K\n",
      "yt : [INFO     ] 2020-03-09 02:02:00,907 Parameters: current_time              = 1337642732312138.2\n",
      "yt : [INFO     ] 2020-03-09 02:02:00,908 Parameters: domain_dimensions         = [256 640   1]\n",
      "yt : [INFO     ] 2020-03-09 02:02:00,909 Parameters: domain_left_edge          = [-1.5450e+19 -3.8625e+19 -5.0000e-01]\n",
      "yt : [INFO     ] 2020-03-09 02:02:00,910 Parameters: domain_right_edge         = [1.5450e+19 3.8625e+19 5.0000e-01]\n",
      "yt : [INFO     ] 2020-03-09 02:02:00,911 Parameters: cosmological_simulation   = 0.0\n"
     ]
    },
    {
     "name": "stdout",
     "output_type": "stream",
     "text": [
      "mixing_layer.out1.00710\n"
     ]
    },
    {
     "name": "stderr",
     "output_type": "stream",
     "text": [
      "yt : [WARNING  ] 2020-03-09 02:02:00,944 Assuming 1.0 = 1.0 cm\n",
      "yt : [WARNING  ] 2020-03-09 02:02:00,945 Assuming 1.0 = 1.0 s\n",
      "yt : [WARNING  ] 2020-03-09 02:02:00,947 Assuming 1.0 = 1.0 g\n",
      "yt : [WARNING  ] 2020-03-09 02:02:00,948 Assuming 1.0 = 1.0 K\n",
      "yt : [INFO     ] 2020-03-09 02:02:00,962 Parameters: current_time              = 1339526121400833.2\n",
      "yt : [INFO     ] 2020-03-09 02:02:00,963 Parameters: domain_dimensions         = [256 640   1]\n",
      "yt : [INFO     ] 2020-03-09 02:02:00,964 Parameters: domain_left_edge          = [-1.5450e+19 -3.8625e+19 -5.0000e-01]\n",
      "yt : [INFO     ] 2020-03-09 02:02:00,965 Parameters: domain_right_edge         = [1.5450e+19 3.8625e+19 5.0000e-01]\n",
      "yt : [INFO     ] 2020-03-09 02:02:00,965 Parameters: cosmological_simulation   = 0.0\n"
     ]
    },
    {
     "name": "stdout",
     "output_type": "stream",
     "text": [
      "mixing_layer.out1.00711\n"
     ]
    },
    {
     "name": "stderr",
     "output_type": "stream",
     "text": [
      "yt : [WARNING  ] 2020-03-09 02:02:00,999 Assuming 1.0 = 1.0 cm\n",
      "yt : [WARNING  ] 2020-03-09 02:02:01,001 Assuming 1.0 = 1.0 s\n",
      "yt : [WARNING  ] 2020-03-09 02:02:01,001 Assuming 1.0 = 1.0 g\n",
      "yt : [WARNING  ] 2020-03-09 02:02:01,002 Assuming 1.0 = 1.0 K\n",
      "yt : [INFO     ] 2020-03-09 02:02:01,016 Parameters: current_time              = 1341410046620587.2\n",
      "yt : [INFO     ] 2020-03-09 02:02:01,017 Parameters: domain_dimensions         = [256 640   1]\n",
      "yt : [INFO     ] 2020-03-09 02:02:01,018 Parameters: domain_left_edge          = [-1.5450e+19 -3.8625e+19 -5.0000e-01]\n",
      "yt : [INFO     ] 2020-03-09 02:02:01,019 Parameters: domain_right_edge         = [1.5450e+19 3.8625e+19 5.0000e-01]\n",
      "yt : [INFO     ] 2020-03-09 02:02:01,020 Parameters: cosmological_simulation   = 0.0\n"
     ]
    },
    {
     "name": "stdout",
     "output_type": "stream",
     "text": [
      "mixing_layer.out1.00712\n"
     ]
    },
    {
     "name": "stderr",
     "output_type": "stream",
     "text": [
      "yt : [WARNING  ] 2020-03-09 02:02:01,053 Assuming 1.0 = 1.0 cm\n",
      "yt : [WARNING  ] 2020-03-09 02:02:01,054 Assuming 1.0 = 1.0 s\n",
      "yt : [WARNING  ] 2020-03-09 02:02:01,055 Assuming 1.0 = 1.0 g\n",
      "yt : [WARNING  ] 2020-03-09 02:02:01,056 Assuming 1.0 = 1.0 K\n",
      "yt : [INFO     ] 2020-03-09 02:02:01,067 Parameters: current_time              = 1343292160157985.0\n",
      "yt : [INFO     ] 2020-03-09 02:02:01,068 Parameters: domain_dimensions         = [256 640   1]\n",
      "yt : [INFO     ] 2020-03-09 02:02:01,069 Parameters: domain_left_edge          = [-1.5450e+19 -3.8625e+19 -5.0000e-01]\n",
      "yt : [INFO     ] 2020-03-09 02:02:01,070 Parameters: domain_right_edge         = [1.5450e+19 3.8625e+19 5.0000e-01]\n",
      "yt : [INFO     ] 2020-03-09 02:02:01,072 Parameters: cosmological_simulation   = 0.0\n"
     ]
    },
    {
     "name": "stdout",
     "output_type": "stream",
     "text": [
      "mixing_layer.out1.00713\n"
     ]
    },
    {
     "name": "stderr",
     "output_type": "stream",
     "text": [
      "yt : [WARNING  ] 2020-03-09 02:02:01,104 Assuming 1.0 = 1.0 cm\n",
      "yt : [WARNING  ] 2020-03-09 02:02:01,105 Assuming 1.0 = 1.0 s\n",
      "yt : [WARNING  ] 2020-03-09 02:02:01,106 Assuming 1.0 = 1.0 g\n",
      "yt : [WARNING  ] 2020-03-09 02:02:01,107 Assuming 1.0 = 1.0 K\n",
      "yt : [INFO     ] 2020-03-09 02:02:01,118 Parameters: current_time              = 1345178390324236.8\n",
      "yt : [INFO     ] 2020-03-09 02:02:01,120 Parameters: domain_dimensions         = [256 640   1]\n",
      "yt : [INFO     ] 2020-03-09 02:02:01,121 Parameters: domain_left_edge          = [-1.5450e+19 -3.8625e+19 -5.0000e-01]\n",
      "yt : [INFO     ] 2020-03-09 02:02:01,122 Parameters: domain_right_edge         = [1.5450e+19 3.8625e+19 5.0000e-01]\n",
      "yt : [INFO     ] 2020-03-09 02:02:01,123 Parameters: cosmological_simulation   = 0.0\n"
     ]
    },
    {
     "name": "stdout",
     "output_type": "stream",
     "text": [
      "mixing_layer.out1.00714\n"
     ]
    },
    {
     "name": "stderr",
     "output_type": "stream",
     "text": [
      "yt : [WARNING  ] 2020-03-09 02:02:01,159 Assuming 1.0 = 1.0 cm\n",
      "yt : [WARNING  ] 2020-03-09 02:02:01,160 Assuming 1.0 = 1.0 s\n",
      "yt : [WARNING  ] 2020-03-09 02:02:01,161 Assuming 1.0 = 1.0 g\n",
      "yt : [WARNING  ] 2020-03-09 02:02:01,162 Assuming 1.0 = 1.0 K\n",
      "yt : [INFO     ] 2020-03-09 02:02:01,174 Parameters: current_time              = 1347061739397175.2\n",
      "yt : [INFO     ] 2020-03-09 02:02:01,174 Parameters: domain_dimensions         = [256 640   1]\n",
      "yt : [INFO     ] 2020-03-09 02:02:01,175 Parameters: domain_left_edge          = [-1.5450e+19 -3.8625e+19 -5.0000e-01]\n",
      "yt : [INFO     ] 2020-03-09 02:02:01,176 Parameters: domain_right_edge         = [1.5450e+19 3.8625e+19 5.0000e-01]\n",
      "yt : [INFO     ] 2020-03-09 02:02:01,177 Parameters: cosmological_simulation   = 0.0\n"
     ]
    },
    {
     "name": "stdout",
     "output_type": "stream",
     "text": [
      "mixing_layer.out1.00715\n"
     ]
    },
    {
     "name": "stderr",
     "output_type": "stream",
     "text": [
      "yt : [WARNING  ] 2020-03-09 02:02:01,213 Assuming 1.0 = 1.0 cm\n",
      "yt : [WARNING  ] 2020-03-09 02:02:01,215 Assuming 1.0 = 1.0 s\n",
      "yt : [WARNING  ] 2020-03-09 02:02:01,216 Assuming 1.0 = 1.0 g\n",
      "yt : [WARNING  ] 2020-03-09 02:02:01,217 Assuming 1.0 = 1.0 K\n",
      "yt : [INFO     ] 2020-03-09 02:02:01,228 Parameters: current_time              = 1348944224328091.2\n",
      "yt : [INFO     ] 2020-03-09 02:02:01,229 Parameters: domain_dimensions         = [256 640   1]\n",
      "yt : [INFO     ] 2020-03-09 02:02:01,230 Parameters: domain_left_edge          = [-1.5450e+19 -3.8625e+19 -5.0000e-01]\n",
      "yt : [INFO     ] 2020-03-09 02:02:01,231 Parameters: domain_right_edge         = [1.5450e+19 3.8625e+19 5.0000e-01]\n",
      "yt : [INFO     ] 2020-03-09 02:02:01,231 Parameters: cosmological_simulation   = 0.0\n"
     ]
    },
    {
     "name": "stdout",
     "output_type": "stream",
     "text": [
      "mixing_layer.out1.00716\n"
     ]
    },
    {
     "name": "stderr",
     "output_type": "stream",
     "text": [
      "yt : [WARNING  ] 2020-03-09 02:02:01,262 Assuming 1.0 = 1.0 cm\n",
      "yt : [WARNING  ] 2020-03-09 02:02:01,263 Assuming 1.0 = 1.0 s\n",
      "yt : [WARNING  ] 2020-03-09 02:02:01,263 Assuming 1.0 = 1.0 g\n",
      "yt : [WARNING  ] 2020-03-09 02:02:01,264 Assuming 1.0 = 1.0 K\n",
      "yt : [INFO     ] 2020-03-09 02:02:01,276 Parameters: current_time              = 1350830420945153.8\n",
      "yt : [INFO     ] 2020-03-09 02:02:01,276 Parameters: domain_dimensions         = [256 640   1]\n",
      "yt : [INFO     ] 2020-03-09 02:02:01,277 Parameters: domain_left_edge          = [-1.5450e+19 -3.8625e+19 -5.0000e-01]\n",
      "yt : [INFO     ] 2020-03-09 02:02:01,278 Parameters: domain_right_edge         = [1.5450e+19 3.8625e+19 5.0000e-01]\n",
      "yt : [INFO     ] 2020-03-09 02:02:01,279 Parameters: cosmological_simulation   = 0.0\n"
     ]
    },
    {
     "name": "stdout",
     "output_type": "stream",
     "text": [
      "mixing_layer.out1.00717\n"
     ]
    },
    {
     "name": "stderr",
     "output_type": "stream",
     "text": [
      "yt : [WARNING  ] 2020-03-09 02:02:01,307 Assuming 1.0 = 1.0 cm\n",
      "yt : [WARNING  ] 2020-03-09 02:02:01,309 Assuming 1.0 = 1.0 s\n",
      "yt : [WARNING  ] 2020-03-09 02:02:01,310 Assuming 1.0 = 1.0 g\n",
      "yt : [WARNING  ] 2020-03-09 02:02:01,310 Assuming 1.0 = 1.0 K\n",
      "yt : [INFO     ] 2020-03-09 02:02:01,322 Parameters: current_time              = 1352713922594054.0\n",
      "yt : [INFO     ] 2020-03-09 02:02:01,322 Parameters: domain_dimensions         = [256 640   1]\n",
      "yt : [INFO     ] 2020-03-09 02:02:01,323 Parameters: domain_left_edge          = [-1.5450e+19 -3.8625e+19 -5.0000e-01]\n",
      "yt : [INFO     ] 2020-03-09 02:02:01,324 Parameters: domain_right_edge         = [1.5450e+19 3.8625e+19 5.0000e-01]\n",
      "yt : [INFO     ] 2020-03-09 02:02:01,324 Parameters: cosmological_simulation   = 0.0\n"
     ]
    },
    {
     "name": "stdout",
     "output_type": "stream",
     "text": [
      "mixing_layer.out1.00718\n"
     ]
    },
    {
     "name": "stderr",
     "output_type": "stream",
     "text": [
      "yt : [WARNING  ] 2020-03-09 02:02:01,353 Assuming 1.0 = 1.0 cm\n",
      "yt : [WARNING  ] 2020-03-09 02:02:01,354 Assuming 1.0 = 1.0 s\n",
      "yt : [WARNING  ] 2020-03-09 02:02:01,355 Assuming 1.0 = 1.0 g\n",
      "yt : [WARNING  ] 2020-03-09 02:02:01,356 Assuming 1.0 = 1.0 K\n",
      "yt : [INFO     ] 2020-03-09 02:02:01,367 Parameters: current_time              = 1354597694143311.5\n",
      "yt : [INFO     ] 2020-03-09 02:02:01,368 Parameters: domain_dimensions         = [256 640   1]\n",
      "yt : [INFO     ] 2020-03-09 02:02:01,369 Parameters: domain_left_edge          = [-1.5450e+19 -3.8625e+19 -5.0000e-01]\n",
      "yt : [INFO     ] 2020-03-09 02:02:01,370 Parameters: domain_right_edge         = [1.5450e+19 3.8625e+19 5.0000e-01]\n",
      "yt : [INFO     ] 2020-03-09 02:02:01,370 Parameters: cosmological_simulation   = 0.0\n"
     ]
    },
    {
     "name": "stdout",
     "output_type": "stream",
     "text": [
      "mixing_layer.out1.00719\n"
     ]
    },
    {
     "name": "stderr",
     "output_type": "stream",
     "text": [
      "yt : [WARNING  ] 2020-03-09 02:02:01,401 Assuming 1.0 = 1.0 cm\n",
      "yt : [WARNING  ] 2020-03-09 02:02:01,403 Assuming 1.0 = 1.0 s\n",
      "yt : [WARNING  ] 2020-03-09 02:02:01,404 Assuming 1.0 = 1.0 g\n",
      "yt : [WARNING  ] 2020-03-09 02:02:01,404 Assuming 1.0 = 1.0 K\n",
      "yt : [INFO     ] 2020-03-09 02:02:01,415 Parameters: current_time              = 1356480719123359.8\n",
      "yt : [INFO     ] 2020-03-09 02:02:01,416 Parameters: domain_dimensions         = [256 640   1]\n",
      "yt : [INFO     ] 2020-03-09 02:02:01,416 Parameters: domain_left_edge          = [-1.5450e+19 -3.8625e+19 -5.0000e-01]\n",
      "yt : [INFO     ] 2020-03-09 02:02:01,417 Parameters: domain_right_edge         = [1.5450e+19 3.8625e+19 5.0000e-01]\n",
      "yt : [INFO     ] 2020-03-09 02:02:01,418 Parameters: cosmological_simulation   = 0.0\n"
     ]
    },
    {
     "name": "stdout",
     "output_type": "stream",
     "text": [
      "mixing_layer.out1.00720\n"
     ]
    },
    {
     "name": "stderr",
     "output_type": "stream",
     "text": [
      "yt : [WARNING  ] 2020-03-09 02:02:01,448 Assuming 1.0 = 1.0 cm\n",
      "yt : [WARNING  ] 2020-03-09 02:02:01,449 Assuming 1.0 = 1.0 s\n",
      "yt : [WARNING  ] 2020-03-09 02:02:01,451 Assuming 1.0 = 1.0 g\n",
      "yt : [WARNING  ] 2020-03-09 02:02:01,451 Assuming 1.0 = 1.0 K\n",
      "yt : [INFO     ] 2020-03-09 02:02:01,463 Parameters: current_time              = 1358366653636076.8\n",
      "yt : [INFO     ] 2020-03-09 02:02:01,464 Parameters: domain_dimensions         = [256 640   1]\n",
      "yt : [INFO     ] 2020-03-09 02:02:01,465 Parameters: domain_left_edge          = [-1.5450e+19 -3.8625e+19 -5.0000e-01]\n",
      "yt : [INFO     ] 2020-03-09 02:02:01,466 Parameters: domain_right_edge         = [1.5450e+19 3.8625e+19 5.0000e-01]\n",
      "yt : [INFO     ] 2020-03-09 02:02:01,467 Parameters: cosmological_simulation   = 0.0\n"
     ]
    },
    {
     "name": "stdout",
     "output_type": "stream",
     "text": [
      "mixing_layer.out1.00721\n"
     ]
    },
    {
     "name": "stderr",
     "output_type": "stream",
     "text": [
      "yt : [WARNING  ] 2020-03-09 02:02:01,499 Assuming 1.0 = 1.0 cm\n",
      "yt : [WARNING  ] 2020-03-09 02:02:01,501 Assuming 1.0 = 1.0 s\n",
      "yt : [WARNING  ] 2020-03-09 02:02:01,502 Assuming 1.0 = 1.0 g\n",
      "yt : [WARNING  ] 2020-03-09 02:02:01,502 Assuming 1.0 = 1.0 K\n",
      "yt : [INFO     ] 2020-03-09 02:02:01,514 Parameters: current_time              = 1360248138702269.8\n",
      "yt : [INFO     ] 2020-03-09 02:02:01,515 Parameters: domain_dimensions         = [256 640   1]\n",
      "yt : [INFO     ] 2020-03-09 02:02:01,516 Parameters: domain_left_edge          = [-1.5450e+19 -3.8625e+19 -5.0000e-01]\n",
      "yt : [INFO     ] 2020-03-09 02:02:01,517 Parameters: domain_right_edge         = [1.5450e+19 3.8625e+19 5.0000e-01]\n",
      "yt : [INFO     ] 2020-03-09 02:02:01,518 Parameters: cosmological_simulation   = 0.0\n"
     ]
    },
    {
     "name": "stdout",
     "output_type": "stream",
     "text": [
      "mixing_layer.out1.00722\n"
     ]
    },
    {
     "name": "stderr",
     "output_type": "stream",
     "text": [
      "yt : [WARNING  ] 2020-03-09 02:02:01,551 Assuming 1.0 = 1.0 cm\n",
      "yt : [WARNING  ] 2020-03-09 02:02:01,552 Assuming 1.0 = 1.0 s\n",
      "yt : [WARNING  ] 2020-03-09 02:02:01,553 Assuming 1.0 = 1.0 g\n",
      "yt : [WARNING  ] 2020-03-09 02:02:01,553 Assuming 1.0 = 1.0 K\n",
      "yt : [INFO     ] 2020-03-09 02:02:01,565 Parameters: current_time              = 1362133561751156.0\n",
      "yt : [INFO     ] 2020-03-09 02:02:01,566 Parameters: domain_dimensions         = [256 640   1]\n",
      "yt : [INFO     ] 2020-03-09 02:02:01,567 Parameters: domain_left_edge          = [-1.5450e+19 -3.8625e+19 -5.0000e-01]\n",
      "yt : [INFO     ] 2020-03-09 02:02:01,568 Parameters: domain_right_edge         = [1.5450e+19 3.8625e+19 5.0000e-01]\n",
      "yt : [INFO     ] 2020-03-09 02:02:01,568 Parameters: cosmological_simulation   = 0.0\n"
     ]
    },
    {
     "name": "stdout",
     "output_type": "stream",
     "text": [
      "mixing_layer.out1.00723\n"
     ]
    },
    {
     "name": "stderr",
     "output_type": "stream",
     "text": [
      "yt : [WARNING  ] 2020-03-09 02:02:01,603 Assuming 1.0 = 1.0 cm\n",
      "yt : [WARNING  ] 2020-03-09 02:02:01,604 Assuming 1.0 = 1.0 s\n",
      "yt : [WARNING  ] 2020-03-09 02:02:01,606 Assuming 1.0 = 1.0 g\n",
      "yt : [WARNING  ] 2020-03-09 02:02:01,607 Assuming 1.0 = 1.0 K\n",
      "yt : [INFO     ] 2020-03-09 02:02:01,623 Parameters: current_time              = 1364016865862882.0\n",
      "yt : [INFO     ] 2020-03-09 02:02:01,625 Parameters: domain_dimensions         = [256 640   1]\n",
      "yt : [INFO     ] 2020-03-09 02:02:01,626 Parameters: domain_left_edge          = [-1.5450e+19 -3.8625e+19 -5.0000e-01]\n",
      "yt : [INFO     ] 2020-03-09 02:02:01,626 Parameters: domain_right_edge         = [1.5450e+19 3.8625e+19 5.0000e-01]\n",
      "yt : [INFO     ] 2020-03-09 02:02:01,627 Parameters: cosmological_simulation   = 0.0\n"
     ]
    },
    {
     "name": "stdout",
     "output_type": "stream",
     "text": [
      "mixing_layer.out1.00724\n"
     ]
    },
    {
     "name": "stderr",
     "output_type": "stream",
     "text": [
      "yt : [WARNING  ] 2020-03-09 02:02:01,665 Assuming 1.0 = 1.0 cm\n",
      "yt : [WARNING  ] 2020-03-09 02:02:01,666 Assuming 1.0 = 1.0 s\n",
      "yt : [WARNING  ] 2020-03-09 02:02:01,667 Assuming 1.0 = 1.0 g\n",
      "yt : [WARNING  ] 2020-03-09 02:02:01,668 Assuming 1.0 = 1.0 K\n",
      "yt : [INFO     ] 2020-03-09 02:02:01,679 Parameters: current_time              = 1365900939293702.5\n",
      "yt : [INFO     ] 2020-03-09 02:02:01,680 Parameters: domain_dimensions         = [256 640   1]\n",
      "yt : [INFO     ] 2020-03-09 02:02:01,681 Parameters: domain_left_edge          = [-1.5450e+19 -3.8625e+19 -5.0000e-01]\n",
      "yt : [INFO     ] 2020-03-09 02:02:01,682 Parameters: domain_right_edge         = [1.5450e+19 3.8625e+19 5.0000e-01]\n",
      "yt : [INFO     ] 2020-03-09 02:02:01,683 Parameters: cosmological_simulation   = 0.0\n"
     ]
    },
    {
     "name": "stdout",
     "output_type": "stream",
     "text": [
      "mixing_layer.out1.00725\n"
     ]
    },
    {
     "name": "stderr",
     "output_type": "stream",
     "text": [
      "yt : [WARNING  ] 2020-03-09 02:02:01,719 Assuming 1.0 = 1.0 cm\n",
      "yt : [WARNING  ] 2020-03-09 02:02:01,720 Assuming 1.0 = 1.0 s\n",
      "yt : [WARNING  ] 2020-03-09 02:02:01,721 Assuming 1.0 = 1.0 g\n",
      "yt : [WARNING  ] 2020-03-09 02:02:01,722 Assuming 1.0 = 1.0 K\n",
      "yt : [INFO     ] 2020-03-09 02:02:01,734 Parameters: current_time              = 1367785881943430.8\n",
      "yt : [INFO     ] 2020-03-09 02:02:01,735 Parameters: domain_dimensions         = [256 640   1]\n",
      "yt : [INFO     ] 2020-03-09 02:02:01,736 Parameters: domain_left_edge          = [-1.5450e+19 -3.8625e+19 -5.0000e-01]\n",
      "yt : [INFO     ] 2020-03-09 02:02:01,737 Parameters: domain_right_edge         = [1.5450e+19 3.8625e+19 5.0000e-01]\n",
      "yt : [INFO     ] 2020-03-09 02:02:01,738 Parameters: cosmological_simulation   = 0.0\n"
     ]
    },
    {
     "name": "stdout",
     "output_type": "stream",
     "text": [
      "mixing_layer.out1.00726\n"
     ]
    },
    {
     "name": "stderr",
     "output_type": "stream",
     "text": [
      "yt : [WARNING  ] 2020-03-09 02:02:01,772 Assuming 1.0 = 1.0 cm\n",
      "yt : [WARNING  ] 2020-03-09 02:02:01,773 Assuming 1.0 = 1.0 s\n",
      "yt : [WARNING  ] 2020-03-09 02:02:01,774 Assuming 1.0 = 1.0 g\n",
      "yt : [WARNING  ] 2020-03-09 02:02:01,775 Assuming 1.0 = 1.0 K\n",
      "yt : [INFO     ] 2020-03-09 02:02:01,787 Parameters: current_time              = 1369669930380443.2\n",
      "yt : [INFO     ] 2020-03-09 02:02:01,788 Parameters: domain_dimensions         = [256 640   1]\n",
      "yt : [INFO     ] 2020-03-09 02:02:01,789 Parameters: domain_left_edge          = [-1.5450e+19 -3.8625e+19 -5.0000e-01]\n",
      "yt : [INFO     ] 2020-03-09 02:02:01,790 Parameters: domain_right_edge         = [1.5450e+19 3.8625e+19 5.0000e-01]\n",
      "yt : [INFO     ] 2020-03-09 02:02:01,790 Parameters: cosmological_simulation   = 0.0\n"
     ]
    },
    {
     "name": "stdout",
     "output_type": "stream",
     "text": [
      "mixing_layer.out1.00727\n"
     ]
    },
    {
     "name": "stderr",
     "output_type": "stream",
     "text": [
      "yt : [WARNING  ] 2020-03-09 02:02:01,825 Assuming 1.0 = 1.0 cm\n",
      "yt : [WARNING  ] 2020-03-09 02:02:01,827 Assuming 1.0 = 1.0 s\n",
      "yt : [WARNING  ] 2020-03-09 02:02:01,828 Assuming 1.0 = 1.0 g\n",
      "yt : [WARNING  ] 2020-03-09 02:02:01,829 Assuming 1.0 = 1.0 K\n",
      "yt : [INFO     ] 2020-03-09 02:02:01,840 Parameters: current_time              = 1371552040064045.5\n",
      "yt : [INFO     ] 2020-03-09 02:02:01,841 Parameters: domain_dimensions         = [256 640   1]\n",
      "yt : [INFO     ] 2020-03-09 02:02:01,842 Parameters: domain_left_edge          = [-1.5450e+19 -3.8625e+19 -5.0000e-01]\n",
      "yt : [INFO     ] 2020-03-09 02:02:01,843 Parameters: domain_right_edge         = [1.5450e+19 3.8625e+19 5.0000e-01]\n",
      "yt : [INFO     ] 2020-03-09 02:02:01,844 Parameters: cosmological_simulation   = 0.0\n"
     ]
    },
    {
     "name": "stdout",
     "output_type": "stream",
     "text": [
      "mixing_layer.out1.00728\n"
     ]
    },
    {
     "name": "stderr",
     "output_type": "stream",
     "text": [
      "yt : [WARNING  ] 2020-03-09 02:02:01,879 Assuming 1.0 = 1.0 cm\n",
      "yt : [WARNING  ] 2020-03-09 02:02:01,880 Assuming 1.0 = 1.0 s\n",
      "yt : [WARNING  ] 2020-03-09 02:02:01,880 Assuming 1.0 = 1.0 g\n",
      "yt : [WARNING  ] 2020-03-09 02:02:01,881 Assuming 1.0 = 1.0 K\n",
      "yt : [INFO     ] 2020-03-09 02:02:01,893 Parameters: current_time              = 1373436968220318.8\n",
      "yt : [INFO     ] 2020-03-09 02:02:01,893 Parameters: domain_dimensions         = [256 640   1]\n",
      "yt : [INFO     ] 2020-03-09 02:02:01,894 Parameters: domain_left_edge          = [-1.5450e+19 -3.8625e+19 -5.0000e-01]\n",
      "yt : [INFO     ] 2020-03-09 02:02:01,895 Parameters: domain_right_edge         = [1.5450e+19 3.8625e+19 5.0000e-01]\n",
      "yt : [INFO     ] 2020-03-09 02:02:01,896 Parameters: cosmological_simulation   = 0.0\n"
     ]
    },
    {
     "name": "stdout",
     "output_type": "stream",
     "text": [
      "mixing_layer.out1.00729\n"
     ]
    },
    {
     "name": "stderr",
     "output_type": "stream",
     "text": [
      "yt : [WARNING  ] 2020-03-09 02:02:01,928 Assuming 1.0 = 1.0 cm\n",
      "yt : [WARNING  ] 2020-03-09 02:02:01,929 Assuming 1.0 = 1.0 s\n",
      "yt : [WARNING  ] 2020-03-09 02:02:01,930 Assuming 1.0 = 1.0 g\n",
      "yt : [WARNING  ] 2020-03-09 02:02:01,931 Assuming 1.0 = 1.0 K\n",
      "yt : [INFO     ] 2020-03-09 02:02:01,944 Parameters: current_time              = 1375320959166105.0\n",
      "yt : [INFO     ] 2020-03-09 02:02:01,945 Parameters: domain_dimensions         = [256 640   1]\n",
      "yt : [INFO     ] 2020-03-09 02:02:01,946 Parameters: domain_left_edge          = [-1.5450e+19 -3.8625e+19 -5.0000e-01]\n",
      "yt : [INFO     ] 2020-03-09 02:02:01,948 Parameters: domain_right_edge         = [1.5450e+19 3.8625e+19 5.0000e-01]\n",
      "yt : [INFO     ] 2020-03-09 02:02:01,949 Parameters: cosmological_simulation   = 0.0\n"
     ]
    },
    {
     "name": "stdout",
     "output_type": "stream",
     "text": [
      "mixing_layer.out1.00730\n"
     ]
    },
    {
     "name": "stderr",
     "output_type": "stream",
     "text": [
      "yt : [WARNING  ] 2020-03-09 02:02:01,987 Assuming 1.0 = 1.0 cm\n",
      "yt : [WARNING  ] 2020-03-09 02:02:01,988 Assuming 1.0 = 1.0 s\n",
      "yt : [WARNING  ] 2020-03-09 02:02:01,989 Assuming 1.0 = 1.0 g\n",
      "yt : [WARNING  ] 2020-03-09 02:02:01,990 Assuming 1.0 = 1.0 K\n",
      "yt : [INFO     ] 2020-03-09 02:02:02,001 Parameters: current_time              = 1377204925537938.2\n",
      "yt : [INFO     ] 2020-03-09 02:02:02,002 Parameters: domain_dimensions         = [256 640   1]\n",
      "yt : [INFO     ] 2020-03-09 02:02:02,003 Parameters: domain_left_edge          = [-1.5450e+19 -3.8625e+19 -5.0000e-01]\n",
      "yt : [INFO     ] 2020-03-09 02:02:02,003 Parameters: domain_right_edge         = [1.5450e+19 3.8625e+19 5.0000e-01]\n",
      "yt : [INFO     ] 2020-03-09 02:02:02,004 Parameters: cosmological_simulation   = 0.0\n"
     ]
    },
    {
     "name": "stdout",
     "output_type": "stream",
     "text": [
      "mixing_layer.out1.00731\n"
     ]
    },
    {
     "name": "stderr",
     "output_type": "stream",
     "text": [
      "yt : [WARNING  ] 2020-03-09 02:02:02,036 Assuming 1.0 = 1.0 cm\n",
      "yt : [WARNING  ] 2020-03-09 02:02:02,038 Assuming 1.0 = 1.0 s\n",
      "yt : [WARNING  ] 2020-03-09 02:02:02,039 Assuming 1.0 = 1.0 g\n",
      "yt : [WARNING  ] 2020-03-09 02:02:02,040 Assuming 1.0 = 1.0 K\n",
      "yt : [INFO     ] 2020-03-09 02:02:02,051 Parameters: current_time              = 1379088131339261.8\n",
      "yt : [INFO     ] 2020-03-09 02:02:02,052 Parameters: domain_dimensions         = [256 640   1]\n",
      "yt : [INFO     ] 2020-03-09 02:02:02,053 Parameters: domain_left_edge          = [-1.5450e+19 -3.8625e+19 -5.0000e-01]\n",
      "yt : [INFO     ] 2020-03-09 02:02:02,054 Parameters: domain_right_edge         = [1.5450e+19 3.8625e+19 5.0000e-01]\n",
      "yt : [INFO     ] 2020-03-09 02:02:02,055 Parameters: cosmological_simulation   = 0.0\n"
     ]
    },
    {
     "name": "stdout",
     "output_type": "stream",
     "text": [
      "mixing_layer.out1.00732\n"
     ]
    },
    {
     "name": "stderr",
     "output_type": "stream",
     "text": [
      "yt : [WARNING  ] 2020-03-09 02:02:02,086 Assuming 1.0 = 1.0 cm\n",
      "yt : [WARNING  ] 2020-03-09 02:02:02,087 Assuming 1.0 = 1.0 s\n",
      "yt : [WARNING  ] 2020-03-09 02:02:02,088 Assuming 1.0 = 1.0 g\n",
      "yt : [WARNING  ] 2020-03-09 02:02:02,089 Assuming 1.0 = 1.0 K\n",
      "yt : [INFO     ] 2020-03-09 02:02:02,100 Parameters: current_time              = 1380972988777016.5\n",
      "yt : [INFO     ] 2020-03-09 02:02:02,101 Parameters: domain_dimensions         = [256 640   1]\n",
      "yt : [INFO     ] 2020-03-09 02:02:02,102 Parameters: domain_left_edge          = [-1.5450e+19 -3.8625e+19 -5.0000e-01]\n",
      "yt : [INFO     ] 2020-03-09 02:02:02,103 Parameters: domain_right_edge         = [1.5450e+19 3.8625e+19 5.0000e-01]\n",
      "yt : [INFO     ] 2020-03-09 02:02:02,103 Parameters: cosmological_simulation   = 0.0\n"
     ]
    },
    {
     "name": "stdout",
     "output_type": "stream",
     "text": [
      "mixing_layer.out1.00733\n"
     ]
    },
    {
     "name": "stderr",
     "output_type": "stream",
     "text": [
      "yt : [WARNING  ] 2020-03-09 02:02:02,136 Assuming 1.0 = 1.0 cm\n",
      "yt : [WARNING  ] 2020-03-09 02:02:02,137 Assuming 1.0 = 1.0 s\n",
      "yt : [WARNING  ] 2020-03-09 02:02:02,139 Assuming 1.0 = 1.0 g\n",
      "yt : [WARNING  ] 2020-03-09 02:02:02,140 Assuming 1.0 = 1.0 K\n",
      "yt : [INFO     ] 2020-03-09 02:02:02,151 Parameters: current_time              = 1382858298889497.8\n",
      "yt : [INFO     ] 2020-03-09 02:02:02,152 Parameters: domain_dimensions         = [256 640   1]\n",
      "yt : [INFO     ] 2020-03-09 02:02:02,153 Parameters: domain_left_edge          = [-1.5450e+19 -3.8625e+19 -5.0000e-01]\n",
      "yt : [INFO     ] 2020-03-09 02:02:02,154 Parameters: domain_right_edge         = [1.5450e+19 3.8625e+19 5.0000e-01]\n",
      "yt : [INFO     ] 2020-03-09 02:02:02,154 Parameters: cosmological_simulation   = 0.0\n"
     ]
    },
    {
     "name": "stdout",
     "output_type": "stream",
     "text": [
      "mixing_layer.out1.00734\n"
     ]
    },
    {
     "name": "stderr",
     "output_type": "stream",
     "text": [
      "yt : [WARNING  ] 2020-03-09 02:02:02,187 Assuming 1.0 = 1.0 cm\n",
      "yt : [WARNING  ] 2020-03-09 02:02:02,189 Assuming 1.0 = 1.0 s\n",
      "yt : [WARNING  ] 2020-03-09 02:02:02,190 Assuming 1.0 = 1.0 g\n",
      "yt : [WARNING  ] 2020-03-09 02:02:02,191 Assuming 1.0 = 1.0 K\n",
      "yt : [INFO     ] 2020-03-09 02:02:02,205 Parameters: current_time              = 1384741748960047.8\n",
      "yt : [INFO     ] 2020-03-09 02:02:02,206 Parameters: domain_dimensions         = [256 640   1]\n",
      "yt : [INFO     ] 2020-03-09 02:02:02,207 Parameters: domain_left_edge          = [-1.5450e+19 -3.8625e+19 -5.0000e-01]\n",
      "yt : [INFO     ] 2020-03-09 02:02:02,208 Parameters: domain_right_edge         = [1.5450e+19 3.8625e+19 5.0000e-01]\n",
      "yt : [INFO     ] 2020-03-09 02:02:02,208 Parameters: cosmological_simulation   = 0.0\n"
     ]
    },
    {
     "name": "stdout",
     "output_type": "stream",
     "text": [
      "mixing_layer.out1.00735\n"
     ]
    },
    {
     "name": "stderr",
     "output_type": "stream",
     "text": [
      "yt : [WARNING  ] 2020-03-09 02:02:02,242 Assuming 1.0 = 1.0 cm\n",
      "yt : [WARNING  ] 2020-03-09 02:02:02,243 Assuming 1.0 = 1.0 s\n",
      "yt : [WARNING  ] 2020-03-09 02:02:02,244 Assuming 1.0 = 1.0 g\n",
      "yt : [WARNING  ] 2020-03-09 02:02:02,244 Assuming 1.0 = 1.0 K\n",
      "yt : [INFO     ] 2020-03-09 02:02:02,269 Parameters: current_time              = 1386624426492348.8\n",
      "yt : [INFO     ] 2020-03-09 02:02:02,270 Parameters: domain_dimensions         = [256 640   1]\n",
      "yt : [INFO     ] 2020-03-09 02:02:02,271 Parameters: domain_left_edge          = [-1.5450e+19 -3.8625e+19 -5.0000e-01]\n",
      "yt : [INFO     ] 2020-03-09 02:02:02,272 Parameters: domain_right_edge         = [1.5450e+19 3.8625e+19 5.0000e-01]\n",
      "yt : [INFO     ] 2020-03-09 02:02:02,273 Parameters: cosmological_simulation   = 0.0\n"
     ]
    },
    {
     "name": "stdout",
     "output_type": "stream",
     "text": [
      "mixing_layer.out1.00736\n"
     ]
    },
    {
     "name": "stderr",
     "output_type": "stream",
     "text": [
      "yt : [WARNING  ] 2020-03-09 02:02:02,305 Assuming 1.0 = 1.0 cm\n",
      "yt : [WARNING  ] 2020-03-09 02:02:02,307 Assuming 1.0 = 1.0 s\n",
      "yt : [WARNING  ] 2020-03-09 02:02:02,308 Assuming 1.0 = 1.0 g\n",
      "yt : [WARNING  ] 2020-03-09 02:02:02,309 Assuming 1.0 = 1.0 K\n",
      "yt : [INFO     ] 2020-03-09 02:02:02,321 Parameters: current_time              = 1388509241292003.8\n",
      "yt : [INFO     ] 2020-03-09 02:02:02,322 Parameters: domain_dimensions         = [256 640   1]\n",
      "yt : [INFO     ] 2020-03-09 02:02:02,323 Parameters: domain_left_edge          = [-1.5450e+19 -3.8625e+19 -5.0000e-01]\n",
      "yt : [INFO     ] 2020-03-09 02:02:02,324 Parameters: domain_right_edge         = [1.5450e+19 3.8625e+19 5.0000e-01]\n",
      "yt : [INFO     ] 2020-03-09 02:02:02,324 Parameters: cosmological_simulation   = 0.0\n"
     ]
    },
    {
     "name": "stdout",
     "output_type": "stream",
     "text": [
      "mixing_layer.out1.00737\n"
     ]
    },
    {
     "name": "stderr",
     "output_type": "stream",
     "text": [
      "yt : [WARNING  ] 2020-03-09 02:02:02,361 Assuming 1.0 = 1.0 cm\n",
      "yt : [WARNING  ] 2020-03-09 02:02:02,362 Assuming 1.0 = 1.0 s\n",
      "yt : [WARNING  ] 2020-03-09 02:02:02,363 Assuming 1.0 = 1.0 g\n",
      "yt : [WARNING  ] 2020-03-09 02:02:02,364 Assuming 1.0 = 1.0 K\n",
      "yt : [INFO     ] 2020-03-09 02:02:02,376 Parameters: current_time              = 1390392549414683.5\n",
      "yt : [INFO     ] 2020-03-09 02:02:02,376 Parameters: domain_dimensions         = [256 640   1]\n",
      "yt : [INFO     ] 2020-03-09 02:02:02,377 Parameters: domain_left_edge          = [-1.5450e+19 -3.8625e+19 -5.0000e-01]\n",
      "yt : [INFO     ] 2020-03-09 02:02:02,378 Parameters: domain_right_edge         = [1.5450e+19 3.8625e+19 5.0000e-01]\n",
      "yt : [INFO     ] 2020-03-09 02:02:02,379 Parameters: cosmological_simulation   = 0.0\n"
     ]
    },
    {
     "name": "stdout",
     "output_type": "stream",
     "text": [
      "mixing_layer.out1.00738\n"
     ]
    },
    {
     "name": "stderr",
     "output_type": "stream",
     "text": [
      "yt : [WARNING  ] 2020-03-09 02:02:02,414 Assuming 1.0 = 1.0 cm\n",
      "yt : [WARNING  ] 2020-03-09 02:02:02,415 Assuming 1.0 = 1.0 s\n",
      "yt : [WARNING  ] 2020-03-09 02:02:02,416 Assuming 1.0 = 1.0 g\n",
      "yt : [WARNING  ] 2020-03-09 02:02:02,417 Assuming 1.0 = 1.0 K\n",
      "yt : [INFO     ] 2020-03-09 02:02:02,429 Parameters: current_time              = 1392278510554115.5\n",
      "yt : [INFO     ] 2020-03-09 02:02:02,430 Parameters: domain_dimensions         = [256 640   1]\n",
      "yt : [INFO     ] 2020-03-09 02:02:02,430 Parameters: domain_left_edge          = [-1.5450e+19 -3.8625e+19 -5.0000e-01]\n",
      "yt : [INFO     ] 2020-03-09 02:02:02,431 Parameters: domain_right_edge         = [1.5450e+19 3.8625e+19 5.0000e-01]\n",
      "yt : [INFO     ] 2020-03-09 02:02:02,432 Parameters: cosmological_simulation   = 0.0\n"
     ]
    },
    {
     "name": "stdout",
     "output_type": "stream",
     "text": [
      "mixing_layer.out1.00739\n"
     ]
    },
    {
     "name": "stderr",
     "output_type": "stream",
     "text": [
      "yt : [WARNING  ] 2020-03-09 02:02:02,466 Assuming 1.0 = 1.0 cm\n",
      "yt : [WARNING  ] 2020-03-09 02:02:02,467 Assuming 1.0 = 1.0 s\n",
      "yt : [WARNING  ] 2020-03-09 02:02:02,468 Assuming 1.0 = 1.0 g\n",
      "yt : [WARNING  ] 2020-03-09 02:02:02,469 Assuming 1.0 = 1.0 K\n",
      "yt : [INFO     ] 2020-03-09 02:02:02,480 Parameters: current_time              = 1394161966827528.0\n",
      "yt : [INFO     ] 2020-03-09 02:02:02,480 Parameters: domain_dimensions         = [256 640   1]\n",
      "yt : [INFO     ] 2020-03-09 02:02:02,482 Parameters: domain_left_edge          = [-1.5450e+19 -3.8625e+19 -5.0000e-01]\n",
      "yt : [INFO     ] 2020-03-09 02:02:02,483 Parameters: domain_right_edge         = [1.5450e+19 3.8625e+19 5.0000e-01]\n",
      "yt : [INFO     ] 2020-03-09 02:02:02,484 Parameters: cosmological_simulation   = 0.0\n"
     ]
    },
    {
     "name": "stdout",
     "output_type": "stream",
     "text": [
      "mixing_layer.out1.00740\n"
     ]
    },
    {
     "name": "stderr",
     "output_type": "stream",
     "text": [
      "yt : [WARNING  ] 2020-03-09 02:02:02,521 Assuming 1.0 = 1.0 cm\n",
      "yt : [WARNING  ] 2020-03-09 02:02:02,522 Assuming 1.0 = 1.0 s\n",
      "yt : [WARNING  ] 2020-03-09 02:02:02,523 Assuming 1.0 = 1.0 g\n",
      "yt : [WARNING  ] 2020-03-09 02:02:02,524 Assuming 1.0 = 1.0 K\n",
      "yt : [INFO     ] 2020-03-09 02:02:02,535 Parameters: current_time              = 1396044923640104.5\n",
      "yt : [INFO     ] 2020-03-09 02:02:02,536 Parameters: domain_dimensions         = [256 640   1]\n",
      "yt : [INFO     ] 2020-03-09 02:02:02,537 Parameters: domain_left_edge          = [-1.5450e+19 -3.8625e+19 -5.0000e-01]\n",
      "yt : [INFO     ] 2020-03-09 02:02:02,539 Parameters: domain_right_edge         = [1.5450e+19 3.8625e+19 5.0000e-01]\n",
      "yt : [INFO     ] 2020-03-09 02:02:02,539 Parameters: cosmological_simulation   = 0.0\n"
     ]
    },
    {
     "name": "stdout",
     "output_type": "stream",
     "text": [
      "mixing_layer.out1.00741\n"
     ]
    },
    {
     "name": "stderr",
     "output_type": "stream",
     "text": [
      "yt : [WARNING  ] 2020-03-09 02:02:02,572 Assuming 1.0 = 1.0 cm\n",
      "yt : [WARNING  ] 2020-03-09 02:02:02,573 Assuming 1.0 = 1.0 s\n",
      "yt : [WARNING  ] 2020-03-09 02:02:02,573 Assuming 1.0 = 1.0 g\n",
      "yt : [WARNING  ] 2020-03-09 02:02:02,574 Assuming 1.0 = 1.0 K\n",
      "yt : [INFO     ] 2020-03-09 02:02:02,588 Parameters: current_time              = 1397929643292447.8\n",
      "yt : [INFO     ] 2020-03-09 02:02:02,589 Parameters: domain_dimensions         = [256 640   1]\n",
      "yt : [INFO     ] 2020-03-09 02:02:02,589 Parameters: domain_left_edge          = [-1.5450e+19 -3.8625e+19 -5.0000e-01]\n",
      "yt : [INFO     ] 2020-03-09 02:02:02,590 Parameters: domain_right_edge         = [1.5450e+19 3.8625e+19 5.0000e-01]\n",
      "yt : [INFO     ] 2020-03-09 02:02:02,591 Parameters: cosmological_simulation   = 0.0\n"
     ]
    },
    {
     "name": "stdout",
     "output_type": "stream",
     "text": [
      "mixing_layer.out1.00742\n"
     ]
    },
    {
     "name": "stderr",
     "output_type": "stream",
     "text": [
      "yt : [WARNING  ] 2020-03-09 02:02:02,627 Assuming 1.0 = 1.0 cm\n",
      "yt : [WARNING  ] 2020-03-09 02:02:02,629 Assuming 1.0 = 1.0 s\n",
      "yt : [WARNING  ] 2020-03-09 02:02:02,629 Assuming 1.0 = 1.0 g\n",
      "yt : [WARNING  ] 2020-03-09 02:02:02,630 Assuming 1.0 = 1.0 K\n",
      "yt : [INFO     ] 2020-03-09 02:02:02,643 Parameters: current_time              = 1399813541965479.0\n",
      "yt : [INFO     ] 2020-03-09 02:02:02,644 Parameters: domain_dimensions         = [256 640   1]\n",
      "yt : [INFO     ] 2020-03-09 02:02:02,645 Parameters: domain_left_edge          = [-1.5450e+19 -3.8625e+19 -5.0000e-01]\n",
      "yt : [INFO     ] 2020-03-09 02:02:02,646 Parameters: domain_right_edge         = [1.5450e+19 3.8625e+19 5.0000e-01]\n",
      "yt : [INFO     ] 2020-03-09 02:02:02,647 Parameters: cosmological_simulation   = 0.0\n"
     ]
    },
    {
     "name": "stdout",
     "output_type": "stream",
     "text": [
      "mixing_layer.out1.00743\n"
     ]
    },
    {
     "name": "stderr",
     "output_type": "stream",
     "text": [
      "yt : [WARNING  ] 2020-03-09 02:02:02,687 Assuming 1.0 = 1.0 cm\n",
      "yt : [WARNING  ] 2020-03-09 02:02:02,688 Assuming 1.0 = 1.0 s\n",
      "yt : [WARNING  ] 2020-03-09 02:02:02,689 Assuming 1.0 = 1.0 g\n",
      "yt : [WARNING  ] 2020-03-09 02:02:02,690 Assuming 1.0 = 1.0 K\n",
      "yt : [INFO     ] 2020-03-09 02:02:02,703 Parameters: current_time              = 1401696282569714.0\n",
      "yt : [INFO     ] 2020-03-09 02:02:02,703 Parameters: domain_dimensions         = [256 640   1]\n",
      "yt : [INFO     ] 2020-03-09 02:02:02,704 Parameters: domain_left_edge          = [-1.5450e+19 -3.8625e+19 -5.0000e-01]\n",
      "yt : [INFO     ] 2020-03-09 02:02:02,706 Parameters: domain_right_edge         = [1.5450e+19 3.8625e+19 5.0000e-01]\n",
      "yt : [INFO     ] 2020-03-09 02:02:02,707 Parameters: cosmological_simulation   = 0.0\n"
     ]
    },
    {
     "name": "stdout",
     "output_type": "stream",
     "text": [
      "mixing_layer.out1.00744\n"
     ]
    },
    {
     "name": "stderr",
     "output_type": "stream",
     "text": [
      "yt : [WARNING  ] 2020-03-09 02:02:02,740 Assuming 1.0 = 1.0 cm\n",
      "yt : [WARNING  ] 2020-03-09 02:02:02,740 Assuming 1.0 = 1.0 s\n",
      "yt : [WARNING  ] 2020-03-09 02:02:02,741 Assuming 1.0 = 1.0 g\n",
      "yt : [WARNING  ] 2020-03-09 02:02:02,742 Assuming 1.0 = 1.0 K\n",
      "yt : [INFO     ] 2020-03-09 02:02:02,755 Parameters: current_time              = 1403582243201884.0\n",
      "yt : [INFO     ] 2020-03-09 02:02:02,756 Parameters: domain_dimensions         = [256 640   1]\n",
      "yt : [INFO     ] 2020-03-09 02:02:02,757 Parameters: domain_left_edge          = [-1.5450e+19 -3.8625e+19 -5.0000e-01]\n",
      "yt : [INFO     ] 2020-03-09 02:02:02,758 Parameters: domain_right_edge         = [1.5450e+19 3.8625e+19 5.0000e-01]\n",
      "yt : [INFO     ] 2020-03-09 02:02:02,759 Parameters: cosmological_simulation   = 0.0\n"
     ]
    },
    {
     "name": "stdout",
     "output_type": "stream",
     "text": [
      "mixing_layer.out1.00745\n"
     ]
    },
    {
     "name": "stderr",
     "output_type": "stream",
     "text": [
      "yt : [WARNING  ] 2020-03-09 02:02:02,794 Assuming 1.0 = 1.0 cm\n",
      "yt : [WARNING  ] 2020-03-09 02:02:02,796 Assuming 1.0 = 1.0 s\n",
      "yt : [WARNING  ] 2020-03-09 02:02:02,796 Assuming 1.0 = 1.0 g\n",
      "yt : [WARNING  ] 2020-03-09 02:02:02,798 Assuming 1.0 = 1.0 K\n",
      "yt : [INFO     ] 2020-03-09 02:02:02,810 Parameters: current_time              = 1405464336364429.0\n",
      "yt : [INFO     ] 2020-03-09 02:02:02,810 Parameters: domain_dimensions         = [256 640   1]\n",
      "yt : [INFO     ] 2020-03-09 02:02:02,811 Parameters: domain_left_edge          = [-1.5450e+19 -3.8625e+19 -5.0000e-01]\n",
      "yt : [INFO     ] 2020-03-09 02:02:02,812 Parameters: domain_right_edge         = [1.5450e+19 3.8625e+19 5.0000e-01]\n",
      "yt : [INFO     ] 2020-03-09 02:02:02,813 Parameters: cosmological_simulation   = 0.0\n"
     ]
    },
    {
     "name": "stdout",
     "output_type": "stream",
     "text": [
      "mixing_layer.out1.00746\n"
     ]
    },
    {
     "name": "stderr",
     "output_type": "stream",
     "text": [
      "yt : [WARNING  ] 2020-03-09 02:02:02,846 Assuming 1.0 = 1.0 cm\n",
      "yt : [WARNING  ] 2020-03-09 02:02:02,847 Assuming 1.0 = 1.0 s\n",
      "yt : [WARNING  ] 2020-03-09 02:02:02,848 Assuming 1.0 = 1.0 g\n",
      "yt : [WARNING  ] 2020-03-09 02:02:02,849 Assuming 1.0 = 1.0 K\n",
      "yt : [INFO     ] 2020-03-09 02:02:02,863 Parameters: current_time              = 1407349818838140.8\n",
      "yt : [INFO     ] 2020-03-09 02:02:02,864 Parameters: domain_dimensions         = [256 640   1]\n",
      "yt : [INFO     ] 2020-03-09 02:02:02,864 Parameters: domain_left_edge          = [-1.5450e+19 -3.8625e+19 -5.0000e-01]\n",
      "yt : [INFO     ] 2020-03-09 02:02:02,866 Parameters: domain_right_edge         = [1.5450e+19 3.8625e+19 5.0000e-01]\n",
      "yt : [INFO     ] 2020-03-09 02:02:02,866 Parameters: cosmological_simulation   = 0.0\n"
     ]
    },
    {
     "name": "stdout",
     "output_type": "stream",
     "text": [
      "mixing_layer.out1.00747\n"
     ]
    },
    {
     "name": "stderr",
     "output_type": "stream",
     "text": [
      "yt : [WARNING  ] 2020-03-09 02:02:02,900 Assuming 1.0 = 1.0 cm\n",
      "yt : [WARNING  ] 2020-03-09 02:02:02,901 Assuming 1.0 = 1.0 s\n",
      "yt : [WARNING  ] 2020-03-09 02:02:02,902 Assuming 1.0 = 1.0 g\n",
      "yt : [WARNING  ] 2020-03-09 02:02:02,903 Assuming 1.0 = 1.0 K\n",
      "yt : [INFO     ] 2020-03-09 02:02:02,914 Parameters: current_time              = 1409233165604300.8\n",
      "yt : [INFO     ] 2020-03-09 02:02:02,915 Parameters: domain_dimensions         = [256 640   1]\n",
      "yt : [INFO     ] 2020-03-09 02:02:02,916 Parameters: domain_left_edge          = [-1.5450e+19 -3.8625e+19 -5.0000e-01]\n",
      "yt : [INFO     ] 2020-03-09 02:02:02,917 Parameters: domain_right_edge         = [1.5450e+19 3.8625e+19 5.0000e-01]\n",
      "yt : [INFO     ] 2020-03-09 02:02:02,918 Parameters: cosmological_simulation   = 0.0\n"
     ]
    },
    {
     "name": "stdout",
     "output_type": "stream",
     "text": [
      "mixing_layer.out1.00748\n"
     ]
    },
    {
     "name": "stderr",
     "output_type": "stream",
     "text": [
      "yt : [WARNING  ] 2020-03-09 02:02:02,954 Assuming 1.0 = 1.0 cm\n",
      "yt : [WARNING  ] 2020-03-09 02:02:02,955 Assuming 1.0 = 1.0 s\n",
      "yt : [WARNING  ] 2020-03-09 02:02:02,956 Assuming 1.0 = 1.0 g\n",
      "yt : [WARNING  ] 2020-03-09 02:02:02,957 Assuming 1.0 = 1.0 K\n",
      "yt : [INFO     ] 2020-03-09 02:02:02,968 Parameters: current_time              = 1411116558514850.5\n",
      "yt : [INFO     ] 2020-03-09 02:02:02,969 Parameters: domain_dimensions         = [256 640   1]\n",
      "yt : [INFO     ] 2020-03-09 02:02:02,970 Parameters: domain_left_edge          = [-1.5450e+19 -3.8625e+19 -5.0000e-01]\n",
      "yt : [INFO     ] 2020-03-09 02:02:02,971 Parameters: domain_right_edge         = [1.5450e+19 3.8625e+19 5.0000e-01]\n",
      "yt : [INFO     ] 2020-03-09 02:02:02,971 Parameters: cosmological_simulation   = 0.0\n"
     ]
    },
    {
     "name": "stdout",
     "output_type": "stream",
     "text": [
      "mixing_layer.out1.00749\n"
     ]
    },
    {
     "name": "stderr",
     "output_type": "stream",
     "text": [
      "yt : [WARNING  ] 2020-03-09 02:02:03,005 Assuming 1.0 = 1.0 cm\n",
      "yt : [WARNING  ] 2020-03-09 02:02:03,006 Assuming 1.0 = 1.0 s\n",
      "yt : [WARNING  ] 2020-03-09 02:02:03,007 Assuming 1.0 = 1.0 g\n",
      "yt : [WARNING  ] 2020-03-09 02:02:03,008 Assuming 1.0 = 1.0 K\n",
      "yt : [INFO     ] 2020-03-09 02:02:03,020 Parameters: current_time              = 1413000002460357.0\n",
      "yt : [INFO     ] 2020-03-09 02:02:03,021 Parameters: domain_dimensions         = [256 640   1]\n",
      "yt : [INFO     ] 2020-03-09 02:02:03,022 Parameters: domain_left_edge          = [-1.5450e+19 -3.8625e+19 -5.0000e-01]\n",
      "yt : [INFO     ] 2020-03-09 02:02:03,023 Parameters: domain_right_edge         = [1.5450e+19 3.8625e+19 5.0000e-01]\n",
      "yt : [INFO     ] 2020-03-09 02:02:03,024 Parameters: cosmological_simulation   = 0.0\n"
     ]
    },
    {
     "name": "stdout",
     "output_type": "stream",
     "text": [
      "mixing_layer.out1.00750\n"
     ]
    },
    {
     "name": "stderr",
     "output_type": "stream",
     "text": [
      "yt : [WARNING  ] 2020-03-09 02:02:03,061 Assuming 1.0 = 1.0 cm\n",
      "yt : [WARNING  ] 2020-03-09 02:02:03,062 Assuming 1.0 = 1.0 s\n",
      "yt : [WARNING  ] 2020-03-09 02:02:03,062 Assuming 1.0 = 1.0 g\n",
      "yt : [WARNING  ] 2020-03-09 02:02:03,063 Assuming 1.0 = 1.0 K\n",
      "yt : [INFO     ] 2020-03-09 02:02:03,075 Parameters: current_time              = 1414884162498487.5\n",
      "yt : [INFO     ] 2020-03-09 02:02:03,076 Parameters: domain_dimensions         = [256 640   1]\n",
      "yt : [INFO     ] 2020-03-09 02:02:03,077 Parameters: domain_left_edge          = [-1.5450e+19 -3.8625e+19 -5.0000e-01]\n",
      "yt : [INFO     ] 2020-03-09 02:02:03,078 Parameters: domain_right_edge         = [1.5450e+19 3.8625e+19 5.0000e-01]\n",
      "yt : [INFO     ] 2020-03-09 02:02:03,078 Parameters: cosmological_simulation   = 0.0\n"
     ]
    },
    {
     "name": "stdout",
     "output_type": "stream",
     "text": [
      "mixing_layer.out1.00751\n"
     ]
    },
    {
     "name": "stderr",
     "output_type": "stream",
     "text": [
      "yt : [WARNING  ] 2020-03-09 02:02:03,112 Assuming 1.0 = 1.0 cm\n",
      "yt : [WARNING  ] 2020-03-09 02:02:03,112 Assuming 1.0 = 1.0 s\n",
      "yt : [WARNING  ] 2020-03-09 02:02:03,114 Assuming 1.0 = 1.0 g\n",
      "yt : [WARNING  ] 2020-03-09 02:02:03,115 Assuming 1.0 = 1.0 K\n",
      "yt : [INFO     ] 2020-03-09 02:02:03,126 Parameters: current_time              = 1416768229896226.5\n",
      "yt : [INFO     ] 2020-03-09 02:02:03,126 Parameters: domain_dimensions         = [256 640   1]\n",
      "yt : [INFO     ] 2020-03-09 02:02:03,127 Parameters: domain_left_edge          = [-1.5450e+19 -3.8625e+19 -5.0000e-01]\n",
      "yt : [INFO     ] 2020-03-09 02:02:03,128 Parameters: domain_right_edge         = [1.5450e+19 3.8625e+19 5.0000e-01]\n",
      "yt : [INFO     ] 2020-03-09 02:02:03,129 Parameters: cosmological_simulation   = 0.0\n"
     ]
    },
    {
     "name": "stdout",
     "output_type": "stream",
     "text": [
      "mixing_layer.out1.00752\n"
     ]
    },
    {
     "name": "stderr",
     "output_type": "stream",
     "text": [
      "yt : [WARNING  ] 2020-03-09 02:02:03,163 Assuming 1.0 = 1.0 cm\n",
      "yt : [WARNING  ] 2020-03-09 02:02:03,164 Assuming 1.0 = 1.0 s\n",
      "yt : [WARNING  ] 2020-03-09 02:02:03,165 Assuming 1.0 = 1.0 g\n",
      "yt : [WARNING  ] 2020-03-09 02:02:03,166 Assuming 1.0 = 1.0 K\n",
      "yt : [INFO     ] 2020-03-09 02:02:03,178 Parameters: current_time              = 1418652975755557.2\n",
      "yt : [INFO     ] 2020-03-09 02:02:03,179 Parameters: domain_dimensions         = [256 640   1]\n",
      "yt : [INFO     ] 2020-03-09 02:02:03,179 Parameters: domain_left_edge          = [-1.5450e+19 -3.8625e+19 -5.0000e-01]\n",
      "yt : [INFO     ] 2020-03-09 02:02:03,180 Parameters: domain_right_edge         = [1.5450e+19 3.8625e+19 5.0000e-01]\n",
      "yt : [INFO     ] 2020-03-09 02:02:03,181 Parameters: cosmological_simulation   = 0.0\n"
     ]
    },
    {
     "name": "stdout",
     "output_type": "stream",
     "text": [
      "mixing_layer.out1.00753\n"
     ]
    },
    {
     "name": "stderr",
     "output_type": "stream",
     "text": [
      "yt : [WARNING  ] 2020-03-09 02:02:03,218 Assuming 1.0 = 1.0 cm\n",
      "yt : [WARNING  ] 2020-03-09 02:02:03,219 Assuming 1.0 = 1.0 s\n",
      "yt : [WARNING  ] 2020-03-09 02:02:03,220 Assuming 1.0 = 1.0 g\n",
      "yt : [WARNING  ] 2020-03-09 02:02:03,221 Assuming 1.0 = 1.0 K\n",
      "yt : [INFO     ] 2020-03-09 02:02:03,232 Parameters: current_time              = 1420536571024764.0\n",
      "yt : [INFO     ] 2020-03-09 02:02:03,233 Parameters: domain_dimensions         = [256 640   1]\n",
      "yt : [INFO     ] 2020-03-09 02:02:03,233 Parameters: domain_left_edge          = [-1.5450e+19 -3.8625e+19 -5.0000e-01]\n",
      "yt : [INFO     ] 2020-03-09 02:02:03,234 Parameters: domain_right_edge         = [1.5450e+19 3.8625e+19 5.0000e-01]\n",
      "yt : [INFO     ] 2020-03-09 02:02:03,235 Parameters: cosmological_simulation   = 0.0\n"
     ]
    },
    {
     "name": "stdout",
     "output_type": "stream",
     "text": [
      "mixing_layer.out1.00754\n"
     ]
    },
    {
     "name": "stderr",
     "output_type": "stream",
     "text": [
      "yt : [WARNING  ] 2020-03-09 02:02:03,270 Assuming 1.0 = 1.0 cm\n",
      "yt : [WARNING  ] 2020-03-09 02:02:03,271 Assuming 1.0 = 1.0 s\n",
      "yt : [WARNING  ] 2020-03-09 02:02:03,272 Assuming 1.0 = 1.0 g\n",
      "yt : [WARNING  ] 2020-03-09 02:02:03,272 Assuming 1.0 = 1.0 K\n",
      "yt : [INFO     ] 2020-03-09 02:02:03,285 Parameters: current_time              = 1422422698109305.0\n",
      "yt : [INFO     ] 2020-03-09 02:02:03,285 Parameters: domain_dimensions         = [256 640   1]\n",
      "yt : [INFO     ] 2020-03-09 02:02:03,286 Parameters: domain_left_edge          = [-1.5450e+19 -3.8625e+19 -5.0000e-01]\n",
      "yt : [INFO     ] 2020-03-09 02:02:03,288 Parameters: domain_right_edge         = [1.5450e+19 3.8625e+19 5.0000e-01]\n",
      "yt : [INFO     ] 2020-03-09 02:02:03,289 Parameters: cosmological_simulation   = 0.0\n"
     ]
    },
    {
     "name": "stdout",
     "output_type": "stream",
     "text": [
      "mixing_layer.out1.00755\n"
     ]
    },
    {
     "name": "stderr",
     "output_type": "stream",
     "text": [
      "yt : [WARNING  ] 2020-03-09 02:02:03,322 Assuming 1.0 = 1.0 cm\n",
      "yt : [WARNING  ] 2020-03-09 02:02:03,323 Assuming 1.0 = 1.0 s\n",
      "yt : [WARNING  ] 2020-03-09 02:02:03,324 Assuming 1.0 = 1.0 g\n",
      "yt : [WARNING  ] 2020-03-09 02:02:03,325 Assuming 1.0 = 1.0 K\n",
      "yt : [INFO     ] 2020-03-09 02:02:03,336 Parameters: current_time              = 1424305704154941.0\n",
      "yt : [INFO     ] 2020-03-09 02:02:03,337 Parameters: domain_dimensions         = [256 640   1]\n",
      "yt : [INFO     ] 2020-03-09 02:02:03,338 Parameters: domain_left_edge          = [-1.5450e+19 -3.8625e+19 -5.0000e-01]\n",
      "yt : [INFO     ] 2020-03-09 02:02:03,339 Parameters: domain_right_edge         = [1.5450e+19 3.8625e+19 5.0000e-01]\n",
      "yt : [INFO     ] 2020-03-09 02:02:03,340 Parameters: cosmological_simulation   = 0.0\n"
     ]
    },
    {
     "name": "stdout",
     "output_type": "stream",
     "text": [
      "mixing_layer.out1.00756\n"
     ]
    },
    {
     "name": "stderr",
     "output_type": "stream",
     "text": [
      "yt : [WARNING  ] 2020-03-09 02:02:03,374 Assuming 1.0 = 1.0 cm\n",
      "yt : [WARNING  ] 2020-03-09 02:02:03,375 Assuming 1.0 = 1.0 s\n",
      "yt : [WARNING  ] 2020-03-09 02:02:03,376 Assuming 1.0 = 1.0 g\n",
      "yt : [WARNING  ] 2020-03-09 02:02:03,376 Assuming 1.0 = 1.0 K\n",
      "yt : [INFO     ] 2020-03-09 02:02:03,388 Parameters: current_time              = 1426190360283920.0\n",
      "yt : [INFO     ] 2020-03-09 02:02:03,389 Parameters: domain_dimensions         = [256 640   1]\n",
      "yt : [INFO     ] 2020-03-09 02:02:03,389 Parameters: domain_left_edge          = [-1.5450e+19 -3.8625e+19 -5.0000e-01]\n",
      "yt : [INFO     ] 2020-03-09 02:02:03,391 Parameters: domain_right_edge         = [1.5450e+19 3.8625e+19 5.0000e-01]\n",
      "yt : [INFO     ] 2020-03-09 02:02:03,392 Parameters: cosmological_simulation   = 0.0\n"
     ]
    },
    {
     "name": "stdout",
     "output_type": "stream",
     "text": [
      "mixing_layer.out1.00757\n"
     ]
    },
    {
     "name": "stderr",
     "output_type": "stream",
     "text": [
      "yt : [WARNING  ] 2020-03-09 02:02:03,427 Assuming 1.0 = 1.0 cm\n",
      "yt : [WARNING  ] 2020-03-09 02:02:03,429 Assuming 1.0 = 1.0 s\n",
      "yt : [WARNING  ] 2020-03-09 02:02:03,429 Assuming 1.0 = 1.0 g\n",
      "yt : [WARNING  ] 2020-03-09 02:02:03,430 Assuming 1.0 = 1.0 K\n",
      "yt : [INFO     ] 2020-03-09 02:02:03,442 Parameters: current_time              = 1428074526416846.8\n",
      "yt : [INFO     ] 2020-03-09 02:02:03,442 Parameters: domain_dimensions         = [256 640   1]\n",
      "yt : [INFO     ] 2020-03-09 02:02:03,443 Parameters: domain_left_edge          = [-1.5450e+19 -3.8625e+19 -5.0000e-01]\n",
      "yt : [INFO     ] 2020-03-09 02:02:03,445 Parameters: domain_right_edge         = [1.5450e+19 3.8625e+19 5.0000e-01]\n",
      "yt : [INFO     ] 2020-03-09 02:02:03,445 Parameters: cosmological_simulation   = 0.0\n"
     ]
    },
    {
     "name": "stdout",
     "output_type": "stream",
     "text": [
      "mixing_layer.out1.00758\n"
     ]
    },
    {
     "name": "stderr",
     "output_type": "stream",
     "text": [
      "yt : [WARNING  ] 2020-03-09 02:02:03,480 Assuming 1.0 = 1.0 cm\n",
      "yt : [WARNING  ] 2020-03-09 02:02:03,481 Assuming 1.0 = 1.0 s\n",
      "yt : [WARNING  ] 2020-03-09 02:02:03,482 Assuming 1.0 = 1.0 g\n",
      "yt : [WARNING  ] 2020-03-09 02:02:03,483 Assuming 1.0 = 1.0 K\n",
      "yt : [INFO     ] 2020-03-09 02:02:03,494 Parameters: current_time              = 1429956094294508.0\n",
      "yt : [INFO     ] 2020-03-09 02:02:03,495 Parameters: domain_dimensions         = [256 640   1]\n",
      "yt : [INFO     ] 2020-03-09 02:02:03,496 Parameters: domain_left_edge          = [-1.5450e+19 -3.8625e+19 -5.0000e-01]\n",
      "yt : [INFO     ] 2020-03-09 02:02:03,496 Parameters: domain_right_edge         = [1.5450e+19 3.8625e+19 5.0000e-01]\n",
      "yt : [INFO     ] 2020-03-09 02:02:03,498 Parameters: cosmological_simulation   = 0.0\n"
     ]
    },
    {
     "name": "stdout",
     "output_type": "stream",
     "text": [
      "mixing_layer.out1.00759\n"
     ]
    },
    {
     "name": "stderr",
     "output_type": "stream",
     "text": [
      "yt : [WARNING  ] 2020-03-09 02:02:03,533 Assuming 1.0 = 1.0 cm\n",
      "yt : [WARNING  ] 2020-03-09 02:02:03,534 Assuming 1.0 = 1.0 s\n",
      "yt : [WARNING  ] 2020-03-09 02:02:03,535 Assuming 1.0 = 1.0 g\n",
      "yt : [WARNING  ] 2020-03-09 02:02:03,536 Assuming 1.0 = 1.0 K\n",
      "yt : [INFO     ] 2020-03-09 02:02:03,548 Parameters: current_time              = 1431841488121214.8\n",
      "yt : [INFO     ] 2020-03-09 02:02:03,549 Parameters: domain_dimensions         = [256 640   1]\n",
      "yt : [INFO     ] 2020-03-09 02:02:03,549 Parameters: domain_left_edge          = [-1.5450e+19 -3.8625e+19 -5.0000e-01]\n",
      "yt : [INFO     ] 2020-03-09 02:02:03,550 Parameters: domain_right_edge         = [1.5450e+19 3.8625e+19 5.0000e-01]\n",
      "yt : [INFO     ] 2020-03-09 02:02:03,551 Parameters: cosmological_simulation   = 0.0\n"
     ]
    },
    {
     "name": "stdout",
     "output_type": "stream",
     "text": [
      "mixing_layer.out1.00760\n"
     ]
    },
    {
     "name": "stderr",
     "output_type": "stream",
     "text": [
      "yt : [WARNING  ] 2020-03-09 02:02:03,587 Assuming 1.0 = 1.0 cm\n",
      "yt : [WARNING  ] 2020-03-09 02:02:03,588 Assuming 1.0 = 1.0 s\n",
      "yt : [WARNING  ] 2020-03-09 02:02:03,589 Assuming 1.0 = 1.0 g\n",
      "yt : [WARNING  ] 2020-03-09 02:02:03,590 Assuming 1.0 = 1.0 K\n",
      "yt : [INFO     ] 2020-03-09 02:02:03,601 Parameters: current_time              = 1433725380422186.5\n",
      "yt : [INFO     ] 2020-03-09 02:02:03,602 Parameters: domain_dimensions         = [256 640   1]\n",
      "yt : [INFO     ] 2020-03-09 02:02:03,602 Parameters: domain_left_edge          = [-1.5450e+19 -3.8625e+19 -5.0000e-01]\n",
      "yt : [INFO     ] 2020-03-09 02:02:03,604 Parameters: domain_right_edge         = [1.5450e+19 3.8625e+19 5.0000e-01]\n",
      "yt : [INFO     ] 2020-03-09 02:02:03,605 Parameters: cosmological_simulation   = 0.0\n"
     ]
    },
    {
     "name": "stdout",
     "output_type": "stream",
     "text": [
      "mixing_layer.out1.00761\n"
     ]
    },
    {
     "name": "stderr",
     "output_type": "stream",
     "text": [
      "yt : [WARNING  ] 2020-03-09 02:02:03,641 Assuming 1.0 = 1.0 cm\n",
      "yt : [WARNING  ] 2020-03-09 02:02:03,642 Assuming 1.0 = 1.0 s\n",
      "yt : [WARNING  ] 2020-03-09 02:02:03,643 Assuming 1.0 = 1.0 g\n",
      "yt : [WARNING  ] 2020-03-09 02:02:03,644 Assuming 1.0 = 1.0 K\n",
      "yt : [INFO     ] 2020-03-09 02:02:03,658 Parameters: current_time              = 1435608174171704.5\n",
      "yt : [INFO     ] 2020-03-09 02:02:03,659 Parameters: domain_dimensions         = [256 640   1]\n",
      "yt : [INFO     ] 2020-03-09 02:02:03,660 Parameters: domain_left_edge          = [-1.5450e+19 -3.8625e+19 -5.0000e-01]\n",
      "yt : [INFO     ] 2020-03-09 02:02:03,661 Parameters: domain_right_edge         = [1.5450e+19 3.8625e+19 5.0000e-01]\n",
      "yt : [INFO     ] 2020-03-09 02:02:03,662 Parameters: cosmological_simulation   = 0.0\n"
     ]
    },
    {
     "name": "stdout",
     "output_type": "stream",
     "text": [
      "mixing_layer.out1.00762\n"
     ]
    },
    {
     "name": "stderr",
     "output_type": "stream",
     "text": [
      "yt : [WARNING  ] 2020-03-09 02:02:03,701 Assuming 1.0 = 1.0 cm\n",
      "yt : [WARNING  ] 2020-03-09 02:02:03,703 Assuming 1.0 = 1.0 s\n",
      "yt : [WARNING  ] 2020-03-09 02:02:03,704 Assuming 1.0 = 1.0 g\n",
      "yt : [WARNING  ] 2020-03-09 02:02:03,706 Assuming 1.0 = 1.0 K\n",
      "yt : [INFO     ] 2020-03-09 02:02:03,721 Parameters: current_time              = 1437492538528793.8\n",
      "yt : [INFO     ] 2020-03-09 02:02:03,722 Parameters: domain_dimensions         = [256 640   1]\n",
      "yt : [INFO     ] 2020-03-09 02:02:03,723 Parameters: domain_left_edge          = [-1.5450e+19 -3.8625e+19 -5.0000e-01]\n",
      "yt : [INFO     ] 2020-03-09 02:02:03,724 Parameters: domain_right_edge         = [1.5450e+19 3.8625e+19 5.0000e-01]\n",
      "yt : [INFO     ] 2020-03-09 02:02:03,725 Parameters: cosmological_simulation   = 0.0\n"
     ]
    },
    {
     "name": "stdout",
     "output_type": "stream",
     "text": [
      "mixing_layer.out1.00763\n"
     ]
    },
    {
     "name": "stderr",
     "output_type": "stream",
     "text": [
      "yt : [WARNING  ] 2020-03-09 02:02:03,771 Assuming 1.0 = 1.0 cm\n",
      "yt : [WARNING  ] 2020-03-09 02:02:03,772 Assuming 1.0 = 1.0 s\n",
      "yt : [WARNING  ] 2020-03-09 02:02:03,773 Assuming 1.0 = 1.0 g\n",
      "yt : [WARNING  ] 2020-03-09 02:02:03,774 Assuming 1.0 = 1.0 K\n",
      "yt : [INFO     ] 2020-03-09 02:02:03,794 Parameters: current_time              = 1439378368937293.0\n",
      "yt : [INFO     ] 2020-03-09 02:02:03,795 Parameters: domain_dimensions         = [256 640   1]\n",
      "yt : [INFO     ] 2020-03-09 02:02:03,796 Parameters: domain_left_edge          = [-1.5450e+19 -3.8625e+19 -5.0000e-01]\n",
      "yt : [INFO     ] 2020-03-09 02:02:03,797 Parameters: domain_right_edge         = [1.5450e+19 3.8625e+19 5.0000e-01]\n",
      "yt : [INFO     ] 2020-03-09 02:02:03,798 Parameters: cosmological_simulation   = 0.0\n"
     ]
    },
    {
     "name": "stdout",
     "output_type": "stream",
     "text": [
      "mixing_layer.out1.00764\n"
     ]
    },
    {
     "name": "stderr",
     "output_type": "stream",
     "text": [
      "yt : [WARNING  ] 2020-03-09 02:02:03,839 Assuming 1.0 = 1.0 cm\n",
      "yt : [WARNING  ] 2020-03-09 02:02:03,840 Assuming 1.0 = 1.0 s\n",
      "yt : [WARNING  ] 2020-03-09 02:02:03,841 Assuming 1.0 = 1.0 g\n",
      "yt : [WARNING  ] 2020-03-09 02:02:03,842 Assuming 1.0 = 1.0 K\n",
      "yt : [INFO     ] 2020-03-09 02:02:03,855 Parameters: current_time              = 1441261181436709.8\n",
      "yt : [INFO     ] 2020-03-09 02:02:03,856 Parameters: domain_dimensions         = [256 640   1]\n",
      "yt : [INFO     ] 2020-03-09 02:02:03,857 Parameters: domain_left_edge          = [-1.5450e+19 -3.8625e+19 -5.0000e-01]\n",
      "yt : [INFO     ] 2020-03-09 02:02:03,858 Parameters: domain_right_edge         = [1.5450e+19 3.8625e+19 5.0000e-01]\n",
      "yt : [INFO     ] 2020-03-09 02:02:03,858 Parameters: cosmological_simulation   = 0.0\n"
     ]
    },
    {
     "name": "stdout",
     "output_type": "stream",
     "text": [
      "mixing_layer.out1.00765\n"
     ]
    },
    {
     "name": "stderr",
     "output_type": "stream",
     "text": [
      "yt : [WARNING  ] 2020-03-09 02:02:03,909 Assuming 1.0 = 1.0 cm\n",
      "yt : [WARNING  ] 2020-03-09 02:02:03,910 Assuming 1.0 = 1.0 s\n",
      "yt : [WARNING  ] 2020-03-09 02:02:03,911 Assuming 1.0 = 1.0 g\n",
      "yt : [WARNING  ] 2020-03-09 02:02:03,912 Assuming 1.0 = 1.0 K\n",
      "yt : [INFO     ] 2020-03-09 02:02:03,925 Parameters: current_time              = 1443144291763052.0\n",
      "yt : [INFO     ] 2020-03-09 02:02:03,926 Parameters: domain_dimensions         = [256 640   1]\n",
      "yt : [INFO     ] 2020-03-09 02:02:03,927 Parameters: domain_left_edge          = [-1.5450e+19 -3.8625e+19 -5.0000e-01]\n",
      "yt : [INFO     ] 2020-03-09 02:02:03,928 Parameters: domain_right_edge         = [1.5450e+19 3.8625e+19 5.0000e-01]\n",
      "yt : [INFO     ] 2020-03-09 02:02:03,929 Parameters: cosmological_simulation   = 0.0\n"
     ]
    },
    {
     "name": "stdout",
     "output_type": "stream",
     "text": [
      "mixing_layer.out1.00766\n"
     ]
    },
    {
     "name": "stderr",
     "output_type": "stream",
     "text": [
      "yt : [WARNING  ] 2020-03-09 02:02:03,965 Assuming 1.0 = 1.0 cm\n",
      "yt : [WARNING  ] 2020-03-09 02:02:03,966 Assuming 1.0 = 1.0 s\n",
      "yt : [WARNING  ] 2020-03-09 02:02:03,967 Assuming 1.0 = 1.0 g\n",
      "yt : [WARNING  ] 2020-03-09 02:02:03,968 Assuming 1.0 = 1.0 K\n",
      "yt : [INFO     ] 2020-03-09 02:02:03,980 Parameters: current_time              = 1445029530293845.0\n",
      "yt : [INFO     ] 2020-03-09 02:02:03,980 Parameters: domain_dimensions         = [256 640   1]\n",
      "yt : [INFO     ] 2020-03-09 02:02:03,981 Parameters: domain_left_edge          = [-1.5450e+19 -3.8625e+19 -5.0000e-01]\n",
      "yt : [INFO     ] 2020-03-09 02:02:03,982 Parameters: domain_right_edge         = [1.5450e+19 3.8625e+19 5.0000e-01]\n",
      "yt : [INFO     ] 2020-03-09 02:02:03,983 Parameters: cosmological_simulation   = 0.0\n"
     ]
    },
    {
     "name": "stdout",
     "output_type": "stream",
     "text": [
      "mixing_layer.out1.00767\n"
     ]
    },
    {
     "name": "stderr",
     "output_type": "stream",
     "text": [
      "yt : [WARNING  ] 2020-03-09 02:02:04,016 Assuming 1.0 = 1.0 cm\n",
      "yt : [WARNING  ] 2020-03-09 02:02:04,017 Assuming 1.0 = 1.0 s\n",
      "yt : [WARNING  ] 2020-03-09 02:02:04,018 Assuming 1.0 = 1.0 g\n",
      "yt : [WARNING  ] 2020-03-09 02:02:04,019 Assuming 1.0 = 1.0 K\n",
      "yt : [INFO     ] 2020-03-09 02:02:04,031 Parameters: current_time              = 1446914344734185.8\n",
      "yt : [INFO     ] 2020-03-09 02:02:04,033 Parameters: domain_dimensions         = [256 640   1]\n",
      "yt : [INFO     ] 2020-03-09 02:02:04,033 Parameters: domain_left_edge          = [-1.5450e+19 -3.8625e+19 -5.0000e-01]\n",
      "yt : [INFO     ] 2020-03-09 02:02:04,034 Parameters: domain_right_edge         = [1.5450e+19 3.8625e+19 5.0000e-01]\n",
      "yt : [INFO     ] 2020-03-09 02:02:04,035 Parameters: cosmological_simulation   = 0.0\n"
     ]
    },
    {
     "name": "stdout",
     "output_type": "stream",
     "text": [
      "mixing_layer.out1.00768\n"
     ]
    },
    {
     "name": "stderr",
     "output_type": "stream",
     "text": [
      "yt : [WARNING  ] 2020-03-09 02:02:04,068 Assuming 1.0 = 1.0 cm\n",
      "yt : [WARNING  ] 2020-03-09 02:02:04,069 Assuming 1.0 = 1.0 s\n",
      "yt : [WARNING  ] 2020-03-09 02:02:04,070 Assuming 1.0 = 1.0 g\n",
      "yt : [WARNING  ] 2020-03-09 02:02:04,070 Assuming 1.0 = 1.0 K\n",
      "yt : [INFO     ] 2020-03-09 02:02:04,082 Parameters: current_time              = 1448797362560808.2\n",
      "yt : [INFO     ] 2020-03-09 02:02:04,083 Parameters: domain_dimensions         = [256 640   1]\n",
      "yt : [INFO     ] 2020-03-09 02:02:04,084 Parameters: domain_left_edge          = [-1.5450e+19 -3.8625e+19 -5.0000e-01]\n",
      "yt : [INFO     ] 2020-03-09 02:02:04,085 Parameters: domain_right_edge         = [1.5450e+19 3.8625e+19 5.0000e-01]\n",
      "yt : [INFO     ] 2020-03-09 02:02:04,086 Parameters: cosmological_simulation   = 0.0\n"
     ]
    },
    {
     "name": "stdout",
     "output_type": "stream",
     "text": [
      "mixing_layer.out1.00769\n"
     ]
    },
    {
     "name": "stderr",
     "output_type": "stream",
     "text": [
      "yt : [WARNING  ] 2020-03-09 02:02:04,119 Assuming 1.0 = 1.0 cm\n",
      "yt : [WARNING  ] 2020-03-09 02:02:04,120 Assuming 1.0 = 1.0 s\n",
      "yt : [WARNING  ] 2020-03-09 02:02:04,121 Assuming 1.0 = 1.0 g\n",
      "yt : [WARNING  ] 2020-03-09 02:02:04,122 Assuming 1.0 = 1.0 K\n",
      "yt : [INFO     ] 2020-03-09 02:02:04,134 Parameters: current_time              = 1450682308675029.5\n",
      "yt : [INFO     ] 2020-03-09 02:02:04,135 Parameters: domain_dimensions         = [256 640   1]\n",
      "yt : [INFO     ] 2020-03-09 02:02:04,136 Parameters: domain_left_edge          = [-1.5450e+19 -3.8625e+19 -5.0000e-01]\n",
      "yt : [INFO     ] 2020-03-09 02:02:04,137 Parameters: domain_right_edge         = [1.5450e+19 3.8625e+19 5.0000e-01]\n",
      "yt : [INFO     ] 2020-03-09 02:02:04,138 Parameters: cosmological_simulation   = 0.0\n"
     ]
    },
    {
     "name": "stdout",
     "output_type": "stream",
     "text": [
      "mixing_layer.out1.00770\n"
     ]
    },
    {
     "name": "stderr",
     "output_type": "stream",
     "text": [
      "yt : [WARNING  ] 2020-03-09 02:02:04,174 Assuming 1.0 = 1.0 cm\n",
      "yt : [WARNING  ] 2020-03-09 02:02:04,175 Assuming 1.0 = 1.0 s\n",
      "yt : [WARNING  ] 2020-03-09 02:02:04,176 Assuming 1.0 = 1.0 g\n",
      "yt : [WARNING  ] 2020-03-09 02:02:04,176 Assuming 1.0 = 1.0 K\n",
      "yt : [INFO     ] 2020-03-09 02:02:04,188 Parameters: current_time              = 1452566589515307.2\n",
      "yt : [INFO     ] 2020-03-09 02:02:04,189 Parameters: domain_dimensions         = [256 640   1]\n",
      "yt : [INFO     ] 2020-03-09 02:02:04,190 Parameters: domain_left_edge          = [-1.5450e+19 -3.8625e+19 -5.0000e-01]\n",
      "yt : [INFO     ] 2020-03-09 02:02:04,191 Parameters: domain_right_edge         = [1.5450e+19 3.8625e+19 5.0000e-01]\n",
      "yt : [INFO     ] 2020-03-09 02:02:04,192 Parameters: cosmological_simulation   = 0.0\n"
     ]
    },
    {
     "name": "stdout",
     "output_type": "stream",
     "text": [
      "mixing_layer.out1.00771\n"
     ]
    },
    {
     "name": "stderr",
     "output_type": "stream",
     "text": [
      "yt : [WARNING  ] 2020-03-09 02:02:04,228 Assuming 1.0 = 1.0 cm\n",
      "yt : [WARNING  ] 2020-03-09 02:02:04,229 Assuming 1.0 = 1.0 s\n",
      "yt : [WARNING  ] 2020-03-09 02:02:04,229 Assuming 1.0 = 1.0 g\n",
      "yt : [WARNING  ] 2020-03-09 02:02:04,230 Assuming 1.0 = 1.0 K\n",
      "yt : [INFO     ] 2020-03-09 02:02:04,243 Parameters: current_time              = 1454450599835515.0\n",
      "yt : [INFO     ] 2020-03-09 02:02:04,243 Parameters: domain_dimensions         = [256 640   1]\n",
      "yt : [INFO     ] 2020-03-09 02:02:04,244 Parameters: domain_left_edge          = [-1.5450e+19 -3.8625e+19 -5.0000e-01]\n",
      "yt : [INFO     ] 2020-03-09 02:02:04,245 Parameters: domain_right_edge         = [1.5450e+19 3.8625e+19 5.0000e-01]\n",
      "yt : [INFO     ] 2020-03-09 02:02:04,247 Parameters: cosmological_simulation   = 0.0\n"
     ]
    },
    {
     "name": "stdout",
     "output_type": "stream",
     "text": [
      "mixing_layer.out1.00772\n"
     ]
    },
    {
     "name": "stderr",
     "output_type": "stream",
     "text": [
      "yt : [WARNING  ] 2020-03-09 02:02:04,280 Assuming 1.0 = 1.0 cm\n",
      "yt : [WARNING  ] 2020-03-09 02:02:04,282 Assuming 1.0 = 1.0 s\n",
      "yt : [WARNING  ] 2020-03-09 02:02:04,283 Assuming 1.0 = 1.0 g\n",
      "yt : [WARNING  ] 2020-03-09 02:02:04,284 Assuming 1.0 = 1.0 K\n",
      "yt : [INFO     ] 2020-03-09 02:02:04,298 Parameters: current_time              = 1456332174499599.0\n",
      "yt : [INFO     ] 2020-03-09 02:02:04,299 Parameters: domain_dimensions         = [256 640   1]\n",
      "yt : [INFO     ] 2020-03-09 02:02:04,301 Parameters: domain_left_edge          = [-1.5450e+19 -3.8625e+19 -5.0000e-01]\n",
      "yt : [INFO     ] 2020-03-09 02:02:04,302 Parameters: domain_right_edge         = [1.5450e+19 3.8625e+19 5.0000e-01]\n",
      "yt : [INFO     ] 2020-03-09 02:02:04,303 Parameters: cosmological_simulation   = 0.0\n"
     ]
    },
    {
     "name": "stdout",
     "output_type": "stream",
     "text": [
      "mixing_layer.out1.00773\n"
     ]
    },
    {
     "name": "stderr",
     "output_type": "stream",
     "text": [
      "yt : [WARNING  ] 2020-03-09 02:02:04,337 Assuming 1.0 = 1.0 cm\n",
      "yt : [WARNING  ] 2020-03-09 02:02:04,339 Assuming 1.0 = 1.0 s\n",
      "yt : [WARNING  ] 2020-03-09 02:02:04,339 Assuming 1.0 = 1.0 g\n",
      "yt : [WARNING  ] 2020-03-09 02:02:04,340 Assuming 1.0 = 1.0 K\n",
      "yt : [INFO     ] 2020-03-09 02:02:04,351 Parameters: current_time              = 1458216442616290.5\n",
      "yt : [INFO     ] 2020-03-09 02:02:04,352 Parameters: domain_dimensions         = [256 640   1]\n",
      "yt : [INFO     ] 2020-03-09 02:02:04,353 Parameters: domain_left_edge          = [-1.5450e+19 -3.8625e+19 -5.0000e-01]\n",
      "yt : [INFO     ] 2020-03-09 02:02:04,354 Parameters: domain_right_edge         = [1.5450e+19 3.8625e+19 5.0000e-01]\n",
      "yt : [INFO     ] 2020-03-09 02:02:04,354 Parameters: cosmological_simulation   = 0.0\n"
     ]
    },
    {
     "name": "stdout",
     "output_type": "stream",
     "text": [
      "mixing_layer.out1.00774\n"
     ]
    },
    {
     "name": "stderr",
     "output_type": "stream",
     "text": [
      "yt : [WARNING  ] 2020-03-09 02:02:04,389 Assuming 1.0 = 1.0 cm\n",
      "yt : [WARNING  ] 2020-03-09 02:02:04,390 Assuming 1.0 = 1.0 s\n",
      "yt : [WARNING  ] 2020-03-09 02:02:04,391 Assuming 1.0 = 1.0 g\n",
      "yt : [WARNING  ] 2020-03-09 02:02:04,393 Assuming 1.0 = 1.0 K\n",
      "yt : [INFO     ] 2020-03-09 02:02:04,405 Parameters: current_time              = 1460100437533582.2\n",
      "yt : [INFO     ] 2020-03-09 02:02:04,406 Parameters: domain_dimensions         = [256 640   1]\n",
      "yt : [INFO     ] 2020-03-09 02:02:04,406 Parameters: domain_left_edge          = [-1.5450e+19 -3.8625e+19 -5.0000e-01]\n",
      "yt : [INFO     ] 2020-03-09 02:02:04,408 Parameters: domain_right_edge         = [1.5450e+19 3.8625e+19 5.0000e-01]\n",
      "yt : [INFO     ] 2020-03-09 02:02:04,409 Parameters: cosmological_simulation   = 0.0\n"
     ]
    },
    {
     "name": "stdout",
     "output_type": "stream",
     "text": [
      "mixing_layer.out1.00775\n"
     ]
    },
    {
     "name": "stderr",
     "output_type": "stream",
     "text": [
      "yt : [WARNING  ] 2020-03-09 02:02:04,444 Assuming 1.0 = 1.0 cm\n",
      "yt : [WARNING  ] 2020-03-09 02:02:04,445 Assuming 1.0 = 1.0 s\n",
      "yt : [WARNING  ] 2020-03-09 02:02:04,445 Assuming 1.0 = 1.0 g\n",
      "yt : [WARNING  ] 2020-03-09 02:02:04,446 Assuming 1.0 = 1.0 K\n",
      "yt : [INFO     ] 2020-03-09 02:02:04,458 Parameters: current_time              = 1461986304721276.5\n",
      "yt : [INFO     ] 2020-03-09 02:02:04,459 Parameters: domain_dimensions         = [256 640   1]\n",
      "yt : [INFO     ] 2020-03-09 02:02:04,459 Parameters: domain_left_edge          = [-1.5450e+19 -3.8625e+19 -5.0000e-01]\n",
      "yt : [INFO     ] 2020-03-09 02:02:04,460 Parameters: domain_right_edge         = [1.5450e+19 3.8625e+19 5.0000e-01]\n",
      "yt : [INFO     ] 2020-03-09 02:02:04,461 Parameters: cosmological_simulation   = 0.0\n"
     ]
    },
    {
     "name": "stdout",
     "output_type": "stream",
     "text": [
      "mixing_layer.out1.00776\n"
     ]
    },
    {
     "name": "stderr",
     "output_type": "stream",
     "text": [
      "yt : [WARNING  ] 2020-03-09 02:02:04,501 Assuming 1.0 = 1.0 cm\n",
      "yt : [WARNING  ] 2020-03-09 02:02:04,502 Assuming 1.0 = 1.0 s\n",
      "yt : [WARNING  ] 2020-03-09 02:02:04,503 Assuming 1.0 = 1.0 g\n",
      "yt : [WARNING  ] 2020-03-09 02:02:04,503 Assuming 1.0 = 1.0 K\n",
      "yt : [INFO     ] 2020-03-09 02:02:04,515 Parameters: current_time              = 1463869924229993.2\n",
      "yt : [INFO     ] 2020-03-09 02:02:04,515 Parameters: domain_dimensions         = [256 640   1]\n",
      "yt : [INFO     ] 2020-03-09 02:02:04,517 Parameters: domain_left_edge          = [-1.5450e+19 -3.8625e+19 -5.0000e-01]\n",
      "yt : [INFO     ] 2020-03-09 02:02:04,518 Parameters: domain_right_edge         = [1.5450e+19 3.8625e+19 5.0000e-01]\n",
      "yt : [INFO     ] 2020-03-09 02:02:04,519 Parameters: cosmological_simulation   = 0.0\n"
     ]
    },
    {
     "name": "stdout",
     "output_type": "stream",
     "text": [
      "mixing_layer.out1.00777\n"
     ]
    },
    {
     "name": "stderr",
     "output_type": "stream",
     "text": [
      "yt : [WARNING  ] 2020-03-09 02:02:04,554 Assuming 1.0 = 1.0 cm\n",
      "yt : [WARNING  ] 2020-03-09 02:02:04,555 Assuming 1.0 = 1.0 s\n",
      "yt : [WARNING  ] 2020-03-09 02:02:04,556 Assuming 1.0 = 1.0 g\n",
      "yt : [WARNING  ] 2020-03-09 02:02:04,557 Assuming 1.0 = 1.0 K\n",
      "yt : [INFO     ] 2020-03-09 02:02:04,568 Parameters: current_time              = 1465753227355597.5\n",
      "yt : [INFO     ] 2020-03-09 02:02:04,569 Parameters: domain_dimensions         = [256 640   1]\n",
      "yt : [INFO     ] 2020-03-09 02:02:04,570 Parameters: domain_left_edge          = [-1.5450e+19 -3.8625e+19 -5.0000e-01]\n",
      "yt : [INFO     ] 2020-03-09 02:02:04,571 Parameters: domain_right_edge         = [1.5450e+19 3.8625e+19 5.0000e-01]\n",
      "yt : [INFO     ] 2020-03-09 02:02:04,572 Parameters: cosmological_simulation   = 0.0\n"
     ]
    },
    {
     "name": "stdout",
     "output_type": "stream",
     "text": [
      "mixing_layer.out1.00778\n"
     ]
    },
    {
     "name": "stderr",
     "output_type": "stream",
     "text": [
      "yt : [WARNING  ] 2020-03-09 02:02:04,612 Assuming 1.0 = 1.0 cm\n",
      "yt : [WARNING  ] 2020-03-09 02:02:04,613 Assuming 1.0 = 1.0 s\n",
      "yt : [WARNING  ] 2020-03-09 02:02:04,614 Assuming 1.0 = 1.0 g\n",
      "yt : [WARNING  ] 2020-03-09 02:02:04,615 Assuming 1.0 = 1.0 K\n",
      "yt : [INFO     ] 2020-03-09 02:02:04,627 Parameters: current_time              = 1467637550588863.2\n",
      "yt : [INFO     ] 2020-03-09 02:02:04,628 Parameters: domain_dimensions         = [256 640   1]\n",
      "yt : [INFO     ] 2020-03-09 02:02:04,629 Parameters: domain_left_edge          = [-1.5450e+19 -3.8625e+19 -5.0000e-01]\n",
      "yt : [INFO     ] 2020-03-09 02:02:04,630 Parameters: domain_right_edge         = [1.5450e+19 3.8625e+19 5.0000e-01]\n",
      "yt : [INFO     ] 2020-03-09 02:02:04,631 Parameters: cosmological_simulation   = 0.0\n"
     ]
    },
    {
     "name": "stdout",
     "output_type": "stream",
     "text": [
      "mixing_layer.out1.00779\n"
     ]
    },
    {
     "name": "stderr",
     "output_type": "stream",
     "text": [
      "yt : [WARNING  ] 2020-03-09 02:02:04,665 Assuming 1.0 = 1.0 cm\n",
      "yt : [WARNING  ] 2020-03-09 02:02:04,666 Assuming 1.0 = 1.0 s\n",
      "yt : [WARNING  ] 2020-03-09 02:02:04,667 Assuming 1.0 = 1.0 g\n",
      "yt : [WARNING  ] 2020-03-09 02:02:04,668 Assuming 1.0 = 1.0 K\n",
      "yt : [INFO     ] 2020-03-09 02:02:04,681 Parameters: current_time              = 1469521769955591.5\n",
      "yt : [INFO     ] 2020-03-09 02:02:04,681 Parameters: domain_dimensions         = [256 640   1]\n",
      "yt : [INFO     ] 2020-03-09 02:02:04,682 Parameters: domain_left_edge          = [-1.5450e+19 -3.8625e+19 -5.0000e-01]\n",
      "yt : [INFO     ] 2020-03-09 02:02:04,683 Parameters: domain_right_edge         = [1.5450e+19 3.8625e+19 5.0000e-01]\n",
      "yt : [INFO     ] 2020-03-09 02:02:04,684 Parameters: cosmological_simulation   = 0.0\n"
     ]
    },
    {
     "name": "stdout",
     "output_type": "stream",
     "text": [
      "mixing_layer.out1.00780\n"
     ]
    },
    {
     "name": "stderr",
     "output_type": "stream",
     "text": [
      "yt : [WARNING  ] 2020-03-09 02:02:04,720 Assuming 1.0 = 1.0 cm\n",
      "yt : [WARNING  ] 2020-03-09 02:02:04,721 Assuming 1.0 = 1.0 s\n",
      "yt : [WARNING  ] 2020-03-09 02:02:04,722 Assuming 1.0 = 1.0 g\n",
      "yt : [WARNING  ] 2020-03-09 02:02:04,723 Assuming 1.0 = 1.0 K\n",
      "yt : [INFO     ] 2020-03-09 02:02:04,736 Parameters: current_time              = 1471405922015451.8\n",
      "yt : [INFO     ] 2020-03-09 02:02:04,737 Parameters: domain_dimensions         = [256 640   1]\n",
      "yt : [INFO     ] 2020-03-09 02:02:04,738 Parameters: domain_left_edge          = [-1.5450e+19 -3.8625e+19 -5.0000e-01]\n",
      "yt : [INFO     ] 2020-03-09 02:02:04,739 Parameters: domain_right_edge         = [1.5450e+19 3.8625e+19 5.0000e-01]\n",
      "yt : [INFO     ] 2020-03-09 02:02:04,740 Parameters: cosmological_simulation   = 0.0\n"
     ]
    },
    {
     "name": "stdout",
     "output_type": "stream",
     "text": [
      "mixing_layer.out1.00781\n"
     ]
    },
    {
     "name": "stderr",
     "output_type": "stream",
     "text": [
      "yt : [WARNING  ] 2020-03-09 02:02:04,778 Assuming 1.0 = 1.0 cm\n",
      "yt : [WARNING  ] 2020-03-09 02:02:04,779 Assuming 1.0 = 1.0 s\n",
      "yt : [WARNING  ] 2020-03-09 02:02:04,780 Assuming 1.0 = 1.0 g\n",
      "yt : [WARNING  ] 2020-03-09 02:02:04,781 Assuming 1.0 = 1.0 K\n",
      "yt : [INFO     ] 2020-03-09 02:02:04,793 Parameters: current_time              = 1473288889901952.0\n",
      "yt : [INFO     ] 2020-03-09 02:02:04,794 Parameters: domain_dimensions         = [256 640   1]\n",
      "yt : [INFO     ] 2020-03-09 02:02:04,795 Parameters: domain_left_edge          = [-1.5450e+19 -3.8625e+19 -5.0000e-01]\n",
      "yt : [INFO     ] 2020-03-09 02:02:04,797 Parameters: domain_right_edge         = [1.5450e+19 3.8625e+19 5.0000e-01]\n",
      "yt : [INFO     ] 2020-03-09 02:02:04,798 Parameters: cosmological_simulation   = 0.0\n"
     ]
    },
    {
     "name": "stdout",
     "output_type": "stream",
     "text": [
      "mixing_layer.out1.00782\n"
     ]
    },
    {
     "name": "stderr",
     "output_type": "stream",
     "text": [
      "yt : [WARNING  ] 2020-03-09 02:02:04,834 Assuming 1.0 = 1.0 cm\n",
      "yt : [WARNING  ] 2020-03-09 02:02:04,835 Assuming 1.0 = 1.0 s\n",
      "yt : [WARNING  ] 2020-03-09 02:02:04,836 Assuming 1.0 = 1.0 g\n",
      "yt : [WARNING  ] 2020-03-09 02:02:04,837 Assuming 1.0 = 1.0 K\n",
      "yt : [INFO     ] 2020-03-09 02:02:04,848 Parameters: current_time              = 1475173608887200.0\n",
      "yt : [INFO     ] 2020-03-09 02:02:04,849 Parameters: domain_dimensions         = [256 640   1]\n",
      "yt : [INFO     ] 2020-03-09 02:02:04,849 Parameters: domain_left_edge          = [-1.5450e+19 -3.8625e+19 -5.0000e-01]\n",
      "yt : [INFO     ] 2020-03-09 02:02:04,850 Parameters: domain_right_edge         = [1.5450e+19 3.8625e+19 5.0000e-01]\n",
      "yt : [INFO     ] 2020-03-09 02:02:04,850 Parameters: cosmological_simulation   = 0.0\n"
     ]
    },
    {
     "name": "stdout",
     "output_type": "stream",
     "text": [
      "mixing_layer.out1.00783\n"
     ]
    },
    {
     "name": "stderr",
     "output_type": "stream",
     "text": [
      "yt : [WARNING  ] 2020-03-09 02:02:04,888 Assuming 1.0 = 1.0 cm\n",
      "yt : [WARNING  ] 2020-03-09 02:02:04,889 Assuming 1.0 = 1.0 s\n",
      "yt : [WARNING  ] 2020-03-09 02:02:04,889 Assuming 1.0 = 1.0 g\n",
      "yt : [WARNING  ] 2020-03-09 02:02:04,890 Assuming 1.0 = 1.0 K\n",
      "yt : [INFO     ] 2020-03-09 02:02:04,902 Parameters: current_time              = 1477056590444738.5\n",
      "yt : [INFO     ] 2020-03-09 02:02:04,903 Parameters: domain_dimensions         = [256 640   1]\n",
      "yt : [INFO     ] 2020-03-09 02:02:04,903 Parameters: domain_left_edge          = [-1.5450e+19 -3.8625e+19 -5.0000e-01]\n",
      "yt : [INFO     ] 2020-03-09 02:02:04,904 Parameters: domain_right_edge         = [1.5450e+19 3.8625e+19 5.0000e-01]\n",
      "yt : [INFO     ] 2020-03-09 02:02:04,906 Parameters: cosmological_simulation   = 0.0\n"
     ]
    },
    {
     "name": "stdout",
     "output_type": "stream",
     "text": [
      "mixing_layer.out1.00784\n"
     ]
    },
    {
     "name": "stderr",
     "output_type": "stream",
     "text": [
      "yt : [WARNING  ] 2020-03-09 02:02:04,940 Assuming 1.0 = 1.0 cm\n",
      "yt : [WARNING  ] 2020-03-09 02:02:04,941 Assuming 1.0 = 1.0 s\n",
      "yt : [WARNING  ] 2020-03-09 02:02:04,941 Assuming 1.0 = 1.0 g\n",
      "yt : [WARNING  ] 2020-03-09 02:02:04,942 Assuming 1.0 = 1.0 K\n",
      "yt : [INFO     ] 2020-03-09 02:02:04,954 Parameters: current_time              = 1478940607328100.2\n",
      "yt : [INFO     ] 2020-03-09 02:02:04,955 Parameters: domain_dimensions         = [256 640   1]\n",
      "yt : [INFO     ] 2020-03-09 02:02:04,956 Parameters: domain_left_edge          = [-1.5450e+19 -3.8625e+19 -5.0000e-01]\n",
      "yt : [INFO     ] 2020-03-09 02:02:04,957 Parameters: domain_right_edge         = [1.5450e+19 3.8625e+19 5.0000e-01]\n",
      "yt : [INFO     ] 2020-03-09 02:02:04,958 Parameters: cosmological_simulation   = 0.0\n"
     ]
    },
    {
     "name": "stdout",
     "output_type": "stream",
     "text": [
      "mixing_layer.out1.00785\n"
     ]
    },
    {
     "name": "stderr",
     "output_type": "stream",
     "text": [
      "yt : [WARNING  ] 2020-03-09 02:02:04,992 Assuming 1.0 = 1.0 cm\n",
      "yt : [WARNING  ] 2020-03-09 02:02:04,993 Assuming 1.0 = 1.0 s\n",
      "yt : [WARNING  ] 2020-03-09 02:02:04,994 Assuming 1.0 = 1.0 g\n",
      "yt : [WARNING  ] 2020-03-09 02:02:04,995 Assuming 1.0 = 1.0 K\n",
      "yt : [INFO     ] 2020-03-09 02:02:05,007 Parameters: current_time              = 1480825475774571.2\n",
      "yt : [INFO     ] 2020-03-09 02:02:05,008 Parameters: domain_dimensions         = [256 640   1]\n",
      "yt : [INFO     ] 2020-03-09 02:02:05,009 Parameters: domain_left_edge          = [-1.5450e+19 -3.8625e+19 -5.0000e-01]\n",
      "yt : [INFO     ] 2020-03-09 02:02:05,010 Parameters: domain_right_edge         = [1.5450e+19 3.8625e+19 5.0000e-01]\n",
      "yt : [INFO     ] 2020-03-09 02:02:05,010 Parameters: cosmological_simulation   = 0.0\n"
     ]
    },
    {
     "name": "stdout",
     "output_type": "stream",
     "text": [
      "mixing_layer.out1.00786\n"
     ]
    },
    {
     "name": "stderr",
     "output_type": "stream",
     "text": [
      "yt : [WARNING  ] 2020-03-09 02:02:05,044 Assuming 1.0 = 1.0 cm\n",
      "yt : [WARNING  ] 2020-03-09 02:02:05,046 Assuming 1.0 = 1.0 s\n",
      "yt : [WARNING  ] 2020-03-09 02:02:05,047 Assuming 1.0 = 1.0 g\n",
      "yt : [WARNING  ] 2020-03-09 02:02:05,048 Assuming 1.0 = 1.0 K\n",
      "yt : [INFO     ] 2020-03-09 02:02:05,060 Parameters: current_time              = 1482710873645224.0\n",
      "yt : [INFO     ] 2020-03-09 02:02:05,060 Parameters: domain_dimensions         = [256 640   1]\n",
      "yt : [INFO     ] 2020-03-09 02:02:05,061 Parameters: domain_left_edge          = [-1.5450e+19 -3.8625e+19 -5.0000e-01]\n",
      "yt : [INFO     ] 2020-03-09 02:02:05,062 Parameters: domain_right_edge         = [1.5450e+19 3.8625e+19 5.0000e-01]\n",
      "yt : [INFO     ] 2020-03-09 02:02:05,063 Parameters: cosmological_simulation   = 0.0\n"
     ]
    },
    {
     "name": "stdout",
     "output_type": "stream",
     "text": [
      "mixing_layer.out1.00787\n"
     ]
    },
    {
     "name": "stderr",
     "output_type": "stream",
     "text": [
      "yt : [WARNING  ] 2020-03-09 02:02:05,101 Assuming 1.0 = 1.0 cm\n",
      "yt : [WARNING  ] 2020-03-09 02:02:05,102 Assuming 1.0 = 1.0 s\n",
      "yt : [WARNING  ] 2020-03-09 02:02:05,103 Assuming 1.0 = 1.0 g\n",
      "yt : [WARNING  ] 2020-03-09 02:02:05,104 Assuming 1.0 = 1.0 K\n",
      "yt : [INFO     ] 2020-03-09 02:02:05,115 Parameters: current_time              = 1484594102691359.2\n",
      "yt : [INFO     ] 2020-03-09 02:02:05,116 Parameters: domain_dimensions         = [256 640   1]\n",
      "yt : [INFO     ] 2020-03-09 02:02:05,117 Parameters: domain_left_edge          = [-1.5450e+19 -3.8625e+19 -5.0000e-01]\n",
      "yt : [INFO     ] 2020-03-09 02:02:05,118 Parameters: domain_right_edge         = [1.5450e+19 3.8625e+19 5.0000e-01]\n",
      "yt : [INFO     ] 2020-03-09 02:02:05,118 Parameters: cosmological_simulation   = 0.0\n"
     ]
    },
    {
     "name": "stdout",
     "output_type": "stream",
     "text": [
      "mixing_layer.out1.00788\n"
     ]
    },
    {
     "name": "stderr",
     "output_type": "stream",
     "text": [
      "yt : [WARNING  ] 2020-03-09 02:02:05,153 Assuming 1.0 = 1.0 cm\n",
      "yt : [WARNING  ] 2020-03-09 02:02:05,154 Assuming 1.0 = 1.0 s\n",
      "yt : [WARNING  ] 2020-03-09 02:02:05,154 Assuming 1.0 = 1.0 g\n",
      "yt : [WARNING  ] 2020-03-09 02:02:05,155 Assuming 1.0 = 1.0 K\n",
      "yt : [INFO     ] 2020-03-09 02:02:05,167 Parameters: current_time              = 1486477528658949.0\n",
      "yt : [INFO     ] 2020-03-09 02:02:05,167 Parameters: domain_dimensions         = [256 640   1]\n",
      "yt : [INFO     ] 2020-03-09 02:02:05,168 Parameters: domain_left_edge          = [-1.5450e+19 -3.8625e+19 -5.0000e-01]\n",
      "yt : [INFO     ] 2020-03-09 02:02:05,169 Parameters: domain_right_edge         = [1.5450e+19 3.8625e+19 5.0000e-01]\n",
      "yt : [INFO     ] 2020-03-09 02:02:05,170 Parameters: cosmological_simulation   = 0.0\n"
     ]
    },
    {
     "name": "stdout",
     "output_type": "stream",
     "text": [
      "mixing_layer.out1.00789\n"
     ]
    },
    {
     "name": "stderr",
     "output_type": "stream",
     "text": [
      "yt : [WARNING  ] 2020-03-09 02:02:05,205 Assuming 1.0 = 1.0 cm\n",
      "yt : [WARNING  ] 2020-03-09 02:02:05,206 Assuming 1.0 = 1.0 s\n",
      "yt : [WARNING  ] 2020-03-09 02:02:05,208 Assuming 1.0 = 1.0 g\n",
      "yt : [WARNING  ] 2020-03-09 02:02:05,208 Assuming 1.0 = 1.0 K\n",
      "yt : [INFO     ] 2020-03-09 02:02:05,221 Parameters: current_time              = 1488361742340533.0\n",
      "yt : [INFO     ] 2020-03-09 02:02:05,221 Parameters: domain_dimensions         = [256 640   1]\n",
      "yt : [INFO     ] 2020-03-09 02:02:05,222 Parameters: domain_left_edge          = [-1.5450e+19 -3.8625e+19 -5.0000e-01]\n",
      "yt : [INFO     ] 2020-03-09 02:02:05,223 Parameters: domain_right_edge         = [1.5450e+19 3.8625e+19 5.0000e-01]\n",
      "yt : [INFO     ] 2020-03-09 02:02:05,224 Parameters: cosmological_simulation   = 0.0\n"
     ]
    },
    {
     "name": "stdout",
     "output_type": "stream",
     "text": [
      "mixing_layer.out1.00790\n"
     ]
    },
    {
     "name": "stderr",
     "output_type": "stream",
     "text": [
      "yt : [WARNING  ] 2020-03-09 02:02:05,257 Assuming 1.0 = 1.0 cm\n",
      "yt : [WARNING  ] 2020-03-09 02:02:05,259 Assuming 1.0 = 1.0 s\n",
      "yt : [WARNING  ] 2020-03-09 02:02:05,260 Assuming 1.0 = 1.0 g\n",
      "yt : [WARNING  ] 2020-03-09 02:02:05,261 Assuming 1.0 = 1.0 K\n",
      "yt : [INFO     ] 2020-03-09 02:02:05,274 Parameters: current_time              = 1490245253409347.5\n",
      "yt : [INFO     ] 2020-03-09 02:02:05,276 Parameters: domain_dimensions         = [256 640   1]\n",
      "yt : [INFO     ] 2020-03-09 02:02:05,277 Parameters: domain_left_edge          = [-1.5450e+19 -3.8625e+19 -5.0000e-01]\n",
      "yt : [INFO     ] 2020-03-09 02:02:05,278 Parameters: domain_right_edge         = [1.5450e+19 3.8625e+19 5.0000e-01]\n",
      "yt : [INFO     ] 2020-03-09 02:02:05,279 Parameters: cosmological_simulation   = 0.0\n"
     ]
    },
    {
     "name": "stdout",
     "output_type": "stream",
     "text": [
      "mixing_layer.out1.00791\n"
     ]
    },
    {
     "name": "stderr",
     "output_type": "stream",
     "text": [
      "yt : [WARNING  ] 2020-03-09 02:02:05,315 Assuming 1.0 = 1.0 cm\n",
      "yt : [WARNING  ] 2020-03-09 02:02:05,316 Assuming 1.0 = 1.0 s\n",
      "yt : [WARNING  ] 2020-03-09 02:02:05,316 Assuming 1.0 = 1.0 g\n",
      "yt : [WARNING  ] 2020-03-09 02:02:05,317 Assuming 1.0 = 1.0 K\n",
      "yt : [INFO     ] 2020-03-09 02:02:05,328 Parameters: current_time              = 1492129377430870.5\n",
      "yt : [INFO     ] 2020-03-09 02:02:05,329 Parameters: domain_dimensions         = [256 640   1]\n",
      "yt : [INFO     ] 2020-03-09 02:02:05,330 Parameters: domain_left_edge          = [-1.5450e+19 -3.8625e+19 -5.0000e-01]\n",
      "yt : [INFO     ] 2020-03-09 02:02:05,331 Parameters: domain_right_edge         = [1.5450e+19 3.8625e+19 5.0000e-01]\n",
      "yt : [INFO     ] 2020-03-09 02:02:05,332 Parameters: cosmological_simulation   = 0.0\n"
     ]
    },
    {
     "name": "stdout",
     "output_type": "stream",
     "text": [
      "mixing_layer.out1.00792\n"
     ]
    },
    {
     "name": "stderr",
     "output_type": "stream",
     "text": [
      "yt : [WARNING  ] 2020-03-09 02:02:05,369 Assuming 1.0 = 1.0 cm\n",
      "yt : [WARNING  ] 2020-03-09 02:02:05,370 Assuming 1.0 = 1.0 s\n",
      "yt : [WARNING  ] 2020-03-09 02:02:05,371 Assuming 1.0 = 1.0 g\n",
      "yt : [WARNING  ] 2020-03-09 02:02:05,372 Assuming 1.0 = 1.0 K\n",
      "yt : [INFO     ] 2020-03-09 02:02:05,384 Parameters: current_time              = 1494012106774323.0\n",
      "yt : [INFO     ] 2020-03-09 02:02:05,385 Parameters: domain_dimensions         = [256 640   1]\n",
      "yt : [INFO     ] 2020-03-09 02:02:05,386 Parameters: domain_left_edge          = [-1.5450e+19 -3.8625e+19 -5.0000e-01]\n",
      "yt : [INFO     ] 2020-03-09 02:02:05,386 Parameters: domain_right_edge         = [1.5450e+19 3.8625e+19 5.0000e-01]\n",
      "yt : [INFO     ] 2020-03-09 02:02:05,387 Parameters: cosmological_simulation   = 0.0\n"
     ]
    },
    {
     "name": "stdout",
     "output_type": "stream",
     "text": [
      "mixing_layer.out1.00793\n"
     ]
    },
    {
     "name": "stderr",
     "output_type": "stream",
     "text": [
      "yt : [WARNING  ] 2020-03-09 02:02:05,422 Assuming 1.0 = 1.0 cm\n",
      "yt : [WARNING  ] 2020-03-09 02:02:05,423 Assuming 1.0 = 1.0 s\n",
      "yt : [WARNING  ] 2020-03-09 02:02:05,424 Assuming 1.0 = 1.0 g\n",
      "yt : [WARNING  ] 2020-03-09 02:02:05,425 Assuming 1.0 = 1.0 K\n",
      "yt : [INFO     ] 2020-03-09 02:02:05,437 Parameters: current_time              = 1495896609305782.8\n",
      "yt : [INFO     ] 2020-03-09 02:02:05,438 Parameters: domain_dimensions         = [256 640   1]\n",
      "yt : [INFO     ] 2020-03-09 02:02:05,438 Parameters: domain_left_edge          = [-1.5450e+19 -3.8625e+19 -5.0000e-01]\n",
      "yt : [INFO     ] 2020-03-09 02:02:05,439 Parameters: domain_right_edge         = [1.5450e+19 3.8625e+19 5.0000e-01]\n",
      "yt : [INFO     ] 2020-03-09 02:02:05,440 Parameters: cosmological_simulation   = 0.0\n"
     ]
    },
    {
     "name": "stdout",
     "output_type": "stream",
     "text": [
      "mixing_layer.out1.00794\n"
     ]
    },
    {
     "name": "stderr",
     "output_type": "stream",
     "text": [
      "yt : [WARNING  ] 2020-03-09 02:02:05,477 Assuming 1.0 = 1.0 cm\n",
      "yt : [WARNING  ] 2020-03-09 02:02:05,478 Assuming 1.0 = 1.0 s\n",
      "yt : [WARNING  ] 2020-03-09 02:02:05,478 Assuming 1.0 = 1.0 g\n",
      "yt : [WARNING  ] 2020-03-09 02:02:05,479 Assuming 1.0 = 1.0 K\n",
      "yt : [INFO     ] 2020-03-09 02:02:05,492 Parameters: current_time              = 1497780209320162.5\n",
      "yt : [INFO     ] 2020-03-09 02:02:05,493 Parameters: domain_dimensions         = [256 640   1]\n",
      "yt : [INFO     ] 2020-03-09 02:02:05,494 Parameters: domain_left_edge          = [-1.5450e+19 -3.8625e+19 -5.0000e-01]\n",
      "yt : [INFO     ] 2020-03-09 02:02:05,495 Parameters: domain_right_edge         = [1.5450e+19 3.8625e+19 5.0000e-01]\n",
      "yt : [INFO     ] 2020-03-09 02:02:05,496 Parameters: cosmological_simulation   = 0.0\n"
     ]
    },
    {
     "name": "stdout",
     "output_type": "stream",
     "text": [
      "mixing_layer.out1.00795\n"
     ]
    },
    {
     "name": "stderr",
     "output_type": "stream",
     "text": [
      "yt : [WARNING  ] 2020-03-09 02:02:05,529 Assuming 1.0 = 1.0 cm\n",
      "yt : [WARNING  ] 2020-03-09 02:02:05,530 Assuming 1.0 = 1.0 s\n",
      "yt : [WARNING  ] 2020-03-09 02:02:05,531 Assuming 1.0 = 1.0 g\n",
      "yt : [WARNING  ] 2020-03-09 02:02:05,532 Assuming 1.0 = 1.0 K\n",
      "yt : [INFO     ] 2020-03-09 02:02:05,543 Parameters: current_time              = 1499664122723848.5\n",
      "yt : [INFO     ] 2020-03-09 02:02:05,544 Parameters: domain_dimensions         = [256 640   1]\n",
      "yt : [INFO     ] 2020-03-09 02:02:05,545 Parameters: domain_left_edge          = [-1.5450e+19 -3.8625e+19 -5.0000e-01]\n",
      "yt : [INFO     ] 2020-03-09 02:02:05,546 Parameters: domain_right_edge         = [1.5450e+19 3.8625e+19 5.0000e-01]\n",
      "yt : [INFO     ] 2020-03-09 02:02:05,547 Parameters: cosmological_simulation   = 0.0\n"
     ]
    },
    {
     "name": "stdout",
     "output_type": "stream",
     "text": [
      "mixing_layer.out1.00796\n"
     ]
    },
    {
     "name": "stderr",
     "output_type": "stream",
     "text": [
      "yt : [WARNING  ] 2020-03-09 02:02:05,584 Assuming 1.0 = 1.0 cm\n",
      "yt : [WARNING  ] 2020-03-09 02:02:05,585 Assuming 1.0 = 1.0 s\n",
      "yt : [WARNING  ] 2020-03-09 02:02:05,586 Assuming 1.0 = 1.0 g\n",
      "yt : [WARNING  ] 2020-03-09 02:02:05,586 Assuming 1.0 = 1.0 K\n",
      "yt : [INFO     ] 2020-03-09 02:02:05,597 Parameters: current_time              = 1501548248057755.5\n",
      "yt : [INFO     ] 2020-03-09 02:02:05,598 Parameters: domain_dimensions         = [256 640   1]\n",
      "yt : [INFO     ] 2020-03-09 02:02:05,599 Parameters: domain_left_edge          = [-1.5450e+19 -3.8625e+19 -5.0000e-01]\n",
      "yt : [INFO     ] 2020-03-09 02:02:05,600 Parameters: domain_right_edge         = [1.5450e+19 3.8625e+19 5.0000e-01]\n",
      "yt : [INFO     ] 2020-03-09 02:02:05,601 Parameters: cosmological_simulation   = 0.0\n"
     ]
    },
    {
     "name": "stdout",
     "output_type": "stream",
     "text": [
      "mixing_layer.out1.00797\n"
     ]
    },
    {
     "name": "stderr",
     "output_type": "stream",
     "text": [
      "yt : [WARNING  ] 2020-03-09 02:02:05,638 Assuming 1.0 = 1.0 cm\n",
      "yt : [WARNING  ] 2020-03-09 02:02:05,639 Assuming 1.0 = 1.0 s\n",
      "yt : [WARNING  ] 2020-03-09 02:02:05,640 Assuming 1.0 = 1.0 g\n",
      "yt : [WARNING  ] 2020-03-09 02:02:05,641 Assuming 1.0 = 1.0 K\n",
      "yt : [INFO     ] 2020-03-09 02:02:05,653 Parameters: current_time              = 1503433795944245.0\n",
      "yt : [INFO     ] 2020-03-09 02:02:05,654 Parameters: domain_dimensions         = [256 640   1]\n",
      "yt : [INFO     ] 2020-03-09 02:02:05,655 Parameters: domain_left_edge          = [-1.5450e+19 -3.8625e+19 -5.0000e-01]\n",
      "yt : [INFO     ] 2020-03-09 02:02:05,656 Parameters: domain_right_edge         = [1.5450e+19 3.8625e+19 5.0000e-01]\n",
      "yt : [INFO     ] 2020-03-09 02:02:05,656 Parameters: cosmological_simulation   = 0.0\n"
     ]
    },
    {
     "name": "stdout",
     "output_type": "stream",
     "text": [
      "mixing_layer.out1.00798\n"
     ]
    },
    {
     "name": "stderr",
     "output_type": "stream",
     "text": [
      "yt : [WARNING  ] 2020-03-09 02:02:05,694 Assuming 1.0 = 1.0 cm\n",
      "yt : [WARNING  ] 2020-03-09 02:02:05,695 Assuming 1.0 = 1.0 s\n",
      "yt : [WARNING  ] 2020-03-09 02:02:05,696 Assuming 1.0 = 1.0 g\n",
      "yt : [WARNING  ] 2020-03-09 02:02:05,697 Assuming 1.0 = 1.0 K\n",
      "yt : [INFO     ] 2020-03-09 02:02:05,708 Parameters: current_time              = 1505316128644420.2\n",
      "yt : [INFO     ] 2020-03-09 02:02:05,709 Parameters: domain_dimensions         = [256 640   1]\n",
      "yt : [INFO     ] 2020-03-09 02:02:05,710 Parameters: domain_left_edge          = [-1.5450e+19 -3.8625e+19 -5.0000e-01]\n",
      "yt : [INFO     ] 2020-03-09 02:02:05,711 Parameters: domain_right_edge         = [1.5450e+19 3.8625e+19 5.0000e-01]\n",
      "yt : [INFO     ] 2020-03-09 02:02:05,712 Parameters: cosmological_simulation   = 0.0\n"
     ]
    },
    {
     "name": "stdout",
     "output_type": "stream",
     "text": [
      "mixing_layer.out1.00799\n"
     ]
    },
    {
     "name": "stderr",
     "output_type": "stream",
     "text": [
      "yt : [WARNING  ] 2020-03-09 02:02:05,745 Assuming 1.0 = 1.0 cm\n",
      "yt : [WARNING  ] 2020-03-09 02:02:05,747 Assuming 1.0 = 1.0 s\n",
      "yt : [WARNING  ] 2020-03-09 02:02:05,747 Assuming 1.0 = 1.0 g\n",
      "yt : [WARNING  ] 2020-03-09 02:02:05,748 Assuming 1.0 = 1.0 K\n",
      "yt : [INFO     ] 2020-03-09 02:02:05,762 Parameters: current_time              = 1507200558492633.0\n",
      "yt : [INFO     ] 2020-03-09 02:02:05,762 Parameters: domain_dimensions         = [256 640   1]\n",
      "yt : [INFO     ] 2020-03-09 02:02:05,763 Parameters: domain_left_edge          = [-1.5450e+19 -3.8625e+19 -5.0000e-01]\n",
      "yt : [INFO     ] 2020-03-09 02:02:05,764 Parameters: domain_right_edge         = [1.5450e+19 3.8625e+19 5.0000e-01]\n",
      "yt : [INFO     ] 2020-03-09 02:02:05,765 Parameters: cosmological_simulation   = 0.0\n"
     ]
    },
    {
     "name": "stdout",
     "output_type": "stream",
     "text": [
      "mixing_layer.out1.00800\n"
     ]
    },
    {
     "name": "stderr",
     "output_type": "stream",
     "text": [
      "yt : [WARNING  ] 2020-03-09 02:02:05,803 Assuming 1.0 = 1.0 cm\n",
      "yt : [WARNING  ] 2020-03-09 02:02:05,804 Assuming 1.0 = 1.0 s\n",
      "yt : [WARNING  ] 2020-03-09 02:02:05,805 Assuming 1.0 = 1.0 g\n",
      "yt : [WARNING  ] 2020-03-09 02:02:05,807 Assuming 1.0 = 1.0 K\n",
      "yt : [INFO     ] 2020-03-09 02:02:05,819 Parameters: current_time              = 1509086606815058.2\n",
      "yt : [INFO     ] 2020-03-09 02:02:05,820 Parameters: domain_dimensions         = [256 640   1]\n",
      "yt : [INFO     ] 2020-03-09 02:02:05,820 Parameters: domain_left_edge          = [-1.5450e+19 -3.8625e+19 -5.0000e-01]\n",
      "yt : [INFO     ] 2020-03-09 02:02:05,821 Parameters: domain_right_edge         = [1.5450e+19 3.8625e+19 5.0000e-01]\n",
      "yt : [INFO     ] 2020-03-09 02:02:05,822 Parameters: cosmological_simulation   = 0.0\n"
     ]
    },
    {
     "name": "stdout",
     "output_type": "stream",
     "text": [
      "mixing_layer.out1.00801\n"
     ]
    },
    {
     "name": "stderr",
     "output_type": "stream",
     "text": [
      "yt : [WARNING  ] 2020-03-09 02:02:05,858 Assuming 1.0 = 1.0 cm\n",
      "yt : [WARNING  ] 2020-03-09 02:02:05,859 Assuming 1.0 = 1.0 s\n",
      "yt : [WARNING  ] 2020-03-09 02:02:05,860 Assuming 1.0 = 1.0 g\n",
      "yt : [WARNING  ] 2020-03-09 02:02:05,861 Assuming 1.0 = 1.0 K\n",
      "yt : [INFO     ] 2020-03-09 02:02:05,872 Parameters: current_time              = 1510969229770857.5\n",
      "yt : [INFO     ] 2020-03-09 02:02:05,873 Parameters: domain_dimensions         = [256 640   1]\n",
      "yt : [INFO     ] 2020-03-09 02:02:05,874 Parameters: domain_left_edge          = [-1.5450e+19 -3.8625e+19 -5.0000e-01]\n",
      "yt : [INFO     ] 2020-03-09 02:02:05,875 Parameters: domain_right_edge         = [1.5450e+19 3.8625e+19 5.0000e-01]\n",
      "yt : [INFO     ] 2020-03-09 02:02:05,876 Parameters: cosmological_simulation   = 0.0\n"
     ]
    },
    {
     "name": "stdout",
     "output_type": "stream",
     "text": [
      "mixing_layer.out1.00802\n"
     ]
    },
    {
     "name": "stderr",
     "output_type": "stream",
     "text": [
      "yt : [WARNING  ] 2020-03-09 02:02:05,912 Assuming 1.0 = 1.0 cm\n",
      "yt : [WARNING  ] 2020-03-09 02:02:05,913 Assuming 1.0 = 1.0 s\n",
      "yt : [WARNING  ] 2020-03-09 02:02:05,915 Assuming 1.0 = 1.0 g\n",
      "yt : [WARNING  ] 2020-03-09 02:02:05,916 Assuming 1.0 = 1.0 K\n",
      "yt : [INFO     ] 2020-03-09 02:02:05,930 Parameters: current_time              = 1512852708136522.8\n",
      "yt : [INFO     ] 2020-03-09 02:02:05,931 Parameters: domain_dimensions         = [256 640   1]\n",
      "yt : [INFO     ] 2020-03-09 02:02:05,932 Parameters: domain_left_edge          = [-1.5450e+19 -3.8625e+19 -5.0000e-01]\n",
      "yt : [INFO     ] 2020-03-09 02:02:05,933 Parameters: domain_right_edge         = [1.5450e+19 3.8625e+19 5.0000e-01]\n",
      "yt : [INFO     ] 2020-03-09 02:02:05,934 Parameters: cosmological_simulation   = 0.0\n"
     ]
    },
    {
     "name": "stdout",
     "output_type": "stream",
     "text": [
      "mixing_layer.out1.00803\n"
     ]
    },
    {
     "name": "stderr",
     "output_type": "stream",
     "text": [
      "yt : [WARNING  ] 2020-03-09 02:02:05,972 Assuming 1.0 = 1.0 cm\n",
      "yt : [WARNING  ] 2020-03-09 02:02:05,973 Assuming 1.0 = 1.0 s\n",
      "yt : [WARNING  ] 2020-03-09 02:02:05,974 Assuming 1.0 = 1.0 g\n",
      "yt : [WARNING  ] 2020-03-09 02:02:05,976 Assuming 1.0 = 1.0 K\n",
      "yt : [INFO     ] 2020-03-09 02:02:05,988 Parameters: current_time              = 1514738796683215.8\n",
      "yt : [INFO     ] 2020-03-09 02:02:05,989 Parameters: domain_dimensions         = [256 640   1]\n",
      "yt : [INFO     ] 2020-03-09 02:02:05,990 Parameters: domain_left_edge          = [-1.5450e+19 -3.8625e+19 -5.0000e-01]\n",
      "yt : [INFO     ] 2020-03-09 02:02:05,990 Parameters: domain_right_edge         = [1.5450e+19 3.8625e+19 5.0000e-01]\n",
      "yt : [INFO     ] 2020-03-09 02:02:05,991 Parameters: cosmological_simulation   = 0.0\n"
     ]
    },
    {
     "name": "stdout",
     "output_type": "stream",
     "text": [
      "mixing_layer.out1.00804\n"
     ]
    },
    {
     "name": "stderr",
     "output_type": "stream",
     "text": [
      "yt : [WARNING  ] 2020-03-09 02:02:06,037 Assuming 1.0 = 1.0 cm\n",
      "yt : [WARNING  ] 2020-03-09 02:02:06,039 Assuming 1.0 = 1.0 s\n",
      "yt : [WARNING  ] 2020-03-09 02:02:06,040 Assuming 1.0 = 1.0 g\n",
      "yt : [WARNING  ] 2020-03-09 02:02:06,041 Assuming 1.0 = 1.0 K\n",
      "yt : [INFO     ] 2020-03-09 02:02:06,055 Parameters: current_time              = 1516620146185409.5\n",
      "yt : [INFO     ] 2020-03-09 02:02:06,056 Parameters: domain_dimensions         = [256 640   1]\n",
      "yt : [INFO     ] 2020-03-09 02:02:06,057 Parameters: domain_left_edge          = [-1.5450e+19 -3.8625e+19 -5.0000e-01]\n",
      "yt : [INFO     ] 2020-03-09 02:02:06,058 Parameters: domain_right_edge         = [1.5450e+19 3.8625e+19 5.0000e-01]\n",
      "yt : [INFO     ] 2020-03-09 02:02:06,059 Parameters: cosmological_simulation   = 0.0\n"
     ]
    },
    {
     "name": "stdout",
     "output_type": "stream",
     "text": [
      "mixing_layer.out1.00805\n"
     ]
    },
    {
     "name": "stderr",
     "output_type": "stream",
     "text": [
      "yt : [WARNING  ] 2020-03-09 02:02:06,100 Assuming 1.0 = 1.0 cm\n",
      "yt : [WARNING  ] 2020-03-09 02:02:06,102 Assuming 1.0 = 1.0 s\n",
      "yt : [WARNING  ] 2020-03-09 02:02:06,103 Assuming 1.0 = 1.0 g\n",
      "yt : [WARNING  ] 2020-03-09 02:02:06,104 Assuming 1.0 = 1.0 K\n",
      "yt : [INFO     ] 2020-03-09 02:02:06,118 Parameters: current_time              = 1518505372140195.0\n",
      "yt : [INFO     ] 2020-03-09 02:02:06,118 Parameters: domain_dimensions         = [256 640   1]\n",
      "yt : [INFO     ] 2020-03-09 02:02:06,119 Parameters: domain_left_edge          = [-1.5450e+19 -3.8625e+19 -5.0000e-01]\n",
      "yt : [INFO     ] 2020-03-09 02:02:06,121 Parameters: domain_right_edge         = [1.5450e+19 3.8625e+19 5.0000e-01]\n",
      "yt : [INFO     ] 2020-03-09 02:02:06,122 Parameters: cosmological_simulation   = 0.0\n"
     ]
    },
    {
     "name": "stdout",
     "output_type": "stream",
     "text": [
      "mixing_layer.out1.00806\n"
     ]
    },
    {
     "name": "stderr",
     "output_type": "stream",
     "text": [
      "yt : [WARNING  ] 2020-03-09 02:02:06,160 Assuming 1.0 = 1.0 cm\n",
      "yt : [WARNING  ] 2020-03-09 02:02:06,162 Assuming 1.0 = 1.0 s\n",
      "yt : [WARNING  ] 2020-03-09 02:02:06,163 Assuming 1.0 = 1.0 g\n",
      "yt : [WARNING  ] 2020-03-09 02:02:06,164 Assuming 1.0 = 1.0 K\n",
      "yt : [INFO     ] 2020-03-09 02:02:06,179 Parameters: current_time              = 1520388614664368.5\n",
      "yt : [INFO     ] 2020-03-09 02:02:06,180 Parameters: domain_dimensions         = [256 640   1]\n",
      "yt : [INFO     ] 2020-03-09 02:02:06,181 Parameters: domain_left_edge          = [-1.5450e+19 -3.8625e+19 -5.0000e-01]\n",
      "yt : [INFO     ] 2020-03-09 02:02:06,182 Parameters: domain_right_edge         = [1.5450e+19 3.8625e+19 5.0000e-01]\n",
      "yt : [INFO     ] 2020-03-09 02:02:06,183 Parameters: cosmological_simulation   = 0.0\n"
     ]
    },
    {
     "name": "stdout",
     "output_type": "stream",
     "text": [
      "mixing_layer.out1.00807\n"
     ]
    },
    {
     "name": "stderr",
     "output_type": "stream",
     "text": [
      "yt : [WARNING  ] 2020-03-09 02:02:06,218 Assuming 1.0 = 1.0 cm\n",
      "yt : [WARNING  ] 2020-03-09 02:02:06,219 Assuming 1.0 = 1.0 s\n",
      "yt : [WARNING  ] 2020-03-09 02:02:06,221 Assuming 1.0 = 1.0 g\n",
      "yt : [WARNING  ] 2020-03-09 02:02:06,222 Assuming 1.0 = 1.0 K\n",
      "yt : [INFO     ] 2020-03-09 02:02:06,233 Parameters: current_time              = 1522273639014041.2\n",
      "yt : [INFO     ] 2020-03-09 02:02:06,234 Parameters: domain_dimensions         = [256 640   1]\n",
      "yt : [INFO     ] 2020-03-09 02:02:06,235 Parameters: domain_left_edge          = [-1.5450e+19 -3.8625e+19 -5.0000e-01]\n",
      "yt : [INFO     ] 2020-03-09 02:02:06,236 Parameters: domain_right_edge         = [1.5450e+19 3.8625e+19 5.0000e-01]\n",
      "yt : [INFO     ] 2020-03-09 02:02:06,237 Parameters: cosmological_simulation   = 0.0\n"
     ]
    },
    {
     "name": "stdout",
     "output_type": "stream",
     "text": [
      "mixing_layer.out1.00808\n"
     ]
    },
    {
     "name": "stderr",
     "output_type": "stream",
     "text": [
      "yt : [WARNING  ] 2020-03-09 02:02:06,273 Assuming 1.0 = 1.0 cm\n",
      "yt : [WARNING  ] 2020-03-09 02:02:06,274 Assuming 1.0 = 1.0 s\n",
      "yt : [WARNING  ] 2020-03-09 02:02:06,274 Assuming 1.0 = 1.0 g\n",
      "yt : [WARNING  ] 2020-03-09 02:02:06,275 Assuming 1.0 = 1.0 K\n",
      "yt : [INFO     ] 2020-03-09 02:02:06,287 Parameters: current_time              = 1524158059663737.2\n",
      "yt : [INFO     ] 2020-03-09 02:02:06,288 Parameters: domain_dimensions         = [256 640   1]\n",
      "yt : [INFO     ] 2020-03-09 02:02:06,289 Parameters: domain_left_edge          = [-1.5450e+19 -3.8625e+19 -5.0000e-01]\n",
      "yt : [INFO     ] 2020-03-09 02:02:06,290 Parameters: domain_right_edge         = [1.5450e+19 3.8625e+19 5.0000e-01]\n",
      "yt : [INFO     ] 2020-03-09 02:02:06,290 Parameters: cosmological_simulation   = 0.0\n"
     ]
    },
    {
     "name": "stdout",
     "output_type": "stream",
     "text": [
      "mixing_layer.out1.00809\n"
     ]
    },
    {
     "name": "stderr",
     "output_type": "stream",
     "text": [
      "yt : [WARNING  ] 2020-03-09 02:02:06,325 Assuming 1.0 = 1.0 cm\n",
      "yt : [WARNING  ] 2020-03-09 02:02:06,326 Assuming 1.0 = 1.0 s\n",
      "yt : [WARNING  ] 2020-03-09 02:02:06,327 Assuming 1.0 = 1.0 g\n",
      "yt : [WARNING  ] 2020-03-09 02:02:06,328 Assuming 1.0 = 1.0 K\n",
      "yt : [INFO     ] 2020-03-09 02:02:06,340 Parameters: current_time              = 1526040536400666.0\n",
      "yt : [INFO     ] 2020-03-09 02:02:06,341 Parameters: domain_dimensions         = [256 640   1]\n",
      "yt : [INFO     ] 2020-03-09 02:02:06,341 Parameters: domain_left_edge          = [-1.5450e+19 -3.8625e+19 -5.0000e-01]\n",
      "yt : [INFO     ] 2020-03-09 02:02:06,342 Parameters: domain_right_edge         = [1.5450e+19 3.8625e+19 5.0000e-01]\n",
      "yt : [INFO     ] 2020-03-09 02:02:06,343 Parameters: cosmological_simulation   = 0.0\n"
     ]
    },
    {
     "name": "stdout",
     "output_type": "stream",
     "text": [
      "mixing_layer.out1.00810\n"
     ]
    },
    {
     "name": "stderr",
     "output_type": "stream",
     "text": [
      "yt : [WARNING  ] 2020-03-09 02:02:06,380 Assuming 1.0 = 1.0 cm\n",
      "yt : [WARNING  ] 2020-03-09 02:02:06,381 Assuming 1.0 = 1.0 s\n",
      "yt : [WARNING  ] 2020-03-09 02:02:06,382 Assuming 1.0 = 1.0 g\n",
      "yt : [WARNING  ] 2020-03-09 02:02:06,383 Assuming 1.0 = 1.0 K\n",
      "yt : [INFO     ] 2020-03-09 02:02:06,393 Parameters: current_time              = 1527924457859955.8\n",
      "yt : [INFO     ] 2020-03-09 02:02:06,394 Parameters: domain_dimensions         = [256 640   1]\n",
      "yt : [INFO     ] 2020-03-09 02:02:06,395 Parameters: domain_left_edge          = [-1.5450e+19 -3.8625e+19 -5.0000e-01]\n",
      "yt : [INFO     ] 2020-03-09 02:02:06,396 Parameters: domain_right_edge         = [1.5450e+19 3.8625e+19 5.0000e-01]\n",
      "yt : [INFO     ] 2020-03-09 02:02:06,397 Parameters: cosmological_simulation   = 0.0\n"
     ]
    },
    {
     "name": "stdout",
     "output_type": "stream",
     "text": [
      "mixing_layer.out1.00811\n"
     ]
    },
    {
     "name": "stderr",
     "output_type": "stream",
     "text": [
      "yt : [WARNING  ] 2020-03-09 02:02:06,434 Assuming 1.0 = 1.0 cm\n",
      "yt : [WARNING  ] 2020-03-09 02:02:06,435 Assuming 1.0 = 1.0 s\n",
      "yt : [WARNING  ] 2020-03-09 02:02:06,437 Assuming 1.0 = 1.0 g\n",
      "yt : [WARNING  ] 2020-03-09 02:02:06,438 Assuming 1.0 = 1.0 K\n",
      "yt : [INFO     ] 2020-03-09 02:02:06,451 Parameters: current_time              = 1529810753003952.5\n",
      "yt : [INFO     ] 2020-03-09 02:02:06,452 Parameters: domain_dimensions         = [256 640   1]\n",
      "yt : [INFO     ] 2020-03-09 02:02:06,453 Parameters: domain_left_edge          = [-1.5450e+19 -3.8625e+19 -5.0000e-01]\n",
      "yt : [INFO     ] 2020-03-09 02:02:06,455 Parameters: domain_right_edge         = [1.5450e+19 3.8625e+19 5.0000e-01]\n",
      "yt : [INFO     ] 2020-03-09 02:02:06,456 Parameters: cosmological_simulation   = 0.0\n"
     ]
    },
    {
     "name": "stdout",
     "output_type": "stream",
     "text": [
      "mixing_layer.out1.00812\n"
     ]
    },
    {
     "name": "stderr",
     "output_type": "stream",
     "text": [
      "yt : [WARNING  ] 2020-03-09 02:02:06,490 Assuming 1.0 = 1.0 cm\n",
      "yt : [WARNING  ] 2020-03-09 02:02:06,491 Assuming 1.0 = 1.0 s\n",
      "yt : [WARNING  ] 2020-03-09 02:02:06,492 Assuming 1.0 = 1.0 g\n",
      "yt : [WARNING  ] 2020-03-09 02:02:06,493 Assuming 1.0 = 1.0 K\n",
      "yt : [INFO     ] 2020-03-09 02:02:06,505 Parameters: current_time              = 1531693380957959.2\n",
      "yt : [INFO     ] 2020-03-09 02:02:06,506 Parameters: domain_dimensions         = [256 640   1]\n",
      "yt : [INFO     ] 2020-03-09 02:02:06,507 Parameters: domain_left_edge          = [-1.5450e+19 -3.8625e+19 -5.0000e-01]\n",
      "yt : [INFO     ] 2020-03-09 02:02:06,508 Parameters: domain_right_edge         = [1.5450e+19 3.8625e+19 5.0000e-01]\n",
      "yt : [INFO     ] 2020-03-09 02:02:06,509 Parameters: cosmological_simulation   = 0.0\n"
     ]
    },
    {
     "name": "stdout",
     "output_type": "stream",
     "text": [
      "mixing_layer.out1.00813\n"
     ]
    },
    {
     "name": "stderr",
     "output_type": "stream",
     "text": [
      "yt : [WARNING  ] 2020-03-09 02:02:06,544 Assuming 1.0 = 1.0 cm\n",
      "yt : [WARNING  ] 2020-03-09 02:02:06,546 Assuming 1.0 = 1.0 s\n",
      "yt : [WARNING  ] 2020-03-09 02:02:06,547 Assuming 1.0 = 1.0 g\n",
      "yt : [WARNING  ] 2020-03-09 02:02:06,548 Assuming 1.0 = 1.0 K\n",
      "yt : [INFO     ] 2020-03-09 02:02:06,560 Parameters: current_time              = 1533577107601428.2\n",
      "yt : [INFO     ] 2020-03-09 02:02:06,561 Parameters: domain_dimensions         = [256 640   1]\n",
      "yt : [INFO     ] 2020-03-09 02:02:06,562 Parameters: domain_left_edge          = [-1.5450e+19 -3.8625e+19 -5.0000e-01]\n",
      "yt : [INFO     ] 2020-03-09 02:02:06,562 Parameters: domain_right_edge         = [1.5450e+19 3.8625e+19 5.0000e-01]\n",
      "yt : [INFO     ] 2020-03-09 02:02:06,563 Parameters: cosmological_simulation   = 0.0\n"
     ]
    },
    {
     "name": "stdout",
     "output_type": "stream",
     "text": [
      "mixing_layer.out1.00814\n"
     ]
    },
    {
     "name": "stderr",
     "output_type": "stream",
     "text": [
      "yt : [WARNING  ] 2020-03-09 02:02:06,599 Assuming 1.0 = 1.0 cm\n",
      "yt : [WARNING  ] 2020-03-09 02:02:06,601 Assuming 1.0 = 1.0 s\n",
      "yt : [WARNING  ] 2020-03-09 02:02:06,602 Assuming 1.0 = 1.0 g\n",
      "yt : [WARNING  ] 2020-03-09 02:02:06,603 Assuming 1.0 = 1.0 K\n",
      "yt : [INFO     ] 2020-03-09 02:02:06,618 Parameters: current_time              = 1535460691550449.5\n",
      "yt : [INFO     ] 2020-03-09 02:02:06,618 Parameters: domain_dimensions         = [256 640   1]\n",
      "yt : [INFO     ] 2020-03-09 02:02:06,619 Parameters: domain_left_edge          = [-1.5450e+19 -3.8625e+19 -5.0000e-01]\n",
      "yt : [INFO     ] 2020-03-09 02:02:06,620 Parameters: domain_right_edge         = [1.5450e+19 3.8625e+19 5.0000e-01]\n",
      "yt : [INFO     ] 2020-03-09 02:02:06,621 Parameters: cosmological_simulation   = 0.0\n"
     ]
    },
    {
     "name": "stdout",
     "output_type": "stream",
     "text": [
      "mixing_layer.out1.00815\n"
     ]
    },
    {
     "name": "stderr",
     "output_type": "stream",
     "text": [
      "yt : [WARNING  ] 2020-03-09 02:02:06,657 Assuming 1.0 = 1.0 cm\n",
      "yt : [WARNING  ] 2020-03-09 02:02:06,658 Assuming 1.0 = 1.0 s\n",
      "yt : [WARNING  ] 2020-03-09 02:02:06,659 Assuming 1.0 = 1.0 g\n",
      "yt : [WARNING  ] 2020-03-09 02:02:06,660 Assuming 1.0 = 1.0 K\n",
      "yt : [INFO     ] 2020-03-09 02:02:06,671 Parameters: current_time              = 1537344582234982.5\n",
      "yt : [INFO     ] 2020-03-09 02:02:06,672 Parameters: domain_dimensions         = [256 640   1]\n",
      "yt : [INFO     ] 2020-03-09 02:02:06,673 Parameters: domain_left_edge          = [-1.5450e+19 -3.8625e+19 -5.0000e-01]\n",
      "yt : [INFO     ] 2020-03-09 02:02:06,674 Parameters: domain_right_edge         = [1.5450e+19 3.8625e+19 5.0000e-01]\n",
      "yt : [INFO     ] 2020-03-09 02:02:06,675 Parameters: cosmological_simulation   = 0.0\n"
     ]
    },
    {
     "name": "stdout",
     "output_type": "stream",
     "text": [
      "mixing_layer.out1.00816\n"
     ]
    },
    {
     "name": "stderr",
     "output_type": "stream",
     "text": [
      "yt : [WARNING  ] 2020-03-09 02:02:06,711 Assuming 1.0 = 1.0 cm\n",
      "yt : [WARNING  ] 2020-03-09 02:02:06,713 Assuming 1.0 = 1.0 s\n",
      "yt : [WARNING  ] 2020-03-09 02:02:06,714 Assuming 1.0 = 1.0 g\n",
      "yt : [WARNING  ] 2020-03-09 02:02:06,715 Assuming 1.0 = 1.0 K\n",
      "yt : [INFO     ] 2020-03-09 02:02:06,727 Parameters: current_time              = 1539230902815792.5\n",
      "yt : [INFO     ] 2020-03-09 02:02:06,728 Parameters: domain_dimensions         = [256 640   1]\n",
      "yt : [INFO     ] 2020-03-09 02:02:06,729 Parameters: domain_left_edge          = [-1.5450e+19 -3.8625e+19 -5.0000e-01]\n",
      "yt : [INFO     ] 2020-03-09 02:02:06,730 Parameters: domain_right_edge         = [1.5450e+19 3.8625e+19 5.0000e-01]\n",
      "yt : [INFO     ] 2020-03-09 02:02:06,731 Parameters: cosmological_simulation   = 0.0\n"
     ]
    },
    {
     "name": "stdout",
     "output_type": "stream",
     "text": [
      "mixing_layer.out1.00817\n"
     ]
    },
    {
     "name": "stderr",
     "output_type": "stream",
     "text": [
      "yt : [WARNING  ] 2020-03-09 02:02:06,764 Assuming 1.0 = 1.0 cm\n",
      "yt : [WARNING  ] 2020-03-09 02:02:06,765 Assuming 1.0 = 1.0 s\n",
      "yt : [WARNING  ] 2020-03-09 02:02:06,766 Assuming 1.0 = 1.0 g\n",
      "yt : [WARNING  ] 2020-03-09 02:02:06,767 Assuming 1.0 = 1.0 K\n",
      "yt : [INFO     ] 2020-03-09 02:02:06,778 Parameters: current_time              = 1541114127483208.5\n",
      "yt : [INFO     ] 2020-03-09 02:02:06,779 Parameters: domain_dimensions         = [256 640   1]\n",
      "yt : [INFO     ] 2020-03-09 02:02:06,780 Parameters: domain_left_edge          = [-1.5450e+19 -3.8625e+19 -5.0000e-01]\n",
      "yt : [INFO     ] 2020-03-09 02:02:06,781 Parameters: domain_right_edge         = [1.5450e+19 3.8625e+19 5.0000e-01]\n",
      "yt : [INFO     ] 2020-03-09 02:02:06,782 Parameters: cosmological_simulation   = 0.0\n"
     ]
    },
    {
     "name": "stdout",
     "output_type": "stream",
     "text": [
      "mixing_layer.out1.00818\n"
     ]
    },
    {
     "name": "stderr",
     "output_type": "stream",
     "text": [
      "yt : [WARNING  ] 2020-03-09 02:02:06,822 Assuming 1.0 = 1.0 cm\n",
      "yt : [WARNING  ] 2020-03-09 02:02:06,823 Assuming 1.0 = 1.0 s\n",
      "yt : [WARNING  ] 2020-03-09 02:02:06,824 Assuming 1.0 = 1.0 g\n",
      "yt : [WARNING  ] 2020-03-09 02:02:06,825 Assuming 1.0 = 1.0 K\n",
      "yt : [INFO     ] 2020-03-09 02:02:06,837 Parameters: current_time              = 1542998481610490.0\n",
      "yt : [INFO     ] 2020-03-09 02:02:06,838 Parameters: domain_dimensions         = [256 640   1]\n",
      "yt : [INFO     ] 2020-03-09 02:02:06,839 Parameters: domain_left_edge          = [-1.5450e+19 -3.8625e+19 -5.0000e-01]\n",
      "yt : [INFO     ] 2020-03-09 02:02:06,840 Parameters: domain_right_edge         = [1.5450e+19 3.8625e+19 5.0000e-01]\n",
      "yt : [INFO     ] 2020-03-09 02:02:06,841 Parameters: cosmological_simulation   = 0.0\n"
     ]
    },
    {
     "name": "stdout",
     "output_type": "stream",
     "text": [
      "mixing_layer.out1.00819\n"
     ]
    },
    {
     "name": "stderr",
     "output_type": "stream",
     "text": [
      "yt : [WARNING  ] 2020-03-09 02:02:06,879 Assuming 1.0 = 1.0 cm\n",
      "yt : [WARNING  ] 2020-03-09 02:02:06,880 Assuming 1.0 = 1.0 s\n",
      "yt : [WARNING  ] 2020-03-09 02:02:06,881 Assuming 1.0 = 1.0 g\n",
      "yt : [WARNING  ] 2020-03-09 02:02:06,881 Assuming 1.0 = 1.0 K\n",
      "yt : [INFO     ] 2020-03-09 02:02:06,893 Parameters: current_time              = 1544881228891402.0\n",
      "yt : [INFO     ] 2020-03-09 02:02:06,894 Parameters: domain_dimensions         = [256 640   1]\n",
      "yt : [INFO     ] 2020-03-09 02:02:06,895 Parameters: domain_left_edge          = [-1.5450e+19 -3.8625e+19 -5.0000e-01]\n",
      "yt : [INFO     ] 2020-03-09 02:02:06,896 Parameters: domain_right_edge         = [1.5450e+19 3.8625e+19 5.0000e-01]\n",
      "yt : [INFO     ] 2020-03-09 02:02:06,897 Parameters: cosmological_simulation   = 0.0\n"
     ]
    },
    {
     "name": "stdout",
     "output_type": "stream",
     "text": [
      "mixing_layer.out1.00820\n"
     ]
    },
    {
     "name": "stderr",
     "output_type": "stream",
     "text": [
      "yt : [WARNING  ] 2020-03-09 02:02:06,930 Assuming 1.0 = 1.0 cm\n",
      "yt : [WARNING  ] 2020-03-09 02:02:06,931 Assuming 1.0 = 1.0 s\n",
      "yt : [WARNING  ] 2020-03-09 02:02:06,932 Assuming 1.0 = 1.0 g\n",
      "yt : [WARNING  ] 2020-03-09 02:02:06,933 Assuming 1.0 = 1.0 K\n",
      "yt : [INFO     ] 2020-03-09 02:02:06,946 Parameters: current_time              = 1546766105636400.5\n",
      "yt : [INFO     ] 2020-03-09 02:02:06,947 Parameters: domain_dimensions         = [256 640   1]\n",
      "yt : [INFO     ] 2020-03-09 02:02:06,947 Parameters: domain_left_edge          = [-1.5450e+19 -3.8625e+19 -5.0000e-01]\n",
      "yt : [INFO     ] 2020-03-09 02:02:06,948 Parameters: domain_right_edge         = [1.5450e+19 3.8625e+19 5.0000e-01]\n",
      "yt : [INFO     ] 2020-03-09 02:02:06,949 Parameters: cosmological_simulation   = 0.0\n"
     ]
    },
    {
     "name": "stdout",
     "output_type": "stream",
     "text": [
      "mixing_layer.out1.00821\n"
     ]
    },
    {
     "name": "stderr",
     "output_type": "stream",
     "text": [
      "yt : [WARNING  ] 2020-03-09 02:02:06,984 Assuming 1.0 = 1.0 cm\n",
      "yt : [WARNING  ] 2020-03-09 02:02:06,986 Assuming 1.0 = 1.0 s\n",
      "yt : [WARNING  ] 2020-03-09 02:02:06,987 Assuming 1.0 = 1.0 g\n",
      "yt : [WARNING  ] 2020-03-09 02:02:06,987 Assuming 1.0 = 1.0 K\n",
      "yt : [INFO     ] 2020-03-09 02:02:06,999 Parameters: current_time              = 1548648180091868.2\n",
      "yt : [INFO     ] 2020-03-09 02:02:07,000 Parameters: domain_dimensions         = [256 640   1]\n",
      "yt : [INFO     ] 2020-03-09 02:02:07,001 Parameters: domain_left_edge          = [-1.5450e+19 -3.8625e+19 -5.0000e-01]\n",
      "yt : [INFO     ] 2020-03-09 02:02:07,002 Parameters: domain_right_edge         = [1.5450e+19 3.8625e+19 5.0000e-01]\n",
      "yt : [INFO     ] 2020-03-09 02:02:07,003 Parameters: cosmological_simulation   = 0.0\n"
     ]
    },
    {
     "name": "stdout",
     "output_type": "stream",
     "text": [
      "mixing_layer.out1.00822\n"
     ]
    },
    {
     "name": "stderr",
     "output_type": "stream",
     "text": [
      "yt : [WARNING  ] 2020-03-09 02:02:07,039 Assuming 1.0 = 1.0 cm\n",
      "yt : [WARNING  ] 2020-03-09 02:02:07,040 Assuming 1.0 = 1.0 s\n",
      "yt : [WARNING  ] 2020-03-09 02:02:07,041 Assuming 1.0 = 1.0 g\n",
      "yt : [WARNING  ] 2020-03-09 02:02:07,042 Assuming 1.0 = 1.0 K\n",
      "yt : [INFO     ] 2020-03-09 02:02:07,054 Parameters: current_time              = 1550532267884608.5\n",
      "yt : [INFO     ] 2020-03-09 02:02:07,055 Parameters: domain_dimensions         = [256 640   1]\n",
      "yt : [INFO     ] 2020-03-09 02:02:07,055 Parameters: domain_left_edge          = [-1.5450e+19 -3.8625e+19 -5.0000e-01]\n",
      "yt : [INFO     ] 2020-03-09 02:02:07,056 Parameters: domain_right_edge         = [1.5450e+19 3.8625e+19 5.0000e-01]\n",
      "yt : [INFO     ] 2020-03-09 02:02:07,057 Parameters: cosmological_simulation   = 0.0\n"
     ]
    },
    {
     "name": "stdout",
     "output_type": "stream",
     "text": [
      "mixing_layer.out1.00823\n"
     ]
    },
    {
     "name": "stderr",
     "output_type": "stream",
     "text": [
      "yt : [WARNING  ] 2020-03-09 02:02:07,093 Assuming 1.0 = 1.0 cm\n",
      "yt : [WARNING  ] 2020-03-09 02:02:07,094 Assuming 1.0 = 1.0 s\n",
      "yt : [WARNING  ] 2020-03-09 02:02:07,095 Assuming 1.0 = 1.0 g\n",
      "yt : [WARNING  ] 2020-03-09 02:02:07,096 Assuming 1.0 = 1.0 K\n",
      "yt : [INFO     ] 2020-03-09 02:02:07,108 Parameters: current_time              = 1552416533414984.0\n",
      "yt : [INFO     ] 2020-03-09 02:02:07,109 Parameters: domain_dimensions         = [256 640   1]\n",
      "yt : [INFO     ] 2020-03-09 02:02:07,110 Parameters: domain_left_edge          = [-1.5450e+19 -3.8625e+19 -5.0000e-01]\n",
      "yt : [INFO     ] 2020-03-09 02:02:07,112 Parameters: domain_right_edge         = [1.5450e+19 3.8625e+19 5.0000e-01]\n",
      "yt : [INFO     ] 2020-03-09 02:02:07,113 Parameters: cosmological_simulation   = 0.0\n"
     ]
    },
    {
     "name": "stdout",
     "output_type": "stream",
     "text": [
      "mixing_layer.out1.00824\n"
     ]
    },
    {
     "name": "stderr",
     "output_type": "stream",
     "text": [
      "yt : [WARNING  ] 2020-03-09 02:02:07,146 Assuming 1.0 = 1.0 cm\n",
      "yt : [WARNING  ] 2020-03-09 02:02:07,147 Assuming 1.0 = 1.0 s\n",
      "yt : [WARNING  ] 2020-03-09 02:02:07,148 Assuming 1.0 = 1.0 g\n",
      "yt : [WARNING  ] 2020-03-09 02:02:07,149 Assuming 1.0 = 1.0 K\n",
      "yt : [INFO     ] 2020-03-09 02:02:07,161 Parameters: current_time              = 1554300169135750.8\n",
      "yt : [INFO     ] 2020-03-09 02:02:07,162 Parameters: domain_dimensions         = [256 640   1]\n",
      "yt : [INFO     ] 2020-03-09 02:02:07,163 Parameters: domain_left_edge          = [-1.5450e+19 -3.8625e+19 -5.0000e-01]\n",
      "yt : [INFO     ] 2020-03-09 02:02:07,163 Parameters: domain_right_edge         = [1.5450e+19 3.8625e+19 5.0000e-01]\n",
      "yt : [INFO     ] 2020-03-09 02:02:07,164 Parameters: cosmological_simulation   = 0.0\n"
     ]
    },
    {
     "name": "stdout",
     "output_type": "stream",
     "text": [
      "mixing_layer.out1.00825\n"
     ]
    },
    {
     "name": "stderr",
     "output_type": "stream",
     "text": [
      "yt : [WARNING  ] 2020-03-09 02:02:07,203 Assuming 1.0 = 1.0 cm\n",
      "yt : [WARNING  ] 2020-03-09 02:02:07,204 Assuming 1.0 = 1.0 s\n",
      "yt : [WARNING  ] 2020-03-09 02:02:07,205 Assuming 1.0 = 1.0 g\n",
      "yt : [WARNING  ] 2020-03-09 02:02:07,206 Assuming 1.0 = 1.0 K\n",
      "yt : [INFO     ] 2020-03-09 02:02:07,218 Parameters: current_time              = 1556185974180766.5\n",
      "yt : [INFO     ] 2020-03-09 02:02:07,219 Parameters: domain_dimensions         = [256 640   1]\n",
      "yt : [INFO     ] 2020-03-09 02:02:07,220 Parameters: domain_left_edge          = [-1.5450e+19 -3.8625e+19 -5.0000e-01]\n",
      "yt : [INFO     ] 2020-03-09 02:02:07,221 Parameters: domain_right_edge         = [1.5450e+19 3.8625e+19 5.0000e-01]\n",
      "yt : [INFO     ] 2020-03-09 02:02:07,222 Parameters: cosmological_simulation   = 0.0\n"
     ]
    },
    {
     "name": "stdout",
     "output_type": "stream",
     "text": [
      "mixing_layer.out1.00826\n"
     ]
    },
    {
     "name": "stderr",
     "output_type": "stream",
     "text": [
      "yt : [WARNING  ] 2020-03-09 02:02:07,258 Assuming 1.0 = 1.0 cm\n",
      "yt : [WARNING  ] 2020-03-09 02:02:07,259 Assuming 1.0 = 1.0 s\n",
      "yt : [WARNING  ] 2020-03-09 02:02:07,260 Assuming 1.0 = 1.0 g\n",
      "yt : [WARNING  ] 2020-03-09 02:02:07,261 Assuming 1.0 = 1.0 K\n",
      "yt : [INFO     ] 2020-03-09 02:02:07,274 Parameters: current_time              = 1558069559357091.8\n",
      "yt : [INFO     ] 2020-03-09 02:02:07,275 Parameters: domain_dimensions         = [256 640   1]\n",
      "yt : [INFO     ] 2020-03-09 02:02:07,276 Parameters: domain_left_edge          = [-1.5450e+19 -3.8625e+19 -5.0000e-01]\n",
      "yt : [INFO     ] 2020-03-09 02:02:07,277 Parameters: domain_right_edge         = [1.5450e+19 3.8625e+19 5.0000e-01]\n",
      "yt : [INFO     ] 2020-03-09 02:02:07,278 Parameters: cosmological_simulation   = 0.0\n"
     ]
    },
    {
     "name": "stdout",
     "output_type": "stream",
     "text": [
      "mixing_layer.out1.00827\n"
     ]
    },
    {
     "name": "stderr",
     "output_type": "stream",
     "text": [
      "yt : [WARNING  ] 2020-03-09 02:02:07,314 Assuming 1.0 = 1.0 cm\n",
      "yt : [WARNING  ] 2020-03-09 02:02:07,315 Assuming 1.0 = 1.0 s\n",
      "yt : [WARNING  ] 2020-03-09 02:02:07,316 Assuming 1.0 = 1.0 g\n",
      "yt : [WARNING  ] 2020-03-09 02:02:07,318 Assuming 1.0 = 1.0 K\n",
      "yt : [INFO     ] 2020-03-09 02:02:07,332 Parameters: current_time              = 1559953510554062.2\n",
      "yt : [INFO     ] 2020-03-09 02:02:07,332 Parameters: domain_dimensions         = [256 640   1]\n",
      "yt : [INFO     ] 2020-03-09 02:02:07,333 Parameters: domain_left_edge          = [-1.5450e+19 -3.8625e+19 -5.0000e-01]\n",
      "yt : [INFO     ] 2020-03-09 02:02:07,334 Parameters: domain_right_edge         = [1.5450e+19 3.8625e+19 5.0000e-01]\n",
      "yt : [INFO     ] 2020-03-09 02:02:07,335 Parameters: cosmological_simulation   = 0.0\n"
     ]
    },
    {
     "name": "stdout",
     "output_type": "stream",
     "text": [
      "mixing_layer.out1.00828\n"
     ]
    },
    {
     "name": "stderr",
     "output_type": "stream",
     "text": [
      "yt : [WARNING  ] 2020-03-09 02:02:07,371 Assuming 1.0 = 1.0 cm\n",
      "yt : [WARNING  ] 2020-03-09 02:02:07,372 Assuming 1.0 = 1.0 s\n",
      "yt : [WARNING  ] 2020-03-09 02:02:07,373 Assuming 1.0 = 1.0 g\n",
      "yt : [WARNING  ] 2020-03-09 02:02:07,374 Assuming 1.0 = 1.0 K\n",
      "yt : [INFO     ] 2020-03-09 02:02:07,385 Parameters: current_time              = 1561837458664547.8\n",
      "yt : [INFO     ] 2020-03-09 02:02:07,386 Parameters: domain_dimensions         = [256 640   1]\n",
      "yt : [INFO     ] 2020-03-09 02:02:07,386 Parameters: domain_left_edge          = [-1.5450e+19 -3.8625e+19 -5.0000e-01]\n",
      "yt : [INFO     ] 2020-03-09 02:02:07,387 Parameters: domain_right_edge         = [1.5450e+19 3.8625e+19 5.0000e-01]\n",
      "yt : [INFO     ] 2020-03-09 02:02:07,388 Parameters: cosmological_simulation   = 0.0\n"
     ]
    },
    {
     "name": "stdout",
     "output_type": "stream",
     "text": [
      "mixing_layer.out1.00829\n"
     ]
    },
    {
     "name": "stderr",
     "output_type": "stream",
     "text": [
      "yt : [WARNING  ] 2020-03-09 02:02:07,425 Assuming 1.0 = 1.0 cm\n",
      "yt : [WARNING  ] 2020-03-09 02:02:07,427 Assuming 1.0 = 1.0 s\n",
      "yt : [WARNING  ] 2020-03-09 02:02:07,427 Assuming 1.0 = 1.0 g\n",
      "yt : [WARNING  ] 2020-03-09 02:02:07,429 Assuming 1.0 = 1.0 K\n",
      "yt : [INFO     ] 2020-03-09 02:02:07,440 Parameters: current_time              = 1563720970557947.2\n",
      "yt : [INFO     ] 2020-03-09 02:02:07,441 Parameters: domain_dimensions         = [256 640   1]\n",
      "yt : [INFO     ] 2020-03-09 02:02:07,443 Parameters: domain_left_edge          = [-1.5450e+19 -3.8625e+19 -5.0000e-01]\n",
      "yt : [INFO     ] 2020-03-09 02:02:07,444 Parameters: domain_right_edge         = [1.5450e+19 3.8625e+19 5.0000e-01]\n",
      "yt : [INFO     ] 2020-03-09 02:02:07,445 Parameters: cosmological_simulation   = 0.0\n"
     ]
    },
    {
     "name": "stdout",
     "output_type": "stream",
     "text": [
      "mixing_layer.out1.00830\n"
     ]
    },
    {
     "name": "stderr",
     "output_type": "stream",
     "text": [
      "yt : [WARNING  ] 2020-03-09 02:02:07,480 Assuming 1.0 = 1.0 cm\n",
      "yt : [WARNING  ] 2020-03-09 02:02:07,481 Assuming 1.0 = 1.0 s\n",
      "yt : [WARNING  ] 2020-03-09 02:02:07,482 Assuming 1.0 = 1.0 g\n",
      "yt : [WARNING  ] 2020-03-09 02:02:07,482 Assuming 1.0 = 1.0 K\n",
      "yt : [INFO     ] 2020-03-09 02:02:07,495 Parameters: current_time              = 1565604881317622.5\n",
      "yt : [INFO     ] 2020-03-09 02:02:07,495 Parameters: domain_dimensions         = [256 640   1]\n",
      "yt : [INFO     ] 2020-03-09 02:02:07,496 Parameters: domain_left_edge          = [-1.5450e+19 -3.8625e+19 -5.0000e-01]\n",
      "yt : [INFO     ] 2020-03-09 02:02:07,497 Parameters: domain_right_edge         = [1.5450e+19 3.8625e+19 5.0000e-01]\n",
      "yt : [INFO     ] 2020-03-09 02:02:07,497 Parameters: cosmological_simulation   = 0.0\n"
     ]
    },
    {
     "name": "stdout",
     "output_type": "stream",
     "text": [
      "mixing_layer.out1.00831\n"
     ]
    },
    {
     "name": "stderr",
     "output_type": "stream",
     "text": [
      "yt : [WARNING  ] 2020-03-09 02:02:07,535 Assuming 1.0 = 1.0 cm\n",
      "yt : [WARNING  ] 2020-03-09 02:02:07,536 Assuming 1.0 = 1.0 s\n",
      "yt : [WARNING  ] 2020-03-09 02:02:07,537 Assuming 1.0 = 1.0 g\n",
      "yt : [WARNING  ] 2020-03-09 02:02:07,538 Assuming 1.0 = 1.0 K\n",
      "yt : [INFO     ] 2020-03-09 02:02:07,549 Parameters: current_time              = 1567489507060791.5\n",
      "yt : [INFO     ] 2020-03-09 02:02:07,550 Parameters: domain_dimensions         = [256 640   1]\n",
      "yt : [INFO     ] 2020-03-09 02:02:07,551 Parameters: domain_left_edge          = [-1.5450e+19 -3.8625e+19 -5.0000e-01]\n",
      "yt : [INFO     ] 2020-03-09 02:02:07,552 Parameters: domain_right_edge         = [1.5450e+19 3.8625e+19 5.0000e-01]\n",
      "yt : [INFO     ] 2020-03-09 02:02:07,553 Parameters: cosmological_simulation   = 0.0\n"
     ]
    },
    {
     "name": "stdout",
     "output_type": "stream",
     "text": [
      "mixing_layer.out1.00832\n"
     ]
    },
    {
     "name": "stderr",
     "output_type": "stream",
     "text": [
      "yt : [WARNING  ] 2020-03-09 02:02:07,588 Assuming 1.0 = 1.0 cm\n",
      "yt : [WARNING  ] 2020-03-09 02:02:07,589 Assuming 1.0 = 1.0 s\n",
      "yt : [WARNING  ] 2020-03-09 02:02:07,590 Assuming 1.0 = 1.0 g\n",
      "yt : [WARNING  ] 2020-03-09 02:02:07,590 Assuming 1.0 = 1.0 K\n",
      "yt : [INFO     ] 2020-03-09 02:02:07,603 Parameters: current_time              = 1569374252284689.8\n",
      "yt : [INFO     ] 2020-03-09 02:02:07,604 Parameters: domain_dimensions         = [256 640   1]\n",
      "yt : [INFO     ] 2020-03-09 02:02:07,605 Parameters: domain_left_edge          = [-1.5450e+19 -3.8625e+19 -5.0000e-01]\n",
      "yt : [INFO     ] 2020-03-09 02:02:07,605 Parameters: domain_right_edge         = [1.5450e+19 3.8625e+19 5.0000e-01]\n",
      "yt : [INFO     ] 2020-03-09 02:02:07,606 Parameters: cosmological_simulation   = 0.0\n"
     ]
    },
    {
     "name": "stdout",
     "output_type": "stream",
     "text": [
      "mixing_layer.out1.00833\n"
     ]
    },
    {
     "name": "stderr",
     "output_type": "stream",
     "text": [
      "yt : [WARNING  ] 2020-03-09 02:02:07,646 Assuming 1.0 = 1.0 cm\n",
      "yt : [WARNING  ] 2020-03-09 02:02:07,648 Assuming 1.0 = 1.0 s\n",
      "yt : [WARNING  ] 2020-03-09 02:02:07,649 Assuming 1.0 = 1.0 g\n",
      "yt : [WARNING  ] 2020-03-09 02:02:07,650 Assuming 1.0 = 1.0 K\n",
      "yt : [INFO     ] 2020-03-09 02:02:07,661 Parameters: current_time              = 1571258232418260.8\n",
      "yt : [INFO     ] 2020-03-09 02:02:07,661 Parameters: domain_dimensions         = [256 640   1]\n",
      "yt : [INFO     ] 2020-03-09 02:02:07,662 Parameters: domain_left_edge          = [-1.5450e+19 -3.8625e+19 -5.0000e-01]\n",
      "yt : [INFO     ] 2020-03-09 02:02:07,663 Parameters: domain_right_edge         = [1.5450e+19 3.8625e+19 5.0000e-01]\n",
      "yt : [INFO     ] 2020-03-09 02:02:07,664 Parameters: cosmological_simulation   = 0.0\n"
     ]
    },
    {
     "name": "stdout",
     "output_type": "stream",
     "text": [
      "mixing_layer.out1.00834\n"
     ]
    },
    {
     "name": "stderr",
     "output_type": "stream",
     "text": [
      "yt : [WARNING  ] 2020-03-09 02:02:07,700 Assuming 1.0 = 1.0 cm\n",
      "yt : [WARNING  ] 2020-03-09 02:02:07,701 Assuming 1.0 = 1.0 s\n",
      "yt : [WARNING  ] 2020-03-09 02:02:07,702 Assuming 1.0 = 1.0 g\n",
      "yt : [WARNING  ] 2020-03-09 02:02:07,703 Assuming 1.0 = 1.0 K\n",
      "yt : [INFO     ] 2020-03-09 02:02:07,718 Parameters: current_time              = 1573141192432032.0\n",
      "yt : [INFO     ] 2020-03-09 02:02:07,719 Parameters: domain_dimensions         = [256 640   1]\n",
      "yt : [INFO     ] 2020-03-09 02:02:07,720 Parameters: domain_left_edge          = [-1.5450e+19 -3.8625e+19 -5.0000e-01]\n",
      "yt : [INFO     ] 2020-03-09 02:02:07,721 Parameters: domain_right_edge         = [1.5450e+19 3.8625e+19 5.0000e-01]\n",
      "yt : [INFO     ] 2020-03-09 02:02:07,722 Parameters: cosmological_simulation   = 0.0\n"
     ]
    },
    {
     "name": "stdout",
     "output_type": "stream",
     "text": [
      "mixing_layer.out1.00835\n"
     ]
    },
    {
     "name": "stderr",
     "output_type": "stream",
     "text": [
      "yt : [WARNING  ] 2020-03-09 02:02:07,759 Assuming 1.0 = 1.0 cm\n",
      "yt : [WARNING  ] 2020-03-09 02:02:07,760 Assuming 1.0 = 1.0 s\n",
      "yt : [WARNING  ] 2020-03-09 02:02:07,761 Assuming 1.0 = 1.0 g\n",
      "yt : [WARNING  ] 2020-03-09 02:02:07,762 Assuming 1.0 = 1.0 K\n",
      "yt : [INFO     ] 2020-03-09 02:02:07,773 Parameters: current_time              = 1575024975426743.5\n",
      "yt : [INFO     ] 2020-03-09 02:02:07,774 Parameters: domain_dimensions         = [256 640   1]\n",
      "yt : [INFO     ] 2020-03-09 02:02:07,775 Parameters: domain_left_edge          = [-1.5450e+19 -3.8625e+19 -5.0000e-01]\n",
      "yt : [INFO     ] 2020-03-09 02:02:07,776 Parameters: domain_right_edge         = [1.5450e+19 3.8625e+19 5.0000e-01]\n",
      "yt : [INFO     ] 2020-03-09 02:02:07,776 Parameters: cosmological_simulation   = 0.0\n"
     ]
    },
    {
     "name": "stdout",
     "output_type": "stream",
     "text": [
      "mixing_layer.out1.00836\n"
     ]
    },
    {
     "name": "stderr",
     "output_type": "stream",
     "text": [
      "yt : [WARNING  ] 2020-03-09 02:02:07,812 Assuming 1.0 = 1.0 cm\n",
      "yt : [WARNING  ] 2020-03-09 02:02:07,813 Assuming 1.0 = 1.0 s\n",
      "yt : [WARNING  ] 2020-03-09 02:02:07,814 Assuming 1.0 = 1.0 g\n",
      "yt : [WARNING  ] 2020-03-09 02:02:07,814 Assuming 1.0 = 1.0 K\n",
      "yt : [INFO     ] 2020-03-09 02:02:07,826 Parameters: current_time              = 1576800000000000.0\n",
      "yt : [INFO     ] 2020-03-09 02:02:07,827 Parameters: domain_dimensions         = [256 640   1]\n",
      "yt : [INFO     ] 2020-03-09 02:02:07,827 Parameters: domain_left_edge          = [-1.5450e+19 -3.8625e+19 -5.0000e-01]\n",
      "yt : [INFO     ] 2020-03-09 02:02:07,828 Parameters: domain_right_edge         = [1.5450e+19 3.8625e+19 5.0000e-01]\n",
      "yt : [INFO     ] 2020-03-09 02:02:07,829 Parameters: cosmological_simulation   = 0.0\n"
     ]
    },
    {
     "name": "stdout",
     "output_type": "stream",
     "text": [
      "mixing_layer.out1.00837\n"
     ]
    }
   ],
   "source": [
    "ds_all = [] #create empty array\n",
    "for i, file in enumerate(alldatafiles): #enumerate through all files in alldatafiles array\n",
    "    ytobj = yt.load(file) #load each file using yt.load\n",
    "    ds_all.append(ytobj) #append data set to ds_all array\n",
    "    print(ds_all[i])"
   ]
  },
  {
   "cell_type": "markdown",
   "metadata": {},
   "source": [
    "### Showing all of the Variables available"
   ]
  },
  {
   "cell_type": "code",
   "execution_count": 19,
   "metadata": {},
   "outputs": [
    {
     "data": {
      "text/plain": [
       "[('athena_pp', 'Mass Density'),\n",
       " ('athena_pp', 'Momentum X'),\n",
       " ('athena_pp', 'Momentum Y'),\n",
       " ('athena_pp', 'Momentum Z'),\n",
       " ('athena_pp', 'Pressure'),\n",
       " ('athena_pp', 'Temperature'),\n",
       " ('athena_pp', 'cell_volume'),\n",
       " ('athena_pp', 'dx'),\n",
       " ('athena_pp', 'dy'),\n",
       " ('athena_pp', 'dz'),\n",
       " ('athena_pp', 'path_element_x'),\n",
       " ('athena_pp', 'path_element_y'),\n",
       " ('athena_pp', 'path_element_z'),\n",
       " ('athena_pp', 'vertex_x'),\n",
       " ('athena_pp', 'vertex_y'),\n",
       " ('athena_pp', 'vertex_z'),\n",
       " ('athena_pp', 'x'),\n",
       " ('athena_pp', 'y'),\n",
       " ('athena_pp', 'z'),\n",
       " ('gas', 'cell_volume'),\n",
       " ('gas', 'dx'),\n",
       " ('gas', 'dy'),\n",
       " ('gas', 'dz'),\n",
       " ('gas', 'path_element_x'),\n",
       " ('gas', 'path_element_y'),\n",
       " ('gas', 'path_element_z'),\n",
       " ('gas', 'vertex_x'),\n",
       " ('gas', 'vertex_y'),\n",
       " ('gas', 'vertex_z'),\n",
       " ('gas', 'x'),\n",
       " ('gas', 'y'),\n",
       " ('gas', 'z'),\n",
       " ('index', 'cell_volume'),\n",
       " ('index', 'cylindrical_r'),\n",
       " ('index', 'cylindrical_radius'),\n",
       " ('index', 'cylindrical_theta'),\n",
       " ('index', 'cylindrical_z'),\n",
       " ('index', 'disk_angle'),\n",
       " ('index', 'dx'),\n",
       " ('index', 'dy'),\n",
       " ('index', 'dz'),\n",
       " ('index', 'grid_indices'),\n",
       " ('index', 'grid_level'),\n",
       " ('index', 'height'),\n",
       " ('index', 'ones'),\n",
       " ('index', 'ones_over_dx'),\n",
       " ('index', 'path_element_x'),\n",
       " ('index', 'path_element_y'),\n",
       " ('index', 'path_element_z'),\n",
       " ('index', 'radius'),\n",
       " ('index', 'spherical_phi'),\n",
       " ('index', 'spherical_r'),\n",
       " ('index', 'spherical_radius'),\n",
       " ('index', 'spherical_theta'),\n",
       " ('index', 'vertex_x'),\n",
       " ('index', 'vertex_y'),\n",
       " ('index', 'vertex_z'),\n",
       " ('index', 'virial_radius_fraction'),\n",
       " ('index', 'x'),\n",
       " ('index', 'y'),\n",
       " ('index', 'z'),\n",
       " ('index', 'zeros')]"
      ]
     },
     "execution_count": 19,
     "metadata": {},
     "output_type": "execute_result"
    }
   ],
   "source": [
    "ds_all[837].derived_field_list"
   ]
  },
  {
   "cell_type": "code",
   "execution_count": 17,
   "metadata": {},
   "outputs": [
    {
     "name": "stdout",
     "output_type": "stream",
     "text": [
      "838\n"
     ]
    }
   ],
   "source": [
    "print(len(ds_all))"
   ]
  },
  {
   "cell_type": "markdown",
   "metadata": {},
   "source": [
    "### Testing putting the temperature in an array"
   ]
  },
  {
   "cell_type": "code",
   "execution_count": 28,
   "metadata": {},
   "outputs": [
    {
     "name": "stdout",
     "output_type": "stream",
     "text": [
      "[950250.48035835 950211.53422699 950415.52660293 ...   9074.57643858\n",
      "   9077.51527604   9069.92022558] dimensionless\n"
     ]
    },
    {
     "data": {
      "text/plain": [
       "163840"
      ]
     },
     "execution_count": 28,
     "metadata": {},
     "output_type": "execute_result"
    }
   ],
   "source": [
    "temp_837 = ds_all[837].r['Temperature']\n",
    "print(temp_837)\n",
    "len(temp_837)"
   ]
  },
  {
   "cell_type": "markdown",
   "metadata": {},
   "source": [
    "### Plotting the range of the temperature at time = 0"
   ]
  },
  {
   "cell_type": "markdown",
   "metadata": {},
   "source": [
    "#### Volume Weighted"
   ]
  },
  {
   "cell_type": "code",
   "execution_count": 36,
   "metadata": {},
   "outputs": [
    {
     "data": {
      "image/png": "[encoded data removed]",
      "text/plain": [
       "<Figure size 432x288 with 1 Axes>"
      ]
     },
     "metadata": {
      "needs_background": "light"
     },
     "output_type": "display_data"
    }
   ],
   "source": [
    "%matplotlib inline\n",
    "plt.hist(ds_all[0].r['Temperature'], weights = ds_all[0].r['cell_volume'])\n",
    "plt.show()"
   ]
  },
  {
   "cell_type": "markdown",
   "metadata": {},
   "source": [
    "#### Mass Weighted"
   ]
  },
  {
   "cell_type": "code",
   "execution_count": 37,
   "metadata": {},
   "outputs": [
    {
     "data": {
      "image/png": "[encoded data removed]",
      "text/plain": [
       "<Figure size 432x288 with 1 Axes>"
      ]
     },
     "metadata": {
      "needs_background": "light"
     },
     "output_type": "display_data"
    }
   ],
   "source": [
    "%matplotlib inline\n",
    "plt.hist(ds_all[0].r['Temperature'], weights = ds_all[0].r['Mass Density'])\n",
    "plt.show()"
   ]
  },
  {
   "cell_type": "markdown",
   "metadata": {},
   "source": [
    "### Plotting the range of the temperature at time = 837"
   ]
  },
  {
   "cell_type": "markdown",
   "metadata": {},
   "source": [
    "#### Volume Weighted"
   ]
  },
  {
   "cell_type": "code",
   "execution_count": 38,
   "metadata": {},
   "outputs": [
    {
     "data": {
      "image/png": "[encoded data removed]",
      "text/plain": [
       "<Figure size 432x288 with 1 Axes>"
      ]
     },
     "metadata": {
      "needs_background": "light"
     },
     "output_type": "display_data"
    }
   ],
   "source": [
    "%matplotlib inline\n",
    "plt.hist(ds_all[837].r['Temperature'], weights = ds_all[837].r['cell_volume'])\n",
    "plt.show()"
   ]
  },
  {
   "cell_type": "markdown",
   "metadata": {},
   "source": [
    "#### Mass Weighted"
   ]
  },
  {
   "cell_type": "code",
   "execution_count": 39,
   "metadata": {},
   "outputs": [
    {
     "data": {
      "image/png": "[encoded data removed]",
      "text/plain": [
       "<Figure size 432x288 with 1 Axes>"
      ]
     },
     "metadata": {
      "needs_background": "light"
     },
     "output_type": "display_data"
    }
   ],
   "source": [
    "%matplotlib inline\n",
    "plt.hist(ds_all[837].r['Temperature'], weights = ds_all[837].r['Mass Density'])\n",
    "plt.show()"
   ]
  },
  {
   "cell_type": "code",
   "execution_count": null,
   "metadata": {},
   "outputs": [],
   "source": []
  }
 ],
 "metadata": {
  "kernelspec": {
   "display_name": "Python 3",
   "language": "python",
   "name": "python3"
  },
  "language_info": {
   "codemirror_mode": {
    "name": "ipython",
    "version": 3
   },
   "file_extension": ".py",
   "mimetype": "text/x-python",
   "name": "python",
   "nbconvert_exporter": "python",
   "pygments_lexer": "ipython3",
   "version": "3.7.3"
  }
 },
 "nbformat": 4,
 "nbformat_minor": 4
}
